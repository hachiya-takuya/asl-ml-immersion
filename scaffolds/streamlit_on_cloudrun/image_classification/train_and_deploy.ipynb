{
 "cells": [
  {
   "cell_type": "code",
   "execution_count": null,
   "id": "13f24596-e86b-4d18-8c60-12b973c3720c",
   "metadata": {
    "tags": []
   },
   "outputs": [],
   "source": [
    "import os\n",
    "import warnings\n",
    "\n",
    "os.environ[\"TF_CPP_MIN_LOG_LEVEL\"] = \"2\"\n",
    "warnings.filterwarnings(\"ignore\")"
   ]
  },
  {
   "cell_type": "code",
   "execution_count": null,
   "id": "adbfdb0c-2462-4b1b-8059-4ad82d6ecaeb",
   "metadata": {
    "tags": []
   },
   "outputs": [],
   "source": [
    "import base64\n",
    "import json\n",
    "import shutil\n",
    "from datetime import datetime\n",
    "\n",
    "import matplotlib.pyplot as plt\n",
    "import numpy as np\n",
    "import pandas as pd\n",
    "import requests\n",
    "import tensorflow as tf\n",
    "import tensorflow_hub as hub\n",
    "from google.cloud import aiplatform\n",
    "from oauth2client.client import GoogleCredentials"
   ]
  },
  {
   "cell_type": "code",
   "execution_count": null,
   "id": "5ad47080-ad70-4a5d-a1c3-72a5ea72b841",
   "metadata": {
    "tags": []
   },
   "outputs": [],
   "source": [
    "PROJECT = !(gcloud config get-value core/project)\n",
    "PROJECT = PROJECT[0]\n",
    "BUCKET = PROJECT + \"-flowers\"\n",
    "FILE_DIR = f\"gs://{BUCKET}/data\"\n",
    "REGION = \"us-central1\"\n",
    "\n",
    "os.environ[\"PROJECT\"] = PROJECT\n",
    "os.environ[\"REGION\"] = REGION\n",
    "\n",
    "CLASSES = [\"daisy\", \"dandelion\", \"roses\", \"sunflowers\", \"tulips\"]\n",
    "\n",
    "IMG_HEIGHT = 224\n",
    "IMG_WIDTH = 224\n",
    "IMG_CHANNELS = 3\n",
    "\n",
    "BATCH_SIZE = 32"
   ]
  },
  {
   "cell_type": "code",
   "execution_count": null,
   "id": "26d79872-0f6a-4da1-9f48-e6c2b9ceb1db",
   "metadata": {},
   "outputs": [],
   "source": [
    "# !gsutil mb gs://{BUCKET}\n",
    "# !gsutil cp gs://asl-public/data/flowers/tfrecords/* {FILE_DIR}"
   ]
  },
  {
   "cell_type": "code",
   "execution_count": null,
   "id": "1b7e7dfe-a6a4-4afa-a884-1a336d51cf10",
   "metadata": {
    "tags": []
   },
   "outputs": [],
   "source": [
    "!gsutil ls {FILE_DIR}"
   ]
  },
  {
   "cell_type": "code",
   "execution_count": null,
   "id": "991066f4-a7c5-43f9-ab5d-f7a6122153f7",
   "metadata": {
    "tags": []
   },
   "outputs": [],
   "source": [
    "TRAIN_PATTERN = FILE_DIR + \"/train*\"\n",
    "EVAL_PATTERN = FILE_DIR + \"/eval*\"\n",
    "\n",
    "\n",
    "def parse_example(example):\n",
    "    feature_description = {\n",
    "        \"image\": tf.io.FixedLenFeature([], tf.string),\n",
    "        \"label\": tf.io.FixedLenFeature([], tf.int64),\n",
    "    }\n",
    "    example = tf.io.parse_single_example(example, feature_description)\n",
    "    example[\"image\"] = tf.io.decode_jpeg(example[\"image\"], channels=3)\n",
    "    example[\"image\"] = tf.image.resize(\n",
    "        example[\"image\"], [IMG_HEIGHT, IMG_WIDTH]\n",
    "    )\n",
    "    example[\"image\"] = example[\"image\"] / 255\n",
    "    return example[\"image\"], example[\"label\"]\n",
    "\n",
    "\n",
    "train_ds = (\n",
    "    tf.data.TFRecordDataset(tf.io.gfile.glob(TRAIN_PATTERN))\n",
    "    .map(parse_example)\n",
    "    .batch(BATCH_SIZE)\n",
    ")\n",
    "eval_ds = (\n",
    "    tf.data.TFRecordDataset(tf.io.gfile.glob(EVAL_PATTERN))\n",
    "    .map(parse_example)\n",
    "    .batch(10)\n",
    ")"
   ]
  },
  {
   "cell_type": "code",
   "execution_count": null,
   "id": "0ed44e32-0bfe-4bac-aa2d-ed11037cbac2",
   "metadata": {
    "tags": []
   },
   "outputs": [],
   "source": [
    "module_selection = \"mobilenet_v2_100_224\"\n",
    "module_handle = \"https://tfhub.dev/google/imagenet/{}/feature_vector/4\".format(\n",
    "    module_selection\n",
    ")\n",
    "\n",
    "transfer_model = tf.keras.Sequential(\n",
    "    [\n",
    "        hub.KerasLayer(module_handle, trainable=True),\n",
    "        tf.keras.layers.Dropout(rate=0.2),\n",
    "        tf.keras.layers.Dense(\n",
    "            len(CLASSES),\n",
    "            activation=\"softmax\",\n",
    "            kernel_regularizer=tf.keras.regularizers.l2(0.0001),\n",
    "        ),\n",
    "    ]\n",
    ")\n",
    "\n",
    "transfer_model.compile(\n",
    "    optimizer=\"adam\",\n",
    "    loss=\"sparse_categorical_crossentropy\",\n",
    "    metrics=[\"accuracy\"],\n",
    ")"
   ]
  },
  {
   "cell_type": "code",
   "execution_count": null,
   "id": "7c678e44-d4fb-4ccf-9921-eba43ad88f15",
   "metadata": {
    "tags": []
   },
   "outputs": [],
   "source": [
    "transfer_model.fit(\n",
    "    train_ds,\n",
    "    epochs=5,\n",
    "    validation_data=eval_ds,\n",
    ")"
   ]
  },
  {
   "cell_type": "code",
   "execution_count": null,
   "id": "df1aad20-f834-4d5a-969a-6690e71df3a0",
   "metadata": {
    "tags": []
   },
   "outputs": [],
   "source": [
    "shutil.rmtree(\"export\", ignore_errors=True)\n",
    "os.mkdir(\"export\")\n",
    "transfer_model.save(\"export/flowers_model\")"
   ]
  },
  {
   "cell_type": "code",
   "execution_count": null,
   "id": "13aaeee0-2563-487c-95ab-4ebb4d94c9e6",
   "metadata": {
    "tags": []
   },
   "outputs": [],
   "source": [
    "!ls export/flowers_model"
   ]
  },
  {
   "cell_type": "markdown",
   "id": "e42c4033-a7c3-41b5-991b-3fbee6a37583",
   "metadata": {},
   "source": [
    "---"
   ]
  },
  {
   "cell_type": "markdown",
   "id": "a1a8b040-a64a-4925-bd96-123185f4c66f",
   "metadata": {},
   "source": [
    "## Build a streamlit application"
   ]
  },
  {
   "cell_type": "markdown",
   "id": "a441f6b6-bca9-4aad-95f9-84a53fc2119a",
   "metadata": {},
   "source": [
    "### Streamlit app file"
   ]
  },
  {
   "cell_type": "code",
   "execution_count": null,
   "id": "2faaa4f9-7c12-4d59-bb00-d78afd65aecf",
   "metadata": {
    "tags": []
   },
   "outputs": [],
   "source": [
    "%%writefile app.py\n",
    "import streamlit as st\n",
    "import tensorflow as tf\n",
    "import numpy as np\n",
    "from tensorflow.keras.models import load_model\n",
    "\n",
    "st.set_page_config(page_title='5-Flower Classifier', page_icon='🌷')\n",
    "\n",
    "st.title('5-Flower Classifier')\n",
    "\n",
    "st.markdown(\"Welcome to this simple web application that classifies 5 flowers (daisy, dandelion, roses, sunflowers, tulips).\")\n",
    "\n",
    "IMG_HEIGHT = 224\n",
    "IMG_WIDTH = 224\n",
    "IMG_CHANNELS = 3\n",
    "CLASSES = [\"daisy\", \"dandelion\", \"roses\", \"sunflowers\", \"tulips\"]\n",
    "\n",
    "# Cache model so the app doesn't need to load the model from the second prediction.\n",
    "@st.cache_resource(show_spinner=False)\n",
    "def load_and_cache_model():\n",
    "    model_path = \"flowers_model\"\n",
    "    model = load_model(model_path)\n",
    "    return model\n",
    "\n",
    "\n",
    "def read_image(img_bytes):\n",
    "    img = tf.image.decode_jpeg(img_bytes, channels=IMG_CHANNELS)\n",
    "    img = tf.image.convert_image_dtype(img, tf.float32)\n",
    "    return img\n",
    "\n",
    "\n",
    "def predict(model, image):\n",
    "    image = tf.image.resize(image, [IMG_HEIGHT, IMG_WIDTH])\n",
    "    image = np.expand_dims(image, axis=0)\n",
    "    predictions = model.predict(image)\n",
    "    pred_index = np.argmax(predictions[0])\n",
    "    return predictions[0][pred_index], CLASSES[pred_index]\n",
    "\n",
    "\n",
    "def main():\n",
    "    file_uploaded = st.file_uploader(\"Choose File\", type=[\"png\",\"jpg\",\"jpeg\"])\n",
    "    if file_uploaded is not None:\n",
    "        image = read_image(file_uploaded.read())\n",
    "        st.image(image.numpy(), caption='Uploaded Image', use_column_width=True)\n",
    "        class_btn = st.button(\"Classify\")\n",
    "        if class_btn:\n",
    "            with st.spinner('Model predicting....'):\n",
    "                global model\n",
    "                model = load_and_cache_model()\n",
    "                prob, prediction = predict(model, image)\n",
    "                st.success(f\"Prediction: {prediction} - {prob:.2%}\")\n",
    "\n",
    "\n",
    "if __name__ == \"__main__\":\n",
    "    main()"
   ]
  },
  {
   "cell_type": "markdown",
   "id": "7a1c0808-5299-4527-9df5-1492beb7d9d5",
   "metadata": {},
   "source": [
    "### Define Dockerfile and dependencies"
   ]
  },
  {
   "cell_type": "code",
   "execution_count": null,
   "id": "dda5418e-937e-4c34-9996-3e96f51bf332",
   "metadata": {},
   "outputs": [],
   "source": [
    "%%writefile requirements.txt\n",
    "tensorflow==2.12.0\n",
    "numpy==1.23.5\n",
    "streamlit==1.29.0"
   ]
  },
  {
   "cell_type": "code",
   "execution_count": null,
   "id": "e8c4c8a7-7f63-450d-8301-4fa4af53ca2e",
   "metadata": {},
   "outputs": [],
   "source": [
    "%%writefile Dockerfile\n",
    "FROM python:3.10.14\n",
    "\n",
    "WORKDIR /app\n",
    "\n",
    "COPY requirements.txt /app\n",
    "\n",
    "RUN pip install -r requirements.txt\n",
    "\n",
    "COPY export /app\n",
    "\n",
    "COPY app.py /app\n",
    "\n",
    "EXPOSE 8080\n",
    "\n",
    "CMD streamlit run --server.port 8080 --server.enableCORS false app.py"
   ]
  },
  {
   "cell_type": "markdown",
   "id": "363e22c5-e73b-42d3-97c9-bed2011b2812",
   "metadata": {},
   "source": [
    "### Build the container and push it to Artifact Registry"
   ]
  },
  {
   "cell_type": "code",
   "execution_count": null,
   "id": "974e950b-396a-4fd5-83c2-4ec400d0611f",
   "metadata": {
    "tags": []
   },
   "outputs": [],
   "source": [
    "STREAMLIT_ARTIFACT_REG_REPO = \"flower-classification-app\"\n",
    "os.environ[\"STREAMLIT_ARTIFACT_REG_REPO\"] = STREAMLIT_ARTIFACT_REG_REPO"
   ]
  },
  {
   "cell_type": "code",
   "execution_count": null,
   "id": "ab85dcad-4dc1-4fb2-926c-bf19826d57e2",
   "metadata": {
    "tags": []
   },
   "outputs": [],
   "source": [
    "%%bash\n",
    "if ! gcloud artifacts repositories describe $STREAMLIT_ARTIFACT_REG_REPO \\\n",
    "       --location=$REGION > /dev/null 2>&1; then\n",
    "    gcloud artifacts repositories create $STREAMLIT_ARTIFACT_REG_REPO \\\n",
    "        --project=$PROJECT --location=$REGION --repository-format=docker\n",
    "fi"
   ]
  },
  {
   "cell_type": "markdown",
   "id": "a18a7418-ad96-420f-bfdc-06f83a142df5",
   "metadata": {},
   "source": [
    "#### Define config.yaml\n",
    "use cache"
   ]
  },
  {
   "cell_type": "code",
   "execution_count": null,
   "id": "7ec83318-31ac-4d2b-b4c2-10028b2b9c2d",
   "metadata": {
    "tags": []
   },
   "outputs": [],
   "source": [
    "CONTAINER_PATH = (\n",
    "    f\"us-central1-docker.pkg.dev/{PROJECT}/{STREAMLIT_ARTIFACT_REG_REPO}/app\"\n",
    ")\n",
    "os.environ[\"CONTAINER_PATH\"] = CONTAINER_PATH"
   ]
  },
  {
   "cell_type": "code",
   "execution_count": null,
   "id": "82177b1a-7d4f-4a4e-9fb6-409a7c868414",
   "metadata": {
    "tags": []
   },
   "outputs": [],
   "source": [
    "%%bash\n",
    "echo > ./config.yaml \"steps:\n",
    "- name: 'gcr.io/cloud-builders/docker'\n",
    "  entrypoint: 'bash'\n",
    "  args: ['-c', 'docker pull $CONTAINER_PATH:latest || exit 0']\n",
    "- name: 'gcr.io/cloud-builders/docker'\n",
    "  args: [\n",
    "            'build',\n",
    "            '-t', '$CONTAINER_PATH:latest',\n",
    "            '--cache-from', '$CONTAINER_PATH:latest',\n",
    "            '.'\n",
    "        ]\n",
    "images: ['$CONTAINER_PATH:latest']\""
   ]
  },
  {
   "cell_type": "code",
   "execution_count": null,
   "id": "b97b54f0-8e7a-4a5c-8fb0-fb684e944676",
   "metadata": {},
   "outputs": [],
   "source": [
    "!gcloud builds submit --config config.yaml --region $REGION ."
   ]
  },
  {
   "cell_type": "markdown",
   "id": "6212e426-57d5-4f5b-93a4-4295344cf0b9",
   "metadata": {},
   "source": [
    "### Deploy to Cloud Run"
   ]
  },
  {
   "cell_type": "code",
   "execution_count": null,
   "id": "90a852ea-cc32-4a63-8838-e97ba4b8bbd2",
   "metadata": {
    "tags": []
   },
   "outputs": [],
   "source": [
    "APP_NAME = \"flower-classification\"\n",
    "os.environ[\"APP_NAME\"] = APP_NAME"
   ]
  },
  {
   "cell_type": "code",
   "execution_count": null,
   "id": "cb64fe98-c1d4-4454-b1b8-f3a6800e4b8b",
   "metadata": {
    "tags": []
   },
   "outputs": [],
   "source": [
    "%%bash\n",
    "echo 'Deploying the application to Cloud Run...'\n",
    "gcloud run deploy $APP_NAME \\\n",
    "  --image $CONTAINER_PATH:latest --min-instances 1 --max-instances 1 --cpu 1 \\\n",
    "  --memory 4Gi --region us-central1 > /dev/null 2>&1 && \\\n",
    "echo 'Deployment Done.'"
   ]
  },
  {
   "cell_type": "markdown",
   "id": "52cf51f5-6703-4a7f-aebc-ac32dfda24eb",
   "metadata": {},
   "source": [
    "### Connect to Cloud Run app via Cloud Shell\n",
    "\n",
    "Run the command below in Cloud Shell to proxy a service to localhost."
   ]
  },
  {
   "cell_type": "code",
   "execution_count": null,
   "id": "9c57754f-c055-4cb4-8175-338336e5bfbd",
   "metadata": {
    "tags": []
   },
   "outputs": [],
   "source": [
    "print(\n",
    "    f\"gcloud run services proxy {APP_NAME} --project {PROJECT} --region {REGION}\"\n",
    ")"
   ]
  },
  {
   "cell_type": "markdown",
   "id": "1893a1e2-cd60-485c-8f93-506fd06b71f7",
   "metadata": {},
   "source": [
    "From Cloud Shell, click Web Preview -> Preview on Port 8080 and open the application."
   ]
  },
  {
   "cell_type": "markdown",
   "id": "d9501082-c0b3-46ab-b55f-b825f41dacf5",
   "metadata": {
    "tags": []
   },
   "source": [
    "### Prediction\n",
    "Find a flower image (daisy, dandelion, roses, sunflowers or tulips) on Google Image Search, upload to the app, and try the prediction.\n",
    "\n",
    "The first access and prediction may take some time, but it'll be faster from the second time thanks to the cache."
   ]
  },
  {
   "cell_type": "code",
   "execution_count": null,
   "id": "deb85298-5567-41bf-b067-2ba3a011c097",
   "metadata": {},
   "outputs": [],
   "source": []
  }
 ],
 "metadata": {
  "environment": {
   "kernel": "conda-base-py",
   "name": "workbench-notebooks.m122",
   "type": "gcloud",
   "uri": "us-docker.pkg.dev/deeplearning-platform-release/gcr.io/workbench-notebooks:m122"
  },
  "kernelspec": {
   "display_name": "Python 3 (ipykernel) (Local)",
   "language": "python",
   "name": "conda-base-py"
  },
  "language_info": {
   "codemirror_mode": {
    "name": "ipython",
    "version": 3
   },
   "file_extension": ".py",
   "mimetype": "text/x-python",
   "name": "python",
   "nbconvert_exporter": "python",
   "pygments_lexer": "ipython3",
   "version": "3.10.14"
  }
 },
 "nbformat": 4,
 "nbformat_minor": 5
}
