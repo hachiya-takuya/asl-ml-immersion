{
 "cells": [
  {
   "cell_type": "markdown",
   "metadata": {},
   "source": [
    "# Inspecting TFX metadata\n",
    "\n",
    "\n",
    "## Learning Objectives\n",
    "\n",
    "1. Use a GRPC server to access and analyze pipeline artifacts stored in the ML Metadata service of your AI Platform Pipelines instance.\n",
    "\n",
    "In this lab, you will explore TFX pipeline metadata including pipeline and run artifacts. An **AI Platform Pipelines** instance includes the [ML Metadata](https://github.com/google/ml-metadata) service. In **AI Platform Pipelines**, ML Metadata uses *MySQL* as a database backend and can be accessed using a GRPC server."
   ]
  },
  {
   "cell_type": "markdown",
   "metadata": {},
   "source": [
    "## Setup"
   ]
  },
  {
   "cell_type": "code",
   "execution_count": 1,
   "metadata": {},
   "outputs": [],
   "source": [
    "import os\n",
    "\n",
    "import ml_metadata\n",
    "import tensorflow_data_validation as tfdv\n",
    "import tensorflow_model_analysis as tfma\n",
    "\n",
    "\n",
    "from ml_metadata.metadata_store import metadata_store\n",
    "from ml_metadata.proto import metadata_store_pb2\n",
    "\n",
    "from tfx.orchestration import metadata\n",
    "from tfx.types import standard_artifacts"
   ]
  },
  {
   "cell_type": "code",
   "execution_count": 2,
   "metadata": {},
   "outputs": [
    {
     "name": "stdout",
     "output_type": "stream",
     "text": [
      "TFX version: 0.21.4\n",
      "KFP version: 0.5.1\n"
     ]
    }
   ],
   "source": [
    "!python -c \"import tfx; print('TFX version: {}'.format(tfx.__version__))\"\n",
    "!python -c \"import kfp; print('KFP version: {}'.format(kfp.__version__))\""
   ]
  },
  {
   "cell_type": "markdown",
   "metadata": {},
   "source": [
    "### Option 1: Explore metadata from existing TFX pipeline runs from AI Pipelines instance created in `lab-02` or `lab-03`."
   ]
  },
  {
   "cell_type": "markdown",
   "metadata": {},
   "source": [
    "#### 1.1 Configure Kubernetes port forwarding\n",
    "\n",
    "To enable access to the ML Metadata GRPC server, configure Kubernetes port forwarding.\n",
    "\n",
    "From a JupyterLab terminal, execute the following commands:\n",
    "\n",
    "```\n",
    "gcloud container clusters get-credentials [YOUR CLUSTER] --zone [YOUR CLUSTER ZONE]  \n",
    "kubectl port-forward  service/metadata-grpc-service --namespace [YOUR NAMESPACE] 7000:8080\n",
    "```"
   ]
  },
  {
   "cell_type": "markdown",
   "metadata": {},
   "source": [
    "Proceed to the next step, \"Connecting to ML Metadata\"."
   ]
  },
  {
   "cell_type": "markdown",
   "metadata": {},
   "source": [
    "### Option 2: Create new AI Pipelines instance and evaluate metadata on newly triggered pipeline runs.\n",
    "\n",
    "Hosted AI Pipelines incurs cost for the duration your Kubernetes cluster is running. If you deleted your previous lab instance, proceed with the 6 steps below to deploy a new TFX pipeline and triggers runs to inspect its metadata."
   ]
  },
  {
   "cell_type": "code",
   "execution_count": null,
   "metadata": {},
   "outputs": [],
   "source": [
    "import yaml\n",
    "\n",
    "# Set `PATH` to include the directory containing TFX CLI.\n",
    "PATH=%env PATH\n",
    "%env PATH=/home/jupyter/.local/bin:{PATH}"
   ]
  },
  {
   "cell_type": "markdown",
   "metadata": {},
   "source": [
    "The pipeline source can be found in the `pipeline` folder. Switch to the `pipeline` folder and compile the pipeline."
   ]
  },
  {
   "cell_type": "code",
   "execution_count": null,
   "metadata": {},
   "outputs": [],
   "source": [
    "%cd pipeline"
   ]
  },
  {
   "cell_type": "markdown",
   "metadata": {},
   "source": [
    "#### 2.1 Create AI Platform Pipelines cluster\n",
    "\n",
    "Navigate to [AI Platform Pipelines](https://console.cloud.google.com/ai-platform/pipelines/clusters) page in the Google Cloud Console.\n",
    "\n",
    "Create or select an existing Kubernetes cluster (GKE) and deploy AI Platform. Make sure to select `\"Allow access to the following Cloud APIs https://www.googleapis.com/auth/cloud-platform\"` to allow for programmatic access to your pipeline by the Kubeflow SDK for the rest of the lab. Also, provide an `App instance name` such as \"TFX-lab-04\"."
   ]
  },
  {
   "cell_type": "markdown",
   "metadata": {},
   "source": [
    "#### 2.2 Configure environment settings"
   ]
  },
  {
   "cell_type": "markdown",
   "metadata": {},
   "source": [
    "Update  the below constants  with the settings reflecting your lab environment.\n",
    "\n",
    "- `GCP_REGION` - the compute region for AI Platform Training and Prediction\n",
    "- `ARTIFACT_STORE` - the GCS bucket created during installation of AI Platform Pipelines. The bucket name starts with the `kubeflowpipelines-` prefix. Alternatively, you can specify create a new storage bucket to write pipeline artifacts to."
   ]
  },
  {
   "cell_type": "code",
   "execution_count": null,
   "metadata": {},
   "outputs": [],
   "source": [
    "!gsutil ls"
   ]
  },
  {
   "cell_type": "markdown",
   "metadata": {},
   "source": [
    "- `ENDPOINT` - set the `ENDPOINT` constant to the endpoint to your AI Platform Pipelines instance. The endpoint to the AI Platform Pipelines instance can be found on the [AI Platform Pipelines](https://console.cloud.google.com/ai-platform/pipelines/clusters) page in the Google Cloud Console.\n",
    "\n",
    "1. Open the *SETTINGS* for your instance\n",
    "2. Use the value of the `host` variable in the *Connect to this Kubeflow Pipelines instance from a Python client via Kubeflow Pipelines SKD* section of the *SETTINGS* window."
   ]
  },
  {
   "cell_type": "code",
   "execution_count": null,
   "metadata": {},
   "outputs": [],
   "source": [
    "GCP_REGION = 'us-central1'\n",
    "ENDPOINT = '7ce34659d9b02e54-dot-us-central2.pipelines.googleusercontent.com'\n",
    "ARTIFACT_STORE_URI = 'gs://asl-ml-immersion-kfp'\n",
    "\n",
    "PROJECT_ID = !(gcloud config get-value core/project)\n",
    "PROJECT_ID = PROJECT_ID[0]"
   ]
  },
  {
   "cell_type": "markdown",
   "metadata": {},
   "source": [
    "#### 2.3 Compile pipeline"
   ]
  },
  {
   "cell_type": "code",
   "execution_count": null,
   "metadata": {},
   "outputs": [],
   "source": [
    "PIPELINE_NAME = 'tfx_covertype_lab_04'\n",
    "MODEL_NAME = 'tfx_covertype_classifier'\n",
    "\n",
    "USE_KFP_SA=False\n",
    "DATA_ROOT_URI = 'gs://workshop-datasets/covertype/small'\n",
    "CUSTOM_TFX_IMAGE = 'gcr.io/{}/{}'.format(PROJECT_ID, PIPELINE_NAME)\n",
    "RUNTIME_VERSION = '2.1'\n",
    "PYTHON_VERSION = '3.7'"
   ]
  },
  {
   "cell_type": "code",
   "execution_count": null,
   "metadata": {},
   "outputs": [],
   "source": [
    "%env PROJECT_ID={PROJECT_ID}\n",
    "%env KUBEFLOW_TFX_IMAGE={CUSTOM_TFX_IMAGE}\n",
    "%env ARTIFACT_STORE_URI={ARTIFACT_STORE_URI}\n",
    "%env DATA_ROOT_URI={DATA_ROOT_URI}\n",
    "%env GCP_REGION={GCP_REGION}\n",
    "%env MODEL_NAME={MODEL_NAME}\n",
    "%env PIPELINE_NAME={PIPELINE_NAME}\n",
    "%env RUNTIME_VERSION={RUNTIME_VERSION}\n",
    "%env PYTHON_VERIONS={PYTHON_VERSION}\n",
    "%env USE_KFP_SA={USE_KFP_SA}"
   ]
  },
  {
   "cell_type": "code",
   "execution_count": null,
   "metadata": {},
   "outputs": [],
   "source": [
    "!tfx pipeline compile --engine kubeflow --pipeline_path runner.py"
   ]
  },
  {
   "cell_type": "markdown",
   "metadata": {},
   "source": [
    "#### 2.4 Deploy pipeline to AI Platform"
   ]
  },
  {
   "cell_type": "code",
   "execution_count": null,
   "metadata": {},
   "outputs": [],
   "source": [
    "!tfx pipeline create  \\\n",
    "--pipeline_path=runner.py \\\n",
    "--endpoint={ENDPOINT} \\\n",
    "--build_target_image={CUSTOM_TFX_IMAGE}"
   ]
  },
  {
   "cell_type": "markdown",
   "metadata": {},
   "source": [
    "(optional) If you make local changes to the pipeline, you can update the deployed package on AI Platform with the following command:"
   ]
  },
  {
   "cell_type": "code",
   "execution_count": null,
   "metadata": {},
   "outputs": [],
   "source": [
    "!tfx pipeline update --pipeline_path runner.py --endpoint {ENDPOINT}"
   ]
  },
  {
   "cell_type": "markdown",
   "metadata": {},
   "source": [
    "#### 2.5 Create and monitor pipeline run"
   ]
  },
  {
   "cell_type": "code",
   "execution_count": null,
   "metadata": {},
   "outputs": [],
   "source": [
    "!tfx run create --pipeline_name={PIPELINE_NAME} --endpoint={ENDPOINT}"
   ]
  },
  {
   "cell_type": "markdown",
   "metadata": {},
   "source": [
    "#### 2.6 Configure Kubernetes port forwarding"
   ]
  },
  {
   "cell_type": "markdown",
   "metadata": {},
   "source": [
    "To enable access to the ML Metadata GRPC server, configure Kubernetes port forwarding.\n",
    "\n",
    "From a JupyterLab terminal, execute the following commands:\n",
    "\n",
    "```\n",
    "gcloud container clusters get-credentials [YOUR CLUSTER] --zone [YOURE CLUSTER ZONE]  \n",
    "kubectl port-forward  service/metadata-grpc-service --namespace [YOUR NAMESPACE] 7000:8080\n",
    "```"
   ]
  },
  {
   "cell_type": "markdown",
   "metadata": {},
   "source": [
    "## Connecting to ML Metadata \n",
    "\n",
    "Configure ML Metadata GRPC client."
   ]
  },
  {
   "cell_type": "code",
   "execution_count": 3,
   "metadata": {},
   "outputs": [],
   "source": [
    "grpc_host = 'localhost'\n",
    "grpc_port = 7000\n",
    "connection_config = metadata_store_pb2.MetadataStoreClientConfig()\n",
    "connection_config.host = grpc_host\n",
    "connection_config.port = grpc_port"
   ]
  },
  {
   "cell_type": "markdown",
   "metadata": {},
   "source": [
    "Connect to ML Metadata service."
   ]
  },
  {
   "cell_type": "code",
   "execution_count": 4,
   "metadata": {},
   "outputs": [],
   "source": [
    "store = metadata_store.MetadataStore(connection_config)"
   ]
  },
  {
   "cell_type": "markdown",
   "metadata": {},
   "source": [
    "## Exploring ML Metadata \n",
    "\n",
    "The Metadata Store uses the following data model:\n",
    "\n",
    "- `ArtifactType` describes an artifact's type and its properties that are stored in the Metadata Store. These types can be registered on-the-fly with the Metadata Store in code, or they can be loaded in the store from a serialized format. Once a type is registered, its definition is available throughout the lifetime of the store.\n",
    "- `Artifact` describes a specific instances of an ArtifactType, and its properties that are written to the Metadata Store.\n",
    "- `ExecutionType` describes a type of component or step in a workflow, and its runtime parameters.\n",
    "- `Execution` is a record of a component run or a step in an ML workflow and the runtime parameters. An Execution can be thought of as an instance of an ExecutionType. Every time a developer runs an ML pipeline or step, executions are recorded for each step.\n",
    "- `Event` is a record of the relationship between an Artifact and Executions. When an Execution happens, Events record every Artifact that was used by the Execution, and every Artifact that was produced. These records allow for provenance tracking throughout a workflow. By looking at all Events MLMD knows what Executions happened, what Artifacts were created as a result, and can recurse back from any Artifact to all of its upstream inputs.\n",
    "- `ContextType` describes a type of conceptual group of Artifacts and Executions in a workflow, and its structural properties. For example: projects, pipeline runs, experiments, owners.\n",
    "- `Context` is an instances of a ContextType. It captures the shared information within the group. For example: project name, changelist commit id, experiment annotations. It has a user-defined unique name within its ContextType.\n",
    "- `Attribution` is a record of the relationship between Artifacts and Contexts.\n",
    "- `Association` is a record of the relationship between Executions and Contexts."
   ]
  },
  {
   "cell_type": "markdown",
   "metadata": {},
   "source": [
    "List the registered artifact types."
   ]
  },
  {
   "cell_type": "code",
   "execution_count": 5,
   "metadata": {},
   "outputs": [
    {
     "name": "stdout",
     "output_type": "stream",
     "text": [
      "ExternalArtifact\n",
      "Examples\n",
      "Schema\n",
      "ExampleStatistics\n",
      "TransformGraph\n",
      "ExampleAnomalies\n",
      "Model\n",
      "InfraBlessing\n",
      "ModelBlessing\n",
      "ModelEvaluation\n",
      "PushedModel\n"
     ]
    }
   ],
   "source": [
    "for artifact_type in store.get_artifact_types():\n",
    "    print(artifact_type.name)"
   ]
  },
  {
   "cell_type": "markdown",
   "metadata": {},
   "source": [
    "Display the registered execution types."
   ]
  },
  {
   "cell_type": "code",
   "execution_count": 6,
   "metadata": {},
   "outputs": [
    {
     "name": "stdout",
     "output_type": "stream",
     "text": [
      "DummyExecutionType\n",
      "tfx.components.common_nodes.resolver_node.ResolverNode\n",
      "tfx.components.example_gen.csv_example_gen.component.CsvExampleGen\n",
      "tfx.components.common_nodes.importer_node.ImporterNode\n",
      "tfx.components.common_nodes.importer_node.ImporterNode\n",
      "tfx.components.statistics_gen.component.StatisticsGen\n",
      "tfx.components.transform.component.Transform\n",
      "tfx.components.schema_gen.component.SchemaGen\n",
      "tfx.components.example_validator.component.ExampleValidator\n",
      "tfx.components.trainer.component.Trainer\n",
      "tfx.components.evaluator.component.Evaluator\n",
      "tfx.components.infra_validator.component.InfraValidator\n",
      "tfx.components.pusher.component.Pusher\n"
     ]
    }
   ],
   "source": [
    "for execution_type in store.get_execution_types():\n",
    "    print(execution_type.name)"
   ]
  },
  {
   "cell_type": "markdown",
   "metadata": {},
   "source": [
    "List the registered context types."
   ]
  },
  {
   "cell_type": "code",
   "execution_count": 7,
   "metadata": {},
   "outputs": [
    {
     "name": "stdout",
     "output_type": "stream",
     "text": [
      "pipeline\n",
      "run\n",
      "component_run\n"
     ]
    }
   ],
   "source": [
    "for context_type in store.get_context_types():\n",
    "    print(context_type.name)"
   ]
  },
  {
   "cell_type": "markdown",
   "metadata": {},
   "source": [
    "## Visualizing TFX artifacts"
   ]
  },
  {
   "cell_type": "markdown",
   "metadata": {},
   "source": [
    "### Retrieve data analysis and validation artifacts"
   ]
  },
  {
   "cell_type": "code",
   "execution_count": 8,
   "metadata": {},
   "outputs": [],
   "source": [
    "with metadata.Metadata(connection_config) as store:\n",
    "    stats_artifacts = store.get_artifacts_by_type(standard_artifacts.ExampleStatistics.TYPE_NAME)\n",
    "    schema_artifacts = store.get_artifacts_by_type(standard_artifacts.Schema.TYPE_NAME)\n",
    "    anomalies_artifacts = store.get_artifacts_by_type(standard_artifacts.ExampleAnomalies.TYPE_NAME)"
   ]
  },
  {
   "cell_type": "code",
   "execution_count": 9,
   "metadata": {},
   "outputs": [
    {
     "name": "stdout",
     "output_type": "stream",
     "text": [
      "Train stats file:gs://qwiklabs-gcp-ml-a65a6543b5a6-kubeflowpipelines-default/tfx_covertype_continuous_training-test/c16aec82-04b4-48f7-998b-db082e330f26/StatisticsGen/statistics/29/train/stats_tfrecord, Eval stats file:gs://qwiklabs-gcp-ml-a65a6543b5a6-kubeflowpipelines-default/tfx_covertype_continuous_training-test/c16aec82-04b4-48f7-998b-db082e330f26/StatisticsGen/statistics/29/eval/stats_tfrecord\n",
      "Generated schame file:gs://qwiklabs-gcp-ml-a65a6543b5a6-kubeflowpipelines-default/tfx_covertype_continuous_training-test/c16aec82-04b4-48f7-998b-db082e330f26/SchemaGen/schema/32/schema.pbtxt\n",
      "Generated anomalies file:gs://qwiklabs-gcp-ml-a65a6543b5a6-kubeflowpipelines-default/tfx_covertype_continuous_training-test/c16aec82-04b4-48f7-998b-db082e330f26/ExampleValidator/anomalies/31/anomalies.pbtxt\n"
     ]
    }
   ],
   "source": [
    "stats_path = stats_artifacts[-1].uri\n",
    "train_stats_file = os.path.join(stats_path, 'train', 'stats_tfrecord')\n",
    "eval_stats_file = os.path.join(stats_path, 'eval', 'stats_tfrecord')\n",
    "print(\"Train stats file:{}, Eval stats file:{}\".format(\n",
    "    train_stats_file, eval_stats_file))\n",
    "\n",
    "schema_file = os.path.join(schema_artifacts[-1].uri, 'schema.pbtxt')\n",
    "print(\"Generated schame file:{}\".format(schema_file))\n",
    "anomalies_file = os.path.join(anomalies_artifacts[-1].uri, 'anomalies.pbtxt')\n",
    "print(\"Generated anomalies file:{}\".format(anomalies_file))"
   ]
  },
  {
   "cell_type": "markdown",
   "metadata": {},
   "source": [
    "### Visualize statistics"
   ]
  },
  {
   "cell_type": "markdown",
   "metadata": {},
   "source": [
    "#### Exercise: looking at the features visualized below, answer the following questions:\n",
    "\n",
    "- Which feature transformations would you apply to each feature with TF Transform?\n",
    "- Are there data quality issues with certain features that may impact your model performance? How might you deal with it?"
   ]
  },
  {
   "cell_type": "code",
   "execution_count": 13,
   "metadata": {},
   "outputs": [
    {
     "data": {
      "text/html": [
       "<iframe id='facets-iframe' width=\"100%\" height=\"500px\"></iframe>\n",
       "        <script>\n",
       "        facets_iframe = document.getElementById('facets-iframe');\n",
       "        facets_html = '<script src=\"https://cdnjs.cloudflare.com/ajax/libs/webcomponentsjs/1.3.3/webcomponents-lite.js\"><\\/script><link rel=\"import\" href=\"https://raw.githubusercontent.com/PAIR-code/facets/master/facets-dist/facets-jupyter.html\"><facets-overview proto-input=\"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\"></facets-overview>';\n",
       "        facets_iframe.srcdoc = facets_html;\n",
       "         facets_iframe.id = \"\";\n",
       "         setTimeout(() => {\n",
       "           facets_iframe.setAttribute('height', facets_iframe.contentWindow.document.body.offsetHeight + 'px')\n",
       "         }, 1500)\n",
       "         </script>"
      ],
      "text/plain": [
       "<IPython.core.display.HTML object>"
      ]
     },
     "metadata": {},
     "output_type": "display_data"
    }
   ],
   "source": [
    "train_stats = tfdv.load_statistics(train_stats_file)\n",
    "eval_stats = tfdv.load_statistics(eval_stats_file)\n",
    "tfdv.visualize_statistics(lhs_statistics=eval_stats, rhs_statistics=train_stats,\n",
    "                          lhs_name='EVAL_DATASET', rhs_name='TRAIN_DATASET')"
   ]
  },
  {
   "cell_type": "markdown",
   "metadata": {},
   "source": [
    "### Visualize schema"
   ]
  },
  {
   "cell_type": "code",
   "execution_count": 14,
   "metadata": {},
   "outputs": [
    {
     "data": {
      "text/html": [
       "<div>\n",
       "<style scoped>\n",
       "    .dataframe tbody tr th:only-of-type {\n",
       "        vertical-align: middle;\n",
       "    }\n",
       "\n",
       "    .dataframe tbody tr th {\n",
       "        vertical-align: top;\n",
       "    }\n",
       "\n",
       "    .dataframe thead th {\n",
       "        text-align: right;\n",
       "    }\n",
       "</style>\n",
       "<table border=\"1\" class=\"dataframe\">\n",
       "  <thead>\n",
       "    <tr style=\"text-align: right;\">\n",
       "      <th></th>\n",
       "      <th>Type</th>\n",
       "      <th>Presence</th>\n",
       "      <th>Valency</th>\n",
       "      <th>Domain</th>\n",
       "    </tr>\n",
       "    <tr>\n",
       "      <th>Feature name</th>\n",
       "      <th></th>\n",
       "      <th></th>\n",
       "      <th></th>\n",
       "      <th></th>\n",
       "    </tr>\n",
       "  </thead>\n",
       "  <tbody>\n",
       "    <tr>\n",
       "      <th>'Aspect'</th>\n",
       "      <td>INT</td>\n",
       "      <td>required</td>\n",
       "      <td>single</td>\n",
       "      <td>-</td>\n",
       "    </tr>\n",
       "    <tr>\n",
       "      <th>'Cover_Type'</th>\n",
       "      <td>INT</td>\n",
       "      <td>required</td>\n",
       "      <td>single</td>\n",
       "      <td>-</td>\n",
       "    </tr>\n",
       "    <tr>\n",
       "      <th>'Elevation'</th>\n",
       "      <td>INT</td>\n",
       "      <td>required</td>\n",
       "      <td>single</td>\n",
       "      <td>-</td>\n",
       "    </tr>\n",
       "    <tr>\n",
       "      <th>'Hillshade_3pm'</th>\n",
       "      <td>INT</td>\n",
       "      <td>required</td>\n",
       "      <td>single</td>\n",
       "      <td>-</td>\n",
       "    </tr>\n",
       "    <tr>\n",
       "      <th>'Hillshade_9am'</th>\n",
       "      <td>INT</td>\n",
       "      <td>required</td>\n",
       "      <td>single</td>\n",
       "      <td>-</td>\n",
       "    </tr>\n",
       "    <tr>\n",
       "      <th>'Hillshade_Noon'</th>\n",
       "      <td>INT</td>\n",
       "      <td>required</td>\n",
       "      <td>single</td>\n",
       "      <td>-</td>\n",
       "    </tr>\n",
       "    <tr>\n",
       "      <th>'Horizontal_Distance_To_Fire_Points'</th>\n",
       "      <td>INT</td>\n",
       "      <td>required</td>\n",
       "      <td>single</td>\n",
       "      <td>-</td>\n",
       "    </tr>\n",
       "    <tr>\n",
       "      <th>'Horizontal_Distance_To_Hydrology'</th>\n",
       "      <td>INT</td>\n",
       "      <td>required</td>\n",
       "      <td>single</td>\n",
       "      <td>-</td>\n",
       "    </tr>\n",
       "    <tr>\n",
       "      <th>'Horizontal_Distance_To_Roadways'</th>\n",
       "      <td>INT</td>\n",
       "      <td>required</td>\n",
       "      <td>single</td>\n",
       "      <td>-</td>\n",
       "    </tr>\n",
       "    <tr>\n",
       "      <th>'Slope'</th>\n",
       "      <td>INT</td>\n",
       "      <td>required</td>\n",
       "      <td>single</td>\n",
       "      <td>-</td>\n",
       "    </tr>\n",
       "    <tr>\n",
       "      <th>'Soil_Type'</th>\n",
       "      <td>STRING</td>\n",
       "      <td>required</td>\n",
       "      <td>single</td>\n",
       "      <td>'Soil_Type'</td>\n",
       "    </tr>\n",
       "    <tr>\n",
       "      <th>'Vertical_Distance_To_Hydrology'</th>\n",
       "      <td>INT</td>\n",
       "      <td>required</td>\n",
       "      <td>single</td>\n",
       "      <td>-</td>\n",
       "    </tr>\n",
       "    <tr>\n",
       "      <th>'Wilderness_Area'</th>\n",
       "      <td>STRING</td>\n",
       "      <td>required</td>\n",
       "      <td>single</td>\n",
       "      <td>'Wilderness_Area'</td>\n",
       "    </tr>\n",
       "  </tbody>\n",
       "</table>\n",
       "</div>"
      ],
      "text/plain": [
       "                                        Type  Presence Valency  \\\n",
       "Feature name                                                     \n",
       "'Aspect'                                 INT  required  single   \n",
       "'Cover_Type'                             INT  required  single   \n",
       "'Elevation'                              INT  required  single   \n",
       "'Hillshade_3pm'                          INT  required  single   \n",
       "'Hillshade_9am'                          INT  required  single   \n",
       "'Hillshade_Noon'                         INT  required  single   \n",
       "'Horizontal_Distance_To_Fire_Points'     INT  required  single   \n",
       "'Horizontal_Distance_To_Hydrology'       INT  required  single   \n",
       "'Horizontal_Distance_To_Roadways'        INT  required  single   \n",
       "'Slope'                                  INT  required  single   \n",
       "'Soil_Type'                           STRING  required  single   \n",
       "'Vertical_Distance_To_Hydrology'         INT  required  single   \n",
       "'Wilderness_Area'                     STRING  required  single   \n",
       "\n",
       "                                                 Domain  \n",
       "Feature name                                             \n",
       "'Aspect'                                              -  \n",
       "'Cover_Type'                                          -  \n",
       "'Elevation'                                           -  \n",
       "'Hillshade_3pm'                                       -  \n",
       "'Hillshade_9am'                                       -  \n",
       "'Hillshade_Noon'                                      -  \n",
       "'Horizontal_Distance_To_Fire_Points'                  -  \n",
       "'Horizontal_Distance_To_Hydrology'                    -  \n",
       "'Horizontal_Distance_To_Roadways'                     -  \n",
       "'Slope'                                               -  \n",
       "'Soil_Type'                                 'Soil_Type'  \n",
       "'Vertical_Distance_To_Hydrology'                      -  \n",
       "'Wilderness_Area'                     'Wilderness_Area'  "
      ]
     },
     "metadata": {},
     "output_type": "display_data"
    },
    {
     "data": {
      "text/html": [
       "<div>\n",
       "<style scoped>\n",
       "    .dataframe tbody tr th:only-of-type {\n",
       "        vertical-align: middle;\n",
       "    }\n",
       "\n",
       "    .dataframe tbody tr th {\n",
       "        vertical-align: top;\n",
       "    }\n",
       "\n",
       "    .dataframe thead th {\n",
       "        text-align: right;\n",
       "    }\n",
       "</style>\n",
       "<table border=\"1\" class=\"dataframe\">\n",
       "  <thead>\n",
       "    <tr style=\"text-align: right;\">\n",
       "      <th></th>\n",
       "      <th>Values</th>\n",
       "    </tr>\n",
       "    <tr>\n",
       "      <th>Domain</th>\n",
       "      <th></th>\n",
       "    </tr>\n",
       "  </thead>\n",
       "  <tbody>\n",
       "    <tr>\n",
       "      <th>'Soil_Type'</th>\n",
       "      <td>'C2702', 'C2703', 'C2704', 'C2705', 'C2706', 'C2717', 'C3501', 'C3502', 'C4201', 'C4703', 'C4704', 'C4744', 'C4758', 'C5101', 'C5151', 'C6101', 'C6102', 'C6731', 'C7101', 'C7102', 'C7103', 'C7201', 'C7202', 'C7700', 'C7701', 'C7702', 'C7709', 'C7710', 'C7745', 'C7746', 'C7755', 'C7756', 'C7757', 'C7790', 'C8703', 'C8707', 'C8708', 'C8771', 'C8772', 'C8776'</td>\n",
       "    </tr>\n",
       "    <tr>\n",
       "      <th>'Wilderness_Area'</th>\n",
       "      <td>'Cache', 'Commanche', 'Neota', 'Rawah'</td>\n",
       "    </tr>\n",
       "  </tbody>\n",
       "</table>\n",
       "</div>"
      ],
      "text/plain": [
       "                                                                                                                                                                                                                                                                                                                                                                                   Values\n",
       "Domain                                                                                                                                                                                                                                                                                                                                                                                   \n",
       "'Soil_Type'        'C2702', 'C2703', 'C2704', 'C2705', 'C2706', 'C2717', 'C3501', 'C3502', 'C4201', 'C4703', 'C4704', 'C4744', 'C4758', 'C5101', 'C5151', 'C6101', 'C6102', 'C6731', 'C7101', 'C7102', 'C7103', 'C7201', 'C7202', 'C7700', 'C7701', 'C7702', 'C7709', 'C7710', 'C7745', 'C7746', 'C7755', 'C7756', 'C7757', 'C7790', 'C8703', 'C8707', 'C8708', 'C8771', 'C8772', 'C8776'\n",
       "'Wilderness_Area'  'Cache', 'Commanche', 'Neota', 'Rawah'                                                                                                                                                                                                                                                                                                                                "
      ]
     },
     "metadata": {},
     "output_type": "display_data"
    }
   ],
   "source": [
    "schema = tfdv.load_schema_text(schema_file)\n",
    "tfdv.display_schema(schema=schema)"
   ]
  },
  {
   "cell_type": "markdown",
   "metadata": {},
   "source": [
    "### Visualize anomalies"
   ]
  },
  {
   "cell_type": "code",
   "execution_count": 15,
   "metadata": {},
   "outputs": [
    {
     "data": {
      "text/html": [
       "<h4 style=\"color:green;\">No anomalies found.</h4>"
      ],
      "text/plain": [
       "<IPython.core.display.HTML object>"
      ]
     },
     "metadata": {},
     "output_type": "display_data"
    }
   ],
   "source": [
    "anomalies = tfdv.load_anomalies_text(anomalies_file)\n",
    "tfdv.display_anomalies(anomalies)"
   ]
  },
  {
   "cell_type": "markdown",
   "metadata": {},
   "source": [
    "### Retrieve model evaluations"
   ]
  },
  {
   "cell_type": "code",
   "execution_count": 16,
   "metadata": {},
   "outputs": [
    {
     "name": "stdout",
     "output_type": "stream",
     "text": [
      "Generated model evaluation result:gs://qwiklabs-gcp-ml-a65a6543b5a6-kubeflowpipelines-default/tfx_covertype_continuous_training/392ab71a-3aa7-4ba2-90f5-a129073f99f8/Evaluator/evaluation/23\n"
     ]
    }
   ],
   "source": [
    "with metadata.Metadata(connection_config) as store:\n",
    "    model_eval_artifacts = store.get_artifacts_by_type(standard_artifacts.ModelEvaluation.TYPE_NAME)\n",
    "    \n",
    "model_eval_path = model_eval_artifacts[-1].uri\n",
    "print(\"Generated model evaluation result:{}\".format(model_eval_path))"
   ]
  },
  {
   "cell_type": "markdown",
   "metadata": {},
   "source": [
    "### Visualize model evaluations"
   ]
  },
  {
   "cell_type": "markdown",
   "metadata": {},
   "source": [
    "#### Exercise: review the model evaluation results below and answer the following questions:\n",
    "\n",
    "- Which Wilderness Area had the highest accuracy?\n",
    "- Which Wilderness Area had the lowest performance? Why do you think that is? What are some steps you could take to improve your next model runs?"
   ]
  },
  {
   "cell_type": "code",
   "execution_count": 17,
   "metadata": {},
   "outputs": [
    {
     "data": {
      "application/vnd.jupyter.widget-view+json": {
       "model_id": "51d061f2a2ae41f1b5b4927e8410e95f",
       "version_major": 2,
       "version_minor": 0
      },
      "text/plain": [
       "SlicingMetricsViewer(config={'weightedExamplesColumn': 'example_count'}, data=[{'slice': 'Wilderness_Area:Cach…"
      ]
     },
     "metadata": {},
     "output_type": "display_data"
    }
   ],
   "source": [
    "eval_result = tfma.load_eval_result(model_eval_path)\n",
    "tfma.view.render_slicing_metrics(\n",
    "    eval_result, slicing_column='Wilderness_Area')"
   ]
  },
  {
   "cell_type": "markdown",
   "metadata": {},
   "source": [
    "Debugging tip: If the TFMA visualization of the Evaluator results do not render, try switching to view in a Classic Jupyter Notebook. You do so by clicking `Help > Launch Classic Notebook` and re-opening the notebook and running the above cell to see the interactive TFMA results."
   ]
  },
  {
   "cell_type": "markdown",
   "metadata": {},
   "source": [
    "## License"
   ]
  },
  {
   "cell_type": "markdown",
   "metadata": {},
   "source": [
    "<font size=-1>Licensed under the Apache License, Version 2.0 (the \\\"License\\\");\n",
    "you may not use this file except in compliance with the License.\n",
    "You may obtain a copy of the License at [https://www.apache.org/licenses/LICENSE-2.0](https://www.apache.org/licenses/LICENSE-2.0)\n",
    "\n",
    "Unless required by applicable law or agreed to in writing, software distributed under the License is distributed on an \\\"AS IS\\\" BASIS, WITHOUT WARRANTIES OR CONDITIONS OF ANY KIND, either express or implied.  See the License for the specific language governing permissions and limitations under the License.</font>\n"
   ]
  }
 ],
 "metadata": {
  "environment": {
   "name": "tf2-gpu.2-1.m56",
   "type": "gcloud",
   "uri": "gcr.io/deeplearning-platform-release/tf2-gpu.2-1:m56"
  },
  "kernelspec": {
   "display_name": "Python 3",
   "language": "python",
   "name": "python3"
  },
  "language_info": {
   "codemirror_mode": {
    "name": "ipython",
    "version": 3
   },
   "file_extension": ".py",
   "mimetype": "text/x-python",
   "name": "python",
   "nbconvert_exporter": "python",
   "pygments_lexer": "ipython3",
   "version": "3.7.8"
  }
 },
 "nbformat": 4,
 "nbformat_minor": 4
}
