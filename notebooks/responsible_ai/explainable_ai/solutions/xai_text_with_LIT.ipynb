{
 "cells": [
  {
   "cell_type": "markdown",
   "id": "0ac6099d-c03b-46cc-bd0a-dd96f824a8de",
   "metadata": {
    "id": "0ac6099d-c03b-46cc-bd0a-dd96f824a8de"
   },
   "source": [
    "# Interpretability of Language Model with Learning Interpretability Tool 🔥"
   ]
  },
  {
   "cell_type": "markdown",
   "id": "a5d79e19-968e-49d7-8abb-35ad2f985513",
   "metadata": {},
   "source": [
    "## Overview\n",
    "\n",
    "This notebook shows how to use explainability methods for a BERT-based text classification model with the [Learning Interpretability Tool (🔥LIT)](https://pair-code.github.io/lit/).\n",
    "\n",
    "LIT is a visual, interactive ML model-understanding tool that supports text, image, and tabular data.<br>\n",
    "You can use LIT to ask and answer questions like:\n",
    "- What kind of examples does my model perform poorly on?\n",
    "- Why did my model make this prediction? Can it attribute it to adversarial behavior, or undesirable priors from the training set?\n",
    "- Does my model behave consistently if I change things like textual style, verb tense, or pronoun gender?\n",
    "\n",
    "LIT contains many built-in capabilities but is also customizable, with the ability to add custom interpretability techniques, metrics calculations, counterfactual generators, visualizations, and more.\n",
    "\n",
    "In this notebook, we'll explore the built-in interpretability methods - LIME, Gradient Norm, Gradient-dot-Input, and Integrated Gradients.\n",
    "\n",
    "### Learning objectives: \n",
    "* Learn the overview of the Learning Interpretability Tool🔥\n",
    "* Configure the LIT dataset and Model objects.\n",
    "* Customize the Model for interpretability methods"
   ]
  },
  {
   "cell_type": "code",
   "execution_count": 1,
   "id": "a41b3fcd-f4ea-48bd-8ce7-13e9c4911d62",
   "metadata": {
    "colab": {
     "base_uri": "https://localhost:8080/",
     "height": 1000
    },
    "id": "a41b3fcd-f4ea-48bd-8ce7-13e9c4911d62",
    "outputId": "4e61458c-4496-4c6a-ab4d-2be21840480f",
    "tags": []
   },
   "outputs": [],
   "source": [
    "# !pip install tensorflow==2.14.1 lit-nlp keras_nlp"
   ]
  },
  {
   "cell_type": "code",
   "execution_count": 1,
   "id": "4916615f-68cf-4946-b31f-ce4fb3b48e5a",
   "metadata": {
    "colab": {
     "base_uri": "https://localhost:8080/"
    },
    "id": "4916615f-68cf-4946-b31f-ce4fb3b48e5a",
    "outputId": "51608304-59de-4546-8bf4-717262d39bbb",
    "tags": []
   },
   "outputs": [],
   "source": [
    "import os\n",
    "import warnings\n",
    "\n",
    "warnings.filterwarnings(\"ignore\")\n",
    "os.environ[\"TF_CPP_MIN_LOG_LEVEL\"] = \"2\""
   ]
  },
  {
   "cell_type": "code",
   "execution_count": 2,
   "id": "0708d01f-9f6a-46f0-b4eb-85dc8afa23c6",
   "metadata": {
    "id": "0708d01f-9f6a-46f0-b4eb-85dc8afa23c6",
    "tags": []
   },
   "outputs": [
    {
     "name": "stderr",
     "output_type": "stream",
     "text": [
      "2024-09-06 13:14:12.008610: E tensorflow/compiler/xla/stream_executor/cuda/cuda_dnn.cc:9342] Unable to register cuDNN factory: Attempting to register factory for plugin cuDNN when one has already been registered\n",
      "2024-09-06 13:14:12.008658: E tensorflow/compiler/xla/stream_executor/cuda/cuda_fft.cc:609] Unable to register cuFFT factory: Attempting to register factory for plugin cuFFT when one has already been registered\n",
      "2024-09-06 13:14:12.008695: E tensorflow/compiler/xla/stream_executor/cuda/cuda_blas.cc:1518] Unable to register cuBLAS factory: Attempting to register factory for plugin cuBLAS when one has already been registered\n"
     ]
    }
   ],
   "source": [
    "import datetime\n",
    "import shutil\n",
    "from collections.abc import Iterable, Sequence\n",
    "\n",
    "import keras\n",
    "import keras_nlp\n",
    "import tensorflow as tf\n",
    "from lit_nlp import notebook\n",
    "from lit_nlp.api import dataset as lit_dataset\n",
    "from lit_nlp.api import layout\n",
    "from lit_nlp.api import model as lit_model\n",
    "from lit_nlp.api import types as lit_types\n",
    "\n",
    "# import tensorflow_text as text\n",
    "\n",
    "\n",
    "JsonDict = lit_types.JsonDict\n",
    "Spec = lit_types.Spec\n",
    "\n",
    "tf.get_logger().setLevel(\"ERROR\")"
   ]
  },
  {
   "cell_type": "code",
   "execution_count": 3,
   "id": "5d1b1c31-d2af-4f77-9d7c-816428bbf496",
   "metadata": {
    "colab": {
     "base_uri": "https://localhost:8080/"
    },
    "id": "5d1b1c31-d2af-4f77-9d7c-816428bbf496",
    "outputId": "ddf67176-5507-4d7d-bfd7-038ac06b95f0",
    "tags": []
   },
   "outputs": [
    {
     "name": "stdout",
     "output_type": "stream",
     "text": [
      "Num GPUs Available:  1\n"
     ]
    }
   ],
   "source": [
    "print(\"Num GPUs Available: \", len(tf.config.list_physical_devices(\"GPU\")))"
   ]
  },
  {
   "cell_type": "markdown",
   "id": "0927aaaf-b6db-4c7d-80ea-e83dee8ad3cc",
   "metadata": {
    "id": "0927aaaf-b6db-4c7d-80ea-e83dee8ad3cc"
   },
   "source": [
    "## Build a BERT-based Sentiment Analysis model\n",
    "\n",
    "This notebook trains a sentiment analysis model to classify movie reviews as *positive* or *negative*, based on the text of the review.\n",
    "\n",
    "You'll use the [Large Movie Review Dataset](https://ai.stanford.edu/~amaas/data/sentiment/) that contains the text of 50,000 movie reviews from the [Internet Movie Database](https://www.imdb.com/)."
   ]
  },
  {
   "cell_type": "markdown",
   "id": "51eedf91-b731-467a-a162-8c469685a952",
   "metadata": {
    "id": "51eedf91-b731-467a-a162-8c469685a952"
   },
   "source": [
    "### Download the IMDB dataset\n",
    "\n",
    "Let's download and extract the dataset, then explore the directory structure.\n"
   ]
  },
  {
   "cell_type": "code",
   "execution_count": 4,
   "id": "2d2faa77-fe1b-46d4-a77d-04a194699423",
   "metadata": {
    "id": "2d2faa77-fe1b-46d4-a77d-04a194699423",
    "tags": []
   },
   "outputs": [],
   "source": [
    "url = \"https://ai.stanford.edu/~amaas/data/sentiment/aclImdb_v1.tar.gz\"\n",
    "\n",
    "path = \"/home/jupyter/\"\n",
    "dataset = keras.utils.get_file(\n",
    "    \"aclImdb_v1.tar.gz\", url, untar=True, cache_dir=path, cache_subdir=\"\"\n",
    ")\n",
    "\n",
    "dataset_dir = os.path.join(os.path.dirname(dataset), \"aclImdb\")\n",
    "\n",
    "train_dir = os.path.join(dataset_dir, \"train\")\n",
    "\n",
    "# remove unused folders to make it easier to load the data\n",
    "remove_dir = os.path.join(train_dir, \"unsup\")\n",
    "shutil.rmtree(remove_dir)"
   ]
  },
  {
   "cell_type": "markdown",
   "id": "c9735ca6-cd37-4e94-aa0c-26e66f262d66",
   "metadata": {
    "id": "c9735ca6-cd37-4e94-aa0c-26e66f262d66"
   },
   "source": [
    "Next, you will use the `text_dataset_from_directory` utility to create a labeled `tf.data.Dataset`.\n",
    "\n",
    "The IMDB dataset has already been divided into train and test, but it lacks a validation set. Let's create a validation set using an 80:20 split of the training data by using the `validation_split` argument below.\n",
    "\n",
    "Note:  When using the `validation_split` and `subset` arguments, make sure to either specify a random seed, or to pass `shuffle=False`, so that the validation and training splits have no overlap."
   ]
  },
  {
   "cell_type": "code",
   "execution_count": 5,
   "id": "45cada35-c136-491d-bbc6-33c522004685",
   "metadata": {
    "colab": {
     "base_uri": "https://localhost:8080/"
    },
    "id": "45cada35-c136-491d-bbc6-33c522004685",
    "outputId": "1c6e3ab8-c6af-4f06-db6d-0f99b8b830e8",
    "tags": []
   },
   "outputs": [
    {
     "name": "stdout",
     "output_type": "stream",
     "text": [
      "Found 25000 files belonging to 2 classes.\n",
      "Using 20000 files for training.\n",
      "Found 25000 files belonging to 2 classes.\n",
      "Using 5000 files for validation.\n",
      "Found 25000 files belonging to 2 classes.\n"
     ]
    }
   ],
   "source": [
    "AUTOTUNE = tf.data.AUTOTUNE\n",
    "batch_size = 32\n",
    "seed = 42\n",
    "\n",
    "raw_train_ds = tf.keras.preprocessing.text_dataset_from_directory(\n",
    "    path + \"aclImdb/train\",\n",
    "    batch_size=batch_size,\n",
    "    validation_split=0.2,\n",
    "    subset=\"training\",\n",
    "    seed=seed,\n",
    ")\n",
    "\n",
    "class_names = raw_train_ds.class_names\n",
    "train_ds = raw_train_ds.cache().prefetch(buffer_size=AUTOTUNE)\n",
    "\n",
    "val_ds = tf.keras.preprocessing.text_dataset_from_directory(\n",
    "    path + \"aclImdb/train\",\n",
    "    batch_size=batch_size,\n",
    "    validation_split=0.2,\n",
    "    subset=\"validation\",\n",
    "    seed=seed,\n",
    ")\n",
    "\n",
    "val_ds = val_ds.cache().prefetch(buffer_size=AUTOTUNE)\n",
    "\n",
    "test_ds = tf.keras.preprocessing.text_dataset_from_directory(\n",
    "    path + \"aclImdb/test\", batch_size=batch_size\n",
    ")\n",
    "\n",
    "test_ds = test_ds.cache().prefetch(buffer_size=AUTOTUNE)"
   ]
  },
  {
   "cell_type": "markdown",
   "id": "9548fc4e-c2eb-4ecf-88e2-67dc696bf58e",
   "metadata": {
    "id": "9548fc4e-c2eb-4ecf-88e2-67dc696bf58e"
   },
   "source": [
    "## Train BERT model with Keras NLP\n",
    "\n",
    "For the purpose of this lab, we will be loading a small model called tiny BERT, already pre-trained for sentiment analysis purpose. The tiny BERT has the same general architecture as the original BERT but the has fewer and/or smaller Transformer blocks.\n",
    "\n",
    "For other model types, see the [Keras NLP documentation](https://keras.io/api/keras_nlp/models/bert/bert_classifier/)."
   ]
  },
  {
   "cell_type": "code",
   "execution_count": 6,
   "id": "66c07033-70a7-4a40-9d45-5a8ae914aba8",
   "metadata": {
    "id": "66c07033-70a7-4a40-9d45-5a8ae914aba8",
    "tags": []
   },
   "outputs": [],
   "source": [
    "classifier = keras_nlp.models.BertClassifier.from_preset(\n",
    "    \"bert_tiny_en_uncased_sst2\",\n",
    ")"
   ]
  },
  {
   "cell_type": "markdown",
   "id": "26dc13b0-7e28-409a-8902-0b0d3920e37c",
   "metadata": {},
   "source": [
    "We use adamw optimizer with a warm-up period. See [this paper](https://arxiv.org/abs/1905.05583) for a general guideline of BERT finetuning"
   ]
  },
  {
   "cell_type": "code",
   "execution_count": 7,
   "id": "7c5730a4-a354-404b-8b74-5b041af0cd5a",
   "metadata": {
    "id": "7c5730a4-a354-404b-8b74-5b041af0cd5a",
    "tags": []
   },
   "outputs": [],
   "source": [
    "epochs = 5\n",
    "steps_per_epoch = tf.data.experimental.cardinality(train_ds).numpy()\n",
    "num_train_steps = steps_per_epoch * epochs\n",
    "num_warmup_steps = int(0.1 * num_train_steps)\n",
    "\n",
    "warmup_tgt = 3e-5\n",
    "scheduler = tf.keras.optimizers.schedules.CosineDecay(\n",
    "    0.0,\n",
    "    num_train_steps,\n",
    "    warmup_target=warmup_tgt,\n",
    "    warmup_steps=num_warmup_steps,\n",
    ")\n",
    "\n",
    "optimizer = tf.keras.optimizers.AdamW(learning_rate=scheduler)"
   ]
  },
  {
   "cell_type": "code",
   "execution_count": 8,
   "id": "f34cc4b3-4a58-412e-97d0-4912c942e5ae",
   "metadata": {
    "id": "f34cc4b3-4a58-412e-97d0-4912c942e5ae",
    "tags": []
   },
   "outputs": [],
   "source": [
    "classifier.compile(\n",
    "    optimizer=optimizer,\n",
    "    loss=tf.keras.losses.SparseCategoricalCrossentropy(from_logits=True),\n",
    "    metrics=[tf.metrics.SparseCategoricalAccuracy()],\n",
    ")"
   ]
  },
  {
   "cell_type": "code",
   "execution_count": 9,
   "id": "029e9ecb-db92-4aae-a031-fd6bfa3754c1",
   "metadata": {
    "colab": {
     "base_uri": "https://localhost:8080/"
    },
    "id": "029e9ecb-db92-4aae-a031-fd6bfa3754c1",
    "outputId": "fc2b5f5f-a01d-495c-ed64-bdf634512ef4",
    "tags": []
   },
   "outputs": [
    {
     "name": "stdout",
     "output_type": "stream",
     "text": [
      "Epoch 1/5\n",
      "625/625 [==============================] - 101s 145ms/step - loss: 0.3972 - sparse_categorical_accuracy: 0.8220 - val_loss: 0.3382 - val_sparse_categorical_accuracy: 0.8574\n",
      "Epoch 2/5\n",
      "625/625 [==============================] - 59s 95ms/step - loss: 0.3132 - sparse_categorical_accuracy: 0.8662 - val_loss: 0.3093 - val_sparse_categorical_accuracy: 0.8696\n",
      "Epoch 3/5\n",
      "625/625 [==============================] - 56s 90ms/step - loss: 0.2743 - sparse_categorical_accuracy: 0.8877 - val_loss: 0.2977 - val_sparse_categorical_accuracy: 0.8774\n",
      "Epoch 4/5\n",
      "625/625 [==============================] - 57s 92ms/step - loss: 0.2488 - sparse_categorical_accuracy: 0.9004 - val_loss: 0.2976 - val_sparse_categorical_accuracy: 0.8818\n",
      "Epoch 5/5\n",
      "625/625 [==============================] - 50s 80ms/step - loss: 0.2312 - sparse_categorical_accuracy: 0.9082 - val_loss: 0.2984 - val_sparse_categorical_accuracy: 0.8800\n"
     ]
    }
   ],
   "source": [
    "FILE_PATH = \"./model\"\n",
    "\n",
    "checkpoint_cb = keras.callbacks.ModelCheckpoint(\n",
    "    FILE_PATH,\n",
    "    monitor=\"val_loss\",\n",
    "    save_best_only=True,\n",
    ")\n",
    "\n",
    "history = classifier.fit(\n",
    "    x=train_ds, validation_data=val_ds, epochs=epochs, callbacks=[checkpoint_cb]\n",
    ")"
   ]
  },
  {
   "cell_type": "markdown",
   "id": "d5b92e8a-fd0e-40de-a1e1-a91de3c0b256",
   "metadata": {
    "id": "d5b92e8a-fd0e-40de-a1e1-a91de3c0b256"
   },
   "source": [
    "---"
   ]
  },
  {
   "cell_type": "markdown",
   "id": "0960b150-272c-4de9-972c-57356d918a1f",
   "metadata": {
    "id": "0960b150-272c-4de9-972c-57356d918a1f"
   },
   "source": [
    "## Use the Learning Interpretability Tool\n",
    "\n",
    "Let's start using the Learning Interpretability Tool. We use LIT for our Keras model, but please note that LIT itself is framework agnostic.\n",
    "\n",
    "<img src=\"https://pair-code.github.io/lit/documentation/_images/lit-system-diagram.svg\" width=\"1084\">\n",
    "\n",
    "In this notebook, We'll configure two LIT objects: Dataset and Model.\n",
    "\n",
    "### Dataset\n",
    "Datasets are lists of examples, with associated type information following LIT’s type system.\n",
    "\n",
    "- `spec()` should return a flat dict that describes the fields in each example. Note that each item is typed using Lit types. See [the documentation about the Lit types](https://pair-code.github.io/lit/documentation/api.html#available-types) for more details.\n",
    "- `self._examples` should be a list of flat dicts, conforming to `spec()`\n",
    "\n",
    "LIT operates on all examples loaded in the datasets you include in your LIT server. Therefore, you should take care to use dataset sizes that can fit into memory on your backend server and can be displayed in the browser.\n",
    "\n",
    "Implementations should subclass [Dataset](https://github.com/PAIR-code/lit/blob/main/lit_nlp/api/dataset.py). Usually, this is just a few lines of code like the example below."
   ]
  },
  {
   "cell_type": "code",
   "execution_count": 28,
   "id": "17ea1c05-723f-4c7b-becb-f813a6d565bc",
   "metadata": {
    "id": "17ea1c05-723f-4c7b-becb-f813a6d565bc",
    "tags": []
   },
   "outputs": [],
   "source": [
    "NUM_DATA = 100  # Get small samples\n",
    "LABELS = [\"negative\", \"positive\"]\n",
    "\n",
    "\n",
    "class ImdbSentimentData(lit_dataset.Dataset):\n",
    "\n",
    "    def __init__(self, dataset: tf.data.Dataset):\n",
    "        data_array = list(\n",
    "            dataset.shuffle(dataset.cardinality()).as_numpy_iterator()\n",
    "        )\n",
    "        texts, labels = [], []\n",
    "        for fs, ls in data_array:\n",
    "            texts.extend([f.decode() for f in fs if len(f.decode())])\n",
    "            labels.extend(ls)\n",
    "        # Store as a list of dicts, conforming to self.spec()\n",
    "        self._examples = [\n",
    "            {\n",
    "                \"text\": text,\n",
    "                \"label\": LABELS[1] if label else LABELS[0],\n",
    "            }\n",
    "            for text, label in zip(texts[:NUM_DATA], labels[:NUM_DATA])\n",
    "        ]\n",
    "\n",
    "    def spec(self):\n",
    "        return {\n",
    "            \"text\": lit_types.TextSegment(),\n",
    "            \"label\": lit_types.CategoryLabel(vocab=LABELS),\n",
    "        }"
   ]
  },
  {
   "cell_type": "markdown",
   "id": "a586f8a6-706e-4fa1-8a50-71734badd5a3",
   "metadata": {},
   "source": [
    "### Model\n",
    "\n",
    "Models are functions that take inputs and produce outputs, with associated type information following LIT’s type system. \n",
    "\n",
    "The core API consists of three methods:\n",
    "- `input_spec()` should return a flat dict that describes necessary input fields. Here we define `\"text\"` and `\"label\"`.\n",
    "- `output_spec()` should return a flat dict that describes the model’s predictions and any additional outputs. In our case, we use the `MulticlassPreds` type.\n",
    "- `predict()` should take a sequence of inputs (satisfying `input_spec()`) and yields a parallel sequence of outputs matching `output_spec()`.\n",
    "\n",
    "Implementations should subclass [Model](https://github.com/PAIR-code/lit/blob/main/lit_nlp/api/model.py). \n",
    "\n",
    "With this simple Model setup, we can use a black box interpretability method, LIME, since it just pays attention to inputs and outputs."
   ]
  },
  {
   "cell_type": "code",
   "execution_count": 29,
   "id": "9db7866b-43b9-4bb6-b6e1-3b7e07d15911",
   "metadata": {
    "id": "9db7866b-43b9-4bb6-b6e1-3b7e07d15911",
    "tags": []
   },
   "outputs": [],
   "source": [
    "class BertSentimentModel(lit_model.Model):\n",
    "\n",
    "    def __init__(self, model: tf.keras.Model):\n",
    "        self._model = model\n",
    "\n",
    "    def predict(self, inputs: Iterable[JsonDict]) -> Iterable[JsonDict]:\n",
    "        examples = [d[\"text\"] for d in inputs]\n",
    "        tokens = self._model.preprocessor(examples)\n",
    "        logits = self._model(tokens)\n",
    "        probs = tf.keras.activations.sigmoid(logits)\n",
    "        return [{\"prob\": prob.numpy()} for prob in probs]\n",
    "\n",
    "    def input_spec(self) -> Spec:\n",
    "        return {\n",
    "            \"text\": lit_types.TextSegment(),\n",
    "            \"label\": lit_types.CategoryLabel(required=False, vocab=LABELS),\n",
    "        }\n",
    "\n",
    "    def output_spec(self) -> Spec:\n",
    "        return {\n",
    "            \"prob\": lit_types.MulticlassPreds(vocab=LABELS, parent=\"label\"),\n",
    "        }"
   ]
  },
  {
   "cell_type": "markdown",
   "id": "2ac33808-5fc6-4bbe-be62-2b7c40696949",
   "metadata": {},
   "source": [
    "Now let's create a LIT widget in the notebook."
   ]
  },
  {
   "cell_type": "code",
   "execution_count": 41,
   "id": "9a9bd33b-2740-453e-843f-0a6eadaee0e6",
   "metadata": {
    "colab": {
     "base_uri": "https://localhost:8080/"
    },
    "id": "9a9bd33b-2740-453e-843f-0a6eadaee0e6",
    "outputId": "6996d79a-ae5f-4a6a-bee0-bf17a57d1a5c",
    "tags": []
   },
   "outputs": [
    {
     "name": "stderr",
     "output_type": "stream",
     "text": [
      "WARNING:absl:Unable to infer init spec for model 'BertSentimentModel'. Unsupported type '<class 'keras.src.engine.training.Model'>' for parameter 'model' of '__init__'. If possible (e.g., this parameter is Optional), please implement a spec literal instead of using inferencing.\n",
      "WARNING:absl:Unable to infer init spec for dataset 'ImdbSentimentData'. Unsupported type '<class 'tensorflow.python.data.ops.dataset_ops.DatasetV2'>' for parameter 'dataset' of '__init__'. If possible (e.g., this parameter is Optional), please implement a spec literal instead of using inferencing.\n",
      "WARNING:absl:Unable to infer init spec for dataset 'NoneDataset'. Unable to infer a type for parameter 'models' of '__init__'. Please add a type hint or default value, or implement a Spec literal.\n",
      "::1 - - [06/Sep/2024 13:46:27] \"POST /get_info HTTP/1.1\" 200 24099\n",
      "::1 - - [06/Sep/2024 13:46:28] \"POST /get_dataset?dataset_name=acllmdb HTTP/1.1\" 200 162449\n",
      "::1 - - [06/Sep/2024 13:46:28] \"POST /get_interpretations?model=BERT%20classifier&dataset_name=acllmdb&interpreter=classification&do_predict=1 HTTP/1.1\" 200 17463\n",
      "::1 - - [06/Sep/2024 13:46:28] \"POST /push_ui_state?dataset_name=acllmdb HTTP/1.1\" 200 4\n",
      "::1 - - [06/Sep/2024 13:46:28] \"POST /get_metrics?model=BERT%20classifier&dataset_name=acllmdb&metrics=multiclass,paired&do_predict=1 HTTP/1.1\" 200 162\n",
      "::1 - - [06/Sep/2024 13:46:30] \"POST /push_ui_state?dataset_name=acllmdb HTTP/1.1\" 200 4\n",
      "::1 - - [06/Sep/2024 13:46:30] \"POST /push_ui_state?dataset_name=acllmdb HTTP/1.1\" 200 4\n",
      "::1 - - [06/Sep/2024 13:46:31] \"POST /get_preds?model=BERT%20classifier&dataset_name=acllmdb&requested_types=MulticlassPreds,RegressionScore&requested_fields= HTTP/1.1\" 200 53\n",
      "::1 - - [06/Sep/2024 13:46:35] \"POST /push_ui_state?dataset_name=acllmdb HTTP/1.1\" 200 4\n",
      "::1 - - [06/Sep/2024 13:46:36] \"POST /push_ui_state?dataset_name=acllmdb HTTP/1.1\" 200 4\n",
      "::1 - - [06/Sep/2024 13:46:36] \"POST /push_ui_state?dataset_name=acllmdb HTTP/1.1\" 200 4\n",
      "::1 - - [06/Sep/2024 13:46:37] \"POST /push_ui_state?dataset_name=acllmdb HTTP/1.1\" 200 4\n",
      "::1 - - [06/Sep/2024 13:46:38] \"POST /get_preds?model=BERT%20classifier&dataset_name=acllmdb&requested_types=MulticlassPreds,RegressionScore&requested_fields= HTTP/1.1\" 200 53\n",
      "::1 - - [06/Sep/2024 13:46:43] \"POST /push_ui_state?dataset_name=acllmdb HTTP/1.1\" 200 4\n",
      "::1 - - [06/Sep/2024 13:46:44] \"POST /push_ui_state?dataset_name=acllmdb HTTP/1.1\" 200 4\n",
      "::1 - - [06/Sep/2024 13:46:48] \"POST /push_ui_state?dataset_name=acllmdb HTTP/1.1\" 200 4\n",
      "::1 - - [06/Sep/2024 13:46:49] \"POST /push_ui_state?dataset_name=acllmdb HTTP/1.1\" 200 4\n",
      "::1 - - [06/Sep/2024 13:47:00] \"POST /get_info HTTP/1.1\" 200 24099\n",
      "::1 - - [06/Sep/2024 13:47:00] \"POST /get_dataset?dataset_name=acllmdb HTTP/1.1\" 200 162449\n",
      "::1 - - [06/Sep/2024 13:47:01] \"POST /push_ui_state?dataset_name=acllmdb HTTP/1.1\" 200 4\n",
      "::1 - - [06/Sep/2024 13:47:01] \"POST /get_interpretations?model=BERT%20classifier&dataset_name=acllmdb&interpreter=classification&do_predict=1 HTTP/1.1\" 200 17463\n",
      "::1 - - [06/Sep/2024 13:47:01] \"POST /get_metrics?model=BERT%20classifier&dataset_name=acllmdb&metrics=multiclass,paired&do_predict=1 HTTP/1.1\" 200 162\n",
      "::1 - - [06/Sep/2024 13:47:52] \"POST /get_preds?model=BERT%20classifier&dataset_name=acllmdb&requested_types=MulticlassPreds,RegressionScore&requested_fields= HTTP/1.1\" 200 51\n"
     ]
    }
   ],
   "source": [
    "# Create the LIT widget with the model and dataset to analyze.\n",
    "datasets = {\"acllmdb\": ImdbSentimentData(test_ds)}\n",
    "models = {\"BERT classifier\": BertSentimentModel(classifier)}\n",
    "layouts = {\"default\": \"default\"}\n",
    "\n",
    "# Uncomment below when you rerun the widget.\n",
    "widget.stop()\n",
    "widget = notebook.LitWidget(models, datasets, port=8890)"
   ]
  },
  {
   "cell_type": "markdown",
   "id": "81fb6102-b772-4027-bdb3-12e604fa9286",
   "metadata": {},
   "source": [
    "You can render the widget using the `render()` method.<br>\n",
    "The widget can be embedded in the notebook, but let's add `open_in_new_tab=True` and check the widget on another tab.\n",
    "\n",
    "Feel free to play around with the UI and check how the concepts we defined above are linked to the LIT UI."
   ]
  },
  {
   "cell_type": "code",
   "execution_count": 42,
   "id": "a423cb4d-87e5-4dd2-8bba-1c45dff1c221",
   "metadata": {
    "colab": {
     "base_uri": "https://localhost:8080/",
     "height": 621
    },
    "id": "a423cb4d-87e5-4dd2-8bba-1c45dff1c221",
    "outputId": "7fea223f-cabe-43dc-e2f5-39138d9f7c4f",
    "tags": []
   },
   "outputs": [
    {
     "data": {
      "text/html": [
       "\n",
       "      <a href=\"javascript:void(0);\" id=\"lit-frame-65902ebd77ef752d\"></a>\n",
       "      <script>\n",
       "        (function() {\n",
       "          const urlStr = \"/proxy/8890/\" + '?'\n",
       "          const url = new URL(urlStr, window.location);\n",
       "          const port = 0;\n",
       "          if (port) {\n",
       "            url.port = port;\n",
       "          }\n",
       "          const a = document.getElementById(\"lit-frame-65902ebd77ef752d\");\n",
       "          a.innerHTML = url;\n",
       "          a.onclick = (e) => window.open(url, \"_blank\");\n",
       "          window.open(url, \"_blank\");\n",
       "        })();\n",
       "      </script>\n",
       "    "
      ],
      "text/plain": [
       "<IPython.core.display.HTML object>"
      ]
     },
     "metadata": {},
     "output_type": "display_data"
    }
   ],
   "source": [
    "# Render the widget\n",
    "widget.render(height=600, open_in_new_tab=True)"
   ]
  },
  {
   "cell_type": "markdown",
   "id": "a9282849-d149-4c5f-b2d4-0f31c050f1d8",
   "metadata": {
    "tags": []
   },
   "source": [
    "### Customize the Layout\n",
    "\n",
    "The UI looks handy, isn't it?<br>\n",
    "But you might want to change the layout a bit. No worries! The LIT UI is customizable.<br>\n",
    "\n",
    "Let's switch to a richer layout from the prebuild layout catalog. <br>\n",
    "We'll keep the original UI in case you want to switch back by passing multiple layouts in a dictionary.\n"
   ]
  },
  {
   "cell_type": "code",
   "execution_count": 71,
   "id": "d315295b-6a3d-421b-b96c-5a86b30e7f00",
   "metadata": {
    "tags": []
   },
   "outputs": [],
   "source": [
    "layouts = {\n",
    "    \"rich_layout\": layout.THREE_PANEL_LAYOUT,\n",
    "    \"default\": notebook.LIT_NOTEBOOK_LAYOUT,\n",
    "}"
   ]
  },
  {
   "cell_type": "code",
   "execution_count": 72,
   "id": "fb366850-63c9-435d-92d6-a6f4a72d3008",
   "metadata": {
    "tags": []
   },
   "outputs": [
    {
     "name": "stderr",
     "output_type": "stream",
     "text": [
      "WARNING:absl:Unable to infer init spec for model 'BertSentimentModel'. Unsupported type '<class 'keras.src.engine.training.Model'>' for parameter 'model' of '__init__'. If possible (e.g., this parameter is Optional), please implement a spec literal instead of using inferencing.\n",
      "WARNING:absl:Unable to infer init spec for dataset 'ImdbSentimentData'. Unsupported type '<class 'tensorflow.python.data.ops.dataset_ops.DatasetV2'>' for parameter 'dataset' of '__init__'. If possible (e.g., this parameter is Optional), please implement a spec literal instead of using inferencing.\n",
      "WARNING:absl:Unable to infer init spec for dataset 'NoneDataset'. Unable to infer a type for parameter 'models' of '__init__'. Please add a type hint or default value, or implement a Spec literal.\n"
     ]
    },
    {
     "data": {
      "text/html": [
       "\n",
       "      <a href=\"javascript:void(0);\" id=\"lit-frame-5cc5911c67f85a2c\"></a>\n",
       "      <script>\n",
       "        (function() {\n",
       "          const urlStr = \"/proxy/8890/\" + '?'\n",
       "          const url = new URL(urlStr, window.location);\n",
       "          const port = 0;\n",
       "          if (port) {\n",
       "            url.port = port;\n",
       "          }\n",
       "          const a = document.getElementById(\"lit-frame-5cc5911c67f85a2c\");\n",
       "          a.innerHTML = url;\n",
       "          a.onclick = (e) => window.open(url, \"_blank\");\n",
       "          window.open(url, \"_blank\");\n",
       "        })();\n",
       "      </script>\n",
       "    "
      ],
      "text/plain": [
       "<IPython.core.display.HTML object>"
      ]
     },
     "metadata": {},
     "output_type": "display_data"
    },
    {
     "name": "stderr",
     "output_type": "stream",
     "text": [
      "::1 - - [06/Sep/2024 14:29:40] \"GET /main.js HTTP/1.1\" 200 2024211\n",
      "::1 - - [06/Sep/2024 14:29:41] \"GET /static/favicon.png HTTP/1.1\" 200 13257\n",
      "::1 - - [06/Sep/2024 14:29:41] \"POST /get_info HTTP/1.1\" 200 26045\n",
      "::1 - - [06/Sep/2024 14:29:42] \"POST /get_dataset?dataset_name=acllmdb HTTP/1.1\" 200 162449\n",
      "::1 - - [06/Sep/2024 14:29:42] \"GET /static/onboarding_1_welcome.gif HTTP/1.1\" 200 584363\n",
      "::1 - - [06/Sep/2024 14:29:42] \"POST /push_ui_state?dataset_name=acllmdb HTTP/1.1\" 200 4\n",
      "::1 - - [06/Sep/2024 14:29:43] \"POST /get_metrics?model=BERT%20classifier&dataset_name=acllmdb&metrics=multiclass,paired&do_predict=1 HTTP/1.1\" 200 162\n",
      "::1 - - [06/Sep/2024 14:29:43] \"POST /get_interpretations?model=BERT%20classifier&dataset_name=acllmdb&interpreter=classification&do_predict=1 HTTP/1.1\" 200 17463\n",
      "::1 - - [06/Sep/2024 14:29:46] \"POST /get_metrics?model=BERT%20classifier&dataset_name=acllmdb&metrics=multiclass,paired&do_predict=1 HTTP/1.1\" 200 162\n",
      "::1 - - [06/Sep/2024 14:29:47] \"POST /get_metrics?model=BERT%20classifier&dataset_name=acllmdb&metrics=multiclass,paired&do_predict=1 HTTP/1.1\" 200 162\n",
      "::1 - - [06/Sep/2024 14:29:51] \"POST /get_metrics?model=BERT%20classifier&dataset_name=acllmdb&metrics=multiclass,paired&do_predict=1 HTTP/1.1\" 200 162\n",
      "::1 - - [06/Sep/2024 14:29:52] \"POST /get_metrics?model=BERT%20classifier&dataset_name=acllmdb&metrics=multiclass,paired&do_predict=1 HTTP/1.1\" 200 162\n",
      "::1 - - [06/Sep/2024 14:29:54] \"POST /get_metrics?model=BERT%20classifier&dataset_name=acllmdb&metrics=multiclass,paired&do_predict=1 HTTP/1.1\" 200 162\n",
      "::1 - - [06/Sep/2024 14:29:55] \"POST /get_metrics?model=BERT%20classifier&dataset_name=acllmdb&metrics=multiclass,paired&do_predict=1 HTTP/1.1\" 200 162\n",
      "::1 - - [06/Sep/2024 14:29:59] \"POST /get_metrics?model=BERT%20classifier&dataset_name=acllmdb&metrics=multiclass,paired&do_predict=1 HTTP/1.1\" 200 161\n",
      "::1 - - [06/Sep/2024 14:29:59] \"POST /push_ui_state?dataset_name=acllmdb HTTP/1.1\" 200 4\n",
      "::1 - - [06/Sep/2024 14:30:00] \"POST /get_preds?model=BERT%20classifier&dataset_name=acllmdb&requested_types=MulticlassPreds,RegressionScore&requested_fields= HTTP/1.1\" 200 51\n",
      "WARNING:absl:Attmepting to retrieve 256 (of 257) predictions from the cache where the cache key is None - this can be from a missing or empty example id. These will call model.predict() on this and subsequent calls.\n",
      "::1 - - [06/Sep/2024 14:30:04] \"POST /get_interpretations?model=BERT%20classifier&dataset_name=acllmdb&interpreter=LIME&do_predict=1 HTTP/1.1\" 200 4403\n",
      "WARNING:absl:Attmepting to retrieve 256 (of 257) predictions from the cache where the cache key is None - this can be from a missing or empty example id. These will call model.predict() on this and subsequent calls.\n",
      "::1 - - [06/Sep/2024 14:30:11] \"POST /get_interpretations?model=BERT%20classifier&dataset_name=acllmdb&interpreter=LIME&do_predict=1 HTTP/1.1\" 200 7164\n",
      "::1 - - [06/Sep/2024 14:30:11] \"POST /get_preds?model=BERT%20classifier&dataset_name=acllmdb&requested_types=MulticlassPreds,RegressionScore&requested_fields= HTTP/1.1\" 200 53\n",
      "WARNING:absl:Attmepting to retrieve 256 (of 257) predictions from the cache where the cache key is None - this can be from a missing or empty example id. These will call model.predict() on this and subsequent calls.\n",
      "::1 - - [06/Sep/2024 14:30:11] \"POST /get_interpretations?model=BERT%20classifier&dataset_name=acllmdb&interpreter=LIME&do_predict=1 HTTP/1.1\" 200 7172\n",
      "::1 - - [06/Sep/2024 14:30:11] \"POST /push_ui_state?dataset_name=acllmdb HTTP/1.1\" 200 4\n",
      "WARNING:absl:Attmepting to retrieve 256 (of 257) predictions from the cache where the cache key is None - this can be from a missing or empty example id. These will call model.predict() on this and subsequent calls.\n",
      "::1 - - [06/Sep/2024 14:30:12] \"POST /get_interpretations?model=BERT%20classifier&dataset_name=acllmdb&interpreter=LIME&do_predict=1 HTTP/1.1\" 200 7174\n",
      "::1 - - [06/Sep/2024 14:30:26] \"POST /push_ui_state?dataset_name=acllmdb HTTP/1.1\" 200 4\n",
      "WARNING:absl:Attmepting to retrieve 256 (of 257) predictions from the cache where the cache key is None - this can be from a missing or empty example id. These will call model.predict() on this and subsequent calls.\n",
      "::1 - - [06/Sep/2024 14:30:26] \"POST /get_interpretations?model=BERT%20classifier&dataset_name=acllmdb&interpreter=LIME&do_predict=1 HTTP/1.1\" 200 5775\n",
      "::1 - - [06/Sep/2024 14:30:26] \"POST /get_preds?model=BERT%20classifier&dataset_name=acllmdb&requested_types=MulticlassPreds,RegressionScore&requested_fields= HTTP/1.1\" 200 52\n",
      "WARNING:absl:Attmepting to retrieve 256 (of 257) predictions from the cache where the cache key is None - this can be from a missing or empty example id. These will call model.predict() on this and subsequent calls.\n",
      "::1 - - [06/Sep/2024 14:30:27] \"POST /get_interpretations?model=BERT%20classifier&dataset_name=acllmdb&interpreter=LIME&do_predict=1 HTTP/1.1\" 200 5770\n",
      "WARNING:absl:Attmepting to retrieve 256 (of 257) predictions from the cache where the cache key is None - this can be from a missing or empty example id. These will call model.predict() on this and subsequent calls.\n",
      "::1 - - [06/Sep/2024 14:30:27] \"POST /get_interpretations?model=BERT%20classifier&dataset_name=acllmdb&interpreter=LIME&do_predict=1 HTTP/1.1\" 200 5773\n",
      "::1 - - [06/Sep/2024 14:30:27] \"POST /push_ui_state?dataset_name=acllmdb HTTP/1.1\" 200 4\n",
      "WARNING:absl:Attmepting to retrieve 256 (of 257) predictions from the cache where the cache key is None - this can be from a missing or empty example id. These will call model.predict() on this and subsequent calls.\n",
      "::1 - - [06/Sep/2024 14:30:28] \"POST /get_interpretations?model=BERT%20classifier&dataset_name=acllmdb&interpreter=LIME&do_predict=1 HTTP/1.1\" 200 26383\n",
      "::1 - - [06/Sep/2024 14:30:28] \"POST /get_preds?model=BERT%20classifier&dataset_name=acllmdb&requested_types=MulticlassPreds,RegressionScore&requested_fields= HTTP/1.1\" 200 53\n",
      "WARNING:absl:Attmepting to retrieve 256 (of 257) predictions from the cache where the cache key is None - this can be from a missing or empty example id. These will call model.predict() on this and subsequent calls.\n",
      "::1 - - [06/Sep/2024 14:30:29] \"POST /get_interpretations?model=BERT%20classifier&dataset_name=acllmdb&interpreter=LIME&do_predict=1 HTTP/1.1\" 200 26376\n",
      "WARNING:absl:Attmepting to retrieve 256 (of 257) predictions from the cache where the cache key is None - this can be from a missing or empty example id. These will call model.predict() on this and subsequent calls.\n",
      "::1 - - [06/Sep/2024 14:30:30] \"POST /get_interpretations?model=BERT%20classifier&dataset_name=acllmdb&interpreter=LIME&do_predict=1 HTTP/1.1\" 200 26333\n",
      "::1 - - [06/Sep/2024 14:30:30] \"POST /get_preds?model=BERT%20classifier&dataset_name=acllmdb&requested_types=MulticlassPreds,RegressionScore&requested_fields= HTTP/1.1\" 200 51\n",
      "::1 - - [06/Sep/2024 14:30:30] \"POST /push_ui_state?dataset_name=acllmdb HTTP/1.1\" 200 4\n",
      "WARNING:absl:Attmepting to retrieve 256 (of 257) predictions from the cache where the cache key is None - this can be from a missing or empty example id. These will call model.predict() on this and subsequent calls.\n",
      "::1 - - [06/Sep/2024 14:30:30] \"POST /get_interpretations?model=BERT%20classifier&dataset_name=acllmdb&interpreter=LIME&do_predict=1 HTTP/1.1\" 200 4385\n",
      "WARNING:absl:Attmepting to retrieve 256 (of 257) predictions from the cache where the cache key is None - this can be from a missing or empty example id. These will call model.predict() on this and subsequent calls.\n",
      "::1 - - [06/Sep/2024 14:30:31] \"POST /get_interpretations?model=BERT%20classifier&dataset_name=acllmdb&interpreter=LIME&do_predict=1 HTTP/1.1\" 200 4385\n",
      "WARNING:absl:Attmepting to retrieve 256 (of 257) predictions from the cache where the cache key is None - this can be from a missing or empty example id. These will call model.predict() on this and subsequent calls.\n",
      "::1 - - [06/Sep/2024 14:30:31] \"POST /get_interpretations?model=BERT%20classifier&dataset_name=acllmdb&interpreter=LIME&do_predict=1 HTTP/1.1\" 200 4399\n",
      "::1 - - [06/Sep/2024 14:30:31] \"POST /push_ui_state?dataset_name=acllmdb HTTP/1.1\" 200 4\n",
      "WARNING:absl:Attmepting to retrieve 256 (of 257) predictions from the cache where the cache key is None - this can be from a missing or empty example id. These will call model.predict() on this and subsequent calls.\n",
      "::1 - - [06/Sep/2024 14:30:32] \"POST /get_interpretations?model=BERT%20classifier&dataset_name=acllmdb&interpreter=LIME&do_predict=1 HTTP/1.1\" 200 7174\n",
      "WARNING:absl:Attmepting to retrieve 256 (of 257) predictions from the cache where the cache key is None - this can be from a missing or empty example id. These will call model.predict() on this and subsequent calls.\n",
      "::1 - - [06/Sep/2024 14:30:32] \"POST /get_interpretations?model=BERT%20classifier&dataset_name=acllmdb&interpreter=LIME&do_predict=1 HTTP/1.1\" 200 7181\n",
      "::1 - - [06/Sep/2024 14:30:32] \"POST /get_preds?model=BERT%20classifier&dataset_name=acllmdb&requested_types=MulticlassPreds,RegressionScore&requested_fields= HTTP/1.1\" 200 53\n",
      "WARNING:absl:Attmepting to retrieve 256 (of 257) predictions from the cache where the cache key is None - this can be from a missing or empty example id. These will call model.predict() on this and subsequent calls.\n",
      "::1 - - [06/Sep/2024 14:30:34] \"POST /get_interpretations?model=BERT%20classifier&dataset_name=acllmdb&interpreter=LIME&do_predict=1 HTTP/1.1\" 200 7186\n",
      "::1 - - [06/Sep/2024 14:30:42] \"POST /push_ui_state?dataset_name=acllmdb HTTP/1.1\" 200 4\n",
      "WARNING:absl:Attmepting to retrieve 256 (of 257) predictions from the cache where the cache key is None - this can be from a missing or empty example id. These will call model.predict() on this and subsequent calls.\n",
      "::1 - - [06/Sep/2024 14:30:42] \"POST /get_interpretations?model=BERT%20classifier&dataset_name=acllmdb&interpreter=LIME&do_predict=1 HTTP/1.1\" 200 5780\n",
      "WARNING:absl:Attmepting to retrieve 256 (of 257) predictions from the cache where the cache key is None - this can be from a missing or empty example id. These will call model.predict() on this and subsequent calls.\n",
      "::1 - - [06/Sep/2024 14:30:43] \"POST /get_interpretations?model=BERT%20classifier&dataset_name=acllmdb&interpreter=LIME&do_predict=1 HTTP/1.1\" 200 5772\n",
      "::1 - - [06/Sep/2024 14:30:43] \"POST /get_preds?model=BERT%20classifier&dataset_name=acllmdb&requested_types=MulticlassPreds,RegressionScore&requested_fields= HTTP/1.1\" 200 52\n",
      "WARNING:absl:Attmepting to retrieve 256 (of 257) predictions from the cache where the cache key is None - this can be from a missing or empty example id. These will call model.predict() on this and subsequent calls.\n",
      "::1 - - [06/Sep/2024 14:30:43] \"POST /get_interpretations?model=BERT%20classifier&dataset_name=acllmdb&interpreter=LIME&do_predict=1 HTTP/1.1\" 200 5768\n",
      "::1 - - [06/Sep/2024 14:53:35] \"POST /get_metrics?model=BERT%20classifier&dataset_name=acllmdb&metrics=multiclass,paired&do_predict=1 HTTP/1.1\" 200 161\n",
      "::1 - - [06/Sep/2024 14:53:36] \"POST /push_ui_state?dataset_name=acllmdb HTTP/1.1\" 200 4\n",
      "::1 - - [06/Sep/2024 14:53:42] \"POST /get_interpretations?model=BERT%20classifier&dataset_name=acllmdb&interpreter=curves&do_predict=1 HTTP/1.1\" 200 31\n",
      "::1 - - [06/Sep/2024 14:53:42] \"POST /get_interpretations?model=BERT%20classifier&dataset_name=acllmdb&interpreter=curves&do_predict=1 HTTP/1.1\" 200 4048\n",
      "::1 - - [06/Sep/2024 14:53:42] \"POST /get_interpretations?model=BERT%20classifier&dataset_name=acllmdb&interpreter=curves&do_predict=1 HTTP/1.1\" 200 4048\n",
      "::1 - - [06/Sep/2024 14:59:50] \"POST /push_ui_state?dataset_name=acllmdb HTTP/1.1\" 200 4\n",
      "::1 - - [06/Sep/2024 14:59:50] \"POST /get_preds?model=BERT%20classifier&dataset_name=acllmdb&requested_types=MulticlassPreds,RegressionScore&requested_fields= HTTP/1.1\" 200 52\n",
      "WARNING:absl:Attmepting to retrieve 256 (of 257) predictions from the cache where the cache key is None - this can be from a missing or empty example id. These will call model.predict() on this and subsequent calls.\n",
      "::1 - - [06/Sep/2024 14:59:51] \"POST /get_interpretations?model=BERT%20classifier&dataset_name=acllmdb&interpreter=LIME&do_predict=1 HTTP/1.1\" 200 5771\n",
      "WARNING:absl:Attmepting to retrieve 256 (of 257) predictions from the cache where the cache key is None - this can be from a missing or empty example id. These will call model.predict() on this and subsequent calls.\n",
      "::1 - - [06/Sep/2024 14:59:51] \"POST /get_interpretations?model=BERT%20classifier&dataset_name=acllmdb&interpreter=LIME&do_predict=1 HTTP/1.1\" 200 5772\n",
      "::1 - - [06/Sep/2024 14:59:54] \"POST /push_ui_state?dataset_name=acllmdb HTTP/1.1\" 200 4\n",
      "::1 - - [06/Sep/2024 14:59:54] \"POST /get_preds?model=BERT%20classifier&dataset_name=acllmdb&requested_types=MulticlassPreds,RegressionScore&requested_fields= HTTP/1.1\" 200 53\n",
      "WARNING:absl:Attmepting to retrieve 256 (of 257) predictions from the cache where the cache key is None - this can be from a missing or empty example id. These will call model.predict() on this and subsequent calls.\n",
      "::1 - - [06/Sep/2024 14:59:54] \"POST /get_interpretations?model=BERT%20classifier&dataset_name=acllmdb&interpreter=LIME&do_predict=1 HTTP/1.1\" 200 26355\n",
      "WARNING:absl:Attmepting to retrieve 256 (of 257) predictions from the cache where the cache key is None - this can be from a missing or empty example id. These will call model.predict() on this and subsequent calls.\n",
      "::1 - - [06/Sep/2024 14:59:55] \"POST /get_interpretations?model=BERT%20classifier&dataset_name=acllmdb&interpreter=LIME&do_predict=1 HTTP/1.1\" 200 26372\n",
      "WARNING:absl:Attmepting to retrieve 256 (of 257) predictions from the cache where the cache key is None - this can be from a missing or empty example id. These will call model.predict() on this and subsequent calls.\n",
      "::1 - - [06/Sep/2024 14:59:56] \"POST /get_interpretations?model=BERT%20classifier&dataset_name=acllmdb&interpreter=LIME&do_predict=1 HTTP/1.1\" 200 26400\n",
      "::1 - - [06/Sep/2024 14:59:56] \"POST /get_preds?model=BERT%20classifier&dataset_name=acllmdb&requested_types=MulticlassPreds,RegressionScore&requested_fields= HTTP/1.1\" 200 53\n",
      "::1 - - [06/Sep/2024 14:59:56] \"POST /push_ui_state?dataset_name=acllmdb HTTP/1.1\" 200 4\n",
      "WARNING:absl:Attmepting to retrieve 256 (of 257) predictions from the cache where the cache key is None - this can be from a missing or empty example id. These will call model.predict() on this and subsequent calls.\n",
      "::1 - - [06/Sep/2024 14:59:57] \"POST /get_interpretations?model=BERT%20classifier&dataset_name=acllmdb&interpreter=LIME&do_predict=1 HTTP/1.1\" 200 2218\n",
      "WARNING:absl:Attmepting to retrieve 256 (of 257) predictions from the cache where the cache key is None - this can be from a missing or empty example id. These will call model.predict() on this and subsequent calls.\n",
      "::1 - - [06/Sep/2024 14:59:57] \"POST /get_interpretations?model=BERT%20classifier&dataset_name=acllmdb&interpreter=LIME&do_predict=1 HTTP/1.1\" 200 2212\n",
      "::1 - - [06/Sep/2024 14:59:57] \"POST /get_preds?model=BERT%20classifier&dataset_name=acllmdb&requested_types=MulticlassPreds,RegressionScore&requested_fields= HTTP/1.1\" 200 53\n",
      "::1 - - [06/Sep/2024 14:59:57] \"POST /push_ui_state?dataset_name=acllmdb HTTP/1.1\" 200 4\n",
      "WARNING:absl:Attmepting to retrieve 256 (of 257) predictions from the cache where the cache key is None - this can be from a missing or empty example id. These will call model.predict() on this and subsequent calls.\n",
      "::1 - - [06/Sep/2024 14:59:58] \"POST /get_interpretations?model=BERT%20classifier&dataset_name=acllmdb&interpreter=LIME&do_predict=1 HTTP/1.1\" 200 2586\n",
      "::1 - - [06/Sep/2024 14:59:58] \"POST /push_ui_state?dataset_name=acllmdb HTTP/1.1\" 200 4\n",
      "::1 - - [06/Sep/2024 14:59:58] \"POST /get_preds?model=BERT%20classifier&dataset_name=acllmdb&requested_types=MulticlassPreds,RegressionScore&requested_fields= HTTP/1.1\" 200 53\n",
      "::1 - - [06/Sep/2024 14:59:58] \"POST /push_ui_state?dataset_name=acllmdb HTTP/1.1\" 200 4\n",
      "::1 - - [06/Sep/2024 14:59:58] \"POST /push_ui_state?dataset_name=acllmdb HTTP/1.1\" 200 4\n",
      "WARNING:absl:Attmepting to retrieve 256 (of 257) predictions from the cache where the cache key is None - this can be from a missing or empty example id. These will call model.predict() on this and subsequent calls.\n",
      "::1 - - [06/Sep/2024 14:59:59] \"POST /get_interpretations?model=BERT%20classifier&dataset_name=acllmdb&interpreter=LIME&do_predict=1 HTTP/1.1\" 200 3972\n",
      "::1 - - [06/Sep/2024 14:59:59] \"POST /get_preds?model=BERT%20classifier&dataset_name=acllmdb&requested_types=MulticlassPreds,RegressionScore&requested_fields= HTTP/1.1\" 200 53\n",
      "WARNING:absl:Attmepting to retrieve 256 (of 257) predictions from the cache where the cache key is None - this can be from a missing or empty example id. These will call model.predict() on this and subsequent calls.\n",
      "::1 - - [06/Sep/2024 14:59:59] \"POST /get_interpretations?model=BERT%20classifier&dataset_name=acllmdb&interpreter=LIME&do_predict=1 HTTP/1.1\" 200 3971\n",
      "::1 - - [06/Sep/2024 14:59:59] \"POST /get_preds?model=BERT%20classifier&dataset_name=acllmdb&requested_types=MulticlassPreds,RegressionScore&requested_fields= HTTP/1.1\" 200 52\n",
      "WARNING:absl:Attmepting to retrieve 256 (of 257) predictions from the cache where the cache key is None - this can be from a missing or empty example id. These will call model.predict() on this and subsequent calls.\n",
      "::1 - - [06/Sep/2024 15:00:00] \"POST /get_interpretations?model=BERT%20classifier&dataset_name=acllmdb&interpreter=LIME&do_predict=1 HTTP/1.1\" 200 10073\n",
      "::1 - - [06/Sep/2024 15:00:00] \"POST /push_ui_state?dataset_name=acllmdb HTTP/1.1\" 200 4\n",
      "WARNING:absl:Attmepting to retrieve 256 (of 257) predictions from the cache where the cache key is None - this can be from a missing or empty example id. These will call model.predict() on this and subsequent calls.\n",
      "::1 - - [06/Sep/2024 15:00:00] \"POST /get_interpretations?model=BERT%20classifier&dataset_name=acllmdb&interpreter=LIME&do_predict=1 HTTP/1.1\" 200 10077\n",
      "WARNING:absl:Attmepting to retrieve 256 (of 257) predictions from the cache where the cache key is None - this can be from a missing or empty example id. These will call model.predict() on this and subsequent calls.\n",
      "::1 - - [06/Sep/2024 15:00:01] \"POST /get_interpretations?model=BERT%20classifier&dataset_name=acllmdb&interpreter=LIME&do_predict=1 HTTP/1.1\" 200 10084\n",
      "::1 - - [06/Sep/2024 15:00:01] \"POST /push_ui_state?dataset_name=acllmdb HTTP/1.1\" 200 4\n",
      "::1 - - [06/Sep/2024 15:00:01] \"POST /get_preds?model=BERT%20classifier&dataset_name=acllmdb&requested_types=MulticlassPreds,RegressionScore&requested_fields= HTTP/1.1\" 200 53\n",
      "WARNING:absl:Attmepting to retrieve 256 (of 257) predictions from the cache where the cache key is None - this can be from a missing or empty example id. These will call model.predict() on this and subsequent calls.\n",
      "::1 - - [06/Sep/2024 15:00:02] \"POST /get_interpretations?model=BERT%20classifier&dataset_name=acllmdb&interpreter=LIME&do_predict=1 HTTP/1.1\" 200 7296\n",
      "WARNING:absl:Attmepting to retrieve 256 (of 257) predictions from the cache where the cache key is None - this can be from a missing or empty example id. These will call model.predict() on this and subsequent calls.\n",
      "::1 - - [06/Sep/2024 15:00:02] \"POST /get_interpretations?model=BERT%20classifier&dataset_name=acllmdb&interpreter=LIME&do_predict=1 HTTP/1.1\" 200 7308\n",
      "::1 - - [06/Sep/2024 15:00:02] \"POST /push_ui_state?dataset_name=acllmdb HTTP/1.1\" 200 4\n",
      "::1 - - [06/Sep/2024 15:00:02] \"POST /get_preds?model=BERT%20classifier&dataset_name=acllmdb&requested_types=MulticlassPreds,RegressionScore&requested_fields= HTTP/1.1\" 200 53\n",
      "::1 - - [06/Sep/2024 15:00:02] \"POST /push_ui_state?dataset_name=acllmdb HTTP/1.1\" 200 4\n",
      "::1 - - [06/Sep/2024 15:00:02] \"POST /get_preds?model=BERT%20classifier&dataset_name=acllmdb&requested_types=MulticlassPreds,RegressionScore&requested_fields= HTTP/1.1\" 200 51\n",
      "WARNING:absl:Attmepting to retrieve 256 (of 257) predictions from the cache where the cache key is None - this can be from a missing or empty example id. These will call model.predict() on this and subsequent calls.\n",
      "::1 - - [06/Sep/2024 15:00:03] \"POST /get_interpretations?model=BERT%20classifier&dataset_name=acllmdb&interpreter=LIME&do_predict=1 HTTP/1.1\" 200 16007\n",
      "WARNING:absl:Attmepting to retrieve 1 (of 1) predictions from the cache where the cache key is None - this can be from a missing or empty example id. These will call model.predict() on this and subsequent calls.\n",
      "WARNING:absl:Attmepting to retrieve 257 (of 257) predictions from the cache where the cache key is None - this can be from a missing or empty example id. These will call model.predict() on this and subsequent calls.\n",
      "::1 - - [06/Sep/2024 15:00:04] \"POST /get_interpretations?model=BERT%20classifier&dataset_name=acllmdb&interpreter=LIME&do_predict=1 HTTP/1.1\" 200 16010\n"
     ]
    }
   ],
   "source": [
    "widget.stop()\n",
    "widget = notebook.LitWidget(models, datasets, layouts=layouts, port=8890)\n",
    "widget.render(height=600, open_in_new_tab=True)"
   ]
  },
  {
   "cell_type": "markdown",
   "id": "678959f2-f8c1-4581-b713-75ea91281c04",
   "metadata": {},
   "source": [
    "If you want to customize the UI, refer to the [documentation](https://pair-code.github.io/lit/documentation/api.html#customizing-the-layout) and the [UI definition](https://github.com/PAIR-code/lit/blob/main/lit_nlp/api/layout.py#L173) we just used."
   ]
  },
  {
   "cell_type": "markdown",
   "id": "bafc329e-a850-4549-bff8-c3334210b181",
   "metadata": {},
   "source": [
    "### Explore the LIME explanation\n",
    "Now, let's investigate the LIME explanation using the UI we just rendered.\n",
    "\n",
    "[LIME](https://arxiv.org/abs/1602.04938) is a widely used black box (or model-agnostic) explainability method. Since it is a black box method, we can use LIME for any ML models (or, more generally, any functions that have inputs and outputs) to get the saliency.\n",
    "\n",
    "1. Select a text input from the left panel.\n",
    "2. On the upper-right panel, check the predicted probabilities for the `negative` and `positive` classes, the label (indicated as `T`), and the predicted class (`P`).\n",
    "3. On the lower right panel, select the `Explanations` tab.\n",
    "4. Click the arrow symbol on the right-hand side of `LIME.`\n",
    "5. Saliency scores appear on each word. If the coloring is too pale, raise the `Gamma` score until you can see the color clearly.\n",
    "6. Confirm that the predicted class is already set as `Class to explain`.\n",
    "6. Mouse over an important word (colored in a vivid red or blue color), and check the score. A positive score means a positive contribution to the label (to the `positive` class in the screenshot below), and a negative score means a negative contribution."
   ]
  },
  {
   "cell_type": "markdown",
   "id": "7386365c-b1c2-4315-b6e4-ed253e227162",
   "metadata": {},
   "source": [
    "<img width=\"800\" src=\"https://github.com/user-attachments/assets/05623753-bdf8-4aec-88c6-3e7d0718576a\">\n"
   ]
  },
  {
   "cell_type": "markdown",
   "id": "e00957a5-f0fb-47dd-bc02-9099a942870a",
   "metadata": {
    "id": "e00957a5-f0fb-47dd-bc02-9099a942870a"
   },
   "source": [
    "---"
   ]
  },
  {
   "cell_type": "markdown",
   "id": "5dac8692-c62d-4193-a913-2439c46e7c21",
   "metadata": {},
   "source": [
    "## Add Gradient-based Saliency Methods\n"
   ]
  },
  {
   "cell_type": "code",
   "execution_count": 133,
   "id": "f37c79ca-23fd-4fe7-8cbc-7f851b912125",
   "metadata": {
    "tags": []
   },
   "outputs": [
    {
     "data": {
      "image/png": "[encoded data removed]",
      "text/plain": [
       "<IPython.core.display.Image object>"
      ]
     },
     "execution_count": 133,
     "metadata": {},
     "output_type": "execute_result"
    }
   ],
   "source": [
    "tf.keras.utils.plot_model(classifier, show_shapes=True, show_layer_names=True)"
   ]
  },
  {
   "cell_type": "code",
   "execution_count": 124,
   "id": "5186f606-694f-4ad1-a23b-126283c274f8",
   "metadata": {
    "tags": []
   },
   "outputs": [
    {
     "data": {
      "text/plain": [
       "[<keras.src.engine.input_layer.InputLayer at 0x7fc2e42b2080>,\n",
       " <keras.src.engine.input_layer.InputLayer at 0x7fc2e42b2440>,\n",
       " <keras.src.engine.input_layer.InputLayer at 0x7fc2e42b27a0>,\n",
       " <keras_nlp.src.models.bert.bert_backbone.BertBackbone at 0x7fc2e0141cf0>,\n",
       " <keras.src.layers.regularization.dropout.Dropout at 0x7fc2e0141d50>,\n",
       " <keras.src.layers.core.dense.Dense at 0x7fc2e42b3490>]"
      ]
     },
     "execution_count": 124,
     "metadata": {},
     "output_type": "execute_result"
    }
   ],
   "source": [
    "classifier.layers"
   ]
  },
  {
   "cell_type": "code",
   "execution_count": 32,
   "id": "caa861ca-11a8-4964-94b7-ef00516d8543",
   "metadata": {
    "id": "caa861ca-11a8-4964-94b7-ef00516d8543",
    "outputId": "65eaae3a-a2fc-4092-b338-89f50acfec34",
    "tags": []
   },
   "outputs": [
    {
     "data": {
      "text/plain": [
       "[<keras.src.engine.input_layer.InputLayer at 0x7f0adab6b4c0>,\n",
       " <keras.src.layers.core.embedding.Embedding at 0x7f0acd49c6d0>,\n",
       " <keras.src.engine.input_layer.InputLayer at 0x7f0adab69180>,\n",
       " <keras_nlp.src.layers.position_embedding.PositionEmbedding at 0x7f0acd49c790>,\n",
       " <keras.src.layers.core.embedding.Embedding at 0x7f0acd49d2a0>,\n",
       " <keras.src.layers.merging.add.Add at 0x7f0acd49cfd0>,\n",
       " <keras.src.layers.normalization.layer_normalization.LayerNormalization at 0x7f0acd49de70>,\n",
       " <keras.src.layers.regularization.dropout.Dropout at 0x7f0acd49ec20>,\n",
       " <keras.src.engine.input_layer.InputLayer at 0x7f0adab6ae60>,\n",
       " <keras_nlp.src.layers.transformer_encoder.TransformerEncoder at 0x7f0acd49f430>,\n",
       " <keras_nlp.src.layers.transformer_encoder.TransformerEncoder at 0x7f0acd49fbe0>,\n",
       " <keras.src.layers.core.tf_op_layer.SlicingOpLambda at 0x7f0acd267250>,\n",
       " <keras.src.layers.core.dense.Dense at 0x7f0acd267880>]"
      ]
     },
     "execution_count": 32,
     "metadata": {},
     "output_type": "execute_result"
    }
   ],
   "source": [
    "classifier.layers[3].layers"
   ]
  },
  {
   "cell_type": "code",
   "execution_count": 137,
   "id": "688348da-ddcd-4402-9d8d-d55315422226",
   "metadata": {
    "id": "688348da-ddcd-4402-9d8d-d55315422226",
    "outputId": "b1290b4e-904e-46dd-e54d-767b600857f3",
    "tags": []
   },
   "outputs": [
    {
     "data": {
      "image/png": "[encoded data removed]",
      "text/plain": [
       "<IPython.core.display.Image object>"
      ]
     },
     "execution_count": 137,
     "metadata": {},
     "output_type": "execute_result"
    }
   ],
   "source": [
    "tf.keras.utils.plot_model(\n",
    "    classifier.layers[3], show_shapes=True, show_layer_names=True\n",
    ")"
   ]
  },
  {
   "cell_type": "code",
   "execution_count": 34,
   "id": "25d881e9-dc4b-4e59-941e-720930db6a8f",
   "metadata": {
    "id": "25d881e9-dc4b-4e59-941e-720930db6a8f",
    "tags": []
   },
   "outputs": [],
   "source": [
    "embedding_model = tf.keras.Model(\n",
    "    inputs=classifier.input, outputs=classifier.layers[3].layers[6].output\n",
    ")"
   ]
  },
  {
   "cell_type": "code",
   "execution_count": 35,
   "id": "b76b9e7b-0a09-4b70-8cea-1b2f24398769",
   "metadata": {
    "id": "b76b9e7b-0a09-4b70-8cea-1b2f24398769",
    "outputId": "e1694dc2-7727-479a-91dd-64bbbf2421c8",
    "tags": []
   },
   "outputs": [
    {
     "data": {
      "image/png": "[encoded data removed]",
      "text/plain": [
       "<IPython.core.display.Image object>"
      ]
     },
     "execution_count": 35,
     "metadata": {},
     "output_type": "execute_result"
    }
   ],
   "source": [
    "tf.keras.utils.plot_model(embedding_model)"
   ]
  },
  {
   "cell_type": "code",
   "execution_count": 229,
   "id": "b20d6f95-6327-4cfd-a077-13022ce9197a",
   "metadata": {
    "id": "b20d6f95-6327-4cfd-a077-13022ce9197a",
    "tags": []
   },
   "outputs": [],
   "source": [
    "bert_backbone = tf.keras.Model(\n",
    "    inputs=[\n",
    "        classifier.layers[3].layers[7].input,\n",
    "        classifier.layers[3].layers[8].input,\n",
    "    ],\n",
    "    outputs=classifier.layers[3].layers[-1].output,\n",
    ")"
   ]
  },
  {
   "cell_type": "code",
   "execution_count": 230,
   "id": "6d12e2bf-4e92-4c6a-b9d7-bac832fb3391",
   "metadata": {
    "id": "6d12e2bf-4e92-4c6a-b9d7-bac832fb3391",
    "outputId": "cc46d0b0-a6e6-473c-aa31-bae8a6ccbfca",
    "tags": []
   },
   "outputs": [
    {
     "data": {
      "image/png": "[encoded data removed]",
      "text/plain": [
       "<IPython.core.display.Image object>"
      ]
     },
     "execution_count": 230,
     "metadata": {},
     "output_type": "execute_result"
    }
   ],
   "source": [
    "tf.keras.utils.plot_model(bert_backbone)"
   ]
  },
  {
   "cell_type": "code",
   "execution_count": 231,
   "id": "ad23139e-2e1f-415c-86e8-d3094f8bbb1e",
   "metadata": {
    "id": "ad23139e-2e1f-415c-86e8-d3094f8bbb1e",
    "tags": []
   },
   "outputs": [],
   "source": [
    "cls_head = tf.keras.Model(\n",
    "    inputs=classifier.layers[-2].input, outputs=classifier.layers[-1].output\n",
    ")"
   ]
  },
  {
   "cell_type": "code",
   "execution_count": 232,
   "id": "f569b145-e302-4388-b991-df0167ff8ddd",
   "metadata": {
    "id": "f569b145-e302-4388-b991-df0167ff8ddd",
    "outputId": "5548ebc0-a489-4340-f36f-e60a983b6c98",
    "tags": []
   },
   "outputs": [
    {
     "data": {
      "image/png": "[encoded data removed]",
      "text/plain": [
       "<IPython.core.display.Image object>"
      ]
     },
     "execution_count": 232,
     "metadata": {},
     "output_type": "execute_result"
    }
   ],
   "source": [
    "tf.keras.utils.plot_model(cls_head)"
   ]
  },
  {
   "cell_type": "code",
   "execution_count": 245,
   "id": "54f3db03-9d56-4c40-af53-9de056e31a6b",
   "metadata": {
    "id": "54f3db03-9d56-4c40-af53-9de056e31a6b",
    "tags": []
   },
   "outputs": [
    {
     "data": {
      "text/plain": [
       "<tf.Tensor: shape=(1, 2), dtype=float32, numpy=array([[0.05474576, 0.09981707]], dtype=float32)>"
      ]
     },
     "execution_count": 245,
     "metadata": {},
     "output_type": "execute_result"
    }
   ],
   "source": [
    "tokens = classifier._preprocessor(tf.constant(texts[:1]))\n",
    "embedding = embedding_model(tokens)\n",
    "bert_output = bert_backbone([embedding, tokens[\"padding_mask\"]])\n",
    "logits = cls_head(bert_output)\n",
    "logits"
   ]
  },
  {
   "cell_type": "code",
   "execution_count": 246,
   "id": "a5f4d7cb-d333-43ab-91bc-8cc451b36161",
   "metadata": {
    "id": "a5f4d7cb-d333-43ab-91bc-8cc451b36161",
    "tags": []
   },
   "outputs": [
    {
     "data": {
      "text/plain": [
       "<tf.Tensor: shape=(1, 512, 128), dtype=float32, numpy=\n",
       "array([[[ 2.5211675e-03, -3.2409839e-02, -6.9019878e-03, ...,\n",
       "          2.7296547e-02,  4.5807930e-03,  1.4555874e-02],\n",
       "        [-9.9885708e-04, -2.8899801e-03,  4.8571019e-03, ...,\n",
       "          1.7197364e-03,  6.7635463e-03,  2.8126221e-03],\n",
       "        [-1.0863496e-03, -1.4005759e-03, -4.5379478e-05, ...,\n",
       "         -5.9404876e-05,  2.2665113e-03,  1.7321140e-03],\n",
       "        ...,\n",
       "        [ 0.0000000e+00,  0.0000000e+00,  0.0000000e+00, ...,\n",
       "          0.0000000e+00,  0.0000000e+00,  0.0000000e+00],\n",
       "        [ 0.0000000e+00,  0.0000000e+00,  0.0000000e+00, ...,\n",
       "          0.0000000e+00,  0.0000000e+00,  0.0000000e+00],\n",
       "        [ 0.0000000e+00,  0.0000000e+00,  0.0000000e+00, ...,\n",
       "          0.0000000e+00,  0.0000000e+00,  0.0000000e+00]]], dtype=float32)>"
      ]
     },
     "execution_count": 246,
     "metadata": {},
     "output_type": "execute_result"
    }
   ],
   "source": [
    "tokens = classifier._preprocessor(tf.constant(texts[:1]))\n",
    "embeddings = embedding_model(tokens)\n",
    "with tf.GradientTape() as tape:\n",
    "    tape.watch(embeddings)\n",
    "    bert_output = bert_backbone([embeddings, tokens[\"padding_mask\"]])\n",
    "    logits = cls_head(bert_output)\n",
    "\n",
    "    indices = tf.argmax(logits, axis=-1)\n",
    "    pred = tf.gather_nd(logits, [[i, idx] for i, idx in enumerate(indices)])\n",
    "\n",
    "input_emb_grads = tape.gradient(pred, embeddings)\n",
    "input_emb_grads"
   ]
  },
  {
   "cell_type": "code",
   "execution_count": 193,
   "id": "f5277650-f29c-4219-941a-2f6a541a0d54",
   "metadata": {
    "id": "f5277650-f29c-4219-941a-2f6a541a0d54",
    "tags": []
   },
   "outputs": [],
   "source": [
    "START_OFFSET = 1\n",
    "END_OFFSET = 1\n",
    "\n",
    "\n",
    "class BertSentimentModel(lit_model.Model):\n",
    "\n",
    "    def __init__(self, model):\n",
    "        self._model = model\n",
    "        self._embedding_model = tf.keras.Model(\n",
    "            inputs=model.input, outputs=model.layers[3].layers[6].output\n",
    "        )\n",
    "        self._bert_backbone = tf.keras.Model(\n",
    "            inputs=[\n",
    "                model.layers[3].layers[7].input,\n",
    "                model.layers[3].layers[8].input,\n",
    "            ],\n",
    "            outputs=model.layers[3].layers[-1].output,\n",
    "        )\n",
    "        self._cls_head = tf.keras.Model(\n",
    "            inputs=classifier.layers[-2].input,\n",
    "            outputs=classifier.layers[-1].output,\n",
    "        )\n",
    "\n",
    "    def _detokenize(self, indices):\n",
    "        return [\n",
    "            self._model.preprocessor.tokenizer.vocabulary[idx]\n",
    "            for idx in indices\n",
    "        ]\n",
    "\n",
    "    def predict(self, inputs):\n",
    "        \"\"\"Predict on a stream of examples.\"\"\"\n",
    "        examples = [d[\"text\"] for d in inputs]\n",
    "        tokenized = self._model.preprocessor(examples)\n",
    "        seq_lens = tf.reduce_sum(\n",
    "            tf.cast(tokenized[\"padding_mask\"], tf.int32), axis=-1\n",
    "        )\n",
    "        embeddings = self._embedding_model(tokenized)\n",
    "        with tf.GradientTape() as tape:\n",
    "            tape.watch(embeddings)\n",
    "            bert_output = self._bert_backbone(\n",
    "                [embeddings, tokenized[\"padding_mask\"]]\n",
    "            )\n",
    "            logits = self._cls_head(bert_output)\n",
    "\n",
    "            if \"label\" in inputs[0].keys():\n",
    "                indices = [\n",
    "                    1 if inp[\"label\"] == LABELS[1] else 0 for inp in inputs\n",
    "                ]\n",
    "            else:\n",
    "                indices = tf.argmax(logits, axis=-1)\n",
    "\n",
    "            pred = tf.gather_nd(\n",
    "                logits, [[i, idx] for i, idx in enumerate(indices)]\n",
    "            )\n",
    "\n",
    "        probs = tf.keras.activations.softmax(logits)\n",
    "\n",
    "        input_emb_grads = tape.gradient(pred, embeddings)\n",
    "\n",
    "        return [\n",
    "            {\n",
    "                \"prob\": [prob.numpy()[1], prob.numpy()[0]],\n",
    "                \"tokens\": self._detokenize(\n",
    "                    tokens[START_OFFSET : slen - END_OFFSET]\n",
    "                ),\n",
    "                \"input_embedding\": emb[\n",
    "                    START_OFFSET : slen - END_OFFSET\n",
    "                ].numpy(),\n",
    "                \"input_emb_grad\": grad[\n",
    "                    START_OFFSET : slen - END_OFFSET\n",
    "                ].numpy(),\n",
    "            }\n",
    "            for prob, tokens, emb, grad, slen in zip(\n",
    "                probs,\n",
    "                tokenized[\"token_ids\"],\n",
    "                embeddings,\n",
    "                input_emb_grads,\n",
    "                seq_lens,\n",
    "            )\n",
    "        ]\n",
    "\n",
    "    def input_spec(self):\n",
    "        \"\"\"Describe the inputs to the model.\"\"\"\n",
    "        return {\n",
    "            \"text\": lit_types.TextSegment(),\n",
    "            \"label\": lit_types.CategoryLabel(required=False, vocab=LABELS),\n",
    "        }\n",
    "\n",
    "    def output_spec(self):\n",
    "        \"\"\"Describe the model outputs.\"\"\"\n",
    "        return {\n",
    "            \"prob\": lit_types.MulticlassPreds(vocab=LABELS, parent=\"label\"),\n",
    "            \"tokens\": lit_types.Tokens(parent=\"text\"),\n",
    "            \"input_embedding\": lit_types.TokenEmbeddings(align=\"tokens\"),\n",
    "            \"input_emb_grad\": lit_types.TokenGradients(\n",
    "                align=\"tokens\", grad_for=\"input_embedding\"\n",
    "            ),\n",
    "        }"
   ]
  },
  {
   "cell_type": "code",
   "execution_count": 194,
   "id": "11633154-f2ef-4011-8079-49b6553dd0ca",
   "metadata": {
    "id": "11633154-f2ef-4011-8079-49b6553dd0ca",
    "outputId": "0a4c881a-a145-4019-e89e-e631b7284bef",
    "tags": []
   },
   "outputs": [
    {
     "name": "stderr",
     "output_type": "stream",
     "text": [
      "WARNING:absl:Unable to infer init spec for model 'LITBertModel'. Unable to infer a type for parameter 'model' of '__init__'. Please add a type hint or default value, or implement a Spec literal.\n",
      "WARNING:absl:Unable to infer init spec for dataset 'LITSentimentData'. Unable to infer a type for parameter 'dataset' of '__init__'. Please add a type hint or default value, or implement a Spec literal.\n",
      "WARNING:absl:Unable to infer init spec for dataset 'NoneDataset'. Unable to infer a type for parameter 'models' of '__init__'. Please add a type hint or default value, or implement a Spec literal.\n",
      "::1 - - [05/Sep/2024 13:53:29] \"POST /get_info HTTP/1.1\" 200 24667\n",
      "::1 - - [05/Sep/2024 13:53:29] \"POST /get_dataset?dataset_name=acllmdb HTTP/1.1\" 200 154508\n",
      "::1 - - [05/Sep/2024 13:53:30] \"POST /push_ui_state?dataset_name=acllmdb HTTP/1.1\" 200 4\n",
      "::1 - - [05/Sep/2024 13:53:37] \"POST /get_metrics?model=BERT%20classifier&dataset_name=acllmdb&metrics=multiclass,paired&do_predict=1 HTTP/1.1\" 200 162\n",
      "::1 - - [05/Sep/2024 13:53:37] \"POST /get_interpretations?model=BERT%20classifier&dataset_name=acllmdb&interpreter=classification&do_predict=1 HTTP/1.1\" 200 17520\n",
      "::1 - - [05/Sep/2024 13:53:49] \"POST /push_ui_state?dataset_name=acllmdb HTTP/1.1\" 200 4\n"
     ]
    }
   ],
   "source": [
    "# Create the LIT widget with the model and dataset to analyze.\n",
    "datasets = {\"acllmdb\": BertSentimentModel(test_ds)}\n",
    "models = {\"BERT classifier\": LITBertModel(classifier)}\n",
    "\n",
    "widget.stop()\n",
    "widget = notebook.LitWidget(models, datasets, port=8890)"
   ]
  },
  {
   "cell_type": "code",
   "execution_count": 195,
   "id": "826c86b5-c819-4f2c-b874-7c678a763d4b",
   "metadata": {
    "id": "826c86b5-c819-4f2c-b874-7c678a763d4b",
    "outputId": "d1ee69cc-1793-4081-bfe9-3f51882ebfa9",
    "tags": []
   },
   "outputs": [
    {
     "data": {
      "text/html": [
       "\n",
       "      <style>div.output_scroll { height: 610px; }</style>\n",
       "      <iframe id='lit-frame-fad494d0634125e9' width='100%' height='600' frameborder='0'>\n",
       "      </iframe>\n",
       "      <script>\n",
       "        (function() {\n",
       "          const frame = document.getElementById(\"lit-frame-fad494d0634125e9\");\n",
       "          const urlStr = \"/proxy/8890/\" + '?'\n",
       "          const url = new URL(urlStr, window.location);\n",
       "          const port = 0;\n",
       "          if (port) {\n",
       "            url.port = port;\n",
       "          }\n",
       "          frame.src = url;\n",
       "        })();\n",
       "      </script>\n",
       "    "
      ],
      "text/plain": [
       "<IPython.core.display.HTML object>"
      ]
     },
     "metadata": {},
     "output_type": "display_data"
    }
   ],
   "source": [
    "widget.render(height=600)"
   ]
  },
  {
   "cell_type": "markdown",
   "id": "9a44b742-df4a-4e97-8e82-b12be9008654",
   "metadata": {},
   "source": [
    "## Add Integrated Gradients"
   ]
  },
  {
   "cell_type": "code",
   "execution_count": 218,
   "id": "f37f18da-bf3f-41ab-9122-c16b21e3d005",
   "metadata": {
    "id": "f37f18da-bf3f-41ab-9122-c16b21e3d005",
    "tags": []
   },
   "outputs": [],
   "source": [
    "START_OFFSET = 1  # offset [CLS] token\n",
    "END_OFFSET = 1  # offset [SEP] token\n",
    "\n",
    "\n",
    "class BertSentimentModel(lit_model.Model):\n",
    "\n",
    "    def __init__(self, model):\n",
    "        self._model = model\n",
    "        self._embedding_model = tf.keras.Model(\n",
    "            inputs=model.input, outputs=model.layers[3].layers[6].output\n",
    "        )\n",
    "        self._bert_backbone = tf.keras.Model(\n",
    "            inputs=[\n",
    "                model.layers[3].layers[7].input,\n",
    "                model.layers[3].layers[8].input,\n",
    "            ],\n",
    "            outputs=model.layers[3].layers[-1].output,\n",
    "        )\n",
    "        self._cls_head = tf.keras.Model(\n",
    "            inputs=classifier.layers[-2].input,\n",
    "            outputs=classifier.layers[-1].output,\n",
    "        )\n",
    "\n",
    "    def _detokenize(self, indices):\n",
    "        return [\n",
    "            self._model.preprocessor.tokenizer.vocabulary[idx]\n",
    "            for idx in indices\n",
    "        ]\n",
    "\n",
    "    def predict(self, inputs):\n",
    "        \"\"\"Predict on a stream of examples.\"\"\"\n",
    "        examples = [d[\"text\"] for d in inputs]\n",
    "        tokenized = self._model.preprocessor(examples)\n",
    "        seq_lens = tf.reduce_sum(\n",
    "            tf.cast(tokenized[\"padding_mask\"], tf.int32), axis=-1\n",
    "        )\n",
    "        embeddings = self._embedding_model(tokenized)\n",
    "        if \"input_embedding\" in inputs[0].keys():\n",
    "            pertubations = tf.convert_to_tensor(\n",
    "                [inp[\"input_embedding\"] for inp in inputs]\n",
    "            )\n",
    "            step_size, ptb_len, emd_dim = pertubations.shape\n",
    "            pertubations = tf.reshape(\n",
    "                pertubations, (step_size * ptb_len, emd_dim)\n",
    "            )\n",
    "            update_indices = [\n",
    "                [s, l + START_OFFSET]\n",
    "                for s in range(step_size)\n",
    "                for l in range(ptb_len)\n",
    "            ]\n",
    "            embeddings = tf.tensor_scatter_nd_update(\n",
    "                embeddings, update_indices, pertubations\n",
    "            )\n",
    "        with tf.GradientTape() as tape:\n",
    "            tape.watch(embeddings)\n",
    "            bert_output = self._bert_backbone(\n",
    "                [embeddings, tokenized[\"padding_mask\"]]\n",
    "            )\n",
    "            logits = self._cls_head(bert_output)\n",
    "            if \"label\" in inputs[0].keys():\n",
    "                indices = [\n",
    "                    1 if inp[\"label\"] == LABELS[1] else 0 for inp in inputs\n",
    "                ]\n",
    "            else:\n",
    "                indices = tf.argmax(logits, axis=-1)\n",
    "            pred = tf.gather_nd(\n",
    "                logits, [[i, idx] for i, idx in enumerate(indices)]\n",
    "            )\n",
    "\n",
    "        probs = tf.keras.activations.softmax(logits)\n",
    "\n",
    "        input_emb_grads = tape.gradient(pred, embeddings)\n",
    "\n",
    "        return [\n",
    "            {\n",
    "                \"prob\": [prob.numpy()[1], prob.numpy()[0]],\n",
    "                \"tokens\": self._detokenize(\n",
    "                    tokens[START_OFFSET : slen - END_OFFSET]\n",
    "                ),\n",
    "                \"input_embedding\": emb[\n",
    "                    START_OFFSET : slen - END_OFFSET\n",
    "                ].numpy(),\n",
    "                \"input_emb_grad\": grad[\n",
    "                    START_OFFSET : slen - END_OFFSET\n",
    "                ].numpy(),\n",
    "            }\n",
    "            for prob, tokens, emb, grad, slen in zip(\n",
    "                probs,\n",
    "                tokenized[\"token_ids\"],\n",
    "                embeddings,\n",
    "                input_emb_grads,\n",
    "                seq_lens,\n",
    "            )\n",
    "        ]\n",
    "\n",
    "    def input_spec(self):\n",
    "        \"\"\"Describe the inputs to the model.\"\"\"\n",
    "        return {\n",
    "            \"text\": lit_types.TextSegment(),\n",
    "            \"label\": lit_types.CategoryLabel(required=False, vocab=LABELS),\n",
    "            \"input_embedding\": lit_types.TokenEmbeddings(\n",
    "                required=False, align=\"tokens\"\n",
    "            ),\n",
    "        }\n",
    "\n",
    "    def output_spec(self):\n",
    "        \"\"\"Describe the model outputs.\"\"\"\n",
    "        return {\n",
    "            \"prob\": lit_types.MulticlassPreds(vocab=LABELS, parent=\"label\"),\n",
    "            \"tokens\": lit_types.Tokens(parent=\"text\"),\n",
    "            \"input_embedding\": lit_types.TokenEmbeddings(align=\"tokens\"),\n",
    "            \"input_emb_grad\": lit_types.TokenGradients(\n",
    "                align=\"tokens\",\n",
    "                grad_for=\"input_embedding\",\n",
    "                grad_target_field_key=\"label\",\n",
    "            ),\n",
    "        }"
   ]
  },
  {
   "cell_type": "code",
   "execution_count": 219,
   "id": "38bda6f3-7573-4c66-b1da-70dc94e0ca84",
   "metadata": {
    "tags": []
   },
   "outputs": [
    {
     "name": "stderr",
     "output_type": "stream",
     "text": [
      "WARNING:absl:Unable to infer init spec for model 'LITBertModel'. Unable to infer a type for parameter 'model' of '__init__'. Please add a type hint or default value, or implement a Spec literal.\n",
      "WARNING:absl:Unable to infer init spec for dataset 'LITSentimentData'. Unable to infer a type for parameter 'dataset' of '__init__'. Please add a type hint or default value, or implement a Spec literal.\n",
      "WARNING:absl:Unable to infer init spec for dataset 'NoneDataset'. Unable to infer a type for parameter 'models' of '__init__'. Please add a type hint or default value, or implement a Spec literal.\n",
      "::1 - - [05/Sep/2024 14:14:38] \"POST /get_info HTTP/1.1\" 200 24845\n",
      "::1 - - [05/Sep/2024 14:14:38] \"POST /get_dataset?dataset_name=acllmdb HTTP/1.1\" 200 154508\n",
      "::1 - - [05/Sep/2024 14:14:45] \"POST /get_metrics?model=BERT%20classifier&dataset_name=acllmdb&metrics=multiclass,paired&do_predict=1 HTTP/1.1\" 200 162\n",
      "::1 - - [05/Sep/2024 14:14:45] \"POST /push_ui_state?dataset_name=acllmdb HTTP/1.1\" 200 4\n",
      "::1 - - [05/Sep/2024 14:14:45] \"POST /get_interpretations?model=BERT%20classifier&dataset_name=acllmdb&interpreter=classification&do_predict=1 HTTP/1.1\" 200 17520\n"
     ]
    }
   ],
   "source": [
    "# Create the LIT widget with the model and dataset to analyze.\n",
    "datasets = {\"acllmdb\": LITSentimentData(test_ds)}\n",
    "models = {\"BERT classifier\": BertSentimentModel(classifier)}\n",
    "\n",
    "widget.stop()\n",
    "widget = notebook.LitWidget(models, datasets, port=8890)"
   ]
  },
  {
   "cell_type": "code",
   "execution_count": 220,
   "id": "0c886dfb-5931-4d4e-a10f-042dd2c29649",
   "metadata": {
    "tags": []
   },
   "outputs": [
    {
     "data": {
      "text/html": [
       "\n",
       "      <style>div.output_scroll { height: 610px; }</style>\n",
       "      <iframe id='lit-frame-4471ae7c11cefc4b' width='100%' height='600' frameborder='0'>\n",
       "      </iframe>\n",
       "      <script>\n",
       "        (function() {\n",
       "          const frame = document.getElementById(\"lit-frame-4471ae7c11cefc4b\");\n",
       "          const urlStr = \"/proxy/8890/\" + '?'\n",
       "          const url = new URL(urlStr, window.location);\n",
       "          const port = 0;\n",
       "          if (port) {\n",
       "            url.port = port;\n",
       "          }\n",
       "          frame.src = url;\n",
       "        })();\n",
       "      </script>\n",
       "    "
      ],
      "text/plain": [
       "<IPython.core.display.HTML object>"
      ]
     },
     "metadata": {},
     "output_type": "display_data"
    }
   ],
   "source": [
    "widget.render(height=600)"
   ]
  },
  {
   "cell_type": "code",
   "execution_count": 217,
   "id": "cd34f59f-3f66-4038-816a-6d2ac19d391e",
   "metadata": {
    "id": "cd34f59f-3f66-4038-816a-6d2ac19d391e",
    "tags": []
   },
   "outputs": [
    {
     "data": {
      "text/plain": [
       "[{'input_emb_grad': TokenSalience(tokens=['i', 'think', 'dirty', 'dancing', 'was', 'a', 'great', 'movie', ',', 'they', 'tried', 'to', 'make', 'another', 'one', 'havana', 'nights', 'which', 'was', 'good', 'but', 'it', 'was', 'nothing', 'like', 'dirty', 'dancing', '.', 'i', 'would', 'like', 'to', 'see', 'another', 'dirty', 'dancing', 'with', 'the', 'same', 'people', '.', 'without', 'them', 'i', 'think', 'it', 'would', 'be', 'a', 'mess', '.', 'a', 'lot', 'of', 'times', 'movies', 'are', 'made', 'then', 'when', 'they', 'try', 'to', 'add', 'on', 'more', 'they', 'start', 'to', 'change', 'the', 'people', 'an', 'make', 'the', 'movies', 'go', 'down', 'hill', '.', 'i', 'would', 'love', 'to', 'see', 'dirty', 'dancing', 'have', 'another', 'one', 'to', 'see', 'what', 'happened', 'after', 'they', 'were', 'able', 'to', 'be', 'together', '.', 'patrick', 'an', 'jennifer', 'did', 'so', 'well', 'together', '.', 'this', 'movie', 'was', 'made', 'in', '1997', 'its', 'time', 'to', 'make', 'another', 'one', '.', 'but', 'this', 'time', 'start', 'where', 'it', 'left', 'off', 'an', 'keep', 'the', 'same', 'people', 'in', 'it', '.'], salience=array([ 1.4260943e-02, -2.9920400e-03, -4.9222135e-03,  4.7812276e-03,\n",
       "         -5.9146807e-03,  6.4950031e-03,  3.0867403e-02, -3.7854589e-03,\n",
       "          6.6319946e-03,  7.7417255e-03, -3.9480701e-02,  4.6097673e-03,\n",
       "         -4.9763327e-03, -3.4998935e-03,  1.5782277e-03,  1.6113495e-02,\n",
       "          2.1315271e-03,  2.2818120e-04, -5.3900308e-03,  1.1773875e-02,\n",
       "          2.0348732e-03,  1.2808049e-02, -5.8357292e-03, -2.7478861e-02,\n",
       "          1.6255480e-03, -2.6770795e-03,  7.1862713e-03,  1.9481537e-03,\n",
       "          1.0694926e-02, -1.1365108e-02, -3.1709450e-03,  5.4578474e-03,\n",
       "          1.2721164e-02, -1.7873911e-03, -8.3617661e-03,  2.4736212e-03,\n",
       "          9.4342660e-03,  6.5741218e-03, -1.9470442e-02, -1.2084470e-03,\n",
       "          2.5335390e-03,  5.2867206e-03,  3.3086138e-03,  9.6822847e-03,\n",
       "         -3.3760839e-03,  1.4402979e-02, -7.8145638e-03,  2.0274767e-03,\n",
       "          4.9743336e-03, -8.8144422e-02,  3.3319663e-04,  2.3370702e-03,\n",
       "          2.1364745e-03,  3.7148909e-03,  4.0518236e-03,  6.1189607e-03,\n",
       "          1.4602557e-03, -4.2091664e-03, -3.7568316e-03, -2.3195599e-03,\n",
       "          7.6677245e-03, -7.0093279e-03,  4.5783361e-03, -3.6061567e-03,\n",
       "          7.3271710e-03,  3.7828705e-03,  9.1040051e-03, -1.0195770e-02,\n",
       "          5.2066790e-03, -5.8933361e-03,  6.8432912e-03, -2.5814160e-04,\n",
       "          4.6382374e-03, -7.3289028e-03,  5.7306788e-03,  8.0498355e-03,\n",
       "          3.8814035e-03, -8.2731228e-03,  2.5114433e-03,  5.3541089e-04,\n",
       "          1.2032094e-02, -1.4476899e-02,  1.9099344e-02,  4.2081624e-03,\n",
       "          1.3227323e-02, -5.9828912e-03,  4.2055077e-03, -2.6780323e-03,\n",
       "         -4.8216656e-03,  2.6759661e-03,  4.5878226e-03,  1.2173808e-02,\n",
       "          9.5085949e-03, -1.1026982e-03,  1.7952020e-03,  7.0587783e-03,\n",
       "         -1.8108698e-02,  9.1677913e-03,  3.9424235e-03,  9.7840792e-04,\n",
       "          7.9443837e-03,  4.7774025e-05,  4.2049303e-03,  5.0735590e-03,\n",
       "         -2.4155118e-03, -2.3976131e-03, -6.3780271e-03,  1.5768141e-02,\n",
       "          7.3740240e-03,  3.7161408e-05,  1.4827728e-04, -7.0747198e-03,\n",
       "         -7.0508905e-03, -6.1613787e-03,  6.1512245e-03,  6.1271996e-03,\n",
       "          6.9259391e-03,  2.1473614e-03,  3.8119941e-03, -6.5550664e-03,\n",
       "         -4.6286108e-03,  2.4812801e-03, -6.1875070e-04,  1.6597697e-03,\n",
       "          1.1906226e-03,  3.2274441e-03, -4.2753769e-03, -1.4672517e-03,\n",
       "          1.5432646e-02, -3.4444101e-02, -7.4991924e-03,  3.5352095e-03,\n",
       "          8.6700516e-03,  4.1665630e-03, -1.5571063e-02,  1.2431705e-03,\n",
       "          5.9818290e-03,  1.1248652e-02,  1.3068673e-04], dtype=float32))}]"
      ]
     },
     "execution_count": 217,
     "metadata": {},
     "output_type": "execute_result"
    }
   ],
   "source": [
    "from lit_nlp.components import gradient_maps\n",
    "\n",
    "ig = gradient_maps.IntegratedGradients()\n",
    "\n",
    "ig_results = ig.run(\n",
    "    LITSentimentData(test_ds).examples[:1],\n",
    "    LITBertModel(classifier),\n",
    "    LITSentimentData(test_ds),\n",
    ")\n",
    "ig_results"
   ]
  },
  {
   "cell_type": "code",
   "execution_count": 330,
   "id": "42b04100-1860-4b30-b06b-8cf8448a6651",
   "metadata": {
    "tags": []
   },
   "outputs": [
    {
     "data": {
      "text/html": [
       "<style type=\"text/css\">\n",
       "#T_7d7de_row0_col0, #T_7d7de_row0_col45, #T_7d7de_row1_col0, #T_7d7de_row1_col45 {\n",
       "  background-color: #ffadad;\n",
       "  color: #000000;\n",
       "}\n",
       "#T_7d7de_row0_col1, #T_7d7de_row0_col30, #T_7d7de_row0_col44, #T_7d7de_row1_col1, #T_7d7de_row1_col30, #T_7d7de_row1_col44 {\n",
       "  background-color: #ededff;\n",
       "  color: #000000;\n",
       "}\n",
       "#T_7d7de_row0_col2, #T_7d7de_row0_col12, #T_7d7de_row0_col18, #T_7d7de_row0_col88, #T_7d7de_row1_col2, #T_7d7de_row1_col12, #T_7d7de_row1_col18, #T_7d7de_row1_col88 {\n",
       "  background-color: #e1e1ff;\n",
       "  color: #000000;\n",
       "}\n",
       "#T_7d7de_row0_col3, #T_7d7de_row0_col11, #T_7d7de_row0_col62, #T_7d7de_row0_col72, #T_7d7de_row0_col83, #T_7d7de_row0_col86, #T_7d7de_row0_col90, #T_7d7de_row0_col102, #T_7d7de_row0_col133, #T_7d7de_row1_col3, #T_7d7de_row1_col11, #T_7d7de_row1_col62, #T_7d7de_row1_col72, #T_7d7de_row1_col83, #T_7d7de_row1_col86, #T_7d7de_row1_col90, #T_7d7de_row1_col102, #T_7d7de_row1_col133 {\n",
       "  background-color: #ffe5e5;\n",
       "  color: #000000;\n",
       "}\n",
       "#T_7d7de_row0_col4, #T_7d7de_row0_col22, #T_7d7de_row0_col69, #T_7d7de_row0_col85, #T_7d7de_row0_col113, #T_7d7de_row1_col4, #T_7d7de_row1_col22, #T_7d7de_row1_col69, #T_7d7de_row1_col85, #T_7d7de_row1_col113 {\n",
       "  background-color: #ddddff;\n",
       "  color: #000000;\n",
       "}\n",
       "#T_7d7de_row0_col5, #T_7d7de_row0_col8, #T_7d7de_row0_col37, #T_7d7de_row0_col70, #T_7d7de_row1_col5, #T_7d7de_row1_col8, #T_7d7de_row1_col37, #T_7d7de_row1_col70 {\n",
       "  background-color: #ffd9d9;\n",
       "  color: #000000;\n",
       "}\n",
       "#T_7d7de_row0_col6, #T_7d7de_row1_col6 {\n",
       "  background-color: #ff4d4d;\n",
       "  color: #f1f1f1;\n",
       "}\n",
       "#T_7d7de_row0_col7, #T_7d7de_row0_col13, #T_7d7de_row0_col58, #T_7d7de_row0_col63, #T_7d7de_row1_col7, #T_7d7de_row1_col13, #T_7d7de_row1_col58, #T_7d7de_row1_col63 {\n",
       "  background-color: #e9e9ff;\n",
       "  color: #000000;\n",
       "}\n",
       "#T_7d7de_row0_col9, #T_7d7de_row0_col60, #T_7d7de_row0_col75, #T_7d7de_row0_col100, #T_7d7de_row1_col9, #T_7d7de_row1_col60, #T_7d7de_row1_col75, #T_7d7de_row1_col100 {\n",
       "  background-color: #ffd1d1;\n",
       "  color: #000000;\n",
       "}\n",
       "#T_7d7de_row0_col10, #T_7d7de_row1_col10 {\n",
       "  background-color: #1919ff;\n",
       "  color: #f1f1f1;\n",
       "}\n",
       "#T_7d7de_row0_col14, #T_7d7de_row0_col20, #T_7d7de_row0_col24, #T_7d7de_row0_col27, #T_7d7de_row0_col47, #T_7d7de_row0_col56, #T_7d7de_row0_col94, #T_7d7de_row0_col123, #T_7d7de_row1_col14, #T_7d7de_row1_col20, #T_7d7de_row1_col24, #T_7d7de_row1_col27, #T_7d7de_row1_col47, #T_7d7de_row1_col56, #T_7d7de_row1_col94, #T_7d7de_row1_col123 {\n",
       "  background-color: #fff5f5;\n",
       "  color: #000000;\n",
       "}\n",
       "#T_7d7de_row0_col15, #T_7d7de_row1_col15 {\n",
       "  background-color: #ffa1a1;\n",
       "  color: #000000;\n",
       "}\n",
       "#T_7d7de_row0_col16, #T_7d7de_row0_col35, #T_7d7de_row0_col40, #T_7d7de_row0_col51, #T_7d7de_row0_col52, #T_7d7de_row0_col78, #T_7d7de_row0_col89, #T_7d7de_row0_col117, #T_7d7de_row0_col121, #T_7d7de_row1_col16, #T_7d7de_row1_col35, #T_7d7de_row1_col40, #T_7d7de_row1_col51, #T_7d7de_row1_col52, #T_7d7de_row1_col78, #T_7d7de_row1_col89, #T_7d7de_row1_col117, #T_7d7de_row1_col121 {\n",
       "  background-color: #fff1f1;\n",
       "  color: #000000;\n",
       "}\n",
       "#T_7d7de_row0_col17, #T_7d7de_row0_col50, #T_7d7de_row0_col79, #T_7d7de_row0_col101, #T_7d7de_row0_col109, #T_7d7de_row0_col110, #T_7d7de_row0_col138, #T_7d7de_row1_col17, #T_7d7de_row1_col50, #T_7d7de_row1_col79, #T_7d7de_row1_col101, #T_7d7de_row1_col109, #T_7d7de_row1_col110, #T_7d7de_row1_col138 {\n",
       "  background-color: #fffdfd;\n",
       "  color: #000000;\n",
       "}\n",
       "#T_7d7de_row0_col19, #T_7d7de_row0_col80, #T_7d7de_row0_col91, #T_7d7de_row1_col19, #T_7d7de_row1_col80, #T_7d7de_row1_col91 {\n",
       "  background-color: #ffb9b9;\n",
       "  color: #000000;\n",
       "}\n",
       "#T_7d7de_row0_col21, #T_7d7de_row0_col32, #T_7d7de_row1_col21, #T_7d7de_row1_col32 {\n",
       "  background-color: #ffb5b5;\n",
       "  color: #000000;\n",
       "}\n",
       "#T_7d7de_row0_col23, #T_7d7de_row1_col23 {\n",
       "  background-color: #6161ff;\n",
       "  color: #f1f1f1;\n",
       "}\n",
       "#T_7d7de_row0_col25, #T_7d7de_row0_col59, #T_7d7de_row0_col87, #T_7d7de_row0_col104, #T_7d7de_row0_col105, #T_7d7de_row1_col25, #T_7d7de_row1_col59, #T_7d7de_row1_col87, #T_7d7de_row1_col104, #T_7d7de_row1_col105 {\n",
       "  background-color: #f1f1ff;\n",
       "  color: #000000;\n",
       "}\n",
       "#T_7d7de_row0_col26, #T_7d7de_row0_col64, #T_7d7de_row0_col95, #T_7d7de_row0_col108, #T_7d7de_row0_col116, #T_7d7de_row1_col26, #T_7d7de_row1_col64, #T_7d7de_row1_col95, #T_7d7de_row1_col108, #T_7d7de_row1_col116 {\n",
       "  background-color: #ffd5d5;\n",
       "  color: #000000;\n",
       "}\n",
       "#T_7d7de_row0_col28, #T_7d7de_row1_col28 {\n",
       "  background-color: #ffc1c1;\n",
       "  color: #000000;\n",
       "}\n",
       "#T_7d7de_row0_col29, #T_7d7de_row1_col29 {\n",
       "  background-color: #bdbdff;\n",
       "  color: #000000;\n",
       "}\n",
       "#T_7d7de_row0_col31, #T_7d7de_row0_col41, #T_7d7de_row0_col48, #T_7d7de_row0_col68, #T_7d7de_row0_col103, #T_7d7de_row1_col31, #T_7d7de_row1_col41, #T_7d7de_row1_col48, #T_7d7de_row1_col68, #T_7d7de_row1_col103 {\n",
       "  background-color: #ffe1e1;\n",
       "  color: #000000;\n",
       "}\n",
       "#T_7d7de_row0_col33, #T_7d7de_row0_col127, #T_7d7de_row1_col33, #T_7d7de_row1_col127 {\n",
       "  background-color: #f5f5ff;\n",
       "  color: #000000;\n",
       "}\n",
       "#T_7d7de_row0_col34, #T_7d7de_row0_col77, #T_7d7de_row1_col34, #T_7d7de_row1_col77 {\n",
       "  background-color: #cdcdff;\n",
       "  color: #000000;\n",
       "}\n",
       "#T_7d7de_row0_col36, #T_7d7de_row0_col66, #T_7d7de_row0_col92, #T_7d7de_row0_col97, #T_7d7de_row1_col36, #T_7d7de_row1_col66, #T_7d7de_row1_col92, #T_7d7de_row1_col97 {\n",
       "  background-color: #ffc9c9;\n",
       "  color: #000000;\n",
       "}\n",
       "#T_7d7de_row0_col38, #T_7d7de_row1_col38 {\n",
       "  background-color: #8d8dff;\n",
       "  color: #f1f1f1;\n",
       "}\n",
       "#T_7d7de_row0_col39, #T_7d7de_row0_col93, #T_7d7de_row1_col39, #T_7d7de_row1_col93 {\n",
       "  background-color: #f9f9ff;\n",
       "  color: #000000;\n",
       "}\n",
       "#T_7d7de_row0_col42, #T_7d7de_row0_col125, #T_7d7de_row1_col42, #T_7d7de_row1_col125 {\n",
       "  background-color: #ffeded;\n",
       "  color: #000000;\n",
       "}\n",
       "#T_7d7de_row0_col43, #T_7d7de_row1_col43 {\n",
       "  background-color: #ffc5c5;\n",
       "  color: #000000;\n",
       "}\n",
       "#T_7d7de_row0_col46, #T_7d7de_row1_col46 {\n",
       "  background-color: #d1d1ff;\n",
       "  color: #000000;\n",
       "}\n",
       "#T_7d7de_row0_col49, #T_7d7de_row1_col49 {\n",
       "  background-color: #00004c;\n",
       "  color: #f1f1f1;\n",
       "}\n",
       "#T_7d7de_row0_col53, #T_7d7de_row0_col54, #T_7d7de_row0_col65, #T_7d7de_row0_col76, #T_7d7de_row0_col98, #T_7d7de_row0_col118, #T_7d7de_row0_col131, #T_7d7de_row1_col53, #T_7d7de_row1_col54, #T_7d7de_row1_col65, #T_7d7de_row1_col76, #T_7d7de_row1_col98, #T_7d7de_row1_col118, #T_7d7de_row1_col131 {\n",
       "  background-color: #ffe9e9;\n",
       "  color: #000000;\n",
       "}\n",
       "#T_7d7de_row0_col55, #T_7d7de_row0_col74, #T_7d7de_row0_col114, #T_7d7de_row0_col115, #T_7d7de_row0_col136, #T_7d7de_row1_col55, #T_7d7de_row1_col74, #T_7d7de_row1_col114, #T_7d7de_row1_col115, #T_7d7de_row1_col136 {\n",
       "  background-color: #ffdddd;\n",
       "  color: #000000;\n",
       "}\n",
       "#T_7d7de_row0_col57, #T_7d7de_row0_col120, #T_7d7de_row0_col126, #T_7d7de_row1_col57, #T_7d7de_row1_col120, #T_7d7de_row1_col126 {\n",
       "  background-color: #e5e5ff;\n",
       "  color: #000000;\n",
       "}\n",
       "#T_7d7de_row0_col61, #T_7d7de_row0_col73, #T_7d7de_row0_col111, #T_7d7de_row0_col112, #T_7d7de_row0_col130, #T_7d7de_row1_col61, #T_7d7de_row1_col73, #T_7d7de_row1_col111, #T_7d7de_row1_col112, #T_7d7de_row1_col130 {\n",
       "  background-color: #d5d5ff;\n",
       "  color: #000000;\n",
       "}\n",
       "#T_7d7de_row0_col67, #T_7d7de_row1_col67 {\n",
       "  background-color: #c5c5ff;\n",
       "  color: #000000;\n",
       "}\n",
       "#T_7d7de_row0_col71, #T_7d7de_row0_col122, #T_7d7de_row1_col71, #T_7d7de_row1_col122 {\n",
       "  background-color: #fdfdff;\n",
       "  color: #000000;\n",
       "}\n",
       "#T_7d7de_row0_col81, #T_7d7de_row1_col81 {\n",
       "  background-color: #a9a9ff;\n",
       "  color: #000000;\n",
       "}\n",
       "#T_7d7de_row0_col82, #T_7d7de_row1_col82 {\n",
       "  background-color: #ff9191;\n",
       "  color: #000000;\n",
       "}\n",
       "#T_7d7de_row0_col84, #T_7d7de_row1_col84 {\n",
       "  background-color: #ffb1b1;\n",
       "  color: #000000;\n",
       "}\n",
       "#T_7d7de_row0_col96, #T_7d7de_row1_col96 {\n",
       "  background-color: #9595ff;\n",
       "  color: #f1f1f1;\n",
       "}\n",
       "#T_7d7de_row0_col99, #T_7d7de_row0_col124, #T_7d7de_row0_col135, #T_7d7de_row1_col99, #T_7d7de_row1_col124, #T_7d7de_row1_col135 {\n",
       "  background-color: #fff9f9;\n",
       "  color: #000000;\n",
       "}\n",
       "#T_7d7de_row0_col106, #T_7d7de_row0_col119, #T_7d7de_row1_col106, #T_7d7de_row1_col119 {\n",
       "  background-color: #d9d9ff;\n",
       "  color: #000000;\n",
       "}\n",
       "#T_7d7de_row0_col107, #T_7d7de_row0_col128, #T_7d7de_row1_col107, #T_7d7de_row1_col128 {\n",
       "  background-color: #ffa5a5;\n",
       "  color: #000000;\n",
       "}\n",
       "#T_7d7de_row0_col129, #T_7d7de_row1_col129 {\n",
       "  background-color: #3535ff;\n",
       "  color: #f1f1f1;\n",
       "}\n",
       "#T_7d7de_row0_col132, #T_7d7de_row1_col132 {\n",
       "  background-color: #ffcdcd;\n",
       "  color: #000000;\n",
       "}\n",
       "#T_7d7de_row0_col134, #T_7d7de_row1_col134 {\n",
       "  background-color: #a5a5ff;\n",
       "  color: #000000;\n",
       "}\n",
       "#T_7d7de_row0_col137, #T_7d7de_row1_col137 {\n",
       "  background-color: #ffbdbd;\n",
       "  color: #000000;\n",
       "}\n",
       "</style>\n",
       "<table id=\"T_7d7de\">\n",
       "  <thead>\n",
       "    <tr>\n",
       "      <th class=\"blank level0\" >&nbsp;</th>\n",
       "      <th id=\"T_7d7de_level0_col0\" class=\"col_heading level0 col0\" >0</th>\n",
       "      <th id=\"T_7d7de_level0_col1\" class=\"col_heading level0 col1\" >1</th>\n",
       "      <th id=\"T_7d7de_level0_col2\" class=\"col_heading level0 col2\" >2</th>\n",
       "      <th id=\"T_7d7de_level0_col3\" class=\"col_heading level0 col3\" >3</th>\n",
       "      <th id=\"T_7d7de_level0_col4\" class=\"col_heading level0 col4\" >4</th>\n",
       "      <th id=\"T_7d7de_level0_col5\" class=\"col_heading level0 col5\" >5</th>\n",
       "      <th id=\"T_7d7de_level0_col6\" class=\"col_heading level0 col6\" >6</th>\n",
       "      <th id=\"T_7d7de_level0_col7\" class=\"col_heading level0 col7\" >7</th>\n",
       "      <th id=\"T_7d7de_level0_col8\" class=\"col_heading level0 col8\" >8</th>\n",
       "      <th id=\"T_7d7de_level0_col9\" class=\"col_heading level0 col9\" >9</th>\n",
       "      <th id=\"T_7d7de_level0_col10\" class=\"col_heading level0 col10\" >10</th>\n",
       "      <th id=\"T_7d7de_level0_col11\" class=\"col_heading level0 col11\" >11</th>\n",
       "      <th id=\"T_7d7de_level0_col12\" class=\"col_heading level0 col12\" >12</th>\n",
       "      <th id=\"T_7d7de_level0_col13\" class=\"col_heading level0 col13\" >13</th>\n",
       "      <th id=\"T_7d7de_level0_col14\" class=\"col_heading level0 col14\" >14</th>\n",
       "      <th id=\"T_7d7de_level0_col15\" class=\"col_heading level0 col15\" >15</th>\n",
       "      <th id=\"T_7d7de_level0_col16\" class=\"col_heading level0 col16\" >16</th>\n",
       "      <th id=\"T_7d7de_level0_col17\" class=\"col_heading level0 col17\" >17</th>\n",
       "      <th id=\"T_7d7de_level0_col18\" class=\"col_heading level0 col18\" >18</th>\n",
       "      <th id=\"T_7d7de_level0_col19\" class=\"col_heading level0 col19\" >19</th>\n",
       "      <th id=\"T_7d7de_level0_col20\" class=\"col_heading level0 col20\" >20</th>\n",
       "      <th id=\"T_7d7de_level0_col21\" class=\"col_heading level0 col21\" >21</th>\n",
       "      <th id=\"T_7d7de_level0_col22\" class=\"col_heading level0 col22\" >22</th>\n",
       "      <th id=\"T_7d7de_level0_col23\" class=\"col_heading level0 col23\" >23</th>\n",
       "      <th id=\"T_7d7de_level0_col24\" class=\"col_heading level0 col24\" >24</th>\n",
       "      <th id=\"T_7d7de_level0_col25\" class=\"col_heading level0 col25\" >25</th>\n",
       "      <th id=\"T_7d7de_level0_col26\" class=\"col_heading level0 col26\" >26</th>\n",
       "      <th id=\"T_7d7de_level0_col27\" class=\"col_heading level0 col27\" >27</th>\n",
       "      <th id=\"T_7d7de_level0_col28\" class=\"col_heading level0 col28\" >28</th>\n",
       "      <th id=\"T_7d7de_level0_col29\" class=\"col_heading level0 col29\" >29</th>\n",
       "      <th id=\"T_7d7de_level0_col30\" class=\"col_heading level0 col30\" >30</th>\n",
       "      <th id=\"T_7d7de_level0_col31\" class=\"col_heading level0 col31\" >31</th>\n",
       "      <th id=\"T_7d7de_level0_col32\" class=\"col_heading level0 col32\" >32</th>\n",
       "      <th id=\"T_7d7de_level0_col33\" class=\"col_heading level0 col33\" >33</th>\n",
       "      <th id=\"T_7d7de_level0_col34\" class=\"col_heading level0 col34\" >34</th>\n",
       "      <th id=\"T_7d7de_level0_col35\" class=\"col_heading level0 col35\" >35</th>\n",
       "      <th id=\"T_7d7de_level0_col36\" class=\"col_heading level0 col36\" >36</th>\n",
       "      <th id=\"T_7d7de_level0_col37\" class=\"col_heading level0 col37\" >37</th>\n",
       "      <th id=\"T_7d7de_level0_col38\" class=\"col_heading level0 col38\" >38</th>\n",
       "      <th id=\"T_7d7de_level0_col39\" class=\"col_heading level0 col39\" >39</th>\n",
       "      <th id=\"T_7d7de_level0_col40\" class=\"col_heading level0 col40\" >40</th>\n",
       "      <th id=\"T_7d7de_level0_col41\" class=\"col_heading level0 col41\" >41</th>\n",
       "      <th id=\"T_7d7de_level0_col42\" class=\"col_heading level0 col42\" >42</th>\n",
       "      <th id=\"T_7d7de_level0_col43\" class=\"col_heading level0 col43\" >43</th>\n",
       "      <th id=\"T_7d7de_level0_col44\" class=\"col_heading level0 col44\" >44</th>\n",
       "      <th id=\"T_7d7de_level0_col45\" class=\"col_heading level0 col45\" >45</th>\n",
       "      <th id=\"T_7d7de_level0_col46\" class=\"col_heading level0 col46\" >46</th>\n",
       "      <th id=\"T_7d7de_level0_col47\" class=\"col_heading level0 col47\" >47</th>\n",
       "      <th id=\"T_7d7de_level0_col48\" class=\"col_heading level0 col48\" >48</th>\n",
       "      <th id=\"T_7d7de_level0_col49\" class=\"col_heading level0 col49\" >49</th>\n",
       "      <th id=\"T_7d7de_level0_col50\" class=\"col_heading level0 col50\" >50</th>\n",
       "      <th id=\"T_7d7de_level0_col51\" class=\"col_heading level0 col51\" >51</th>\n",
       "      <th id=\"T_7d7de_level0_col52\" class=\"col_heading level0 col52\" >52</th>\n",
       "      <th id=\"T_7d7de_level0_col53\" class=\"col_heading level0 col53\" >53</th>\n",
       "      <th id=\"T_7d7de_level0_col54\" class=\"col_heading level0 col54\" >54</th>\n",
       "      <th id=\"T_7d7de_level0_col55\" class=\"col_heading level0 col55\" >55</th>\n",
       "      <th id=\"T_7d7de_level0_col56\" class=\"col_heading level0 col56\" >56</th>\n",
       "      <th id=\"T_7d7de_level0_col57\" class=\"col_heading level0 col57\" >57</th>\n",
       "      <th id=\"T_7d7de_level0_col58\" class=\"col_heading level0 col58\" >58</th>\n",
       "      <th id=\"T_7d7de_level0_col59\" class=\"col_heading level0 col59\" >59</th>\n",
       "      <th id=\"T_7d7de_level0_col60\" class=\"col_heading level0 col60\" >60</th>\n",
       "      <th id=\"T_7d7de_level0_col61\" class=\"col_heading level0 col61\" >61</th>\n",
       "      <th id=\"T_7d7de_level0_col62\" class=\"col_heading level0 col62\" >62</th>\n",
       "      <th id=\"T_7d7de_level0_col63\" class=\"col_heading level0 col63\" >63</th>\n",
       "      <th id=\"T_7d7de_level0_col64\" class=\"col_heading level0 col64\" >64</th>\n",
       "      <th id=\"T_7d7de_level0_col65\" class=\"col_heading level0 col65\" >65</th>\n",
       "      <th id=\"T_7d7de_level0_col66\" class=\"col_heading level0 col66\" >66</th>\n",
       "      <th id=\"T_7d7de_level0_col67\" class=\"col_heading level0 col67\" >67</th>\n",
       "      <th id=\"T_7d7de_level0_col68\" class=\"col_heading level0 col68\" >68</th>\n",
       "      <th id=\"T_7d7de_level0_col69\" class=\"col_heading level0 col69\" >69</th>\n",
       "      <th id=\"T_7d7de_level0_col70\" class=\"col_heading level0 col70\" >70</th>\n",
       "      <th id=\"T_7d7de_level0_col71\" class=\"col_heading level0 col71\" >71</th>\n",
       "      <th id=\"T_7d7de_level0_col72\" class=\"col_heading level0 col72\" >72</th>\n",
       "      <th id=\"T_7d7de_level0_col73\" class=\"col_heading level0 col73\" >73</th>\n",
       "      <th id=\"T_7d7de_level0_col74\" class=\"col_heading level0 col74\" >74</th>\n",
       "      <th id=\"T_7d7de_level0_col75\" class=\"col_heading level0 col75\" >75</th>\n",
       "      <th id=\"T_7d7de_level0_col76\" class=\"col_heading level0 col76\" >76</th>\n",
       "      <th id=\"T_7d7de_level0_col77\" class=\"col_heading level0 col77\" >77</th>\n",
       "      <th id=\"T_7d7de_level0_col78\" class=\"col_heading level0 col78\" >78</th>\n",
       "      <th id=\"T_7d7de_level0_col79\" class=\"col_heading level0 col79\" >79</th>\n",
       "      <th id=\"T_7d7de_level0_col80\" class=\"col_heading level0 col80\" >80</th>\n",
       "      <th id=\"T_7d7de_level0_col81\" class=\"col_heading level0 col81\" >81</th>\n",
       "      <th id=\"T_7d7de_level0_col82\" class=\"col_heading level0 col82\" >82</th>\n",
       "      <th id=\"T_7d7de_level0_col83\" class=\"col_heading level0 col83\" >83</th>\n",
       "      <th id=\"T_7d7de_level0_col84\" class=\"col_heading level0 col84\" >84</th>\n",
       "      <th id=\"T_7d7de_level0_col85\" class=\"col_heading level0 col85\" >85</th>\n",
       "      <th id=\"T_7d7de_level0_col86\" class=\"col_heading level0 col86\" >86</th>\n",
       "      <th id=\"T_7d7de_level0_col87\" class=\"col_heading level0 col87\" >87</th>\n",
       "      <th id=\"T_7d7de_level0_col88\" class=\"col_heading level0 col88\" >88</th>\n",
       "      <th id=\"T_7d7de_level0_col89\" class=\"col_heading level0 col89\" >89</th>\n",
       "      <th id=\"T_7d7de_level0_col90\" class=\"col_heading level0 col90\" >90</th>\n",
       "      <th id=\"T_7d7de_level0_col91\" class=\"col_heading level0 col91\" >91</th>\n",
       "      <th id=\"T_7d7de_level0_col92\" class=\"col_heading level0 col92\" >92</th>\n",
       "      <th id=\"T_7d7de_level0_col93\" class=\"col_heading level0 col93\" >93</th>\n",
       "      <th id=\"T_7d7de_level0_col94\" class=\"col_heading level0 col94\" >94</th>\n",
       "      <th id=\"T_7d7de_level0_col95\" class=\"col_heading level0 col95\" >95</th>\n",
       "      <th id=\"T_7d7de_level0_col96\" class=\"col_heading level0 col96\" >96</th>\n",
       "      <th id=\"T_7d7de_level0_col97\" class=\"col_heading level0 col97\" >97</th>\n",
       "      <th id=\"T_7d7de_level0_col98\" class=\"col_heading level0 col98\" >98</th>\n",
       "      <th id=\"T_7d7de_level0_col99\" class=\"col_heading level0 col99\" >99</th>\n",
       "      <th id=\"T_7d7de_level0_col100\" class=\"col_heading level0 col100\" >100</th>\n",
       "      <th id=\"T_7d7de_level0_col101\" class=\"col_heading level0 col101\" >101</th>\n",
       "      <th id=\"T_7d7de_level0_col102\" class=\"col_heading level0 col102\" >102</th>\n",
       "      <th id=\"T_7d7de_level0_col103\" class=\"col_heading level0 col103\" >103</th>\n",
       "      <th id=\"T_7d7de_level0_col104\" class=\"col_heading level0 col104\" >104</th>\n",
       "      <th id=\"T_7d7de_level0_col105\" class=\"col_heading level0 col105\" >105</th>\n",
       "      <th id=\"T_7d7de_level0_col106\" class=\"col_heading level0 col106\" >106</th>\n",
       "      <th id=\"T_7d7de_level0_col107\" class=\"col_heading level0 col107\" >107</th>\n",
       "      <th id=\"T_7d7de_level0_col108\" class=\"col_heading level0 col108\" >108</th>\n",
       "      <th id=\"T_7d7de_level0_col109\" class=\"col_heading level0 col109\" >109</th>\n",
       "      <th id=\"T_7d7de_level0_col110\" class=\"col_heading level0 col110\" >110</th>\n",
       "      <th id=\"T_7d7de_level0_col111\" class=\"col_heading level0 col111\" >111</th>\n",
       "      <th id=\"T_7d7de_level0_col112\" class=\"col_heading level0 col112\" >112</th>\n",
       "      <th id=\"T_7d7de_level0_col113\" class=\"col_heading level0 col113\" >113</th>\n",
       "      <th id=\"T_7d7de_level0_col114\" class=\"col_heading level0 col114\" >114</th>\n",
       "      <th id=\"T_7d7de_level0_col115\" class=\"col_heading level0 col115\" >115</th>\n",
       "      <th id=\"T_7d7de_level0_col116\" class=\"col_heading level0 col116\" >116</th>\n",
       "      <th id=\"T_7d7de_level0_col117\" class=\"col_heading level0 col117\" >117</th>\n",
       "      <th id=\"T_7d7de_level0_col118\" class=\"col_heading level0 col118\" >118</th>\n",
       "      <th id=\"T_7d7de_level0_col119\" class=\"col_heading level0 col119\" >119</th>\n",
       "      <th id=\"T_7d7de_level0_col120\" class=\"col_heading level0 col120\" >120</th>\n",
       "      <th id=\"T_7d7de_level0_col121\" class=\"col_heading level0 col121\" >121</th>\n",
       "      <th id=\"T_7d7de_level0_col122\" class=\"col_heading level0 col122\" >122</th>\n",
       "      <th id=\"T_7d7de_level0_col123\" class=\"col_heading level0 col123\" >123</th>\n",
       "      <th id=\"T_7d7de_level0_col124\" class=\"col_heading level0 col124\" >124</th>\n",
       "      <th id=\"T_7d7de_level0_col125\" class=\"col_heading level0 col125\" >125</th>\n",
       "      <th id=\"T_7d7de_level0_col126\" class=\"col_heading level0 col126\" >126</th>\n",
       "      <th id=\"T_7d7de_level0_col127\" class=\"col_heading level0 col127\" >127</th>\n",
       "      <th id=\"T_7d7de_level0_col128\" class=\"col_heading level0 col128\" >128</th>\n",
       "      <th id=\"T_7d7de_level0_col129\" class=\"col_heading level0 col129\" >129</th>\n",
       "      <th id=\"T_7d7de_level0_col130\" class=\"col_heading level0 col130\" >130</th>\n",
       "      <th id=\"T_7d7de_level0_col131\" class=\"col_heading level0 col131\" >131</th>\n",
       "      <th id=\"T_7d7de_level0_col132\" class=\"col_heading level0 col132\" >132</th>\n",
       "      <th id=\"T_7d7de_level0_col133\" class=\"col_heading level0 col133\" >133</th>\n",
       "      <th id=\"T_7d7de_level0_col134\" class=\"col_heading level0 col134\" >134</th>\n",
       "      <th id=\"T_7d7de_level0_col135\" class=\"col_heading level0 col135\" >135</th>\n",
       "      <th id=\"T_7d7de_level0_col136\" class=\"col_heading level0 col136\" >136</th>\n",
       "      <th id=\"T_7d7de_level0_col137\" class=\"col_heading level0 col137\" >137</th>\n",
       "      <th id=\"T_7d7de_level0_col138\" class=\"col_heading level0 col138\" >138</th>\n",
       "    </tr>\n",
       "  </thead>\n",
       "  <tbody>\n",
       "    <tr>\n",
       "      <th id=\"T_7d7de_level0_row0\" class=\"row_heading level0 row0\" >token</th>\n",
       "      <td id=\"T_7d7de_row0_col0\" class=\"data row0 col0\" >i</td>\n",
       "      <td id=\"T_7d7de_row0_col1\" class=\"data row0 col1\" >think</td>\n",
       "      <td id=\"T_7d7de_row0_col2\" class=\"data row0 col2\" >dirty</td>\n",
       "      <td id=\"T_7d7de_row0_col3\" class=\"data row0 col3\" >dancing</td>\n",
       "      <td id=\"T_7d7de_row0_col4\" class=\"data row0 col4\" >was</td>\n",
       "      <td id=\"T_7d7de_row0_col5\" class=\"data row0 col5\" >a</td>\n",
       "      <td id=\"T_7d7de_row0_col6\" class=\"data row0 col6\" >great</td>\n",
       "      <td id=\"T_7d7de_row0_col7\" class=\"data row0 col7\" >movie</td>\n",
       "      <td id=\"T_7d7de_row0_col8\" class=\"data row0 col8\" >,</td>\n",
       "      <td id=\"T_7d7de_row0_col9\" class=\"data row0 col9\" >they</td>\n",
       "      <td id=\"T_7d7de_row0_col10\" class=\"data row0 col10\" >tried</td>\n",
       "      <td id=\"T_7d7de_row0_col11\" class=\"data row0 col11\" >to</td>\n",
       "      <td id=\"T_7d7de_row0_col12\" class=\"data row0 col12\" >make</td>\n",
       "      <td id=\"T_7d7de_row0_col13\" class=\"data row0 col13\" >another</td>\n",
       "      <td id=\"T_7d7de_row0_col14\" class=\"data row0 col14\" >one</td>\n",
       "      <td id=\"T_7d7de_row0_col15\" class=\"data row0 col15\" >havana</td>\n",
       "      <td id=\"T_7d7de_row0_col16\" class=\"data row0 col16\" >nights</td>\n",
       "      <td id=\"T_7d7de_row0_col17\" class=\"data row0 col17\" >which</td>\n",
       "      <td id=\"T_7d7de_row0_col18\" class=\"data row0 col18\" >was</td>\n",
       "      <td id=\"T_7d7de_row0_col19\" class=\"data row0 col19\" >good</td>\n",
       "      <td id=\"T_7d7de_row0_col20\" class=\"data row0 col20\" >but</td>\n",
       "      <td id=\"T_7d7de_row0_col21\" class=\"data row0 col21\" >it</td>\n",
       "      <td id=\"T_7d7de_row0_col22\" class=\"data row0 col22\" >was</td>\n",
       "      <td id=\"T_7d7de_row0_col23\" class=\"data row0 col23\" >nothing</td>\n",
       "      <td id=\"T_7d7de_row0_col24\" class=\"data row0 col24\" >like</td>\n",
       "      <td id=\"T_7d7de_row0_col25\" class=\"data row0 col25\" >dirty</td>\n",
       "      <td id=\"T_7d7de_row0_col26\" class=\"data row0 col26\" >dancing</td>\n",
       "      <td id=\"T_7d7de_row0_col27\" class=\"data row0 col27\" >.</td>\n",
       "      <td id=\"T_7d7de_row0_col28\" class=\"data row0 col28\" >i</td>\n",
       "      <td id=\"T_7d7de_row0_col29\" class=\"data row0 col29\" >would</td>\n",
       "      <td id=\"T_7d7de_row0_col30\" class=\"data row0 col30\" >like</td>\n",
       "      <td id=\"T_7d7de_row0_col31\" class=\"data row0 col31\" >to</td>\n",
       "      <td id=\"T_7d7de_row0_col32\" class=\"data row0 col32\" >see</td>\n",
       "      <td id=\"T_7d7de_row0_col33\" class=\"data row0 col33\" >another</td>\n",
       "      <td id=\"T_7d7de_row0_col34\" class=\"data row0 col34\" >dirty</td>\n",
       "      <td id=\"T_7d7de_row0_col35\" class=\"data row0 col35\" >dancing</td>\n",
       "      <td id=\"T_7d7de_row0_col36\" class=\"data row0 col36\" >with</td>\n",
       "      <td id=\"T_7d7de_row0_col37\" class=\"data row0 col37\" >the</td>\n",
       "      <td id=\"T_7d7de_row0_col38\" class=\"data row0 col38\" >same</td>\n",
       "      <td id=\"T_7d7de_row0_col39\" class=\"data row0 col39\" >people</td>\n",
       "      <td id=\"T_7d7de_row0_col40\" class=\"data row0 col40\" >.</td>\n",
       "      <td id=\"T_7d7de_row0_col41\" class=\"data row0 col41\" >without</td>\n",
       "      <td id=\"T_7d7de_row0_col42\" class=\"data row0 col42\" >them</td>\n",
       "      <td id=\"T_7d7de_row0_col43\" class=\"data row0 col43\" >i</td>\n",
       "      <td id=\"T_7d7de_row0_col44\" class=\"data row0 col44\" >think</td>\n",
       "      <td id=\"T_7d7de_row0_col45\" class=\"data row0 col45\" >it</td>\n",
       "      <td id=\"T_7d7de_row0_col46\" class=\"data row0 col46\" >would</td>\n",
       "      <td id=\"T_7d7de_row0_col47\" class=\"data row0 col47\" >be</td>\n",
       "      <td id=\"T_7d7de_row0_col48\" class=\"data row0 col48\" >a</td>\n",
       "      <td id=\"T_7d7de_row0_col49\" class=\"data row0 col49\" >mess</td>\n",
       "      <td id=\"T_7d7de_row0_col50\" class=\"data row0 col50\" >.</td>\n",
       "      <td id=\"T_7d7de_row0_col51\" class=\"data row0 col51\" >a</td>\n",
       "      <td id=\"T_7d7de_row0_col52\" class=\"data row0 col52\" >lot</td>\n",
       "      <td id=\"T_7d7de_row0_col53\" class=\"data row0 col53\" >of</td>\n",
       "      <td id=\"T_7d7de_row0_col54\" class=\"data row0 col54\" >times</td>\n",
       "      <td id=\"T_7d7de_row0_col55\" class=\"data row0 col55\" >movies</td>\n",
       "      <td id=\"T_7d7de_row0_col56\" class=\"data row0 col56\" >are</td>\n",
       "      <td id=\"T_7d7de_row0_col57\" class=\"data row0 col57\" >made</td>\n",
       "      <td id=\"T_7d7de_row0_col58\" class=\"data row0 col58\" >then</td>\n",
       "      <td id=\"T_7d7de_row0_col59\" class=\"data row0 col59\" >when</td>\n",
       "      <td id=\"T_7d7de_row0_col60\" class=\"data row0 col60\" >they</td>\n",
       "      <td id=\"T_7d7de_row0_col61\" class=\"data row0 col61\" >try</td>\n",
       "      <td id=\"T_7d7de_row0_col62\" class=\"data row0 col62\" >to</td>\n",
       "      <td id=\"T_7d7de_row0_col63\" class=\"data row0 col63\" >add</td>\n",
       "      <td id=\"T_7d7de_row0_col64\" class=\"data row0 col64\" >on</td>\n",
       "      <td id=\"T_7d7de_row0_col65\" class=\"data row0 col65\" >more</td>\n",
       "      <td id=\"T_7d7de_row0_col66\" class=\"data row0 col66\" >they</td>\n",
       "      <td id=\"T_7d7de_row0_col67\" class=\"data row0 col67\" >start</td>\n",
       "      <td id=\"T_7d7de_row0_col68\" class=\"data row0 col68\" >to</td>\n",
       "      <td id=\"T_7d7de_row0_col69\" class=\"data row0 col69\" >change</td>\n",
       "      <td id=\"T_7d7de_row0_col70\" class=\"data row0 col70\" >the</td>\n",
       "      <td id=\"T_7d7de_row0_col71\" class=\"data row0 col71\" >people</td>\n",
       "      <td id=\"T_7d7de_row0_col72\" class=\"data row0 col72\" >an</td>\n",
       "      <td id=\"T_7d7de_row0_col73\" class=\"data row0 col73\" >make</td>\n",
       "      <td id=\"T_7d7de_row0_col74\" class=\"data row0 col74\" >the</td>\n",
       "      <td id=\"T_7d7de_row0_col75\" class=\"data row0 col75\" >movies</td>\n",
       "      <td id=\"T_7d7de_row0_col76\" class=\"data row0 col76\" >go</td>\n",
       "      <td id=\"T_7d7de_row0_col77\" class=\"data row0 col77\" >down</td>\n",
       "      <td id=\"T_7d7de_row0_col78\" class=\"data row0 col78\" >hill</td>\n",
       "      <td id=\"T_7d7de_row0_col79\" class=\"data row0 col79\" >.</td>\n",
       "      <td id=\"T_7d7de_row0_col80\" class=\"data row0 col80\" >i</td>\n",
       "      <td id=\"T_7d7de_row0_col81\" class=\"data row0 col81\" >would</td>\n",
       "      <td id=\"T_7d7de_row0_col82\" class=\"data row0 col82\" >love</td>\n",
       "      <td id=\"T_7d7de_row0_col83\" class=\"data row0 col83\" >to</td>\n",
       "      <td id=\"T_7d7de_row0_col84\" class=\"data row0 col84\" >see</td>\n",
       "      <td id=\"T_7d7de_row0_col85\" class=\"data row0 col85\" >dirty</td>\n",
       "      <td id=\"T_7d7de_row0_col86\" class=\"data row0 col86\" >dancing</td>\n",
       "      <td id=\"T_7d7de_row0_col87\" class=\"data row0 col87\" >have</td>\n",
       "      <td id=\"T_7d7de_row0_col88\" class=\"data row0 col88\" >another</td>\n",
       "      <td id=\"T_7d7de_row0_col89\" class=\"data row0 col89\" >one</td>\n",
       "      <td id=\"T_7d7de_row0_col90\" class=\"data row0 col90\" >to</td>\n",
       "      <td id=\"T_7d7de_row0_col91\" class=\"data row0 col91\" >see</td>\n",
       "      <td id=\"T_7d7de_row0_col92\" class=\"data row0 col92\" >what</td>\n",
       "      <td id=\"T_7d7de_row0_col93\" class=\"data row0 col93\" >happened</td>\n",
       "      <td id=\"T_7d7de_row0_col94\" class=\"data row0 col94\" >after</td>\n",
       "      <td id=\"T_7d7de_row0_col95\" class=\"data row0 col95\" >they</td>\n",
       "      <td id=\"T_7d7de_row0_col96\" class=\"data row0 col96\" >were</td>\n",
       "      <td id=\"T_7d7de_row0_col97\" class=\"data row0 col97\" >able</td>\n",
       "      <td id=\"T_7d7de_row0_col98\" class=\"data row0 col98\" >to</td>\n",
       "      <td id=\"T_7d7de_row0_col99\" class=\"data row0 col99\" >be</td>\n",
       "      <td id=\"T_7d7de_row0_col100\" class=\"data row0 col100\" >together</td>\n",
       "      <td id=\"T_7d7de_row0_col101\" class=\"data row0 col101\" >.</td>\n",
       "      <td id=\"T_7d7de_row0_col102\" class=\"data row0 col102\" >patrick</td>\n",
       "      <td id=\"T_7d7de_row0_col103\" class=\"data row0 col103\" >an</td>\n",
       "      <td id=\"T_7d7de_row0_col104\" class=\"data row0 col104\" >jennifer</td>\n",
       "      <td id=\"T_7d7de_row0_col105\" class=\"data row0 col105\" >did</td>\n",
       "      <td id=\"T_7d7de_row0_col106\" class=\"data row0 col106\" >so</td>\n",
       "      <td id=\"T_7d7de_row0_col107\" class=\"data row0 col107\" >well</td>\n",
       "      <td id=\"T_7d7de_row0_col108\" class=\"data row0 col108\" >together</td>\n",
       "      <td id=\"T_7d7de_row0_col109\" class=\"data row0 col109\" >.</td>\n",
       "      <td id=\"T_7d7de_row0_col110\" class=\"data row0 col110\" >this</td>\n",
       "      <td id=\"T_7d7de_row0_col111\" class=\"data row0 col111\" >movie</td>\n",
       "      <td id=\"T_7d7de_row0_col112\" class=\"data row0 col112\" >was</td>\n",
       "      <td id=\"T_7d7de_row0_col113\" class=\"data row0 col113\" >made</td>\n",
       "      <td id=\"T_7d7de_row0_col114\" class=\"data row0 col114\" >in</td>\n",
       "      <td id=\"T_7d7de_row0_col115\" class=\"data row0 col115\" >1997</td>\n",
       "      <td id=\"T_7d7de_row0_col116\" class=\"data row0 col116\" >its</td>\n",
       "      <td id=\"T_7d7de_row0_col117\" class=\"data row0 col117\" >time</td>\n",
       "      <td id=\"T_7d7de_row0_col118\" class=\"data row0 col118\" >to</td>\n",
       "      <td id=\"T_7d7de_row0_col119\" class=\"data row0 col119\" >make</td>\n",
       "      <td id=\"T_7d7de_row0_col120\" class=\"data row0 col120\" >another</td>\n",
       "      <td id=\"T_7d7de_row0_col121\" class=\"data row0 col121\" >one</td>\n",
       "      <td id=\"T_7d7de_row0_col122\" class=\"data row0 col122\" >.</td>\n",
       "      <td id=\"T_7d7de_row0_col123\" class=\"data row0 col123\" >but</td>\n",
       "      <td id=\"T_7d7de_row0_col124\" class=\"data row0 col124\" >this</td>\n",
       "      <td id=\"T_7d7de_row0_col125\" class=\"data row0 col125\" >time</td>\n",
       "      <td id=\"T_7d7de_row0_col126\" class=\"data row0 col126\" >start</td>\n",
       "      <td id=\"T_7d7de_row0_col127\" class=\"data row0 col127\" >where</td>\n",
       "      <td id=\"T_7d7de_row0_col128\" class=\"data row0 col128\" >it</td>\n",
       "      <td id=\"T_7d7de_row0_col129\" class=\"data row0 col129\" >left</td>\n",
       "      <td id=\"T_7d7de_row0_col130\" class=\"data row0 col130\" >off</td>\n",
       "      <td id=\"T_7d7de_row0_col131\" class=\"data row0 col131\" >an</td>\n",
       "      <td id=\"T_7d7de_row0_col132\" class=\"data row0 col132\" >keep</td>\n",
       "      <td id=\"T_7d7de_row0_col133\" class=\"data row0 col133\" >the</td>\n",
       "      <td id=\"T_7d7de_row0_col134\" class=\"data row0 col134\" >same</td>\n",
       "      <td id=\"T_7d7de_row0_col135\" class=\"data row0 col135\" >people</td>\n",
       "      <td id=\"T_7d7de_row0_col136\" class=\"data row0 col136\" >in</td>\n",
       "      <td id=\"T_7d7de_row0_col137\" class=\"data row0 col137\" >it</td>\n",
       "      <td id=\"T_7d7de_row0_col138\" class=\"data row0 col138\" >.</td>\n",
       "    </tr>\n",
       "    <tr>\n",
       "      <th id=\"T_7d7de_level0_row1\" class=\"row_heading level0 row1\" >salience</th>\n",
       "      <td id=\"T_7d7de_row1_col0\" class=\"data row1 col0\" >0.014261</td>\n",
       "      <td id=\"T_7d7de_row1_col1\" class=\"data row1 col1\" >-0.002992</td>\n",
       "      <td id=\"T_7d7de_row1_col2\" class=\"data row1 col2\" >-0.004922</td>\n",
       "      <td id=\"T_7d7de_row1_col3\" class=\"data row1 col3\" >0.004781</td>\n",
       "      <td id=\"T_7d7de_row1_col4\" class=\"data row1 col4\" >-0.005915</td>\n",
       "      <td id=\"T_7d7de_row1_col5\" class=\"data row1 col5\" >0.006495</td>\n",
       "      <td id=\"T_7d7de_row1_col6\" class=\"data row1 col6\" >0.030867</td>\n",
       "      <td id=\"T_7d7de_row1_col7\" class=\"data row1 col7\" >-0.003785</td>\n",
       "      <td id=\"T_7d7de_row1_col8\" class=\"data row1 col8\" >0.006632</td>\n",
       "      <td id=\"T_7d7de_row1_col9\" class=\"data row1 col9\" >0.007742</td>\n",
       "      <td id=\"T_7d7de_row1_col10\" class=\"data row1 col10\" >-0.039481</td>\n",
       "      <td id=\"T_7d7de_row1_col11\" class=\"data row1 col11\" >0.004610</td>\n",
       "      <td id=\"T_7d7de_row1_col12\" class=\"data row1 col12\" >-0.004976</td>\n",
       "      <td id=\"T_7d7de_row1_col13\" class=\"data row1 col13\" >-0.003500</td>\n",
       "      <td id=\"T_7d7de_row1_col14\" class=\"data row1 col14\" >0.001578</td>\n",
       "      <td id=\"T_7d7de_row1_col15\" class=\"data row1 col15\" >0.016113</td>\n",
       "      <td id=\"T_7d7de_row1_col16\" class=\"data row1 col16\" >0.002132</td>\n",
       "      <td id=\"T_7d7de_row1_col17\" class=\"data row1 col17\" >0.000228</td>\n",
       "      <td id=\"T_7d7de_row1_col18\" class=\"data row1 col18\" >-0.005390</td>\n",
       "      <td id=\"T_7d7de_row1_col19\" class=\"data row1 col19\" >0.011774</td>\n",
       "      <td id=\"T_7d7de_row1_col20\" class=\"data row1 col20\" >0.002035</td>\n",
       "      <td id=\"T_7d7de_row1_col21\" class=\"data row1 col21\" >0.012808</td>\n",
       "      <td id=\"T_7d7de_row1_col22\" class=\"data row1 col22\" >-0.005836</td>\n",
       "      <td id=\"T_7d7de_row1_col23\" class=\"data row1 col23\" >-0.027479</td>\n",
       "      <td id=\"T_7d7de_row1_col24\" class=\"data row1 col24\" >0.001626</td>\n",
       "      <td id=\"T_7d7de_row1_col25\" class=\"data row1 col25\" >-0.002677</td>\n",
       "      <td id=\"T_7d7de_row1_col26\" class=\"data row1 col26\" >0.007186</td>\n",
       "      <td id=\"T_7d7de_row1_col27\" class=\"data row1 col27\" >0.001948</td>\n",
       "      <td id=\"T_7d7de_row1_col28\" class=\"data row1 col28\" >0.010695</td>\n",
       "      <td id=\"T_7d7de_row1_col29\" class=\"data row1 col29\" >-0.011365</td>\n",
       "      <td id=\"T_7d7de_row1_col30\" class=\"data row1 col30\" >-0.003171</td>\n",
       "      <td id=\"T_7d7de_row1_col31\" class=\"data row1 col31\" >0.005458</td>\n",
       "      <td id=\"T_7d7de_row1_col32\" class=\"data row1 col32\" >0.012721</td>\n",
       "      <td id=\"T_7d7de_row1_col33\" class=\"data row1 col33\" >-0.001787</td>\n",
       "      <td id=\"T_7d7de_row1_col34\" class=\"data row1 col34\" >-0.008362</td>\n",
       "      <td id=\"T_7d7de_row1_col35\" class=\"data row1 col35\" >0.002474</td>\n",
       "      <td id=\"T_7d7de_row1_col36\" class=\"data row1 col36\" >0.009434</td>\n",
       "      <td id=\"T_7d7de_row1_col37\" class=\"data row1 col37\" >0.006574</td>\n",
       "      <td id=\"T_7d7de_row1_col38\" class=\"data row1 col38\" >-0.019470</td>\n",
       "      <td id=\"T_7d7de_row1_col39\" class=\"data row1 col39\" >-0.001208</td>\n",
       "      <td id=\"T_7d7de_row1_col40\" class=\"data row1 col40\" >0.002534</td>\n",
       "      <td id=\"T_7d7de_row1_col41\" class=\"data row1 col41\" >0.005287</td>\n",
       "      <td id=\"T_7d7de_row1_col42\" class=\"data row1 col42\" >0.003309</td>\n",
       "      <td id=\"T_7d7de_row1_col43\" class=\"data row1 col43\" >0.009682</td>\n",
       "      <td id=\"T_7d7de_row1_col44\" class=\"data row1 col44\" >-0.003376</td>\n",
       "      <td id=\"T_7d7de_row1_col45\" class=\"data row1 col45\" >0.014403</td>\n",
       "      <td id=\"T_7d7de_row1_col46\" class=\"data row1 col46\" >-0.007815</td>\n",
       "      <td id=\"T_7d7de_row1_col47\" class=\"data row1 col47\" >0.002027</td>\n",
       "      <td id=\"T_7d7de_row1_col48\" class=\"data row1 col48\" >0.004974</td>\n",
       "      <td id=\"T_7d7de_row1_col49\" class=\"data row1 col49\" >-0.088144</td>\n",
       "      <td id=\"T_7d7de_row1_col50\" class=\"data row1 col50\" >0.000333</td>\n",
       "      <td id=\"T_7d7de_row1_col51\" class=\"data row1 col51\" >0.002337</td>\n",
       "      <td id=\"T_7d7de_row1_col52\" class=\"data row1 col52\" >0.002136</td>\n",
       "      <td id=\"T_7d7de_row1_col53\" class=\"data row1 col53\" >0.003715</td>\n",
       "      <td id=\"T_7d7de_row1_col54\" class=\"data row1 col54\" >0.004052</td>\n",
       "      <td id=\"T_7d7de_row1_col55\" class=\"data row1 col55\" >0.006119</td>\n",
       "      <td id=\"T_7d7de_row1_col56\" class=\"data row1 col56\" >0.001460</td>\n",
       "      <td id=\"T_7d7de_row1_col57\" class=\"data row1 col57\" >-0.004209</td>\n",
       "      <td id=\"T_7d7de_row1_col58\" class=\"data row1 col58\" >-0.003757</td>\n",
       "      <td id=\"T_7d7de_row1_col59\" class=\"data row1 col59\" >-0.002320</td>\n",
       "      <td id=\"T_7d7de_row1_col60\" class=\"data row1 col60\" >0.007668</td>\n",
       "      <td id=\"T_7d7de_row1_col61\" class=\"data row1 col61\" >-0.007009</td>\n",
       "      <td id=\"T_7d7de_row1_col62\" class=\"data row1 col62\" >0.004578</td>\n",
       "      <td id=\"T_7d7de_row1_col63\" class=\"data row1 col63\" >-0.003606</td>\n",
       "      <td id=\"T_7d7de_row1_col64\" class=\"data row1 col64\" >0.007327</td>\n",
       "      <td id=\"T_7d7de_row1_col65\" class=\"data row1 col65\" >0.003783</td>\n",
       "      <td id=\"T_7d7de_row1_col66\" class=\"data row1 col66\" >0.009104</td>\n",
       "      <td id=\"T_7d7de_row1_col67\" class=\"data row1 col67\" >-0.010196</td>\n",
       "      <td id=\"T_7d7de_row1_col68\" class=\"data row1 col68\" >0.005207</td>\n",
       "      <td id=\"T_7d7de_row1_col69\" class=\"data row1 col69\" >-0.005893</td>\n",
       "      <td id=\"T_7d7de_row1_col70\" class=\"data row1 col70\" >0.006843</td>\n",
       "      <td id=\"T_7d7de_row1_col71\" class=\"data row1 col71\" >-0.000258</td>\n",
       "      <td id=\"T_7d7de_row1_col72\" class=\"data row1 col72\" >0.004638</td>\n",
       "      <td id=\"T_7d7de_row1_col73\" class=\"data row1 col73\" >-0.007329</td>\n",
       "      <td id=\"T_7d7de_row1_col74\" class=\"data row1 col74\" >0.005731</td>\n",
       "      <td id=\"T_7d7de_row1_col75\" class=\"data row1 col75\" >0.008050</td>\n",
       "      <td id=\"T_7d7de_row1_col76\" class=\"data row1 col76\" >0.003881</td>\n",
       "      <td id=\"T_7d7de_row1_col77\" class=\"data row1 col77\" >-0.008273</td>\n",
       "      <td id=\"T_7d7de_row1_col78\" class=\"data row1 col78\" >0.002511</td>\n",
       "      <td id=\"T_7d7de_row1_col79\" class=\"data row1 col79\" >0.000535</td>\n",
       "      <td id=\"T_7d7de_row1_col80\" class=\"data row1 col80\" >0.012032</td>\n",
       "      <td id=\"T_7d7de_row1_col81\" class=\"data row1 col81\" >-0.014477</td>\n",
       "      <td id=\"T_7d7de_row1_col82\" class=\"data row1 col82\" >0.019099</td>\n",
       "      <td id=\"T_7d7de_row1_col83\" class=\"data row1 col83\" >0.004208</td>\n",
       "      <td id=\"T_7d7de_row1_col84\" class=\"data row1 col84\" >0.013227</td>\n",
       "      <td id=\"T_7d7de_row1_col85\" class=\"data row1 col85\" >-0.005983</td>\n",
       "      <td id=\"T_7d7de_row1_col86\" class=\"data row1 col86\" >0.004206</td>\n",
       "      <td id=\"T_7d7de_row1_col87\" class=\"data row1 col87\" >-0.002678</td>\n",
       "      <td id=\"T_7d7de_row1_col88\" class=\"data row1 col88\" >-0.004822</td>\n",
       "      <td id=\"T_7d7de_row1_col89\" class=\"data row1 col89\" >0.002676</td>\n",
       "      <td id=\"T_7d7de_row1_col90\" class=\"data row1 col90\" >0.004588</td>\n",
       "      <td id=\"T_7d7de_row1_col91\" class=\"data row1 col91\" >0.012174</td>\n",
       "      <td id=\"T_7d7de_row1_col92\" class=\"data row1 col92\" >0.009509</td>\n",
       "      <td id=\"T_7d7de_row1_col93\" class=\"data row1 col93\" >-0.001103</td>\n",
       "      <td id=\"T_7d7de_row1_col94\" class=\"data row1 col94\" >0.001795</td>\n",
       "      <td id=\"T_7d7de_row1_col95\" class=\"data row1 col95\" >0.007059</td>\n",
       "      <td id=\"T_7d7de_row1_col96\" class=\"data row1 col96\" >-0.018109</td>\n",
       "      <td id=\"T_7d7de_row1_col97\" class=\"data row1 col97\" >0.009168</td>\n",
       "      <td id=\"T_7d7de_row1_col98\" class=\"data row1 col98\" >0.003942</td>\n",
       "      <td id=\"T_7d7de_row1_col99\" class=\"data row1 col99\" >0.000978</td>\n",
       "      <td id=\"T_7d7de_row1_col100\" class=\"data row1 col100\" >0.007944</td>\n",
       "      <td id=\"T_7d7de_row1_col101\" class=\"data row1 col101\" >0.000048</td>\n",
       "      <td id=\"T_7d7de_row1_col102\" class=\"data row1 col102\" >0.004205</td>\n",
       "      <td id=\"T_7d7de_row1_col103\" class=\"data row1 col103\" >0.005074</td>\n",
       "      <td id=\"T_7d7de_row1_col104\" class=\"data row1 col104\" >-0.002416</td>\n",
       "      <td id=\"T_7d7de_row1_col105\" class=\"data row1 col105\" >-0.002398</td>\n",
       "      <td id=\"T_7d7de_row1_col106\" class=\"data row1 col106\" >-0.006378</td>\n",
       "      <td id=\"T_7d7de_row1_col107\" class=\"data row1 col107\" >0.015768</td>\n",
       "      <td id=\"T_7d7de_row1_col108\" class=\"data row1 col108\" >0.007374</td>\n",
       "      <td id=\"T_7d7de_row1_col109\" class=\"data row1 col109\" >0.000037</td>\n",
       "      <td id=\"T_7d7de_row1_col110\" class=\"data row1 col110\" >0.000148</td>\n",
       "      <td id=\"T_7d7de_row1_col111\" class=\"data row1 col111\" >-0.007075</td>\n",
       "      <td id=\"T_7d7de_row1_col112\" class=\"data row1 col112\" >-0.007051</td>\n",
       "      <td id=\"T_7d7de_row1_col113\" class=\"data row1 col113\" >-0.006161</td>\n",
       "      <td id=\"T_7d7de_row1_col114\" class=\"data row1 col114\" >0.006151</td>\n",
       "      <td id=\"T_7d7de_row1_col115\" class=\"data row1 col115\" >0.006127</td>\n",
       "      <td id=\"T_7d7de_row1_col116\" class=\"data row1 col116\" >0.006926</td>\n",
       "      <td id=\"T_7d7de_row1_col117\" class=\"data row1 col117\" >0.002147</td>\n",
       "      <td id=\"T_7d7de_row1_col118\" class=\"data row1 col118\" >0.003812</td>\n",
       "      <td id=\"T_7d7de_row1_col119\" class=\"data row1 col119\" >-0.006555</td>\n",
       "      <td id=\"T_7d7de_row1_col120\" class=\"data row1 col120\" >-0.004629</td>\n",
       "      <td id=\"T_7d7de_row1_col121\" class=\"data row1 col121\" >0.002481</td>\n",
       "      <td id=\"T_7d7de_row1_col122\" class=\"data row1 col122\" >-0.000619</td>\n",
       "      <td id=\"T_7d7de_row1_col123\" class=\"data row1 col123\" >0.001660</td>\n",
       "      <td id=\"T_7d7de_row1_col124\" class=\"data row1 col124\" >0.001191</td>\n",
       "      <td id=\"T_7d7de_row1_col125\" class=\"data row1 col125\" >0.003227</td>\n",
       "      <td id=\"T_7d7de_row1_col126\" class=\"data row1 col126\" >-0.004275</td>\n",
       "      <td id=\"T_7d7de_row1_col127\" class=\"data row1 col127\" >-0.001467</td>\n",
       "      <td id=\"T_7d7de_row1_col128\" class=\"data row1 col128\" >0.015433</td>\n",
       "      <td id=\"T_7d7de_row1_col129\" class=\"data row1 col129\" >-0.034444</td>\n",
       "      <td id=\"T_7d7de_row1_col130\" class=\"data row1 col130\" >-0.007499</td>\n",
       "      <td id=\"T_7d7de_row1_col131\" class=\"data row1 col131\" >0.003535</td>\n",
       "      <td id=\"T_7d7de_row1_col132\" class=\"data row1 col132\" >0.008670</td>\n",
       "      <td id=\"T_7d7de_row1_col133\" class=\"data row1 col133\" >0.004167</td>\n",
       "      <td id=\"T_7d7de_row1_col134\" class=\"data row1 col134\" >-0.015571</td>\n",
       "      <td id=\"T_7d7de_row1_col135\" class=\"data row1 col135\" >0.001243</td>\n",
       "      <td id=\"T_7d7de_row1_col136\" class=\"data row1 col136\" >0.005982</td>\n",
       "      <td id=\"T_7d7de_row1_col137\" class=\"data row1 col137\" >0.011249</td>\n",
       "      <td id=\"T_7d7de_row1_col138\" class=\"data row1 col138\" >0.000131</td>\n",
       "    </tr>\n",
       "  </tbody>\n",
       "</table>\n"
      ],
      "text/plain": [
       "<pandas.io.formats.style.Styler at 0x7f064d8577c0>"
      ]
     },
     "execution_count": 330,
     "metadata": {},
     "output_type": "execute_result"
    }
   ],
   "source": [
    "df = pd.DataFrame(\n",
    "    [\n",
    "        ig_results[0][\"input_emb_grad\"].tokens,\n",
    "        ig_results[0][\"input_emb_grad\"].salience,\n",
    "    ],\n",
    "    index=[\"token\", \"salience\"],\n",
    ")\n",
    "\n",
    "salience_series = ig_results[0][\"input_emb_grad\"].salience\n",
    "abs_max = max(abs(salience_series.max()), abs(salience_series.min()))\n",
    "df.style.background_gradient(\n",
    "    axis=1,\n",
    "    gmap=df.loc[\"salience\", :].apply(pd.to_numeric),\n",
    "    vmin=-abs_max,\n",
    "    vmax=abs_max,\n",
    "    cmap=\"seismic\",\n",
    ")"
   ]
  },
  {
   "cell_type": "code",
   "execution_count": null,
   "id": "1c18be49-ab1a-4326-9fb0-3012daac60c1",
   "metadata": {},
   "outputs": [],
   "source": []
  }
 ],
 "metadata": {
  "accelerator": "GPU",
  "colab": {
   "gpuType": "T4",
   "provenance": []
  },
  "environment": {
   "kernel": "conda-base-py",
   "name": "workbench-notebooks.m124",
   "type": "gcloud",
   "uri": "us-docker.pkg.dev/deeplearning-platform-release/gcr.io/workbench-notebooks:m124"
  },
  "kernelspec": {
   "display_name": "Python 3 (ipykernel) (Local)",
   "language": "python",
   "name": "conda-base-py"
  },
  "language_info": {
   "codemirror_mode": {
    "name": "ipython",
    "version": 3
   },
   "file_extension": ".py",
   "mimetype": "text/x-python",
   "name": "python",
   "nbconvert_exporter": "python",
   "pygments_lexer": "ipython3",
   "version": "3.10.14"
  }
 },
 "nbformat": 4,
 "nbformat_minor": 5
}
