{
 "cells": [
  {
   "cell_type": "markdown",
   "id": "0ac6099d-c03b-46cc-bd0a-dd96f824a8de",
   "metadata": {
    "id": "0ac6099d-c03b-46cc-bd0a-dd96f824a8de"
   },
   "source": [
    "# LIT"
   ]
  },
  {
   "cell_type": "code",
   "execution_count": 8,
   "id": "a41b3fcd-f4ea-48bd-8ce7-13e9c4911d62",
   "metadata": {
    "colab": {
     "base_uri": "https://localhost:8080/",
     "height": 1000
    },
    "id": "a41b3fcd-f4ea-48bd-8ce7-13e9c4911d62",
    "outputId": "4e61458c-4496-4c6a-ab4d-2be21840480f",
    "tags": []
   },
   "outputs": [
    {
     "name": "stdout",
     "output_type": "stream",
     "text": [
      "Collecting tensorflow==2.14.1\n",
      "  Downloading tensorflow-2.14.1-cp310-cp310-manylinux_2_17_x86_64.manylinux2014_x86_64.whl.metadata (4.1 kB)\n",
      "Requirement already satisfied: lit-nlp in /opt/conda/lib/python3.10/site-packages (1.2)\n",
      "Requirement already satisfied: keras_nlp in ./.local/lib/python3.10/site-packages (0.5.1)\n",
      "Requirement already satisfied: absl-py>=1.0.0 in ./.local/lib/python3.10/site-packages (from tensorflow==2.14.1) (1.4.0)\n",
      "Requirement already satisfied: astunparse>=1.6.0 in ./.local/lib/python3.10/site-packages (from tensorflow==2.14.1) (1.6.3)\n",
      "Requirement already satisfied: flatbuffers>=23.5.26 in ./.local/lib/python3.10/site-packages (from tensorflow==2.14.1) (24.3.25)\n",
      "Requirement already satisfied: gast!=0.5.0,!=0.5.1,!=0.5.2,>=0.2.1 in ./.local/lib/python3.10/site-packages (from tensorflow==2.14.1) (0.4.0)\n",
      "Requirement already satisfied: google-pasta>=0.1.1 in ./.local/lib/python3.10/site-packages (from tensorflow==2.14.1) (0.2.0)\n",
      "Requirement already satisfied: h5py>=2.9.0 in ./.local/lib/python3.10/site-packages (from tensorflow==2.14.1) (3.11.0)\n",
      "Requirement already satisfied: libclang>=13.0.0 in ./.local/lib/python3.10/site-packages (from tensorflow==2.14.1) (18.1.1)\n",
      "Collecting ml-dtypes==0.2.0 (from tensorflow==2.14.1)\n",
      "  Downloading ml_dtypes-0.2.0-cp310-cp310-manylinux_2_17_x86_64.manylinux2014_x86_64.whl.metadata (20 kB)\n",
      "Requirement already satisfied: numpy<2.0.0,>=1.23.5 in /opt/conda/lib/python3.10/site-packages (from tensorflow==2.14.1) (1.26.4)\n",
      "Requirement already satisfied: opt-einsum>=2.3.2 in ./.local/lib/python3.10/site-packages (from tensorflow==2.14.1) (3.3.0)\n",
      "Requirement already satisfied: packaging in /opt/conda/lib/python3.10/site-packages (from tensorflow==2.14.1) (24.1)\n",
      "Requirement already satisfied: protobuf!=4.21.0,!=4.21.1,!=4.21.2,!=4.21.3,!=4.21.4,!=4.21.5,<5.0.0dev,>=3.20.3 in /opt/conda/lib/python3.10/site-packages (from tensorflow==2.14.1) (3.20.3)\n",
      "Requirement already satisfied: setuptools in /opt/conda/lib/python3.10/site-packages (from tensorflow==2.14.1) (61.2.0)\n",
      "Requirement already satisfied: six>=1.12.0 in /opt/conda/lib/python3.10/site-packages (from tensorflow==2.14.1) (1.16.0)\n",
      "Requirement already satisfied: termcolor>=1.1.0 in ./.local/lib/python3.10/site-packages (from tensorflow==2.14.1) (2.4.0)\n",
      "Requirement already satisfied: typing-extensions>=3.6.6 in /opt/conda/lib/python3.10/site-packages (from tensorflow==2.14.1) (4.12.2)\n",
      "Requirement already satisfied: wrapt<1.15,>=1.11.0 in ./.local/lib/python3.10/site-packages (from tensorflow==2.14.1) (1.14.1)\n",
      "Requirement already satisfied: tensorflow-io-gcs-filesystem>=0.23.1 in ./.local/lib/python3.10/site-packages (from tensorflow==2.14.1) (0.32.0)\n",
      "Requirement already satisfied: grpcio<2.0,>=1.24.3 in /opt/conda/lib/python3.10/site-packages (from tensorflow==2.14.1) (1.65.4)\n",
      "Collecting tensorboard<2.15,>=2.14 (from tensorflow==2.14.1)\n",
      "  Downloading tensorboard-2.14.1-py3-none-any.whl.metadata (1.7 kB)\n",
      "Collecting tensorflow-estimator<2.15,>=2.14.0 (from tensorflow==2.14.1)\n",
      "  Downloading tensorflow_estimator-2.14.0-py2.py3-none-any.whl.metadata (1.3 kB)\n",
      "Collecting keras<2.15,>=2.14.0 (from tensorflow==2.14.1)\n",
      "  Downloading keras-2.14.0-py3-none-any.whl.metadata (2.4 kB)\n",
      "Requirement already satisfied: annoy>=1.17.3 in /opt/conda/lib/python3.10/site-packages (from lit-nlp) (1.17.3)\n",
      "Requirement already satisfied: attrs>=22.1.0 in /opt/conda/lib/python3.10/site-packages (from lit-nlp) (23.2.0)\n",
      "Requirement already satisfied: etils>=1.5.0 in ./.local/lib/python3.10/site-packages (from etils[epath]>=1.5.0->lit-nlp) (1.9.4)\n",
      "Requirement already satisfied: filelock>=3.12.3 in /opt/conda/lib/python3.10/site-packages (from lit-nlp) (3.15.4)\n",
      "Requirement already satisfied: google-cloud-translate>=3.11.1 in /opt/conda/lib/python3.10/site-packages (from lit-nlp) (3.16.0)\n",
      "Requirement already satisfied: ipython>=7.34.0 in /opt/conda/lib/python3.10/site-packages (from lit-nlp) (8.21.0)\n",
      "Requirement already satisfied: Levenshtein>=0.21.1 in /opt/conda/lib/python3.10/site-packages (from lit-nlp) (0.25.1)\n",
      "Requirement already satisfied: matplotlib>=3.7.1 in /opt/conda/lib/python3.10/site-packages (from lit-nlp) (3.9.1)\n",
      "Requirement already satisfied: ml-collections>=0.1.1 in /opt/conda/lib/python3.10/site-packages (from lit-nlp) (0.1.1)\n",
      "Requirement already satisfied: pandas>=2.0.3 in /opt/conda/lib/python3.10/site-packages (from lit-nlp) (2.2.2)\n",
      "Requirement already satisfied: Pillow>=10.0.0 in /opt/conda/lib/python3.10/site-packages (from lit-nlp) (10.4.0)\n",
      "Requirement already satisfied: portpicker>=1.5.2 in /opt/conda/lib/python3.10/site-packages (from lit-nlp) (1.6.0)\n",
      "Requirement already satisfied: requests>=2.31.0 in /opt/conda/lib/python3.10/site-packages (from lit-nlp) (2.32.3)\n",
      "Requirement already satisfied: rouge-score>=0.1.2 in ./.local/lib/python3.10/site-packages (from lit-nlp) (0.1.2)\n",
      "Requirement already satisfied: sacrebleu>=2.3.1 in ./.local/lib/python3.10/site-packages (from lit-nlp) (2.4.3)\n",
      "Requirement already satisfied: saliency>=0.1.3 in ./.local/lib/python3.10/site-packages (from lit-nlp) (0.2.1)\n",
      "Requirement already satisfied: scikit-learn>=1.0.2 in /opt/conda/lib/python3.10/site-packages (from lit-nlp) (1.5.1)\n",
      "Requirement already satisfied: scipy>=1.10.1 in /opt/conda/lib/python3.10/site-packages (from lit-nlp) (1.13.1)\n",
      "Requirement already satisfied: shap<0.46.0,>=0.42.0 in /opt/conda/lib/python3.10/site-packages (from lit-nlp) (0.45.1)\n",
      "Requirement already satisfied: tqdm>=4.64.0 in /opt/conda/lib/python3.10/site-packages (from lit-nlp) (4.66.5)\n",
      "Requirement already satisfied: umap-learn>=0.5.1 in /opt/conda/lib/python3.10/site-packages (from lit-nlp) (0.5.6)\n",
      "Requirement already satisfied: werkzeug>=2.2.3 in ./.local/lib/python3.10/site-packages (from lit-nlp) (3.0.4)\n",
      "Requirement already satisfied: tensorflow-text in /opt/conda/lib/python3.10/site-packages (from keras_nlp) (2.15.0)\n",
      "Requirement already satisfied: wheel<1.0,>=0.23.0 in /opt/conda/lib/python3.10/site-packages (from astunparse>=1.6.0->tensorflow==2.14.1) (0.37.1)\n",
      "Requirement already satisfied: fsspec in /opt/conda/lib/python3.10/site-packages (from etils[epath]>=1.5.0->lit-nlp) (2024.6.1)\n",
      "Requirement already satisfied: importlib_resources in ./.local/lib/python3.10/site-packages (from etils[epath]>=1.5.0->lit-nlp) (6.4.4)\n",
      "Requirement already satisfied: zipp in /opt/conda/lib/python3.10/site-packages (from etils[epath]>=1.5.0->lit-nlp) (3.19.2)\n",
      "Requirement already satisfied: google-api-core!=2.0.*,!=2.1.*,!=2.10.*,!=2.2.*,!=2.3.*,!=2.4.*,!=2.5.*,!=2.6.*,!=2.7.*,!=2.8.*,!=2.9.*,<3.0.0dev,>=1.34.1 in /opt/conda/lib/python3.10/site-packages (from google-api-core[grpc]!=2.0.*,!=2.1.*,!=2.10.*,!=2.2.*,!=2.3.*,!=2.4.*,!=2.5.*,!=2.6.*,!=2.7.*,!=2.8.*,!=2.9.*,<3.0.0dev,>=1.34.1->google-cloud-translate>=3.11.1->lit-nlp) (1.34.1)\n",
      "Requirement already satisfied: google-auth!=2.24.0,!=2.25.0,<3.0.0dev,>=2.14.1 in /opt/conda/lib/python3.10/site-packages (from google-cloud-translate>=3.11.1->lit-nlp) (2.32.0)\n",
      "Requirement already satisfied: google-cloud-core<3.0.0dev,>=1.4.4 in /opt/conda/lib/python3.10/site-packages (from google-cloud-translate>=3.11.1->lit-nlp) (2.4.1)\n",
      "Requirement already satisfied: proto-plus<2.0.0dev,>=1.22.3 in /opt/conda/lib/python3.10/site-packages (from google-cloud-translate>=3.11.1->lit-nlp) (1.24.0)\n",
      "Requirement already satisfied: grpc-google-iam-v1<1.0.0dev,>=0.12.4 in /opt/conda/lib/python3.10/site-packages (from google-cloud-translate>=3.11.1->lit-nlp) (0.13.1)\n",
      "Requirement already satisfied: decorator in /opt/conda/lib/python3.10/site-packages (from ipython>=7.34.0->lit-nlp) (5.1.1)\n",
      "Requirement already satisfied: jedi>=0.16 in /opt/conda/lib/python3.10/site-packages (from ipython>=7.34.0->lit-nlp) (0.19.1)\n",
      "Requirement already satisfied: matplotlib-inline in /opt/conda/lib/python3.10/site-packages (from ipython>=7.34.0->lit-nlp) (0.1.7)\n",
      "Requirement already satisfied: prompt-toolkit<3.1.0,>=3.0.41 in /opt/conda/lib/python3.10/site-packages (from ipython>=7.34.0->lit-nlp) (3.0.47)\n",
      "Requirement already satisfied: pygments>=2.4.0 in /opt/conda/lib/python3.10/site-packages (from ipython>=7.34.0->lit-nlp) (2.18.0)\n",
      "Requirement already satisfied: stack-data in /opt/conda/lib/python3.10/site-packages (from ipython>=7.34.0->lit-nlp) (0.6.3)\n",
      "Requirement already satisfied: traitlets>=5 in /opt/conda/lib/python3.10/site-packages (from ipython>=7.34.0->lit-nlp) (5.14.3)\n",
      "Requirement already satisfied: exceptiongroup in /opt/conda/lib/python3.10/site-packages (from ipython>=7.34.0->lit-nlp) (1.2.2)\n",
      "Requirement already satisfied: pexpect>4.3 in /opt/conda/lib/python3.10/site-packages (from ipython>=7.34.0->lit-nlp) (4.9.0)\n",
      "Requirement already satisfied: rapidfuzz<4.0.0,>=3.8.0 in /opt/conda/lib/python3.10/site-packages (from Levenshtein>=0.21.1->lit-nlp) (3.9.7)\n",
      "Requirement already satisfied: contourpy>=1.0.1 in /opt/conda/lib/python3.10/site-packages (from matplotlib>=3.7.1->lit-nlp) (1.2.1)\n",
      "Requirement already satisfied: cycler>=0.10 in /opt/conda/lib/python3.10/site-packages (from matplotlib>=3.7.1->lit-nlp) (0.12.1)\n",
      "Requirement already satisfied: fonttools>=4.22.0 in /opt/conda/lib/python3.10/site-packages (from matplotlib>=3.7.1->lit-nlp) (4.53.1)\n",
      "Requirement already satisfied: kiwisolver>=1.3.1 in /opt/conda/lib/python3.10/site-packages (from matplotlib>=3.7.1->lit-nlp) (1.4.5)\n",
      "Requirement already satisfied: pyparsing>=2.3.1 in /opt/conda/lib/python3.10/site-packages (from matplotlib>=3.7.1->lit-nlp) (3.1.2)\n",
      "Requirement already satisfied: python-dateutil>=2.7 in /opt/conda/lib/python3.10/site-packages (from matplotlib>=3.7.1->lit-nlp) (2.9.0.post0)\n",
      "Requirement already satisfied: PyYAML in ./.local/lib/python3.10/site-packages (from ml-collections>=0.1.1->lit-nlp) (5.3.1)\n",
      "Requirement already satisfied: contextlib2 in /opt/conda/lib/python3.10/site-packages (from ml-collections>=0.1.1->lit-nlp) (21.6.0)\n",
      "Requirement already satisfied: pytz>=2020.1 in /opt/conda/lib/python3.10/site-packages (from pandas>=2.0.3->lit-nlp) (2024.1)\n",
      "Requirement already satisfied: tzdata>=2022.7 in /opt/conda/lib/python3.10/site-packages (from pandas>=2.0.3->lit-nlp) (2024.1)\n",
      "Requirement already satisfied: psutil in /opt/conda/lib/python3.10/site-packages (from portpicker>=1.5.2->lit-nlp) (5.9.3)\n",
      "Requirement already satisfied: charset-normalizer<4,>=2 in /opt/conda/lib/python3.10/site-packages (from requests>=2.31.0->lit-nlp) (2.0.4)\n",
      "Requirement already satisfied: idna<4,>=2.5 in /opt/conda/lib/python3.10/site-packages (from requests>=2.31.0->lit-nlp) (3.3)\n",
      "Requirement already satisfied: urllib3<3,>=1.21.1 in /opt/conda/lib/python3.10/site-packages (from requests>=2.31.0->lit-nlp) (1.26.19)\n",
      "Requirement already satisfied: certifi>=2017.4.17 in /opt/conda/lib/python3.10/site-packages (from requests>=2.31.0->lit-nlp) (2024.7.4)\n",
      "Requirement already satisfied: nltk in ./.local/lib/python3.10/site-packages (from rouge-score>=0.1.2->lit-nlp) (3.8.1)\n",
      "Requirement already satisfied: portalocker in ./.local/lib/python3.10/site-packages (from sacrebleu>=2.3.1->lit-nlp) (2.10.1)\n",
      "Requirement already satisfied: regex in ./.local/lib/python3.10/site-packages (from sacrebleu>=2.3.1->lit-nlp) (2024.7.24)\n",
      "Requirement already satisfied: tabulate>=0.8.9 in /opt/conda/lib/python3.10/site-packages (from sacrebleu>=2.3.1->lit-nlp) (0.9.0)\n",
      "Requirement already satisfied: colorama in /opt/conda/lib/python3.10/site-packages (from sacrebleu>=2.3.1->lit-nlp) (0.4.4)\n",
      "Requirement already satisfied: lxml in ./.local/lib/python3.10/site-packages (from sacrebleu>=2.3.1->lit-nlp) (5.3.0)\n",
      "Requirement already satisfied: scikit-image in /opt/conda/lib/python3.10/site-packages (from saliency>=0.1.3->lit-nlp) (0.24.0)\n",
      "Requirement already satisfied: joblib>=1.2.0 in /opt/conda/lib/python3.10/site-packages (from scikit-learn>=1.0.2->lit-nlp) (1.4.2)\n",
      "Requirement already satisfied: threadpoolctl>=3.1.0 in /opt/conda/lib/python3.10/site-packages (from scikit-learn>=1.0.2->lit-nlp) (3.5.0)\n",
      "Requirement already satisfied: slicer==0.0.8 in /opt/conda/lib/python3.10/site-packages (from shap<0.46.0,>=0.42.0->lit-nlp) (0.0.8)\n",
      "Requirement already satisfied: numba in /opt/conda/lib/python3.10/site-packages (from shap<0.46.0,>=0.42.0->lit-nlp) (0.60.0)\n",
      "Requirement already satisfied: cloudpickle in ./.local/lib/python3.10/site-packages (from shap<0.46.0,>=0.42.0->lit-nlp) (2.2.1)\n",
      "Requirement already satisfied: google-auth-oauthlib<1.1,>=0.5 in ./.local/lib/python3.10/site-packages (from tensorboard<2.15,>=2.14->tensorflow==2.14.1) (1.0.0)\n",
      "Requirement already satisfied: markdown>=2.6.8 in ./.local/lib/python3.10/site-packages (from tensorboard<2.15,>=2.14->tensorflow==2.14.1) (3.7)\n",
      "Requirement already satisfied: tensorboard-data-server<0.8.0,>=0.7.0 in ./.local/lib/python3.10/site-packages (from tensorboard<2.15,>=2.14->tensorflow==2.14.1) (0.7.2)\n",
      "Requirement already satisfied: pynndescent>=0.5 in /opt/conda/lib/python3.10/site-packages (from umap-learn>=0.5.1->lit-nlp) (0.5.13)\n",
      "Requirement already satisfied: MarkupSafe>=2.1.1 in /opt/conda/lib/python3.10/site-packages (from werkzeug>=2.2.3->lit-nlp) (2.1.5)\n",
      "Requirement already satisfied: tensorflow-hub>=0.13.0 in ./.local/lib/python3.10/site-packages (from tensorflow-text->keras_nlp) (0.16.1)\n",
      "INFO: pip is looking at multiple versions of tensorflow-text to determine which version is compatible with other requirements. This could take a while.\n",
      "Collecting tensorflow-text (from keras_nlp)\n",
      "  Using cached tensorflow_text-2.17.0-cp310-cp310-manylinux_2_17_x86_64.manylinux2014_x86_64.whl.metadata (1.8 kB)\n",
      "  Using cached tensorflow_text-2.16.1-cp310-cp310-manylinux_2_17_x86_64.manylinux2014_x86_64.whl.metadata (2.0 kB)\n",
      "  Downloading tensorflow_text-2.14.0-cp310-cp310-manylinux_2_17_x86_64.manylinux2014_x86_64.whl.metadata (1.9 kB)\n",
      "Requirement already satisfied: googleapis-common-protos<2.0dev,>=1.56.2 in /opt/conda/lib/python3.10/site-packages (from google-api-core!=2.0.*,!=2.1.*,!=2.10.*,!=2.2.*,!=2.3.*,!=2.4.*,!=2.5.*,!=2.6.*,!=2.7.*,!=2.8.*,!=2.9.*,<3.0.0dev,>=1.34.1->google-api-core[grpc]!=2.0.*,!=2.1.*,!=2.10.*,!=2.2.*,!=2.3.*,!=2.4.*,!=2.5.*,!=2.6.*,!=2.7.*,!=2.8.*,!=2.9.*,<3.0.0dev,>=1.34.1->google-cloud-translate>=3.11.1->lit-nlp) (1.63.2)\n",
      "Requirement already satisfied: grpcio-status<2.0dev,>=1.33.2 in /opt/conda/lib/python3.10/site-packages (from google-api-core[grpc]!=2.0.*,!=2.1.*,!=2.10.*,!=2.2.*,!=2.3.*,!=2.4.*,!=2.5.*,!=2.6.*,!=2.7.*,!=2.8.*,!=2.9.*,<3.0.0dev,>=1.34.1->google-cloud-translate>=3.11.1->lit-nlp) (1.48.2)\n",
      "Requirement already satisfied: cachetools<6.0,>=2.0.0 in /opt/conda/lib/python3.10/site-packages (from google-auth!=2.24.0,!=2.25.0,<3.0.0dev,>=2.14.1->google-cloud-translate>=3.11.1->lit-nlp) (5.4.0)\n",
      "Requirement already satisfied: pyasn1-modules>=0.2.1 in /opt/conda/lib/python3.10/site-packages (from google-auth!=2.24.0,!=2.25.0,<3.0.0dev,>=2.14.1->google-cloud-translate>=3.11.1->lit-nlp) (0.4.0)\n",
      "Requirement already satisfied: rsa<5,>=3.1.4 in /opt/conda/lib/python3.10/site-packages (from google-auth!=2.24.0,!=2.25.0,<3.0.0dev,>=2.14.1->google-cloud-translate>=3.11.1->lit-nlp) (4.9)\n",
      "Requirement already satisfied: requests-oauthlib>=0.7.0 in /opt/conda/lib/python3.10/site-packages (from google-auth-oauthlib<1.1,>=0.5->tensorboard<2.15,>=2.14->tensorflow==2.14.1) (2.0.0)\n",
      "Requirement already satisfied: parso<0.9.0,>=0.8.3 in /opt/conda/lib/python3.10/site-packages (from jedi>=0.16->ipython>=7.34.0->lit-nlp) (0.8.4)\n",
      "Requirement already satisfied: llvmlite<0.44,>=0.43.0dev0 in /opt/conda/lib/python3.10/site-packages (from numba->shap<0.46.0,>=0.42.0->lit-nlp) (0.43.0)\n",
      "Requirement already satisfied: ptyprocess>=0.5 in /opt/conda/lib/python3.10/site-packages (from pexpect>4.3->ipython>=7.34.0->lit-nlp) (0.7.0)\n",
      "Requirement already satisfied: wcwidth in /opt/conda/lib/python3.10/site-packages (from prompt-toolkit<3.1.0,>=3.0.41->ipython>=7.34.0->lit-nlp) (0.2.13)\n",
      "Requirement already satisfied: tf-keras>=2.14.1 in ./.local/lib/python3.10/site-packages (from tensorflow-hub>=0.13.0->tensorflow-text->keras_nlp) (2.15.0)\n",
      "Requirement already satisfied: click in /opt/conda/lib/python3.10/site-packages (from nltk->rouge-score>=0.1.2->lit-nlp) (8.1.7)\n",
      "Requirement already satisfied: networkx>=2.8 in /opt/conda/lib/python3.10/site-packages (from scikit-image->saliency>=0.1.3->lit-nlp) (3.3)\n",
      "Requirement already satisfied: imageio>=2.33 in /opt/conda/lib/python3.10/site-packages (from scikit-image->saliency>=0.1.3->lit-nlp) (2.34.2)\n",
      "Requirement already satisfied: tifffile>=2022.8.12 in /opt/conda/lib/python3.10/site-packages (from scikit-image->saliency>=0.1.3->lit-nlp) (2024.7.24)\n",
      "Requirement already satisfied: lazy-loader>=0.4 in /opt/conda/lib/python3.10/site-packages (from scikit-image->saliency>=0.1.3->lit-nlp) (0.4)\n",
      "Requirement already satisfied: executing>=1.2.0 in /opt/conda/lib/python3.10/site-packages (from stack-data->ipython>=7.34.0->lit-nlp) (2.0.1)\n",
      "Requirement already satisfied: asttokens>=2.1.0 in /opt/conda/lib/python3.10/site-packages (from stack-data->ipython>=7.34.0->lit-nlp) (2.4.1)\n",
      "Requirement already satisfied: pure-eval in /opt/conda/lib/python3.10/site-packages (from stack-data->ipython>=7.34.0->lit-nlp) (0.2.3)\n",
      "Requirement already satisfied: pyasn1<0.7.0,>=0.4.6 in /opt/conda/lib/python3.10/site-packages (from pyasn1-modules>=0.2.1->google-auth!=2.24.0,!=2.25.0,<3.0.0dev,>=2.14.1->google-cloud-translate>=3.11.1->lit-nlp) (0.6.0)\n",
      "Requirement already satisfied: oauthlib>=3.0.0 in /opt/conda/lib/python3.10/site-packages (from requests-oauthlib>=0.7.0->google-auth-oauthlib<1.1,>=0.5->tensorboard<2.15,>=2.14->tensorflow==2.14.1) (3.2.2)\n",
      "Downloading tensorflow-2.14.1-cp310-cp310-manylinux_2_17_x86_64.manylinux2014_x86_64.whl (489.9 MB)\n",
      "\u001b[2K   \u001b[90m━━━━━━━━━━━━━━━━━━━━━━━━━━━━━━━━━━━━━━━━\u001b[0m \u001b[32m489.9/489.9 MB\u001b[0m \u001b[31m42.1 MB/s\u001b[0m eta \u001b[36m0:00:00\u001b[0m00:01\u001b[0m00:01\u001b[0m\n",
      "\u001b[?25hDownloading ml_dtypes-0.2.0-cp310-cp310-manylinux_2_17_x86_64.manylinux2014_x86_64.whl (1.0 MB)\n",
      "\u001b[2K   \u001b[90m━━━━━━━━━━━━━━━━━━━━━━━━━━━━━━━━━━━━━━━━\u001b[0m \u001b[32m1.0/1.0 MB\u001b[0m \u001b[31m42.9 MB/s\u001b[0m eta \u001b[36m0:00:00\u001b[0m\n",
      "\u001b[?25hDownloading keras-2.14.0-py3-none-any.whl (1.7 MB)\n",
      "\u001b[2K   \u001b[90m━━━━━━━━━━━━━━━━━━━━━━━━━━━━━━━━━━━━━━━━\u001b[0m \u001b[32m1.7/1.7 MB\u001b[0m \u001b[31m50.6 MB/s\u001b[0m eta \u001b[36m0:00:00\u001b[0m\n",
      "\u001b[?25hDownloading tensorboard-2.14.1-py3-none-any.whl (5.5 MB)\n",
      "\u001b[2K   \u001b[90m━━━━━━━━━━━━━━━━━━━━━━━━━━━━━━━━━━━━━━━━\u001b[0m \u001b[32m5.5/5.5 MB\u001b[0m \u001b[31m52.4 MB/s\u001b[0m eta \u001b[36m0:00:00\u001b[0m\n",
      "\u001b[?25hDownloading tensorflow_estimator-2.14.0-py2.py3-none-any.whl (440 kB)\n",
      "Downloading tensorflow_text-2.14.0-cp310-cp310-manylinux_2_17_x86_64.manylinux2014_x86_64.whl (6.5 MB)\n",
      "\u001b[2K   \u001b[90m━━━━━━━━━━━━━━━━━━━━━━━━━━━━━━━━━━━━━━━━\u001b[0m \u001b[32m6.5/6.5 MB\u001b[0m \u001b[31m55.0 MB/s\u001b[0m eta \u001b[36m0:00:00\u001b[0m\n",
      "\u001b[?25hInstalling collected packages: tensorflow-estimator, ml-dtypes, keras, tensorboard, tensorflow, tensorflow-text\n",
      "  Attempting uninstall: tensorflow-estimator\n",
      "    Found existing installation: tensorflow-estimator 2.15.0\n",
      "    Uninstalling tensorflow-estimator-2.15.0:\n",
      "      Successfully uninstalled tensorflow-estimator-2.15.0\n",
      "  Attempting uninstall: ml-dtypes\n",
      "    Found existing installation: ml-dtypes 0.3.2\n",
      "    Uninstalling ml-dtypes-0.3.2:\n",
      "      Successfully uninstalled ml-dtypes-0.3.2\n",
      "  Attempting uninstall: keras\n",
      "    Found existing installation: keras 2.15.0\n",
      "    Uninstalling keras-2.15.0:\n",
      "      Successfully uninstalled keras-2.15.0\n",
      "  Attempting uninstall: tensorboard\n",
      "    Found existing installation: tensorboard 2.15.2\n",
      "    Uninstalling tensorboard-2.15.2:\n",
      "      Successfully uninstalled tensorboard-2.15.2\n",
      "  Attempting uninstall: tensorflow\n",
      "    Found existing installation: tensorflow 2.15.1\n",
      "    Uninstalling tensorflow-2.15.1:\n",
      "      Successfully uninstalled tensorflow-2.15.1\n",
      "  Attempting uninstall: tensorflow-text\n",
      "    Found existing installation: tensorflow-text 2.15.0\n",
      "    Uninstalling tensorflow-text-2.15.0:\n",
      "      Successfully uninstalled tensorflow-text-2.15.0\n",
      "\u001b[31mERROR: pip's dependency resolver does not currently take into account all the packages that are installed. This behaviour is the source of the following dependency conflicts.\n",
      "tf-models-official 2.12.0 requires tensorflow~=2.12.0, but you have tensorflow 2.14.1 which is incompatible.\n",
      "tf-models-official 2.12.0 requires tensorflow-text~=2.12.0, but you have tensorflow-text 2.14.0 which is incompatible.\n",
      "asl 0.1 requires tensorflow==2.12.0, but you have tensorflow 2.14.1 which is incompatible.\n",
      "asl 0.1 requires tensorflow_text==2.12.1, but you have tensorflow-text 2.14.0 which is incompatible.\u001b[0m\u001b[31m\n",
      "\u001b[0mSuccessfully installed keras-2.14.0 ml-dtypes-0.2.0 tensorboard-2.14.1 tensorflow-2.14.1 tensorflow-estimator-2.14.0 tensorflow-text-2.14.0\n"
     ]
    }
   ],
   "source": [
    "!pip install tensorflow==2.14.1 lit-nlp keras_nlp"
   ]
  },
  {
   "cell_type": "code",
   "execution_count": 1,
   "id": "4916615f-68cf-4946-b31f-ce4fb3b48e5a",
   "metadata": {
    "colab": {
     "base_uri": "https://localhost:8080/"
    },
    "id": "4916615f-68cf-4946-b31f-ce4fb3b48e5a",
    "outputId": "51608304-59de-4546-8bf4-717262d39bbb",
    "tags": []
   },
   "outputs": [
    {
     "name": "stdout",
     "output_type": "stream",
     "text": [
      "env: PATH=/home/jupyter/.local/bin:/usr/local/cuda/bin:/opt/conda/bin:/opt/conda/condabin:/usr/local/bin:/usr/bin:/bin:/usr/local/games:/usr/games\n"
     ]
    }
   ],
   "source": [
    "import os\n",
    "import warnings\n",
    "\n",
    "warnings.filterwarnings(\"ignore\")\n",
    "os.environ[\"TF_CPP_MIN_LOG_LEVEL\"] = \"2\"\n",
    "\n",
    "# Set `PATH` to include the directory containing saved_model_cli\n",
    "PATH = %env PATH\n",
    "%env PATH=/home/jupyter/.local/bin:{PATH}"
   ]
  },
  {
   "cell_type": "code",
   "execution_count": 2,
   "id": "0708d01f-9f6a-46f0-b4eb-85dc8afa23c6",
   "metadata": {
    "id": "0708d01f-9f6a-46f0-b4eb-85dc8afa23c6",
    "tags": []
   },
   "outputs": [
    {
     "name": "stderr",
     "output_type": "stream",
     "text": [
      "2024-09-05 12:25:39.887567: E tensorflow/compiler/xla/stream_executor/cuda/cuda_dnn.cc:9342] Unable to register cuDNN factory: Attempting to register factory for plugin cuDNN when one has already been registered\n",
      "2024-09-05 12:25:39.887614: E tensorflow/compiler/xla/stream_executor/cuda/cuda_fft.cc:609] Unable to register cuFFT factory: Attempting to register factory for plugin cuFFT when one has already been registered\n",
      "2024-09-05 12:25:39.887647: E tensorflow/compiler/xla/stream_executor/cuda/cuda_blas.cc:1518] Unable to register cuBLAS factory: Attempting to register factory for plugin cuBLAS when one has already been registered\n"
     ]
    }
   ],
   "source": [
    "import datetime\n",
    "import shutil\n",
    "\n",
    "import keras\n",
    "\n",
    "# import tensorflow_hub as hub\n",
    "import keras_nlp\n",
    "\n",
    "# import matplotlib.pyplot as plt\n",
    "import tensorflow as tf\n",
    "import tensorflow_text as text\n",
    "\n",
    "# from official.nlp import optimization  # to create AdamW optmizer\n",
    "\n",
    "tf.get_logger().setLevel(\"ERROR\")"
   ]
  },
  {
   "cell_type": "code",
   "execution_count": 3,
   "id": "5d1b1c31-d2af-4f77-9d7c-816428bbf496",
   "metadata": {
    "colab": {
     "base_uri": "https://localhost:8080/"
    },
    "id": "5d1b1c31-d2af-4f77-9d7c-816428bbf496",
    "outputId": "ddf67176-5507-4d7d-bfd7-038ac06b95f0",
    "tags": []
   },
   "outputs": [
    {
     "name": "stdout",
     "output_type": "stream",
     "text": [
      "Num GPUs Available:  1\n"
     ]
    }
   ],
   "source": [
    "print(\"Num GPUs Available: \", len(tf.config.list_physical_devices(\"GPU\")))"
   ]
  },
  {
   "cell_type": "markdown",
   "id": "0927aaaf-b6db-4c7d-80ea-e83dee8ad3cc",
   "metadata": {
    "id": "0927aaaf-b6db-4c7d-80ea-e83dee8ad3cc"
   },
   "source": [
    "### Sentiment Analysis\n",
    "\n",
    "This notebook trains a sentiment analysis model to classify movie reviews as *positive* or *negative*, based on the text of the review.\n",
    "\n",
    "You'll use the [Large Movie Review Dataset](https://ai.stanford.edu/~amaas/data/sentiment/) that contains the text of 50,000 movie reviews from the [Internet Movie Database](https://www.imdb.com/)."
   ]
  },
  {
   "cell_type": "markdown",
   "id": "51eedf91-b731-467a-a162-8c469685a952",
   "metadata": {
    "id": "51eedf91-b731-467a-a162-8c469685a952"
   },
   "source": [
    "### Download the IMDB dataset\n",
    "\n",
    "Let's download and extract the dataset, then explore the directory structure.\n"
   ]
  },
  {
   "cell_type": "code",
   "execution_count": 4,
   "id": "2d2faa77-fe1b-46d4-a77d-04a194699423",
   "metadata": {
    "id": "2d2faa77-fe1b-46d4-a77d-04a194699423",
    "tags": []
   },
   "outputs": [],
   "source": [
    "url = \"https://ai.stanford.edu/~amaas/data/sentiment/aclImdb_v1.tar.gz\"\n",
    "\n",
    "path = \"/home/jupyter/\"\n",
    "dataset = keras.utils.get_file(\n",
    "    \"aclImdb_v1.tar.gz\", url, untar=True, cache_dir=path, cache_subdir=\"\"\n",
    ")\n",
    "\n",
    "dataset_dir = os.path.join(os.path.dirname(dataset), \"aclImdb\")\n",
    "\n",
    "train_dir = os.path.join(dataset_dir, \"train\")\n",
    "\n",
    "# remove unused folders to make it easier to load the data\n",
    "remove_dir = os.path.join(train_dir, \"unsup\")\n",
    "shutil.rmtree(remove_dir)"
   ]
  },
  {
   "cell_type": "markdown",
   "id": "c9735ca6-cd37-4e94-aa0c-26e66f262d66",
   "metadata": {
    "id": "c9735ca6-cd37-4e94-aa0c-26e66f262d66"
   },
   "source": [
    "Next, you will use the `text_dataset_from_directory` utility to create a labeled `tf.data.Dataset`.\n",
    "\n",
    "The IMDB dataset has already been divided into train and test, but it lacks a validation set. Let's create a validation set using an 80:20 split of the training data by using the `validation_split` argument below.\n",
    "\n",
    "Note:  When using the `validation_split` and `subset` arguments, make sure to either specify a random seed, or to pass `shuffle=False`, so that the validation and training splits have no overlap."
   ]
  },
  {
   "cell_type": "code",
   "execution_count": 5,
   "id": "45cada35-c136-491d-bbc6-33c522004685",
   "metadata": {
    "colab": {
     "base_uri": "https://localhost:8080/"
    },
    "id": "45cada35-c136-491d-bbc6-33c522004685",
    "outputId": "1c6e3ab8-c6af-4f06-db6d-0f99b8b830e8",
    "tags": []
   },
   "outputs": [
    {
     "name": "stdout",
     "output_type": "stream",
     "text": [
      "Found 25000 files belonging to 2 classes.\n",
      "Using 20000 files for training.\n",
      "Found 25000 files belonging to 2 classes.\n",
      "Using 5000 files for validation.\n",
      "Found 25000 files belonging to 2 classes.\n"
     ]
    }
   ],
   "source": [
    "AUTOTUNE = tf.data.AUTOTUNE\n",
    "batch_size = 32\n",
    "seed = 42\n",
    "\n",
    "raw_train_ds = tf.keras.preprocessing.text_dataset_from_directory(\n",
    "    path + \"aclImdb/train\",\n",
    "    batch_size=batch_size,\n",
    "    validation_split=0.2,\n",
    "    subset=\"training\",\n",
    "    seed=seed,\n",
    ")\n",
    "\n",
    "class_names = raw_train_ds.class_names\n",
    "train_ds = raw_train_ds.cache().prefetch(buffer_size=AUTOTUNE)\n",
    "\n",
    "val_ds = tf.keras.preprocessing.text_dataset_from_directory(\n",
    "    path + \"aclImdb/train\",\n",
    "    batch_size=batch_size,\n",
    "    validation_split=0.2,\n",
    "    subset=\"validation\",\n",
    "    seed=seed,\n",
    ")\n",
    "\n",
    "val_ds = val_ds.cache().prefetch(buffer_size=AUTOTUNE)\n",
    "\n",
    "test_ds = tf.keras.preprocessing.text_dataset_from_directory(\n",
    "    path + \"aclImdb/test\", batch_size=batch_size\n",
    ")\n",
    "\n",
    "test_ds = test_ds.cache().prefetch(buffer_size=AUTOTUNE)"
   ]
  },
  {
   "cell_type": "markdown",
   "id": "9548fc4e-c2eb-4ecf-88e2-67dc696bf58e",
   "metadata": {
    "id": "9548fc4e-c2eb-4ecf-88e2-67dc696bf58e"
   },
   "source": [
    "## Loading models from Keras NLP\n",
    "\n",
    "<!-- For the purpose of this lab, we will be loading a model called Small BERT. Small BERT has the same general architecture as the original BERT but the has fewer and/or smaller Transformer blocks.\n",
    "\n",
    "Some other popular BERT models are BERT Base, ALBERT, BERT Experts, Electra. See the continued learning section at the end of this lab for more info.\n",
    "\n",
    "Aside from the models available below, there are [multiple versions](https://tfhub.dev/google/collections/transformer_encoders_text/1) of the models that are larger and can yeld even better accuracy but they are too big to be fine-tuned on a single GPU. You will be able to do that on the [Solve GLUE tasks using BERT on a TPU colab](https://www.tensorflow.org/tutorials/text/solve_glue_tasks_using_bert_on_tpu).\n",
    "\n",
    "You'll see in the code below that switching the tfhub.dev URL is enough to try any of these models, because all the differences between them are encapsulated in the SavedModels from TF Hub. -->"
   ]
  },
  {
   "cell_type": "markdown",
   "id": "a9d4eec2-8b7b-4ac0-b8ad-8376f291d0fd",
   "metadata": {
    "id": "a9d4eec2-8b7b-4ac0-b8ad-8376f291d0fd",
    "tags": []
   },
   "source": [
    "### Choose a BERT model to fine-tune"
   ]
  },
  {
   "cell_type": "code",
   "execution_count": 7,
   "id": "66c07033-70a7-4a40-9d45-5a8ae914aba8",
   "metadata": {
    "id": "66c07033-70a7-4a40-9d45-5a8ae914aba8",
    "tags": []
   },
   "outputs": [],
   "source": [
    "classifier = keras_nlp.models.BertClassifier.from_preset(\n",
    "    \"bert_tiny_en_uncased_sst2\",\n",
    ")"
   ]
  },
  {
   "cell_type": "code",
   "execution_count": 8,
   "id": "QpEVaq3DA9BB",
   "metadata": {
    "id": "QpEVaq3DA9BB",
    "tags": []
   },
   "outputs": [],
   "source": [
    "# lr_list = []\n",
    "# for lr in range(num_train_steps):\n",
    "#   lr_list.append(scheduler(lr))\n",
    "\n",
    "# import matplotlib.pyplot as plt\n",
    "# plt.plot(lr_list)"
   ]
  },
  {
   "cell_type": "code",
   "execution_count": 9,
   "id": "7c5730a4-a354-404b-8b74-5b041af0cd5a",
   "metadata": {
    "id": "7c5730a4-a354-404b-8b74-5b041af0cd5a",
    "tags": []
   },
   "outputs": [],
   "source": [
    "epochs = 5\n",
    "steps_per_epoch = tf.data.experimental.cardinality(train_ds).numpy()\n",
    "num_train_steps = steps_per_epoch * epochs\n",
    "num_warmup_steps = int(0.1 * num_train_steps)\n",
    "\n",
    "warmup_tgt = 3e-5\n",
    "scheduler = tf.keras.optimizers.schedules.CosineDecay(\n",
    "    0.0,\n",
    "    num_train_steps,\n",
    "    warmup_target=warmup_tgt,\n",
    "    warmup_steps=num_warmup_steps,\n",
    ")\n",
    "\n",
    "optimizer = tf.keras.optimizers.AdamW(learning_rate=scheduler)"
   ]
  },
  {
   "cell_type": "code",
   "execution_count": 12,
   "id": "f34cc4b3-4a58-412e-97d0-4912c942e5ae",
   "metadata": {
    "id": "f34cc4b3-4a58-412e-97d0-4912c942e5ae",
    "tags": []
   },
   "outputs": [],
   "source": [
    "classifier.compile(\n",
    "    optimizer=optimizer,\n",
    "    loss=tf.keras.losses.SparseCategoricalCrossentropy(from_logits=True),\n",
    "    metrics=[tf.metrics.SparseCategoricalAccuracy()],\n",
    ")"
   ]
  },
  {
   "cell_type": "code",
   "execution_count": 14,
   "id": "029e9ecb-db92-4aae-a031-fd6bfa3754c1",
   "metadata": {
    "colab": {
     "base_uri": "https://localhost:8080/"
    },
    "id": "029e9ecb-db92-4aae-a031-fd6bfa3754c1",
    "outputId": "fc2b5f5f-a01d-495c-ed64-bdf634512ef4",
    "tags": []
   },
   "outputs": [
    {
     "name": "stdout",
     "output_type": "stream",
     "text": [
      "Epoch 1/5\n",
      "625/625 [==============================] - 59s 94ms/step - loss: 0.3307 - sparse_categorical_accuracy: 0.8565 - val_loss: 0.3197 - val_sparse_categorical_accuracy: 0.8648\n",
      "Epoch 2/5\n",
      "625/625 [==============================] - 57s 91ms/step - loss: 0.2989 - sparse_categorical_accuracy: 0.8751 - val_loss: 0.3110 - val_sparse_categorical_accuracy: 0.8714\n",
      "Epoch 3/5\n",
      "625/625 [==============================] - 58s 93ms/step - loss: 0.2780 - sparse_categorical_accuracy: 0.8871 - val_loss: 0.3067 - val_sparse_categorical_accuracy: 0.8732\n",
      "Epoch 4/5\n",
      "625/625 [==============================] - 57s 92ms/step - loss: 0.2689 - sparse_categorical_accuracy: 0.8898 - val_loss: 0.3057 - val_sparse_categorical_accuracy: 0.8742\n",
      "Epoch 5/5\n",
      "186/625 [=======>......................] - ETA: 31s - loss: 0.2763 - sparse_categorical_accuracy: 0.8908"
     ]
    },
    {
     "ename": "KeyboardInterrupt",
     "evalue": "",
     "output_type": "error",
     "traceback": [
      "\u001b[0;31m---------------------------------------------------------------------------\u001b[0m",
      "\u001b[0;31mKeyboardInterrupt\u001b[0m                         Traceback (most recent call last)",
      "Cell \u001b[0;32mIn[14], line 9\u001b[0m\n\u001b[1;32m      1\u001b[0m FILE_PATH \u001b[38;5;241m=\u001b[39m \u001b[38;5;124m'\u001b[39m\u001b[38;5;124m./model\u001b[39m\u001b[38;5;124m'\u001b[39m\n\u001b[1;32m      3\u001b[0m checkpoint_cb \u001b[38;5;241m=\u001b[39m keras\u001b[38;5;241m.\u001b[39mcallbacks\u001b[38;5;241m.\u001b[39mModelCheckpoint(\n\u001b[1;32m      4\u001b[0m     FILE_PATH,\n\u001b[1;32m      5\u001b[0m     monitor\u001b[38;5;241m=\u001b[39m\u001b[38;5;124m\"\u001b[39m\u001b[38;5;124mval_loss\u001b[39m\u001b[38;5;124m\"\u001b[39m,\n\u001b[1;32m      6\u001b[0m     save_best_only\u001b[38;5;241m=\u001b[39m\u001b[38;5;28;01mTrue\u001b[39;00m,\n\u001b[1;32m      7\u001b[0m )\n\u001b[0;32m----> 9\u001b[0m history \u001b[38;5;241m=\u001b[39m \u001b[43mclassifier\u001b[49m\u001b[38;5;241;43m.\u001b[39;49m\u001b[43mfit\u001b[49m\u001b[43m(\u001b[49m\n\u001b[1;32m     10\u001b[0m \u001b[43m    \u001b[49m\u001b[43mx\u001b[49m\u001b[38;5;241;43m=\u001b[39;49m\u001b[43mtrain_ds\u001b[49m\u001b[43m,\u001b[49m\n\u001b[1;32m     11\u001b[0m \u001b[43m    \u001b[49m\u001b[43mvalidation_data\u001b[49m\u001b[38;5;241;43m=\u001b[39;49m\u001b[43mval_ds\u001b[49m\u001b[43m,\u001b[49m\n\u001b[1;32m     12\u001b[0m \u001b[43m    \u001b[49m\u001b[43mepochs\u001b[49m\u001b[38;5;241;43m=\u001b[39;49m\u001b[43mepochs\u001b[49m\u001b[43m,\u001b[49m\n\u001b[1;32m     13\u001b[0m \u001b[43m    \u001b[49m\u001b[43mcallbacks\u001b[49m\u001b[38;5;241;43m=\u001b[39;49m\u001b[43m[\u001b[49m\u001b[43mcheckpoint_cb\u001b[49m\u001b[43m]\u001b[49m\n\u001b[1;32m     14\u001b[0m \u001b[43m)\u001b[49m\n",
      "File \u001b[0;32m~/.local/lib/python3.10/site-packages/keras_nlp/src/utils/pipeline_model.py:191\u001b[0m, in \u001b[0;36mPipelineModel.fit\u001b[0;34m(self, x, y, batch_size, sample_weight, validation_data, validation_split, **kwargs)\u001b[0m\n\u001b[1;32m    184\u001b[0m         (vx, vy, vsw) \u001b[38;5;241m=\u001b[39m keras\u001b[38;5;241m.\u001b[39mutils\u001b[38;5;241m.\u001b[39munpack_x_y_sample_weight(\n\u001b[1;32m    185\u001b[0m             validation_data\n\u001b[1;32m    186\u001b[0m         )\n\u001b[1;32m    187\u001b[0m         validation_data \u001b[38;5;241m=\u001b[39m _convert_inputs_to_dataset(\n\u001b[1;32m    188\u001b[0m             vx, vy, vsw, batch_size\n\u001b[1;32m    189\u001b[0m         )\n\u001b[0;32m--> 191\u001b[0m \u001b[38;5;28;01mreturn\u001b[39;00m \u001b[38;5;28;43msuper\u001b[39;49m\u001b[43m(\u001b[49m\u001b[43m)\u001b[49m\u001b[38;5;241;43m.\u001b[39;49m\u001b[43mfit\u001b[49m\u001b[43m(\u001b[49m\n\u001b[1;32m    192\u001b[0m \u001b[43m    \u001b[49m\u001b[43mx\u001b[49m\u001b[38;5;241;43m=\u001b[39;49m\u001b[43mx\u001b[49m\u001b[43m,\u001b[49m\n\u001b[1;32m    193\u001b[0m \u001b[43m    \u001b[49m\u001b[43my\u001b[49m\u001b[38;5;241;43m=\u001b[39;49m\u001b[38;5;28;43;01mNone\u001b[39;49;00m\u001b[43m,\u001b[49m\n\u001b[1;32m    194\u001b[0m \u001b[43m    \u001b[49m\u001b[43mbatch_size\u001b[49m\u001b[38;5;241;43m=\u001b[39;49m\u001b[38;5;28;43;01mNone\u001b[39;49;00m\u001b[43m,\u001b[49m\n\u001b[1;32m    195\u001b[0m \u001b[43m    \u001b[49m\u001b[43msample_weight\u001b[49m\u001b[38;5;241;43m=\u001b[39;49m\u001b[38;5;28;43;01mNone\u001b[39;49;00m\u001b[43m,\u001b[49m\n\u001b[1;32m    196\u001b[0m \u001b[43m    \u001b[49m\u001b[43mvalidation_data\u001b[49m\u001b[38;5;241;43m=\u001b[39;49m\u001b[43mvalidation_data\u001b[49m\u001b[43m,\u001b[49m\n\u001b[1;32m    197\u001b[0m \u001b[43m    \u001b[49m\u001b[38;5;241;43m*\u001b[39;49m\u001b[38;5;241;43m*\u001b[39;49m\u001b[43mkwargs\u001b[49m\u001b[43m,\u001b[49m\n\u001b[1;32m    198\u001b[0m \u001b[43m\u001b[49m\u001b[43m)\u001b[49m\n",
      "File \u001b[0;32m/opt/conda/lib/python3.10/site-packages/keras/src/utils/traceback_utils.py:65\u001b[0m, in \u001b[0;36mfilter_traceback.<locals>.error_handler\u001b[0;34m(*args, **kwargs)\u001b[0m\n\u001b[1;32m     63\u001b[0m filtered_tb \u001b[38;5;241m=\u001b[39m \u001b[38;5;28;01mNone\u001b[39;00m\n\u001b[1;32m     64\u001b[0m \u001b[38;5;28;01mtry\u001b[39;00m:\n\u001b[0;32m---> 65\u001b[0m     \u001b[38;5;28;01mreturn\u001b[39;00m \u001b[43mfn\u001b[49m\u001b[43m(\u001b[49m\u001b[38;5;241;43m*\u001b[39;49m\u001b[43margs\u001b[49m\u001b[43m,\u001b[49m\u001b[43m \u001b[49m\u001b[38;5;241;43m*\u001b[39;49m\u001b[38;5;241;43m*\u001b[39;49m\u001b[43mkwargs\u001b[49m\u001b[43m)\u001b[49m\n\u001b[1;32m     66\u001b[0m \u001b[38;5;28;01mexcept\u001b[39;00m \u001b[38;5;167;01mException\u001b[39;00m \u001b[38;5;28;01mas\u001b[39;00m e:\n\u001b[1;32m     67\u001b[0m     filtered_tb \u001b[38;5;241m=\u001b[39m _process_traceback_frames(e\u001b[38;5;241m.\u001b[39m__traceback__)\n",
      "File \u001b[0;32m/opt/conda/lib/python3.10/site-packages/keras/src/engine/training.py:1789\u001b[0m, in \u001b[0;36mModel.fit\u001b[0;34m(self, x, y, batch_size, epochs, verbose, callbacks, validation_split, validation_data, shuffle, class_weight, sample_weight, initial_epoch, steps_per_epoch, validation_steps, validation_batch_size, validation_freq, max_queue_size, workers, use_multiprocessing)\u001b[0m\n\u001b[1;32m   1787\u001b[0m logs \u001b[38;5;241m=\u001b[39m tmp_logs\n\u001b[1;32m   1788\u001b[0m end_step \u001b[38;5;241m=\u001b[39m step \u001b[38;5;241m+\u001b[39m data_handler\u001b[38;5;241m.\u001b[39mstep_increment\n\u001b[0;32m-> 1789\u001b[0m \u001b[43mcallbacks\u001b[49m\u001b[38;5;241;43m.\u001b[39;49m\u001b[43mon_train_batch_end\u001b[49m\u001b[43m(\u001b[49m\u001b[43mend_step\u001b[49m\u001b[43m,\u001b[49m\u001b[43m \u001b[49m\u001b[43mlogs\u001b[49m\u001b[43m)\u001b[49m\n\u001b[1;32m   1790\u001b[0m \u001b[38;5;28;01mif\u001b[39;00m \u001b[38;5;28mself\u001b[39m\u001b[38;5;241m.\u001b[39mstop_training:\n\u001b[1;32m   1791\u001b[0m     \u001b[38;5;28;01mbreak\u001b[39;00m\n",
      "File \u001b[0;32m/opt/conda/lib/python3.10/site-packages/keras/src/callbacks.py:475\u001b[0m, in \u001b[0;36mCallbackList.on_train_batch_end\u001b[0;34m(self, batch, logs)\u001b[0m\n\u001b[1;32m    468\u001b[0m \u001b[38;5;250m\u001b[39m\u001b[38;5;124;03m\"\"\"Calls the `on_train_batch_end` methods of its callbacks.\u001b[39;00m\n\u001b[1;32m    469\u001b[0m \n\u001b[1;32m    470\u001b[0m \u001b[38;5;124;03mArgs:\u001b[39;00m\n\u001b[1;32m    471\u001b[0m \u001b[38;5;124;03m    batch: Integer, index of batch within the current epoch.\u001b[39;00m\n\u001b[1;32m    472\u001b[0m \u001b[38;5;124;03m    logs: Dict. Aggregated metric results up until this batch.\u001b[39;00m\n\u001b[1;32m    473\u001b[0m \u001b[38;5;124;03m\"\"\"\u001b[39;00m\n\u001b[1;32m    474\u001b[0m \u001b[38;5;28;01mif\u001b[39;00m \u001b[38;5;28mself\u001b[39m\u001b[38;5;241m.\u001b[39m_should_call_train_batch_hooks:\n\u001b[0;32m--> 475\u001b[0m     \u001b[38;5;28;43mself\u001b[39;49m\u001b[38;5;241;43m.\u001b[39;49m\u001b[43m_call_batch_hook\u001b[49m\u001b[43m(\u001b[49m\u001b[43mModeKeys\u001b[49m\u001b[38;5;241;43m.\u001b[39;49m\u001b[43mTRAIN\u001b[49m\u001b[43m,\u001b[49m\u001b[43m \u001b[49m\u001b[38;5;124;43m\"\u001b[39;49m\u001b[38;5;124;43mend\u001b[39;49m\u001b[38;5;124;43m\"\u001b[39;49m\u001b[43m,\u001b[49m\u001b[43m \u001b[49m\u001b[43mbatch\u001b[49m\u001b[43m,\u001b[49m\u001b[43m \u001b[49m\u001b[43mlogs\u001b[49m\u001b[38;5;241;43m=\u001b[39;49m\u001b[43mlogs\u001b[49m\u001b[43m)\u001b[49m\n",
      "File \u001b[0;32m/opt/conda/lib/python3.10/site-packages/keras/src/callbacks.py:322\u001b[0m, in \u001b[0;36mCallbackList._call_batch_hook\u001b[0;34m(self, mode, hook, batch, logs)\u001b[0m\n\u001b[1;32m    320\u001b[0m     \u001b[38;5;28mself\u001b[39m\u001b[38;5;241m.\u001b[39m_call_batch_begin_hook(mode, batch, logs)\n\u001b[1;32m    321\u001b[0m \u001b[38;5;28;01melif\u001b[39;00m hook \u001b[38;5;241m==\u001b[39m \u001b[38;5;124m\"\u001b[39m\u001b[38;5;124mend\u001b[39m\u001b[38;5;124m\"\u001b[39m:\n\u001b[0;32m--> 322\u001b[0m     \u001b[38;5;28;43mself\u001b[39;49m\u001b[38;5;241;43m.\u001b[39;49m\u001b[43m_call_batch_end_hook\u001b[49m\u001b[43m(\u001b[49m\u001b[43mmode\u001b[49m\u001b[43m,\u001b[49m\u001b[43m \u001b[49m\u001b[43mbatch\u001b[49m\u001b[43m,\u001b[49m\u001b[43m \u001b[49m\u001b[43mlogs\u001b[49m\u001b[43m)\u001b[49m\n\u001b[1;32m    323\u001b[0m \u001b[38;5;28;01melse\u001b[39;00m:\n\u001b[1;32m    324\u001b[0m     \u001b[38;5;28;01mraise\u001b[39;00m \u001b[38;5;167;01mValueError\u001b[39;00m(\n\u001b[1;32m    325\u001b[0m         \u001b[38;5;124mf\u001b[39m\u001b[38;5;124m\"\u001b[39m\u001b[38;5;124mUnrecognized hook: \u001b[39m\u001b[38;5;132;01m{\u001b[39;00mhook\u001b[38;5;132;01m}\u001b[39;00m\u001b[38;5;124m. \u001b[39m\u001b[38;5;124m\"\u001b[39m\n\u001b[1;32m    326\u001b[0m         \u001b[38;5;124m'\u001b[39m\u001b[38;5;124mExpected values are [\u001b[39m\u001b[38;5;124m\"\u001b[39m\u001b[38;5;124mbegin\u001b[39m\u001b[38;5;124m\"\u001b[39m\u001b[38;5;124m, \u001b[39m\u001b[38;5;124m\"\u001b[39m\u001b[38;5;124mend\u001b[39m\u001b[38;5;124m\"\u001b[39m\u001b[38;5;124m]\u001b[39m\u001b[38;5;124m'\u001b[39m\n\u001b[1;32m    327\u001b[0m     )\n",
      "File \u001b[0;32m/opt/conda/lib/python3.10/site-packages/keras/src/callbacks.py:345\u001b[0m, in \u001b[0;36mCallbackList._call_batch_end_hook\u001b[0;34m(self, mode, batch, logs)\u001b[0m\n\u001b[1;32m    342\u001b[0m     batch_time \u001b[38;5;241m=\u001b[39m time\u001b[38;5;241m.\u001b[39mtime() \u001b[38;5;241m-\u001b[39m \u001b[38;5;28mself\u001b[39m\u001b[38;5;241m.\u001b[39m_batch_start_time\n\u001b[1;32m    343\u001b[0m     \u001b[38;5;28mself\u001b[39m\u001b[38;5;241m.\u001b[39m_batch_times\u001b[38;5;241m.\u001b[39mappend(batch_time)\n\u001b[0;32m--> 345\u001b[0m \u001b[38;5;28;43mself\u001b[39;49m\u001b[38;5;241;43m.\u001b[39;49m\u001b[43m_call_batch_hook_helper\u001b[49m\u001b[43m(\u001b[49m\u001b[43mhook_name\u001b[49m\u001b[43m,\u001b[49m\u001b[43m \u001b[49m\u001b[43mbatch\u001b[49m\u001b[43m,\u001b[49m\u001b[43m \u001b[49m\u001b[43mlogs\u001b[49m\u001b[43m)\u001b[49m\n\u001b[1;32m    347\u001b[0m \u001b[38;5;28;01mif\u001b[39;00m \u001b[38;5;28mlen\u001b[39m(\u001b[38;5;28mself\u001b[39m\u001b[38;5;241m.\u001b[39m_batch_times) \u001b[38;5;241m>\u001b[39m\u001b[38;5;241m=\u001b[39m \u001b[38;5;28mself\u001b[39m\u001b[38;5;241m.\u001b[39m_num_batches_for_timing_check:\n\u001b[1;32m    348\u001b[0m     end_hook_name \u001b[38;5;241m=\u001b[39m hook_name\n",
      "File \u001b[0;32m/opt/conda/lib/python3.10/site-packages/keras/src/callbacks.py:393\u001b[0m, in \u001b[0;36mCallbackList._call_batch_hook_helper\u001b[0;34m(self, hook_name, batch, logs)\u001b[0m\n\u001b[1;32m    391\u001b[0m \u001b[38;5;28;01mfor\u001b[39;00m callback \u001b[38;5;129;01min\u001b[39;00m \u001b[38;5;28mself\u001b[39m\u001b[38;5;241m.\u001b[39mcallbacks:\n\u001b[1;32m    392\u001b[0m     hook \u001b[38;5;241m=\u001b[39m \u001b[38;5;28mgetattr\u001b[39m(callback, hook_name)\n\u001b[0;32m--> 393\u001b[0m     \u001b[43mhook\u001b[49m\u001b[43m(\u001b[49m\u001b[43mbatch\u001b[49m\u001b[43m,\u001b[49m\u001b[43m \u001b[49m\u001b[43mlogs\u001b[49m\u001b[43m)\u001b[49m\n\u001b[1;32m    395\u001b[0m \u001b[38;5;28;01mif\u001b[39;00m \u001b[38;5;28mself\u001b[39m\u001b[38;5;241m.\u001b[39m_check_timing:\n\u001b[1;32m    396\u001b[0m     \u001b[38;5;28;01mif\u001b[39;00m hook_name \u001b[38;5;129;01mnot\u001b[39;00m \u001b[38;5;129;01min\u001b[39;00m \u001b[38;5;28mself\u001b[39m\u001b[38;5;241m.\u001b[39m_hook_times:\n",
      "File \u001b[0;32m/opt/conda/lib/python3.10/site-packages/keras/src/callbacks.py:1093\u001b[0m, in \u001b[0;36mProgbarLogger.on_train_batch_end\u001b[0;34m(self, batch, logs)\u001b[0m\n\u001b[1;32m   1092\u001b[0m \u001b[38;5;28;01mdef\u001b[39;00m \u001b[38;5;21mon_train_batch_end\u001b[39m(\u001b[38;5;28mself\u001b[39m, batch, logs\u001b[38;5;241m=\u001b[39m\u001b[38;5;28;01mNone\u001b[39;00m):\n\u001b[0;32m-> 1093\u001b[0m     \u001b[38;5;28;43mself\u001b[39;49m\u001b[38;5;241;43m.\u001b[39;49m\u001b[43m_batch_update_progbar\u001b[49m\u001b[43m(\u001b[49m\u001b[43mbatch\u001b[49m\u001b[43m,\u001b[49m\u001b[43m \u001b[49m\u001b[43mlogs\u001b[49m\u001b[43m)\u001b[49m\n",
      "File \u001b[0;32m/opt/conda/lib/python3.10/site-packages/keras/src/callbacks.py:1155\u001b[0m, in \u001b[0;36mProgbarLogger._batch_update_progbar\u001b[0;34m(self, batch, logs)\u001b[0m\n\u001b[1;32m   1153\u001b[0m \u001b[38;5;250m\u001b[39m\u001b[38;5;124;03m\"\"\"Updates the progbar.\"\"\"\u001b[39;00m\n\u001b[1;32m   1154\u001b[0m logs \u001b[38;5;241m=\u001b[39m logs \u001b[38;5;129;01mor\u001b[39;00m {}\n\u001b[0;32m-> 1155\u001b[0m \u001b[38;5;28;43mself\u001b[39;49m\u001b[38;5;241;43m.\u001b[39;49m\u001b[43m_maybe_init_progbar\u001b[49m\u001b[43m(\u001b[49m\u001b[43m)\u001b[49m\n\u001b[1;32m   1156\u001b[0m \u001b[38;5;28;01mif\u001b[39;00m \u001b[38;5;28mself\u001b[39m\u001b[38;5;241m.\u001b[39muse_steps:\n\u001b[1;32m   1157\u001b[0m     \u001b[38;5;28mself\u001b[39m\u001b[38;5;241m.\u001b[39mseen \u001b[38;5;241m=\u001b[39m batch \u001b[38;5;241m+\u001b[39m \u001b[38;5;241m1\u001b[39m  \u001b[38;5;66;03m# One-indexed.\u001b[39;00m\n",
      "File \u001b[0;32m/opt/conda/lib/python3.10/site-packages/keras/src/callbacks.py:1130\u001b[0m, in \u001b[0;36mProgbarLogger._maybe_init_progbar\u001b[0;34m(self)\u001b[0m\n\u001b[1;32m   1123\u001b[0m \u001b[38;5;28mself\u001b[39m\u001b[38;5;241m.\u001b[39mstateful_metrics \u001b[38;5;241m=\u001b[39m \u001b[38;5;28mset\u001b[39m(\u001b[38;5;28mself\u001b[39m\u001b[38;5;241m.\u001b[39mstateful_metrics)\n\u001b[1;32m   1125\u001b[0m \u001b[38;5;28;01mif\u001b[39;00m \u001b[38;5;28mself\u001b[39m\u001b[38;5;241m.\u001b[39mmodel:\n\u001b[1;32m   1126\u001b[0m     \u001b[38;5;66;03m# Update the existing stateful metrics as `self.model.metrics` may\u001b[39;00m\n\u001b[1;32m   1127\u001b[0m     \u001b[38;5;66;03m# contain updated metrics after `MetricsContainer` is built in the\u001b[39;00m\n\u001b[1;32m   1128\u001b[0m     \u001b[38;5;66;03m# first train step.\u001b[39;00m\n\u001b[1;32m   1129\u001b[0m     \u001b[38;5;28mself\u001b[39m\u001b[38;5;241m.\u001b[39mstateful_metrics \u001b[38;5;241m=\u001b[39m \u001b[38;5;28mself\u001b[39m\u001b[38;5;241m.\u001b[39mstateful_metrics\u001b[38;5;241m.\u001b[39munion(\n\u001b[0;32m-> 1130\u001b[0m         \u001b[38;5;28mset\u001b[39m(m\u001b[38;5;241m.\u001b[39mname \u001b[38;5;28;01mfor\u001b[39;00m m \u001b[38;5;129;01min\u001b[39;00m \u001b[38;5;28;43mself\u001b[39;49m\u001b[38;5;241;43m.\u001b[39;49m\u001b[43mmodel\u001b[49m\u001b[38;5;241;43m.\u001b[39;49m\u001b[43mmetrics\u001b[49m)\n\u001b[1;32m   1131\u001b[0m     )\n\u001b[1;32m   1133\u001b[0m \u001b[38;5;28;01mif\u001b[39;00m \u001b[38;5;28mself\u001b[39m\u001b[38;5;241m.\u001b[39mprogbar \u001b[38;5;129;01mis\u001b[39;00m \u001b[38;5;28;01mNone\u001b[39;00m:\n\u001b[1;32m   1134\u001b[0m     \u001b[38;5;28mself\u001b[39m\u001b[38;5;241m.\u001b[39mprogbar \u001b[38;5;241m=\u001b[39m Progbar(\n\u001b[1;32m   1135\u001b[0m         target\u001b[38;5;241m=\u001b[39m\u001b[38;5;28mself\u001b[39m\u001b[38;5;241m.\u001b[39mtarget,\n\u001b[1;32m   1136\u001b[0m         verbose\u001b[38;5;241m=\u001b[39m\u001b[38;5;28mself\u001b[39m\u001b[38;5;241m.\u001b[39mverbose,\n\u001b[1;32m   1137\u001b[0m         stateful_metrics\u001b[38;5;241m=\u001b[39m\u001b[38;5;28mself\u001b[39m\u001b[38;5;241m.\u001b[39mstateful_metrics,\n\u001b[1;32m   1138\u001b[0m         unit_name\u001b[38;5;241m=\u001b[39m\u001b[38;5;124m\"\u001b[39m\u001b[38;5;124mstep\u001b[39m\u001b[38;5;124m\"\u001b[39m \u001b[38;5;28;01mif\u001b[39;00m \u001b[38;5;28mself\u001b[39m\u001b[38;5;241m.\u001b[39muse_steps \u001b[38;5;28;01melse\u001b[39;00m \u001b[38;5;124m\"\u001b[39m\u001b[38;5;124msample\u001b[39m\u001b[38;5;124m\"\u001b[39m,\n\u001b[1;32m   1139\u001b[0m     )\n",
      "File \u001b[0;32m/opt/conda/lib/python3.10/site-packages/keras/src/engine/training.py:916\u001b[0m, in \u001b[0;36mModel.metrics\u001b[0;34m(self)\u001b[0m\n\u001b[1;32m    913\u001b[0m     \u001b[38;5;28;01mif\u001b[39;00m \u001b[38;5;28mself\u001b[39m\u001b[38;5;241m.\u001b[39mcompiled_metrics \u001b[38;5;129;01mis\u001b[39;00m \u001b[38;5;129;01mnot\u001b[39;00m \u001b[38;5;28;01mNone\u001b[39;00m:\n\u001b[1;32m    914\u001b[0m         metrics \u001b[38;5;241m+\u001b[39m\u001b[38;5;241m=\u001b[39m \u001b[38;5;28mself\u001b[39m\u001b[38;5;241m.\u001b[39mcompiled_metrics\u001b[38;5;241m.\u001b[39mmetrics\n\u001b[0;32m--> 916\u001b[0m \u001b[38;5;28;01mfor\u001b[39;00m l \u001b[38;5;129;01min\u001b[39;00m \u001b[38;5;28mself\u001b[39m\u001b[38;5;241m.\u001b[39m_flatten_layers():\n\u001b[1;32m    917\u001b[0m     metrics\u001b[38;5;241m.\u001b[39mextend(l\u001b[38;5;241m.\u001b[39m_metrics)\n\u001b[1;32m    918\u001b[0m \u001b[38;5;28;01mreturn\u001b[39;00m metrics\n",
      "File \u001b[0;32m/opt/conda/lib/python3.10/site-packages/keras/src/engine/base_layer.py:3306\u001b[0m, in \u001b[0;36mLayer._flatten_layers\u001b[0;34m(self, recursive, include_self)\u001b[0m\n\u001b[1;32m   3305\u001b[0m \u001b[38;5;28;01mdef\u001b[39;00m \u001b[38;5;21m_flatten_layers\u001b[39m(\u001b[38;5;28mself\u001b[39m, recursive\u001b[38;5;241m=\u001b[39m\u001b[38;5;28;01mTrue\u001b[39;00m, include_self\u001b[38;5;241m=\u001b[39m\u001b[38;5;28;01mTrue\u001b[39;00m):\n\u001b[0;32m-> 3306\u001b[0m     \u001b[38;5;28;01mfor\u001b[39;00m m \u001b[38;5;129;01min\u001b[39;00m \u001b[38;5;28mself\u001b[39m\u001b[38;5;241m.\u001b[39m_flatten_modules(\n\u001b[1;32m   3307\u001b[0m         recursive\u001b[38;5;241m=\u001b[39mrecursive, include_self\u001b[38;5;241m=\u001b[39minclude_self\n\u001b[1;32m   3308\u001b[0m     ):\n\u001b[1;32m   3309\u001b[0m         \u001b[38;5;28;01mif\u001b[39;00m \u001b[38;5;28misinstance\u001b[39m(m, Layer):\n\u001b[1;32m   3310\u001b[0m             \u001b[38;5;28;01myield\u001b[39;00m m\n",
      "File \u001b[0;32m/opt/conda/lib/python3.10/site-packages/keras/src/engine/base_layer.py:3357\u001b[0m, in \u001b[0;36mLayer._flatten_modules\u001b[0;34m(self, recursive, include_self)\u001b[0m\n\u001b[1;32m   3355\u001b[0m tracked_values \u001b[38;5;241m=\u001b[39m trackable_obj\u001b[38;5;241m.\u001b[39m_values\n\u001b[1;32m   3356\u001b[0m \u001b[38;5;28;01mif\u001b[39;00m tracked_values:\n\u001b[0;32m-> 3357\u001b[0m     \u001b[43mdeque\u001b[49m\u001b[38;5;241;43m.\u001b[39;49m\u001b[43mextendleft\u001b[49m\u001b[43m(\u001b[49m\u001b[38;5;28;43mreversed\u001b[39;49m\u001b[43m(\u001b[49m\u001b[43mtracked_values\u001b[49m\u001b[43m)\u001b[49m\u001b[43m)\u001b[49m\n",
      "File \u001b[0;32m/opt/conda/lib/python3.10/_collections_abc.py:1057\u001b[0m, in \u001b[0;36mSequence.__reversed__\u001b[0;34m(self)\u001b[0m\n\u001b[1;32m   1055\u001b[0m \u001b[38;5;28;01mdef\u001b[39;00m \u001b[38;5;21m__reversed__\u001b[39m(\u001b[38;5;28mself\u001b[39m):\n\u001b[1;32m   1056\u001b[0m     \u001b[38;5;28;01mfor\u001b[39;00m i \u001b[38;5;129;01min\u001b[39;00m \u001b[38;5;28mreversed\u001b[39m(\u001b[38;5;28mrange\u001b[39m(\u001b[38;5;28mlen\u001b[39m(\u001b[38;5;28mself\u001b[39m))):\n\u001b[0;32m-> 1057\u001b[0m         \u001b[38;5;28;01myield\u001b[39;00m \u001b[38;5;28mself\u001b[39m[i]\n",
      "\u001b[0;31mKeyboardInterrupt\u001b[0m: "
     ]
    }
   ],
   "source": [
    "FILE_PATH = \"./model\"\n",
    "\n",
    "checkpoint_cb = keras.callbacks.ModelCheckpoint(\n",
    "    FILE_PATH,\n",
    "    monitor=\"val_loss\",\n",
    "    save_best_only=True,\n",
    ")\n",
    "\n",
    "history = classifier.fit(\n",
    "    x=train_ds, validation_data=val_ds, epochs=epochs, callbacks=[checkpoint_cb]\n",
    ")"
   ]
  },
  {
   "cell_type": "markdown",
   "id": "f2b60386-e94d-4af8-b0b9-28951f3c117a",
   "metadata": {
    "id": "f2b60386-e94d-4af8-b0b9-28951f3c117a"
   },
   "source": [
    "### Evaluate the model\n",
    "\n",
    "Let's see how the model performs. Two values will be returned. Loss (a number which represents the error, lower values are better), and accuracy."
   ]
  },
  {
   "cell_type": "markdown",
   "id": "d5b92e8a-fd0e-40de-a1e1-a91de3c0b256",
   "metadata": {
    "id": "d5b92e8a-fd0e-40de-a1e1-a91de3c0b256"
   },
   "source": [
    "---"
   ]
  },
  {
   "cell_type": "code",
   "execution_count": 15,
   "id": "ef184585-2c87-4e95-a8a4-bd116bacc0f9",
   "metadata": {
    "id": "ef184585-2c87-4e95-a8a4-bd116bacc0f9",
    "tags": []
   },
   "outputs": [],
   "source": [
    "data_lit = list(test_ds.as_numpy_iterator())\n",
    "texts = [str(text) for feat, label in data_lit for text in feat]\n",
    "labels = [l for feat, label in data_lit for l in label]"
   ]
  },
  {
   "cell_type": "code",
   "execution_count": 16,
   "id": "15ebbe24-2bfe-4af5-92ea-966bd992989b",
   "metadata": {
    "id": "15ebbe24-2bfe-4af5-92ea-966bd992989b",
    "tags": []
   },
   "outputs": [],
   "source": [
    "tokens = classifier.preprocessor(tf.constant(texts[:10]))"
   ]
  },
  {
   "cell_type": "code",
   "execution_count": 17,
   "id": "6dbabb73-bb43-4e87-859b-fcab394769ee",
   "metadata": {
    "colab": {
     "base_uri": "https://localhost:8080/"
    },
    "id": "6dbabb73-bb43-4e87-859b-fcab394769ee",
    "outputId": "c36b9ac7-a100-4c68-d26d-bbe7d1b28789",
    "tags": []
   },
   "outputs": [
    {
     "data": {
      "text/plain": [
       "<tf.Tensor: shape=(10, 2), dtype=float32, numpy=\n",
       "array([[ 0.05474552,  0.09981719],\n",
       "       [ 1.1187145 , -0.93436146],\n",
       "       [-0.9356294 ,  1.150601  ],\n",
       "       [-2.43739   ,  2.4924176 ],\n",
       "       [-2.4258258 ,  2.4863887 ],\n",
       "       [ 1.8837053 , -1.8255686 ],\n",
       "       [ 1.5264493 , -1.3744107 ],\n",
       "       [ 2.196868  , -2.0844924 ],\n",
       "       [-2.532663  ,  2.5975273 ],\n",
       "       [-0.6068179 ,  0.781207  ]], dtype=float32)>"
      ]
     },
     "execution_count": 17,
     "metadata": {},
     "output_type": "execute_result"
    }
   ],
   "source": [
    "classifier(tokens)"
   ]
  },
  {
   "cell_type": "markdown",
   "id": "0960b150-272c-4de9-972c-57356d918a1f",
   "metadata": {
    "id": "0960b150-272c-4de9-972c-57356d918a1f"
   },
   "source": [
    "# LIT"
   ]
  },
  {
   "cell_type": "code",
   "execution_count": 18,
   "id": "f4590dcb-6eee-4b1b-97d5-5235d9188bec",
   "metadata": {
    "id": "f4590dcb-6eee-4b1b-97d5-5235d9188bec",
    "tags": []
   },
   "outputs": [],
   "source": [
    "from lit_nlp import notebook\n",
    "from lit_nlp.api import dataset as lit_dataset\n",
    "from lit_nlp.api import model as lit_model\n",
    "from lit_nlp.api import types as lit_types"
   ]
  },
  {
   "cell_type": "code",
   "execution_count": 115,
   "id": "17ea1c05-723f-4c7b-becb-f813a6d565bc",
   "metadata": {
    "id": "17ea1c05-723f-4c7b-becb-f813a6d565bc",
    "tags": []
   },
   "outputs": [],
   "source": [
    "DATA_NUM = 100\n",
    "\n",
    "\n",
    "class LITSentimentData(lit_dataset.Dataset):\n",
    "\n",
    "    def __init__(self, dataset):\n",
    "        data_lit = list(dataset.as_numpy_iterator())\n",
    "        texts = [text.decode() for feat, label in data_lit for text in feat]\n",
    "        labels = [l for feat, label in data_lit for l in label]\n",
    "        # Store as a list of dicts, conforming to self.spec()\n",
    "        self._examples = [\n",
    "            {\n",
    "                \"text\": text,\n",
    "                \"label\": \"positive\" if label else \"negative\",\n",
    "            }\n",
    "            for text, label in zip(texts[:DATA_NUM], labels[:DATA_NUM])\n",
    "        ]\n",
    "\n",
    "    def spec(self):\n",
    "        return {\n",
    "            \"text\": lit_types.TextSegment(),\n",
    "            \"label\": lit_types.CategoryLabel(vocab=[\"positive\", \"negative\"]),\n",
    "        }"
   ]
  },
  {
   "cell_type": "code",
   "execution_count": 116,
   "id": "9db7866b-43b9-4bb6-b6e1-3b7e07d15911",
   "metadata": {
    "id": "9db7866b-43b9-4bb6-b6e1-3b7e07d15911",
    "tags": []
   },
   "outputs": [],
   "source": [
    "class LITBertModel(lit_model.Model):\n",
    "\n",
    "    def __init__(self, model):\n",
    "        # Load the model into memory so we're ready for interactive use.\n",
    "        self._model = model\n",
    "\n",
    "    # LIT API implementations\n",
    "    def predict(self, inputs):\n",
    "        \"\"\"Predict on a stream of examples.\"\"\"\n",
    "        examples = [d[\"text\"] for d in inputs]\n",
    "        tokens = self._model.preprocessor(examples)\n",
    "        logits = self._model(tokens)\n",
    "        probs = tf.keras.activations.sigmoid(logits)\n",
    "        return [{\"prob\": [prob.numpy()[1], prob.numpy()[0]]} for prob in probs]\n",
    "\n",
    "    def input_spec(self):\n",
    "        \"\"\"Describe the inputs to the model.\"\"\"\n",
    "        return {\n",
    "            \"text\": lit_types.TextSegment(),\n",
    "            \"label\": lit_types.CategoryLabel(\n",
    "                required=False, vocab=[\"positive\", \"negative\"]\n",
    "            ),\n",
    "        }\n",
    "\n",
    "    def output_spec(self):\n",
    "        \"\"\"Describe the model outputs.\"\"\"\n",
    "        return {\n",
    "            # The 'parent' keyword tells LIT where to look for gold labels when computing metrics.\n",
    "            \"prob\": lit_types.MulticlassPreds(\n",
    "                vocab=[\"positive\", \"negative\"], parent=\"label\"\n",
    "            ),\n",
    "        }"
   ]
  },
  {
   "cell_type": "code",
   "execution_count": 117,
   "id": "9a9bd33b-2740-453e-843f-0a6eadaee0e6",
   "metadata": {
    "colab": {
     "base_uri": "https://localhost:8080/"
    },
    "id": "9a9bd33b-2740-453e-843f-0a6eadaee0e6",
    "outputId": "6996d79a-ae5f-4a6a-bee0-bf17a57d1a5c",
    "tags": []
   },
   "outputs": [
    {
     "name": "stderr",
     "output_type": "stream",
     "text": [
      "WARNING:absl:Unable to infer init spec for model 'LITBertModel'. Unable to infer a type for parameter 'model' of '__init__'. Please add a type hint or default value, or implement a Spec literal.\n",
      "WARNING:absl:Unable to infer init spec for dataset 'LITSentimentData'. Unable to infer a type for parameter 'dataset' of '__init__'. Please add a type hint or default value, or implement a Spec literal.\n",
      "WARNING:absl:Unable to infer init spec for dataset 'NoneDataset'. Unable to infer a type for parameter 'models' of '__init__'. Please add a type hint or default value, or implement a Spec literal.\n",
      "::1 - - [05/Sep/2024 12:53:07] \"POST /get_info HTTP/1.1\" 200 24099\n",
      "::1 - - [05/Sep/2024 12:53:07] \"POST /get_dataset?dataset_name=acllmdb HTTP/1.1\" 200 154508\n",
      "::1 - - [05/Sep/2024 12:53:08] \"POST /get_interpretations?model=BERT%20classifier&dataset_name=acllmdb&interpreter=classification&do_predict=1 HTTP/1.1\" 200 17456\n",
      "::1 - - [05/Sep/2024 12:53:08] \"POST /get_metrics?model=BERT%20classifier&dataset_name=acllmdb&metrics=multiclass,paired&do_predict=1 HTTP/1.1\" 200 162\n",
      "::1 - - [05/Sep/2024 12:53:08] \"POST /push_ui_state?dataset_name=acllmdb HTTP/1.1\" 200 4\n",
      "::1 - - [05/Sep/2024 12:53:09] \"POST /push_ui_state?dataset_name=acllmdb HTTP/1.1\" 200 4\n",
      "::1 - - [05/Sep/2024 12:53:10] \"POST /push_ui_state?dataset_name=acllmdb HTTP/1.1\" 200 4\n"
     ]
    }
   ],
   "source": [
    "# Create the LIT widget with the model and dataset to analyze.\n",
    "datasets = {\"acllmdb\": LITSentimentData(test_ds)}\n",
    "models = {\"BERT classifier\": LITBertModel(classifier)}\n",
    "\n",
    "widget = notebook.LitWidget(models, datasets, port=8890)"
   ]
  },
  {
   "cell_type": "code",
   "execution_count": 118,
   "id": "a423cb4d-87e5-4dd2-8bba-1c45dff1c221",
   "metadata": {
    "colab": {
     "base_uri": "https://localhost:8080/",
     "height": 621
    },
    "id": "a423cb4d-87e5-4dd2-8bba-1c45dff1c221",
    "outputId": "7fea223f-cabe-43dc-e2f5-39138d9f7c4f",
    "tags": []
   },
   "outputs": [
    {
     "data": {
      "text/html": [
       "\n",
       "      <style>div.output_scroll { height: 610px; }</style>\n",
       "      <iframe id='lit-frame-80bebcc29bb17bbd' width='100%' height='600' frameborder='0'>\n",
       "      </iframe>\n",
       "      <script>\n",
       "        (function() {\n",
       "          const frame = document.getElementById(\"lit-frame-80bebcc29bb17bbd\");\n",
       "          const urlStr = \"/proxy/8890/\" + '?'\n",
       "          const url = new URL(urlStr, window.location);\n",
       "          const port = 0;\n",
       "          if (port) {\n",
       "            url.port = port;\n",
       "          }\n",
       "          frame.src = url;\n",
       "        })();\n",
       "      </script>\n",
       "    "
      ],
      "text/plain": [
       "<IPython.core.display.HTML object>"
      ]
     },
     "metadata": {},
     "output_type": "display_data"
    }
   ],
   "source": [
    "# Render the widget\n",
    "widget.render(height=600)"
   ]
  },
  {
   "cell_type": "markdown",
   "id": "e00957a5-f0fb-47dd-bc02-9099a942870a",
   "metadata": {
    "id": "e00957a5-f0fb-47dd-bc02-9099a942870a"
   },
   "source": [
    "---"
   ]
  },
  {
   "cell_type": "code",
   "execution_count": 225,
   "id": "f37c79ca-23fd-4fe7-8cbc-7f851b912125",
   "metadata": {
    "tags": []
   },
   "outputs": [
    {
     "name": "stdout",
     "output_type": "stream",
     "text": [
      "Preprocessor: \"bert_preprocessor_1\"\n",
      "__________________________________________________________________________________________________\n",
      " Tokenizer (type)                                    Vocab #     \n",
      "==================================================================================================\n",
      " bert_tokenizer_1 (BertTokenizer)                    30522       \n",
      "__________________________________________________________________________________________________\n",
      "                                                                                                  \n",
      "Model: \"bert_classifier_1\"\n",
      "__________________________________________________________________________________________________\n",
      " Layer (type)                   Output Shape         Param #     Connected to                     \n",
      "==================================================================================================\n",
      " padding_mask (InputLayer)      [(None, None)]       0           []                               \n",
      "                                                                                                  \n",
      " segment_ids (InputLayer)       [(None, None)]       0           []                               \n",
      "                                                                                                  \n",
      " token_ids (InputLayer)         [(None, None)]       0           []                               \n",
      "                                                                                                  \n",
      " bert_backbone_1 (BertBackbone  {'sequence_output'   4385920     ['padding_mask[0][0]',           \n",
      " )                              : (None, None, 128                'segment_ids[0][0]',            \n",
      "                                ),                                'token_ids[0][0]']              \n",
      "                                 'pooled_output':                                                 \n",
      "                                (None, 128)}                                                      \n",
      "                                                                                                  \n",
      " dropout_1 (Dropout)            (None, 128)          0           ['bert_backbone_1[0][0]']        \n",
      "                                                                                                  \n",
      " logits (Dense)                 (None, 2)            258         ['dropout_1[0][0]']              \n",
      "                                                                                                  \n",
      "==================================================================================================\n",
      "Total params: 4386178 (16.73 MB)\n",
      "Trainable params: 4386178 (16.73 MB)\n",
      "Non-trainable params: 0 (0.00 Byte)\n",
      "__________________________________________________________________________________________________\n"
     ]
    }
   ],
   "source": [
    "classifier.summary()"
   ]
  },
  {
   "cell_type": "code",
   "execution_count": 32,
   "id": "caa861ca-11a8-4964-94b7-ef00516d8543",
   "metadata": {
    "id": "caa861ca-11a8-4964-94b7-ef00516d8543",
    "outputId": "65eaae3a-a2fc-4092-b338-89f50acfec34",
    "tags": []
   },
   "outputs": [
    {
     "data": {
      "text/plain": [
       "[<keras.src.engine.input_layer.InputLayer at 0x7f0adab6b4c0>,\n",
       " <keras.src.layers.core.embedding.Embedding at 0x7f0acd49c6d0>,\n",
       " <keras.src.engine.input_layer.InputLayer at 0x7f0adab69180>,\n",
       " <keras_nlp.src.layers.position_embedding.PositionEmbedding at 0x7f0acd49c790>,\n",
       " <keras.src.layers.core.embedding.Embedding at 0x7f0acd49d2a0>,\n",
       " <keras.src.layers.merging.add.Add at 0x7f0acd49cfd0>,\n",
       " <keras.src.layers.normalization.layer_normalization.LayerNormalization at 0x7f0acd49de70>,\n",
       " <keras.src.layers.regularization.dropout.Dropout at 0x7f0acd49ec20>,\n",
       " <keras.src.engine.input_layer.InputLayer at 0x7f0adab6ae60>,\n",
       " <keras_nlp.src.layers.transformer_encoder.TransformerEncoder at 0x7f0acd49f430>,\n",
       " <keras_nlp.src.layers.transformer_encoder.TransformerEncoder at 0x7f0acd49fbe0>,\n",
       " <keras.src.layers.core.tf_op_layer.SlicingOpLambda at 0x7f0acd267250>,\n",
       " <keras.src.layers.core.dense.Dense at 0x7f0acd267880>]"
      ]
     },
     "execution_count": 32,
     "metadata": {},
     "output_type": "execute_result"
    }
   ],
   "source": [
    "classifier.layers[3].layers"
   ]
  },
  {
   "cell_type": "code",
   "execution_count": 33,
   "id": "688348da-ddcd-4402-9d8d-d55315422226",
   "metadata": {
    "id": "688348da-ddcd-4402-9d8d-d55315422226",
    "outputId": "b1290b4e-904e-46dd-e54d-767b600857f3",
    "tags": []
   },
   "outputs": [
    {
     "data": {
      "image/png": "[encoded data removed]",
      "text/plain": [
       "<IPython.core.display.Image object>"
      ]
     },
     "execution_count": 33,
     "metadata": {},
     "output_type": "execute_result"
    }
   ],
   "source": [
    "tf.keras.utils.plot_model(classifier.layers[3])"
   ]
  },
  {
   "cell_type": "code",
   "execution_count": 34,
   "id": "25d881e9-dc4b-4e59-941e-720930db6a8f",
   "metadata": {
    "id": "25d881e9-dc4b-4e59-941e-720930db6a8f",
    "tags": []
   },
   "outputs": [],
   "source": [
    "embedding_model = tf.keras.Model(\n",
    "    inputs=classifier.input, outputs=classifier.layers[3].layers[6].output\n",
    ")"
   ]
  },
  {
   "cell_type": "code",
   "execution_count": 35,
   "id": "b76b9e7b-0a09-4b70-8cea-1b2f24398769",
   "metadata": {
    "id": "b76b9e7b-0a09-4b70-8cea-1b2f24398769",
    "outputId": "e1694dc2-7727-479a-91dd-64bbbf2421c8",
    "tags": []
   },
   "outputs": [
    {
     "data": {
      "image/png": "[encoded data removed]",
      "text/plain": [
       "<IPython.core.display.Image object>"
      ]
     },
     "execution_count": 35,
     "metadata": {},
     "output_type": "execute_result"
    }
   ],
   "source": [
    "tf.keras.utils.plot_model(embedding_model)"
   ]
  },
  {
   "cell_type": "code",
   "execution_count": 223,
   "id": "c802341c-27d9-4d11-8db9-3cef59031d29",
   "metadata": {
    "tags": []
   },
   "outputs": [
    {
     "name": "stdout",
     "output_type": "stream",
     "text": [
      "Model: \"bert_backbone_1\"\n",
      "__________________________________________________________________________________________________\n",
      " Layer (type)                Output Shape                 Param #   Connected to                  \n",
      "==================================================================================================\n",
      " token_ids (InputLayer)      [(None, None)]               0         []                            \n",
      "                                                                                                  \n",
      " token_embedding (Embedding  (None, None, 128)            3906816   ['token_ids[0][0]']           \n",
      " )                                                                                                \n",
      "                                                                                                  \n",
      " segment_ids (InputLayer)    [(None, None)]               0         []                            \n",
      "                                                                                                  \n",
      " position_embedding (Positi  (None, None, 128)            65536     ['token_embedding[0][0]']     \n",
      " onEmbedding)                                                                                     \n",
      "                                                                                                  \n",
      " segment_embedding (Embeddi  (None, None, 128)            256       ['segment_ids[0][0]']         \n",
      " ng)                                                                                              \n",
      "                                                                                                  \n",
      " add_1 (Add)                 (None, None, 128)            0         ['token_embedding[0][0]',     \n",
      "                                                                     'position_embedding[0][0]',  \n",
      "                                                                     'segment_embedding[0][0]']   \n",
      "                                                                                                  \n",
      " embeddings_layer_norm (Lay  (None, None, 128)            256       ['add_1[0][0]']               \n",
      " erNormalization)                                                                                 \n",
      "                                                                                                  \n",
      " embeddings_dropout (Dropou  (None, None, 128)            0         ['embeddings_layer_norm[0][0]'\n",
      " t)                                                                 ]                             \n",
      "                                                                                                  \n",
      " padding_mask (InputLayer)   [(None, None)]               0         []                            \n",
      "                                                                                                  \n",
      " transformer_layer_0 (Trans  (None, None, 128)            198272    ['embeddings_dropout[0][0]',  \n",
      " formerEncoder)                                                      'padding_mask[0][0]']        \n",
      "                                                                                                  \n",
      " transformer_layer_1 (Trans  (None, None, 128)            198272    ['transformer_layer_0[0][0]', \n",
      " formerEncoder)                                                      'padding_mask[0][0]']        \n",
      "                                                                                                  \n",
      " tf.__operators__.getitem_1  (None, 128)                  0         ['transformer_layer_1[0][0]'] \n",
      "  (SlicingOpLambda)                                                                               \n",
      "                                                                                                  \n",
      " pooled_dense (Dense)        (None, 128)                  16512     ['tf.__operators__.getitem_1[0\n",
      "                                                                    ][0]']                        \n",
      "                                                                                                  \n",
      "==================================================================================================\n",
      "Total params: 4385920 (16.73 MB)\n",
      "Trainable params: 4385920 (16.73 MB)\n",
      "Non-trainable params: 0 (0.00 Byte)\n",
      "__________________________________________________________________________________________________\n"
     ]
    }
   ],
   "source": [
    "classifier.layers[3].summary()"
   ]
  },
  {
   "cell_type": "code",
   "execution_count": 229,
   "id": "b20d6f95-6327-4cfd-a077-13022ce9197a",
   "metadata": {
    "id": "b20d6f95-6327-4cfd-a077-13022ce9197a",
    "tags": []
   },
   "outputs": [],
   "source": [
    "bert_backbone = tf.keras.Model(\n",
    "    inputs=[\n",
    "        classifier.layers[3].layers[7].input,\n",
    "        classifier.layers[3].layers[8].input,\n",
    "    ],\n",
    "    outputs=classifier.layers[3].layers[-1].output,\n",
    ")"
   ]
  },
  {
   "cell_type": "code",
   "execution_count": 230,
   "id": "6d12e2bf-4e92-4c6a-b9d7-bac832fb3391",
   "metadata": {
    "id": "6d12e2bf-4e92-4c6a-b9d7-bac832fb3391",
    "outputId": "cc46d0b0-a6e6-473c-aa31-bae8a6ccbfca",
    "tags": []
   },
   "outputs": [
    {
     "data": {
      "image/png": "[encoded data removed]",
      "text/plain": [
       "<IPython.core.display.Image object>"
      ]
     },
     "execution_count": 230,
     "metadata": {},
     "output_type": "execute_result"
    }
   ],
   "source": [
    "tf.keras.utils.plot_model(bert_backbone)"
   ]
  },
  {
   "cell_type": "code",
   "execution_count": 231,
   "id": "ad23139e-2e1f-415c-86e8-d3094f8bbb1e",
   "metadata": {
    "id": "ad23139e-2e1f-415c-86e8-d3094f8bbb1e",
    "tags": []
   },
   "outputs": [],
   "source": [
    "cls_head = tf.keras.Model(\n",
    "    inputs=classifier.layers[-2].input, outputs=classifier.layers[-1].output\n",
    ")"
   ]
  },
  {
   "cell_type": "code",
   "execution_count": 232,
   "id": "f569b145-e302-4388-b991-df0167ff8ddd",
   "metadata": {
    "id": "f569b145-e302-4388-b991-df0167ff8ddd",
    "outputId": "5548ebc0-a489-4340-f36f-e60a983b6c98",
    "tags": []
   },
   "outputs": [
    {
     "data": {
      "image/png": "[encoded data removed]",
      "text/plain": [
       "<IPython.core.display.Image object>"
      ]
     },
     "execution_count": 232,
     "metadata": {},
     "output_type": "execute_result"
    }
   ],
   "source": [
    "tf.keras.utils.plot_model(cls_head)"
   ]
  },
  {
   "cell_type": "code",
   "execution_count": 245,
   "id": "54f3db03-9d56-4c40-af53-9de056e31a6b",
   "metadata": {
    "id": "54f3db03-9d56-4c40-af53-9de056e31a6b",
    "tags": []
   },
   "outputs": [
    {
     "data": {
      "text/plain": [
       "<tf.Tensor: shape=(1, 2), dtype=float32, numpy=array([[0.05474576, 0.09981707]], dtype=float32)>"
      ]
     },
     "execution_count": 245,
     "metadata": {},
     "output_type": "execute_result"
    }
   ],
   "source": [
    "tokens = classifier._preprocessor(tf.constant(texts[:1]))\n",
    "embedding = embedding_model(tokens)\n",
    "bert_output = bert_backbone([embedding, tokens[\"padding_mask\"]])\n",
    "logits = cls_head(bert_output)\n",
    "logits"
   ]
  },
  {
   "cell_type": "code",
   "execution_count": 246,
   "id": "a5f4d7cb-d333-43ab-91bc-8cc451b36161",
   "metadata": {
    "id": "a5f4d7cb-d333-43ab-91bc-8cc451b36161",
    "tags": []
   },
   "outputs": [
    {
     "data": {
      "text/plain": [
       "<tf.Tensor: shape=(1, 512, 128), dtype=float32, numpy=\n",
       "array([[[ 2.5211675e-03, -3.2409839e-02, -6.9019878e-03, ...,\n",
       "          2.7296547e-02,  4.5807930e-03,  1.4555874e-02],\n",
       "        [-9.9885708e-04, -2.8899801e-03,  4.8571019e-03, ...,\n",
       "          1.7197364e-03,  6.7635463e-03,  2.8126221e-03],\n",
       "        [-1.0863496e-03, -1.4005759e-03, -4.5379478e-05, ...,\n",
       "         -5.9404876e-05,  2.2665113e-03,  1.7321140e-03],\n",
       "        ...,\n",
       "        [ 0.0000000e+00,  0.0000000e+00,  0.0000000e+00, ...,\n",
       "          0.0000000e+00,  0.0000000e+00,  0.0000000e+00],\n",
       "        [ 0.0000000e+00,  0.0000000e+00,  0.0000000e+00, ...,\n",
       "          0.0000000e+00,  0.0000000e+00,  0.0000000e+00],\n",
       "        [ 0.0000000e+00,  0.0000000e+00,  0.0000000e+00, ...,\n",
       "          0.0000000e+00,  0.0000000e+00,  0.0000000e+00]]], dtype=float32)>"
      ]
     },
     "execution_count": 246,
     "metadata": {},
     "output_type": "execute_result"
    }
   ],
   "source": [
    "tokens = classifier._preprocessor(tf.constant(texts[:1]))\n",
    "embeddings = embedding_model(tokens)\n",
    "with tf.GradientTape() as tape:\n",
    "    tape.watch(embeddings)\n",
    "    bert_output = bert_backbone([embeddings, tokens[\"padding_mask\"]])\n",
    "    logits = cls_head(bert_output)\n",
    "\n",
    "    indices = tf.argmax(logits, axis=-1)\n",
    "    pred = tf.gather_nd(logits, [[i, idx] for i, idx in enumerate(indices)])\n",
    "\n",
    "input_emb_grads = tape.gradient(pred, embeddings)\n",
    "input_emb_grads"
   ]
  },
  {
   "cell_type": "code",
   "execution_count": 193,
   "id": "f5277650-f29c-4219-941a-2f6a541a0d54",
   "metadata": {
    "id": "f5277650-f29c-4219-941a-2f6a541a0d54",
    "tags": []
   },
   "outputs": [],
   "source": [
    "START_OFFSET = 1\n",
    "END_OFFSET = 1\n",
    "\n",
    "\n",
    "class LITBertModel(lit_model.Model):\n",
    "\n",
    "    def __init__(self, model):\n",
    "        # Load the model into memory so we're ready for interactive use.\n",
    "        self._model = model\n",
    "        self._embedding_model = tf.keras.Model(\n",
    "            inputs=model.input, outputs=model.layers[3].layers[6].output\n",
    "        )\n",
    "        self._bert_backbone = tf.keras.Model(\n",
    "            inputs=[\n",
    "                model.layers[3].layers[7].input,\n",
    "                model.layers[3].layers[8].input,\n",
    "            ],\n",
    "            outputs=model.layers[3].layers[-1].output,\n",
    "        )\n",
    "        self._cls_head = tf.keras.Model(\n",
    "            inputs=classifier.layers[-2].input,\n",
    "            outputs=classifier.layers[-1].output,\n",
    "        )\n",
    "\n",
    "    def _detokenize(self, indices):\n",
    "        return [\n",
    "            self._model.preprocessor.tokenizer.vocabulary[idx]\n",
    "            for idx in indices\n",
    "        ]\n",
    "\n",
    "    # LIT API implementations\n",
    "\n",
    "    def predict(self, inputs):\n",
    "        \"\"\"Predict on a stream of examples.\"\"\"\n",
    "        examples = [d[\"text\"] for d in inputs]\n",
    "        tokenized = self._model.preprocessor(examples)\n",
    "        seq_lens = tf.reduce_sum(\n",
    "            tf.cast(tokenized[\"padding_mask\"], tf.int32), axis=-1\n",
    "        )\n",
    "        embeddings = self._embedding_model(tokenized)\n",
    "        with tf.GradientTape() as tape:\n",
    "            tape.watch(embeddings)\n",
    "            bert_output = self._bert_backbone(\n",
    "                [embeddings, tokenized[\"padding_mask\"]]\n",
    "            )\n",
    "            logits = self._cls_head(bert_output)\n",
    "\n",
    "            if \"label\" in inputs[0].keys():\n",
    "                indices = [\n",
    "                    1 if inp[\"label\"] == \"positive\" else 0 for inp in inputs\n",
    "                ]\n",
    "            else:\n",
    "                indices = tf.argmax(logits, axis=-1)\n",
    "\n",
    "            pred = tf.gather_nd(\n",
    "                logits, [[i, idx] for i, idx in enumerate(indices)]\n",
    "            )\n",
    "\n",
    "        probs = tf.keras.activations.softmax(logits)\n",
    "\n",
    "        input_emb_grads = tape.gradient(pred, embeddings)\n",
    "\n",
    "        return [\n",
    "            {\n",
    "                \"prob\": [prob.numpy()[1], prob.numpy()[0]],\n",
    "                \"tokens\": self._detokenize(\n",
    "                    tokens[START_OFFSET : slen - END_OFFSET]\n",
    "                ),\n",
    "                \"input_embedding\": emb[\n",
    "                    START_OFFSET : slen - END_OFFSET\n",
    "                ].numpy(),\n",
    "                \"input_emb_grad\": grad[\n",
    "                    START_OFFSET : slen - END_OFFSET\n",
    "                ].numpy(),\n",
    "            }\n",
    "            for prob, tokens, emb, grad, slen in zip(\n",
    "                probs,\n",
    "                tokenized[\"token_ids\"],\n",
    "                embeddings,\n",
    "                input_emb_grads,\n",
    "                seq_lens,\n",
    "            )\n",
    "        ]\n",
    "\n",
    "    def input_spec(self):\n",
    "        \"\"\"Describe the inputs to the model.\"\"\"\n",
    "        return {\n",
    "            \"text\": lit_types.TextSegment(),\n",
    "            \"label\": lit_types.CategoryLabel(\n",
    "                required=False, vocab=[\"positive\", \"negative\"]\n",
    "            ),\n",
    "        }\n",
    "\n",
    "    def output_spec(self):\n",
    "        \"\"\"Describe the model outputs.\"\"\"\n",
    "        return {\n",
    "            # The 'parent' keyword tells LIT where to look for gold labels when computing metrics.\n",
    "            \"prob\": lit_types.MulticlassPreds(\n",
    "                vocab=[\"positive\", \"negative\"], parent=\"label\"\n",
    "            ),\n",
    "            \"tokens\": lit_types.Tokens(parent=\"text\"),\n",
    "            \"input_embedding\": lit_types.TokenEmbeddings(align=\"tokens\"),\n",
    "            \"input_emb_grad\": lit_types.TokenGradients(\n",
    "                align=\"tokens\", grad_for=\"input_embedding\"\n",
    "            ),\n",
    "        }"
   ]
  },
  {
   "cell_type": "code",
   "execution_count": 194,
   "id": "11633154-f2ef-4011-8079-49b6553dd0ca",
   "metadata": {
    "id": "11633154-f2ef-4011-8079-49b6553dd0ca",
    "outputId": "0a4c881a-a145-4019-e89e-e631b7284bef",
    "tags": []
   },
   "outputs": [
    {
     "name": "stderr",
     "output_type": "stream",
     "text": [
      "WARNING:absl:Unable to infer init spec for model 'LITBertModel'. Unable to infer a type for parameter 'model' of '__init__'. Please add a type hint or default value, or implement a Spec literal.\n",
      "WARNING:absl:Unable to infer init spec for dataset 'LITSentimentData'. Unable to infer a type for parameter 'dataset' of '__init__'. Please add a type hint or default value, or implement a Spec literal.\n",
      "WARNING:absl:Unable to infer init spec for dataset 'NoneDataset'. Unable to infer a type for parameter 'models' of '__init__'. Please add a type hint or default value, or implement a Spec literal.\n",
      "::1 - - [05/Sep/2024 13:53:29] \"POST /get_info HTTP/1.1\" 200 24667\n",
      "::1 - - [05/Sep/2024 13:53:29] \"POST /get_dataset?dataset_name=acllmdb HTTP/1.1\" 200 154508\n",
      "::1 - - [05/Sep/2024 13:53:30] \"POST /push_ui_state?dataset_name=acllmdb HTTP/1.1\" 200 4\n",
      "::1 - - [05/Sep/2024 13:53:37] \"POST /get_metrics?model=BERT%20classifier&dataset_name=acllmdb&metrics=multiclass,paired&do_predict=1 HTTP/1.1\" 200 162\n",
      "::1 - - [05/Sep/2024 13:53:37] \"POST /get_interpretations?model=BERT%20classifier&dataset_name=acllmdb&interpreter=classification&do_predict=1 HTTP/1.1\" 200 17520\n",
      "::1 - - [05/Sep/2024 13:53:49] \"POST /push_ui_state?dataset_name=acllmdb HTTP/1.1\" 200 4\n"
     ]
    }
   ],
   "source": [
    "# Create the LIT widget with the model and dataset to analyze.\n",
    "datasets = {\"acllmdb\": LITSentimentData(test_ds)}\n",
    "models = {\"BERT classifier\": LITBertModel(classifier)}\n",
    "\n",
    "widget.stop()\n",
    "widget = notebook.LitWidget(models, datasets, port=8890)"
   ]
  },
  {
   "cell_type": "code",
   "execution_count": 195,
   "id": "826c86b5-c819-4f2c-b874-7c678a763d4b",
   "metadata": {
    "id": "826c86b5-c819-4f2c-b874-7c678a763d4b",
    "outputId": "d1ee69cc-1793-4081-bfe9-3f51882ebfa9",
    "tags": []
   },
   "outputs": [
    {
     "data": {
      "text/html": [
       "\n",
       "      <style>div.output_scroll { height: 610px; }</style>\n",
       "      <iframe id='lit-frame-fad494d0634125e9' width='100%' height='600' frameborder='0'>\n",
       "      </iframe>\n",
       "      <script>\n",
       "        (function() {\n",
       "          const frame = document.getElementById(\"lit-frame-fad494d0634125e9\");\n",
       "          const urlStr = \"/proxy/8890/\" + '?'\n",
       "          const url = new URL(urlStr, window.location);\n",
       "          const port = 0;\n",
       "          if (port) {\n",
       "            url.port = port;\n",
       "          }\n",
       "          frame.src = url;\n",
       "        })();\n",
       "      </script>\n",
       "    "
      ],
      "text/plain": [
       "<IPython.core.display.HTML object>"
      ]
     },
     "metadata": {},
     "output_type": "display_data"
    }
   ],
   "source": [
    "widget.render(height=600)"
   ]
  },
  {
   "cell_type": "markdown",
   "id": "9a44b742-df4a-4e97-8e82-b12be9008654",
   "metadata": {},
   "source": [
    "## Integrated Gradients"
   ]
  },
  {
   "cell_type": "code",
   "execution_count": 218,
   "id": "f37f18da-bf3f-41ab-9122-c16b21e3d005",
   "metadata": {
    "id": "f37f18da-bf3f-41ab-9122-c16b21e3d005",
    "tags": []
   },
   "outputs": [],
   "source": [
    "START_OFFSET = 1\n",
    "END_OFFSET = 1\n",
    "\n",
    "\n",
    "class LITBertModel(lit_model.Model):\n",
    "\n",
    "    def __init__(self, model):\n",
    "        # Load the model into memory so we're ready for interactive use.\n",
    "        self._model = model\n",
    "        self._embedding_model = tf.keras.Model(\n",
    "            inputs=model.input, outputs=model.layers[3].layers[6].output\n",
    "        )\n",
    "        self._bert_backbone = tf.keras.Model(\n",
    "            inputs=[\n",
    "                model.layers[3].layers[7].input,\n",
    "                model.layers[3].layers[8].input,\n",
    "            ],\n",
    "            outputs=model.layers[3].layers[-1].output,\n",
    "        )\n",
    "        self._cls_head = tf.keras.Model(\n",
    "            inputs=classifier.layers[-2].input,\n",
    "            outputs=classifier.layers[-1].output,\n",
    "        )\n",
    "\n",
    "    def _detokenize(self, indices):\n",
    "        return [\n",
    "            self._model.preprocessor.tokenizer.vocabulary[idx]\n",
    "            for idx in indices\n",
    "        ]\n",
    "\n",
    "    # LIT API implementations\n",
    "\n",
    "    def predict(self, inputs):\n",
    "        \"\"\"Predict on a stream of examples.\"\"\"\n",
    "        examples = [d[\"text\"] for d in inputs]\n",
    "        tokenized = self._model.preprocessor(examples)\n",
    "        seq_lens = tf.reduce_sum(\n",
    "            tf.cast(tokenized[\"padding_mask\"], tf.int32), axis=-1\n",
    "        )\n",
    "        embeddings = self._embedding_model(tokenized)\n",
    "        if \"input_embedding\" in inputs[0].keys():\n",
    "            pertubations = tf.convert_to_tensor(\n",
    "                [inp[\"input_embedding\"] for inp in inputs]\n",
    "            )\n",
    "            step_size, ptb_len, emd_dim = pertubations.shape\n",
    "            pertubations = tf.reshape(\n",
    "                pertubations, (step_size * ptb_len, emd_dim)\n",
    "            )\n",
    "            update_indices = [\n",
    "                [s, l + START_OFFSET]\n",
    "                for s in range(step_size)\n",
    "                for l in range(ptb_len)\n",
    "            ]\n",
    "            embeddings = tf.tensor_scatter_nd_update(\n",
    "                embeddings, update_indices, pertubations\n",
    "            )\n",
    "        with tf.GradientTape() as tape:\n",
    "            tape.watch(embeddings)\n",
    "            bert_output = self._bert_backbone(\n",
    "                [embeddings, tokenized[\"padding_mask\"]]\n",
    "            )\n",
    "            logits = self._cls_head(bert_output)\n",
    "            if \"label\" in inputs[0].keys():\n",
    "                indices = [\n",
    "                    1 if inp[\"label\"] == \"positive\" else 0 for inp in inputs\n",
    "                ]\n",
    "            else:\n",
    "                indices = tf.argmax(logits, axis=-1)\n",
    "            pred = tf.gather_nd(\n",
    "                logits, [[i, idx] for i, idx in enumerate(indices)]\n",
    "            )\n",
    "\n",
    "        probs = tf.keras.activations.softmax(logits)\n",
    "\n",
    "        input_emb_grads = tape.gradient(pred, embeddings)\n",
    "\n",
    "        return [\n",
    "            {\n",
    "                \"prob\": [prob.numpy()[1], prob.numpy()[0]],\n",
    "                \"tokens\": self._detokenize(\n",
    "                    tokens[START_OFFSET : slen - END_OFFSET]\n",
    "                ),\n",
    "                \"input_embedding\": emb[\n",
    "                    START_OFFSET : slen - END_OFFSET\n",
    "                ].numpy(),\n",
    "                \"input_emb_grad\": grad[\n",
    "                    START_OFFSET : slen - END_OFFSET\n",
    "                ].numpy(),\n",
    "            }\n",
    "            for prob, tokens, emb, grad, slen in zip(\n",
    "                probs,\n",
    "                tokenized[\"token_ids\"],\n",
    "                embeddings,\n",
    "                input_emb_grads,\n",
    "                seq_lens,\n",
    "            )\n",
    "        ]\n",
    "\n",
    "    def input_spec(self):\n",
    "        \"\"\"Describe the inputs to the model.\"\"\"\n",
    "        return {\n",
    "            \"text\": lit_types.TextSegment(),\n",
    "            \"label\": lit_types.CategoryLabel(\n",
    "                required=False, vocab=[\"positive\", \"negative\"]\n",
    "            ),\n",
    "            \"input_embedding\": lit_types.TokenEmbeddings(\n",
    "                required=False, align=\"tokens\"\n",
    "            ),\n",
    "        }\n",
    "\n",
    "    def output_spec(self):\n",
    "        \"\"\"Describe the model outputs.\"\"\"\n",
    "        return {\n",
    "            # The 'parent' keyword tells LIT where to look for gold labels when computing metrics.\n",
    "            \"prob\": lit_types.MulticlassPreds(\n",
    "                vocab=[\"positive\", \"negative\"], parent=\"label\"\n",
    "            ),\n",
    "            \"tokens\": lit_types.Tokens(parent=\"text\"),\n",
    "            \"input_embedding\": lit_types.TokenEmbeddings(align=\"tokens\"),\n",
    "            \"input_emb_grad\": lit_types.TokenGradients(\n",
    "                align=\"tokens\",\n",
    "                grad_for=\"input_embedding\",\n",
    "                grad_target_field_key=\"label\",\n",
    "            ),\n",
    "        }"
   ]
  },
  {
   "cell_type": "code",
   "execution_count": 219,
   "id": "38bda6f3-7573-4c66-b1da-70dc94e0ca84",
   "metadata": {
    "tags": []
   },
   "outputs": [
    {
     "name": "stderr",
     "output_type": "stream",
     "text": [
      "WARNING:absl:Unable to infer init spec for model 'LITBertModel'. Unable to infer a type for parameter 'model' of '__init__'. Please add a type hint or default value, or implement a Spec literal.\n",
      "WARNING:absl:Unable to infer init spec for dataset 'LITSentimentData'. Unable to infer a type for parameter 'dataset' of '__init__'. Please add a type hint or default value, or implement a Spec literal.\n",
      "WARNING:absl:Unable to infer init spec for dataset 'NoneDataset'. Unable to infer a type for parameter 'models' of '__init__'. Please add a type hint or default value, or implement a Spec literal.\n",
      "::1 - - [05/Sep/2024 14:14:38] \"POST /get_info HTTP/1.1\" 200 24845\n",
      "::1 - - [05/Sep/2024 14:14:38] \"POST /get_dataset?dataset_name=acllmdb HTTP/1.1\" 200 154508\n",
      "::1 - - [05/Sep/2024 14:14:45] \"POST /get_metrics?model=BERT%20classifier&dataset_name=acllmdb&metrics=multiclass,paired&do_predict=1 HTTP/1.1\" 200 162\n",
      "::1 - - [05/Sep/2024 14:14:45] \"POST /push_ui_state?dataset_name=acllmdb HTTP/1.1\" 200 4\n",
      "::1 - - [05/Sep/2024 14:14:45] \"POST /get_interpretations?model=BERT%20classifier&dataset_name=acllmdb&interpreter=classification&do_predict=1 HTTP/1.1\" 200 17520\n"
     ]
    }
   ],
   "source": [
    "# Create the LIT widget with the model and dataset to analyze.\n",
    "datasets = {\"acllmdb\": LITSentimentData(test_ds)}\n",
    "models = {\"BERT classifier\": LITBertModel(classifier)}\n",
    "\n",
    "widget.stop()\n",
    "widget = notebook.LitWidget(models, datasets, port=8890)"
   ]
  },
  {
   "cell_type": "code",
   "execution_count": 220,
   "id": "0c886dfb-5931-4d4e-a10f-042dd2c29649",
   "metadata": {
    "tags": []
   },
   "outputs": [
    {
     "data": {
      "text/html": [
       "\n",
       "      <style>div.output_scroll { height: 610px; }</style>\n",
       "      <iframe id='lit-frame-4471ae7c11cefc4b' width='100%' height='600' frameborder='0'>\n",
       "      </iframe>\n",
       "      <script>\n",
       "        (function() {\n",
       "          const frame = document.getElementById(\"lit-frame-4471ae7c11cefc4b\");\n",
       "          const urlStr = \"/proxy/8890/\" + '?'\n",
       "          const url = new URL(urlStr, window.location);\n",
       "          const port = 0;\n",
       "          if (port) {\n",
       "            url.port = port;\n",
       "          }\n",
       "          frame.src = url;\n",
       "        })();\n",
       "      </script>\n",
       "    "
      ],
      "text/plain": [
       "<IPython.core.display.HTML object>"
      ]
     },
     "metadata": {},
     "output_type": "display_data"
    }
   ],
   "source": [
    "widget.render(height=600)"
   ]
  },
  {
   "cell_type": "code",
   "execution_count": 217,
   "id": "cd34f59f-3f66-4038-816a-6d2ac19d391e",
   "metadata": {
    "id": "cd34f59f-3f66-4038-816a-6d2ac19d391e",
    "tags": []
   },
   "outputs": [
    {
     "data": {
      "text/plain": [
       "[{'input_emb_grad': TokenSalience(tokens=['i', 'think', 'dirty', 'dancing', 'was', 'a', 'great', 'movie', ',', 'they', 'tried', 'to', 'make', 'another', 'one', 'havana', 'nights', 'which', 'was', 'good', 'but', 'it', 'was', 'nothing', 'like', 'dirty', 'dancing', '.', 'i', 'would', 'like', 'to', 'see', 'another', 'dirty', 'dancing', 'with', 'the', 'same', 'people', '.', 'without', 'them', 'i', 'think', 'it', 'would', 'be', 'a', 'mess', '.', 'a', 'lot', 'of', 'times', 'movies', 'are', 'made', 'then', 'when', 'they', 'try', 'to', 'add', 'on', 'more', 'they', 'start', 'to', 'change', 'the', 'people', 'an', 'make', 'the', 'movies', 'go', 'down', 'hill', '.', 'i', 'would', 'love', 'to', 'see', 'dirty', 'dancing', 'have', 'another', 'one', 'to', 'see', 'what', 'happened', 'after', 'they', 'were', 'able', 'to', 'be', 'together', '.', 'patrick', 'an', 'jennifer', 'did', 'so', 'well', 'together', '.', 'this', 'movie', 'was', 'made', 'in', '1997', 'its', 'time', 'to', 'make', 'another', 'one', '.', 'but', 'this', 'time', 'start', 'where', 'it', 'left', 'off', 'an', 'keep', 'the', 'same', 'people', 'in', 'it', '.'], salience=array([ 1.4260943e-02, -2.9920400e-03, -4.9222135e-03,  4.7812276e-03,\n",
       "         -5.9146807e-03,  6.4950031e-03,  3.0867403e-02, -3.7854589e-03,\n",
       "          6.6319946e-03,  7.7417255e-03, -3.9480701e-02,  4.6097673e-03,\n",
       "         -4.9763327e-03, -3.4998935e-03,  1.5782277e-03,  1.6113495e-02,\n",
       "          2.1315271e-03,  2.2818120e-04, -5.3900308e-03,  1.1773875e-02,\n",
       "          2.0348732e-03,  1.2808049e-02, -5.8357292e-03, -2.7478861e-02,\n",
       "          1.6255480e-03, -2.6770795e-03,  7.1862713e-03,  1.9481537e-03,\n",
       "          1.0694926e-02, -1.1365108e-02, -3.1709450e-03,  5.4578474e-03,\n",
       "          1.2721164e-02, -1.7873911e-03, -8.3617661e-03,  2.4736212e-03,\n",
       "          9.4342660e-03,  6.5741218e-03, -1.9470442e-02, -1.2084470e-03,\n",
       "          2.5335390e-03,  5.2867206e-03,  3.3086138e-03,  9.6822847e-03,\n",
       "         -3.3760839e-03,  1.4402979e-02, -7.8145638e-03,  2.0274767e-03,\n",
       "          4.9743336e-03, -8.8144422e-02,  3.3319663e-04,  2.3370702e-03,\n",
       "          2.1364745e-03,  3.7148909e-03,  4.0518236e-03,  6.1189607e-03,\n",
       "          1.4602557e-03, -4.2091664e-03, -3.7568316e-03, -2.3195599e-03,\n",
       "          7.6677245e-03, -7.0093279e-03,  4.5783361e-03, -3.6061567e-03,\n",
       "          7.3271710e-03,  3.7828705e-03,  9.1040051e-03, -1.0195770e-02,\n",
       "          5.2066790e-03, -5.8933361e-03,  6.8432912e-03, -2.5814160e-04,\n",
       "          4.6382374e-03, -7.3289028e-03,  5.7306788e-03,  8.0498355e-03,\n",
       "          3.8814035e-03, -8.2731228e-03,  2.5114433e-03,  5.3541089e-04,\n",
       "          1.2032094e-02, -1.4476899e-02,  1.9099344e-02,  4.2081624e-03,\n",
       "          1.3227323e-02, -5.9828912e-03,  4.2055077e-03, -2.6780323e-03,\n",
       "         -4.8216656e-03,  2.6759661e-03,  4.5878226e-03,  1.2173808e-02,\n",
       "          9.5085949e-03, -1.1026982e-03,  1.7952020e-03,  7.0587783e-03,\n",
       "         -1.8108698e-02,  9.1677913e-03,  3.9424235e-03,  9.7840792e-04,\n",
       "          7.9443837e-03,  4.7774025e-05,  4.2049303e-03,  5.0735590e-03,\n",
       "         -2.4155118e-03, -2.3976131e-03, -6.3780271e-03,  1.5768141e-02,\n",
       "          7.3740240e-03,  3.7161408e-05,  1.4827728e-04, -7.0747198e-03,\n",
       "         -7.0508905e-03, -6.1613787e-03,  6.1512245e-03,  6.1271996e-03,\n",
       "          6.9259391e-03,  2.1473614e-03,  3.8119941e-03, -6.5550664e-03,\n",
       "         -4.6286108e-03,  2.4812801e-03, -6.1875070e-04,  1.6597697e-03,\n",
       "          1.1906226e-03,  3.2274441e-03, -4.2753769e-03, -1.4672517e-03,\n",
       "          1.5432646e-02, -3.4444101e-02, -7.4991924e-03,  3.5352095e-03,\n",
       "          8.6700516e-03,  4.1665630e-03, -1.5571063e-02,  1.2431705e-03,\n",
       "          5.9818290e-03,  1.1248652e-02,  1.3068673e-04], dtype=float32))}]"
      ]
     },
     "execution_count": 217,
     "metadata": {},
     "output_type": "execute_result"
    }
   ],
   "source": [
    "from lit_nlp.components import gradient_maps\n",
    "\n",
    "ig = gradient_maps.IntegratedGradients()\n",
    "\n",
    "ig_results = ig.run(\n",
    "    LITSentimentData(test_ds).examples[:1],\n",
    "    LITBertModel(classifier),\n",
    "    LITSentimentData(test_ds),\n",
    ")\n",
    "ig_results"
   ]
  },
  {
   "cell_type": "code",
   "execution_count": 330,
   "id": "42b04100-1860-4b30-b06b-8cf8448a6651",
   "metadata": {
    "tags": []
   },
   "outputs": [
    {
     "data": {
      "text/html": [
       "<style type=\"text/css\">\n",
       "#T_7d7de_row0_col0, #T_7d7de_row0_col45, #T_7d7de_row1_col0, #T_7d7de_row1_col45 {\n",
       "  background-color: #ffadad;\n",
       "  color: #000000;\n",
       "}\n",
       "#T_7d7de_row0_col1, #T_7d7de_row0_col30, #T_7d7de_row0_col44, #T_7d7de_row1_col1, #T_7d7de_row1_col30, #T_7d7de_row1_col44 {\n",
       "  background-color: #ededff;\n",
       "  color: #000000;\n",
       "}\n",
       "#T_7d7de_row0_col2, #T_7d7de_row0_col12, #T_7d7de_row0_col18, #T_7d7de_row0_col88, #T_7d7de_row1_col2, #T_7d7de_row1_col12, #T_7d7de_row1_col18, #T_7d7de_row1_col88 {\n",
       "  background-color: #e1e1ff;\n",
       "  color: #000000;\n",
       "}\n",
       "#T_7d7de_row0_col3, #T_7d7de_row0_col11, #T_7d7de_row0_col62, #T_7d7de_row0_col72, #T_7d7de_row0_col83, #T_7d7de_row0_col86, #T_7d7de_row0_col90, #T_7d7de_row0_col102, #T_7d7de_row0_col133, #T_7d7de_row1_col3, #T_7d7de_row1_col11, #T_7d7de_row1_col62, #T_7d7de_row1_col72, #T_7d7de_row1_col83, #T_7d7de_row1_col86, #T_7d7de_row1_col90, #T_7d7de_row1_col102, #T_7d7de_row1_col133 {\n",
       "  background-color: #ffe5e5;\n",
       "  color: #000000;\n",
       "}\n",
       "#T_7d7de_row0_col4, #T_7d7de_row0_col22, #T_7d7de_row0_col69, #T_7d7de_row0_col85, #T_7d7de_row0_col113, #T_7d7de_row1_col4, #T_7d7de_row1_col22, #T_7d7de_row1_col69, #T_7d7de_row1_col85, #T_7d7de_row1_col113 {\n",
       "  background-color: #ddddff;\n",
       "  color: #000000;\n",
       "}\n",
       "#T_7d7de_row0_col5, #T_7d7de_row0_col8, #T_7d7de_row0_col37, #T_7d7de_row0_col70, #T_7d7de_row1_col5, #T_7d7de_row1_col8, #T_7d7de_row1_col37, #T_7d7de_row1_col70 {\n",
       "  background-color: #ffd9d9;\n",
       "  color: #000000;\n",
       "}\n",
       "#T_7d7de_row0_col6, #T_7d7de_row1_col6 {\n",
       "  background-color: #ff4d4d;\n",
       "  color: #f1f1f1;\n",
       "}\n",
       "#T_7d7de_row0_col7, #T_7d7de_row0_col13, #T_7d7de_row0_col58, #T_7d7de_row0_col63, #T_7d7de_row1_col7, #T_7d7de_row1_col13, #T_7d7de_row1_col58, #T_7d7de_row1_col63 {\n",
       "  background-color: #e9e9ff;\n",
       "  color: #000000;\n",
       "}\n",
       "#T_7d7de_row0_col9, #T_7d7de_row0_col60, #T_7d7de_row0_col75, #T_7d7de_row0_col100, #T_7d7de_row1_col9, #T_7d7de_row1_col60, #T_7d7de_row1_col75, #T_7d7de_row1_col100 {\n",
       "  background-color: #ffd1d1;\n",
       "  color: #000000;\n",
       "}\n",
       "#T_7d7de_row0_col10, #T_7d7de_row1_col10 {\n",
       "  background-color: #1919ff;\n",
       "  color: #f1f1f1;\n",
       "}\n",
       "#T_7d7de_row0_col14, #T_7d7de_row0_col20, #T_7d7de_row0_col24, #T_7d7de_row0_col27, #T_7d7de_row0_col47, #T_7d7de_row0_col56, #T_7d7de_row0_col94, #T_7d7de_row0_col123, #T_7d7de_row1_col14, #T_7d7de_row1_col20, #T_7d7de_row1_col24, #T_7d7de_row1_col27, #T_7d7de_row1_col47, #T_7d7de_row1_col56, #T_7d7de_row1_col94, #T_7d7de_row1_col123 {\n",
       "  background-color: #fff5f5;\n",
       "  color: #000000;\n",
       "}\n",
       "#T_7d7de_row0_col15, #T_7d7de_row1_col15 {\n",
       "  background-color: #ffa1a1;\n",
       "  color: #000000;\n",
       "}\n",
       "#T_7d7de_row0_col16, #T_7d7de_row0_col35, #T_7d7de_row0_col40, #T_7d7de_row0_col51, #T_7d7de_row0_col52, #T_7d7de_row0_col78, #T_7d7de_row0_col89, #T_7d7de_row0_col117, #T_7d7de_row0_col121, #T_7d7de_row1_col16, #T_7d7de_row1_col35, #T_7d7de_row1_col40, #T_7d7de_row1_col51, #T_7d7de_row1_col52, #T_7d7de_row1_col78, #T_7d7de_row1_col89, #T_7d7de_row1_col117, #T_7d7de_row1_col121 {\n",
       "  background-color: #fff1f1;\n",
       "  color: #000000;\n",
       "}\n",
       "#T_7d7de_row0_col17, #T_7d7de_row0_col50, #T_7d7de_row0_col79, #T_7d7de_row0_col101, #T_7d7de_row0_col109, #T_7d7de_row0_col110, #T_7d7de_row0_col138, #T_7d7de_row1_col17, #T_7d7de_row1_col50, #T_7d7de_row1_col79, #T_7d7de_row1_col101, #T_7d7de_row1_col109, #T_7d7de_row1_col110, #T_7d7de_row1_col138 {\n",
       "  background-color: #fffdfd;\n",
       "  color: #000000;\n",
       "}\n",
       "#T_7d7de_row0_col19, #T_7d7de_row0_col80, #T_7d7de_row0_col91, #T_7d7de_row1_col19, #T_7d7de_row1_col80, #T_7d7de_row1_col91 {\n",
       "  background-color: #ffb9b9;\n",
       "  color: #000000;\n",
       "}\n",
       "#T_7d7de_row0_col21, #T_7d7de_row0_col32, #T_7d7de_row1_col21, #T_7d7de_row1_col32 {\n",
       "  background-color: #ffb5b5;\n",
       "  color: #000000;\n",
       "}\n",
       "#T_7d7de_row0_col23, #T_7d7de_row1_col23 {\n",
       "  background-color: #6161ff;\n",
       "  color: #f1f1f1;\n",
       "}\n",
       "#T_7d7de_row0_col25, #T_7d7de_row0_col59, #T_7d7de_row0_col87, #T_7d7de_row0_col104, #T_7d7de_row0_col105, #T_7d7de_row1_col25, #T_7d7de_row1_col59, #T_7d7de_row1_col87, #T_7d7de_row1_col104, #T_7d7de_row1_col105 {\n",
       "  background-color: #f1f1ff;\n",
       "  color: #000000;\n",
       "}\n",
       "#T_7d7de_row0_col26, #T_7d7de_row0_col64, #T_7d7de_row0_col95, #T_7d7de_row0_col108, #T_7d7de_row0_col116, #T_7d7de_row1_col26, #T_7d7de_row1_col64, #T_7d7de_row1_col95, #T_7d7de_row1_col108, #T_7d7de_row1_col116 {\n",
       "  background-color: #ffd5d5;\n",
       "  color: #000000;\n",
       "}\n",
       "#T_7d7de_row0_col28, #T_7d7de_row1_col28 {\n",
       "  background-color: #ffc1c1;\n",
       "  color: #000000;\n",
       "}\n",
       "#T_7d7de_row0_col29, #T_7d7de_row1_col29 {\n",
       "  background-color: #bdbdff;\n",
       "  color: #000000;\n",
       "}\n",
       "#T_7d7de_row0_col31, #T_7d7de_row0_col41, #T_7d7de_row0_col48, #T_7d7de_row0_col68, #T_7d7de_row0_col103, #T_7d7de_row1_col31, #T_7d7de_row1_col41, #T_7d7de_row1_col48, #T_7d7de_row1_col68, #T_7d7de_row1_col103 {\n",
       "  background-color: #ffe1e1;\n",
       "  color: #000000;\n",
       "}\n",
       "#T_7d7de_row0_col33, #T_7d7de_row0_col127, #T_7d7de_row1_col33, #T_7d7de_row1_col127 {\n",
       "  background-color: #f5f5ff;\n",
       "  color: #000000;\n",
       "}\n",
       "#T_7d7de_row0_col34, #T_7d7de_row0_col77, #T_7d7de_row1_col34, #T_7d7de_row1_col77 {\n",
       "  background-color: #cdcdff;\n",
       "  color: #000000;\n",
       "}\n",
       "#T_7d7de_row0_col36, #T_7d7de_row0_col66, #T_7d7de_row0_col92, #T_7d7de_row0_col97, #T_7d7de_row1_col36, #T_7d7de_row1_col66, #T_7d7de_row1_col92, #T_7d7de_row1_col97 {\n",
       "  background-color: #ffc9c9;\n",
       "  color: #000000;\n",
       "}\n",
       "#T_7d7de_row0_col38, #T_7d7de_row1_col38 {\n",
       "  background-color: #8d8dff;\n",
       "  color: #f1f1f1;\n",
       "}\n",
       "#T_7d7de_row0_col39, #T_7d7de_row0_col93, #T_7d7de_row1_col39, #T_7d7de_row1_col93 {\n",
       "  background-color: #f9f9ff;\n",
       "  color: #000000;\n",
       "}\n",
       "#T_7d7de_row0_col42, #T_7d7de_row0_col125, #T_7d7de_row1_col42, #T_7d7de_row1_col125 {\n",
       "  background-color: #ffeded;\n",
       "  color: #000000;\n",
       "}\n",
       "#T_7d7de_row0_col43, #T_7d7de_row1_col43 {\n",
       "  background-color: #ffc5c5;\n",
       "  color: #000000;\n",
       "}\n",
       "#T_7d7de_row0_col46, #T_7d7de_row1_col46 {\n",
       "  background-color: #d1d1ff;\n",
       "  color: #000000;\n",
       "}\n",
       "#T_7d7de_row0_col49, #T_7d7de_row1_col49 {\n",
       "  background-color: #00004c;\n",
       "  color: #f1f1f1;\n",
       "}\n",
       "#T_7d7de_row0_col53, #T_7d7de_row0_col54, #T_7d7de_row0_col65, #T_7d7de_row0_col76, #T_7d7de_row0_col98, #T_7d7de_row0_col118, #T_7d7de_row0_col131, #T_7d7de_row1_col53, #T_7d7de_row1_col54, #T_7d7de_row1_col65, #T_7d7de_row1_col76, #T_7d7de_row1_col98, #T_7d7de_row1_col118, #T_7d7de_row1_col131 {\n",
       "  background-color: #ffe9e9;\n",
       "  color: #000000;\n",
       "}\n",
       "#T_7d7de_row0_col55, #T_7d7de_row0_col74, #T_7d7de_row0_col114, #T_7d7de_row0_col115, #T_7d7de_row0_col136, #T_7d7de_row1_col55, #T_7d7de_row1_col74, #T_7d7de_row1_col114, #T_7d7de_row1_col115, #T_7d7de_row1_col136 {\n",
       "  background-color: #ffdddd;\n",
       "  color: #000000;\n",
       "}\n",
       "#T_7d7de_row0_col57, #T_7d7de_row0_col120, #T_7d7de_row0_col126, #T_7d7de_row1_col57, #T_7d7de_row1_col120, #T_7d7de_row1_col126 {\n",
       "  background-color: #e5e5ff;\n",
       "  color: #000000;\n",
       "}\n",
       "#T_7d7de_row0_col61, #T_7d7de_row0_col73, #T_7d7de_row0_col111, #T_7d7de_row0_col112, #T_7d7de_row0_col130, #T_7d7de_row1_col61, #T_7d7de_row1_col73, #T_7d7de_row1_col111, #T_7d7de_row1_col112, #T_7d7de_row1_col130 {\n",
       "  background-color: #d5d5ff;\n",
       "  color: #000000;\n",
       "}\n",
       "#T_7d7de_row0_col67, #T_7d7de_row1_col67 {\n",
       "  background-color: #c5c5ff;\n",
       "  color: #000000;\n",
       "}\n",
       "#T_7d7de_row0_col71, #T_7d7de_row0_col122, #T_7d7de_row1_col71, #T_7d7de_row1_col122 {\n",
       "  background-color: #fdfdff;\n",
       "  color: #000000;\n",
       "}\n",
       "#T_7d7de_row0_col81, #T_7d7de_row1_col81 {\n",
       "  background-color: #a9a9ff;\n",
       "  color: #000000;\n",
       "}\n",
       "#T_7d7de_row0_col82, #T_7d7de_row1_col82 {\n",
       "  background-color: #ff9191;\n",
       "  color: #000000;\n",
       "}\n",
       "#T_7d7de_row0_col84, #T_7d7de_row1_col84 {\n",
       "  background-color: #ffb1b1;\n",
       "  color: #000000;\n",
       "}\n",
       "#T_7d7de_row0_col96, #T_7d7de_row1_col96 {\n",
       "  background-color: #9595ff;\n",
       "  color: #f1f1f1;\n",
       "}\n",
       "#T_7d7de_row0_col99, #T_7d7de_row0_col124, #T_7d7de_row0_col135, #T_7d7de_row1_col99, #T_7d7de_row1_col124, #T_7d7de_row1_col135 {\n",
       "  background-color: #fff9f9;\n",
       "  color: #000000;\n",
       "}\n",
       "#T_7d7de_row0_col106, #T_7d7de_row0_col119, #T_7d7de_row1_col106, #T_7d7de_row1_col119 {\n",
       "  background-color: #d9d9ff;\n",
       "  color: #000000;\n",
       "}\n",
       "#T_7d7de_row0_col107, #T_7d7de_row0_col128, #T_7d7de_row1_col107, #T_7d7de_row1_col128 {\n",
       "  background-color: #ffa5a5;\n",
       "  color: #000000;\n",
       "}\n",
       "#T_7d7de_row0_col129, #T_7d7de_row1_col129 {\n",
       "  background-color: #3535ff;\n",
       "  color: #f1f1f1;\n",
       "}\n",
       "#T_7d7de_row0_col132, #T_7d7de_row1_col132 {\n",
       "  background-color: #ffcdcd;\n",
       "  color: #000000;\n",
       "}\n",
       "#T_7d7de_row0_col134, #T_7d7de_row1_col134 {\n",
       "  background-color: #a5a5ff;\n",
       "  color: #000000;\n",
       "}\n",
       "#T_7d7de_row0_col137, #T_7d7de_row1_col137 {\n",
       "  background-color: #ffbdbd;\n",
       "  color: #000000;\n",
       "}\n",
       "</style>\n",
       "<table id=\"T_7d7de\">\n",
       "  <thead>\n",
       "    <tr>\n",
       "      <th class=\"blank level0\" >&nbsp;</th>\n",
       "      <th id=\"T_7d7de_level0_col0\" class=\"col_heading level0 col0\" >0</th>\n",
       "      <th id=\"T_7d7de_level0_col1\" class=\"col_heading level0 col1\" >1</th>\n",
       "      <th id=\"T_7d7de_level0_col2\" class=\"col_heading level0 col2\" >2</th>\n",
       "      <th id=\"T_7d7de_level0_col3\" class=\"col_heading level0 col3\" >3</th>\n",
       "      <th id=\"T_7d7de_level0_col4\" class=\"col_heading level0 col4\" >4</th>\n",
       "      <th id=\"T_7d7de_level0_col5\" class=\"col_heading level0 col5\" >5</th>\n",
       "      <th id=\"T_7d7de_level0_col6\" class=\"col_heading level0 col6\" >6</th>\n",
       "      <th id=\"T_7d7de_level0_col7\" class=\"col_heading level0 col7\" >7</th>\n",
       "      <th id=\"T_7d7de_level0_col8\" class=\"col_heading level0 col8\" >8</th>\n",
       "      <th id=\"T_7d7de_level0_col9\" class=\"col_heading level0 col9\" >9</th>\n",
       "      <th id=\"T_7d7de_level0_col10\" class=\"col_heading level0 col10\" >10</th>\n",
       "      <th id=\"T_7d7de_level0_col11\" class=\"col_heading level0 col11\" >11</th>\n",
       "      <th id=\"T_7d7de_level0_col12\" class=\"col_heading level0 col12\" >12</th>\n",
       "      <th id=\"T_7d7de_level0_col13\" class=\"col_heading level0 col13\" >13</th>\n",
       "      <th id=\"T_7d7de_level0_col14\" class=\"col_heading level0 col14\" >14</th>\n",
       "      <th id=\"T_7d7de_level0_col15\" class=\"col_heading level0 col15\" >15</th>\n",
       "      <th id=\"T_7d7de_level0_col16\" class=\"col_heading level0 col16\" >16</th>\n",
       "      <th id=\"T_7d7de_level0_col17\" class=\"col_heading level0 col17\" >17</th>\n",
       "      <th id=\"T_7d7de_level0_col18\" class=\"col_heading level0 col18\" >18</th>\n",
       "      <th id=\"T_7d7de_level0_col19\" class=\"col_heading level0 col19\" >19</th>\n",
       "      <th id=\"T_7d7de_level0_col20\" class=\"col_heading level0 col20\" >20</th>\n",
       "      <th id=\"T_7d7de_level0_col21\" class=\"col_heading level0 col21\" >21</th>\n",
       "      <th id=\"T_7d7de_level0_col22\" class=\"col_heading level0 col22\" >22</th>\n",
       "      <th id=\"T_7d7de_level0_col23\" class=\"col_heading level0 col23\" >23</th>\n",
       "      <th id=\"T_7d7de_level0_col24\" class=\"col_heading level0 col24\" >24</th>\n",
       "      <th id=\"T_7d7de_level0_col25\" class=\"col_heading level0 col25\" >25</th>\n",
       "      <th id=\"T_7d7de_level0_col26\" class=\"col_heading level0 col26\" >26</th>\n",
       "      <th id=\"T_7d7de_level0_col27\" class=\"col_heading level0 col27\" >27</th>\n",
       "      <th id=\"T_7d7de_level0_col28\" class=\"col_heading level0 col28\" >28</th>\n",
       "      <th id=\"T_7d7de_level0_col29\" class=\"col_heading level0 col29\" >29</th>\n",
       "      <th id=\"T_7d7de_level0_col30\" class=\"col_heading level0 col30\" >30</th>\n",
       "      <th id=\"T_7d7de_level0_col31\" class=\"col_heading level0 col31\" >31</th>\n",
       "      <th id=\"T_7d7de_level0_col32\" class=\"col_heading level0 col32\" >32</th>\n",
       "      <th id=\"T_7d7de_level0_col33\" class=\"col_heading level0 col33\" >33</th>\n",
       "      <th id=\"T_7d7de_level0_col34\" class=\"col_heading level0 col34\" >34</th>\n",
       "      <th id=\"T_7d7de_level0_col35\" class=\"col_heading level0 col35\" >35</th>\n",
       "      <th id=\"T_7d7de_level0_col36\" class=\"col_heading level0 col36\" >36</th>\n",
       "      <th id=\"T_7d7de_level0_col37\" class=\"col_heading level0 col37\" >37</th>\n",
       "      <th id=\"T_7d7de_level0_col38\" class=\"col_heading level0 col38\" >38</th>\n",
       "      <th id=\"T_7d7de_level0_col39\" class=\"col_heading level0 col39\" >39</th>\n",
       "      <th id=\"T_7d7de_level0_col40\" class=\"col_heading level0 col40\" >40</th>\n",
       "      <th id=\"T_7d7de_level0_col41\" class=\"col_heading level0 col41\" >41</th>\n",
       "      <th id=\"T_7d7de_level0_col42\" class=\"col_heading level0 col42\" >42</th>\n",
       "      <th id=\"T_7d7de_level0_col43\" class=\"col_heading level0 col43\" >43</th>\n",
       "      <th id=\"T_7d7de_level0_col44\" class=\"col_heading level0 col44\" >44</th>\n",
       "      <th id=\"T_7d7de_level0_col45\" class=\"col_heading level0 col45\" >45</th>\n",
       "      <th id=\"T_7d7de_level0_col46\" class=\"col_heading level0 col46\" >46</th>\n",
       "      <th id=\"T_7d7de_level0_col47\" class=\"col_heading level0 col47\" >47</th>\n",
       "      <th id=\"T_7d7de_level0_col48\" class=\"col_heading level0 col48\" >48</th>\n",
       "      <th id=\"T_7d7de_level0_col49\" class=\"col_heading level0 col49\" >49</th>\n",
       "      <th id=\"T_7d7de_level0_col50\" class=\"col_heading level0 col50\" >50</th>\n",
       "      <th id=\"T_7d7de_level0_col51\" class=\"col_heading level0 col51\" >51</th>\n",
       "      <th id=\"T_7d7de_level0_col52\" class=\"col_heading level0 col52\" >52</th>\n",
       "      <th id=\"T_7d7de_level0_col53\" class=\"col_heading level0 col53\" >53</th>\n",
       "      <th id=\"T_7d7de_level0_col54\" class=\"col_heading level0 col54\" >54</th>\n",
       "      <th id=\"T_7d7de_level0_col55\" class=\"col_heading level0 col55\" >55</th>\n",
       "      <th id=\"T_7d7de_level0_col56\" class=\"col_heading level0 col56\" >56</th>\n",
       "      <th id=\"T_7d7de_level0_col57\" class=\"col_heading level0 col57\" >57</th>\n",
       "      <th id=\"T_7d7de_level0_col58\" class=\"col_heading level0 col58\" >58</th>\n",
       "      <th id=\"T_7d7de_level0_col59\" class=\"col_heading level0 col59\" >59</th>\n",
       "      <th id=\"T_7d7de_level0_col60\" class=\"col_heading level0 col60\" >60</th>\n",
       "      <th id=\"T_7d7de_level0_col61\" class=\"col_heading level0 col61\" >61</th>\n",
       "      <th id=\"T_7d7de_level0_col62\" class=\"col_heading level0 col62\" >62</th>\n",
       "      <th id=\"T_7d7de_level0_col63\" class=\"col_heading level0 col63\" >63</th>\n",
       "      <th id=\"T_7d7de_level0_col64\" class=\"col_heading level0 col64\" >64</th>\n",
       "      <th id=\"T_7d7de_level0_col65\" class=\"col_heading level0 col65\" >65</th>\n",
       "      <th id=\"T_7d7de_level0_col66\" class=\"col_heading level0 col66\" >66</th>\n",
       "      <th id=\"T_7d7de_level0_col67\" class=\"col_heading level0 col67\" >67</th>\n",
       "      <th id=\"T_7d7de_level0_col68\" class=\"col_heading level0 col68\" >68</th>\n",
       "      <th id=\"T_7d7de_level0_col69\" class=\"col_heading level0 col69\" >69</th>\n",
       "      <th id=\"T_7d7de_level0_col70\" class=\"col_heading level0 col70\" >70</th>\n",
       "      <th id=\"T_7d7de_level0_col71\" class=\"col_heading level0 col71\" >71</th>\n",
       "      <th id=\"T_7d7de_level0_col72\" class=\"col_heading level0 col72\" >72</th>\n",
       "      <th id=\"T_7d7de_level0_col73\" class=\"col_heading level0 col73\" >73</th>\n",
       "      <th id=\"T_7d7de_level0_col74\" class=\"col_heading level0 col74\" >74</th>\n",
       "      <th id=\"T_7d7de_level0_col75\" class=\"col_heading level0 col75\" >75</th>\n",
       "      <th id=\"T_7d7de_level0_col76\" class=\"col_heading level0 col76\" >76</th>\n",
       "      <th id=\"T_7d7de_level0_col77\" class=\"col_heading level0 col77\" >77</th>\n",
       "      <th id=\"T_7d7de_level0_col78\" class=\"col_heading level0 col78\" >78</th>\n",
       "      <th id=\"T_7d7de_level0_col79\" class=\"col_heading level0 col79\" >79</th>\n",
       "      <th id=\"T_7d7de_level0_col80\" class=\"col_heading level0 col80\" >80</th>\n",
       "      <th id=\"T_7d7de_level0_col81\" class=\"col_heading level0 col81\" >81</th>\n",
       "      <th id=\"T_7d7de_level0_col82\" class=\"col_heading level0 col82\" >82</th>\n",
       "      <th id=\"T_7d7de_level0_col83\" class=\"col_heading level0 col83\" >83</th>\n",
       "      <th id=\"T_7d7de_level0_col84\" class=\"col_heading level0 col84\" >84</th>\n",
       "      <th id=\"T_7d7de_level0_col85\" class=\"col_heading level0 col85\" >85</th>\n",
       "      <th id=\"T_7d7de_level0_col86\" class=\"col_heading level0 col86\" >86</th>\n",
       "      <th id=\"T_7d7de_level0_col87\" class=\"col_heading level0 col87\" >87</th>\n",
       "      <th id=\"T_7d7de_level0_col88\" class=\"col_heading level0 col88\" >88</th>\n",
       "      <th id=\"T_7d7de_level0_col89\" class=\"col_heading level0 col89\" >89</th>\n",
       "      <th id=\"T_7d7de_level0_col90\" class=\"col_heading level0 col90\" >90</th>\n",
       "      <th id=\"T_7d7de_level0_col91\" class=\"col_heading level0 col91\" >91</th>\n",
       "      <th id=\"T_7d7de_level0_col92\" class=\"col_heading level0 col92\" >92</th>\n",
       "      <th id=\"T_7d7de_level0_col93\" class=\"col_heading level0 col93\" >93</th>\n",
       "      <th id=\"T_7d7de_level0_col94\" class=\"col_heading level0 col94\" >94</th>\n",
       "      <th id=\"T_7d7de_level0_col95\" class=\"col_heading level0 col95\" >95</th>\n",
       "      <th id=\"T_7d7de_level0_col96\" class=\"col_heading level0 col96\" >96</th>\n",
       "      <th id=\"T_7d7de_level0_col97\" class=\"col_heading level0 col97\" >97</th>\n",
       "      <th id=\"T_7d7de_level0_col98\" class=\"col_heading level0 col98\" >98</th>\n",
       "      <th id=\"T_7d7de_level0_col99\" class=\"col_heading level0 col99\" >99</th>\n",
       "      <th id=\"T_7d7de_level0_col100\" class=\"col_heading level0 col100\" >100</th>\n",
       "      <th id=\"T_7d7de_level0_col101\" class=\"col_heading level0 col101\" >101</th>\n",
       "      <th id=\"T_7d7de_level0_col102\" class=\"col_heading level0 col102\" >102</th>\n",
       "      <th id=\"T_7d7de_level0_col103\" class=\"col_heading level0 col103\" >103</th>\n",
       "      <th id=\"T_7d7de_level0_col104\" class=\"col_heading level0 col104\" >104</th>\n",
       "      <th id=\"T_7d7de_level0_col105\" class=\"col_heading level0 col105\" >105</th>\n",
       "      <th id=\"T_7d7de_level0_col106\" class=\"col_heading level0 col106\" >106</th>\n",
       "      <th id=\"T_7d7de_level0_col107\" class=\"col_heading level0 col107\" >107</th>\n",
       "      <th id=\"T_7d7de_level0_col108\" class=\"col_heading level0 col108\" >108</th>\n",
       "      <th id=\"T_7d7de_level0_col109\" class=\"col_heading level0 col109\" >109</th>\n",
       "      <th id=\"T_7d7de_level0_col110\" class=\"col_heading level0 col110\" >110</th>\n",
       "      <th id=\"T_7d7de_level0_col111\" class=\"col_heading level0 col111\" >111</th>\n",
       "      <th id=\"T_7d7de_level0_col112\" class=\"col_heading level0 col112\" >112</th>\n",
       "      <th id=\"T_7d7de_level0_col113\" class=\"col_heading level0 col113\" >113</th>\n",
       "      <th id=\"T_7d7de_level0_col114\" class=\"col_heading level0 col114\" >114</th>\n",
       "      <th id=\"T_7d7de_level0_col115\" class=\"col_heading level0 col115\" >115</th>\n",
       "      <th id=\"T_7d7de_level0_col116\" class=\"col_heading level0 col116\" >116</th>\n",
       "      <th id=\"T_7d7de_level0_col117\" class=\"col_heading level0 col117\" >117</th>\n",
       "      <th id=\"T_7d7de_level0_col118\" class=\"col_heading level0 col118\" >118</th>\n",
       "      <th id=\"T_7d7de_level0_col119\" class=\"col_heading level0 col119\" >119</th>\n",
       "      <th id=\"T_7d7de_level0_col120\" class=\"col_heading level0 col120\" >120</th>\n",
       "      <th id=\"T_7d7de_level0_col121\" class=\"col_heading level0 col121\" >121</th>\n",
       "      <th id=\"T_7d7de_level0_col122\" class=\"col_heading level0 col122\" >122</th>\n",
       "      <th id=\"T_7d7de_level0_col123\" class=\"col_heading level0 col123\" >123</th>\n",
       "      <th id=\"T_7d7de_level0_col124\" class=\"col_heading level0 col124\" >124</th>\n",
       "      <th id=\"T_7d7de_level0_col125\" class=\"col_heading level0 col125\" >125</th>\n",
       "      <th id=\"T_7d7de_level0_col126\" class=\"col_heading level0 col126\" >126</th>\n",
       "      <th id=\"T_7d7de_level0_col127\" class=\"col_heading level0 col127\" >127</th>\n",
       "      <th id=\"T_7d7de_level0_col128\" class=\"col_heading level0 col128\" >128</th>\n",
       "      <th id=\"T_7d7de_level0_col129\" class=\"col_heading level0 col129\" >129</th>\n",
       "      <th id=\"T_7d7de_level0_col130\" class=\"col_heading level0 col130\" >130</th>\n",
       "      <th id=\"T_7d7de_level0_col131\" class=\"col_heading level0 col131\" >131</th>\n",
       "      <th id=\"T_7d7de_level0_col132\" class=\"col_heading level0 col132\" >132</th>\n",
       "      <th id=\"T_7d7de_level0_col133\" class=\"col_heading level0 col133\" >133</th>\n",
       "      <th id=\"T_7d7de_level0_col134\" class=\"col_heading level0 col134\" >134</th>\n",
       "      <th id=\"T_7d7de_level0_col135\" class=\"col_heading level0 col135\" >135</th>\n",
       "      <th id=\"T_7d7de_level0_col136\" class=\"col_heading level0 col136\" >136</th>\n",
       "      <th id=\"T_7d7de_level0_col137\" class=\"col_heading level0 col137\" >137</th>\n",
       "      <th id=\"T_7d7de_level0_col138\" class=\"col_heading level0 col138\" >138</th>\n",
       "    </tr>\n",
       "  </thead>\n",
       "  <tbody>\n",
       "    <tr>\n",
       "      <th id=\"T_7d7de_level0_row0\" class=\"row_heading level0 row0\" >token</th>\n",
       "      <td id=\"T_7d7de_row0_col0\" class=\"data row0 col0\" >i</td>\n",
       "      <td id=\"T_7d7de_row0_col1\" class=\"data row0 col1\" >think</td>\n",
       "      <td id=\"T_7d7de_row0_col2\" class=\"data row0 col2\" >dirty</td>\n",
       "      <td id=\"T_7d7de_row0_col3\" class=\"data row0 col3\" >dancing</td>\n",
       "      <td id=\"T_7d7de_row0_col4\" class=\"data row0 col4\" >was</td>\n",
       "      <td id=\"T_7d7de_row0_col5\" class=\"data row0 col5\" >a</td>\n",
       "      <td id=\"T_7d7de_row0_col6\" class=\"data row0 col6\" >great</td>\n",
       "      <td id=\"T_7d7de_row0_col7\" class=\"data row0 col7\" >movie</td>\n",
       "      <td id=\"T_7d7de_row0_col8\" class=\"data row0 col8\" >,</td>\n",
       "      <td id=\"T_7d7de_row0_col9\" class=\"data row0 col9\" >they</td>\n",
       "      <td id=\"T_7d7de_row0_col10\" class=\"data row0 col10\" >tried</td>\n",
       "      <td id=\"T_7d7de_row0_col11\" class=\"data row0 col11\" >to</td>\n",
       "      <td id=\"T_7d7de_row0_col12\" class=\"data row0 col12\" >make</td>\n",
       "      <td id=\"T_7d7de_row0_col13\" class=\"data row0 col13\" >another</td>\n",
       "      <td id=\"T_7d7de_row0_col14\" class=\"data row0 col14\" >one</td>\n",
       "      <td id=\"T_7d7de_row0_col15\" class=\"data row0 col15\" >havana</td>\n",
       "      <td id=\"T_7d7de_row0_col16\" class=\"data row0 col16\" >nights</td>\n",
       "      <td id=\"T_7d7de_row0_col17\" class=\"data row0 col17\" >which</td>\n",
       "      <td id=\"T_7d7de_row0_col18\" class=\"data row0 col18\" >was</td>\n",
       "      <td id=\"T_7d7de_row0_col19\" class=\"data row0 col19\" >good</td>\n",
       "      <td id=\"T_7d7de_row0_col20\" class=\"data row0 col20\" >but</td>\n",
       "      <td id=\"T_7d7de_row0_col21\" class=\"data row0 col21\" >it</td>\n",
       "      <td id=\"T_7d7de_row0_col22\" class=\"data row0 col22\" >was</td>\n",
       "      <td id=\"T_7d7de_row0_col23\" class=\"data row0 col23\" >nothing</td>\n",
       "      <td id=\"T_7d7de_row0_col24\" class=\"data row0 col24\" >like</td>\n",
       "      <td id=\"T_7d7de_row0_col25\" class=\"data row0 col25\" >dirty</td>\n",
       "      <td id=\"T_7d7de_row0_col26\" class=\"data row0 col26\" >dancing</td>\n",
       "      <td id=\"T_7d7de_row0_col27\" class=\"data row0 col27\" >.</td>\n",
       "      <td id=\"T_7d7de_row0_col28\" class=\"data row0 col28\" >i</td>\n",
       "      <td id=\"T_7d7de_row0_col29\" class=\"data row0 col29\" >would</td>\n",
       "      <td id=\"T_7d7de_row0_col30\" class=\"data row0 col30\" >like</td>\n",
       "      <td id=\"T_7d7de_row0_col31\" class=\"data row0 col31\" >to</td>\n",
       "      <td id=\"T_7d7de_row0_col32\" class=\"data row0 col32\" >see</td>\n",
       "      <td id=\"T_7d7de_row0_col33\" class=\"data row0 col33\" >another</td>\n",
       "      <td id=\"T_7d7de_row0_col34\" class=\"data row0 col34\" >dirty</td>\n",
       "      <td id=\"T_7d7de_row0_col35\" class=\"data row0 col35\" >dancing</td>\n",
       "      <td id=\"T_7d7de_row0_col36\" class=\"data row0 col36\" >with</td>\n",
       "      <td id=\"T_7d7de_row0_col37\" class=\"data row0 col37\" >the</td>\n",
       "      <td id=\"T_7d7de_row0_col38\" class=\"data row0 col38\" >same</td>\n",
       "      <td id=\"T_7d7de_row0_col39\" class=\"data row0 col39\" >people</td>\n",
       "      <td id=\"T_7d7de_row0_col40\" class=\"data row0 col40\" >.</td>\n",
       "      <td id=\"T_7d7de_row0_col41\" class=\"data row0 col41\" >without</td>\n",
       "      <td id=\"T_7d7de_row0_col42\" class=\"data row0 col42\" >them</td>\n",
       "      <td id=\"T_7d7de_row0_col43\" class=\"data row0 col43\" >i</td>\n",
       "      <td id=\"T_7d7de_row0_col44\" class=\"data row0 col44\" >think</td>\n",
       "      <td id=\"T_7d7de_row0_col45\" class=\"data row0 col45\" >it</td>\n",
       "      <td id=\"T_7d7de_row0_col46\" class=\"data row0 col46\" >would</td>\n",
       "      <td id=\"T_7d7de_row0_col47\" class=\"data row0 col47\" >be</td>\n",
       "      <td id=\"T_7d7de_row0_col48\" class=\"data row0 col48\" >a</td>\n",
       "      <td id=\"T_7d7de_row0_col49\" class=\"data row0 col49\" >mess</td>\n",
       "      <td id=\"T_7d7de_row0_col50\" class=\"data row0 col50\" >.</td>\n",
       "      <td id=\"T_7d7de_row0_col51\" class=\"data row0 col51\" >a</td>\n",
       "      <td id=\"T_7d7de_row0_col52\" class=\"data row0 col52\" >lot</td>\n",
       "      <td id=\"T_7d7de_row0_col53\" class=\"data row0 col53\" >of</td>\n",
       "      <td id=\"T_7d7de_row0_col54\" class=\"data row0 col54\" >times</td>\n",
       "      <td id=\"T_7d7de_row0_col55\" class=\"data row0 col55\" >movies</td>\n",
       "      <td id=\"T_7d7de_row0_col56\" class=\"data row0 col56\" >are</td>\n",
       "      <td id=\"T_7d7de_row0_col57\" class=\"data row0 col57\" >made</td>\n",
       "      <td id=\"T_7d7de_row0_col58\" class=\"data row0 col58\" >then</td>\n",
       "      <td id=\"T_7d7de_row0_col59\" class=\"data row0 col59\" >when</td>\n",
       "      <td id=\"T_7d7de_row0_col60\" class=\"data row0 col60\" >they</td>\n",
       "      <td id=\"T_7d7de_row0_col61\" class=\"data row0 col61\" >try</td>\n",
       "      <td id=\"T_7d7de_row0_col62\" class=\"data row0 col62\" >to</td>\n",
       "      <td id=\"T_7d7de_row0_col63\" class=\"data row0 col63\" >add</td>\n",
       "      <td id=\"T_7d7de_row0_col64\" class=\"data row0 col64\" >on</td>\n",
       "      <td id=\"T_7d7de_row0_col65\" class=\"data row0 col65\" >more</td>\n",
       "      <td id=\"T_7d7de_row0_col66\" class=\"data row0 col66\" >they</td>\n",
       "      <td id=\"T_7d7de_row0_col67\" class=\"data row0 col67\" >start</td>\n",
       "      <td id=\"T_7d7de_row0_col68\" class=\"data row0 col68\" >to</td>\n",
       "      <td id=\"T_7d7de_row0_col69\" class=\"data row0 col69\" >change</td>\n",
       "      <td id=\"T_7d7de_row0_col70\" class=\"data row0 col70\" >the</td>\n",
       "      <td id=\"T_7d7de_row0_col71\" class=\"data row0 col71\" >people</td>\n",
       "      <td id=\"T_7d7de_row0_col72\" class=\"data row0 col72\" >an</td>\n",
       "      <td id=\"T_7d7de_row0_col73\" class=\"data row0 col73\" >make</td>\n",
       "      <td id=\"T_7d7de_row0_col74\" class=\"data row0 col74\" >the</td>\n",
       "      <td id=\"T_7d7de_row0_col75\" class=\"data row0 col75\" >movies</td>\n",
       "      <td id=\"T_7d7de_row0_col76\" class=\"data row0 col76\" >go</td>\n",
       "      <td id=\"T_7d7de_row0_col77\" class=\"data row0 col77\" >down</td>\n",
       "      <td id=\"T_7d7de_row0_col78\" class=\"data row0 col78\" >hill</td>\n",
       "      <td id=\"T_7d7de_row0_col79\" class=\"data row0 col79\" >.</td>\n",
       "      <td id=\"T_7d7de_row0_col80\" class=\"data row0 col80\" >i</td>\n",
       "      <td id=\"T_7d7de_row0_col81\" class=\"data row0 col81\" >would</td>\n",
       "      <td id=\"T_7d7de_row0_col82\" class=\"data row0 col82\" >love</td>\n",
       "      <td id=\"T_7d7de_row0_col83\" class=\"data row0 col83\" >to</td>\n",
       "      <td id=\"T_7d7de_row0_col84\" class=\"data row0 col84\" >see</td>\n",
       "      <td id=\"T_7d7de_row0_col85\" class=\"data row0 col85\" >dirty</td>\n",
       "      <td id=\"T_7d7de_row0_col86\" class=\"data row0 col86\" >dancing</td>\n",
       "      <td id=\"T_7d7de_row0_col87\" class=\"data row0 col87\" >have</td>\n",
       "      <td id=\"T_7d7de_row0_col88\" class=\"data row0 col88\" >another</td>\n",
       "      <td id=\"T_7d7de_row0_col89\" class=\"data row0 col89\" >one</td>\n",
       "      <td id=\"T_7d7de_row0_col90\" class=\"data row0 col90\" >to</td>\n",
       "      <td id=\"T_7d7de_row0_col91\" class=\"data row0 col91\" >see</td>\n",
       "      <td id=\"T_7d7de_row0_col92\" class=\"data row0 col92\" >what</td>\n",
       "      <td id=\"T_7d7de_row0_col93\" class=\"data row0 col93\" >happened</td>\n",
       "      <td id=\"T_7d7de_row0_col94\" class=\"data row0 col94\" >after</td>\n",
       "      <td id=\"T_7d7de_row0_col95\" class=\"data row0 col95\" >they</td>\n",
       "      <td id=\"T_7d7de_row0_col96\" class=\"data row0 col96\" >were</td>\n",
       "      <td id=\"T_7d7de_row0_col97\" class=\"data row0 col97\" >able</td>\n",
       "      <td id=\"T_7d7de_row0_col98\" class=\"data row0 col98\" >to</td>\n",
       "      <td id=\"T_7d7de_row0_col99\" class=\"data row0 col99\" >be</td>\n",
       "      <td id=\"T_7d7de_row0_col100\" class=\"data row0 col100\" >together</td>\n",
       "      <td id=\"T_7d7de_row0_col101\" class=\"data row0 col101\" >.</td>\n",
       "      <td id=\"T_7d7de_row0_col102\" class=\"data row0 col102\" >patrick</td>\n",
       "      <td id=\"T_7d7de_row0_col103\" class=\"data row0 col103\" >an</td>\n",
       "      <td id=\"T_7d7de_row0_col104\" class=\"data row0 col104\" >jennifer</td>\n",
       "      <td id=\"T_7d7de_row0_col105\" class=\"data row0 col105\" >did</td>\n",
       "      <td id=\"T_7d7de_row0_col106\" class=\"data row0 col106\" >so</td>\n",
       "      <td id=\"T_7d7de_row0_col107\" class=\"data row0 col107\" >well</td>\n",
       "      <td id=\"T_7d7de_row0_col108\" class=\"data row0 col108\" >together</td>\n",
       "      <td id=\"T_7d7de_row0_col109\" class=\"data row0 col109\" >.</td>\n",
       "      <td id=\"T_7d7de_row0_col110\" class=\"data row0 col110\" >this</td>\n",
       "      <td id=\"T_7d7de_row0_col111\" class=\"data row0 col111\" >movie</td>\n",
       "      <td id=\"T_7d7de_row0_col112\" class=\"data row0 col112\" >was</td>\n",
       "      <td id=\"T_7d7de_row0_col113\" class=\"data row0 col113\" >made</td>\n",
       "      <td id=\"T_7d7de_row0_col114\" class=\"data row0 col114\" >in</td>\n",
       "      <td id=\"T_7d7de_row0_col115\" class=\"data row0 col115\" >1997</td>\n",
       "      <td id=\"T_7d7de_row0_col116\" class=\"data row0 col116\" >its</td>\n",
       "      <td id=\"T_7d7de_row0_col117\" class=\"data row0 col117\" >time</td>\n",
       "      <td id=\"T_7d7de_row0_col118\" class=\"data row0 col118\" >to</td>\n",
       "      <td id=\"T_7d7de_row0_col119\" class=\"data row0 col119\" >make</td>\n",
       "      <td id=\"T_7d7de_row0_col120\" class=\"data row0 col120\" >another</td>\n",
       "      <td id=\"T_7d7de_row0_col121\" class=\"data row0 col121\" >one</td>\n",
       "      <td id=\"T_7d7de_row0_col122\" class=\"data row0 col122\" >.</td>\n",
       "      <td id=\"T_7d7de_row0_col123\" class=\"data row0 col123\" >but</td>\n",
       "      <td id=\"T_7d7de_row0_col124\" class=\"data row0 col124\" >this</td>\n",
       "      <td id=\"T_7d7de_row0_col125\" class=\"data row0 col125\" >time</td>\n",
       "      <td id=\"T_7d7de_row0_col126\" class=\"data row0 col126\" >start</td>\n",
       "      <td id=\"T_7d7de_row0_col127\" class=\"data row0 col127\" >where</td>\n",
       "      <td id=\"T_7d7de_row0_col128\" class=\"data row0 col128\" >it</td>\n",
       "      <td id=\"T_7d7de_row0_col129\" class=\"data row0 col129\" >left</td>\n",
       "      <td id=\"T_7d7de_row0_col130\" class=\"data row0 col130\" >off</td>\n",
       "      <td id=\"T_7d7de_row0_col131\" class=\"data row0 col131\" >an</td>\n",
       "      <td id=\"T_7d7de_row0_col132\" class=\"data row0 col132\" >keep</td>\n",
       "      <td id=\"T_7d7de_row0_col133\" class=\"data row0 col133\" >the</td>\n",
       "      <td id=\"T_7d7de_row0_col134\" class=\"data row0 col134\" >same</td>\n",
       "      <td id=\"T_7d7de_row0_col135\" class=\"data row0 col135\" >people</td>\n",
       "      <td id=\"T_7d7de_row0_col136\" class=\"data row0 col136\" >in</td>\n",
       "      <td id=\"T_7d7de_row0_col137\" class=\"data row0 col137\" >it</td>\n",
       "      <td id=\"T_7d7de_row0_col138\" class=\"data row0 col138\" >.</td>\n",
       "    </tr>\n",
       "    <tr>\n",
       "      <th id=\"T_7d7de_level0_row1\" class=\"row_heading level0 row1\" >salience</th>\n",
       "      <td id=\"T_7d7de_row1_col0\" class=\"data row1 col0\" >0.014261</td>\n",
       "      <td id=\"T_7d7de_row1_col1\" class=\"data row1 col1\" >-0.002992</td>\n",
       "      <td id=\"T_7d7de_row1_col2\" class=\"data row1 col2\" >-0.004922</td>\n",
       "      <td id=\"T_7d7de_row1_col3\" class=\"data row1 col3\" >0.004781</td>\n",
       "      <td id=\"T_7d7de_row1_col4\" class=\"data row1 col4\" >-0.005915</td>\n",
       "      <td id=\"T_7d7de_row1_col5\" class=\"data row1 col5\" >0.006495</td>\n",
       "      <td id=\"T_7d7de_row1_col6\" class=\"data row1 col6\" >0.030867</td>\n",
       "      <td id=\"T_7d7de_row1_col7\" class=\"data row1 col7\" >-0.003785</td>\n",
       "      <td id=\"T_7d7de_row1_col8\" class=\"data row1 col8\" >0.006632</td>\n",
       "      <td id=\"T_7d7de_row1_col9\" class=\"data row1 col9\" >0.007742</td>\n",
       "      <td id=\"T_7d7de_row1_col10\" class=\"data row1 col10\" >-0.039481</td>\n",
       "      <td id=\"T_7d7de_row1_col11\" class=\"data row1 col11\" >0.004610</td>\n",
       "      <td id=\"T_7d7de_row1_col12\" class=\"data row1 col12\" >-0.004976</td>\n",
       "      <td id=\"T_7d7de_row1_col13\" class=\"data row1 col13\" >-0.003500</td>\n",
       "      <td id=\"T_7d7de_row1_col14\" class=\"data row1 col14\" >0.001578</td>\n",
       "      <td id=\"T_7d7de_row1_col15\" class=\"data row1 col15\" >0.016113</td>\n",
       "      <td id=\"T_7d7de_row1_col16\" class=\"data row1 col16\" >0.002132</td>\n",
       "      <td id=\"T_7d7de_row1_col17\" class=\"data row1 col17\" >0.000228</td>\n",
       "      <td id=\"T_7d7de_row1_col18\" class=\"data row1 col18\" >-0.005390</td>\n",
       "      <td id=\"T_7d7de_row1_col19\" class=\"data row1 col19\" >0.011774</td>\n",
       "      <td id=\"T_7d7de_row1_col20\" class=\"data row1 col20\" >0.002035</td>\n",
       "      <td id=\"T_7d7de_row1_col21\" class=\"data row1 col21\" >0.012808</td>\n",
       "      <td id=\"T_7d7de_row1_col22\" class=\"data row1 col22\" >-0.005836</td>\n",
       "      <td id=\"T_7d7de_row1_col23\" class=\"data row1 col23\" >-0.027479</td>\n",
       "      <td id=\"T_7d7de_row1_col24\" class=\"data row1 col24\" >0.001626</td>\n",
       "      <td id=\"T_7d7de_row1_col25\" class=\"data row1 col25\" >-0.002677</td>\n",
       "      <td id=\"T_7d7de_row1_col26\" class=\"data row1 col26\" >0.007186</td>\n",
       "      <td id=\"T_7d7de_row1_col27\" class=\"data row1 col27\" >0.001948</td>\n",
       "      <td id=\"T_7d7de_row1_col28\" class=\"data row1 col28\" >0.010695</td>\n",
       "      <td id=\"T_7d7de_row1_col29\" class=\"data row1 col29\" >-0.011365</td>\n",
       "      <td id=\"T_7d7de_row1_col30\" class=\"data row1 col30\" >-0.003171</td>\n",
       "      <td id=\"T_7d7de_row1_col31\" class=\"data row1 col31\" >0.005458</td>\n",
       "      <td id=\"T_7d7de_row1_col32\" class=\"data row1 col32\" >0.012721</td>\n",
       "      <td id=\"T_7d7de_row1_col33\" class=\"data row1 col33\" >-0.001787</td>\n",
       "      <td id=\"T_7d7de_row1_col34\" class=\"data row1 col34\" >-0.008362</td>\n",
       "      <td id=\"T_7d7de_row1_col35\" class=\"data row1 col35\" >0.002474</td>\n",
       "      <td id=\"T_7d7de_row1_col36\" class=\"data row1 col36\" >0.009434</td>\n",
       "      <td id=\"T_7d7de_row1_col37\" class=\"data row1 col37\" >0.006574</td>\n",
       "      <td id=\"T_7d7de_row1_col38\" class=\"data row1 col38\" >-0.019470</td>\n",
       "      <td id=\"T_7d7de_row1_col39\" class=\"data row1 col39\" >-0.001208</td>\n",
       "      <td id=\"T_7d7de_row1_col40\" class=\"data row1 col40\" >0.002534</td>\n",
       "      <td id=\"T_7d7de_row1_col41\" class=\"data row1 col41\" >0.005287</td>\n",
       "      <td id=\"T_7d7de_row1_col42\" class=\"data row1 col42\" >0.003309</td>\n",
       "      <td id=\"T_7d7de_row1_col43\" class=\"data row1 col43\" >0.009682</td>\n",
       "      <td id=\"T_7d7de_row1_col44\" class=\"data row1 col44\" >-0.003376</td>\n",
       "      <td id=\"T_7d7de_row1_col45\" class=\"data row1 col45\" >0.014403</td>\n",
       "      <td id=\"T_7d7de_row1_col46\" class=\"data row1 col46\" >-0.007815</td>\n",
       "      <td id=\"T_7d7de_row1_col47\" class=\"data row1 col47\" >0.002027</td>\n",
       "      <td id=\"T_7d7de_row1_col48\" class=\"data row1 col48\" >0.004974</td>\n",
       "      <td id=\"T_7d7de_row1_col49\" class=\"data row1 col49\" >-0.088144</td>\n",
       "      <td id=\"T_7d7de_row1_col50\" class=\"data row1 col50\" >0.000333</td>\n",
       "      <td id=\"T_7d7de_row1_col51\" class=\"data row1 col51\" >0.002337</td>\n",
       "      <td id=\"T_7d7de_row1_col52\" class=\"data row1 col52\" >0.002136</td>\n",
       "      <td id=\"T_7d7de_row1_col53\" class=\"data row1 col53\" >0.003715</td>\n",
       "      <td id=\"T_7d7de_row1_col54\" class=\"data row1 col54\" >0.004052</td>\n",
       "      <td id=\"T_7d7de_row1_col55\" class=\"data row1 col55\" >0.006119</td>\n",
       "      <td id=\"T_7d7de_row1_col56\" class=\"data row1 col56\" >0.001460</td>\n",
       "      <td id=\"T_7d7de_row1_col57\" class=\"data row1 col57\" >-0.004209</td>\n",
       "      <td id=\"T_7d7de_row1_col58\" class=\"data row1 col58\" >-0.003757</td>\n",
       "      <td id=\"T_7d7de_row1_col59\" class=\"data row1 col59\" >-0.002320</td>\n",
       "      <td id=\"T_7d7de_row1_col60\" class=\"data row1 col60\" >0.007668</td>\n",
       "      <td id=\"T_7d7de_row1_col61\" class=\"data row1 col61\" >-0.007009</td>\n",
       "      <td id=\"T_7d7de_row1_col62\" class=\"data row1 col62\" >0.004578</td>\n",
       "      <td id=\"T_7d7de_row1_col63\" class=\"data row1 col63\" >-0.003606</td>\n",
       "      <td id=\"T_7d7de_row1_col64\" class=\"data row1 col64\" >0.007327</td>\n",
       "      <td id=\"T_7d7de_row1_col65\" class=\"data row1 col65\" >0.003783</td>\n",
       "      <td id=\"T_7d7de_row1_col66\" class=\"data row1 col66\" >0.009104</td>\n",
       "      <td id=\"T_7d7de_row1_col67\" class=\"data row1 col67\" >-0.010196</td>\n",
       "      <td id=\"T_7d7de_row1_col68\" class=\"data row1 col68\" >0.005207</td>\n",
       "      <td id=\"T_7d7de_row1_col69\" class=\"data row1 col69\" >-0.005893</td>\n",
       "      <td id=\"T_7d7de_row1_col70\" class=\"data row1 col70\" >0.006843</td>\n",
       "      <td id=\"T_7d7de_row1_col71\" class=\"data row1 col71\" >-0.000258</td>\n",
       "      <td id=\"T_7d7de_row1_col72\" class=\"data row1 col72\" >0.004638</td>\n",
       "      <td id=\"T_7d7de_row1_col73\" class=\"data row1 col73\" >-0.007329</td>\n",
       "      <td id=\"T_7d7de_row1_col74\" class=\"data row1 col74\" >0.005731</td>\n",
       "      <td id=\"T_7d7de_row1_col75\" class=\"data row1 col75\" >0.008050</td>\n",
       "      <td id=\"T_7d7de_row1_col76\" class=\"data row1 col76\" >0.003881</td>\n",
       "      <td id=\"T_7d7de_row1_col77\" class=\"data row1 col77\" >-0.008273</td>\n",
       "      <td id=\"T_7d7de_row1_col78\" class=\"data row1 col78\" >0.002511</td>\n",
       "      <td id=\"T_7d7de_row1_col79\" class=\"data row1 col79\" >0.000535</td>\n",
       "      <td id=\"T_7d7de_row1_col80\" class=\"data row1 col80\" >0.012032</td>\n",
       "      <td id=\"T_7d7de_row1_col81\" class=\"data row1 col81\" >-0.014477</td>\n",
       "      <td id=\"T_7d7de_row1_col82\" class=\"data row1 col82\" >0.019099</td>\n",
       "      <td id=\"T_7d7de_row1_col83\" class=\"data row1 col83\" >0.004208</td>\n",
       "      <td id=\"T_7d7de_row1_col84\" class=\"data row1 col84\" >0.013227</td>\n",
       "      <td id=\"T_7d7de_row1_col85\" class=\"data row1 col85\" >-0.005983</td>\n",
       "      <td id=\"T_7d7de_row1_col86\" class=\"data row1 col86\" >0.004206</td>\n",
       "      <td id=\"T_7d7de_row1_col87\" class=\"data row1 col87\" >-0.002678</td>\n",
       "      <td id=\"T_7d7de_row1_col88\" class=\"data row1 col88\" >-0.004822</td>\n",
       "      <td id=\"T_7d7de_row1_col89\" class=\"data row1 col89\" >0.002676</td>\n",
       "      <td id=\"T_7d7de_row1_col90\" class=\"data row1 col90\" >0.004588</td>\n",
       "      <td id=\"T_7d7de_row1_col91\" class=\"data row1 col91\" >0.012174</td>\n",
       "      <td id=\"T_7d7de_row1_col92\" class=\"data row1 col92\" >0.009509</td>\n",
       "      <td id=\"T_7d7de_row1_col93\" class=\"data row1 col93\" >-0.001103</td>\n",
       "      <td id=\"T_7d7de_row1_col94\" class=\"data row1 col94\" >0.001795</td>\n",
       "      <td id=\"T_7d7de_row1_col95\" class=\"data row1 col95\" >0.007059</td>\n",
       "      <td id=\"T_7d7de_row1_col96\" class=\"data row1 col96\" >-0.018109</td>\n",
       "      <td id=\"T_7d7de_row1_col97\" class=\"data row1 col97\" >0.009168</td>\n",
       "      <td id=\"T_7d7de_row1_col98\" class=\"data row1 col98\" >0.003942</td>\n",
       "      <td id=\"T_7d7de_row1_col99\" class=\"data row1 col99\" >0.000978</td>\n",
       "      <td id=\"T_7d7de_row1_col100\" class=\"data row1 col100\" >0.007944</td>\n",
       "      <td id=\"T_7d7de_row1_col101\" class=\"data row1 col101\" >0.000048</td>\n",
       "      <td id=\"T_7d7de_row1_col102\" class=\"data row1 col102\" >0.004205</td>\n",
       "      <td id=\"T_7d7de_row1_col103\" class=\"data row1 col103\" >0.005074</td>\n",
       "      <td id=\"T_7d7de_row1_col104\" class=\"data row1 col104\" >-0.002416</td>\n",
       "      <td id=\"T_7d7de_row1_col105\" class=\"data row1 col105\" >-0.002398</td>\n",
       "      <td id=\"T_7d7de_row1_col106\" class=\"data row1 col106\" >-0.006378</td>\n",
       "      <td id=\"T_7d7de_row1_col107\" class=\"data row1 col107\" >0.015768</td>\n",
       "      <td id=\"T_7d7de_row1_col108\" class=\"data row1 col108\" >0.007374</td>\n",
       "      <td id=\"T_7d7de_row1_col109\" class=\"data row1 col109\" >0.000037</td>\n",
       "      <td id=\"T_7d7de_row1_col110\" class=\"data row1 col110\" >0.000148</td>\n",
       "      <td id=\"T_7d7de_row1_col111\" class=\"data row1 col111\" >-0.007075</td>\n",
       "      <td id=\"T_7d7de_row1_col112\" class=\"data row1 col112\" >-0.007051</td>\n",
       "      <td id=\"T_7d7de_row1_col113\" class=\"data row1 col113\" >-0.006161</td>\n",
       "      <td id=\"T_7d7de_row1_col114\" class=\"data row1 col114\" >0.006151</td>\n",
       "      <td id=\"T_7d7de_row1_col115\" class=\"data row1 col115\" >0.006127</td>\n",
       "      <td id=\"T_7d7de_row1_col116\" class=\"data row1 col116\" >0.006926</td>\n",
       "      <td id=\"T_7d7de_row1_col117\" class=\"data row1 col117\" >0.002147</td>\n",
       "      <td id=\"T_7d7de_row1_col118\" class=\"data row1 col118\" >0.003812</td>\n",
       "      <td id=\"T_7d7de_row1_col119\" class=\"data row1 col119\" >-0.006555</td>\n",
       "      <td id=\"T_7d7de_row1_col120\" class=\"data row1 col120\" >-0.004629</td>\n",
       "      <td id=\"T_7d7de_row1_col121\" class=\"data row1 col121\" >0.002481</td>\n",
       "      <td id=\"T_7d7de_row1_col122\" class=\"data row1 col122\" >-0.000619</td>\n",
       "      <td id=\"T_7d7de_row1_col123\" class=\"data row1 col123\" >0.001660</td>\n",
       "      <td id=\"T_7d7de_row1_col124\" class=\"data row1 col124\" >0.001191</td>\n",
       "      <td id=\"T_7d7de_row1_col125\" class=\"data row1 col125\" >0.003227</td>\n",
       "      <td id=\"T_7d7de_row1_col126\" class=\"data row1 col126\" >-0.004275</td>\n",
       "      <td id=\"T_7d7de_row1_col127\" class=\"data row1 col127\" >-0.001467</td>\n",
       "      <td id=\"T_7d7de_row1_col128\" class=\"data row1 col128\" >0.015433</td>\n",
       "      <td id=\"T_7d7de_row1_col129\" class=\"data row1 col129\" >-0.034444</td>\n",
       "      <td id=\"T_7d7de_row1_col130\" class=\"data row1 col130\" >-0.007499</td>\n",
       "      <td id=\"T_7d7de_row1_col131\" class=\"data row1 col131\" >0.003535</td>\n",
       "      <td id=\"T_7d7de_row1_col132\" class=\"data row1 col132\" >0.008670</td>\n",
       "      <td id=\"T_7d7de_row1_col133\" class=\"data row1 col133\" >0.004167</td>\n",
       "      <td id=\"T_7d7de_row1_col134\" class=\"data row1 col134\" >-0.015571</td>\n",
       "      <td id=\"T_7d7de_row1_col135\" class=\"data row1 col135\" >0.001243</td>\n",
       "      <td id=\"T_7d7de_row1_col136\" class=\"data row1 col136\" >0.005982</td>\n",
       "      <td id=\"T_7d7de_row1_col137\" class=\"data row1 col137\" >0.011249</td>\n",
       "      <td id=\"T_7d7de_row1_col138\" class=\"data row1 col138\" >0.000131</td>\n",
       "    </tr>\n",
       "  </tbody>\n",
       "</table>\n"
      ],
      "text/plain": [
       "<pandas.io.formats.style.Styler at 0x7f064d8577c0>"
      ]
     },
     "execution_count": 330,
     "metadata": {},
     "output_type": "execute_result"
    }
   ],
   "source": [
    "df = pd.DataFrame(\n",
    "    [\n",
    "        ig_results[0][\"input_emb_grad\"].tokens,\n",
    "        ig_results[0][\"input_emb_grad\"].salience,\n",
    "    ],\n",
    "    index=[\"token\", \"salience\"],\n",
    ")\n",
    "\n",
    "salience_series = ig_results[0][\"input_emb_grad\"].salience\n",
    "abs_max = max(abs(salience_series.max()), abs(salience_series.min()))\n",
    "df.style.background_gradient(\n",
    "    axis=1,\n",
    "    gmap=df.loc[\"salience\", :].apply(pd.to_numeric),\n",
    "    vmin=-abs_max,\n",
    "    vmax=abs_max,\n",
    "    cmap=\"seismic\",\n",
    ")"
   ]
  },
  {
   "cell_type": "code",
   "execution_count": null,
   "id": "1c18be49-ab1a-4326-9fb0-3012daac60c1",
   "metadata": {},
   "outputs": [],
   "source": []
  }
 ],
 "metadata": {
  "accelerator": "GPU",
  "colab": {
   "gpuType": "T4",
   "provenance": []
  },
  "environment": {
   "kernel": "conda-base-py",
   "name": "workbench-notebooks.m124",
   "type": "gcloud",
   "uri": "us-docker.pkg.dev/deeplearning-platform-release/gcr.io/workbench-notebooks:m124"
  },
  "kernelspec": {
   "display_name": "Python 3 (ipykernel) (Local)",
   "language": "python",
   "name": "conda-base-py"
  },
  "language_info": {
   "codemirror_mode": {
    "name": "ipython",
    "version": 3
   },
   "file_extension": ".py",
   "mimetype": "text/x-python",
   "name": "python",
   "nbconvert_exporter": "python",
   "pygments_lexer": "ipython3",
   "version": "3.10.14"
  }
 },
 "nbformat": 4,
 "nbformat_minor": 5
}
