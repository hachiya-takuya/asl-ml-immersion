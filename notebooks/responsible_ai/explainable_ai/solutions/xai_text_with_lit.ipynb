{
 "cells": [
  {
   "cell_type": "markdown",
   "id": "0ac6099d-c03b-46cc-bd0a-dd96f824a8de",
   "metadata": {
    "id": "0ac6099d-c03b-46cc-bd0a-dd96f824a8de"
   },
   "source": [
    "# Interpretability of Language Model with Learning Interpretability Tool 🔥"
   ]
  },
  {
   "cell_type": "markdown",
   "id": "a5d79e19-968e-49d7-8abb-35ad2f985513",
   "metadata": {},
   "source": [
    "## Overview\n",
    "\n",
    "This notebook shows how to use explainability methods for a BERT-based text classification model with the [Learning Interpretability Tool (🔥LIT)](https://pair-code.github.io/lit/).\n",
    "\n",
    "LIT is a visual, interactive ML model-understanding tool that supports text, image, and tabular data.<br>\n",
    "You can use LIT to ask and answer questions like:\n",
    "- What kind of examples does my model perform poorly on?\n",
    "- Why did my model make this prediction? Can it attribute it to adversarial behavior, or undesirable priors from the training set?\n",
    "- Does my model behave consistently if I change things like textual style, verb tense, or pronoun gender?\n",
    "\n",
    "LIT contains many built-in capabilities but is also customizable, with the ability to add custom interpretability techniques, metrics calculations, counterfactual generators, visualizations, and more.\n",
    "\n",
    "In this notebook, we'll explore the built-in interpretability methods - [LIME](#Explore-the-LIME-explanation) , [Gradient Norm](#Gradient-Norm), [Gradient-dot-Input](#Gradient-dot-Input), and [Integrated Gradients](#Add-Integrated-Gradients).\n",
    "\n",
    "### Learning objectives: \n",
    "* Learn the overview of the Learning Interpretability Tool🔥\n",
    "* Configure the LIT dataset and Model objects.\n",
    "* Customize the Model for interpretability methods"
   ]
  },
  {
   "cell_type": "markdown",
   "id": "09254b64-3602-4f7a-aff9-6d826b8c2b8f",
   "metadata": {},
   "source": [
    "## Setup\n",
    "This lab needs a special kernel to run, please run the following cell. "
   ]
  },
  {
   "cell_type": "code",
   "execution_count": 1,
   "id": "e99c369c-4da9-41d2-8bad-7b65390e5e75",
   "metadata": {
    "tags": []
   },
   "outputs": [
    {
     "name": "stdout",
     "output_type": "stream",
     "text": [
      "./kernels/lit.sh\n",
      "Channels:\n",
      " - conda-forge\n",
      "Platform: linux-64\n",
      "Collecting package metadata (repodata.json): ...working... done\n",
      "Solving environment: ...working... done\n",
      "\n",
      "## Package Plan ##\n",
      "\n",
      "  environment location: /opt/conda/envs/lit_kernel\n",
      "\n",
      "  added / updated specs:\n",
      "    - python=3.10.14\n",
      "\n",
      "\n",
      "The following packages will be downloaded:\n",
      "\n",
      "    package                    |            build\n",
      "    ---------------------------|-----------------\n",
      "    _libgcc_mutex-0.1          |      conda_forge           3 KB  conda-forge\n",
      "    _openmp_mutex-4.5          |            2_gnu          23 KB  conda-forge\n",
      "    ca-certificates-2025.4.26  |       hbd8a1cb_0         149 KB  conda-forge\n",
      "    ld_impl_linux-64-2.43      |       h712a8e2_4         656 KB  conda-forge\n",
      "    libffi-3.4.6               |       h2dba641_1          56 KB  conda-forge\n",
      "    libgcc-15.1.0              |       h767d61c_2         810 KB  conda-forge\n",
      "    libgcc-ng-15.1.0           |       h69a702a_2          34 KB  conda-forge\n",
      "    libgomp-15.1.0             |       h767d61c_2         442 KB  conda-forge\n",
      "    liblzma-5.8.1              |       hb9d3cd8_1         110 KB  conda-forge\n",
      "    liblzma-devel-5.8.1        |       hb9d3cd8_1         431 KB  conda-forge\n",
      "    libsqlite-3.49.2           |       hee588c1_0         895 KB  conda-forge\n",
      "    openssl-3.5.0              |       h7b32b05_1         3.0 MB  conda-forge\n",
      "    pip-25.1.1                 |     pyh8b19718_0         1.2 MB  conda-forge\n",
      "    python-3.10.14             |hd12c33a_0_cpython        24.3 MB  conda-forge\n",
      "    setuptools-80.8.0          |     pyhff2d567_0         731 KB  conda-forge\n",
      "    xz-5.8.1                   |       hbcc6ac9_1          23 KB  conda-forge\n",
      "    xz-gpl-tools-5.8.1         |       hbcc6ac9_1          33 KB  conda-forge\n",
      "    xz-tools-5.8.1             |       hb9d3cd8_1          94 KB  conda-forge\n",
      "    ------------------------------------------------------------\n",
      "                                           Total:        32.9 MB\n",
      "\n",
      "The following NEW packages will be INSTALLED:\n",
      "\n",
      "  _libgcc_mutex      conda-forge/linux-64::_libgcc_mutex-0.1-conda_forge \n",
      "  _openmp_mutex      conda-forge/linux-64::_openmp_mutex-4.5-2_gnu \n",
      "  bzip2              conda-forge/linux-64::bzip2-1.0.8-h4bc722e_7 \n",
      "  ca-certificates    conda-forge/noarch::ca-certificates-2025.4.26-hbd8a1cb_0 \n",
      "  ld_impl_linux-64   conda-forge/linux-64::ld_impl_linux-64-2.43-h712a8e2_4 \n",
      "  libffi             conda-forge/linux-64::libffi-3.4.6-h2dba641_1 \n",
      "  libgcc             conda-forge/linux-64::libgcc-15.1.0-h767d61c_2 \n",
      "  libgcc-ng          conda-forge/linux-64::libgcc-ng-15.1.0-h69a702a_2 \n",
      "  libgomp            conda-forge/linux-64::libgomp-15.1.0-h767d61c_2 \n",
      "  liblzma            conda-forge/linux-64::liblzma-5.8.1-hb9d3cd8_1 \n",
      "  liblzma-devel      conda-forge/linux-64::liblzma-devel-5.8.1-hb9d3cd8_1 \n",
      "  libnsl             conda-forge/linux-64::libnsl-2.0.1-hd590300_0 \n",
      "  libsqlite          conda-forge/linux-64::libsqlite-3.49.2-hee588c1_0 \n",
      "  libuuid            conda-forge/linux-64::libuuid-2.38.1-h0b41bf4_0 \n",
      "  libxcrypt          conda-forge/linux-64::libxcrypt-4.4.36-hd590300_1 \n",
      "  libzlib            conda-forge/linux-64::libzlib-1.3.1-hb9d3cd8_2 \n",
      "  ncurses            conda-forge/linux-64::ncurses-6.5-h2d0b736_3 \n",
      "  openssl            conda-forge/linux-64::openssl-3.5.0-h7b32b05_1 \n",
      "  pip                conda-forge/noarch::pip-25.1.1-pyh8b19718_0 \n",
      "  python             conda-forge/linux-64::python-3.10.14-hd12c33a_0_cpython \n",
      "  readline           conda-forge/linux-64::readline-8.2-h8c095d6_2 \n",
      "  setuptools         conda-forge/noarch::setuptools-80.8.0-pyhff2d567_0 \n",
      "  tk                 conda-forge/linux-64::tk-8.6.13-noxft_h4845f30_101 \n",
      "  tzdata             conda-forge/noarch::tzdata-2025b-h78e105d_0 \n",
      "  wheel              conda-forge/noarch::wheel-0.45.1-pyhd8ed1ab_1 \n",
      "  xz                 conda-forge/linux-64::xz-5.8.1-hbcc6ac9_1 \n",
      "  xz-gpl-tools       conda-forge/linux-64::xz-gpl-tools-5.8.1-hbcc6ac9_1 \n",
      "  xz-tools           conda-forge/linux-64::xz-tools-5.8.1-hb9d3cd8_1 \n",
      "\n",
      "\n",
      "Preparing transaction: ...working... done\n",
      "Verifying transaction: ...working... done\n",
      "Executing transaction: ...working... done\n",
      "Channels:\n",
      " - conda-forge\n",
      "Platform: linux-64\n",
      "Collecting package metadata (repodata.json): ...working... done\n",
      "Solving environment: ...working... done\n",
      "\n",
      "# All requested packages already installed.\n",
      "\n",
      "\u001b[31mERROR: pip's dependency resolver does not currently take into account all the packages that are installed. This behaviour is the source of the following dependency conflicts.\n",
      "apache-beam 2.46.0 requires grpcio!=1.48.0,<2,>=1.33.1, which is not installed.\n",
      "apache-beam 2.46.0 requires proto-plus<2,>=1.7.1, which is not installed.\n",
      "apache-beam 2.46.0 requires protobuf<4,>3.12.2, which is not installed.\n",
      "apache-beam 2.46.0 requires pytz>=2018.3, which is not installed.\n",
      "apache-beam 2.46.0 requires requests<3.0.0,>=2.24.0, which is not installed.\n",
      "apache-beam 2.46.0 requires zstandard<1,>=0.18.0, which is not installed.\n",
      "asl 0.1 requires google-cloud-storage==2.19.0, which is not installed.\n",
      "chromadb 0.4.14 requires fastapi>=0.95.2, which is not installed.\n",
      "chromadb 0.4.14 requires grpcio>=1.58.0, which is not installed.\n",
      "chromadb 0.4.14 requires overrides>=7.3.1, which is not installed.\n",
      "chromadb 0.4.14 requires requests>=2.28, which is not installed.\n",
      "chromadb 0.4.14 requires tqdm>=4.65.0, which is not installed.\n",
      "chromadb 0.4.14 requires uvicorn[standard]>=0.18.3, which is not installed.\n",
      "datasets 2.14.5 requires aiohttp, which is not installed.\n",
      "datasets 2.14.5 requires fsspec[http]<2023.9.0,>=2023.1.0, which is not installed.\n",
      "datasets 2.14.5 requires pandas, which is not installed.\n",
      "datasets 2.14.5 requires requests>=2.19.0, which is not installed.\n",
      "datasets 2.14.5 requires tqdm>=4.62.1, which is not installed.\n",
      "evaluate 0.4.0 requires fsspec[http]>=2021.05.0, which is not installed.\n",
      "evaluate 0.4.0 requires pandas, which is not installed.\n",
      "evaluate 0.4.0 requires requests>=2.19.0, which is not installed.\n",
      "evaluate 0.4.0 requires tqdm>=4.62.1, which is not installed.\n",
      "google-cloud-aiplatform 1.85.0 requires docstring-parser<1, which is not installed.\n",
      "google-cloud-aiplatform 1.85.0 requires google-auth<3.0.0,>=2.14.1, which is not installed.\n",
      "google-cloud-aiplatform 1.85.0 requires google-cloud-resource-manager<3.0.0,>=1.3.3, which is not installed.\n",
      "google-cloud-aiplatform 1.85.0 requires google-cloud-storage<3.0.0,>=1.32.0, which is not installed.\n",
      "google-cloud-aiplatform 1.85.0 requires proto-plus<2.0.0,>=1.22.3, which is not installed.\n",
      "google-cloud-aiplatform 1.85.0 requires protobuf!=4.21.0,!=4.21.1,!=4.21.2,!=4.21.3,!=4.21.4,!=4.21.5,<6.0.0,>=3.20.2, which is not installed.\n",
      "google-cloud-aiplatform 1.85.0 requires shapely<3.0.0, which is not installed.\n",
      "google-cloud-bigquery 3.21.0 requires google-auth<3.0.0dev,>=2.14.1, which is not installed.\n",
      "google-cloud-bigquery 3.21.0 requires google-cloud-core<3.0.0dev,>=1.6.0, which is not installed.\n",
      "google-cloud-bigquery 3.21.0 requires google-resumable-media<3.0dev,>=0.6.0, which is not installed.\n",
      "google-cloud-bigquery 3.21.0 requires requests<3.0.0dev,>=2.21.0, which is not installed.\n",
      "google-genai 1.7.0 requires anyio<5.0.0,>=4.8.0, which is not installed.\n",
      "google-genai 1.7.0 requires google-auth<3.0.0,>=2.14.1, which is not installed.\n",
      "google-genai 1.7.0 requires requests<3.0.0,>=2.28.1, which is not installed.\n",
      "google-genai 1.7.0 requires websockets<15.1.0,>=13.0.0, which is not installed.\n",
      "hdfs 2.7.3 requires requests>=2.7.0, which is not installed.\n",
      "huggingface-hub 0.17.2 requires filelock, which is not installed.\n",
      "huggingface-hub 0.17.2 requires fsspec, which is not installed.\n",
      "huggingface-hub 0.17.2 requires requests, which is not installed.\n",
      "huggingface-hub 0.17.2 requires tqdm>=4.42.1, which is not installed.\n",
      "kaggle 1.7.4.5 requires bleach, which is not installed.\n",
      "kaggle 1.7.4.5 requires certifi>=14.05.14, which is not installed.\n",
      "kaggle 1.7.4.5 requires charset-normalizer, which is not installed.\n",
      "kaggle 1.7.4.5 requires idna, which is not installed.\n",
      "kaggle 1.7.4.5 requires protobuf, which is not installed.\n",
      "kaggle 1.7.4.5 requires requests, which is not installed.\n",
      "kaggle 1.7.4.5 requires tqdm, which is not installed.\n",
      "kaggle 1.7.4.5 requires urllib3>=1.15.1, which is not installed.\n",
      "kaggle 1.7.4.5 requires webencodings, which is not installed.\n",
      "kubernetes 17.17.0 requires certifi>=14.05.14, which is not installed.\n",
      "kubernetes 17.17.0 requires google-auth>=1.0.1, which is not installed.\n",
      "kubernetes 17.17.0 requires requests, which is not installed.\n",
      "kubernetes 17.17.0 requires requests-oauthlib, which is not installed.\n",
      "kubernetes 17.17.0 requires urllib3>=1.24.2, which is not installed.\n",
      "kubernetes 17.17.0 requires websocket-client!=0.40.0,!=0.41.*,!=0.42.*,>=0.32.0, which is not installed.\n",
      "langchain-chroma 0.1.4 requires fastapi<1,>=0.95.2, which is not installed.\n",
      "langchain-core 0.3.47 requires jsonpatch<2.0,>=1.33, which is not installed.\n",
      "langchain-core 0.3.47 requires tenacity!=8.4.0,<10.0.0,>=8.1.0, which is not installed.\n",
      "langchain-google-vertexai 2.0.15 requires google-cloud-storage<3.0.0,>=2.18.0, which is not installed.\n",
      "onnxruntime 1.22.0 requires protobuf, which is not installed.\n",
      "posthog 4.0.1 requires backoff>=1.10.0, which is not installed.\n",
      "posthog 4.0.1 requires distro>=1.5.0, which is not installed.\n",
      "posthog 4.0.1 requires requests<3.0,>=2.7, which is not installed.\n",
      "pydantic 2.9.2 requires annotated-types>=0.6.0, which is not installed.\n",
      "pydantic-settings 2.9.1 requires python-dotenv>=0.21.0, which is not installed.\n",
      "pydantic-settings 2.9.1 requires typing-inspection>=0.4.0, which is not installed.\n",
      "pytest 8.3.5 requires pluggy<2,>=1.5, which is not installed.\n",
      "pytest 8.3.5 requires tomli>=1; python_version < \"3.11\", which is not installed.\n",
      "scikit-image 0.24.0 requires networkx>=2.8, which is not installed.\n",
      "scikit-image 0.24.0 requires pillow>=9.1, which is not installed.\n",
      "scikit-image 0.24.0 requires scipy>=1.9, which is not installed.\n",
      "simple-parsing 0.1.7 requires docstring-parser<1.0,>=0.15, which is not installed.\n",
      "tensorflow 2.12.0 requires grpcio<2.0,>=1.24.3, which is not installed.\n",
      "tensorflow 2.12.0 requires protobuf!=4.21.0,!=4.21.1,!=4.21.2,!=4.21.3,!=4.21.4,!=4.21.5,<5.0.0dev,>=3.20.3, which is not installed.\n",
      "tensorflow-datasets 4.9.8 requires dm-tree, which is not installed.\n",
      "tensorflow-datasets 4.9.8 requires protobuf>=3.20, which is not installed.\n",
      "tensorflow-datasets 4.9.8 requires requests>=2.19.0, which is not installed.\n",
      "tensorflow-datasets 4.9.8 requires tqdm, which is not installed.\n",
      "tensorflow-model-optimization 0.8.0 requires dm-tree~=0.1.1, which is not installed.\n",
      "tensorflow-model-remediation 0.1.7.1 requires pandas, which is not installed.\n",
      "tensorflow-probability 0.19.0 requires dm-tree, which is not installed.\n",
      "tensorflow-serving-api 2.12.1 requires grpcio<2.0,>=1.24.3, which is not installed.\n",
      "tensorflow-serving-api 2.12.1 requires protobuf!=4.21.0,!=4.21.1,!=4.21.2,!=4.21.3,!=4.21.4,!=4.21.5,<5.0.0dev,>=3.20.3, which is not installed.\n",
      "tf-agents 0.16.0 requires pillow, which is not installed.\n",
      "tf-agents 0.16.0 requires protobuf>=3.11.3, which is not installed.\n",
      "tf-models-official 2.12.0 requires google-api-python-client>=1.6.7, which is not installed.\n",
      "tf-models-official 2.12.0 requires matplotlib, which is not installed.\n",
      "tf-models-official 2.12.0 requires oauth2client, which is not installed.\n",
      "tf-models-official 2.12.0 requires pandas>=0.22.0, which is not installed.\n",
      "tf-models-official 2.12.0 requires Pillow, which is not installed.\n",
      "tf-models-official 2.12.0 requires scipy>=0.19.1, which is not installed.\n",
      "typer 0.15.4 requires click<8.2,>=8.0.0, which is not installed.\n",
      "typer 0.15.4 requires rich>=10.11.0, which is not installed.\n",
      "unstructured 0.14.4 requires backoff, which is not installed.\n",
      "unstructured 0.14.4 requires beautifulsoup4, which is not installed.\n",
      "unstructured 0.14.4 requires requests, which is not installed.\n",
      "unstructured 0.14.4 requires tabulate, which is not installed.\n",
      "unstructured-client 0.22.0 requires certifi>=2023.7.22, which is not installed.\n",
      "unstructured-client 0.22.0 requires charset-normalizer>=3.2.0, which is not installed.\n",
      "unstructured-client 0.22.0 requires idna>=3.4, which is not installed.\n",
      "unstructured-client 0.22.0 requires requests>=2.31.0, which is not installed.\n",
      "unstructured-client 0.22.0 requires urllib3>=1.26.18, which is not installed.\n",
      "langchain-core 0.3.47 requires packaging<25,>=23.2, but you have packaging 25.0 which is incompatible.\u001b[0m\u001b[31m\n",
      "\u001b[0mInstalled kernelspec lit_kernel in /opt/conda/envs/lit_kernel/share/jupyter/kernels/lit_kernel\n",
      "\u001b[33m  DEPRECATION: Building 'annoy' using the legacy setup.py bdist_wheel mechanism, which will be removed in a future version. pip 25.3 will enforce this behaviour change. A possible replacement is to use the standardized build interface by setting the `--use-pep517` option, (possibly combined with `--no-build-isolation`), or adding a `pyproject.toml` file to the source tree of 'annoy'. Discussion can be found at https://github.com/pypa/pip/issues/6334\u001b[0m\u001b[33m\n",
      "\u001b[0m\u001b[31mERROR: pip's dependency resolver does not currently take into account all the packages that are installed. This behaviour is the source of the following dependency conflicts.\n",
      "apache-beam 2.46.0 requires zstandard<1,>=0.18.0, which is not installed.\n",
      "asl 0.1 requires google-cloud-storage==2.19.0, which is not installed.\n",
      "chromadb 0.4.14 requires fastapi>=0.95.2, which is not installed.\n",
      "chromadb 0.4.14 requires overrides>=7.3.1, which is not installed.\n",
      "chromadb 0.4.14 requires uvicorn[standard]>=0.18.3, which is not installed.\n",
      "datasets 2.14.5 requires aiohttp, which is not installed.\n",
      "google-cloud-aiplatform 1.85.0 requires docstring-parser<1, which is not installed.\n",
      "google-cloud-aiplatform 1.85.0 requires google-cloud-resource-manager<3.0.0,>=1.3.3, which is not installed.\n",
      "google-cloud-aiplatform 1.85.0 requires google-cloud-storage<3.0.0,>=1.32.0, which is not installed.\n",
      "google-cloud-aiplatform 1.85.0 requires shapely<3.0.0, which is not installed.\n",
      "google-cloud-bigquery 3.21.0 requires google-resumable-media<3.0dev,>=0.6.0, which is not installed.\n",
      "google-genai 1.7.0 requires anyio<5.0.0,>=4.8.0, which is not installed.\n",
      "google-genai 1.7.0 requires websockets<15.1.0,>=13.0.0, which is not installed.\n",
      "httpx 0.28.1 requires anyio, which is not installed.\n",
      "kaggle 1.7.4.5 requires bleach, which is not installed.\n",
      "kaggle 1.7.4.5 requires webencodings, which is not installed.\n",
      "kfp 2.4.0 requires docstring-parser<1,>=0.7.3, which is not installed.\n",
      "kfp 2.4.0 requires google-cloud-storage<3,>=2.2.1, which is not installed.\n",
      "kfp 2.4.0 requires kfp-pipeline-spec==0.2.2, which is not installed.\n",
      "kfp 2.4.0 requires kfp-server-api<2.1.0,>=2.0.0, which is not installed.\n",
      "kfp 2.4.0 requires requests-toolbelt<1,>=0.8.0, which is not installed.\n",
      "kubernetes 17.17.0 requires websocket-client!=0.40.0,!=0.41.*,!=0.42.*,>=0.32.0, which is not installed.\n",
      "langchain 0.3.14 requires aiohttp<4.0.0,>=3.8.3, which is not installed.\n",
      "langchain 0.3.14 requires SQLAlchemy<3,>=1.4, which is not installed.\n",
      "langchain 0.3.14 requires tenacity!=8.4.0,<10,>=8.1.0, which is not installed.\n",
      "langchain-chroma 0.1.4 requires fastapi<1,>=0.95.2, which is not installed.\n",
      "langchain-community 0.3.14 requires aiohttp<4.0.0,>=3.8.3, which is not installed.\n",
      "langchain-community 0.3.14 requires SQLAlchemy<3,>=1.4, which is not installed.\n",
      "langchain-community 0.3.14 requires tenacity!=8.4.0,<10,>=8.1.0, which is not installed.\n",
      "langchain-google-vertexai 2.0.15 requires google-cloud-storage<3.0.0,>=2.18.0, which is not installed.\n",
      "posthog 4.0.1 requires backoff>=1.10.0, which is not installed.\n",
      "posthog 4.0.1 requires distro>=1.5.0, which is not installed.\n",
      "tensorflow-datasets 4.9.8 requires dm-tree, which is not installed.\n",
      "tensorflow-model-optimization 0.8.0 requires dm-tree~=0.1.1, which is not installed.\n",
      "tensorflow-probability 0.19.0 requires dm-tree, which is not installed.\n",
      "tf-models-official 2.12.0 requires google-api-python-client>=1.6.7, which is not installed.\n",
      "tf-models-official 2.12.0 requires oauth2client, which is not installed.\n",
      "typer 0.15.4 requires rich>=10.11.0, which is not installed.\n",
      "unstructured 0.14.4 requires backoff, which is not installed.\n",
      "unstructured 0.14.4 requires beautifulsoup4, which is not installed.\n",
      "wikipedia 1.4.0 requires beautifulsoup4, which is not installed.\n",
      "apache-beam 2.46.0 requires numpy<1.25.0,>=1.14.3, but you have numpy 1.26.4 which is incompatible.\n",
      "apache-beam 2.46.0 requires protobuf<4,>3.12.2, but you have protobuf 4.25.7 which is incompatible.\n",
      "asl 0.1 requires tensorflow==2.12.0, but you have tensorflow 2.14.1 which is incompatible.\n",
      "asl 0.1 requires tensorflow_text==2.12.1, but you have tensorflow-text 2.14.0 which is incompatible.\n",
      "datasets 2.14.5 requires fsspec[http]<2023.9.0,>=2023.1.0, but you have fsspec 2025.5.0 which is incompatible.\n",
      "kfp 2.4.0 requires protobuf<4,>=3.13.0, but you have protobuf 4.25.7 which is incompatible.\n",
      "kfp 2.4.0 requires urllib3<2.0.0, but you have urllib3 2.4.0 which is incompatible.\n",
      "tensorflow-metadata 1.16.1 requires protobuf<4.21,>=3.20.3; python_version < \"3.11\", but you have protobuf 4.25.7 which is incompatible.\n",
      "tf-models-official 2.12.0 requires tensorflow~=2.12.0, but you have tensorflow 2.14.1 which is incompatible.\n",
      "tf-models-official 2.12.0 requires tensorflow-text~=2.12.0, but you have tensorflow-text 2.14.0 which is incompatible.\n",
      "typer 0.15.4 requires click<8.2,>=8.0.0, but you have click 8.2.1 which is incompatible.\u001b[0m\u001b[31m\n",
      "\u001b[0m"
     ]
    }
   ],
   "source": [
    "!cd ../../../.. && make lit_kernel"
   ]
  },
  {
   "cell_type": "markdown",
   "id": "2b9935bc-5274-46cd-baaa-aec3a2d88be5",
   "metadata": {},
   "source": [
    "When it's completed, select the **`LIT Kernel`** on the top right before going forward in the notebook.<br>\n",
    "It may take ~1 minutes until the kernel is shown.\n",
    "\n",
    "<img width=\"700\" alt=\"image\" src=\"https://github.com/user-attachments/assets/e75e98f6-005f-4724-9c08-3467259b5acc\">\n"
   ]
  },
  {
   "cell_type": "markdown",
   "id": "ed3de7e4-55a0-4eed-a922-4be6a82253f4",
   "metadata": {},
   "source": [
    "### Import libraries\n"
   ]
  },
  {
   "cell_type": "code",
   "execution_count": 37,
   "id": "4916615f-68cf-4946-b31f-ce4fb3b48e5a",
   "metadata": {
    "colab": {
     "base_uri": "https://localhost:8080/"
    },
    "id": "4916615f-68cf-4946-b31f-ce4fb3b48e5a",
    "outputId": "51608304-59de-4546-8bf4-717262d39bbb",
    "tags": []
   },
   "outputs": [],
   "source": [
    "import os\n",
    "import warnings\n",
    "\n",
    "warnings.filterwarnings(\"ignore\")\n",
    "os.environ[\"TF_CPP_MIN_LOG_LEVEL\"] = \"2\""
   ]
  },
  {
   "cell_type": "code",
   "execution_count": 38,
   "id": "0708d01f-9f6a-46f0-b4eb-85dc8afa23c6",
   "metadata": {
    "id": "0708d01f-9f6a-46f0-b4eb-85dc8afa23c6",
    "tags": []
   },
   "outputs": [],
   "source": [
    "import datetime\n",
    "import shutil\n",
    "from collections.abc import Iterable, Sequence\n",
    "\n",
    "import keras\n",
    "import keras_nlp\n",
    "import pandas as pd\n",
    "import tensorflow as tf\n",
    "from lit_nlp import notebook\n",
    "from lit_nlp.api import dataset as lit_dataset\n",
    "from lit_nlp.api import layout\n",
    "from lit_nlp.api import model as lit_model\n",
    "from lit_nlp.api import types as lit_types\n",
    "\n",
    "JsonDict = lit_types.JsonDict\n",
    "Spec = lit_types.Spec\n",
    "\n",
    "tf.get_logger().setLevel(\"ERROR\")"
   ]
  },
  {
   "cell_type": "code",
   "execution_count": 39,
   "id": "5d1b1c31-d2af-4f77-9d7c-816428bbf496",
   "metadata": {
    "colab": {
     "base_uri": "https://localhost:8080/"
    },
    "id": "5d1b1c31-d2af-4f77-9d7c-816428bbf496",
    "outputId": "ddf67176-5507-4d7d-bfd7-038ac06b95f0",
    "tags": []
   },
   "outputs": [
    {
     "name": "stdout",
     "output_type": "stream",
     "text": [
      "Num GPUs Available:  1\n"
     ]
    }
   ],
   "source": [
    "print(\"Num GPUs Available: \", len(tf.config.list_physical_devices(\"GPU\")))"
   ]
  },
  {
   "cell_type": "markdown",
   "id": "0927aaaf-b6db-4c7d-80ea-e83dee8ad3cc",
   "metadata": {
    "id": "0927aaaf-b6db-4c7d-80ea-e83dee8ad3cc"
   },
   "source": [
    "## Build a BERT-based Sentiment Analysis model\n",
    "\n",
    "This notebook trains a sentiment analysis model to classify movie reviews as *positive* or *negative*, based on the text of the review.\n",
    "\n",
    "You'll use the [Large Movie Review Dataset](https://ai.stanford.edu/~amaas/data/sentiment/) that contains the text of 50,000 movie reviews from the [Internet Movie Database](https://www.imdb.com/)."
   ]
  },
  {
   "cell_type": "markdown",
   "id": "51eedf91-b731-467a-a162-8c469685a952",
   "metadata": {
    "id": "51eedf91-b731-467a-a162-8c469685a952"
   },
   "source": [
    "### Download the IMDB dataset\n",
    "\n",
    "Let's download and extract the dataset, then explore the directory structure.\n"
   ]
  },
  {
   "cell_type": "code",
   "execution_count": 40,
   "id": "2d2faa77-fe1b-46d4-a77d-04a194699423",
   "metadata": {
    "id": "2d2faa77-fe1b-46d4-a77d-04a194699423",
    "tags": []
   },
   "outputs": [],
   "source": [
    "url = \"https://ai.stanford.edu/~amaas/data/sentiment/aclImdb_v1.tar.gz\"\n",
    "\n",
    "path = \"/home/jupyter/\"\n",
    "dataset = keras.utils.get_file(\n",
    "    \"aclImdb_v1.tar.gz\", url, untar=True, cache_dir=path, cache_subdir=\"\"\n",
    ")\n",
    "\n",
    "dataset_dir = os.path.join(os.path.dirname(dataset), \"aclImdb\")\n",
    "\n",
    "train_dir = os.path.join(dataset_dir, \"train\")\n",
    "\n",
    "# remove unused folders to make it easier to load the data\n",
    "remove_dir = os.path.join(train_dir, \"unsup\")\n",
    "shutil.rmtree(remove_dir)"
   ]
  },
  {
   "cell_type": "markdown",
   "id": "c9735ca6-cd37-4e94-aa0c-26e66f262d66",
   "metadata": {
    "id": "c9735ca6-cd37-4e94-aa0c-26e66f262d66"
   },
   "source": [
    "Next, you will use the `text_dataset_from_directory` utility to create a labeled `tf.data.Dataset`.\n",
    "\n",
    "The IMDB dataset has already been divided into train and test, but it lacks a validation set. Let's create a validation set using an 80:20 split of the training data by using the `validation_split` argument below.\n",
    "\n",
    "Note:  When using the `validation_split` and `subset` arguments, make sure to either specify a random seed, or to pass `shuffle=False`, so that the validation and training splits have no overlap."
   ]
  },
  {
   "cell_type": "code",
   "execution_count": 41,
   "id": "45cada35-c136-491d-bbc6-33c522004685",
   "metadata": {
    "colab": {
     "base_uri": "https://localhost:8080/"
    },
    "id": "45cada35-c136-491d-bbc6-33c522004685",
    "outputId": "1c6e3ab8-c6af-4f06-db6d-0f99b8b830e8",
    "tags": []
   },
   "outputs": [
    {
     "name": "stdout",
     "output_type": "stream",
     "text": [
      "Found 25000 files belonging to 2 classes.\n",
      "Using 20000 files for training.\n",
      "Found 25000 files belonging to 2 classes.\n",
      "Using 5000 files for validation.\n",
      "Found 25000 files belonging to 2 classes.\n"
     ]
    }
   ],
   "source": [
    "AUTOTUNE = tf.data.AUTOTUNE\n",
    "batch_size = 32\n",
    "seed = 42\n",
    "\n",
    "raw_train_ds = tf.keras.preprocessing.text_dataset_from_directory(\n",
    "    path + \"aclImdb/train\",\n",
    "    batch_size=batch_size,\n",
    "    validation_split=0.2,\n",
    "    subset=\"training\",\n",
    "    seed=seed,\n",
    ")\n",
    "\n",
    "class_names = raw_train_ds.class_names\n",
    "train_ds = raw_train_ds.cache().prefetch(buffer_size=AUTOTUNE)\n",
    "\n",
    "val_ds = tf.keras.preprocessing.text_dataset_from_directory(\n",
    "    path + \"aclImdb/train\",\n",
    "    batch_size=batch_size,\n",
    "    validation_split=0.2,\n",
    "    subset=\"validation\",\n",
    "    seed=seed,\n",
    ")\n",
    "\n",
    "val_ds = val_ds.cache().prefetch(buffer_size=AUTOTUNE)\n",
    "\n",
    "test_ds = tf.keras.preprocessing.text_dataset_from_directory(\n",
    "    path + \"aclImdb/test\", batch_size=batch_size\n",
    ")\n",
    "\n",
    "test_ds = test_ds.cache().prefetch(buffer_size=AUTOTUNE)"
   ]
  },
  {
   "cell_type": "markdown",
   "id": "9548fc4e-c2eb-4ecf-88e2-67dc696bf58e",
   "metadata": {
    "id": "9548fc4e-c2eb-4ecf-88e2-67dc696bf58e"
   },
   "source": [
    "### Train BERT model with Keras NLP\n",
    "\n",
    "For the purpose of this lab, we will be loading a small model called tiny BERT, already pre-trained for sentiment analysis purpose. The tiny BERT has the same general architecture as the original BERT but the has fewer and/or smaller Transformer blocks.\n",
    "\n",
    "For other model types, see the [Keras NLP documentation](https://keras.io/api/keras_nlp/models/bert/bert_classifier/)."
   ]
  },
  {
   "cell_type": "code",
   "execution_count": 42,
   "id": "66c07033-70a7-4a40-9d45-5a8ae914aba8",
   "metadata": {
    "id": "66c07033-70a7-4a40-9d45-5a8ae914aba8",
    "tags": []
   },
   "outputs": [],
   "source": [
    "classifier = keras_nlp.models.BertClassifier.from_preset(\n",
    "    \"bert_tiny_en_uncased_sst2\",\n",
    ")"
   ]
  },
  {
   "cell_type": "markdown",
   "id": "26dc13b0-7e28-409a-8902-0b0d3920e37c",
   "metadata": {},
   "source": [
    "We use adamw optimizer with a warm-up period. See [this paper](https://arxiv.org/abs/1905.05583) for a general guideline of BERT finetuning"
   ]
  },
  {
   "cell_type": "code",
   "execution_count": 43,
   "id": "7c5730a4-a354-404b-8b74-5b041af0cd5a",
   "metadata": {
    "id": "7c5730a4-a354-404b-8b74-5b041af0cd5a",
    "tags": []
   },
   "outputs": [],
   "source": [
    "epochs = 5\n",
    "steps_per_epoch = tf.data.experimental.cardinality(train_ds).numpy()\n",
    "num_train_steps = steps_per_epoch * epochs\n",
    "num_warmup_steps = int(0.1 * num_train_steps)\n",
    "\n",
    "warmup_tgt = 3e-5\n",
    "scheduler = tf.keras.optimizers.schedules.CosineDecay(\n",
    "    0.0,\n",
    "    num_train_steps,\n",
    "    warmup_target=warmup_tgt,\n",
    "    warmup_steps=num_warmup_steps,\n",
    ")\n",
    "\n",
    "optimizer = tf.keras.optimizers.AdamW(learning_rate=scheduler)"
   ]
  },
  {
   "cell_type": "code",
   "execution_count": 44,
   "id": "f34cc4b3-4a58-412e-97d0-4912c942e5ae",
   "metadata": {
    "id": "f34cc4b3-4a58-412e-97d0-4912c942e5ae",
    "tags": []
   },
   "outputs": [],
   "source": [
    "classifier.compile(\n",
    "    optimizer=optimizer,\n",
    "    loss=tf.keras.losses.SparseCategoricalCrossentropy(from_logits=True),\n",
    "    metrics=[tf.metrics.SparseCategoricalAccuracy()],\n",
    ")"
   ]
  },
  {
   "cell_type": "code",
   "execution_count": 45,
   "id": "029e9ecb-db92-4aae-a031-fd6bfa3754c1",
   "metadata": {
    "colab": {
     "base_uri": "https://localhost:8080/"
    },
    "id": "029e9ecb-db92-4aae-a031-fd6bfa3754c1",
    "outputId": "fc2b5f5f-a01d-495c-ed64-bdf634512ef4",
    "tags": []
   },
   "outputs": [
    {
     "name": "stdout",
     "output_type": "stream",
     "text": [
      "Epoch 1/5\n",
      "625/625 [==============================] - 90s 134ms/step - loss: 0.3977 - sparse_categorical_accuracy: 0.8195 - val_loss: 0.3383 - val_sparse_categorical_accuracy: 0.8558\n",
      "Epoch 2/5\n",
      "625/625 [==============================] - 46s 73ms/step - loss: 0.3162 - sparse_categorical_accuracy: 0.8659 - val_loss: 0.3106 - val_sparse_categorical_accuracy: 0.8706\n",
      "Epoch 3/5\n",
      "625/625 [==============================] - 45s 72ms/step - loss: 0.2737 - sparse_categorical_accuracy: 0.8880 - val_loss: 0.2968 - val_sparse_categorical_accuracy: 0.8806\n",
      "Epoch 4/5\n",
      "625/625 [==============================] - 44s 71ms/step - loss: 0.2451 - sparse_categorical_accuracy: 0.9028 - val_loss: 0.2963 - val_sparse_categorical_accuracy: 0.8846\n",
      "Epoch 5/5\n",
      "625/625 [==============================] - 45s 72ms/step - loss: 0.2338 - sparse_categorical_accuracy: 0.9076 - val_loss: 0.2960 - val_sparse_categorical_accuracy: 0.8832\n"
     ]
    }
   ],
   "source": [
    "FILE_PATH = \"./model\"\n",
    "\n",
    "checkpoint_cb = keras.callbacks.ModelCheckpoint(\n",
    "    FILE_PATH,\n",
    "    monitor=\"val_loss\",\n",
    "    save_best_only=True,\n",
    ")\n",
    "\n",
    "history = classifier.fit(\n",
    "    x=train_ds, validation_data=val_ds, epochs=epochs, callbacks=[checkpoint_cb]\n",
    ")"
   ]
  },
  {
   "cell_type": "markdown",
   "id": "d5b92e8a-fd0e-40de-a1e1-a91de3c0b256",
   "metadata": {
    "id": "d5b92e8a-fd0e-40de-a1e1-a91de3c0b256"
   },
   "source": [
    "---"
   ]
  },
  {
   "cell_type": "markdown",
   "id": "0960b150-272c-4de9-972c-57356d918a1f",
   "metadata": {
    "id": "0960b150-272c-4de9-972c-57356d918a1f"
   },
   "source": [
    "## Use the Learning Interpretability Tool\n",
    "\n",
    "Let's start using the Learning Interpretability Tool. We use LIT for our Keras model, but please note that LIT itself is framework agnostic.\n",
    "\n",
    "<img src=\"https://pair-code.github.io/lit/documentation/_images/lit-system-diagram.svg\" width=\"1084\">\n",
    "\n",
    "In this notebook, We'll configure two LIT objects: Dataset and Model.\n",
    "\n",
    "### Dataset\n",
    "Datasets are lists of examples, with associated type information following LIT’s type system.\n",
    "\n",
    "- `spec()` should return a flat dict that describes the fields in each example. Note that each item is typed using LIT types. See [the documentation about the LIT types](https://pair-code.github.io/lit/documentation/api.html#available-types) for more details.\n",
    "- `self._examples` should be a list of flat dicts, conforming to `spec()`\n",
    "\n",
    "In this case, we convert `tf.data.Dataset` object to LIT Dataset by iterating through it.\n",
    "\n",
    "LIT operates on all examples loaded in the datasets you include in your LIT server. Therefore, you should take care to use dataset sizes that can fit into memory on your backend server and can be displayed in the browser.\n",
    "\n",
    "Implementations should subclass [Dataset](https://github.com/PAIR-code/lit/blob/main/lit_nlp/api/dataset.py). Usually, this is just a few lines of code like the example below."
   ]
  },
  {
   "cell_type": "code",
   "execution_count": 46,
   "id": "17ea1c05-723f-4c7b-becb-f813a6d565bc",
   "metadata": {
    "id": "17ea1c05-723f-4c7b-becb-f813a6d565bc",
    "tags": []
   },
   "outputs": [],
   "source": [
    "NUM_DATA = 100  # Get small samples\n",
    "LABELS = [\"negative\", \"positive\"]\n",
    "\n",
    "\n",
    "class ImdbSentimentData(lit_dataset.Dataset):\n",
    "\n",
    "    def __init__(self, dataset: tf.data.Dataset):\n",
    "        data_array = list(\n",
    "            dataset.shuffle(dataset.cardinality()).as_numpy_iterator()\n",
    "        )\n",
    "        texts, targets = [], []\n",
    "        for features, labels in data_array:\n",
    "            texts.extend([f.decode() for f in features if len(f.decode())])\n",
    "            targets.extend(labels)\n",
    "        # Store as a list of dicts, conforming to self.spec()\n",
    "        self._examples = [\n",
    "            {\n",
    "                \"text\": text,\n",
    "                \"label\": LABELS[1] if target else LABELS[0],\n",
    "            }\n",
    "            for text, target in zip(texts[:NUM_DATA], targets[:NUM_DATA])\n",
    "        ]\n",
    "\n",
    "    def spec(self):\n",
    "        return {\n",
    "            \"text\": lit_types.TextSegment(),\n",
    "            \"label\": lit_types.CategoryLabel(vocab=LABELS),\n",
    "        }"
   ]
  },
  {
   "cell_type": "markdown",
   "id": "a586f8a6-706e-4fa1-8a50-71734badd5a3",
   "metadata": {},
   "source": [
    "### Model\n",
    "\n",
    "Models are functions that take inputs and produce outputs, with associated type information following LIT’s type system. \n",
    "\n",
    "The core API consists of three methods:\n",
    "- `input_spec()` should return a flat dict that describes necessary input fields. Here we define `\"text\"` and `\"label\"`.\n",
    "- `output_spec()` should return a flat dict that describes the model’s predictions and any additional outputs. In our case, we use the `MulticlassPreds` type.\n",
    "- `predict()` should take a sequence of inputs (satisfying `input_spec()`) and yields a parallel sequence of outputs matching `output_spec()`.\n",
    "\n",
    "Implementations should subclass [Model](https://github.com/PAIR-code/lit/blob/main/lit_nlp/api/model.py). \n",
    "\n",
    "With this simple Model setup, we can use a black-box interpretability method, LIME, since it just pays attention to inputs and outputs."
   ]
  },
  {
   "cell_type": "code",
   "execution_count": 47,
   "id": "9db7866b-43b9-4bb6-b6e1-3b7e07d15911",
   "metadata": {
    "id": "9db7866b-43b9-4bb6-b6e1-3b7e07d15911",
    "tags": []
   },
   "outputs": [],
   "source": [
    "class BertSentimentModel(lit_model.Model):\n",
    "\n",
    "    def __init__(self, model: tf.keras.Model):\n",
    "        self._model = model\n",
    "\n",
    "    def predict(self, inputs: Iterable[JsonDict]) -> Iterable[JsonDict]:\n",
    "        examples = [d[\"text\"] for d in inputs]\n",
    "        tokens = self._model.preprocessor(examples)\n",
    "        logits = self._model(tokens)\n",
    "        probs = tf.keras.activations.sigmoid(logits)\n",
    "        return [{\"prob\": prob.numpy()} for prob in probs]\n",
    "\n",
    "    def input_spec(self) -> Spec:\n",
    "        return {\n",
    "            \"text\": lit_types.TextSegment(),\n",
    "            \"label\": lit_types.CategoryLabel(required=False, vocab=LABELS),\n",
    "        }\n",
    "\n",
    "    def output_spec(self) -> Spec:\n",
    "        return {\n",
    "            \"prob\": lit_types.MulticlassPreds(vocab=LABELS, parent=\"label\"),\n",
    "        }"
   ]
  },
  {
   "cell_type": "markdown",
   "id": "2ac33808-5fc6-4bbe-be62-2b7c40696949",
   "metadata": {},
   "source": [
    "Now let's create a LIT widget in the notebook."
   ]
  },
  {
   "cell_type": "code",
   "execution_count": 48,
   "id": "9a9bd33b-2740-453e-843f-0a6eadaee0e6",
   "metadata": {
    "colab": {
     "base_uri": "https://localhost:8080/"
    },
    "id": "9a9bd33b-2740-453e-843f-0a6eadaee0e6",
    "outputId": "6996d79a-ae5f-4a6a-bee0-bf17a57d1a5c",
    "tags": []
   },
   "outputs": [
    {
     "name": "stderr",
     "output_type": "stream",
     "text": [
      "WARNING:absl:Unable to infer init spec for model 'BertSentimentModel'. Unsupported type '<class 'keras.src.engine.training.Model'>' for parameter 'model' of '__init__'. If possible (e.g., this parameter is Optional), please implement a spec literal instead of using inferencing.\n",
      "WARNING:absl:Unable to infer init spec for dataset 'ImdbSentimentData'. Unsupported type '<class 'tensorflow.python.data.ops.dataset_ops.DatasetV2'>' for parameter 'dataset' of '__init__'. If possible (e.g., this parameter is Optional), please implement a spec literal instead of using inferencing.\n",
      "WARNING:absl:Unable to infer init spec for dataset 'NoneDataset'. Unable to infer a type for parameter 'models' of '__init__'. Please add a type hint or default value, or implement a Spec literal.\n"
     ]
    }
   ],
   "source": [
    "# Create the LIT widget with the model and dataset to analyze.\n",
    "datasets = {\"acllmdb\": ImdbSentimentData(test_ds)}\n",
    "models = {\"BERT classifier\": BertSentimentModel(classifier)}\n",
    "layouts = {\"default\": \"default\"}\n",
    "\n",
    "# Uncomment below when you rerun the widget.\n",
    "# widget.stop()\n",
    "widget = notebook.LitWidget(models, datasets, port=8890)"
   ]
  },
  {
   "cell_type": "markdown",
   "id": "81fb6102-b772-4027-bdb3-12e604fa9286",
   "metadata": {},
   "source": [
    "You can render the widget using the `render()` method.<br>\n",
    "The widget can be embedded in the notebook, but let's add `open_in_new_tab=True` and check the widget on another tab.\n",
    "\n",
    "Feel free to play around with the UI and check how the concepts we defined above are linked to the LIT UI."
   ]
  },
  {
   "cell_type": "code",
   "execution_count": 49,
   "id": "a423cb4d-87e5-4dd2-8bba-1c45dff1c221",
   "metadata": {
    "colab": {
     "base_uri": "https://localhost:8080/",
     "height": 621
    },
    "id": "a423cb4d-87e5-4dd2-8bba-1c45dff1c221",
    "outputId": "7fea223f-cabe-43dc-e2f5-39138d9f7c4f",
    "tags": []
   },
   "outputs": [
    {
     "data": {
      "text/html": [
       "\n",
       "      <a href=\"javascript:void(0);\" id=\"lit-frame-33ef35d5d94b05cb\"></a>\n",
       "      <script>\n",
       "        (function() {\n",
       "          const urlStr = \"/proxy/8890/\" + '?'\n",
       "          const url = new URL(urlStr, window.location);\n",
       "          const port = 0;\n",
       "          if (port) {\n",
       "            url.port = port;\n",
       "          }\n",
       "          const a = document.getElementById(\"lit-frame-33ef35d5d94b05cb\");\n",
       "          a.innerHTML = url;\n",
       "          a.onclick = (e) => window.open(url, \"_blank\");\n",
       "          window.open(url, \"_blank\");\n",
       "        })();\n",
       "      </script>\n",
       "    "
      ],
      "text/plain": [
       "<IPython.core.display.HTML object>"
      ]
     },
     "metadata": {},
     "output_type": "display_data"
    }
   ],
   "source": [
    "# Render the widget\n",
    "widget.render(height=600, open_in_new_tab=True)"
   ]
  },
  {
   "cell_type": "markdown",
   "id": "a9282849-d149-4c5f-b2d4-0f31c050f1d8",
   "metadata": {
    "tags": []
   },
   "source": [
    "### Customize the Layout\n",
    "\n",
    "The UI looks handy, doesn't it?<br>\n",
    "But you might want to change the layout a bit. No worries! The LIT UI is customizable.<br>\n",
    "\n",
    "Let's switch to a richer layout from the prebuild layout catalog. <br>\n",
    "We'll keep the original UI in case you want to switch back by passing multiple layouts in a dictionary.\n"
   ]
  },
  {
   "cell_type": "code",
   "execution_count": 50,
   "id": "d315295b-6a3d-421b-b96c-5a86b30e7f00",
   "metadata": {
    "tags": []
   },
   "outputs": [],
   "source": [
    "layouts = {\n",
    "    \"rich_layout\": layout.THREE_PANEL_LAYOUT,\n",
    "    \"default\": notebook.LIT_NOTEBOOK_LAYOUT,\n",
    "}"
   ]
  },
  {
   "cell_type": "code",
   "execution_count": 51,
   "id": "fb366850-63c9-435d-92d6-a6f4a72d3008",
   "metadata": {
    "tags": []
   },
   "outputs": [
    {
     "name": "stderr",
     "output_type": "stream",
     "text": [
      "WARNING:absl:Unable to infer init spec for model 'BertSentimentModel'. Unsupported type '<class 'keras.src.engine.training.Model'>' for parameter 'model' of '__init__'. If possible (e.g., this parameter is Optional), please implement a spec literal instead of using inferencing.\n",
      "WARNING:absl:Unable to infer init spec for dataset 'ImdbSentimentData'. Unsupported type '<class 'tensorflow.python.data.ops.dataset_ops.DatasetV2'>' for parameter 'dataset' of '__init__'. If possible (e.g., this parameter is Optional), please implement a spec literal instead of using inferencing.\n",
      "WARNING:absl:Unable to infer init spec for dataset 'NoneDataset'. Unable to infer a type for parameter 'models' of '__init__'. Please add a type hint or default value, or implement a Spec literal.\n"
     ]
    },
    {
     "data": {
      "text/html": [
       "\n",
       "      <a href=\"javascript:void(0);\" id=\"lit-frame-54b0226f03131481\"></a>\n",
       "      <script>\n",
       "        (function() {\n",
       "          const urlStr = \"/proxy/8890/\" + '?'\n",
       "          const url = new URL(urlStr, window.location);\n",
       "          const port = 0;\n",
       "          if (port) {\n",
       "            url.port = port;\n",
       "          }\n",
       "          const a = document.getElementById(\"lit-frame-54b0226f03131481\");\n",
       "          a.innerHTML = url;\n",
       "          a.onclick = (e) => window.open(url, \"_blank\");\n",
       "          window.open(url, \"_blank\");\n",
       "        })();\n",
       "      </script>\n",
       "    "
      ],
      "text/plain": [
       "<IPython.core.display.HTML object>"
      ]
     },
     "metadata": {},
     "output_type": "display_data"
    }
   ],
   "source": [
    "widget.stop()\n",
    "widget = notebook.LitWidget(models, datasets, layouts=layouts, port=8890)\n",
    "widget.render(height=600, open_in_new_tab=True)"
   ]
  },
  {
   "cell_type": "markdown",
   "id": "678959f2-f8c1-4581-b713-75ea91281c04",
   "metadata": {},
   "source": [
    "If you want to customize the UI, refer to the [documentation](https://pair-code.github.io/lit/documentation/api.html#customizing-the-layout) and the [UI definition](https://github.com/PAIR-code/lit/blob/main/lit_nlp/api/layout.py#L173) we just used."
   ]
  },
  {
   "cell_type": "markdown",
   "id": "bafc329e-a850-4549-bff8-c3334210b181",
   "metadata": {},
   "source": [
    "### Explore the LIME explanation\n",
    "Now, let's investigate the LIME explanation using the UI we just rendered.\n",
    "\n",
    "[LIME](https://arxiv.org/abs/1602.04938) is a widely used black-box (or model-agnostic) explainability method. Since it is a black-box method, we can use LIME for any ML models (or, more generally, any functions that have inputs and outputs) to get the saliency.\n",
    "\n",
    "1. Select a text input from the left panel.\n",
    "2. On the upper-right panel, check the predicted probabilities for the `negative` and `positive` classes, the label (indicated as `T`), and the predicted class (`P`).\n",
    "3. On the lower right panel, select the `Explanations` tab.\n",
    "4. Click the arrow symbol on the right-hand side of `LIME.`\n",
    "5. Saliency scores appear on each word. If the coloring is too pale, raise the `Gamma` score until you can see the color clearly.\n",
    "6. Confirm that the predicted class is already set as `Class to explain`.\n",
    "6. Mouse over an important word (colored in a vivid red or blue color), and check the score. A positive score means a positive contribution to the label (to the `positive` class in the screenshot below), and a negative score means a negative contribution."
   ]
  },
  {
   "cell_type": "markdown",
   "id": "7386365c-b1c2-4315-b6e4-ed253e227162",
   "metadata": {},
   "source": [
    "<img width=\"800\" src=\"https://github.com/user-attachments/assets/05623753-bdf8-4aec-88c6-3e7d0718576a\">\n"
   ]
  },
  {
   "cell_type": "markdown",
   "id": "e00957a5-f0fb-47dd-bc02-9099a942870a",
   "metadata": {
    "id": "e00957a5-f0fb-47dd-bc02-9099a942870a"
   },
   "source": [
    "---"
   ]
  },
  {
   "cell_type": "markdown",
   "id": "5dac8692-c62d-4193-a913-2439c46e7c21",
   "metadata": {},
   "source": [
    "## Add Gradient-based Saliency Methods\n",
    "\n",
    "Black-box methods like LIME are flexible and easy to use since they don't require access to model internals. However, we can understand the model behavior more delicately by utilizing model internals, like gradients.\n",
    "\n",
    "The core idea of gradient-based interpretability is to compute the gradient of outputs, $y$, with respect to each input, $x$.\n",
    "\n",
    "In text classification, outputs are logits produced by the last layer of the model, and inputs are token embeddings (in image classification, inputs should be image pixels)."
   ]
  },
  {
   "cell_type": "markdown",
   "id": "899c34b7-e274-49ef-8f39-62960e8341f2",
   "metadata": {},
   "source": [
    "### Dissect the Model\n",
    "\n",
    "Let's look at our BERT model and dissect it for this purpose."
   ]
  },
  {
   "cell_type": "code",
   "execution_count": 52,
   "id": "f37c79ca-23fd-4fe7-8cbc-7f851b912125",
   "metadata": {
    "tags": []
   },
   "outputs": [
    {
     "data": {
      "image/png": "[encoded data removed]",
      "text/plain": [
       "<IPython.core.display.Image object>"
      ]
     },
     "execution_count": 52,
     "metadata": {},
     "output_type": "execute_result"
    }
   ],
   "source": [
    "tf.keras.utils.plot_model(classifier, show_shapes=True, show_layer_names=True)"
   ]
  },
  {
   "cell_type": "markdown",
   "id": "456931a3-af6d-465a-a2a2-e6ce4167ddb7",
   "metadata": {},
   "source": [
    "Let's take a look at the layers in the model."
   ]
  },
  {
   "cell_type": "code",
   "execution_count": 53,
   "id": "5186f606-694f-4ad1-a23b-126283c274f8",
   "metadata": {
    "tags": []
   },
   "outputs": [
    {
     "data": {
      "text/plain": [
       "[<keras.src.engine.input_layer.InputLayer at 0x7fd29c31e260>,\n",
       " <keras.src.engine.input_layer.InputLayer at 0x7fd29c31e170>,\n",
       " <keras.src.engine.input_layer.InputLayer at 0x7fd21869c310>,\n",
       " <keras_nlp.src.models.bert.bert_backbone.BertBackbone at 0x7fd21869f280>,\n",
       " <keras.src.layers.regularization.dropout.Dropout at 0x7fd29c32c2e0>,\n",
       " <keras.src.layers.core.dense.Dense at 0x7fd1b163cd00>]"
      ]
     },
     "execution_count": 53,
     "metadata": {},
     "output_type": "execute_result"
    }
   ],
   "source": [
    "classifier.layers"
   ]
  },
  {
   "cell_type": "markdown",
   "id": "c6614d7c-5c26-4187-9551-141cf1d01905",
   "metadata": {},
   "source": [
    "It looks like the main model is nested in the `BertBackbone` layer (`classifier.layers[3]`)."
   ]
  },
  {
   "cell_type": "code",
   "execution_count": 54,
   "id": "caa861ca-11a8-4964-94b7-ef00516d8543",
   "metadata": {
    "id": "caa861ca-11a8-4964-94b7-ef00516d8543",
    "outputId": "65eaae3a-a2fc-4092-b338-89f50acfec34",
    "tags": []
   },
   "outputs": [
    {
     "data": {
      "text/plain": [
       "[<keras.src.engine.input_layer.InputLayer at 0x7fd21869c310>,\n",
       " <keras.src.layers.core.embedding.Embedding at 0x7fd29c31fa90>,\n",
       " <keras.src.engine.input_layer.InputLayer at 0x7fd29c31e170>,\n",
       " <keras_nlp.src.layers.position_embedding.PositionEmbedding at 0x7fd29c31ed70>,\n",
       " <keras.src.layers.core.embedding.Embedding at 0x7fd29c31c9a0>,\n",
       " <keras.src.layers.merging.add.Add at 0x7fd1a150cc40>,\n",
       " <keras.src.layers.normalization.layer_normalization.LayerNormalization at 0x7fd29c31e590>,\n",
       " <keras.src.layers.regularization.dropout.Dropout at 0x7fd2b9df31f0>,\n",
       " <keras.src.engine.input_layer.InputLayer at 0x7fd29c31e260>,\n",
       " <keras_nlp.src.layers.transformer_encoder.TransformerEncoder at 0x7fd21876cf10>,\n",
       " <keras_nlp.src.layers.transformer_encoder.TransformerEncoder at 0x7fd29c31f190>,\n",
       " <keras.src.layers.core.tf_op_layer.SlicingOpLambda at 0x7fd2af8379a0>,\n",
       " <keras.src.layers.core.dense.Dense at 0x7fd21876cfd0>]"
      ]
     },
     "execution_count": 54,
     "metadata": {},
     "output_type": "execute_result"
    }
   ],
   "source": [
    "classifier.layers[3].layers"
   ]
  },
  {
   "cell_type": "markdown",
   "id": "8f85789e-4406-48b2-ad29-44cda40c4a13",
   "metadata": {},
   "source": [
    "Let's plot the nested `BertBackbone` to see the architecture."
   ]
  },
  {
   "cell_type": "code",
   "execution_count": 55,
   "id": "688348da-ddcd-4402-9d8d-d55315422226",
   "metadata": {
    "id": "688348da-ddcd-4402-9d8d-d55315422226",
    "outputId": "b1290b4e-904e-46dd-e54d-767b600857f3",
    "tags": []
   },
   "outputs": [
    {
     "data": {
      "image/png": "[encoded data removed]",
      "text/plain": [
       "<IPython.core.display.Image object>"
      ]
     },
     "execution_count": 55,
     "metadata": {},
     "output_type": "execute_result"
    }
   ],
   "source": [
    "tf.keras.utils.plot_model(\n",
    "    classifier.layers[3], show_shapes=True, show_layer_names=True\n",
    ")"
   ]
  },
  {
   "cell_type": "markdown",
   "id": "3b414cab-6057-473b-b216-4cb3bc17b72e",
   "metadata": {},
   "source": [
    "We want to get token embeddings. It seems like the output of the `token_embedding` layer (`classifier.layers[3].layers[1]`) produces the token embeddings. However, the final embedding is produced by the `add_1` layer (`classifier.layers[3].layers[5]`) by combining positional encoding.<br>\n",
    "Also, a Layer Normalization layer (`classifier.layers[3].layers[6]`) follows it. This embedding seems to be a good target for gradient-based interpretability.\n",
    "\n",
    "Let's define a standalone module until this layer. Here, we can find nested layers. Let's visualize the graph."
   ]
  },
  {
   "cell_type": "code",
   "execution_count": 20,
   "id": "25d881e9-dc4b-4e59-941e-720930db6a8f",
   "metadata": {
    "id": "25d881e9-dc4b-4e59-941e-720930db6a8f",
    "tags": []
   },
   "outputs": [],
   "source": [
    "embedding_model = tf.keras.Model(\n",
    "    inputs=classifier.input, outputs=classifier.layers[3].layers[6].output\n",
    ")"
   ]
  },
  {
   "cell_type": "code",
   "execution_count": 21,
   "id": "b76b9e7b-0a09-4b70-8cea-1b2f24398769",
   "metadata": {
    "id": "b76b9e7b-0a09-4b70-8cea-1b2f24398769",
    "outputId": "e1694dc2-7727-479a-91dd-64bbbf2421c8",
    "tags": []
   },
   "outputs": [
    {
     "data": {
      "image/png": "[encoded data removed]",
      "text/plain": [
       "<IPython.core.display.Image object>"
      ]
     },
     "execution_count": 21,
     "metadata": {},
     "output_type": "execute_result"
    }
   ],
   "source": [
    "tf.keras.utils.plot_model(embedding_model)"
   ]
  },
  {
   "cell_type": "markdown",
   "id": "d892f70d-7c07-47bb-9f27-65f19dccc4fd",
   "metadata": {},
   "source": [
    "The main BERT model follows it. Here, we similarly define a remaining BERT backbone as a standalone module."
   ]
  },
  {
   "cell_type": "code",
   "execution_count": 22,
   "id": "b20d6f95-6327-4cfd-a077-13022ce9197a",
   "metadata": {
    "id": "b20d6f95-6327-4cfd-a077-13022ce9197a",
    "tags": []
   },
   "outputs": [],
   "source": [
    "bert_backbone = tf.keras.Model(\n",
    "    inputs=[\n",
    "        classifier.layers[3].layers[7].input,\n",
    "        classifier.layers[3].layers[8].input,\n",
    "    ],\n",
    "    outputs=classifier.layers[3].layers[-1].output,\n",
    ")"
   ]
  },
  {
   "cell_type": "code",
   "execution_count": 23,
   "id": "6d12e2bf-4e92-4c6a-b9d7-bac832fb3391",
   "metadata": {
    "id": "6d12e2bf-4e92-4c6a-b9d7-bac832fb3391",
    "outputId": "cc46d0b0-a6e6-473c-aa31-bae8a6ccbfca",
    "tags": []
   },
   "outputs": [
    {
     "data": {
      "image/png": "[encoded data removed]",
      "text/plain": [
       "<IPython.core.display.Image object>"
      ]
     },
     "execution_count": 23,
     "metadata": {},
     "output_type": "execute_result"
    }
   ],
   "source": [
    "tf.keras.utils.plot_model(bert_backbone)"
   ]
  },
  {
   "cell_type": "markdown",
   "id": "bc5f3205-033b-48ec-8734-e9e043e4ef4f",
   "metadata": {},
   "source": [
    "Last, we define a classification head, which produces the final logits value from which we calculate the gradients."
   ]
  },
  {
   "cell_type": "code",
   "execution_count": 24,
   "id": "ad23139e-2e1f-415c-86e8-d3094f8bbb1e",
   "metadata": {
    "id": "ad23139e-2e1f-415c-86e8-d3094f8bbb1e",
    "tags": []
   },
   "outputs": [],
   "source": [
    "cls_head = tf.keras.Model(\n",
    "    inputs=classifier.layers[-2].input, outputs=classifier.layers[-1].output\n",
    ")"
   ]
  },
  {
   "cell_type": "code",
   "execution_count": 25,
   "id": "f569b145-e302-4388-b991-df0167ff8ddd",
   "metadata": {
    "id": "f569b145-e302-4388-b991-df0167ff8ddd",
    "outputId": "5548ebc0-a489-4340-f36f-e60a983b6c98",
    "tags": []
   },
   "outputs": [
    {
     "data": {
      "image/png": "[encoded data removed]",
      "text/plain": [
       "<IPython.core.display.Image object>"
      ]
     },
     "execution_count": 25,
     "metadata": {},
     "output_type": "execute_result"
    }
   ],
   "source": [
    "tf.keras.utils.plot_model(cls_head)"
   ]
  },
  {
   "cell_type": "markdown",
   "id": "6aa9223c-8236-4397-9689-7bd261de02f8",
   "metadata": {},
   "source": [
    "We can call these three modules in order to calculate logits from texts. "
   ]
  },
  {
   "cell_type": "code",
   "execution_count": 26,
   "id": "54f3db03-9d56-4c40-af53-9de056e31a6b",
   "metadata": {
    "id": "54f3db03-9d56-4c40-af53-9de056e31a6b",
    "tags": []
   },
   "outputs": [
    {
     "data": {
      "text/plain": [
       "<tf.Tensor: shape=(1, 2), dtype=float32, numpy=array([[-2.2413073,  2.395559 ]], dtype=float32)>"
      ]
     },
     "execution_count": 26,
     "metadata": {},
     "output_type": "execute_result"
    }
   ],
   "source": [
    "data = ImdbSentimentData(test_ds)\n",
    "text = data.examples[0][\"text\"]\n",
    "\n",
    "tokens = classifier._preprocessor(tf.constant([text]))\n",
    "embeddings = embedding_model(tokens)\n",
    "bert_output = bert_backbone([embeddings, tokens[\"padding_mask\"]])\n",
    "logits = cls_head(bert_output)\n",
    "logits"
   ]
  },
  {
   "cell_type": "markdown",
   "id": "3c5a7771-eff9-4f70-a618-8e1b927cebe0",
   "metadata": {},
   "source": [
    "### Compute Gradients\n",
    "In TensorFlow, we can use `tf.GradientTape` context manager to use autograd capability.\n",
    "\n",
    "If you are using other frameworks, please refer to the documentation about autograd to do the same procedure (e.g. [Pytorch](https://pytorch.org/tutorials/beginner/former_torchies/autograd_tutorial.html), [JAX](https://jax.readthedocs.io/en/latest/notebooks/autodiff_cookbook.html))"
   ]
  },
  {
   "cell_type": "code",
   "execution_count": 27,
   "id": "a5f4d7cb-d333-43ab-91bc-8cc451b36161",
   "metadata": {
    "id": "a5f4d7cb-d333-43ab-91bc-8cc451b36161",
    "tags": []
   },
   "outputs": [
    {
     "data": {
      "text/plain": [
       "<tf.Tensor: shape=(1, 512, 128), dtype=float32, numpy=\n",
       "array([[[ 0.00289848, -0.00668358, -0.011357  , ...,  0.01609968,\n",
       "          0.0012436 , -0.00743701],\n",
       "        [-0.00527156,  0.00422942,  0.00936261, ...,  0.00383707,\n",
       "          0.01078108, -0.00037201],\n",
       "        [-0.00291997,  0.00095399, -0.00210266, ...,  0.00231753,\n",
       "          0.00375082,  0.00085628],\n",
       "        ...,\n",
       "        [ 0.        ,  0.        ,  0.        , ...,  0.        ,\n",
       "          0.        ,  0.        ],\n",
       "        [ 0.        ,  0.        ,  0.        , ...,  0.        ,\n",
       "          0.        ,  0.        ],\n",
       "        [ 0.        ,  0.        ,  0.        , ...,  0.        ,\n",
       "          0.        ,  0.        ]]], dtype=float32)>"
      ]
     },
     "execution_count": 27,
     "metadata": {},
     "output_type": "execute_result"
    }
   ],
   "source": [
    "with tf.GradientTape() as tape:\n",
    "    tape.watch(embeddings)\n",
    "    bert_output = bert_backbone([embeddings, tokens[\"padding_mask\"]])\n",
    "    logits = cls_head(bert_output)\n",
    "\n",
    "    indices = tf.argmax(logits, axis=-1)\n",
    "    pred = tf.gather_nd(logits, [[i, idx] for i, idx in enumerate(indices)])\n",
    "\n",
    "input_emb_grads = tape.gradient(pred, embeddings)\n",
    "input_emb_grads"
   ]
  },
  {
   "cell_type": "markdown",
   "id": "259afd3b-3505-4e7d-900f-d5a2fc879e90",
   "metadata": {},
   "source": [
    "### Update LIT Model\n",
    "\n",
    "Looks great! \n",
    "\n",
    "Based on this setup, we can add two gradient-based methods, Gradient Norm and Gradient-dot-Input:\n",
    "\n",
    "#### Gradient Norm\n",
    "Gradient Norm is a simple method in which salience scores are proportional to the L2 norm of the gradient, i.e., the score for a token $i$ is:\n",
    "\n",
    "$S(i)\\propto  \\|  \\nabla _{x_i} \\hat{y} \\| _2$\n",
    "\n",
    "#### Gradient-dot-Input\n",
    "In Gradient-dot-Input, salience scores are proportional to the dot product of the input embeddings and their gradients, i.e., for token $i$, we compute:\n",
    "\n",
    "$S(i)\\propto  x_i \\nabla_{x_i} \\hat{y} $\n",
    "\n",
    "\n",
    "Since we already defined $\\hat{y}$ in the previous model, there are two additional elements we have to produce: $\\nabla _{x_i}$ and $x_i$. \n",
    "- $x_i$: token embedding. This is only required by Gradient-dot-Input.\n",
    "- $\\nabla _{x_i}$: Gradient of each token embedding. This is necessary for both Gradient Norm and Gradient-dot-Input.\n"
   ]
  },
  {
   "cell_type": "markdown",
   "id": "454ecd83-66f8-460a-a7de-86ec75c4bc4d",
   "metadata": {},
   "source": [
    "Let's update the LIT model module to reflect these elements. \n",
    "\n",
    "Here are the key updates we make:\n",
    "- in `__init__()`, we define additional modules discussed above.\n",
    "- `output_spec()` output now contains three additional key-value specs:\n",
    "  - `\"tokens\"`: a list of tokens of shape `(num_tokens)`. For spec, we use `Tokens` LIT type with `parent=\"text\"` to link with the input text.\n",
    "  - `\"input_embedding\"`: token embeddings ($x_i$) of shape `(num_tokens, emb_dim)`. For the spec, we use `TokenEmbeddings` LIT type with `align=\"tokens\"`.\n",
    "  - `\"input_emb_grad\"`: gradients of token embeddings ($\\nabla _{x_i}$) of shape `(num_tokens, emb_dim)`. For the spec, we use `TokenGradients` LIT type with `align=\"tokens\"` and  `grad_for=\"input_embedding\"` to define the link.\n",
    "- `predict()` now computes gradients using the three sub-modules and `tf.GradientTape` discussed above and returns the three additional elements corresponding to the `output_spec()` spec definition. <br>\n",
    "Note that we slice the `tokens`, `impute_embedding` and `input_emb_grad` with `[START_OFFSET : slen - END_OFFSET]` where:\n",
    "  - `START_OFFSET=1` to trim the first `[CLS]` token that doesn't correspond with any elements in the input sentence,\n",
    "  - `END_OFFSET=1` to trim the `[SEP]` token BERT uses after the first sentence. Note that BERT can take a pair of sentences. `[SEP]` is a separator between them, while we only use a single sentence in this text classification example.\n",
    "  - `slen` is the length of input tokens."
   ]
  },
  {
   "cell_type": "code",
   "execution_count": 28,
   "id": "f5277650-f29c-4219-941a-2f6a541a0d54",
   "metadata": {
    "id": "f5277650-f29c-4219-941a-2f6a541a0d54",
    "tags": []
   },
   "outputs": [],
   "source": [
    "START_OFFSET = 1  # offset [CLS] token\n",
    "END_OFFSET = 1  # offset [SEP] token\n",
    "\n",
    "\n",
    "class BertSentimentModel(lit_model.Model):\n",
    "\n",
    "    def __init__(self, model):\n",
    "        self._model = model\n",
    "        ########## MODEL SLICES ##########\n",
    "        self._embedding_model = tf.keras.Model(\n",
    "            inputs=model.input, outputs=model.layers[3].layers[6].output\n",
    "        )\n",
    "        self._bert_backbone = tf.keras.Model(\n",
    "            inputs=[\n",
    "                model.layers[3].layers[7].input,\n",
    "                model.layers[3].layers[8].input,\n",
    "            ],\n",
    "            outputs=model.layers[3].layers[-1].output,\n",
    "        )\n",
    "        self._cls_head = tf.keras.Model(\n",
    "            inputs=classifier.layers[-2].input,\n",
    "            outputs=classifier.layers[-1].output,\n",
    "        )\n",
    "        ##################################\n",
    "\n",
    "    def _detokenize(self, indices):\n",
    "        return [\n",
    "            self._model.preprocessor.tokenizer.vocabulary[idx]\n",
    "            for idx in indices\n",
    "        ]\n",
    "\n",
    "    def predict(self, inputs):\n",
    "        \"\"\"Predict on a stream of examples.\"\"\"\n",
    "        examples = [d[\"text\"] for d in inputs]\n",
    "        tokenized = self._model.preprocessor(examples)\n",
    "        seq_lens = tf.reduce_sum(\n",
    "            tf.cast(tokenized[\"padding_mask\"], tf.int32), axis=-1\n",
    "        )\n",
    "        embeddings = self._embedding_model(tokenized)\n",
    "\n",
    "        ########## COMPUTE GRADIENTS ##########\n",
    "        with tf.GradientTape() as tape:\n",
    "            tape.watch(embeddings)\n",
    "            bert_output = self._bert_backbone(\n",
    "                [embeddings, tokenized[\"padding_mask\"]]\n",
    "            )\n",
    "            logits = self._cls_head(bert_output)\n",
    "\n",
    "            if \"label\" in inputs[0].keys():\n",
    "                indices = [\n",
    "                    1 if inp[\"label\"] == LABELS[1] else 0 for inp in inputs\n",
    "                ]\n",
    "            else:\n",
    "                indices = tf.argmax(logits, axis=-1)\n",
    "\n",
    "            pred = tf.gather_nd(\n",
    "                logits, [[i, idx] for i, idx in enumerate(indices)]\n",
    "            )\n",
    "\n",
    "        probs = tf.keras.activations.softmax(logits)\n",
    "\n",
    "        input_emb_grads = tape.gradient(pred, embeddings)\n",
    "        ######################################\n",
    "\n",
    "        return [\n",
    "            {\n",
    "                \"prob\": prob.numpy(),\n",
    "                ########## NEW OUTPUTS ##########\n",
    "                \"tokens\": self._detokenize(\n",
    "                    tokens[START_OFFSET : slen - END_OFFSET]\n",
    "                ),\n",
    "                \"input_embedding\": emb[\n",
    "                    START_OFFSET : slen - END_OFFSET\n",
    "                ].numpy(),\n",
    "                \"input_emb_grad\": grad[\n",
    "                    START_OFFSET : slen - END_OFFSET\n",
    "                ].numpy(),\n",
    "                #################################\n",
    "            }\n",
    "            for prob, tokens, emb, grad, slen in zip(\n",
    "                probs,\n",
    "                tokenized[\"token_ids\"],\n",
    "                embeddings,\n",
    "                input_emb_grads,\n",
    "                seq_lens,\n",
    "            )\n",
    "        ]\n",
    "\n",
    "    def input_spec(self):\n",
    "        \"\"\"Describe the inputs to the model.\"\"\"\n",
    "        return {\n",
    "            \"text\": lit_types.TextSegment(),\n",
    "            \"label\": lit_types.CategoryLabel(required=False, vocab=LABELS),\n",
    "        }\n",
    "\n",
    "    def output_spec(self):\n",
    "        \"\"\"Describe the model outputs.\"\"\"\n",
    "        return {\n",
    "            \"prob\": lit_types.MulticlassPreds(vocab=LABELS, parent=\"label\"),\n",
    "            ########## NEW OUTPUT SPECS ##########\n",
    "            \"tokens\": lit_types.Tokens(parent=\"text\"),\n",
    "            \"input_embedding\": lit_types.TokenEmbeddings(align=\"tokens\"),\n",
    "            \"input_emb_grad\": lit_types.TokenGradients(\n",
    "                align=\"tokens\", grad_for=\"input_embedding\"\n",
    "            ),\n",
    "            ######################################\n",
    "        }"
   ]
  },
  {
   "cell_type": "markdown",
   "id": "f510bc1b-e8b9-45e2-a60c-7eca5b0f2815",
   "metadata": {},
   "source": [
    "Let's render LIT again and check how these changes are reflected in the UI!"
   ]
  },
  {
   "cell_type": "code",
   "execution_count": 29,
   "id": "11633154-f2ef-4011-8079-49b6553dd0ca",
   "metadata": {
    "id": "11633154-f2ef-4011-8079-49b6553dd0ca",
    "outputId": "0a4c881a-a145-4019-e89e-e631b7284bef",
    "tags": []
   },
   "outputs": [
    {
     "name": "stderr",
     "output_type": "stream",
     "text": [
      "WARNING:absl:Unable to infer init spec for model 'BertSentimentModel'. Unable to infer a type for parameter 'model' of '__init__'. Please add a type hint or default value, or implement a Spec literal.\n",
      "WARNING:absl:Unable to infer init spec for dataset 'ImdbSentimentData'. Unsupported type '<class 'tensorflow.python.data.ops.dataset_ops.DatasetV2'>' for parameter 'dataset' of '__init__'. If possible (e.g., this parameter is Optional), please implement a spec literal instead of using inferencing.\n",
      "WARNING:absl:Unable to infer init spec for dataset 'NoneDataset'. Unable to infer a type for parameter 'models' of '__init__'. Please add a type hint or default value, or implement a Spec literal.\n",
      "127.0.0.1 - - [22/May/2025 03:06:57] \"GET /static/interstitial-select.png HTTP/1.1\" 200 6070\n",
      "127.0.0.1 - - [22/May/2025 03:07:09] \"POST /get_info HTTP/1.1\" 200 25968\n",
      "127.0.0.1 - - [22/May/2025 03:07:09] \"POST /get_dataset?dataset_name=acllmdb HTTP/1.1\" 200 156865\n",
      "ERROR:absl:Uncaught error: Exception encountered when calling layer 'softmax' (type Softmax).\n",
      "\n",
      "{{function_node __wrapped__Softmax_device_/job:localhost/replica:0/task:0/device:GPU:0}} OOM when allocating tensor with shape[100,2,512,512] and type float on /job:localhost/replica:0/task:0/device:GPU:0 by allocator GPU_0_bfc [Op:Softmax] name: \n",
      "\n",
      "Call arguments received by layer 'softmax' (type Softmax):\n",
      "  • inputs=tf.Tensor(shape=(100, 2, 512, 512), dtype=float32)\n",
      "  • mask=tf.Tensor(shape=(100, 1, 1, 512), dtype=int32) \n",
      "\n",
      " Traceback (most recent call last):\n",
      "  File \"/opt/conda/envs/lit_kernel/lib/python3.10/site-packages/lit_nlp/lib/wsgi_app.py\", line 190, in __call__\n",
      "    return self._ServeCustomHandler(request, clean_path, environ)(\n",
      "  File \"/opt/conda/envs/lit_kernel/lib/python3.10/site-packages/lit_nlp/lib/wsgi_app.py\", line 175, in _ServeCustomHandler\n",
      "    return self._handlers[clean_path](self, request, environ)\n",
      "  File \"/opt/conda/envs/lit_kernel/lib/python3.10/site-packages/lit_nlp/app.py\", line 910, in _handler\n",
      "    outputs = fn(data, **kw)\n",
      "  File \"/opt/conda/envs/lit_kernel/lib/python3.10/site-packages/lit_nlp/app.py\", line 658, in _get_interpretations\n",
      "    model_outputs = list(mdl.predict(model_inputs))\n",
      "  File \"/opt/conda/envs/lit_kernel/lib/python3.10/site-packages/lit_nlp/lib/caching.py\", line 313, in predict\n",
      "    model_preds = list(self.wrapped.predict(progress_indicator(misses)))\n",
      "  File \"/var/tmp/ipykernel_6518/1712288126.py\", line 44, in predict\n",
      "    bert_output = self._bert_backbone(\n",
      "  File \"/opt/conda/envs/lit_kernel/lib/python3.10/site-packages/keras/src/utils/traceback_utils.py\", line 70, in error_handler\n",
      "    raise e.with_traceback(filtered_tb) from None\n",
      "  File \"/home/jupyter/.local/lib/python3.10/site-packages/keras_nlp/src/layers/transformer_encoder.py\", line 194, in call\n",
      "    x = self._self_attention_layer(\n",
      "tensorflow.python.framework.errors_impl.ResourceExhaustedError: Exception encountered when calling layer 'softmax' (type Softmax).\n",
      "\n",
      "{{function_node __wrapped__Softmax_device_/job:localhost/replica:0/task:0/device:GPU:0}} OOM when allocating tensor with shape[100,2,512,512] and type float on /job:localhost/replica:0/task:0/device:GPU:0 by allocator GPU_0_bfc [Op:Softmax] name: \n",
      "\n",
      "Call arguments received by layer 'softmax' (type Softmax):\n",
      "  • inputs=tf.Tensor(shape=(100, 2, 512, 512), dtype=float32)\n",
      "  • mask=tf.Tensor(shape=(100, 1, 1, 512), dtype=int32)\n",
      "\n",
      "127.0.0.1 - - [22/May/2025 03:07:20] \"POST /get_interpretations?model=BERT%20classifier&dataset_name=acllmdb&interpreter=classification&do_predict=1 HTTP/1.1\" 500 2409\n",
      "ERROR:absl:Uncaught error: Exception encountered when calling layer 'multi_head_attention' (type MultiHeadAttention).\n",
      "\n",
      "{{function_node __wrapped__Einsum_N_2_device_/job:localhost/replica:0/task:0/device:GPU:0}} OOM when allocating tensor with shape[100,2,512,512] and type float on /job:localhost/replica:0/task:0/device:GPU:0 by allocator GPU_0_bfc [Op:Einsum] name: \n",
      "\n",
      "Call arguments received by layer 'multi_head_attention' (type MultiHeadAttention):\n",
      "  • query=tf.Tensor(shape=(100, 512, 128), dtype=float32)\n",
      "  • value=tf.Tensor(shape=(100, 512, 128), dtype=float32)\n",
      "  • key=None\n",
      "  • attention_mask=tf.Tensor(shape=(100, 1, 512), dtype=int32)\n",
      "  • return_attention_scores=False\n",
      "  • training=None\n",
      "  • use_causal_mask=False \n",
      "\n",
      " Traceback (most recent call last):\n",
      "  File \"/opt/conda/envs/lit_kernel/lib/python3.10/site-packages/lit_nlp/lib/wsgi_app.py\", line 190, in __call__\n",
      "    return self._ServeCustomHandler(request, clean_path, environ)(\n",
      "  File \"/opt/conda/envs/lit_kernel/lib/python3.10/site-packages/lit_nlp/lib/wsgi_app.py\", line 175, in _ServeCustomHandler\n",
      "    return self._handlers[clean_path](self, request, environ)\n",
      "  File \"/opt/conda/envs/lit_kernel/lib/python3.10/site-packages/lit_nlp/app.py\", line 910, in _handler\n",
      "    outputs = fn(data, **kw)\n",
      "  File \"/opt/conda/envs/lit_kernel/lib/python3.10/site-packages/lit_nlp/app.py\", line 726, in _get_metrics\n",
      "    model_outputs = self._get_preds(data=data, model=model)\n",
      "  File \"/opt/conda/envs/lit_kernel/lib/python3.10/site-packages/lit_nlp/app.py\", line 284, in _get_preds\n",
      "    preds = list(self._models[model].predict(\n",
      "  File \"/opt/conda/envs/lit_kernel/lib/python3.10/site-packages/lit_nlp/lib/caching.py\", line 313, in predict\n",
      "    model_preds = list(self.wrapped.predict(progress_indicator(misses)))\n",
      "  File \"/var/tmp/ipykernel_6518/1712288126.py\", line 44, in predict\n",
      "    bert_output = self._bert_backbone(\n",
      "  File \"/opt/conda/envs/lit_kernel/lib/python3.10/site-packages/keras/src/utils/traceback_utils.py\", line 70, in error_handler\n",
      "    raise e.with_traceback(filtered_tb) from None\n",
      "  File \"/home/jupyter/.local/lib/python3.10/site-packages/keras_nlp/src/layers/transformer_encoder.py\", line 194, in call\n",
      "    x = self._self_attention_layer(\n",
      "tensorflow.python.framework.errors_impl.ResourceExhaustedError: Exception encountered when calling layer 'multi_head_attention' (type MultiHeadAttention).\n",
      "\n",
      "{{function_node __wrapped__Einsum_N_2_device_/job:localhost/replica:0/task:0/device:GPU:0}} OOM when allocating tensor with shape[100,2,512,512] and type float on /job:localhost/replica:0/task:0/device:GPU:0 by allocator GPU_0_bfc [Op:Einsum] name: \n",
      "\n",
      "Call arguments received by layer 'multi_head_attention' (type MultiHeadAttention):\n",
      "  • query=tf.Tensor(shape=(100, 512, 128), dtype=float32)\n",
      "  • value=tf.Tensor(shape=(100, 512, 128), dtype=float32)\n",
      "  • key=None\n",
      "  • attention_mask=tf.Tensor(shape=(100, 1, 512), dtype=int32)\n",
      "  • return_attention_scores=False\n",
      "  • training=None\n",
      "  • use_causal_mask=False\n",
      "\n",
      "127.0.0.1 - - [22/May/2025 03:07:30] \"POST /get_metrics?model=BERT%20classifier&dataset_name=acllmdb&metrics=multiclass,paired&do_predict=1 HTTP/1.1\" 500 2984\n",
      "127.0.0.1 - - [22/May/2025 03:07:30] \"POST /push_ui_state?dataset_name=acllmdb HTTP/1.1\" 200 4\n",
      "127.0.0.1 - - [22/May/2025 03:07:30] \"POST /get_metrics?model=BERT%20classifier&dataset_name=acllmdb&metrics=multiclass,paired&do_predict=1 HTTP/1.1\" 200 161\n",
      "127.0.0.1 - - [22/May/2025 03:07:30] \"POST /push_ui_state?dataset_name=acllmdb HTTP/1.1\" 200 4\n",
      "127.0.0.1 - - [22/May/2025 03:07:30] \"POST /push_ui_state?dataset_name=acllmdb HTTP/1.1\" 200 4\n",
      "127.0.0.1 - - [22/May/2025 03:07:30] \"POST /get_metrics?model=BERT%20classifier&dataset_name=acllmdb&metrics=multiclass,paired&do_predict=1 HTTP/1.1\" 200 161\n",
      "127.0.0.1 - - [22/May/2025 03:07:30] \"POST /push_ui_state?dataset_name=acllmdb HTTP/1.1\" 200 4\n",
      "127.0.0.1 - - [22/May/2025 03:07:32] \"POST /get_metrics?model=BERT%20classifier&dataset_name=acllmdb&metrics=multiclass,paired&do_predict=1 HTTP/1.1\" 200 161\n",
      "127.0.0.1 - - [22/May/2025 03:07:32] \"POST /push_ui_state?dataset_name=acllmdb HTTP/1.1\" 200 4\n",
      "127.0.0.1 - - [22/May/2025 03:07:34] \"POST /get_metrics?model=BERT%20classifier&dataset_name=acllmdb&metrics=multiclass,paired&do_predict=1 HTTP/1.1\" 200 161\n",
      "127.0.0.1 - - [22/May/2025 03:07:34] \"POST /push_ui_state?dataset_name=acllmdb HTTP/1.1\" 200 4\n",
      "127.0.0.1 - - [22/May/2025 03:07:34] \"POST /push_ui_state?dataset_name=acllmdb HTTP/1.1\" 200 4\n",
      "127.0.0.1 - - [22/May/2025 03:07:35] \"POST /get_metrics?model=BERT%20classifier&dataset_name=acllmdb&metrics=multiclass,paired&do_predict=1 HTTP/1.1\" 200 161\n",
      "127.0.0.1 - - [22/May/2025 03:07:35] \"POST /get_metrics?model=BERT%20classifier&dataset_name=acllmdb&metrics=multiclass,paired&do_predict=1 HTTP/1.1\" 200 161\n",
      "127.0.0.1 - - [22/May/2025 03:07:35] \"POST /push_ui_state?dataset_name=acllmdb HTTP/1.1\" 200 4\n",
      "127.0.0.1 - - [22/May/2025 03:07:36] \"POST /push_ui_state?dataset_name=acllmdb HTTP/1.1\" 200 4\n",
      "127.0.0.1 - - [22/May/2025 03:07:36] \"POST /get_metrics?model=BERT%20classifier&dataset_name=acllmdb&metrics=multiclass,paired&do_predict=1 HTTP/1.1\" 200 161\n",
      "127.0.0.1 - - [22/May/2025 03:08:00] \"POST /get_info HTTP/1.1\" 200 25968\n",
      "127.0.0.1 - - [22/May/2025 03:08:01] \"POST /get_dataset?dataset_name=acllmdb HTTP/1.1\" 200 156865\n",
      "127.0.0.1 - - [22/May/2025 03:08:01] \"POST /push_ui_state?dataset_name=acllmdb HTTP/1.1\" 200 4\n",
      "ERROR:absl:Uncaught error: Exception encountered when calling layer 'softmax' (type Softmax).\n",
      "\n",
      "{{function_node __wrapped__Softmax_device_/job:localhost/replica:0/task:0/device:GPU:0}} OOM when allocating tensor with shape[93,2,512,512] and type float on /job:localhost/replica:0/task:0/device:GPU:0 by allocator GPU_0_bfc [Op:Softmax] name: \n",
      "\n",
      "Call arguments received by layer 'softmax' (type Softmax):\n",
      "  • inputs=tf.Tensor(shape=(93, 2, 512, 512), dtype=float32)\n",
      "  • mask=tf.Tensor(shape=(93, 1, 1, 512), dtype=int32) \n",
      "\n",
      " Traceback (most recent call last):\n",
      "  File \"/opt/conda/envs/lit_kernel/lib/python3.10/site-packages/lit_nlp/lib/wsgi_app.py\", line 190, in __call__\n",
      "    return self._ServeCustomHandler(request, clean_path, environ)(\n",
      "  File \"/opt/conda/envs/lit_kernel/lib/python3.10/site-packages/lit_nlp/lib/wsgi_app.py\", line 175, in _ServeCustomHandler\n",
      "    return self._handlers[clean_path](self, request, environ)\n",
      "  File \"/opt/conda/envs/lit_kernel/lib/python3.10/site-packages/lit_nlp/app.py\", line 910, in _handler\n",
      "    outputs = fn(data, **kw)\n",
      "  File \"/opt/conda/envs/lit_kernel/lib/python3.10/site-packages/lit_nlp/app.py\", line 726, in _get_metrics\n",
      "    model_outputs = self._get_preds(data=data, model=model)\n",
      "  File \"/opt/conda/envs/lit_kernel/lib/python3.10/site-packages/lit_nlp/app.py\", line 284, in _get_preds\n",
      "    preds = list(self._models[model].predict(\n",
      "  File \"/opt/conda/envs/lit_kernel/lib/python3.10/site-packages/lit_nlp/lib/caching.py\", line 313, in predict\n",
      "    model_preds = list(self.wrapped.predict(progress_indicator(misses)))\n",
      "  File \"/var/tmp/ipykernel_6518/1712288126.py\", line 44, in predict\n",
      "    bert_output = self._bert_backbone(\n",
      "  File \"/opt/conda/envs/lit_kernel/lib/python3.10/site-packages/keras/src/utils/traceback_utils.py\", line 70, in error_handler\n",
      "    raise e.with_traceback(filtered_tb) from None\n",
      "  File \"/home/jupyter/.local/lib/python3.10/site-packages/keras_nlp/src/layers/transformer_encoder.py\", line 194, in call\n",
      "    x = self._self_attention_layer(\n",
      "tensorflow.python.framework.errors_impl.ResourceExhaustedError: Exception encountered when calling layer 'softmax' (type Softmax).\n",
      "\n",
      "{{function_node __wrapped__Softmax_device_/job:localhost/replica:0/task:0/device:GPU:0}} OOM when allocating tensor with shape[93,2,512,512] and type float on /job:localhost/replica:0/task:0/device:GPU:0 by allocator GPU_0_bfc [Op:Softmax] name: \n",
      "\n",
      "Call arguments received by layer 'softmax' (type Softmax):\n",
      "  • inputs=tf.Tensor(shape=(93, 2, 512, 512), dtype=float32)\n",
      "  • mask=tf.Tensor(shape=(93, 1, 1, 512), dtype=int32)\n",
      "\n",
      "127.0.0.1 - - [22/May/2025 03:08:11] \"POST /get_metrics?model=BERT%20classifier&dataset_name=acllmdb&metrics=multiclass,paired&do_predict=1 HTTP/1.1\" 500 2554\n",
      "ERROR:absl:Uncaught error: Exception encountered when calling layer 'softmax' (type Softmax).\n",
      "\n",
      "{{function_node __wrapped__Softmax_device_/job:localhost/replica:0/task:0/device:GPU:0}} OOM when allocating tensor with shape[93,2,512,512] and type float on /job:localhost/replica:0/task:0/device:GPU:0 by allocator GPU_0_bfc [Op:Softmax] name: \n",
      "\n",
      "Call arguments received by layer 'softmax' (type Softmax):\n",
      "  • inputs=tf.Tensor(shape=(93, 2, 512, 512), dtype=float32)\n",
      "  • mask=tf.Tensor(shape=(93, 1, 1, 512), dtype=int32) \n",
      "\n",
      " Traceback (most recent call last):\n",
      "  File \"/opt/conda/envs/lit_kernel/lib/python3.10/site-packages/lit_nlp/lib/wsgi_app.py\", line 190, in __call__\n",
      "    return self._ServeCustomHandler(request, clean_path, environ)(\n",
      "  File \"/opt/conda/envs/lit_kernel/lib/python3.10/site-packages/lit_nlp/lib/wsgi_app.py\", line 175, in _ServeCustomHandler\n",
      "    return self._handlers[clean_path](self, request, environ)\n",
      "  File \"/opt/conda/envs/lit_kernel/lib/python3.10/site-packages/lit_nlp/app.py\", line 910, in _handler\n",
      "    outputs = fn(data, **kw)\n",
      "  File \"/opt/conda/envs/lit_kernel/lib/python3.10/site-packages/lit_nlp/app.py\", line 658, in _get_interpretations\n",
      "    model_outputs = list(mdl.predict(model_inputs))\n",
      "  File \"/opt/conda/envs/lit_kernel/lib/python3.10/site-packages/lit_nlp/lib/caching.py\", line 313, in predict\n",
      "    model_preds = list(self.wrapped.predict(progress_indicator(misses)))\n",
      "  File \"/var/tmp/ipykernel_6518/1712288126.py\", line 44, in predict\n",
      "    bert_output = self._bert_backbone(\n",
      "  File \"/opt/conda/envs/lit_kernel/lib/python3.10/site-packages/keras/src/utils/traceback_utils.py\", line 70, in error_handler\n",
      "    raise e.with_traceback(filtered_tb) from None\n",
      "  File \"/home/jupyter/.local/lib/python3.10/site-packages/keras_nlp/src/layers/transformer_encoder.py\", line 194, in call\n",
      "    x = self._self_attention_layer(\n",
      "tensorflow.python.framework.errors_impl.ResourceExhaustedError: Exception encountered when calling layer 'softmax' (type Softmax).\n",
      "\n",
      "{{function_node __wrapped__Softmax_device_/job:localhost/replica:0/task:0/device:GPU:0}} OOM when allocating tensor with shape[93,2,512,512] and type float on /job:localhost/replica:0/task:0/device:GPU:0 by allocator GPU_0_bfc [Op:Softmax] name: \n",
      "\n",
      "Call arguments received by layer 'softmax' (type Softmax):\n",
      "  • inputs=tf.Tensor(shape=(93, 2, 512, 512), dtype=float32)\n",
      "  • mask=tf.Tensor(shape=(93, 1, 1, 512), dtype=int32)\n",
      "\n",
      "127.0.0.1 - - [22/May/2025 03:08:21] \"POST /get_interpretations?model=BERT%20classifier&dataset_name=acllmdb&interpreter=classification&do_predict=1 HTTP/1.1\" 500 2403\n",
      "127.0.0.1 - - [22/May/2025 03:08:22] \"POST /get_metrics?model=BERT%20classifier&dataset_name=acllmdb&metrics=multiclass,paired&do_predict=1 HTTP/1.1\" 200 161\n",
      "127.0.0.1 - - [22/May/2025 03:08:22] \"POST /push_ui_state?dataset_name=acllmdb HTTP/1.1\" 200 4\n",
      "ERROR:absl:Uncaught error: Exception encountered when calling layer 'softmax' (type Softmax).\n",
      "\n",
      "{{function_node __wrapped__Softmax_device_/job:localhost/replica:0/task:0/device:GPU:0}} OOM when allocating tensor with shape[92,2,512,512] and type float on /job:localhost/replica:0/task:0/device:GPU:0 by allocator GPU_0_bfc [Op:Softmax] name: \n",
      "\n",
      "Call arguments received by layer 'softmax' (type Softmax):\n",
      "  • inputs=tf.Tensor(shape=(92, 2, 512, 512), dtype=float32)\n",
      "  • mask=tf.Tensor(shape=(92, 1, 1, 512), dtype=int32) \n",
      "\n",
      " Traceback (most recent call last):\n",
      "  File \"/opt/conda/envs/lit_kernel/lib/python3.10/site-packages/lit_nlp/lib/wsgi_app.py\", line 190, in __call__\n",
      "    return self._ServeCustomHandler(request, clean_path, environ)(\n",
      "  File \"/opt/conda/envs/lit_kernel/lib/python3.10/site-packages/lit_nlp/lib/wsgi_app.py\", line 175, in _ServeCustomHandler\n",
      "    return self._handlers[clean_path](self, request, environ)\n",
      "  File \"/opt/conda/envs/lit_kernel/lib/python3.10/site-packages/lit_nlp/app.py\", line 910, in _handler\n",
      "    outputs = fn(data, **kw)\n",
      "  File \"/opt/conda/envs/lit_kernel/lib/python3.10/site-packages/lit_nlp/app.py\", line 658, in _get_interpretations\n",
      "    model_outputs = list(mdl.predict(model_inputs))\n",
      "  File \"/opt/conda/envs/lit_kernel/lib/python3.10/site-packages/lit_nlp/lib/caching.py\", line 313, in predict\n",
      "    model_preds = list(self.wrapped.predict(progress_indicator(misses)))\n",
      "  File \"/var/tmp/ipykernel_6518/1712288126.py\", line 44, in predict\n",
      "    bert_output = self._bert_backbone(\n",
      "  File \"/opt/conda/envs/lit_kernel/lib/python3.10/site-packages/keras/src/utils/traceback_utils.py\", line 70, in error_handler\n",
      "    raise e.with_traceback(filtered_tb) from None\n",
      "  File \"/home/jupyter/.local/lib/python3.10/site-packages/keras_nlp/src/layers/transformer_encoder.py\", line 194, in call\n",
      "    x = self._self_attention_layer(\n",
      "tensorflow.python.framework.errors_impl.ResourceExhaustedError: Exception encountered when calling layer 'softmax' (type Softmax).\n",
      "\n",
      "{{function_node __wrapped__Softmax_device_/job:localhost/replica:0/task:0/device:GPU:0}} OOM when allocating tensor with shape[92,2,512,512] and type float on /job:localhost/replica:0/task:0/device:GPU:0 by allocator GPU_0_bfc [Op:Softmax] name: \n",
      "\n",
      "Call arguments received by layer 'softmax' (type Softmax):\n",
      "  • inputs=tf.Tensor(shape=(92, 2, 512, 512), dtype=float32)\n",
      "  • mask=tf.Tensor(shape=(92, 1, 1, 512), dtype=int32)\n",
      "\n",
      "127.0.0.1 - - [22/May/2025 03:08:32] \"POST /get_interpretations?model=BERT%20classifier&dataset_name=acllmdb&interpreter=curves&do_predict=1 HTTP/1.1\" 500 2403\n",
      "127.0.0.1 - - [22/May/2025 03:08:32] \"POST /get_interpretations?model=BERT%20classifier&dataset_name=acllmdb&interpreter=curves&do_predict=1 HTTP/1.1\" 200 31\n",
      "ERROR:absl:Uncaught error: Exception encountered when calling layer 'softmax' (type Softmax).\n",
      "\n",
      "{{function_node __wrapped__Softmax_device_/job:localhost/replica:0/task:0/device:GPU:0}} OOM when allocating tensor with shape[92,2,512,512] and type float on /job:localhost/replica:0/task:0/device:GPU:0 by allocator GPU_0_bfc [Op:Softmax] name: \n",
      "\n",
      "Call arguments received by layer 'softmax' (type Softmax):\n",
      "  • inputs=tf.Tensor(shape=(92, 2, 512, 512), dtype=float32)\n",
      "  • mask=tf.Tensor(shape=(92, 1, 1, 512), dtype=int32) \n",
      "\n",
      " Traceback (most recent call last):\n",
      "  File \"/opt/conda/envs/lit_kernel/lib/python3.10/site-packages/lit_nlp/lib/wsgi_app.py\", line 190, in __call__\n",
      "    return self._ServeCustomHandler(request, clean_path, environ)(\n",
      "  File \"/opt/conda/envs/lit_kernel/lib/python3.10/site-packages/lit_nlp/lib/wsgi_app.py\", line 175, in _ServeCustomHandler\n",
      "    return self._handlers[clean_path](self, request, environ)\n",
      "  File \"/opt/conda/envs/lit_kernel/lib/python3.10/site-packages/lit_nlp/app.py\", line 910, in _handler\n",
      "    outputs = fn(data, **kw)\n",
      "  File \"/opt/conda/envs/lit_kernel/lib/python3.10/site-packages/lit_nlp/app.py\", line 658, in _get_interpretations\n",
      "    model_outputs = list(mdl.predict(model_inputs))\n",
      "  File \"/opt/conda/envs/lit_kernel/lib/python3.10/site-packages/lit_nlp/lib/caching.py\", line 313, in predict\n",
      "    model_preds = list(self.wrapped.predict(progress_indicator(misses)))\n",
      "  File \"/var/tmp/ipykernel_6518/1712288126.py\", line 44, in predict\n",
      "    bert_output = self._bert_backbone(\n",
      "  File \"/opt/conda/envs/lit_kernel/lib/python3.10/site-packages/keras/src/utils/traceback_utils.py\", line 70, in error_handler\n",
      "    raise e.with_traceback(filtered_tb) from None\n",
      "  File \"/home/jupyter/.local/lib/python3.10/site-packages/keras_nlp/src/layers/transformer_encoder.py\", line 194, in call\n",
      "    x = self._self_attention_layer(\n",
      "tensorflow.python.framework.errors_impl.ResourceExhaustedError: Exception encountered when calling layer 'softmax' (type Softmax).\n",
      "\n",
      "{{function_node __wrapped__Softmax_device_/job:localhost/replica:0/task:0/device:GPU:0}} OOM when allocating tensor with shape[92,2,512,512] and type float on /job:localhost/replica:0/task:0/device:GPU:0 by allocator GPU_0_bfc [Op:Softmax] name: \n",
      "\n",
      "Call arguments received by layer 'softmax' (type Softmax):\n",
      "  • inputs=tf.Tensor(shape=(92, 2, 512, 512), dtype=float32)\n",
      "  • mask=tf.Tensor(shape=(92, 1, 1, 512), dtype=int32)\n",
      "\n",
      "127.0.0.1 - - [22/May/2025 03:08:42] \"POST /get_interpretations?model=BERT%20classifier&dataset_name=acllmdb&interpreter=curves&do_predict=1 HTTP/1.1\" 500 2403\n",
      "127.0.0.1 - - [22/May/2025 03:08:42] \"POST /get_preds?model=BERT%20classifier&dataset_name=acllmdb&requested_types=MulticlassPreds,RegressionScore&requested_fields= HTTP/1.1\" 200 53\n",
      "127.0.0.1 - - [22/May/2025 03:08:42] \"POST /get_interpretations?model=BERT%20classifier&dataset_name=acllmdb&interpreter=Grad%20%E2%8B%85%20Input&do_predict=1 HTTP/1.1\" 200 15968\n",
      "127.0.0.1 - - [22/May/2025 03:08:42] \"POST /get_interpretations?model=BERT%20classifier&dataset_name=acllmdb&interpreter=Grad%20L2%20Norm&do_predict=1 HTTP/1.1\" 200 15552\n",
      "127.0.0.1 - - [22/May/2025 03:08:50] \"POST /push_ui_state?dataset_name=acllmdb HTTP/1.1\" 200 4\n",
      "127.0.0.1 - - [22/May/2025 03:08:53] \"POST /push_ui_state?dataset_name=acllmdb HTTP/1.1\" 200 4\n",
      "127.0.0.1 - - [22/May/2025 03:08:55] \"POST /push_ui_state?dataset_name=acllmdb HTTP/1.1\" 200 4\n",
      "WARNING:absl:Attmepting to retrieve 1 (of 1) predictions from the cache where the cache key is None - this can be from a missing or empty example id. These will call model.predict() on this and subsequent calls.\n",
      "127.0.0.1 - - [22/May/2025 03:09:38] \"POST /get_interpretations?model=BERT%20classifier&dataset_name=acllmdb&interpreter=Grad%20L2%20Norm&do_predict=1 HTTP/1.1\" 200 15547\n",
      "127.0.0.1 - - [22/May/2025 03:09:38] \"POST /get_interpretations?model=BERT%20classifier&dataset_name=acllmdb&interpreter=Grad%20%E2%8B%85%20Input&do_predict=1 HTTP/1.1\" 200 15904\n",
      "127.0.0.1 - - [22/May/2025 03:09:38] \"POST /get_interpretations?model=BERT%20classifier&dataset_name=acllmdb&interpreter=Grad%20L2%20Norm&do_predict=1 HTTP/1.1\" 200 15527\n",
      "127.0.0.1 - - [22/May/2025 03:09:38] \"POST /get_interpretations?model=BERT%20classifier&dataset_name=acllmdb&interpreter=Grad%20L2%20Norm&do_predict=1 HTTP/1.1\" 200 15527\n",
      "127.0.0.1 - - [22/May/2025 03:09:38] \"POST /get_preds?model=BERT%20classifier&dataset_name=acllmdb&requested_types=MulticlassPreds,RegressionScore&requested_fields= HTTP/1.1\" 200 54\n",
      "WARNING:absl:Attmepting to retrieve 1 (of 1) predictions from the cache where the cache key is None - this can be from a missing or empty example id. These will call model.predict() on this and subsequent calls.\n",
      "127.0.0.1 - - [22/May/2025 03:09:38] \"POST /get_interpretations?model=BERT%20classifier&dataset_name=acllmdb&interpreter=Grad%20%E2%8B%85%20Input&do_predict=1 HTTP/1.1\" 200 15889\n",
      "127.0.0.1 - - [22/May/2025 03:09:38] \"POST /get_interpretations?model=BERT%20classifier&dataset_name=acllmdb&interpreter=Grad%20%E2%8B%85%20Input&do_predict=1 HTTP/1.1\" 200 15904\n",
      "127.0.0.1 - - [22/May/2025 03:09:38] \"POST /get_interpretations?model=BERT%20classifier&dataset_name=acllmdb&interpreter=Grad%20%E2%8B%85%20Input&do_predict=1 HTTP/1.1\" 200 15904\n",
      "127.0.0.1 - - [22/May/2025 03:09:38] \"POST /get_interpretations?model=BERT%20classifier&dataset_name=acllmdb&interpreter=Grad%20L2%20Norm&do_predict=1 HTTP/1.1\" 200 15527\n",
      "127.0.0.1 - - [22/May/2025 03:09:45] \"POST /push_ui_state?dataset_name=acllmdb HTTP/1.1\" 200 4\n",
      "127.0.0.1 - - [22/May/2025 03:09:45] \"POST /get_interpretations?model=BERT%20classifier&dataset_name=acllmdb&interpreter=Grad%20%E2%8B%85%20Input&do_predict=1 HTTP/1.1\" 200 5545\n",
      "127.0.0.1 - - [22/May/2025 03:09:45] \"POST /get_interpretations?model=BERT%20classifier&dataset_name=acllmdb&interpreter=Grad%20%E2%8B%85%20Input&do_predict=1 HTTP/1.1\" 200 5545\n",
      "127.0.0.1 - - [22/May/2025 03:09:45] \"POST /get_preds?model=BERT%20classifier&dataset_name=acllmdb&requested_types=MulticlassPreds,RegressionScore&requested_fields= HTTP/1.1\" 200 54\n",
      "127.0.0.1 - - [22/May/2025 03:09:45] \"POST /get_interpretations?model=BERT%20classifier&dataset_name=acllmdb&interpreter=Grad%20L2%20Norm&do_predict=1 HTTP/1.1\" 200 5396\n",
      "127.0.0.1 - - [22/May/2025 03:09:45] \"POST /get_interpretations?model=BERT%20classifier&dataset_name=acllmdb&interpreter=Grad%20L2%20Norm&do_predict=1 HTTP/1.1\" 200 5396\n",
      "127.0.0.1 - - [22/May/2025 03:09:45] \"POST /get_interpretations?model=BERT%20classifier&dataset_name=acllmdb&interpreter=Grad%20L2%20Norm&do_predict=1 HTTP/1.1\" 200 5396\n",
      "127.0.0.1 - - [22/May/2025 03:09:45] \"POST /get_interpretations?model=BERT%20classifier&dataset_name=acllmdb&interpreter=Grad%20%E2%8B%85%20Input&do_predict=1 HTTP/1.1\" 200 5545\n",
      "127.0.0.1 - - [22/May/2025 03:09:49] \"POST /push_ui_state?dataset_name=acllmdb HTTP/1.1\" 200 4\n",
      "127.0.0.1 - - [22/May/2025 03:09:49] \"POST /get_interpretations?model=BERT%20classifier&dataset_name=acllmdb&interpreter=Grad%20%E2%8B%85%20Input&do_predict=1 HTTP/1.1\" 200 10568\n",
      "127.0.0.1 - - [22/May/2025 03:09:49] \"POST /get_interpretations?model=BERT%20classifier&dataset_name=acllmdb&interpreter=Grad%20L2%20Norm&do_predict=1 HTTP/1.1\" 200 10315\n",
      "127.0.0.1 - - [22/May/2025 03:09:49] \"POST /get_preds?model=BERT%20classifier&dataset_name=acllmdb&requested_types=MulticlassPreds,RegressionScore&requested_fields= HTTP/1.1\" 200 53\n",
      "127.0.0.1 - - [22/May/2025 03:09:49] \"POST /get_interpretations?model=BERT%20classifier&dataset_name=acllmdb&interpreter=Grad%20L2%20Norm&do_predict=1 HTTP/1.1\" 200 10315\n",
      "127.0.0.1 - - [22/May/2025 03:09:49] \"POST /get_interpretations?model=BERT%20classifier&dataset_name=acllmdb&interpreter=Grad%20%E2%8B%85%20Input&do_predict=1 HTTP/1.1\" 200 10568\n",
      "127.0.0.1 - - [22/May/2025 03:09:50] \"POST /get_interpretations?model=BERT%20classifier&dataset_name=acllmdb&interpreter=Grad%20L2%20Norm&do_predict=1 HTTP/1.1\" 200 10315\n",
      "127.0.0.1 - - [22/May/2025 03:09:50] \"POST /get_interpretations?model=BERT%20classifier&dataset_name=acllmdb&interpreter=Grad%20%E2%8B%85%20Input&do_predict=1 HTTP/1.1\" 200 10568\n",
      "127.0.0.1 - - [22/May/2025 03:09:52] \"POST /get_interpretations?model=BERT%20classifier&dataset_name=acllmdb&interpreter=Grad%20L2%20Norm&do_predict=1 HTTP/1.1\" 200 5413\n",
      "127.0.0.1 - - [22/May/2025 03:09:52] \"POST /push_ui_state?dataset_name=acllmdb HTTP/1.1\" 200 4\n",
      "127.0.0.1 - - [22/May/2025 03:09:52] \"POST /get_interpretations?model=BERT%20classifier&dataset_name=acllmdb&interpreter=Grad%20%E2%8B%85%20Input&do_predict=1 HTTP/1.1\" 200 5550\n",
      "127.0.0.1 - - [22/May/2025 03:09:52] \"POST /get_interpretations?model=BERT%20classifier&dataset_name=acllmdb&interpreter=Grad%20%E2%8B%85%20Input&do_predict=1 HTTP/1.1\" 200 5550\n",
      "127.0.0.1 - - [22/May/2025 03:09:52] \"POST /get_preds?model=BERT%20classifier&dataset_name=acllmdb&requested_types=MulticlassPreds,RegressionScore&requested_fields= HTTP/1.1\" 200 54\n",
      "127.0.0.1 - - [22/May/2025 03:09:52] \"POST /get_interpretations?model=BERT%20classifier&dataset_name=acllmdb&interpreter=Grad%20L2%20Norm&do_predict=1 HTTP/1.1\" 200 5413\n",
      "127.0.0.1 - - [22/May/2025 03:09:52] \"POST /get_interpretations?model=BERT%20classifier&dataset_name=acllmdb&interpreter=Grad%20%E2%8B%85%20Input&do_predict=1 HTTP/1.1\" 200 5550\n",
      "127.0.0.1 - - [22/May/2025 03:09:52] \"POST /get_interpretations?model=BERT%20classifier&dataset_name=acllmdb&interpreter=Grad%20L2%20Norm&do_predict=1 HTTP/1.1\" 200 5413\n",
      "127.0.0.1 - - [22/May/2025 03:10:06] \"POST /push_ui_state?dataset_name=acllmdb HTTP/1.1\" 200 4\n",
      "127.0.0.1 - - [22/May/2025 03:10:07] \"POST /get_interpretations?model=BERT%20classifier&dataset_name=acllmdb&interpreter=Grad%20%E2%8B%85%20Input&do_predict=1 HTTP/1.1\" 200 3000\n",
      "127.0.0.1 - - [22/May/2025 03:10:07] \"POST /get_interpretations?model=BERT%20classifier&dataset_name=acllmdb&interpreter=Grad%20%E2%8B%85%20Input&do_predict=1 HTTP/1.1\" 200 3000\n",
      "127.0.0.1 - - [22/May/2025 03:10:07] \"POST /get_interpretations?model=BERT%20classifier&dataset_name=acllmdb&interpreter=Grad%20L2%20Norm&do_predict=1 HTTP/1.1\" 200 2912\n",
      "127.0.0.1 - - [22/May/2025 03:10:07] \"POST /get_preds?model=BERT%20classifier&dataset_name=acllmdb&requested_types=MulticlassPreds,RegressionScore&requested_fields= HTTP/1.1\" 200 55\n",
      "127.0.0.1 - - [22/May/2025 03:10:07] \"POST /get_interpretations?model=BERT%20classifier&dataset_name=acllmdb&interpreter=Grad%20L2%20Norm&do_predict=1 HTTP/1.1\" 200 2912\n",
      "127.0.0.1 - - [22/May/2025 03:10:07] \"POST /get_interpretations?model=BERT%20classifier&dataset_name=acllmdb&interpreter=Grad%20%E2%8B%85%20Input&do_predict=1 HTTP/1.1\" 200 3000\n",
      "127.0.0.1 - - [22/May/2025 03:10:07] \"POST /get_interpretations?model=BERT%20classifier&dataset_name=acllmdb&interpreter=Grad%20L2%20Norm&do_predict=1 HTTP/1.1\" 200 2912\n"
     ]
    }
   ],
   "source": [
    "# Create the LIT widget with the model and dataset to analyze.\n",
    "models = {\"BERT classifier\": BertSentimentModel(classifier)}\n",
    "\n",
    "widget.stop()\n",
    "widget = notebook.LitWidget(models, datasets, layouts=layouts, port=8890)"
   ]
  },
  {
   "cell_type": "code",
   "execution_count": 30,
   "id": "826c86b5-c819-4f2c-b874-7c678a763d4b",
   "metadata": {
    "id": "826c86b5-c819-4f2c-b874-7c678a763d4b",
    "outputId": "d1ee69cc-1793-4081-bfe9-3f51882ebfa9",
    "tags": []
   },
   "outputs": [
    {
     "data": {
      "text/html": [
       "\n",
       "      <a href=\"javascript:void(0);\" id=\"lit-frame-c6e200c61c30bb13\"></a>\n",
       "      <script>\n",
       "        (function() {\n",
       "          const urlStr = \"/proxy/8890/\" + '?'\n",
       "          const url = new URL(urlStr, window.location);\n",
       "          const port = 0;\n",
       "          if (port) {\n",
       "            url.port = port;\n",
       "          }\n",
       "          const a = document.getElementById(\"lit-frame-c6e200c61c30bb13\");\n",
       "          a.innerHTML = url;\n",
       "          a.onclick = (e) => window.open(url, \"_blank\");\n",
       "          window.open(url, \"_blank\");\n",
       "        })();\n",
       "      </script>\n",
       "    "
      ],
      "text/plain": [
       "<IPython.core.display.HTML object>"
      ]
     },
     "metadata": {},
     "output_type": "display_data"
    }
   ],
   "source": [
    "widget.render(height=600, open_in_new_tab=True)"
   ]
  },
  {
   "cell_type": "markdown",
   "id": "9a44b742-df4a-4e97-8e82-b12be9008654",
   "metadata": {},
   "source": [
    "## Add Integrated Gradients\n",
    "\n",
    "The integrated gradient method is a more robust method for estimating feature contribution based on integrating gradients along a path in embedding space. <br>\n",
    "See [Sundararajan et al. 2017](https://arxiv.org/abs/1703.01365) for additional details on the algorithm. This method may give better results than grad-norm and grad-dot-input but also requires more involved instrumentation of the model.\n",
    "\n",
    "There are the key updates to use Integrated Gradients:\n",
    "- `input_spec()` now includes `input_embedding` as an optional key-value (`required=False`), which is the same name as the output `input_embedding` spec. <br>\n",
    "In Integrated Gradients, LIT computes multiple inputs (token embeddings in this case) perturbations on which we compute gradients, and integrates over them. This optional input is the gate of those perturbations, which will only be passed when we use Integrated Gradients.\n",
    "- `output_spec()` is almost the same as the previous example, except for the additional `grad_target_field_key=\"label\"` to link with the label field from the input.\n",
    "- `predict()` now has a conditional operation for Integrated Gradients (i.e., in case the `input_embedding` key is included in inputs). We simply swap the perturbations with the raw embeddings calculated from the original inputs. "
   ]
  },
  {
   "cell_type": "code",
   "execution_count": 80,
   "id": "f37f18da-bf3f-41ab-9122-c16b21e3d005",
   "metadata": {
    "id": "f37f18da-bf3f-41ab-9122-c16b21e3d005",
    "tags": []
   },
   "outputs": [],
   "source": [
    "START_OFFSET = 1  # offset [CLS] token\n",
    "END_OFFSET = 1  # offset [SEP] token\n",
    "\n",
    "\n",
    "class BertSentimentModel(lit_model.Model):\n",
    "\n",
    "    def __init__(self, model):\n",
    "        self._model = model\n",
    "        self._embedding_model = tf.keras.Model(\n",
    "            inputs=model.input, outputs=model.layers[3].layers[6].output\n",
    "        )\n",
    "        self._bert_backbone = tf.keras.Model(\n",
    "            inputs=[\n",
    "                model.layers[3].layers[7].input,\n",
    "                model.layers[3].layers[8].input,\n",
    "            ],\n",
    "            outputs=model.layers[3].layers[-1].output,\n",
    "        )\n",
    "        self._cls_head = tf.keras.Model(\n",
    "            inputs=classifier.layers[-2].input,\n",
    "            outputs=classifier.layers[-1].output,\n",
    "        )\n",
    "\n",
    "    def _detokenize(self, indices):\n",
    "        return [\n",
    "            self._model.preprocessor.tokenizer.vocabulary[idx]\n",
    "            for idx in indices\n",
    "        ]\n",
    "\n",
    "    def predict(self, inputs):\n",
    "        \"\"\"Predict on a stream of examples.\"\"\"\n",
    "        examples = [d[\"text\"] for d in inputs]\n",
    "        tokenized = self._model.preprocessor(examples)\n",
    "        seq_lens = tf.reduce_sum(\n",
    "            tf.cast(tokenized[\"padding_mask\"], tf.int32), axis=-1\n",
    "        )\n",
    "        embeddings = self._embedding_model(tokenized)\n",
    "        ########## CONDITIONAL OPERATION FOR IG PERTURBATIONS ##########\n",
    "        if \"input_embedding\" in inputs[0].keys():\n",
    "            pertubations = tf.convert_to_tensor(\n",
    "                [inp[\"input_embedding\"] for inp in inputs]\n",
    "            )\n",
    "            step_size, ptb_len, emd_dim = pertubations.shape\n",
    "            pertubations = tf.reshape(\n",
    "                pertubations, (step_size * ptb_len, emd_dim)\n",
    "            )\n",
    "            update_indices = [\n",
    "                [s, l + START_OFFSET]\n",
    "                for s in range(step_size)\n",
    "                for l in range(ptb_len)\n",
    "            ]\n",
    "            embeddings = tf.tensor_scatter_nd_update(\n",
    "                embeddings, update_indices, pertubations\n",
    "            )\n",
    "        ###############################################################\n",
    "\n",
    "        with tf.GradientTape() as tape:\n",
    "            tape.watch(embeddings)\n",
    "            bert_output = self._bert_backbone(\n",
    "                [embeddings, tokenized[\"padding_mask\"]]\n",
    "            )\n",
    "            logits = self._cls_head(bert_output)\n",
    "            if \"label\" in inputs[0].keys():\n",
    "                indices = [\n",
    "                    1 if inp[\"label\"] == LABELS[1] else 0 for inp in inputs\n",
    "                ]\n",
    "            else:\n",
    "                indices = tf.argmax(logits, axis=-1)\n",
    "            pred = tf.gather_nd(\n",
    "                logits, [[i, idx] for i, idx in enumerate(indices)]\n",
    "            )\n",
    "\n",
    "        probs = tf.keras.activations.softmax(logits)\n",
    "\n",
    "        input_emb_grads = tape.gradient(pred, embeddings)\n",
    "\n",
    "        return [\n",
    "            {\n",
    "                \"prob\": prob.numpy(),\n",
    "                \"tokens\": self._detokenize(\n",
    "                    tokens[START_OFFSET : slen - END_OFFSET]\n",
    "                ),\n",
    "                \"input_embedding\": emb[\n",
    "                    START_OFFSET : slen - END_OFFSET\n",
    "                ].numpy(),\n",
    "                \"input_emb_grad\": grad[\n",
    "                    START_OFFSET : slen - END_OFFSET\n",
    "                ].numpy(),\n",
    "            }\n",
    "            for prob, tokens, emb, grad, slen in zip(\n",
    "                probs,\n",
    "                tokenized[\"token_ids\"],\n",
    "                embeddings,\n",
    "                input_emb_grads,\n",
    "                seq_lens,\n",
    "            )\n",
    "        ]\n",
    "\n",
    "    def input_spec(self):\n",
    "        \"\"\"Describe the inputs to the model.\"\"\"\n",
    "        return {\n",
    "            \"text\": lit_types.TextSegment(),\n",
    "            \"label\": lit_types.CategoryLabel(required=False, vocab=LABELS),\n",
    "            ########## NEW INPUT SPEC FOR IG PERTURBATIONS ##########\n",
    "            \"input_embedding\": lit_types.TokenEmbeddings(\n",
    "                required=False, align=\"tokens\"\n",
    "            ),\n",
    "            #########################################################\n",
    "        }\n",
    "\n",
    "    def output_spec(self):\n",
    "        \"\"\"Describe the model outputs.\"\"\"\n",
    "        return {\n",
    "            \"prob\": lit_types.MulticlassPreds(vocab=LABELS, parent=\"label\"),\n",
    "            \"tokens\": lit_types.Tokens(parent=\"text\"),\n",
    "            \"input_embedding\": lit_types.TokenEmbeddings(align=\"tokens\"),\n",
    "            \"input_emb_grad\": lit_types.TokenGradients(\n",
    "                align=\"tokens\",\n",
    "                grad_for=\"input_embedding\",\n",
    "                ########## ADDITIONAL ARGUMENT FOR IG ##########\n",
    "                grad_target_field_key=\"label\",\n",
    "                ################################################\n",
    "            ),\n",
    "        }"
   ]
  },
  {
   "cell_type": "code",
   "execution_count": 82,
   "id": "38bda6f3-7573-4c66-b1da-70dc94e0ca84",
   "metadata": {
    "tags": []
   },
   "outputs": [
    {
     "name": "stderr",
     "output_type": "stream",
     "text": [
      "WARNING:absl:Unable to infer init spec for model 'BertSentimentModel'. Unable to infer a type for parameter 'model' of '__init__'. Please add a type hint or default value, or implement a Spec literal.\n",
      "WARNING:absl:Unable to infer init spec for dataset 'ImdbSentimentData'. Unsupported type '<class 'tensorflow.python.data.ops.dataset_ops.DatasetV2'>' for parameter 'dataset' of '__init__'. If possible (e.g., this parameter is Optional), please implement a spec literal instead of using inferencing.\n",
      "WARNING:absl:Unable to infer init spec for dataset 'NoneDataset'. Unable to infer a type for parameter 'models' of '__init__'. Please add a type hint or default value, or implement a Spec literal.\n",
      "127.0.0.1 - - [09/Sep/2024 13:58:30] \"POST /get_info HTTP/1.1\" 200 26791\n",
      "127.0.0.1 - - [09/Sep/2024 13:58:30] \"POST /get_dataset?dataset_name=acllmdb HTTP/1.1\" 200 161614\n",
      "127.0.0.1 - - [09/Sep/2024 13:58:30] \"POST /push_ui_state?dataset_name=acllmdb HTTP/1.1\" 200 4\n",
      "127.0.0.1 - - [09/Sep/2024 13:58:37] \"POST /get_metrics?model=BERT%20classifier&dataset_name=acllmdb&metrics=multiclass,paired&do_predict=1 HTTP/1.1\" 200 162\n",
      "127.0.0.1 - - [09/Sep/2024 13:58:37] \"POST /get_interpretations?model=BERT%20classifier&dataset_name=acllmdb&interpreter=classification&do_predict=1 HTTP/1.1\" 200 17525\n",
      "127.0.0.1 - - [09/Sep/2024 13:58:37] \"GET /static/onboarding_1_welcome.gif HTTP/1.1\" 200 584363\n",
      "127.0.0.1 - - [09/Sep/2024 13:58:37] \"POST /get_metrics?model=BERT%20classifier&dataset_name=acllmdb&metrics=multiclass,paired&do_predict=1 HTTP/1.1\" 200 161\n",
      "127.0.0.1 - - [09/Sep/2024 13:58:37] \"POST /push_ui_state?dataset_name=acllmdb HTTP/1.1\" 200 4\n",
      "127.0.0.1 - - [09/Sep/2024 13:58:37] \"POST /get_interpretations?model=BERT%20classifier&dataset_name=acllmdb&interpreter=Grad%20%E2%8B%85%20Input&do_predict=1 HTTP/1.1\" 200 4925\n",
      "127.0.0.1 - - [09/Sep/2024 13:58:37] \"POST /get_preds?model=BERT%20classifier&dataset_name=acllmdb&requested_types=MulticlassPreds,RegressionScore&requested_fields= HTTP/1.1\" 200 54\n",
      "127.0.0.1 - - [09/Sep/2024 13:58:37] \"POST /get_interpretations?model=BERT%20classifier&dataset_name=acllmdb&interpreter=Grad%20%E2%8B%85%20Input&do_predict=1 HTTP/1.1\" 200 4925\n",
      "127.0.0.1 - - [09/Sep/2024 13:58:37] \"POST /get_interpretations?model=BERT%20classifier&dataset_name=acllmdb&interpreter=Grad%20L2%20Norm&do_predict=1 HTTP/1.1\" 200 4805\n",
      "127.0.0.1 - - [09/Sep/2024 13:58:39] \"POST /get_interpretations?model=BERT%20classifier&dataset_name=acllmdb&interpreter=Grad%20L2%20Norm&do_predict=1 HTTP/1.1\" 200 4805\n",
      "WARNING:absl:Attmepting to retrieve 30 (of 30) predictions from the cache where the cache key is None - this can be from a missing or empty example id. These will call model.predict() on this and subsequent calls.\n",
      "127.0.0.1 - - [09/Sep/2024 13:58:43] \"POST /get_interpretations?model=BERT%20classifier&dataset_name=acllmdb&interpreter=Integrated%20Gradients&do_predict=1 HTTP/1.1\" 200 4904\n",
      "WARNING:absl:Attmepting to retrieve 50 (of 50) predictions from the cache where the cache key is None - this can be from a missing or empty example id. These will call model.predict() on this and subsequent calls.\n",
      "127.0.0.1 - - [09/Sep/2024 13:59:35] \"POST /get_interpretations?model=BERT%20classifier&dataset_name=acllmdb&interpreter=Integrated%20Gradients&do_predict=1 HTTP/1.1\" 200 4916\n",
      "WARNING:absl:Attmepting to retrieve 50 (of 50) predictions from the cache where the cache key is None - this can be from a missing or empty example id. These will call model.predict() on this and subsequent calls.\n",
      "127.0.0.1 - - [09/Sep/2024 14:00:50] \"POST /get_interpretations?model=BERT%20classifier&dataset_name=acllmdb&interpreter=Integrated%20Gradients&do_predict=1 HTTP/1.1\" 200 4916\n",
      "WARNING:absl:Attmepting to retrieve 50 (of 50) predictions from the cache where the cache key is None - this can be from a missing or empty example id. These will call model.predict() on this and subsequent calls.\n",
      "127.0.0.1 - - [09/Sep/2024 14:00:55] \"POST /get_interpretations?model=BERT%20classifier&dataset_name=acllmdb&interpreter=Integrated%20Gradients&do_predict=1 HTTP/1.1\" 200 4748\n",
      "WARNING:absl:Attmepting to retrieve 50 (of 50) predictions from the cache where the cache key is None - this can be from a missing or empty example id. These will call model.predict() on this and subsequent calls.\n",
      "127.0.0.1 - - [09/Sep/2024 14:01:13] \"POST /get_interpretations?model=BERT%20classifier&dataset_name=acllmdb&interpreter=Integrated%20Gradients&do_predict=1 HTTP/1.1\" 200 4748\n"
     ]
    }
   ],
   "source": [
    "# Create the LIT widget with the model and dataset to analyze.\n",
    "models = {\"BERT classifier\": BertSentimentModel(classifier)}\n",
    "\n",
    "widget.stop()\n",
    "widget = notebook.LitWidget(models, datasets, layouts=layouts, port=8890)"
   ]
  },
  {
   "cell_type": "markdown",
   "id": "68d42583-e6ff-4379-ab4f-5d9bac67a6b5",
   "metadata": {},
   "source": [
    "Let's render the LIT UI again. \n",
    "\n",
    "Click the arrow on In Integrated Gradients to compute the saliency with it since it requires additional computation.\n",
    "\n",
    "Also, from the configuration button, you can change the step size (number of perturbations you'll approximate integral with) between 5 and 100—the higher the value, the more accurate, but the more computationally expensive.\n",
    "<img width=\"700\" alt=\"image\" src=\"https://github.com/user-attachments/assets/1f41aaeb-df8a-4d06-9191-de7853f1bfc0\">\n"
   ]
  },
  {
   "cell_type": "code",
   "execution_count": 34,
   "id": "0c886dfb-5931-4d4e-a10f-042dd2c29649",
   "metadata": {
    "tags": []
   },
   "outputs": [
    {
     "data": {
      "text/html": [
       "\n",
       "      <a href=\"javascript:void(0);\" id=\"lit-frame-fae38a881989f61b\"></a>\n",
       "      <script>\n",
       "        (function() {\n",
       "          const urlStr = \"/proxy/8890/\" + '?'\n",
       "          const url = new URL(urlStr, window.location);\n",
       "          const port = 0;\n",
       "          if (port) {\n",
       "            url.port = port;\n",
       "          }\n",
       "          const a = document.getElementById(\"lit-frame-fae38a881989f61b\");\n",
       "          a.innerHTML = url;\n",
       "          a.onclick = (e) => window.open(url, \"_blank\");\n",
       "          window.open(url, \"_blank\");\n",
       "        })();\n",
       "      </script>\n",
       "    "
      ],
      "text/plain": [
       "<IPython.core.display.HTML object>"
      ]
     },
     "metadata": {},
     "output_type": "display_data"
    }
   ],
   "source": [
    "widget.render(height=600, open_in_new_tab=True)"
   ]
  },
  {
   "cell_type": "markdown",
   "id": "5fdfb575-db8d-4dbc-afd0-f364ce35a03f",
   "metadata": {
    "tags": []
   },
   "source": [
    "## (Optional) Directly Call Interpretability modules\n",
    "\n",
    "You may want to get saliency values directly outside of the LIT UI. You can call each component using the same model object.\n",
    "\n",
    "For example, for Integrated Gradients:"
   ]
  },
  {
   "cell_type": "code",
   "execution_count": 35,
   "id": "cd34f59f-3f66-4038-816a-6d2ac19d391e",
   "metadata": {
    "id": "cd34f59f-3f66-4038-816a-6d2ac19d391e",
    "tags": []
   },
   "outputs": [],
   "source": [
    "from lit_nlp.components import gradient_maps\n",
    "\n",
    "ig = gradient_maps.IntegratedGradients()\n",
    "\n",
    "saliency = ig.run(\n",
    "    ImdbSentimentData(test_ds).examples[:1],\n",
    "    BertSentimentModel(classifier),\n",
    "    ImdbSentimentData(test_ds),\n",
    ")\n",
    "saliency"
   ]
  },
  {
   "cell_type": "code",
   "execution_count": 36,
   "id": "42b04100-1860-4b30-b06b-8cf8448a6651",
   "metadata": {
    "tags": []
   },
   "outputs": [
    {
     "ename": "TypeError",
     "evalue": "'NoneType' object is not subscriptable",
     "output_type": "error",
     "traceback": [
      "\u001b[0;31m---------------------------------------------------------------------------\u001b[0m",
      "\u001b[0;31mTypeError\u001b[0m                                 Traceback (most recent call last)",
      "Cell \u001b[0;32mIn[36], line 3\u001b[0m\n\u001b[1;32m      1\u001b[0m df \u001b[38;5;241m=\u001b[39m pd\u001b[38;5;241m.\u001b[39mDataFrame(\n\u001b[1;32m      2\u001b[0m     [\n\u001b[0;32m----> 3\u001b[0m         \u001b[43msaliency\u001b[49m\u001b[43m[\u001b[49m\u001b[38;5;241;43m0\u001b[39;49m\u001b[43m]\u001b[49m[\u001b[38;5;124m\"\u001b[39m\u001b[38;5;124minput_emb_grad\u001b[39m\u001b[38;5;124m\"\u001b[39m]\u001b[38;5;241m.\u001b[39mtokens,\n\u001b[1;32m      4\u001b[0m         saliency[\u001b[38;5;241m0\u001b[39m][\u001b[38;5;124m\"\u001b[39m\u001b[38;5;124minput_emb_grad\u001b[39m\u001b[38;5;124m\"\u001b[39m]\u001b[38;5;241m.\u001b[39msalience,\n\u001b[1;32m      5\u001b[0m     ],\n\u001b[1;32m      6\u001b[0m     index\u001b[38;5;241m=\u001b[39m[\u001b[38;5;124m\"\u001b[39m\u001b[38;5;124mtoken\u001b[39m\u001b[38;5;124m\"\u001b[39m, \u001b[38;5;124m\"\u001b[39m\u001b[38;5;124msalience\u001b[39m\u001b[38;5;124m\"\u001b[39m],\n\u001b[1;32m      7\u001b[0m )\n\u001b[1;32m      9\u001b[0m salience_series \u001b[38;5;241m=\u001b[39m saliency[\u001b[38;5;241m0\u001b[39m][\u001b[38;5;124m\"\u001b[39m\u001b[38;5;124minput_emb_grad\u001b[39m\u001b[38;5;124m\"\u001b[39m]\u001b[38;5;241m.\u001b[39msalience\n\u001b[1;32m     10\u001b[0m abs_max \u001b[38;5;241m=\u001b[39m \u001b[38;5;28mmax\u001b[39m(\u001b[38;5;28mabs\u001b[39m(salience_series\u001b[38;5;241m.\u001b[39mmax()), \u001b[38;5;28mabs\u001b[39m(salience_series\u001b[38;5;241m.\u001b[39mmin()))\n",
      "\u001b[0;31mTypeError\u001b[0m: 'NoneType' object is not subscriptable"
     ]
    }
   ],
   "source": [
    "df = pd.DataFrame(\n",
    "    [\n",
    "        saliency[0][\"input_emb_grad\"].tokens,\n",
    "        saliency[0][\"input_emb_grad\"].salience,\n",
    "    ],\n",
    "    index=[\"token\", \"salience\"],\n",
    ")\n",
    "\n",
    "salience_series = saliency[0][\"input_emb_grad\"].salience\n",
    "abs_max = max(abs(salience_series.max()), abs(salience_series.min()))\n",
    "df.style.background_gradient(\n",
    "    axis=1,\n",
    "    gmap=df.loc[\"salience\", :].apply(pd.to_numeric),\n",
    "    vmin=-abs_max,\n",
    "    vmax=abs_max,\n",
    "    cmap=\"seismic\",\n",
    ")"
   ]
  },
  {
   "cell_type": "markdown",
   "id": "b4ae7ab4-5dff-4570-a387-acb7751c4787",
   "metadata": {
    "tags": []
   },
   "source": [
    "## What's next?\n",
    "\n",
    "To learn more about LIT and AI Explanations, check out the resources here.\n",
    "\n",
    "- [LIT documentation](https://pair-code.github.io/lit/)\n",
    "- [LIT github](https://github.com/PAIR-code/lit)\n",
    "- [Integrated gradients paper](https://arxiv.org/abs/1703.01365)"
   ]
  },
  {
   "cell_type": "markdown",
   "id": "9312e6d3-7339-4bea-b010-3bb64e1f5a10",
   "metadata": {},
   "source": [
    "Copyright 2024 Google Inc. Licensed under the Apache License, Version 2.0 (the \"License\"); you may not use this file except in compliance with the License. You may obtain a copy of the License at http://www.apache.org/licenses/LICENSE-2.0 Unless required by applicable law or agreed to in writing, software distributed under the License is distributed on an \"AS IS\" BASIS, WITHOUT WARRANTIES OR CONDITIONS OF ANY KIND, either express or implied. See the License for the specific language governing permissions and limitations under the License"
   ]
  }
 ],
 "metadata": {
  "accelerator": "GPU",
  "colab": {
   "gpuType": "T4",
   "provenance": []
  },
  "environment": {
   "kernel": "conda-env-lit_kernel-lit_kernel",
   "name": "workbench-notebooks.m129",
   "type": "gcloud",
   "uri": "us-docker.pkg.dev/deeplearning-platform-release/gcr.io/workbench-notebooks:m129"
  },
  "kernelspec": {
   "display_name": "LIT kernel",
   "language": "python",
   "name": "conda-env-lit_kernel-lit_kernel"
  },
  "language_info": {
   "codemirror_mode": {
    "name": "ipython",
    "version": 3
   },
   "file_extension": ".py",
   "mimetype": "text/x-python",
   "name": "python",
   "nbconvert_exporter": "python",
   "pygments_lexer": "ipython3",
   "version": "3.10.14"
  }
 },
 "nbformat": 4,
 "nbformat_minor": 5
}
