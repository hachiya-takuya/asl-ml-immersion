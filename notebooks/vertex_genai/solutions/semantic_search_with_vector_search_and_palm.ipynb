{
 "cells": [
  {
   "cell_type": "markdown",
   "id": "92f0e28c-799f-4176-90db-5b4a53ebc6ab",
   "metadata": {
    "tags": []
   },
   "source": [
    "# Semantic Search with Vertex Vector Search\n",
    "\n",
    "**Learning Objectives**\n",
    "  1. Learn how to create text embeddings using the Vertex\n",
    "  1. Learn how to load embeddings in Vertex Vector Search\n",
    "  2. Learn how to query Vertex Vector Search\n",
    "  1. Learn how to build an information retrieval system based on semantic match\n",
    "  \n",
    "  \n",
    "In this notebook, we implement a simple (albeit fast and scalable) [semantic search](https://en.wikipedia.org/wiki/Semantic_search#:~:text=Semantic%20search%20seeks%20to%20improve,to%20generate%20more%20relevant%20results.) retrieval system using [Vertex Vector Search](https://cloud.google.com/vertex-ai/docs/vector-search/overview) and [Vertex Text Embeddings](https://cloud.google.com/vertex-ai/docs/generative-ai/embeddings/get-text-embeddings). In a semantic search system, a number of documents are returned to a user query, ranked by their semantic match. This means that the returned documents should match the intent or meaning of the query rather than its actual exact  keywords as opposed to a boolean or keyword-based retrieval system. Such a semantic search system has in general two components, namely:\n",
    "\n",
    "* A component that produces semantically meaningful vector representations of both the documents as well as the user queries; we will use the [Vertex Text Embeddings](https://cloud.google.com/vertex-ai/docs/generative-ai/embeddings/get-text-embeddings) API to creates these embeddings, leveraging the power of large language model. \n",
    "\n",
    "* A component that allows users to store the document vector embeddings and retrieve the most relevant documents by returning the documents whose embeddings are the closest to the user-query embedding in the embedding space. We will use [Vertex Vector Search](https://cloud.google.com/vertex-ai/docs/vector-search/overview) which can scale up to billions of embeddings thanks to an [efficient approximate nearest neighbor strategy](https://ai.googleblog.com/2020/07/announcing-scann-efficient-vector.html) to compare and retrieve the closest document vectors to a query vector based on a [recent paper from Google research](https://arxiv.org/abs/1908.10396).\n",
    "\n",
    "\n",
    "\n",
    "**Dataset:** We will use a very small subset of the [COVID-19 Open Research Dataset Challenge (CORD-19)\n",
    "](https://www.kaggle.com/datasets/allen-institute-for-ai/CORD-19-research-challenge), which contains around 1 million of medical research papers focused on COVID 19. We will focus on only 4000 titles, abstracts, and urls from 2021 only for the sake of speed.\n"
   ]
  },
  {
   "cell_type": "markdown",
   "id": "9f75e37a-b298-45db-96e5-8ab75aa7efa0",
   "metadata": {},
   "source": [
    "## Setup "
   ]
  },
  {
   "cell_type": "code",
   "execution_count": 1,
   "id": "f319c211-03fe-4265-aa61-ee7b9a0f71c8",
   "metadata": {
    "tags": []
   },
   "outputs": [],
   "source": [
    "import json\n",
    "import os\n",
    "\n",
    "import pandas as pd\n",
    "from google.cloud import aiplatform\n",
    "from IPython import display\n",
    "from vertexai.language_models import TextEmbeddingModel"
   ]
  },
  {
   "cell_type": "code",
   "execution_count": 2,
   "id": "4ddaf916-96df-4da8-be80-4ba9dd6fa619",
   "metadata": {
    "tags": []
   },
   "outputs": [],
   "source": [
    "REGION = \"us-central1\"\n",
    "PROJECT = !(gcloud config get-value core/project)\n",
    "PROJECT = PROJECT[0]\n",
    "BUCKET = f\"{PROJECT}-cord19-semantic-search\"\n",
    "\n",
    "# Do not change these\n",
    "os.environ[\"PROJECT\"] = PROJECT\n",
    "os.environ[\"BUCKET\"] = BUCKET\n",
    "os.environ[\"REGION\"] = REGION"
   ]
  },
  {
   "cell_type": "code",
   "execution_count": 3,
   "id": "018c5c0a-aa15-47be-808f-e34c856b7659",
   "metadata": {
    "tags": []
   },
   "outputs": [
    {
     "name": "stdout",
     "output_type": "stream",
     "text": [
      "gs://dherin-dev-cord19-semantic-search/cord19_embeddings.json\n"
     ]
    }
   ],
   "source": [
    "!gsutil ls gs://{BUCKET} || gsutil mb -l {REGION} gs://{BUCKET}"
   ]
  },
  {
   "cell_type": "markdown",
   "id": "21881016-af83-4b9a-b9c4-a097440f269b",
   "metadata": {},
   "source": [
    "## Loading the data"
   ]
  },
  {
   "cell_type": "markdown",
   "id": "1b2187f1-072a-44b1-83af-f3fe5f0f3710",
   "metadata": {},
   "source": [
    "The dataset we will use is the title, abstract, and url metadata of roughly 4000 samples from the ~1 million medical papers in the [COVID-19 Open Research Dataset Challenge (CORD-19)\n",
    "](https://www.kaggle.com/datasets/allen-institute-for-ai/CORD-19-research-challenge). In this lab, we use the abstract as the documents, on which to compute and store the embeddings.  "
   ]
  },
  {
   "cell_type": "code",
   "execution_count": 4,
   "id": "3e9e5f77-baea-403b-8387-5be599b87519",
   "metadata": {
    "tags": []
   },
   "outputs": [
    {
     "data": {
      "text/html": [
       "<div>\n",
       "<style scoped>\n",
       "    .dataframe tbody tr th:only-of-type {\n",
       "        vertical-align: middle;\n",
       "    }\n",
       "\n",
       "    .dataframe tbody tr th {\n",
       "        vertical-align: top;\n",
       "    }\n",
       "\n",
       "    .dataframe thead th {\n",
       "        text-align: right;\n",
       "    }\n",
       "</style>\n",
       "<table border=\"1\" class=\"dataframe\">\n",
       "  <thead>\n",
       "    <tr style=\"text-align: right;\">\n",
       "      <th></th>\n",
       "      <th>title</th>\n",
       "      <th>abstract</th>\n",
       "      <th>url</th>\n",
       "    </tr>\n",
       "  </thead>\n",
       "  <tbody>\n",
       "    <tr>\n",
       "      <th>0</th>\n",
       "      <td>Ethnobotanical and ethnomedicinal analysis of ...</td>\n",
       "      <td>Algerian people largely rely on traditional me...</td>\n",
       "      <td>https://www.ncbi.nlm.nih.gov/pubmed/34131369/;...</td>\n",
       "    </tr>\n",
       "    <tr>\n",
       "      <th>1</th>\n",
       "      <td>Myopericarditis in a previously healthy adoles...</td>\n",
       "      <td>We report the case of a previously healthy 16‐...</td>\n",
       "      <td>https://www.ncbi.nlm.nih.gov/pubmed/34133825/;...</td>\n",
       "    </tr>\n",
       "    <tr>\n",
       "      <th>2</th>\n",
       "      <td>Religious Support as a Contribution to Face th...</td>\n",
       "      <td>Coping with the COVID-19 pandemic has required...</td>\n",
       "      <td>https://www.ncbi.nlm.nih.gov/pubmed/33405093/;...</td>\n",
       "    </tr>\n",
       "    <tr>\n",
       "      <th>3</th>\n",
       "      <td>The urgency of resuming disrupted dog rabies v...</td>\n",
       "      <td>OBJECTIVE: Dog vaccination is a cost-effective...</td>\n",
       "      <td>http://medrxiv.org/cgi/content/short/2021.04.2...</td>\n",
       "    </tr>\n",
       "    <tr>\n",
       "      <th>4</th>\n",
       "      <td>Intestinal organoids in farm animals</td>\n",
       "      <td>In livestock species, the monolayer of epithel...</td>\n",
       "      <td>https://doi.org/10.1186/s13567-021-00909-x; ht...</td>\n",
       "    </tr>\n",
       "  </tbody>\n",
       "</table>\n",
       "</div>"
      ],
      "text/plain": [
       "                                               title  \\\n",
       "0  Ethnobotanical and ethnomedicinal analysis of ...   \n",
       "1  Myopericarditis in a previously healthy adoles...   \n",
       "2  Religious Support as a Contribution to Face th...   \n",
       "3  The urgency of resuming disrupted dog rabies v...   \n",
       "4               Intestinal organoids in farm animals   \n",
       "\n",
       "                                            abstract  \\\n",
       "0  Algerian people largely rely on traditional me...   \n",
       "1  We report the case of a previously healthy 16‐...   \n",
       "2  Coping with the COVID-19 pandemic has required...   \n",
       "3  OBJECTIVE: Dog vaccination is a cost-effective...   \n",
       "4  In livestock species, the monolayer of epithel...   \n",
       "\n",
       "                                                 url  \n",
       "0  https://www.ncbi.nlm.nih.gov/pubmed/34131369/;...  \n",
       "1  https://www.ncbi.nlm.nih.gov/pubmed/34133825/;...  \n",
       "2  https://www.ncbi.nlm.nih.gov/pubmed/33405093/;...  \n",
       "3  http://medrxiv.org/cgi/content/short/2021.04.2...  \n",
       "4  https://doi.org/10.1186/s13567-021-00909-x; ht...  "
      ]
     },
     "execution_count": 4,
     "metadata": {},
     "output_type": "execute_result"
    }
   ],
   "source": [
    "metadata = pd.read_csv(\"../data/cord19_metadata_sample.csv.gz\")\n",
    "metadata = metadata[~metadata.abstract.isna()]\n",
    "metadata.index = range(len(metadata))\n",
    "metadata.head()"
   ]
  },
  {
   "cell_type": "markdown",
   "id": "db134b0d-9baa-47d9-b8a7-ba74e904eb50",
   "metadata": {},
   "source": [
    "## Creating the embeddings"
   ]
  },
  {
   "cell_type": "markdown",
   "id": "59422c52-0aae-420a-b1a2-0c54824afccc",
   "metadata": {},
   "source": [
    "The first thing to do is to create embedding vectors for our abstracts. For that, we need to first instantiate the `TextEmbeddingModel` client with the appropriate version of the text embedding model:"
   ]
  },
  {
   "cell_type": "code",
   "execution_count": 5,
   "id": "5a7a4a16-6015-4a11-b034-c0807bace95c",
   "metadata": {
    "tags": []
   },
   "outputs": [
    {
     "name": "stderr",
     "output_type": "stream",
     "text": [
      "WARNING: All log messages before absl::InitializeLog() is called are written to STDERR\n",
      "I0000 00:00:1723145968.119581  214243 config.cc:230] gRPC experiments enabled: call_status_override_on_cancellation, event_engine_dns, event_engine_listener, http2_stats_fix, monitoring_experiment, pick_first_new, trace_record_callops, work_serializer_clears_time_cache\n"
     ]
    }
   ],
   "source": [
    "model = TextEmbeddingModel.from_pretrained(\"text-embedding-004\")"
   ]
  },
  {
   "cell_type": "markdown",
   "id": "52cae5f0-436f-4351-8ba3-3dc53fdf6488",
   "metadata": {},
   "source": [
    "The embedding model can take up to a list of 5 texts to process at a single time. Because of that, we will iterate over the `metadata.abstract`'s in batches of 5 and feed these batches to `model.get_embbedings` to create the embeddings of all the abstracts, which we will then store in the list `vectors`. Running the next cell will take a couple of minutes:"
   ]
  },
  {
   "cell_type": "code",
   "execution_count": 6,
   "id": "d59bb0fa-79f7-4817-8652-7f56f42786f6",
   "metadata": {
    "tags": []
   },
   "outputs": [],
   "source": [
    "MAX_BATCH_SIZE = 5\n",
    "vectors = []\n",
    "\n",
    "for i in range(0, len(metadata), MAX_BATCH_SIZE):\n",
    "    batch = metadata.abstract[i : i + MAX_BATCH_SIZE].to_list()\n",
    "    embeddings = model.get_embeddings(batch)\n",
    "    vectors.extend([embedding.values for embedding in embeddings])"
   ]
  },
  {
   "cell_type": "markdown",
   "id": "f6109de9-2a7f-43aa-b70f-4496ad50be5c",
   "metadata": {},
   "source": [
    "## Creating the Vector Search engine input file"
   ]
  },
  {
   "cell_type": "markdown",
   "id": "c80d8533-d98c-41a6-b5b3-36634c3525a1",
   "metadata": {},
   "source": [
    "At this point, our abstract embeddings are stored in memory in the `vectors` list. To store these embeddings into [Vertex Vector Search](https://cloud.google.com/vertex-ai/docs/vector-search/overview), we need to serialize them into a JSON file with the [following format](https://cloud.google.com/vertex-ai/docs/vector-search/setup/format-structure):\n",
    "\n",
    "```python\n",
    "{\"id\": <DOCUMENT_ID1>, \"embedding\": [0.1, ..., -0.7]}\n",
    "{\"id\": <DOCUMENT_ID2>, \"embedding\": [-0.4, ..., 0.8]}\n",
    "etc.\n",
    "```\n",
    "where the value of the `id` field should be an identifier allowing us to retrieve the actual document from a separate source, and the value of `embedding` is the vector returned by the text embedding API. \n",
    "\n",
    "For the document `id` we simply use the row index in the `metadata` DataFrame, which will serve as our in-memory document store. This makes it particularly easy to retrieve the abstract, title and url from an `id` returned by the vector search:\n",
    "\n",
    "```python\n",
    "metadata.abstract[id]\n",
    "metadata.title[id]\n",
    "metadata.url[id]\n",
    "```"
   ]
  },
  {
   "cell_type": "markdown",
   "id": "618ac408-ea19-4350-b708-467dd4c392f4",
   "metadata": {},
   "source": [
    "The next cell iterates over `vectors` appending for each entry a JSON line as above to `cord19_embeddings.json` containing the index of the abstract in `metadata` as well as the embedding vector returned by the text embedding API:"
   ]
  },
  {
   "cell_type": "code",
   "execution_count": 7,
   "id": "c85de3f2-9a4b-4b26-85b5-7f07d4e0c712",
   "metadata": {
    "tags": []
   },
   "outputs": [
    {
     "name": "stderr",
     "output_type": "stream",
     "text": [
      "I0000 00:00:1723146113.155569  214243 work_stealing_thread_pool.cc:320] WorkStealingThreadPoolImpl::PrepareFork\n"
     ]
    }
   ],
   "source": [
    "embeddings_file_path = \"cord19_embeddings.json\"\n",
    "\n",
    "# Removing the embedding file if it already exists\n",
    "!test -f {embeddings_file_path} && rm {embeddings_file_path}\n",
    "\n",
    "with open(embeddings_file_path, \"a\") as embeddings_file:\n",
    "    for i, embedding in enumerate(vectors):\n",
    "        json_line = json.dumps({\"id\": i, \"embedding\": embedding}) + \"\\n\"\n",
    "        embeddings_file.writelines(json_line)"
   ]
  },
  {
   "cell_type": "markdown",
   "id": "1e752f01-f353-4887-b15b-0d025bef04d6",
   "metadata": {},
   "source": [
    "Let us verify that our embedding file has the same number of lines, one per abstract, as our original dataframe and then let us save it to a GCS bucket:"
   ]
  },
  {
   "cell_type": "code",
   "execution_count": 34,
   "id": "373e23c1-b96f-4749-99ce-8c95df337650",
   "metadata": {
    "tags": []
   },
   "outputs": [
    {
     "name": "stdout",
     "output_type": "stream",
     "text": [
      "3446 cord19_embeddings.json\n",
      "3446 metadata dataframe\n"
     ]
    },
    {
     "name": "stderr",
     "output_type": "stream",
     "text": [
      "I0000 00:00:1723150518.546708  214243 work_stealing_thread_pool.cc:320] WorkStealingThreadPoolImpl::PrepareFork\n"
     ]
    }
   ],
   "source": [
    "!wc -l {embeddings_file_path}\n",
    "print(len(metadata), \"metadata dataframe\")"
   ]
  },
  {
   "cell_type": "code",
   "execution_count": 9,
   "id": "0fa3d22b-da6b-4eab-9f8d-210e7394d83f",
   "metadata": {
    "tags": []
   },
   "outputs": [
    {
     "name": "stderr",
     "output_type": "stream",
     "text": [
      "I0000 00:00:1723146120.567046  214243 work_stealing_thread_pool.cc:320] WorkStealingThreadPoolImpl::PrepareFork\n"
     ]
    },
    {
     "name": "stdout",
     "output_type": "stream",
     "text": [
      "Copying file://cord19_embeddings.json [Content-Type=application/json]...\n",
      "\\ [1 files][ 55.9 MiB/ 55.9 MiB]                                                \n",
      "Operation completed over 1 objects/55.9 MiB.                                     \n"
     ]
    }
   ],
   "source": [
    "EMBEDDINGS_URI = f\"gs://{BUCKET}\"\n",
    "\n",
    "!gsutil cp {embeddings_file_path} {EMBEDDINGS_URI}"
   ]
  },
  {
   "cell_type": "markdown",
   "id": "220b10e1-ad07-40e0-bfa3-38ed4ed8ce8c",
   "metadata": {},
   "source": [
    "## Creating the Vector Search engine index"
   ]
  },
  {
   "cell_type": "markdown",
   "id": "34b8c2ea-8ddb-4e79-ad00-9726db109ec1",
   "metadata": {},
   "source": [
    "We are now up to the task of setting up [Vertex Vector Search](https://cloud.google.com/vertex-ai/docs/matching-engine/overview). The procedure requires two steps:\n",
    "\n",
    "1. The [creation of an index](https://cloud.google.com/vertex-ai/docs/vector-search/overview)\n",
    "1. The [deployment of this index to an endpoint](https://cloud.google.com/vertex-ai/docs/vector-search/deploy-index-public)\n",
    "\n",
    "While creating the index, the embedding vectors are uploaded to the matching engine and a tree-like data structure (the index) is created allowing for fast but approximate retrieval of the `approximate_neighbors_count` nearest neighbors of a given vector. The index depends on a notion of distance between embedding vectors that we need to specify in the `distance_measure_type`. We choose here the `COSINE_DISTANCE` which essentially is a measure of the angle between the embedding vectors. Other possible choices are the square of the euclidean distance (`SQUARED_L2_DISTANCE`), the [Manhattan distance](https://en.wikipedia.org/wiki/Taxicab_geometry) (`L1_DISTANCE`), or the dot product distance (`DOT_PRODUCT_DISTANCE`). (Note that if the embeddings you are using have been trained to minimize the one of these distances between matching pairs, then you may get better results by selecting this particular distance, otherwise the `COSINE_DISTANCE` will do just fine.) \n",
    "\n",
    "The next cell creates the matching engine index from the embedding file. Running it will take up about 1 hour:"
   ]
  },
  {
   "cell_type": "code",
   "execution_count": 21,
   "id": "a9e4ac9c-d0b1-4673-bab1-6f60e86b48d8",
   "metadata": {
    "tags": []
   },
   "outputs": [
    {
     "name": "stdout",
     "output_type": "stream",
     "text": [
      "Creating MatchingEngineIndex\n",
      "Create MatchingEngineIndex backing LRO: projects/115851500182/locations/us-central1/indexes/2237809627733426176/operations/3539341295749169152\n",
      "MatchingEngineIndex created. Resource name: projects/115851500182/locations/us-central1/indexes/2237809627733426176\n",
      "To use this MatchingEngineIndex in another session:\n",
      "index = aiplatform.MatchingEngineIndex('projects/115851500182/locations/us-central1/indexes/2237809627733426176')\n"
     ]
    }
   ],
   "source": [
    "DISPLAY_NAME = \"cord19_embeddings\"\n",
    "\n",
    "matching_engine_index = aiplatform.MatchingEngineIndex.create_tree_ah_index(\n",
    "    display_name=DISPLAY_NAME,\n",
    "    contents_delta_uri=EMBEDDINGS_URI,\n",
    "    dimensions=len(vectors[0]),\n",
    "    approximate_neighbors_count=150,\n",
    "    distance_measure_type=\"COSINE_DISTANCE\",\n",
    "    leaf_node_embedding_count=500,\n",
    "    leaf_nodes_to_search_percent=7,\n",
    "    description=DISPLAY_NAME,\n",
    ")"
   ]
  },
  {
   "cell_type": "markdown",
   "id": "35b792a5-1bce-43df-b104-04680af74ab4",
   "metadata": {},
   "source": [
    "Once the index is created it is associated with the resource name:"
   ]
  },
  {
   "cell_type": "code",
   "execution_count": 22,
   "id": "71bb86d7-680f-44a2-9472-105e159eb1aa",
   "metadata": {
    "tags": []
   },
   "outputs": [
    {
     "name": "stdout",
     "output_type": "stream",
     "text": [
      "projects/115851500182/locations/us-central1/indexes/2237809627733426176\n"
     ]
    }
   ],
   "source": [
    "INDEX_RESOURCE_NAME = matching_engine_index.resource_name\n",
    "print(INDEX_RESOURCE_NAME)"
   ]
  },
  {
   "cell_type": "markdown",
   "id": "29d8b62c-1124-4594-8cac-16815a46efdc",
   "metadata": {},
   "source": [
    "In turns, this index resource-name can be used to instantiate an index:"
   ]
  },
  {
   "cell_type": "code",
   "execution_count": 23,
   "id": "38d0a525-3d12-4848-ad7f-99772cdb2f18",
   "metadata": {
    "tags": []
   },
   "outputs": [],
   "source": [
    "matching_engine_index = aiplatform.MatchingEngineIndex(\n",
    "    index_name=INDEX_RESOURCE_NAME\n",
    ")"
   ]
  },
  {
   "cell_type": "markdown",
   "id": "bbd056fc-5502-4982-b943-c03bd77fc9c6",
   "metadata": {},
   "source": [
    "Now that our index is up and running, we need to make it accessible to be able to query it. The first step is to create a public endpoint (for speedups, one can also create a [private endpoint in a VPC network](https://cloud.google.com/vertex-ai/docs/vector-search/deploy-index-vpc)):"
   ]
  },
  {
   "cell_type": "code",
   "execution_count": 24,
   "id": "7aaaeff3-d227-4d2b-817a-07cc09ca9dac",
   "metadata": {
    "tags": []
   },
   "outputs": [
    {
     "name": "stdout",
     "output_type": "stream",
     "text": [
      "Creating MatchingEngineIndexEndpoint\n",
      "Create MatchingEngineIndexEndpoint backing LRO: projects/115851500182/locations/us-central1/indexEndpoints/4142902638855323648/operations/2557556576982401024\n",
      "MatchingEngineIndexEndpoint created. Resource name: projects/115851500182/locations/us-central1/indexEndpoints/4142902638855323648\n",
      "To use this MatchingEngineIndexEndpoint in another session:\n",
      "index_endpoint = aiplatform.MatchingEngineIndexEndpoint('projects/115851500182/locations/us-central1/indexEndpoints/4142902638855323648')\n"
     ]
    }
   ],
   "source": [
    "matching_engine_endpoint = aiplatform.MatchingEngineIndexEndpoint.create(\n",
    "    display_name=DISPLAY_NAME,\n",
    "    description=DISPLAY_NAME,\n",
    "    public_endpoint_enabled=True,\n",
    ")"
   ]
  },
  {
   "cell_type": "markdown",
   "id": "5644c8b9-6229-482d-a917-9740ec9fc188",
   "metadata": {},
   "source": [
    "The second step is to deploy the index to the endpoint we created: "
   ]
  },
  {
   "cell_type": "code",
   "execution_count": 25,
   "id": "90ccef87-6ddc-434e-8292-4bb0a0848631",
   "metadata": {
    "tags": []
   },
   "outputs": [
    {
     "name": "stdout",
     "output_type": "stream",
     "text": [
      "Deploying index MatchingEngineIndexEndpoint index_endpoint: projects/115851500182/locations/us-central1/indexEndpoints/4142902638855323648\n",
      "Deploy index MatchingEngineIndexEndpoint index_endpoint backing LRO: projects/115851500182/locations/us-central1/indexEndpoints/4142902638855323648/operations/8187900536125652992\n",
      "MatchingEngineIndexEndpoint index_endpoint Deployed index. Resource name: projects/115851500182/locations/us-central1/indexEndpoints/4142902638855323648\n"
     ]
    },
    {
     "data": {
      "text/plain": [
       "[id: \"cord19_embeddings_deployed\"\n",
       "index: \"projects/115851500182/locations/us-central1/indexes/2237809627733426176\"\n",
       "create_time {\n",
       "  seconds: 1723146455\n",
       "  nanos: 603768000\n",
       "}\n",
       "index_sync_time {\n",
       "  seconds: 1723147424\n",
       "  nanos: 390569000\n",
       "}\n",
       "automatic_resources {\n",
       "  min_replica_count: 2\n",
       "  max_replica_count: 2\n",
       "}\n",
       "deployment_group: \"default\"\n",
       "]"
      ]
     },
     "execution_count": 25,
     "metadata": {},
     "output_type": "execute_result"
    }
   ],
   "source": [
    "DEPLOYED_INDEX_ID = f\"{DISPLAY_NAME}_deployed\"\n",
    "\n",
    "matching_engine = matching_engine_endpoint.deploy_index(\n",
    "    index=matching_engine_index, deployed_index_id=DEPLOYED_INDEX_ID\n",
    ")\n",
    "\n",
    "matching_engine.deployed_indexes"
   ]
  },
  {
   "cell_type": "markdown",
   "id": "cf96414f-80ef-480a-a3a3-c69389da8fd9",
   "metadata": {},
   "source": [
    "## Querying Vector Search"
   ]
  },
  {
   "cell_type": "markdown",
   "id": "394442cd-70c1-4a1a-8cf5-fa43e1973152",
   "metadata": {},
   "source": [
    "We are now ready to issue queries to Vector Search! \n",
    "\n",
    "To begin with, we need to create a text embedding from a user query: "
   ]
  },
  {
   "cell_type": "code",
   "execution_count": 26,
   "id": "d7b7a045-0721-4e2f-9601-3254b35d6d2a",
   "metadata": {
    "tags": []
   },
   "outputs": [],
   "source": [
    "QUERY = \"prophylactic measures\"\n",
    "\n",
    "text_embeddings = [vector.values for vector in model.get_embeddings([QUERY])]"
   ]
  },
  {
   "cell_type": "markdown",
   "id": "7feb8901-b2ff-4cc0-82f9-fcbc927fa553",
   "metadata": {},
   "source": [
    "Then we can use the `find_neighbors` method from our deployed Vector Search index. This method takes as input the embedding vector from the user query and returns the abstract id's of the `NUM_NEIGHBORS` nearest neighbors:"
   ]
  },
  {
   "cell_type": "code",
   "execution_count": 27,
   "id": "5cd67c63-9278-46e2-b343-d731c64ae9c4",
   "metadata": {},
   "outputs": [
    {
     "data": {
      "text/plain": [
       "[[MatchNeighbor(id='3409', distance=0.42408186197280884, sparse_distance=None, feature_vector=[], crowding_tag='0', restricts=[], numeric_restricts=[], sparse_embedding_values=[], sparse_embedding_dimensions=[]),\n",
       "  MatchNeighbor(id='1087', distance=0.4245913028717041, sparse_distance=None, feature_vector=[], crowding_tag='0', restricts=[], numeric_restricts=[], sparse_embedding_values=[], sparse_embedding_dimensions=[]),\n",
       "  MatchNeighbor(id='2987', distance=0.4517195224761963, sparse_distance=None, feature_vector=[], crowding_tag='0', restricts=[], numeric_restricts=[], sparse_embedding_values=[], sparse_embedding_dimensions=[]),\n",
       "  MatchNeighbor(id='2614', distance=0.46803832054138184, sparse_distance=None, feature_vector=[], crowding_tag='0', restricts=[], numeric_restricts=[], sparse_embedding_values=[], sparse_embedding_dimensions=[]),\n",
       "  MatchNeighbor(id='1816', distance=0.47184431552886963, sparse_distance=None, feature_vector=[], crowding_tag='0', restricts=[], numeric_restricts=[], sparse_embedding_values=[], sparse_embedding_dimensions=[]),\n",
       "  MatchNeighbor(id='521', distance=0.4790802001953125, sparse_distance=None, feature_vector=[], crowding_tag='0', restricts=[], numeric_restricts=[], sparse_embedding_values=[], sparse_embedding_dimensions=[]),\n",
       "  MatchNeighbor(id='1751', distance=0.4791703224182129, sparse_distance=None, feature_vector=[], crowding_tag='0', restricts=[], numeric_restricts=[], sparse_embedding_values=[], sparse_embedding_dimensions=[]),\n",
       "  MatchNeighbor(id='481', distance=0.4799232482910156, sparse_distance=None, feature_vector=[], crowding_tag='0', restricts=[], numeric_restricts=[], sparse_embedding_values=[], sparse_embedding_dimensions=[]),\n",
       "  MatchNeighbor(id='1915', distance=0.48290276527404785, sparse_distance=None, feature_vector=[], crowding_tag='0', restricts=[], numeric_restricts=[], sparse_embedding_values=[], sparse_embedding_dimensions=[]),\n",
       "  MatchNeighbor(id='1873', distance=0.4846007227897644, sparse_distance=None, feature_vector=[], crowding_tag='0', restricts=[], numeric_restricts=[], sparse_embedding_values=[], sparse_embedding_dimensions=[])]]"
      ]
     },
     "execution_count": 27,
     "metadata": {},
     "output_type": "execute_result"
    }
   ],
   "source": [
    "# Define number of neighbors to return\n",
    "NUM_NEIGHBORS = 10\n",
    "\n",
    "response = matching_engine.find_neighbors(\n",
    "    deployed_index_id=DEPLOYED_INDEX_ID,\n",
    "    queries=text_embeddings,\n",
    "    num_neighbors=NUM_NEIGHBORS,\n",
    ")\n",
    "\n",
    "response"
   ]
  },
  {
   "cell_type": "markdown",
   "id": "e9a03d66-2ed7-4df3-87a9-5a3c214d89f8",
   "metadata": {},
   "source": [
    "The next cell formats the `NUM_NEIGHBORS` most relevant abstracts into a dataframe containing also the corresponding paper titles and urls:"
   ]
  },
  {
   "cell_type": "code",
   "execution_count": 30,
   "id": "4eb86676-d091-48d2-9d1a-10a5f4b952d1",
   "metadata": {},
   "outputs": [
    {
     "data": {
      "text/html": [
       "<div>\n",
       "<style scoped>\n",
       "    .dataframe tbody tr th:only-of-type {\n",
       "        vertical-align: middle;\n",
       "    }\n",
       "\n",
       "    .dataframe tbody tr th {\n",
       "        vertical-align: top;\n",
       "    }\n",
       "\n",
       "    .dataframe thead th {\n",
       "        text-align: right;\n",
       "    }\n",
       "</style>\n",
       "<table border=\"1\" class=\"dataframe\">\n",
       "  <thead>\n",
       "    <tr style=\"text-align: right;\">\n",
       "      <th></th>\n",
       "      <th>distance</th>\n",
       "      <th>title</th>\n",
       "      <th>abstract</th>\n",
       "      <th>url</th>\n",
       "    </tr>\n",
       "  </thead>\n",
       "  <tbody>\n",
       "    <tr>\n",
       "      <th>0</th>\n",
       "      <td>0.424082</td>\n",
       "      <td>Modeling the effects of preventive measures an...</td>\n",
       "      <td>Coronavirus disease (COVID-19) onset in Decemb...</td>\n",
       "      <td>https://api.elsevier.com/content/article/pii/S...</td>\n",
       "    </tr>\n",
       "    <tr>\n",
       "      <th>1</th>\n",
       "      <td>0.424591</td>\n",
       "      <td>MEDIDAS DE BIOSSEGURANÇA PARA ENFRENTAMENTO AO...</td>\n",
       "      <td>Introdução A doença coronavírus 2019 (COVID-19...</td>\n",
       "      <td>https://api.elsevier.com/content/article/pii/S...</td>\n",
       "    </tr>\n",
       "    <tr>\n",
       "      <th>2</th>\n",
       "      <td>0.451720</td>\n",
       "      <td>Challenges and potential solutions in the deve...</td>\n",
       "      <td>Currently, COVID-19 pandemic has become an unp...</td>\n",
       "      <td>https://api.elsevier.com/content/article/pii/S...</td>\n",
       "    </tr>\n",
       "    <tr>\n",
       "      <th>3</th>\n",
       "      <td>0.468038</td>\n",
       "      <td>Controlling risk of SARS-CoV-2 infection in es...</td>\n",
       "      <td>The SARS-CoV-2 global pandemic poses significa...</td>\n",
       "      <td>https://api.elsevier.com/content/article/pii/S...</td>\n",
       "    </tr>\n",
       "    <tr>\n",
       "      <th>4</th>\n",
       "      <td>0.471844</td>\n",
       "      <td>Substantial Decline in Use of HIV Preexposure ...</td>\n",
       "      <td>In response to the novel coronavirus disease (...</td>\n",
       "      <td>https://doi.org/10.1097/qai.0000000000002514; ...</td>\n",
       "    </tr>\n",
       "    <tr>\n",
       "      <th>5</th>\n",
       "      <td>0.479080</td>\n",
       "      <td>Mosques in Japan responding to COVID-19 pandem...</td>\n",
       "      <td>Religious activities tend to be conducted in e...</td>\n",
       "      <td>https://api.elsevier.com/content/article/pii/S...</td>\n",
       "    </tr>\n",
       "    <tr>\n",
       "      <th>6</th>\n",
       "      <td>0.479170</td>\n",
       "      <td>Interplay between risk perception, behaviour, ...</td>\n",
       "      <td>Pharmaceutical and non-pharmaceutical interven...</td>\n",
       "      <td>https://arxiv.org/pdf/2112.12062v2.pdf; https:...</td>\n",
       "    </tr>\n",
       "    <tr>\n",
       "      <th>7</th>\n",
       "      <td>0.479923</td>\n",
       "      <td>[Institutional measures and desired supports r...</td>\n",
       "      <td>OBJECTIVES: Owing to the spread of COVID-19, m...</td>\n",
       "      <td>https://www.ncbi.nlm.nih.gov/pubmed/34162772/;...</td>\n",
       "    </tr>\n",
       "    <tr>\n",
       "      <th>8</th>\n",
       "      <td>0.482903</td>\n",
       "      <td>COVID-19 preventive behaviors and influencing ...</td>\n",
       "      <td>BACKGROUND: COVID19 is a respiratory disease c...</td>\n",
       "      <td>https://www.ncbi.nlm.nih.gov/pubmed/33451303/;...</td>\n",
       "    </tr>\n",
       "    <tr>\n",
       "      <th>9</th>\n",
       "      <td>0.484601</td>\n",
       "      <td>9 Tips and Pearls for Safer Performance of Der...</td>\n",
       "      <td>SARS-CoV2 pandemic has affected dermatologypra...</td>\n",
       "      <td>https://www.ncbi.nlm.nih.gov/pubmed/33959527/;...</td>\n",
       "    </tr>\n",
       "  </tbody>\n",
       "</table>\n",
       "</div>"
      ],
      "text/plain": [
       "   distance                                              title  \\\n",
       "0  0.424082  Modeling the effects of preventive measures an...   \n",
       "1  0.424591  MEDIDAS DE BIOSSEGURANÇA PARA ENFRENTAMENTO AO...   \n",
       "2  0.451720  Challenges and potential solutions in the deve...   \n",
       "3  0.468038  Controlling risk of SARS-CoV-2 infection in es...   \n",
       "4  0.471844  Substantial Decline in Use of HIV Preexposure ...   \n",
       "5  0.479080  Mosques in Japan responding to COVID-19 pandem...   \n",
       "6  0.479170  Interplay between risk perception, behaviour, ...   \n",
       "7  0.479923  [Institutional measures and desired supports r...   \n",
       "8  0.482903  COVID-19 preventive behaviors and influencing ...   \n",
       "9  0.484601  9 Tips and Pearls for Safer Performance of Der...   \n",
       "\n",
       "                                            abstract  \\\n",
       "0  Coronavirus disease (COVID-19) onset in Decemb...   \n",
       "1  Introdução A doença coronavírus 2019 (COVID-19...   \n",
       "2  Currently, COVID-19 pandemic has become an unp...   \n",
       "3  The SARS-CoV-2 global pandemic poses significa...   \n",
       "4  In response to the novel coronavirus disease (...   \n",
       "5  Religious activities tend to be conducted in e...   \n",
       "6  Pharmaceutical and non-pharmaceutical interven...   \n",
       "7  OBJECTIVES: Owing to the spread of COVID-19, m...   \n",
       "8  BACKGROUND: COVID19 is a respiratory disease c...   \n",
       "9  SARS-CoV2 pandemic has affected dermatologypra...   \n",
       "\n",
       "                                                 url  \n",
       "0  https://api.elsevier.com/content/article/pii/S...  \n",
       "1  https://api.elsevier.com/content/article/pii/S...  \n",
       "2  https://api.elsevier.com/content/article/pii/S...  \n",
       "3  https://api.elsevier.com/content/article/pii/S...  \n",
       "4  https://doi.org/10.1097/qai.0000000000002514; ...  \n",
       "5  https://api.elsevier.com/content/article/pii/S...  \n",
       "6  https://arxiv.org/pdf/2112.12062v2.pdf; https:...  \n",
       "7  https://www.ncbi.nlm.nih.gov/pubmed/34162772/;...  \n",
       "8  https://www.ncbi.nlm.nih.gov/pubmed/33451303/;...  \n",
       "9  https://www.ncbi.nlm.nih.gov/pubmed/33959527/;...  "
      ]
     },
     "execution_count": 30,
     "metadata": {},
     "output_type": "execute_result"
    }
   ],
   "source": [
    "matched_ids = [int(match.id) for match in response[0]]\n",
    "matched_distances = [match.distance for match in response[0]]\n",
    "matched_titles = [metadata.title[i] for i in matched_ids]\n",
    "matched_abstracts = [metadata.abstract[i] for i in matched_ids]\n",
    "matched_urls = [metadata.url[i] for i in matched_ids]\n",
    "\n",
    "matches = pd.DataFrame(\n",
    "    {\n",
    "        \"distance\": matched_distances,\n",
    "        \"title\": matched_titles,\n",
    "        \"abstract\": matched_abstracts,\n",
    "        \"url\": matched_urls,\n",
    "    }\n",
    ")\n",
    "matches"
   ]
  },
  {
   "cell_type": "markdown",
   "id": "27f493d6-5e73-4dc1-9404-f093111e18e0",
   "metadata": {},
   "source": [
    "Here is the Vector Search response formatted as a simple list for convenience. You may see in the list of returned papers some in a different language than english even though the query was in english. This demonstrates the muli-language ability of large language model and illustrates that the matches are done on the basis of meaning meaning rather than exact keywords match:"
   ]
  },
  {
   "cell_type": "code",
   "execution_count": 31,
   "id": "1d51e621-4cee-4f77-b876-b82ac369cd2e",
   "metadata": {},
   "outputs": [
    {
     "data": {
      "text/html": [
       "<html><body><ol>            \n",
       "    <li> \n",
       "        <article>\n",
       "            <header>\n",
       "                <a href=\"https://api.elsevier.com/content/article/pii/S2211379721009839; https://www.ncbi.nlm.nih.gov/pubmed/34804781/; https://www.sciencedirect.com/science/article/pii/S2211379721009839?v=s5; https://doi.org/10.1016/j.rinp.2021.104969\"> <h2>Modeling the effects of preventive measures and vaccination on the COVID-19 spread in Benin Republic with optimal control</h2></a>\n",
       "            </header>\n",
       "            <p>Coronavirus disease (COVID-19) onset in December 2019 is a contagious disease caused by severe acute respiratory syndrome coronavirus 2 (SARS-CoV-2). Since, the spread of the virus and mortality due to COVID-19 have continued to increase daily leading to a pandemic. In absence of approved medicine and vaccines, many countries imposed policies such as social distancing, mask wearing, hand washing, airport screening, quarantine and others. But rapidly, they were confronted with the high economic and social cost resulting from those policies. Many vaccines have been proposed but their efficiency is still controversial. Now, governments and scholars search for how manage with preventives measures policies and vaccination campaigns to stop the COVID-19 spread. This work studied the effects of these different strategies as time-dependent interventions using mathematical modeling and optimal control approach to ascertain their contribution in the dynamic transmission of COVID-19. The model was proven to have an invariant region and was well-posed. The basic reproduction number was computed with and without respect of preventives measures. The optimal control analysis was carried out using the Pontryagin’s maximum principle to figure out the optimal strategy necessary to curtail the disease. The findings revealed that the optimal implementation of preventive measures reduce highly the number of infected individuals but zero infection was not achieved in the population. That was obtained with the optimal implementation of vaccination campaigns which reduce the number of infected individuals. But the optimal and combined implementation of the two interventions performed better with less costs than the two singular implementations.</p>\n",
       "        </article>\n",
       "    </li>\n",
       "                \n",
       "    <li> \n",
       "        <article>\n",
       "            <header>\n",
       "                <a href=\"https://api.elsevier.com/content/article/pii/S2531137921010877; https://www.sciencedirect.com/science/article/pii/S2531137921010877\"> <h2>MEDIDAS DE BIOSSEGURANÇA PARA ENFRENTAMENTO AO COVID: UM RELATO DE EXPERIÊNCIA DE UM HEMOCENTRO DE FORTALEZA</h2></a>\n",
       "            </header>\n",
       "            <p>Introdução A doença coronavírus 2019 (COVID-19) é uma infecção respiratória causada pelo coronavírus 2 da síndrome respiratória aguda grave (SARS-CoV-2), com uma gravidade dos sintomas que varia de uma doença leve a uma pneumonia viral grave que leva à síndrome do desconforto respiratório agudo potencialmente fatal. Os sintomas mais comuns são: febre, tosse, dispneia, mialgia e cansaço. A taxa de letalidade é baixa nas faixas etárias mais baixas e aumenta após os 60 anos de idade. Alguns estudos apontam que o vírus SARS-CoV-2 pode sobreviver em superfícies por vários dias, dependendo do tipo, temperatura ou umidade do ambiente. Os serviços de saúde, enquanto serviços essenciais, devem ter o cuidado excepcional para evitar a contaminação dos equipamentos, pacientes e profissionais. Em tempos de pandemia, tomar medidas que garantam a prevenção, a minimização ou a eliminação de riscos à saúde é fundamental. Por décadas, as normas relativas à biossegurança foram negligenciadas, mas, com o advento da COVID-19, medidas básicas estão sendo reconsideradas, principalmente no que diz respeito aos cuidados necessários para a minimização dos riscos biológicos ao profissional da saúde. A Agência Nacional de Vigilância Sanitária (ANVISA) define a Biossegurança como um conjunto de medidas técnicas que são de suma importância durante a manipulação de agentes e materiais biológicos. Inúmeras são as ações de controle que estão sendo reforçadas a partir das experiências de outros países e da experiência de saúde acumulada em tratamento de outras doenças respiratórias que apresentam meios de transmissão semelhante ao da COVID-19. Objetivo Descrever as medidas de biossegurança utilizadas para prevenção da Covid 19; Contribuir com a construção de conhecimento sobre a Covid 19. Metodologia Assim, baseados nestas experiências, faremos um relato de experiência das ações que foram tomadas para mitigar o efeito da COVID-19 em profissionais de saúde de um Hemocentro de Fortaleza. As medidas de enfretamento ao Covid 19 foram correlacionadas em cinco tópicos: Biossegurança e Trabalhador, Comunicação, Portas de Entrada, Doadores/ Pacientes e Insumos e EPIs. Conclusão Os estudos e autoridades sanitárias de saúde mundial, nacional, estadual e municipal ainda não indicam um período para finalização da pandemia provocada pelo novo coronavírus. A importância de elaborar um Plano de Biossegurança veio garantir a segurança dos profissionais bem como pacientes/ doadores que precisam de atendimento no serviço. O trabalho de educação em saúde deve ser permanente visto que a doença vem sendo estudada e que pouco se sabe. As novas evidências apontam para cepas variantes fazendo com que as medidas de precauções não cessem e que os cuidados sejam redobrados, contínuos e regados de conscientização acerca das medidas sociais de minimização de contaminação.</p>\n",
       "        </article>\n",
       "    </li>\n",
       "                \n",
       "    <li> \n",
       "        <article>\n",
       "            <header>\n",
       "                <a href=\"https://api.elsevier.com/content/article/pii/S2052297521000160; https://www.sciencedirect.com/science/article/pii/S2052297521000160?v=s5; https://doi.org/10.1016/j.nmni.2021.100852; https://www.ncbi.nlm.nih.gov/pubmed/33643657/\"> <h2>Challenges and potential solutions in the development of COVID-19 pandemic control measures</h2></a>\n",
       "            </header>\n",
       "            <p>Currently, COVID-19 pandemic has become an unprecedented and a major health concern all over the world. In this paper we discussed potential solutions and feasible strategies to reduce spread of infection and development of disease control measures.</p>\n",
       "        </article>\n",
       "    </li>\n",
       "                \n",
       "    <li> \n",
       "        <article>\n",
       "            <header>\n",
       "                <a href=\"https://api.elsevier.com/content/article/pii/S0956713521007702; https://doi.org/10.1016/j.foodcont.2021.108632; https://www.ncbi.nlm.nih.gov/pubmed/34703082/; https://www.sciencedirect.com/science/article/pii/S0956713521007702?v=s5\"> <h2>Controlling risk of SARS-CoV-2 infection in essential workers of enclosed food manufacturing facilities</h2></a>\n",
       "            </header>\n",
       "            <p>The SARS-CoV-2 global pandemic poses significant health risks to workers who are essential to maintaining the food supply chain. Using a quantitative risk assessment model, this study characterized the impact of risk reduction strategies for controlling SARS-CoV-2 transmission (droplet, aerosol, fomite-mediated) among front-line workers in a representative indoor fresh fruit and vegetable manufacturing facility. We simulated: 1) individual and cumulative SARS-CoV-2 infection risks from close contact (droplet and aerosols at 1–3 m), aerosol, and fomite-mediated exposures to a susceptible worker following exposure to an infected worker during an 8 h-shift; and 2) the relative reduction in SARS-CoV-2 infection risk attributed to infection control interventions (physical distancing, mask use, ventilation, surface disinfection, hand hygiene, vaccination). Without mitigation measures, the SARS-CoV-2 infection risk was largest for close contact (droplet and aerosol) at 1 m (0.96, 5th – 95th percentile: 0.67–1.0). In comparison, risk associated with fomite (0.26, 5th – 95th percentile: 0.10–0.56) or aerosol exposure alone (0.05, 5th – 95th percentile: 0.01–0.13) at 1 m distance was substantially lower (73–95%). At 1 m, droplet transmission predominated over aerosol and fomite-mediated transmission, however, this changed by 3 m, with aerosols comprising the majority of the exposure dose. Increasing physical distancing reduced risk by 84% (1–2 m) and 91% (1–3 m). Universal mask use reduced infection risk by 52–88%, depending on mask type. Increasing ventilation (from 0.1 to 2–8 air changes/hour) resulted in risk reductions of 14–54% (1 m) and 55–85% (2 m). Combining these strategies, together with handwashing and surface disinfection, resulted in <1% infection risk. Partial or full vaccination of the susceptible worker resulted in risk reductions of 73–92% (1 m risk range: 0.08–0.26). However, vaccination paired with other interventions (ACH 2, mask use, or distancing) was necessary to achieve infection risks <1%. Current industry SARS-CoV-2 risk reduction strategies, particularly when bundled, provide significant protection to essential food workers.</p>\n",
       "        </article>\n",
       "    </li>\n",
       "                \n",
       "    <li> \n",
       "        <article>\n",
       "            <header>\n",
       "                <a href=\"https://doi.org/10.1097/qai.0000000000002514; https://www.ncbi.nlm.nih.gov/pubmed/33027151/\"> <h2>Substantial Decline in Use of HIV Preexposure Prophylaxis Following Introduction of COVID-19 Physical Distancing Restrictions in Australia: Results From a Prospective Observational Study of Gay and Bisexual Men</h2></a>\n",
       "            </header>\n",
       "            <p>In response to the novel coronavirus disease (COVID-19) pandemic, Australia introduced public health and physical distancing restrictions in late March 2020. We investigated the impact of these restrictions on HIV preexposure prophylaxis (PrEP) use among Australian gay and bisexual men (GBM). METHODS: Participants in an ongoing online cohort study previously reported PrEP use from 2014 to 2019. In April 2020, 847 HIV-negative and untested participants completed questionnaires assessing changes in PrEP use as a result of COVID-19 public health measures. Binary logistic multiple regression was used to estimate adjusted odds ratios (aOR) and 95% confidence intervals (95% CI) to compare changes in PrEP use behaviors. RESULTS: Among 847 men, mean age was 44.1 years (SD: 12.7). PrEP use rose from 4.9% in 2015 to 47.2% in 2020. Among those, 41.8% (n = 167) discontinued PrEP use during COVID-19 restrictions. Discontinuing PrEP during COVID-19 restrictions was independently associated with being less likely to have recently tested for HIV (aOR: 0.17; 95% CI: 0.09 to 0.34; P < 0.001) and less likely to report sex with casual partners (aOR: 0.28; 95% CI: 0.14 to 0.54; P < 0.001). CONCLUSIONS: By April 2020, following the introduction of COVID-19 restrictions, GBM dramatically reduced PrEP use, coinciding with a reduction in sexual activity. Longer-term impacts of COVID-19 restrictions on sexual behaviors among GBM need to be monitored because they may foreshadow fluctuations in prevention coverage and risk of HIV infection. Our findings indicate a potential need for clear, targeted information about resumption of PrEP and on-demand optimal dosing regimens in response to ongoing changes in restrictions.</p>\n",
       "        </article>\n",
       "    </li>\n",
       "                \n",
       "    <li> \n",
       "        <article>\n",
       "            <header>\n",
       "                <a href=\"https://api.elsevier.com/content/article/pii/S2212420921006634; https://www.sciencedirect.com/science/article/pii/S2212420921006634?v=s5; https://www.ncbi.nlm.nih.gov/pubmed/34868837/; https://doi.org/10.1016/j.ijdrr.2021.102702\"> <h2>Mosques in Japan responding to COVID-19 pandemic: Infection prevention and support provision</h2></a>\n",
       "            </header>\n",
       "            <p>Religious activities tend to be conducted in enclosed, crowded, and close-contact settings, which have a high potential of transmitting the coronavirus disease, 2019 (COVID-19); therefore, religious communities are expected to take appropriate infection prevention measures. Meanwhile, during past disasters, religious communities have provided various types of support to affected people; hence, their role in disaster risk reduction has received much attention. In this study, we aimed to identify the infection prevention measures and support provision implemented by mosques—Islamic institutions managed and operated mainly by foreign Muslims living in Japan—during the one year from January 2020. We collected information from newspaper articles (18 articles on 19 mosques) and interviews with representatives of three mosques. We found that various infection control measures were implemented in mosques—refraining from mass prayers and closing buildings from an early stage (around February 2020); canceling large-scale events during the month of Ramadan; moving some activities online; and ensuring indoor ventilation and safe physical distance even when continuing face-to-face prayer activities. We also found that various types of support were provided by mosques—donating masks to the local government; listening to problems of people affected by COVID-19 regardless of their nationality; providing financial support to them; translating and disseminating information to foreign Muslims; and providing religious meals for them. This study provides actual examples of infection prevention measures taken by mosques in a Muslim-minority society and suggests that mosques appropriately responded to the needs of religious minorities during disasters, including COVID-19.</p>\n",
       "        </article>\n",
       "    </li>\n",
       "                \n",
       "    <li> \n",
       "        <article>\n",
       "            <header>\n",
       "                <a href=\"https://arxiv.org/pdf/2112.12062v2.pdf; https://doi.org/10.3389/fphy.2022.842180\"> <h2>Interplay between risk perception, behaviour, and COVID-19 spread</h2></a>\n",
       "            </header>\n",
       "            <p>Pharmaceutical and non-pharmaceutical interventions (NPIs) have been crucial for controlling COVID-19. They are complemented by voluntary health-protective behaviour, building a complex interplay between risk perception, behaviour, and disease spread. We studied how voluntary health-protective behaviour and vaccination willingness impact the long-term dynamics. We analysed how different levels of mandatory NPIs determine how individuals use their leeway for voluntary actions. If mandatory NPIs are too weak, COVID-19 incidence will surge, implying high morbidity and mortality before individuals react; if they are too strong, one expects a rebound wave once restrictions are lifted, challenging the transition to endemicity. Conversely, moderate mandatory NPIs give individuals time and room to adapt their level of caution, mitigating disease spread effectively. When complemented with high vaccination rates, this also offers a robust way to limit the impacts of the Omicron variant of concern. Altogether, our work highlights the importance of appropriate mandatory NPIs to maximise the impact of individual voluntary actions in pandemic control.</p>\n",
       "        </article>\n",
       "    </li>\n",
       "                \n",
       "    <li> \n",
       "        <article>\n",
       "            <header>\n",
       "                <a href=\"https://www.ncbi.nlm.nih.gov/pubmed/34162772/; https://doi.org/10.1539/sangyoeisei.2021-004-e\"> <h2>[Institutional measures and desired supports regarding COVID-19 pandemic among small and medium-sized enterprises: An interview study in Japan]</h2></a>\n",
       "            </header>\n",
       "            <p>OBJECTIVES: Owing to the spread of COVID-19, many companies are likely to experience a significant impact on not only the safety and health of employees, but also on their businesses. The impact may be more severe for small and medium-sized enterprises (SMEs) than large enterprises, given their limited management resources. This study aims to clarify the good practices of institutional measures, the challenges in implementing these measures, and the required supports among SMEs. METHODS: The authors conducted an interview survey in August-October 2020 covering 27 SMEs in Japan regarding the infection control measures implemented and the desired supports in the future. Based on the content analysis, four researchers, comprising two occupational physicians and occupational health nurses each, extracted small categories by focusing on the commonality of codes, and gradually increased the degree of abstraction, subsequently extracting large categories. RESULTS: The study consolidated the implemented institutional measures into four categories: \"making immediate decisions,\" \"obtaining accurate information and sharing it with all employees,\" \"strengthening infection control measures,\" and \" launching efforts to continue business.\" In addition, challenges in implementing institutional measures were classified into five categories: \"information gathering,\" \"counter measures against unknown virus,\" \"poor accessibility to Polymerase Chain Reaction (PCR) test,\" \"consensus building,\" and \"balancing business continuity and infection control.\" Furthermore, desired support in the future was classified into three categories: \"information gathering,\" \"accessibility to PCR test,\" and \"compensation and subsidy.\" CONCLUSIONS: With taking the advantage of the characteristics of SMEs, not a few companies implemented the four categories of institutional measures. Therefore, it is imperative for SMEs to provide accurate information to employers for appropriately recognizing the risks. Accordingly, it is desirable for occupational health professionals at SMEs to provide support to employers to help them identify appropriate information.</p>\n",
       "        </article>\n",
       "    </li>\n",
       "                \n",
       "    <li> \n",
       "        <article>\n",
       "            <header>\n",
       "                <a href=\"https://www.ncbi.nlm.nih.gov/pubmed/33451303/; https://doi.org/10.1186/s12889-021-10201-4\"> <h2>COVID-19 preventive behaviors and influencing factors in the Iranian population; a web-based survey</h2></a>\n",
       "            </header>\n",
       "            <p>BACKGROUND: COVID19 is a respiratory disease caused by a novel coronavirus. As there has been no definitive treatment for the disease so far, the only way to control the spread is to break the chain of infection. Our study aimed to analyze the preventive behaviors and influencing factors in the Iranian population. METHODS: This cross-sectional study was a web-based survey in the Iranian population. We performed the study during the first peak of COVID-19 outbreak (from March 25th, 2020 to April 5th()). We used demographic and Preventive behaviors questionnaires to collect the data. This web-based survey was publicized on the internet through the common platforms used by the Iranian population. This survey was released on the website “Porsline.com”. A total of 2097 acceptable questionnaires were filled. All data were analyzed, using Statistical Package for Social Sciences (SPSS) version 19. RESULTS: 61.9% of the participants checked the hand-washing question as “Always”. 55.7 and 58.2% checked the wearing masks and gloves as “Always”, respectively. We found a significant relationship between gender and hand washing behavior (P = 0.006) and the use of masks and gloves (P < 0.001). Results showed that wearing gloves had a significant relation with the education status (P = 0.029) and economic status (P = 0.011). Wearing masks had a significant relation with economic status (P = 0.032). Overall women had better preventive behaviors. CONCLUSIONS: Preventive behaviors have a significant relation with some socio-demographic characteristics. According to the 3 main preventive behaviors of hand-washing, wearing masks and gloves 50% of the population has not taken these behaviors seriously. SUPPLEMENTARY INFORMATION: The online version contains supplementary material available at 10.1186/s12889-021-10201-4.</p>\n",
       "        </article>\n",
       "    </li>\n",
       "                \n",
       "    <li> \n",
       "        <article>\n",
       "            <header>\n",
       "                <a href=\"https://www.ncbi.nlm.nih.gov/pubmed/33959527/; https://doi.org/10.4103/idoj.idoj_544_20\"> <h2>9 Tips and Pearls for Safer Performance of Dermatological Procedures during Covid-19 Pandemic</h2></a>\n",
       "            </header>\n",
       "            <p>SARS-CoV2 pandemic has affected dermatologypractice greatly. In view of the risk of transmission, physicians need to devise methods to perform procedures in a safer way. Our institute has adopted a number of innovative safety precautions steps, which are being outlined here.</p>\n",
       "        </article>\n",
       "    </li>\n",
       "    </body></html>"
      ],
      "text/plain": [
       "<IPython.core.display.HTML object>"
      ]
     },
     "execution_count": 31,
     "metadata": {},
     "output_type": "execute_result"
    }
   ],
   "source": [
    "html = \"<html><body><ol>\"\n",
    "for i in range(len(matches)):\n",
    "    html += f\"\"\"            \n",
    "    <li> \n",
    "        <article>\n",
    "            <header>\n",
    "                <a href=\"{matches.url[i]}\"> <h2>{matches.title[i]}</h2></a>\n",
    "            </header>\n",
    "            <p>{matches.abstract[i]}</p>\n",
    "        </article>\n",
    "    </li>\n",
    "    \"\"\"\n",
    "html += \"</body></html>\"\n",
    "display.HTML(html)"
   ]
  },
  {
   "cell_type": "markdown",
   "id": "a3f0192e-e1eb-4a51-b046-3fa63b040b49",
   "metadata": {},
   "source": [
    "## Cleaning Up"
   ]
  },
  {
   "cell_type": "code",
   "execution_count": null,
   "id": "1a8defa4-940e-4384-85ad-69de7f284b2e",
   "metadata": {},
   "outputs": [],
   "source": [
    "matching_engine.delete(force=True)\n",
    "matching_engine_index.delete()"
   ]
  },
  {
   "cell_type": "markdown",
   "id": "0f9607d5-49d7-4810-aeb8-d5d01a40606d",
   "metadata": {},
   "source": [
    "Copyright 2023 Google Inc.\n",
    "Licensed under the Apache License, Version 2.0 (the \"License\"); you may not use this file except in compliance with the License. You may obtain a copy of the License at\n",
    "http://www.apache.org/licenses/LICENSE-2.0\n",
    "Unless required by applicable law or agreed to in writing, software distributed under the License is distributed on an \"AS IS\" BASIS, WITHOUT WARRANTIES OR CONDITIONS OF ANY KIND, either express or implied. See the License for the specific language governing permissions and limitations under the License."
   ]
  }
 ],
 "metadata": {
  "environment": {
   "kernel": "python3",
   "name": "tf2-gpu.2-12.m124",
   "type": "gcloud",
   "uri": "us-docker.pkg.dev/deeplearning-platform-release/gcr.io/tf2-gpu.2-12:m124"
  },
  "kernelspec": {
   "display_name": "Python 3 (Local)",
   "language": "python",
   "name": "python3"
  },
  "language_info": {
   "codemirror_mode": {
    "name": "ipython",
    "version": 3
   },
   "file_extension": ".py",
   "mimetype": "text/x-python",
   "name": "python",
   "nbconvert_exporter": "python",
   "pygments_lexer": "ipython3",
   "version": "3.10.14"
  }
 },
 "nbformat": 4,
 "nbformat_minor": 5
}
