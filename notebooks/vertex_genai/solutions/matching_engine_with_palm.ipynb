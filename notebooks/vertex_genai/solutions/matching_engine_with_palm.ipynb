{
 "cells": [
  {
   "cell_type": "markdown",
   "id": "92f0e28c-799f-4176-90db-5b4a53ebc6ab",
   "metadata": {},
   "source": [
    "# Semantic Matching with Matching Engine and Palm"
   ]
  },
  {
   "cell_type": "markdown",
   "id": "c17d2988-43b0-4aaf-a808-21d476cbe185",
   "metadata": {},
   "source": [
    "[COVID-19 Open Research Dataset Challenge (CORD-19)\n",
    "](https://www.kaggle.com/datasets/allen-institute-for-ai/CORD-19-research-challenge)"
   ]
  },
  {
   "cell_type": "markdown",
   "id": "9f75e37a-b298-45db-96e5-8ab75aa7efa0",
   "metadata": {},
   "source": [
    "## Setup "
   ]
  },
  {
   "cell_type": "code",
   "execution_count": 8,
   "id": "f319c211-03fe-4265-aa61-ee7b9a0f71c8",
   "metadata": {},
   "outputs": [],
   "source": [
    "import os\n",
    "import json\n",
    "\n",
    "from IPython import display\n",
    "import pandas as pd\n",
    "from google.cloud import aiplatform\n",
    "from vertexai.language_models import TextEmbeddingModel"
   ]
  },
  {
   "cell_type": "code",
   "execution_count": 4,
   "id": "4ddaf916-96df-4da8-be80-4ba9dd6fa619",
   "metadata": {},
   "outputs": [],
   "source": [
    "REGION = \"us-central1\"\n",
    "PROJECT = !(gcloud config get-value core/project)\n",
    "PROJECT = PROJECT[0]\n",
    "BUCKET = f\"{PROJECT}-cord19-matching\"\n",
    "\n",
    "# Do not change these\n",
    "os.environ[\"PROJECT\"] = PROJECT\n",
    "os.environ[\"BUCKET\"] = BUCKET\n",
    "os.environ[\"REGION\"] = REGION"
   ]
  },
  {
   "cell_type": "code",
   "execution_count": 5,
   "id": "018c5c0a-aa15-47be-808f-e34c856b7659",
   "metadata": {},
   "outputs": [
    {
     "name": "stdout",
     "output_type": "stream",
     "text": [
      "BucketNotFoundException: 404 gs://dherin-dev-cord19-matching bucket does not exist.\n",
      "Creating gs://dherin-dev-cord19-matching/...\n"
     ]
    }
   ],
   "source": [
    "!gsutil ls gs://{BUCKET} || gsutil mb -l {REGION} gs://{BUCKET}"
   ]
  },
  {
   "cell_type": "markdown",
   "id": "21881016-af83-4b9a-b9c4-a097440f269b",
   "metadata": {},
   "source": [
    "## Loading the data"
   ]
  },
  {
   "cell_type": "code",
   "execution_count": 6,
   "id": "3e9e5f77-baea-403b-8387-5be599b87519",
   "metadata": {},
   "outputs": [
    {
     "data": {
      "text/html": [
       "<div>\n",
       "<style scoped>\n",
       "    .dataframe tbody tr th:only-of-type {\n",
       "        vertical-align: middle;\n",
       "    }\n",
       "\n",
       "    .dataframe tbody tr th {\n",
       "        vertical-align: top;\n",
       "    }\n",
       "\n",
       "    .dataframe thead th {\n",
       "        text-align: right;\n",
       "    }\n",
       "</style>\n",
       "<table border=\"1\" class=\"dataframe\">\n",
       "  <thead>\n",
       "    <tr style=\"text-align: right;\">\n",
       "      <th></th>\n",
       "      <th>title</th>\n",
       "      <th>abstract</th>\n",
       "      <th>url</th>\n",
       "    </tr>\n",
       "  </thead>\n",
       "  <tbody>\n",
       "    <tr>\n",
       "      <th>0</th>\n",
       "      <td>Ethnobotanical and ethnomedicinal analysis of ...</td>\n",
       "      <td>Algerian people largely rely on traditional me...</td>\n",
       "      <td>https://www.ncbi.nlm.nih.gov/pubmed/34131369/;...</td>\n",
       "    </tr>\n",
       "    <tr>\n",
       "      <th>1</th>\n",
       "      <td>1.9 Adolescents in Crisis: Psychological Impac...</td>\n",
       "      <td>NaN</td>\n",
       "      <td>https://doi.org/10.1016/j.jaac.2021.09.022; ht...</td>\n",
       "    </tr>\n",
       "    <tr>\n",
       "      <th>2</th>\n",
       "      <td>Myopericarditis in a previously healthy adoles...</td>\n",
       "      <td>We report the case of a previously healthy 16‐...</td>\n",
       "      <td>https://www.ncbi.nlm.nih.gov/pubmed/34133825/;...</td>\n",
       "    </tr>\n",
       "    <tr>\n",
       "      <th>3</th>\n",
       "      <td>Religious Support as a Contribution to Face th...</td>\n",
       "      <td>Coping with the COVID-19 pandemic has required...</td>\n",
       "      <td>https://www.ncbi.nlm.nih.gov/pubmed/33405093/;...</td>\n",
       "    </tr>\n",
       "    <tr>\n",
       "      <th>4</th>\n",
       "      <td>The urgency of resuming disrupted dog rabies v...</td>\n",
       "      <td>OBJECTIVE: Dog vaccination is a cost-effective...</td>\n",
       "      <td>http://medrxiv.org/cgi/content/short/2021.04.2...</td>\n",
       "    </tr>\n",
       "  </tbody>\n",
       "</table>\n",
       "</div>"
      ],
      "text/plain": [
       "                                               title  \\\n",
       "0  Ethnobotanical and ethnomedicinal analysis of ...   \n",
       "1  1.9 Adolescents in Crisis: Psychological Impac...   \n",
       "2  Myopericarditis in a previously healthy adoles...   \n",
       "3  Religious Support as a Contribution to Face th...   \n",
       "4  The urgency of resuming disrupted dog rabies v...   \n",
       "\n",
       "                                            abstract  \\\n",
       "0  Algerian people largely rely on traditional me...   \n",
       "1                                                NaN   \n",
       "2  We report the case of a previously healthy 16‐...   \n",
       "3  Coping with the COVID-19 pandemic has required...   \n",
       "4  OBJECTIVE: Dog vaccination is a cost-effective...   \n",
       "\n",
       "                                                 url  \n",
       "0  https://www.ncbi.nlm.nih.gov/pubmed/34131369/;...  \n",
       "1  https://doi.org/10.1016/j.jaac.2021.09.022; ht...  \n",
       "2  https://www.ncbi.nlm.nih.gov/pubmed/34133825/;...  \n",
       "3  https://www.ncbi.nlm.nih.gov/pubmed/33405093/;...  \n",
       "4  http://medrxiv.org/cgi/content/short/2021.04.2...  "
      ]
     },
     "execution_count": 6,
     "metadata": {},
     "output_type": "execute_result"
    }
   ],
   "source": [
    "metadata = pd.read_csv('../data/cord19_metadata_sample.csv.gz')\n",
    "metadata.head()"
   ]
  },
  {
   "cell_type": "markdown",
   "id": "db134b0d-9baa-47d9-b8a7-ba74e904eb50",
   "metadata": {},
   "source": [
    "## Creating the embeddings"
   ]
  },
  {
   "cell_type": "code",
   "execution_count": 9,
   "id": "5a7a4a16-6015-4a11-b034-c0807bace95c",
   "metadata": {},
   "outputs": [],
   "source": [
    "model = TextEmbeddingModel.from_pretrained(\"textembedding-gecko@001\")"
   ]
  },
  {
   "cell_type": "code",
   "execution_count": 10,
   "id": "d59bb0fa-79f7-4817-8652-7f56f42786f6",
   "metadata": {},
   "outputs": [],
   "source": [
    "MAX_BATCH_SIZE = 5\n",
    "vectors = []\n",
    "\n",
    "for i in range(0, len(metadata), MAX_BATCH_SIZE):\n",
    "    batch = metadata.abstract[i: i + MAX_BATCH_SIZE]\n",
    "    embeddings = model.get_embeddings(batch)\n",
    "    vectors.extend([embedding.values for embedding in embeddings])"
   ]
  },
  {
   "cell_type": "markdown",
   "id": "f6109de9-2a7f-43aa-b70f-4496ad50be5c",
   "metadata": {},
   "source": [
    "## Creating the matching engine input file"
   ]
  },
  {
   "cell_type": "code",
   "execution_count": 12,
   "id": "c85de3f2-9a4b-4b26-85b5-7f07d4e0c712",
   "metadata": {},
   "outputs": [],
   "source": [
    "embeddings_file_path = \"cord19_embeddings.json\"\n",
    "\n",
    "# Removing the embedding file if it already exists\n",
    "!test -f {embeddings_file_path} && rm {embeddings_file_path}\n",
    "\n",
    "with open(embeddings_file_path, 'a') as embeddings_file:    \n",
    "    for i, embedding in enumerate(vectors):\n",
    "        json_line = json.dumps(\n",
    "            {\n",
    "                \"id\": i,\n",
    "                \"embedding\": embedding\n",
    "            }\n",
    "        ) + '\\n'\n",
    "        embeddings_file.writelines(json_line)"
   ]
  },
  {
   "cell_type": "code",
   "execution_count": 13,
   "id": "0fa3d22b-da6b-4eab-9f8d-210e7394d83f",
   "metadata": {},
   "outputs": [
    {
     "name": "stdout",
     "output_type": "stream",
     "text": [
      "Copying file://cord19_embeddings.json [Content-Type=application/json]...\n",
      "- [1 files][ 64.9 MiB/ 64.9 MiB]                                                \n",
      "Operation completed over 1 objects/64.9 MiB.                                     \n"
     ]
    }
   ],
   "source": [
    "EMBEDDINGS_URI = f\"gs://{BUCKET}\"\n",
    "\n",
    "!gsutil cp {embeddings_file_path} {EMBEDDINGS_URI}"
   ]
  },
  {
   "cell_type": "markdown",
   "id": "220b10e1-ad07-40e0-bfa3-38ed4ed8ce8c",
   "metadata": {},
   "source": [
    "## Creating the matching engine index"
   ]
  },
  {
   "cell_type": "code",
   "execution_count": null,
   "id": "a9e4ac9c-d0b1-4673-bab1-6f60e86b48d8",
   "metadata": {},
   "outputs": [
    {
     "name": "stdout",
     "output_type": "stream",
     "text": [
      "Creating MatchingEngineIndex\n",
      "Create MatchingEngineIndex backing LRO: projects/115851500182/locations/us-central1/indexes/6107013036109725696/operations/263368975138684928\n"
     ]
    }
   ],
   "source": [
    "DISPLAY_NAME = \"cord19-palm-embeddings\"\n",
    "\n",
    "matching_engine_index = aiplatform.MatchingEngineIndex.create_tree_ah_index(\n",
    "    display_name=DISPLAY_NAME,\n",
    "    contents_delta_uri=EMBEDDINGS_URI,\n",
    "    dimensions=len(vectors[0]),\n",
    "    approximate_neighbors_count=150,\n",
    "    distance_measure_type=\"COSINE_DISTANCE\",\n",
    "    leaf_node_embedding_count=500,\n",
    "    leaf_nodes_to_search_percent=7,\n",
    "    description=DISPLAY_NAME,\n",
    ")"
   ]
  },
  {
   "cell_type": "code",
   "execution_count": null,
   "id": "71bb86d7-680f-44a2-9472-105e159eb1aa",
   "metadata": {},
   "outputs": [],
   "source": [
    "INDEX_RESOURCE_NAME = tree_ah_index.resource_name\n",
    "\n",
    "print(INDEX_RESOURCE_NAME)"
   ]
  },
  {
   "cell_type": "code",
   "execution_count": null,
   "id": "38d0a525-3d12-4848-ad7f-99772cdb2f18",
   "metadata": {},
   "outputs": [],
   "source": [
    "matching_engine_index = aiplatform.MatchingEngineIndex(index_name=INDEX_RESOURCE_NAME)"
   ]
  },
  {
   "cell_type": "code",
   "execution_count": null,
   "id": "7aaaeff3-d227-4d2b-817a-07cc09ca9dac",
   "metadata": {},
   "outputs": [],
   "source": [
    "matching_engine_endpoint = aiplatform.MatchingEngineIndexEndpoint.create(\n",
    "    display_name=DISPLAY_NAME,\n",
    "    description=DISPLAY_NAME,\n",
    "    public_endpoint_enabled=True,\n",
    ")"
   ]
  },
  {
   "cell_type": "code",
   "execution_count": null,
   "id": "8ed429a5-05ce-4a90-aef3-4ed0c84e4f1f",
   "metadata": {},
   "outputs": [],
   "source": [
    "DEPLOYED_INDEX_ID = \"cord19-deployed-index\""
   ]
  },
  {
   "cell_type": "code",
   "execution_count": null,
   "id": "90ccef87-6ddc-434e-8292-4bb0a0848631",
   "metadata": {},
   "outputs": [],
   "source": [
    "matching_engine = matching_engine_endpoint.deploy_index(\n",
    "    index=matching_engine_index, deployed_index_id=DEPLOYED_INDEX_ID\n",
    ")\n",
    "\n",
    "matching_engine.deployed_indexes"
   ]
  },
  {
   "cell_type": "markdown",
   "id": "cf96414f-80ef-480a-a3a3-c69389da8fd9",
   "metadata": {},
   "source": [
    "## Querying Matching Engine"
   ]
  },
  {
   "cell_type": "code",
   "execution_count": null,
   "id": "d7b7a045-0721-4e2f-9601-3254b35d6d2a",
   "metadata": {},
   "outputs": [],
   "source": [
    "QUERY = \"SARS-CoV-2\"\n",
    "\n",
    "text_embeddings = [\n",
    "    vector.values \n",
    "    for vector in model.get_embeddings([QUERY])\n",
    "]"
   ]
  },
  {
   "cell_type": "code",
   "execution_count": null,
   "id": "5cd67c63-9278-46e2-b343-d731c64ae9c4",
   "metadata": {},
   "outputs": [],
   "source": [
    "# Define number of neighbors to return\n",
    "NUM_NEIGHBORS = 20\n",
    "\n",
    "response = matching_engine.find_neighbors(\n",
    "    deployed_index_id=DEPLOYED_INDEX_ID,\n",
    "    queries=text_embeddings,\n",
    "    num_neighbors=NUM_NEIGHBORS,\n",
    ")\n",
    "\n",
    "response"
   ]
  },
  {
   "cell_type": "code",
   "execution_count": null,
   "id": "4eb86676-d091-48d2-9d1a-10a5f4b952d1",
   "metadata": {},
   "outputs": [],
   "source": [
    "matched_ids = [int(match.id) for match in response[0]]\n",
    "matched_distances = [match.distance for match in response[0]]\n",
    "matched_titles = [metadata.title[i] for i in matched_ids]\n",
    "matched_abstracts = [metadata.abstract[i] for i in matched_ids]\n",
    "matched_urls = [metadata.url[i] for i in matched_ids]\n",
    "\n",
    "matches = pd.DataFrame({\n",
    "    \"distance\": matched_distances,\n",
    "    \"title\": matched_titles,\n",
    "    \"abstract\": matched_abstracts,\n",
    "    \"url\": matched_urls\n",
    "})\n",
    "matches"
   ]
  },
  {
   "cell_type": "code",
   "execution_count": null,
   "id": "1d51e621-4cee-4f77-b876-b82ac369cd2e",
   "metadata": {},
   "outputs": [],
   "source": [
    "html = \"<html><body><ol>\"\n",
    "for i in range(len(matches)):\n",
    "    html += f\"\"\"            \n",
    "    <li> \n",
    "        <article>\n",
    "            <header>\n",
    "                <a href=\"{matches.url[i]}\"> <h2>{matches.title[i]}</h2></a>\n",
    "            </header>\n",
    "            <p>{matches.abstract[i]}</p>\n",
    "        </article>\n",
    "    </li>\n",
    "    \"\"\"\n",
    "html += \"</body></html>\"\n",
    "display.HTML(html)"
   ]
  },
  {
   "cell_type": "markdown",
   "id": "a3f0192e-e1eb-4a51-b046-3fa63b040b49",
   "metadata": {},
   "source": [
    "## Cleaning Up"
   ]
  },
  {
   "cell_type": "code",
   "execution_count": null,
   "id": "1a8defa4-940e-4384-85ad-69de7f284b2e",
   "metadata": {},
   "outputs": [],
   "source": [
    "my_index_endpoint.delete(force=True)\n",
    "tree_ah_index.delete()"
   ]
  },
  {
   "cell_type": "markdown",
   "id": "0f9607d5-49d7-4810-aeb8-d5d01a40606d",
   "metadata": {},
   "source": [
    "Copyright 2023 Google Inc.\n",
    "Licensed under the Apache License, Version 2.0 (the \"License\"); you may not use this file except in compliance with the License. You may obtain a copy of the License at\n",
    "http://www.apache.org/licenses/LICENSE-2.0\n",
    "Unless required by applicable law or agreed to in writing, software distributed under the License is distributed on an \"AS IS\" BASIS, WITHOUT WARRANTIES OR CONDITIONS OF ANY KIND, either express or implied. See the License for the specific language governing permissions and limitations under the License."
   ]
  }
 ],
 "metadata": {
  "environment": {
   "kernel": "python3",
   "name": "tf2-gpu.2-11.m109",
   "type": "gcloud",
   "uri": "gcr.io/deeplearning-platform-release/tf2-gpu.2-11:m109"
  },
  "kernelspec": {
   "display_name": "Python 3",
   "language": "python",
   "name": "python3"
  },
  "language_info": {
   "codemirror_mode": {
    "name": "ipython",
    "version": 3
   },
   "file_extension": ".py",
   "mimetype": "text/x-python",
   "name": "python",
   "nbconvert_exporter": "python",
   "pygments_lexer": "ipython3",
   "version": "3.10.11"
  }
 },
 "nbformat": 4,
 "nbformat_minor": 5
}
