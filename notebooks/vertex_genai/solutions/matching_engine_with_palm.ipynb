{
 "cells": [
  {
   "cell_type": "markdown",
   "id": "92f0e28c-799f-4176-90db-5b4a53ebc6ab",
   "metadata": {},
   "source": [
    "# Semantic Matching with Matching Engine and Palm"
   ]
  },
  {
   "cell_type": "markdown",
   "id": "c17d2988-43b0-4aaf-a808-21d476cbe185",
   "metadata": {},
   "source": [
    "[COVID-19 Open Research Dataset Challenge (CORD-19)\n",
    "](https://www.kaggle.com/datasets/allen-institute-for-ai/CORD-19-research-challenge)"
   ]
  },
  {
   "cell_type": "markdown",
   "id": "9f75e37a-b298-45db-96e5-8ab75aa7efa0",
   "metadata": {},
   "source": [
    "## Setup "
   ]
  },
  {
   "cell_type": "code",
   "execution_count": 233,
   "id": "f319c211-03fe-4265-aa61-ee7b9a0f71c8",
   "metadata": {},
   "outputs": [],
   "source": [
    "import os\n",
    "import json\n",
    "\n",
    "from IPython import display\n",
    "import pandas as pd\n",
    "from google.cloud import aiplatform\n",
    "from vertexai.language_models import TextEmbedding"
   ]
  },
  {
   "cell_type": "code",
   "execution_count": 121,
   "id": "4ddaf916-96df-4da8-be80-4ba9dd6fa619",
   "metadata": {},
   "outputs": [],
   "source": [
    "REGION = \"us-central1\"\n",
    "PROJECT = !(gcloud config get-value core/project)\n",
    "PROJECT = PROJECT[0]\n",
    "BUCKET = f\"{PROJECT}-matching\"\n",
    "\n",
    "# Do not change these\n",
    "os.environ[\"PROJECT\"] = PROJECT\n",
    "os.environ[\"BUCKET\"] = BUCKET\n",
    "os.environ[\"REGION\"] = REGION"
   ]
  },
  {
   "cell_type": "code",
   "execution_count": 123,
   "id": "018c5c0a-aa15-47be-808f-e34c856b7659",
   "metadata": {},
   "outputs": [],
   "source": [
    "!gsutil ls gs://{BUCKET} || gsutil mb -l {REGION} gs://{BUCKET}"
   ]
  },
  {
   "cell_type": "markdown",
   "id": "21881016-af83-4b9a-b9c4-a097440f269b",
   "metadata": {},
   "source": [
    "## Loading the data"
   ]
  },
  {
   "cell_type": "code",
   "execution_count": 145,
   "id": "3e9e5f77-baea-403b-8387-5be599b87519",
   "metadata": {},
   "outputs": [
    {
     "data": {
      "text/html": [
       "<div>\n",
       "<style scoped>\n",
       "    .dataframe tbody tr th:only-of-type {\n",
       "        vertical-align: middle;\n",
       "    }\n",
       "\n",
       "    .dataframe tbody tr th {\n",
       "        vertical-align: top;\n",
       "    }\n",
       "\n",
       "    .dataframe thead th {\n",
       "        text-align: right;\n",
       "    }\n",
       "</style>\n",
       "<table border=\"1\" class=\"dataframe\">\n",
       "  <thead>\n",
       "    <tr style=\"text-align: right;\">\n",
       "      <th></th>\n",
       "      <th>title</th>\n",
       "      <th>abstract</th>\n",
       "      <th>url</th>\n",
       "    </tr>\n",
       "  </thead>\n",
       "  <tbody>\n",
       "    <tr>\n",
       "      <th>0</th>\n",
       "      <td>Clinical features of culture-proven Mycoplasma...</td>\n",
       "      <td>OBJECTIVE: This retrospective chart review des...</td>\n",
       "      <td>https://www.ncbi.nlm.nih.gov/pmc/articles/PMC3...</td>\n",
       "    </tr>\n",
       "    <tr>\n",
       "      <th>1</th>\n",
       "      <td>Nitric oxide: a pro-inflammatory mediator in l...</td>\n",
       "      <td>Inflammatory diseases of the respiratory tract...</td>\n",
       "      <td>https://www.ncbi.nlm.nih.gov/pmc/articles/PMC5...</td>\n",
       "    </tr>\n",
       "    <tr>\n",
       "      <th>2</th>\n",
       "      <td>Surfactant protein-D and pulmonary host defense</td>\n",
       "      <td>Surfactant protein-D (SP-D) participates in th...</td>\n",
       "      <td>https://www.ncbi.nlm.nih.gov/pmc/articles/PMC5...</td>\n",
       "    </tr>\n",
       "    <tr>\n",
       "      <th>3</th>\n",
       "      <td>Role of endothelin-1 in lung disease</td>\n",
       "      <td>Endothelin-1 (ET-1) is a 21 amino acid peptide...</td>\n",
       "      <td>https://www.ncbi.nlm.nih.gov/pmc/articles/PMC5...</td>\n",
       "    </tr>\n",
       "    <tr>\n",
       "      <th>4</th>\n",
       "      <td>Gene expression in epithelial cells in respons...</td>\n",
       "      <td>Respiratory syncytial virus (RSV) and pneumoni...</td>\n",
       "      <td>https://www.ncbi.nlm.nih.gov/pmc/articles/PMC5...</td>\n",
       "    </tr>\n",
       "  </tbody>\n",
       "</table>\n",
       "</div>"
      ],
      "text/plain": [
       "                                               title  \\\n",
       "0  Clinical features of culture-proven Mycoplasma...   \n",
       "1  Nitric oxide: a pro-inflammatory mediator in l...   \n",
       "2    Surfactant protein-D and pulmonary host defense   \n",
       "3               Role of endothelin-1 in lung disease   \n",
       "4  Gene expression in epithelial cells in respons...   \n",
       "\n",
       "                                            abstract  \\\n",
       "0  OBJECTIVE: This retrospective chart review des...   \n",
       "1  Inflammatory diseases of the respiratory tract...   \n",
       "2  Surfactant protein-D (SP-D) participates in th...   \n",
       "3  Endothelin-1 (ET-1) is a 21 amino acid peptide...   \n",
       "4  Respiratory syncytial virus (RSV) and pneumoni...   \n",
       "\n",
       "                                                 url  \n",
       "0  https://www.ncbi.nlm.nih.gov/pmc/articles/PMC3...  \n",
       "1  https://www.ncbi.nlm.nih.gov/pmc/articles/PMC5...  \n",
       "2  https://www.ncbi.nlm.nih.gov/pmc/articles/PMC5...  \n",
       "3  https://www.ncbi.nlm.nih.gov/pmc/articles/PMC5...  \n",
       "4  https://www.ncbi.nlm.nih.gov/pmc/articles/PMC5...  "
      ]
     },
     "execution_count": 145,
     "metadata": {},
     "output_type": "execute_result"
    }
   ],
   "source": [
    "metadata = pd.read_csv('../data/metadata_cord19_sample.csv')\n",
    "metadata.head()"
   ]
  },
  {
   "cell_type": "markdown",
   "id": "db134b0d-9baa-47d9-b8a7-ba74e904eb50",
   "metadata": {},
   "source": [
    "## Creating the embeddings"
   ]
  },
  {
   "cell_type": "code",
   "execution_count": 8,
   "id": "5a7a4a16-6015-4a11-b034-c0807bace95c",
   "metadata": {},
   "outputs": [],
   "source": [
    "model = TextEmbeddingModel.from_pretrained(\"textembedding-gecko@001\")"
   ]
  },
  {
   "cell_type": "code",
   "execution_count": 50,
   "id": "d59bb0fa-79f7-4817-8652-7f56f42786f6",
   "metadata": {},
   "outputs": [],
   "source": [
    "MAX_BATCH_SIZE = 5\n",
    "vectors = []\n",
    "\n",
    "for i in range(0, len(metadata), MAX_BATCH_SIZE):\n",
    "    batch = metadata.abstract[i: i + MAX_BATCH_SIZE]\n",
    "    embeddings = model.get_embeddings(batch)\n",
    "    vectors.extend([embedding.values for embedding in embeddings])"
   ]
  },
  {
   "cell_type": "markdown",
   "id": "f6109de9-2a7f-43aa-b70f-4496ad50be5c",
   "metadata": {},
   "source": [
    "## Creating the matching engine input file"
   ]
  },
  {
   "cell_type": "code",
   "execution_count": 99,
   "id": "c85de3f2-9a4b-4b26-85b5-7f07d4e0c712",
   "metadata": {},
   "outputs": [],
   "source": [
    "embeddings_file_path = \"cord19_embeddings.json\"\n",
    "\n",
    "# Removing the embedding file if it already exists\n",
    "!test -f {embeddings_file_path} && rm {embeddings_file_path}\n",
    "\n",
    "with open(embeddings_file_path, 'a') as embeddings_file:    \n",
    "    for i, embedding in enumerate(vectors):\n",
    "        json_line = json.dumps(\n",
    "            {\n",
    "                \"id\": i,\n",
    "                \"embedding\": embedding\n",
    "            }\n",
    "        ) + '\\n'\n",
    "        embeddings_file.writelines(json_line)"
   ]
  },
  {
   "cell_type": "code",
   "execution_count": 132,
   "id": "0fa3d22b-da6b-4eab-9f8d-210e7394d83f",
   "metadata": {},
   "outputs": [
    {
     "name": "stdout",
     "output_type": "stream",
     "text": [
      "Copying file://cord19_embeddings.json [Content-Type=application/json]...\n",
      "- [1 files][ 64.9 MiB/ 64.9 MiB]                                                \n",
      "Operation completed over 1 objects/64.9 MiB.                                     \n"
     ]
    }
   ],
   "source": [
    "EMBEDDINGS_URI = f\"gs://{BUCKET}\"\n",
    "\n",
    "!gsutil cp {embeddings_file_path} {EMBEDDINGS_URI}"
   ]
  },
  {
   "cell_type": "markdown",
   "id": "220b10e1-ad07-40e0-bfa3-38ed4ed8ce8c",
   "metadata": {},
   "source": [
    "## Creating the matching engine index"
   ]
  },
  {
   "cell_type": "code",
   "execution_count": null,
   "id": "a9e4ac9c-d0b1-4673-bab1-6f60e86b48d8",
   "metadata": {},
   "outputs": [
    {
     "name": "stdout",
     "output_type": "stream",
     "text": [
      "Creating MatchingEngineIndex\n",
      "Create MatchingEngineIndex backing LRO: projects/115851500182/locations/us-central1/indexes/1364511522256060416/operations/4091745317752406016\n"
     ]
    }
   ],
   "source": [
    "DISPLAY_NAME = \"Cord19 Palm Embeddings\"\n",
    "\n",
    "tree_ah_index = aiplatform.MatchingEngineIndex.create_tree_ah_index(\n",
    "    display_name=DISPLAY_NAME,\n",
    "    contents_delta_uri=EMBEDDINGS_URI,\n",
    "    dimensions=len(vectors[0]),\n",
    "    approximate_neighbors_count=150,\n",
    "    distance_measure_type=\"COSINE_DISTANCE\",\n",
    "    leaf_node_embedding_count=500,\n",
    "    leaf_nodes_to_search_percent=7,\n",
    "    description=DISPLAY_NAME,\n",
    ")"
   ]
  },
  {
   "cell_type": "code",
   "execution_count": 135,
   "id": "71bb86d7-680f-44a2-9472-105e159eb1aa",
   "metadata": {},
   "outputs": [
    {
     "name": "stdout",
     "output_type": "stream",
     "text": [
      "projects/115851500182/locations/us-central1/indexes/1364511522256060416\n"
     ]
    }
   ],
   "source": [
    "INDEX_RESOURCE_NAME = tree_ah_index.resource_name\n",
    "\n",
    "print(INDEX_RESOURCE_NAME)"
   ]
  },
  {
   "cell_type": "code",
   "execution_count": 136,
   "id": "38d0a525-3d12-4848-ad7f-99772cdb2f18",
   "metadata": {},
   "outputs": [],
   "source": [
    "tree_ah_index = aiplatform.MatchingEngineIndex(index_name=INDEX_RESOURCE_NAME)"
   ]
  },
  {
   "cell_type": "code",
   "execution_count": 138,
   "id": "1682336d-7a78-46fb-b619-1fff1fdf6faf",
   "metadata": {},
   "outputs": [],
   "source": [
    "DISPLAY_NAME = \"Cord19 Palm Embeddings\""
   ]
  },
  {
   "cell_type": "code",
   "execution_count": 139,
   "id": "7aaaeff3-d227-4d2b-817a-07cc09ca9dac",
   "metadata": {},
   "outputs": [
    {
     "name": "stdout",
     "output_type": "stream",
     "text": [
      "Creating MatchingEngineIndexEndpoint\n",
      "Create MatchingEngineIndexEndpoint backing LRO: projects/115851500182/locations/us-central1/indexEndpoints/8633532427064573952/operations/4340569197164625920\n",
      "MatchingEngineIndexEndpoint created. Resource name: projects/115851500182/locations/us-central1/indexEndpoints/8633532427064573952\n",
      "To use this MatchingEngineIndexEndpoint in another session:\n",
      "index_endpoint = aiplatform.MatchingEngineIndexEndpoint('projects/115851500182/locations/us-central1/indexEndpoints/8633532427064573952')\n"
     ]
    }
   ],
   "source": [
    "my_index_endpoint = aiplatform.MatchingEngineIndexEndpoint.create(\n",
    "    display_name=DISPLAY_NAME,\n",
    "    description=DISPLAY_NAME,\n",
    "    public_endpoint_enabled=True,\n",
    ")"
   ]
  },
  {
   "cell_type": "code",
   "execution_count": 143,
   "id": "8ed429a5-05ce-4a90-aef3-4ed0c84e4f1f",
   "metadata": {},
   "outputs": [],
   "source": [
    "DEPLOYED_INDEX_ID = \"cord19_deployed_index_id_unique\""
   ]
  },
  {
   "cell_type": "code",
   "execution_count": null,
   "id": "90ccef87-6ddc-434e-8292-4bb0a0848631",
   "metadata": {},
   "outputs": [
    {
     "name": "stdout",
     "output_type": "stream",
     "text": [
      "Deploying index MatchingEngineIndexEndpoint index_endpoint: projects/115851500182/locations/us-central1/indexEndpoints/8633532427064573952\n",
      "Deploy index MatchingEngineIndexEndpoint index_endpoint backing LRO: projects/115851500182/locations/us-central1/indexEndpoints/8633532427064573952/operations/6332849082322649088\n"
     ]
    }
   ],
   "source": [
    "my_index_endpoint = my_index_endpoint.deploy_index(\n",
    "    index=tree_ah_index, deployed_index_id=DEPLOYED_INDEX_ID\n",
    ")\n",
    "\n",
    "my_index_endpoint.deployed_indexes"
   ]
  },
  {
   "cell_type": "markdown",
   "id": "cf96414f-80ef-480a-a3a3-c69389da8fd9",
   "metadata": {},
   "source": [
    "## Querying Matching Engine"
   ]
  },
  {
   "cell_type": "code",
   "execution_count": 253,
   "id": "d7b7a045-0721-4e2f-9601-3254b35d6d2a",
   "metadata": {},
   "outputs": [],
   "source": [
    "QUERY = \"SARS-CoV-2\"\n",
    "\n",
    "text_embeddings = [\n",
    "    vector.values \n",
    "    for vector in model.get_embeddings([QUERY])\n",
    "]"
   ]
  },
  {
   "cell_type": "code",
   "execution_count": 254,
   "id": "5cd67c63-9278-46e2-b343-d731c64ae9c4",
   "metadata": {},
   "outputs": [
    {
     "data": {
      "text/plain": [
       "[[MatchNeighbor(id='3682', distance=0.29735422134399414),\n",
       "  MatchNeighbor(id='2675', distance=0.2989482283592224),\n",
       "  MatchNeighbor(id='1797', distance=0.3012887239456177),\n",
       "  MatchNeighbor(id='1596', distance=0.302188515663147),\n",
       "  MatchNeighbor(id='791', distance=0.3024110794067383),\n",
       "  MatchNeighbor(id='2237', distance=0.305936336517334),\n",
       "  MatchNeighbor(id='2082', distance=0.3060073256492615),\n",
       "  MatchNeighbor(id='2138', distance=0.3063894510269165),\n",
       "  MatchNeighbor(id='1109', distance=0.30717170238494873),\n",
       "  MatchNeighbor(id='2366', distance=0.30803924798965454),\n",
       "  MatchNeighbor(id='2471', distance=0.30810898542404175),\n",
       "  MatchNeighbor(id='137', distance=0.30931782722473145),\n",
       "  MatchNeighbor(id='2154', distance=0.31020474433898926),\n",
       "  MatchNeighbor(id='717', distance=0.313531756401062),\n",
       "  MatchNeighbor(id='3049', distance=0.3139423131942749),\n",
       "  MatchNeighbor(id='2295', distance=0.31397467851638794),\n",
       "  MatchNeighbor(id='3419', distance=0.3156825304031372),\n",
       "  MatchNeighbor(id='3708', distance=0.3163067102432251),\n",
       "  MatchNeighbor(id='2447', distance=0.3167499303817749),\n",
       "  MatchNeighbor(id='3909', distance=0.3172531723976135)]]"
      ]
     },
     "execution_count": 254,
     "metadata": {},
     "output_type": "execute_result"
    }
   ],
   "source": [
    "# Define number of neighbors to return\n",
    "NUM_NEIGHBORS = 20\n",
    "\n",
    "response = my_index_endpoint.find_neighbors(\n",
    "    deployed_index_id=DEPLOYED_INDEX_ID,\n",
    "    queries=text_embeddings,\n",
    "    num_neighbors=NUM_NEIGHBORS,\n",
    ")\n",
    "\n",
    "response"
   ]
  },
  {
   "cell_type": "code",
   "execution_count": 255,
   "id": "4eb86676-d091-48d2-9d1a-10a5f4b952d1",
   "metadata": {},
   "outputs": [
    {
     "data": {
      "text/html": [
       "<div>\n",
       "<style scoped>\n",
       "    .dataframe tbody tr th:only-of-type {\n",
       "        vertical-align: middle;\n",
       "    }\n",
       "\n",
       "    .dataframe tbody tr th {\n",
       "        vertical-align: top;\n",
       "    }\n",
       "\n",
       "    .dataframe thead th {\n",
       "        text-align: right;\n",
       "    }\n",
       "</style>\n",
       "<table border=\"1\" class=\"dataframe\">\n",
       "  <thead>\n",
       "    <tr style=\"text-align: right;\">\n",
       "      <th></th>\n",
       "      <th>distance</th>\n",
       "      <th>title</th>\n",
       "      <th>abstract</th>\n",
       "      <th>url</th>\n",
       "    </tr>\n",
       "  </thead>\n",
       "  <tbody>\n",
       "    <tr>\n",
       "      <th>0</th>\n",
       "      <td>0.297354</td>\n",
       "      <td>Characterization of Host and Bacterial Contrib...</td>\n",
       "      <td>Influenza viruses are a threat to global publi...</td>\n",
       "      <td>https://www.ncbi.nlm.nih.gov/pmc/articles/PMC6...</td>\n",
       "    </tr>\n",
       "    <tr>\n",
       "      <th>1</th>\n",
       "      <td>0.298948</td>\n",
       "      <td>Coinfection and Mortality in Pneumonia-Related...</td>\n",
       "      <td>BACKGROUND: Pneumonia is the leading risk fact...</td>\n",
       "      <td>https://www.ncbi.nlm.nih.gov/pmc/articles/PMC5...</td>\n",
       "    </tr>\n",
       "    <tr>\n",
       "      <th>2</th>\n",
       "      <td>0.301289</td>\n",
       "      <td>Investigation of Pathogenesis of H1N1 Influenz...</td>\n",
       "      <td>Swine influenza virus and Streptococcus suis a...</td>\n",
       "      <td>https://www.ncbi.nlm.nih.gov/pmc/articles/PMC4...</td>\n",
       "    </tr>\n",
       "    <tr>\n",
       "      <th>3</th>\n",
       "      <td>0.302189</td>\n",
       "      <td>Genetic diversity and molecular epidemiology o...</td>\n",
       "      <td>BACKGROUND: Rhinoviruses (RV) are a well-estab...</td>\n",
       "      <td>https://www.ncbi.nlm.nih.gov/pmc/articles/PMC4...</td>\n",
       "    </tr>\n",
       "    <tr>\n",
       "      <th>4</th>\n",
       "      <td>0.302411</td>\n",
       "      <td>Serious Invasive Saffold Virus Infections in C...</td>\n",
       "      <td>The first human virus in the genus Cardiovirus...</td>\n",
       "      <td>https://www.ncbi.nlm.nih.gov/pmc/articles/PMC3...</td>\n",
       "    </tr>\n",
       "    <tr>\n",
       "      <th>5</th>\n",
       "      <td>0.305936</td>\n",
       "      <td>Respiratory Syncytial Virus whole-genome seque...</td>\n",
       "      <td>Respiratory Syncytial Virus (RSV) is responsib...</td>\n",
       "      <td>https://www.ncbi.nlm.nih.gov/pmc/articles/PMC4...</td>\n",
       "    </tr>\n",
       "    <tr>\n",
       "      <th>6</th>\n",
       "      <td>0.306007</td>\n",
       "      <td>Real-Time Reverse Transcription PCR Assay for ...</td>\n",
       "      <td>Senecavirus A (SV-A), formerly, Seneca Valley ...</td>\n",
       "      <td>https://www.ncbi.nlm.nih.gov/pmc/articles/PMC4...</td>\n",
       "    </tr>\n",
       "    <tr>\n",
       "      <th>7</th>\n",
       "      <td>0.306389</td>\n",
       "      <td>Classical Swine Fever Virus vs. Classical Swin...</td>\n",
       "      <td>Two groups with three wild boars each were use...</td>\n",
       "      <td>https://www.ncbi.nlm.nih.gov/pmc/articles/PMC4...</td>\n",
       "    </tr>\n",
       "    <tr>\n",
       "      <th>8</th>\n",
       "      <td>0.307172</td>\n",
       "      <td>Clinical Characteristics and Outcomes in Hospi...</td>\n",
       "      <td>BACKGROUND: The clinical consequences of co-in...</td>\n",
       "      <td>https://www.ncbi.nlm.nih.gov/pmc/articles/PMC3...</td>\n",
       "    </tr>\n",
       "    <tr>\n",
       "      <th>9</th>\n",
       "      <td>0.308039</td>\n",
       "      <td>First report of human salivirus/klassevirus in...</td>\n",
       "      <td>Adenovirus is a leading cause of respiratory i...</td>\n",
       "      <td>https://www.ncbi.nlm.nih.gov/pmc/articles/PMC5...</td>\n",
       "    </tr>\n",
       "    <tr>\n",
       "      <th>10</th>\n",
       "      <td>0.308109</td>\n",
       "      <td>Complete Genome Sequences of Porcine Epidemic ...</td>\n",
       "      <td>Two porcine epidemic diarrhea virus (PEDV) str...</td>\n",
       "      <td>https://www.ncbi.nlm.nih.gov/pmc/articles/PMC5...</td>\n",
       "    </tr>\n",
       "    <tr>\n",
       "      <th>11</th>\n",
       "      <td>0.309318</td>\n",
       "      <td>Distinguishing Molecular Features and Clinical...</td>\n",
       "      <td>BACKGROUND: Human rhinoviruses (HRVs) are the ...</td>\n",
       "      <td>https://www.ncbi.nlm.nih.gov/pmc/articles/PMC2...</td>\n",
       "    </tr>\n",
       "    <tr>\n",
       "      <th>12</th>\n",
       "      <td>0.310205</td>\n",
       "      <td>Phylogenetic evidence for intratypic recombina...</td>\n",
       "      <td>Human adenoviruses (HAdVs) are prevalent in ho...</td>\n",
       "      <td>https://www.ncbi.nlm.nih.gov/pmc/articles/PMC4...</td>\n",
       "    </tr>\n",
       "    <tr>\n",
       "      <th>13</th>\n",
       "      <td>0.313532</td>\n",
       "      <td>Acute Respiratory Distress Syndrome Induced by...</td>\n",
       "      <td>BACKGROUND: Acute respiratory distress syndrom...</td>\n",
       "      <td>https://www.ncbi.nlm.nih.gov/pmc/articles/PMC3...</td>\n",
       "    </tr>\n",
       "    <tr>\n",
       "      <th>14</th>\n",
       "      <td>0.313942</td>\n",
       "      <td>Comparison of viral infection in healthcare-as...</td>\n",
       "      <td>BACKGROUND: Although viruses are known to be t...</td>\n",
       "      <td>https://www.ncbi.nlm.nih.gov/pmc/articles/PMC5...</td>\n",
       "    </tr>\n",
       "    <tr>\n",
       "      <th>15</th>\n",
       "      <td>0.313975</td>\n",
       "      <td>TMPRSS2 Independency for Haemagglutinin Cleava...</td>\n",
       "      <td>Influenza A and B viruses show clear differenc...</td>\n",
       "      <td>https://www.ncbi.nlm.nih.gov/pmc/articles/PMC4...</td>\n",
       "    </tr>\n",
       "    <tr>\n",
       "      <th>16</th>\n",
       "      <td>0.315683</td>\n",
       "      <td>Genome Sequences of Rhinovirus Genotype C56 De...</td>\n",
       "      <td>We report here two genome sequences of a newly...</td>\n",
       "      <td>https://www.ncbi.nlm.nih.gov/pmc/articles/PMC6...</td>\n",
       "    </tr>\n",
       "    <tr>\n",
       "      <th>17</th>\n",
       "      <td>0.316307</td>\n",
       "      <td>Lethal Influenza in Two Related Adults with In...</td>\n",
       "      <td>The pathogenesis of life-threatening influenza...</td>\n",
       "      <td>https://www.ncbi.nlm.nih.gov/pmc/articles/PMC6...</td>\n",
       "    </tr>\n",
       "    <tr>\n",
       "      <th>18</th>\n",
       "      <td>0.316750</td>\n",
       "      <td>Pathogenesis of Korean Sapelovirus A in piglet...</td>\n",
       "      <td>Sapelovirus A (SV-A), formerly known as porcin...</td>\n",
       "      <td>https://www.ncbi.nlm.nih.gov/pmc/articles/PMC5...</td>\n",
       "    </tr>\n",
       "    <tr>\n",
       "      <th>19</th>\n",
       "      <td>0.317253</td>\n",
       "      <td>African Swine Fever Virus Armenia/07 Virulent ...</td>\n",
       "      <td>African swine fever virus (ASFV) is a complex,...</td>\n",
       "      <td>https://www.ncbi.nlm.nih.gov/pmc/articles/PMC6...</td>\n",
       "    </tr>\n",
       "  </tbody>\n",
       "</table>\n",
       "</div>"
      ],
      "text/plain": [
       "    distance                                              title  \\\n",
       "0   0.297354  Characterization of Host and Bacterial Contrib...   \n",
       "1   0.298948  Coinfection and Mortality in Pneumonia-Related...   \n",
       "2   0.301289  Investigation of Pathogenesis of H1N1 Influenz...   \n",
       "3   0.302189  Genetic diversity and molecular epidemiology o...   \n",
       "4   0.302411  Serious Invasive Saffold Virus Infections in C...   \n",
       "5   0.305936  Respiratory Syncytial Virus whole-genome seque...   \n",
       "6   0.306007  Real-Time Reverse Transcription PCR Assay for ...   \n",
       "7   0.306389  Classical Swine Fever Virus vs. Classical Swin...   \n",
       "8   0.307172  Clinical Characteristics and Outcomes in Hospi...   \n",
       "9   0.308039  First report of human salivirus/klassevirus in...   \n",
       "10  0.308109  Complete Genome Sequences of Porcine Epidemic ...   \n",
       "11  0.309318  Distinguishing Molecular Features and Clinical...   \n",
       "12  0.310205  Phylogenetic evidence for intratypic recombina...   \n",
       "13  0.313532  Acute Respiratory Distress Syndrome Induced by...   \n",
       "14  0.313942  Comparison of viral infection in healthcare-as...   \n",
       "15  0.313975  TMPRSS2 Independency for Haemagglutinin Cleava...   \n",
       "16  0.315683  Genome Sequences of Rhinovirus Genotype C56 De...   \n",
       "17  0.316307  Lethal Influenza in Two Related Adults with In...   \n",
       "18  0.316750  Pathogenesis of Korean Sapelovirus A in piglet...   \n",
       "19  0.317253  African Swine Fever Virus Armenia/07 Virulent ...   \n",
       "\n",
       "                                             abstract  \\\n",
       "0   Influenza viruses are a threat to global publi...   \n",
       "1   BACKGROUND: Pneumonia is the leading risk fact...   \n",
       "2   Swine influenza virus and Streptococcus suis a...   \n",
       "3   BACKGROUND: Rhinoviruses (RV) are a well-estab...   \n",
       "4   The first human virus in the genus Cardiovirus...   \n",
       "5   Respiratory Syncytial Virus (RSV) is responsib...   \n",
       "6   Senecavirus A (SV-A), formerly, Seneca Valley ...   \n",
       "7   Two groups with three wild boars each were use...   \n",
       "8   BACKGROUND: The clinical consequences of co-in...   \n",
       "9   Adenovirus is a leading cause of respiratory i...   \n",
       "10  Two porcine epidemic diarrhea virus (PEDV) str...   \n",
       "11  BACKGROUND: Human rhinoviruses (HRVs) are the ...   \n",
       "12  Human adenoviruses (HAdVs) are prevalent in ho...   \n",
       "13  BACKGROUND: Acute respiratory distress syndrom...   \n",
       "14  BACKGROUND: Although viruses are known to be t...   \n",
       "15  Influenza A and B viruses show clear differenc...   \n",
       "16  We report here two genome sequences of a newly...   \n",
       "17  The pathogenesis of life-threatening influenza...   \n",
       "18  Sapelovirus A (SV-A), formerly known as porcin...   \n",
       "19  African swine fever virus (ASFV) is a complex,...   \n",
       "\n",
       "                                                  url  \n",
       "0   https://www.ncbi.nlm.nih.gov/pmc/articles/PMC6...  \n",
       "1   https://www.ncbi.nlm.nih.gov/pmc/articles/PMC5...  \n",
       "2   https://www.ncbi.nlm.nih.gov/pmc/articles/PMC4...  \n",
       "3   https://www.ncbi.nlm.nih.gov/pmc/articles/PMC4...  \n",
       "4   https://www.ncbi.nlm.nih.gov/pmc/articles/PMC3...  \n",
       "5   https://www.ncbi.nlm.nih.gov/pmc/articles/PMC4...  \n",
       "6   https://www.ncbi.nlm.nih.gov/pmc/articles/PMC4...  \n",
       "7   https://www.ncbi.nlm.nih.gov/pmc/articles/PMC4...  \n",
       "8   https://www.ncbi.nlm.nih.gov/pmc/articles/PMC3...  \n",
       "9   https://www.ncbi.nlm.nih.gov/pmc/articles/PMC5...  \n",
       "10  https://www.ncbi.nlm.nih.gov/pmc/articles/PMC5...  \n",
       "11  https://www.ncbi.nlm.nih.gov/pmc/articles/PMC2...  \n",
       "12  https://www.ncbi.nlm.nih.gov/pmc/articles/PMC4...  \n",
       "13  https://www.ncbi.nlm.nih.gov/pmc/articles/PMC3...  \n",
       "14  https://www.ncbi.nlm.nih.gov/pmc/articles/PMC5...  \n",
       "15  https://www.ncbi.nlm.nih.gov/pmc/articles/PMC4...  \n",
       "16  https://www.ncbi.nlm.nih.gov/pmc/articles/PMC6...  \n",
       "17  https://www.ncbi.nlm.nih.gov/pmc/articles/PMC6...  \n",
       "18  https://www.ncbi.nlm.nih.gov/pmc/articles/PMC5...  \n",
       "19  https://www.ncbi.nlm.nih.gov/pmc/articles/PMC6...  "
      ]
     },
     "execution_count": 255,
     "metadata": {},
     "output_type": "execute_result"
    }
   ],
   "source": [
    "matched_ids = [int(match.id) for match in response[0]]\n",
    "matched_distances = [match.distance for match in response[0]]\n",
    "matched_titles = [metadata.title[i] for i in matched_ids]\n",
    "matched_abstracts = [metadata.abstract[i] for i in matched_ids]\n",
    "matched_urls = [metadata.url[i] for i in matched_ids]\n",
    "\n",
    "matches = pd.DataFrame({\n",
    "    \"distance\": matched_distances,\n",
    "    \"title\": matched_titles,\n",
    "    \"abstract\": matched_abstracts,\n",
    "    \"url\": matched_urls\n",
    "})\n",
    "matches"
   ]
  },
  {
   "cell_type": "code",
   "execution_count": 256,
   "id": "1d51e621-4cee-4f77-b876-b82ac369cd2e",
   "metadata": {},
   "outputs": [
    {
     "data": {
      "text/html": [
       "<html><body><ol>            \n",
       "    <li> \n",
       "        <article>\n",
       "            <header>\n",
       "                <a href=\"https://www.ncbi.nlm.nih.gov/pmc/articles/PMC6409999/\"> <h2>Characterization of Host and Bacterial Contributions to Lung Barrier Dysfunction Following Co-infection with 2009 Pandemic Influenza and Methicillin Resistant Staphylococcus aureus</h2></a>\n",
       "            </header>\n",
       "            <p>Influenza viruses are a threat to global public health resulting in ~500,000 deaths each year. Despite an intensive vaccination program, influenza infections remain a recurrent, yet unsolved public health problem. Secondary bacterial infections frequently complicate influenza infections during seasonal outbreaks and pandemics, resulting in increased morbidity and mortality. Staphylococcus aureus, including methicillin-resistant S. aureus (MRSA), is frequently associated with these co-infections, including the 2009 influenza pandemic. Damage to alveolar epithelium is a major contributor to severe influenza-bacterial co-infections and can result in gas exchange abnormalities, fluid leakage, and respiratory insufficiency. These deleterious manifestations likely involve both pathogen- and host-mediated mechanisms. However, there is a paucity of information regarding the mechanisms (pathogen- and/or host-mediated) underlying influenza-bacterial co-infection pathogenesis. To address this, we characterized the contributions of viral-, bacterial-, and host-mediated factors to the altered structure and function of alveolar epithelial cells during co-infection with a focus on the 2009 pandemic influenza (pdm2009) and MRSA. Here, we characterized pdm2009 and MRSA replication kinetics, temporal host kinome responses, modulation of MRSA virulence factors, and disruption of alveolar barrier integrity in response to pdm2009-MRSA co-infection. Our results suggest that alveolar barrier disruption during co-infection is mediated primarily through host response dysregulation, resulting in loss of alveolar barrier integrity.</p>\n",
       "        </article>\n",
       "    </li>\n",
       "                \n",
       "    <li> \n",
       "        <article>\n",
       "            <header>\n",
       "                <a href=\"https://www.ncbi.nlm.nih.gov/pmc/articles/PMC5398903/\"> <h2>Coinfection and Mortality in Pneumonia-Related Acute Respiratory Distress Syndrome Patients with Bronchoalveolar Lavage: A Prospective Observational Study</h2></a>\n",
       "            </header>\n",
       "            <p>BACKGROUND: Pneumonia is the leading risk factor of acute respiratory distress syndrome (ARDS). It is increasing studies in patients with pneumonia to reveal that coinfection with viral and bacterial infection can lead to poorer outcomes than no coinfection. This study evaluated the role of coinfection identified through bronchoalveolar lavage (BAL) examination on the outcomes of pneumonia-related ARDS. METHODS: We performed a prospective observational study at Chang Gung Memorial Hospital from October 2012 to May 2015. Adult patients were included if they met the Berlin definition of ARDS. The indications for BAL were clinically suspected pneumonia-related ARDS and no definite microbial sample identified from tracheal aspirate or sputum. The presence of microbial pathogens and clinical outcomes were analyzed. RESULTS: Of the 19,936 patients screened, 902 (4.5%) fulfilled the Berlin definition of ARDS. Of these patients, 255 (22.7%) had pneumonia-related ARDS and were included for analysis. A total of 142 (55.7%) patients were identified to have a microbial pathogen through BAL and were classified into three groups: a virus-only group (n = 41 [28.9%]), no virus group (n = 60 [42.2%]), and coinfection group (n = 41 [28.9%]). ARDS severity did not differ significantly between the groups (P = 0.43). The hospital mortality rates were 53.7% in virus-only identified group, 63.3% in no virus identified group, and 80.5% in coinfection identified group. The coinfection group had significantly higher mortality than virus-only group (80.5% vs. 53.7%; P = 0.01). CONCLUSION: In patients with pneumonia-related ARDS, the BAL pathogen-positive patients had a trend of higher mortality rate than pathogen-negative patients. Coinfection with a virus and another pathogen was associated with increased hospital mortality in pneumonia-related ARDS patients.</p>\n",
       "        </article>\n",
       "    </li>\n",
       "                \n",
       "    <li> \n",
       "        <article>\n",
       "            <header>\n",
       "                <a href=\"https://www.ncbi.nlm.nih.gov/pmc/articles/PMC4407888/\"> <h2>Investigation of Pathogenesis of H1N1 Influenza Virus and Swine Streptococcus suis Serotype 2 Co-Infection in Pigs by Microarray Analysis</h2></a>\n",
       "            </header>\n",
       "            <p>Swine influenza virus and Streptococcus suis are two important contributors to the porcine respiratory disease complex, and both have significant economic impacts. Clinically, influenza virus and Streptococcus suis co-infections in pigs are very common, which often contribute to severe pneumonia and can increase the mortality. However, the co-infection pathogenesis in pigs is unclear. In the present study, co-infection experiments were performed using swine H1N1 influenza virus and Streptococcus suis serotype 2 (SS2). The H1N1-SS2 co-infected pigs exhibited more severe clinical symptoms, serious pathological changes, and robust apoptosis of lungs at 6 days post-infection compared with separate H1N1 and SS2 infections. A comprehensive gene expression profiling using a microarray approach was performed to investigate the global host responses of swine lungs against the swine H1N1 infection, SS2 infection, co-infection, and phosphate-buffered saline control. Results showed 457, 411, and 844 differentially expressed genes in the H1N1, SS2, and H1N1-SS2 groups, respectively, compared with the control. Noticeably, genes associated with the immune, inflammatory, and apoptosis responses were highly overexpressed in the co-infected group. Pathway analysis indicated that the cytokine–cytokine receptor interactions, MAPK, toll-like receptor, complement and coagulation cascades, antigen processing and presentation, and apoptosis pathway were significantly regulated in the co-infected group. However, the genes related to these were less regulated in the separate H1N1 and SS2 infection groups. This observation suggested that a certain level of synergy was induced by H1N1 and SS2 co-infection with significantly stronger inflammatory and apoptosis responses, which may lead to more serious respiratory disease syndrome and pulmonary pathological lesion.</p>\n",
       "        </article>\n",
       "    </li>\n",
       "                \n",
       "    <li> \n",
       "        <article>\n",
       "            <header>\n",
       "                <a href=\"https://www.ncbi.nlm.nih.gov/pmc/articles/PMC4181821/\"> <h2>Genetic diversity and molecular epidemiology of human rhinoviruses in South Africa</h2></a>\n",
       "            </header>\n",
       "            <p>BACKGROUND: Rhinoviruses (RV) are a well-established cause of respiratory illness. RV-C has been associated with more severe illness. We aimed to characterize and compare the clinical presentations and disease severity of different RV type circulating in South Africa. METHOD: We performed two analyses of RV-positive specimens identified through surveillance in South Africa across all age groups. First, RV-positive specimens identified through severe acute respiratory illness (SARI) surveillance in four provinces was randomly selected from 2009 to 2010 for molecular characterization. Second, RV-positive specimens identified through SARI, influenza-like illness (ILI) and control surveillance at hospitals and outpatient clinics in during 2012–2013 were used to determine the association of RV type with severe disease. Selected specimens were sequenced, and phylogenetic analysis was performed. RESULTS: Among the 599 sequenced specimens from 2009 to 2010 and 2012 to 2013, RV-A (285, 48%) and RV-C (247, 41%) were more commonly identified than RV-B (67, 11%), with no seasonality and a high genetic diversity. A higher prevalence of RV infection was identified in cases with SARI [515/962 (26%); aRRR = 1·6; 95% CI 1·21; 2·2] and ILI [356/962 (28%); aRRR = 1·9; 95% CI 1·37; 2·6] compared with asymptomatic controls (91/962, 22%). There was no difference in disease severity between the different type when comparing SARI, ILI and controls. CONCLUSION: All three type of RV were identified in South Africa, although RV-A and RV-C were more common than RV-B. RV was associated with symptomatic respiratory illness; however, there was no association between RV type and disease severity.</p>\n",
       "        </article>\n",
       "    </li>\n",
       "                \n",
       "    <li> \n",
       "        <article>\n",
       "            <header>\n",
       "                <a href=\"https://www.ncbi.nlm.nih.gov/pmc/articles/PMC3310106/\"> <h2>Serious Invasive Saffold Virus Infections in Children, 2009</h2></a>\n",
       "            </header>\n",
       "            <p>The first human virus in the genus Cardiovirus was described in 2007 and named Saffold virus (SAFV). Cardioviruses can cause severe infections of the myocardium and central nervous system in animals, but SAFV has not yet been convincingly associated with disease in humans. To study a possible association between SAFV and infections in the human central nervous system, we designed a real-time PCR for SAFV and tested cerebrospinal fluid (CSF) samples from children <4 years of age. SAFV was detected in 2 children: in the CSF and a fecal sample from 1 child with monosymptomatic ataxia caused by cerebellitis; and in the CSF, blood, and myocardium of another child who died suddenly with no history of illness. Virus from each child was sequenced and shown to be SAFV type 2. These findings demonstrate that SAFV can cause serious invasive infection in children.</p>\n",
       "        </article>\n",
       "    </li>\n",
       "                \n",
       "    <li> \n",
       "        <article>\n",
       "            <header>\n",
       "                <a href=\"https://www.ncbi.nlm.nih.gov/pmc/articles/PMC4876326/\"> <h2>Respiratory Syncytial Virus whole-genome sequencing identifies convergent evolution of sequence duplication in the C-terminus of the G gene</h2></a>\n",
       "            </header>\n",
       "            <p>Respiratory Syncytial Virus (RSV) is responsible for considerable morbidity and mortality worldwide and is the most important respiratory viral pathogen in infants. Extensive sequence variability within and between RSV group A and B viruses and the ability of multiple clades and sub-clades of RSV to co-circulate are likely mechanisms contributing to the evasion of herd immunity. Surveillance and large-scale whole-genome sequencing of RSV is currently limited but would help identify its evolutionary dynamics and sites of selective immune evasion. In this study, we performed complete-genome next-generation sequencing of 92 RSV isolates from infants in central Tennessee during the 2012–2014 RSV seasons. We identified multiple co-circulating clades of RSV from both the A and B groups. Each clade is defined by signature N- and O-linked glycosylation patterns. Analyses of specific RSV genes revealed high rates of positive selection in the attachment (G) gene. We identified RSV-A viruses in circulation with and without a recently reported 72-nucleotide G gene sequence duplication. Furthermore, we show evidence of convergent evolution of G gene sequence duplication and fixation over time, which suggests a potential fitness advantage of RSV with the G sequence duplication.</p>\n",
       "        </article>\n",
       "    </li>\n",
       "                \n",
       "    <li> \n",
       "        <article>\n",
       "            <header>\n",
       "                <a href=\"https://www.ncbi.nlm.nih.gov/pmc/articles/PMC4710529/\"> <h2>Real-Time Reverse Transcription PCR Assay for Detection of Senecavirus A in Swine Vesicular Diagnostic Specimens</h2></a>\n",
       "            </header>\n",
       "            <p>Senecavirus A (SV-A), formerly, Seneca Valley virus (SVV), has been detected in swine with vesicular lesions and is thought to be associated with swine idiopathic vesicular disease (SIVD), a vesicular disease syndrome that lacks a defined causative agent. The clinical presentation of SIVD resembles that of other more contagious and economically devastating vesicular diseases, such as foot-and-mouth disease (FMD), swine vesicular disease (SVD), and vesicular stomatitis (VS), that typically require immediate rule out diagnostics to lift restrictions on animal quarantine, movement, and trade. This study presents the development of a sensitive, SYBR Green RT-qPCR assay suitable for detection of SV-A in diagnostic swine specimens. After testing 50 pigs with clinical signs consistent with vesicular disease, 44 (88%) were found to be positive for SV-A by RT-qPCR as compared to none from a negative cohort of 35 animals without vesicular disease, indicating that the assay is able to successfully detect the virus in an endemic population. SV-A RNA was also detectable at a low level in sera from a subset of pigs that presented with (18%) or without (6%) vesicular signs. In 2015, there has been an increase in the occurrence of SV-A in the US, and over 200 specimens submitted to our laboratory for vesicular investigation have tested positive for the virus using this method. SV-A RNA was detectable in all common types of vesicular specimens including swabs and tissue from hoof lesions, oral and snout epithelium, oral swabs, scabs, and internal organ tissues such as liver and lymph node. Genome sequencing analysis from recent virus isolates was performed to confirm target amplicon specificity and was aligned to previous isolates.</p>\n",
       "        </article>\n",
       "    </li>\n",
       "                \n",
       "    <li> \n",
       "        <article>\n",
       "            <header>\n",
       "                <a href=\"https://www.ncbi.nlm.nih.gov/pmc/articles/PMC4768946/\"> <h2>Classical Swine Fever Virus vs. Classical Swine Fever Virus: The Superinfection Exclusion Phenomenon in Experimentally Infected Wild Boar</h2></a>\n",
       "            </header>\n",
       "            <p>Two groups with three wild boars each were used: Group A (animals 1 to 3) served as the control, and Group B (animals 4 to 6) was postnatally persistently infected with the Cat01 strain of CSFV (primary virus). The animals, six weeks old and clinically healthy, were inoculated with the virulent strain Margarita (secondary virus). For exclusive detection of the Margarita strain, a specific qRT-PCR assay was designed, which proved not to have cross-reactivity with the Cat01 strain. The wild boars persistently infected with CSFV were protected from superinfection by the virulent CSFV Margarita strain, as evidenced by the absence of clinical signs and the absence of Margarita RNA detection in serum, swabs and tissue samples. Additionally, in PBMCs, a well-known target for CSFV viral replication, only the primary infecting virus RNA (Cat01 strain) could be detected, even after the isolation in ST cells, demonstrating SIE at the tissue level in vivo. Furthermore, the data analysis of the Margarita qRT-PCR, by means of calculated ΔCt values, supported that PBMCs from persistently infected animals were substantially protected from superinfection after in vitro inoculation with the Margarita virus strain, while this virus was able to infect naive PBMCs efficiently. In parallel, IFN-α values were undetectable in the sera from animals in Group B after inoculation with the CSFV Margarita strain. Furthermore, these animals were unable to elicit adaptive humoral (no E2-specific or neutralising antibodies) or cellular immune responses (in terms of IFN-γ-producing cells) after inoculation with the second virus. Finally, a sequence analysis could not detect CSFV Margarita RNA in the samples tested from Group B. Our results suggested that the SIE phenomenon might be involved in the evolution and phylogeny of the virus, as well as in CSFV control by vaccination. To the best of our knowledge, this study was one of the first showing efficient suppression of superinfection in animals, especially in the absence of IFN-α, which might be associated with the lack of innate immune mechanisms.</p>\n",
       "        </article>\n",
       "    </li>\n",
       "                \n",
       "    <li> \n",
       "        <article>\n",
       "            <header>\n",
       "                <a href=\"https://www.ncbi.nlm.nih.gov/pmc/articles/PMC3622008/\"> <h2>Clinical Characteristics and Outcomes in Hospitalized Patients with Respiratory Viral Co-Infection during the 2009 H1N1 Influenza Pandemic</h2></a>\n",
       "            </header>\n",
       "            <p>BACKGROUND: The clinical consequences of co-infection with two or more respiratory viruses are poorly understood. We sought to determine if co-infection with pandemic 2009–2010 influenza A H1N1 (pH1N1) and another respiratory virus was associated with worse clinical outcomes. METHODS: A retrospective cohort study was performed of all hospitalized patients with a positive respiratory viral panel (RVP) for two or more viruses within 72 hours of admission at our institution from October 2009 to December 2009. We compared patients infected with one respiratory virus to those with respiratory viral co-infection. RESULTS: We identified 617 inpatients with a positive RVP sample with a single virus and 49 inpatients with a positive RVP sample for two viruses (i.e. co-infection). Co-infected patients were significantly younger, more often had fever/chills, tachypnea, and they more often demonstrated interstitial opacities suggestive of viral pneumonia on the presenting chest radiograph (OR 7.5, 95% CI 3.4–16.5). The likelihood of death, length of stay, and requirement for intensive care unit level of care were similar in both groups, but patients with any respiratory virus co-infection were more likely to experience complications, particularly treatment for a secondary bacterial pneumonia (OR 6.8, 95% CI 3.3–14.2). Patients co-infected with pH1N1 and another respiratory virus were more likely to present with chest radiograph changes suggestive of a viral pneumonia, compared to mono-infection with pH1N1 (OR 16.9, 95% CI 4.5–62.7). By logistic regression using mono-infection with non-PH1N1 viruses as the reference group, co-infection with pH1N1 was the strongest independent predictor of treatment for a secondary bacterial pneumonia (OR 17.8, 95% CI 6.7–47.1). CONCLUSION: Patients with viral co-infection, particularly with pH1N1, were more likely to have chest radiograph features compatible with a viral pneumonia and complications during their hospital course, particularly treatment for secondary bacterial pneumonia. Despite this, co-infection was not associated with ICU admission.</p>\n",
       "        </article>\n",
       "    </li>\n",
       "                \n",
       "    <li> \n",
       "        <article>\n",
       "            <header>\n",
       "                <a href=\"https://www.ncbi.nlm.nih.gov/pmc/articles/PMC5002279/\"> <h2>First report of human salivirus/klassevirus in respiratory specimens of a child with fatal adenovirus infection</h2></a>\n",
       "            </header>\n",
       "            <p>Adenovirus is a leading cause of respiratory infection in children. Salivirus/klassevirus was first identified as an etiologic agent of gastroenteritis and was never reported in respiratory infection cases. The case being discussed here caught our attention because, although it is a common respiratory infection, it was fatal, while similar cases were mild. In order to find potential causes in the fatal case, we describe the clinical diagnosis and treatment, the sequencing analysis of the salivirus/klassevirus, and the co-infectious adenovirus. Metagenomics sequencing was conducted on the samples from a nasopharyngeal swab of the children with adenovirus infection. Sequences were assembled using IDBA-ud (1.1.1); phylogenetic analysis was performed using MEGA 5.2. RT-PCR and quantitative PCR were performed to verify the existence of the virus in the samples. A nearly full genome of this new virus strain was obtained with 7633 nt encoding a polyprotein of 2331 aa. Meanwhile, it was detected specifically in the nasopharyngeal swab by RT-PCR. Further, homology analysis indicated that the virus has a closer relationship with Salivirus A strain in Shanghai (GU245894). Our study reports the first case of Human salivirus/klassevirus in respiratory specimens of a child with fatal adenovirus infection in Shenzhen, China. The finding and investigation of the virus will provide more useful information for the clinical diagnosis of unexplained lethal infection and expand our knowledge of the new family, salivirus/klassevirus in picornavirus. ELECTRONIC SUPPLEMENTARY MATERIAL: The online version of this article (doi:10.1007/s11262-016-1361-7) contains supplementary material, which is available to authorized users.</p>\n",
       "        </article>\n",
       "    </li>\n",
       "                \n",
       "    <li> \n",
       "        <article>\n",
       "            <header>\n",
       "                <a href=\"https://www.ncbi.nlm.nih.gov/pmc/articles/PMC5105090/\"> <h2>Complete Genome Sequences of Porcine Epidemic Diarrhea Virus Strains JSLS-1/2015 and JS-2/2015 Isolated from China</h2></a>\n",
       "            </header>\n",
       "            <p>Two porcine epidemic diarrhea virus (PEDV) strains, JSLS-1/2015 and JS-2/2015, were isolated from piglets with watery diarrhea in South China. Two genomic sequences were highly homologous to the attenuated DR13 strain. Furthermore, JSLS-1/2015 contains a 24-amino-acid deletion in open reading frame 1b, which was first reported in PEDV isolates.</p>\n",
       "        </article>\n",
       "    </li>\n",
       "                \n",
       "    <li> \n",
       "        <article>\n",
       "            <header>\n",
       "                <a href=\"https://www.ncbi.nlm.nih.gov/pmc/articles/PMC2268738/\"> <h2>Distinguishing Molecular Features and Clinical Characteristics of a Putative New Rhinovirus Species, Human Rhinovirus C (HRV C)</h2></a>\n",
       "            </header>\n",
       "            <p>BACKGROUND: Human rhinoviruses (HRVs) are the most frequently detected pathogens in acute respiratory tract infections (ARTIs) and yet little is known about the prevalence, recurrence, structure and clinical impact of individual members. During 2007, the complete coding sequences of six previously unknown and highly divergent HRV strains were reported. To catalogue the molecular and clinical features distinguishing the divergent HRV strains, we undertook, for the first time, in silico analyses of all available polyprotein sequences and performed retrospective reviews of the medical records of cases in which variants of the prototype strain, HRV-QPM, had been detected. METHODOLOGY/PRINCIPLE FINDINGS: Genomic analyses revealed that the six divergent strains, residing within a clade we previously called HRV A2, had the shortest polyprotein of all picornaviruses investigated. Structure-based amino acid alignments identified conserved motifs shared among members of the genus Rhinovirus as well as substantive deletions and insertions unique to the divergent strains. Deletions mostly affected regions encoding proteins traditionally involved in antigenicity and serving as HRV and HEV receptor footprints. Because the HRV A2 strains cannot yet be cultured, we created homology models of predicted HRV-QPM structural proteins. In silico comparisons confirmed that HRV-QPM was most closely related to the major group HRVs. HRV-QPM was most frequently detected in infants with expiratory wheezing or persistent cough who had been admitted to hospital and required supplemental oxygen. It was the only virus detected in 65% of positive individuals. These observations contributed to an objective clinical impact ranging from mild to severe. CONCLUSIONS: The divergent strains did not meet classification requirements for any existing species of the genus Rhinovirus or Enterovirus. HRV A2 strains should be partitioned into at least one new species, putatively called Human rhinovirus C, populated by members detected with high frequency, from individuals with respiratory symptoms requiring hospital admission.</p>\n",
       "        </article>\n",
       "    </li>\n",
       "                \n",
       "    <li> \n",
       "        <article>\n",
       "            <header>\n",
       "                <a href=\"https://www.ncbi.nlm.nih.gov/pmc/articles/PMC4785336/\"> <h2>Phylogenetic evidence for intratypic recombinant events in a novel human adenovirus C that causes severe acute respiratory infection in children</h2></a>\n",
       "            </header>\n",
       "            <p>Human adenoviruses (HAdVs) are prevalent in hospitalized children with severe acute respiratory infection (SARI). Here, we report a unique recombinant HAdV strain (CBJ113) isolated from a HAdV-positive child with SARI. The whole-genome sequence was determined using Sanger sequencing and high-throughput sequencing. A phylogenetic analysis of the complete genome indicated that the CBJ113 strain shares a common origin with HAdV-C2, HAdV-C6, HAdV-C1, HAdV-C5, and HAdV-C57 and formed a novel subclade on the same branch as other HAdV-C subtypes. BootScan and single nucleotide polymorphism analyses showed that the CBJ113 genome has an intra-subtype recombinant structure and comprises gene regions mainly originating from two circulating viral strains: HAdV-1 and HAdV-2. The parental penton base, pVI, and DBP genes of the recombinant strain clustered with the HAdV-1 prototype strain, and the E1B, hexon, fiber, and 100 K genes of the recombinant clustered within the HAdV-2 subtype, meanwhile the E4orf1 and DNA polymerase genes of the recombinant shared the greatest similarity with those of HAdV-5 and HAdV-6, respectively. All of these findings provide insight into our understanding of the dynamics of the complexity of the HAdV-C epidemic. More extensive studies should address the pathogenicity and clinical characteristics of the novel recombinant.</p>\n",
       "        </article>\n",
       "    </li>\n",
       "                \n",
       "    <li> \n",
       "        <article>\n",
       "            <header>\n",
       "                <a href=\"https://www.ncbi.nlm.nih.gov/pmc/articles/PMC3250439/\"> <h2>Acute Respiratory Distress Syndrome Induced by a Swine 2009 H1N1 Variant in Mice</h2></a>\n",
       "            </header>\n",
       "            <p>BACKGROUND: Acute respiratory distress syndrome (ARDS) induced by pandemic 2009 H1N1 influenza virus has been widely reported and was considered the main cause of death in critically ill patients with 2009 H1N1 infection. However, no animal model has been developed for ARDS caused by infection with 2009 H1N1 virus. Here, we present a mouse model of ARDS induced by 2009 H1N1 virus. METHODOLOGY PRINCIPAL FINDINGS: Mice were inoculated with A/swine/Shandong/731/2009 (SD/09), which was a 2009 H1N1 influenza variant with a G222D mutation in the hemagglutinin. Clinical symptoms were recorded every day. Lung injury was assessed by lung water content and histopathological observation. Arterial blood gas, leukocyte count in the bronchial alveolar lavage fluid and blood, virus titers, and cytokine levels in the lung were measured at various times post-inoculation. Mice infected with SD/09 virus showed typical ARDS symptoms characterized by 60% lethality on days 8–10 post-inoculation, highly edematous lungs, inflammatory cellular infiltration, alveolar and interstitial edema, lung hemorrhage, progressive and severe hypoxemia, and elevated levels of proinflammatory cytokines and chemokines. CONCLUSIONS/SIGNIFICANCE: These results suggested that we successfully established an ARDS mouse model induced by a virulent 2009 H1N1 variant without previous adaptation, which may be of benefit for evaluating the pathogenesis or therapy of human ARDS caused by 2009 H1N1 virus.</p>\n",
       "        </article>\n",
       "    </li>\n",
       "                \n",
       "    <li> \n",
       "        <article>\n",
       "            <header>\n",
       "                <a href=\"https://www.ncbi.nlm.nih.gov/pmc/articles/PMC5813982/\"> <h2>Comparison of viral infection in healthcare-associated pneumonia (HCAP) and community-acquired pneumonia (CAP)</h2></a>\n",
       "            </header>\n",
       "            <p>BACKGROUND: Although viruses are known to be the second most common etiological factor in community-acquired pneumonia (CAP), the respiratory viral profile of the patients with healthcare-associated pneumonia (HCAP) has not yet been elucidated. We investigated the prevalence and the clinical impact of respiratory virus infection in adult patients with HCAP. METHODS: Patients admitted with HCAP or CAP, between January and December 2016, to a tertiary referral hospital in Korea, were prospectively enrolled, and virus identification was performed using reverse-transcription polymerase chain reaction (RT-PCR). RESULTS: Among 452 enrolled patients (224 with HCAP, 228 with CAP), samples for respiratory viruses were collected from sputum or endotracheal aspirate in 430 (95.1%) patients and from nasopharyngeal specimens in 22 (4.9%) patients. Eighty-seven (19.2%) patients had a viral infection, and the proportion of those with viral infection was significantly lower in the HCAP than in the CAP group (13.8% vs 24.6%, p = 0.004). In both the HCAP and CAP groups, influenza A was the most common respiratory virus, followed by entero-rhinovirus. The seasonal distributions of respiratory viruses were also similar in both groups. In the HCAP group, the viral infection resulted in a similar length of hospital stay and in-hospital mortality as viral–bacterial coinfection and bacterial infection, and the CAP group showed similar results. CONCLUSIONS: The prevalence of viral infection in patients with HCAP was lower than that in patients with CAP, and resulted in a similar prognosis as viral–bacterial coinfection or bacterial infection.</p>\n",
       "        </article>\n",
       "    </li>\n",
       "                \n",
       "    <li> \n",
       "        <article>\n",
       "            <header>\n",
       "                <a href=\"https://www.ncbi.nlm.nih.gov/pmc/articles/PMC4937385/\"> <h2>TMPRSS2 Independency for Haemagglutinin Cleavage In Vivo Differentiates Influenza B Virus from Influenza A Virus</h2></a>\n",
       "            </header>\n",
       "            <p>Influenza A and B viruses show clear differences in their host specificity and pandemic potential. Recent studies have revealed that the host protease TMPRSS2 plays an essential role for proteolytic activation of H1, H3, and H7 subtype strains of influenza A virus (IAV) in vivo. IAV possessing a monobasic cleavage site in the haemagglutinin (HA) protein replicates poorly in TMPRSS2 knockout mice owing to insufficient HA cleavage. In the present study, human isolates of influenza B virus (IBV) strains and a mouse-adapted IBV strain were analysed. The data showed that IBV successfully underwent HA cleavage in TMPRSS2 knockout mice, and that the mouse-adapted strain was fully pathogenic to these mice. The present data demonstrate a clear difference between IAV and IBV in their molecular mechanisms for spreading in vivo.</p>\n",
       "        </article>\n",
       "    </li>\n",
       "                \n",
       "    <li> \n",
       "        <article>\n",
       "            <header>\n",
       "                <a href=\"https://www.ncbi.nlm.nih.gov/pmc/articles/PMC6180327/\"> <h2>Genome Sequences of Rhinovirus Genotype C56 Detected in Three Patients with Acute Respiratory Illness, California, 2016 to 2017</h2></a>\n",
       "            </header>\n",
       "            <p>We report here two genome sequences of a newly designated rhinovirus genotype, RV-C56, which were obtained from respiratory specimens of three patients with acute respiratory illness in 2016 and 2017. To our knowledge, these sequences represent the first near-complete genomes for RV-C56 strains.</p>\n",
       "        </article>\n",
       "    </li>\n",
       "                \n",
       "    <li> \n",
       "        <article>\n",
       "            <header>\n",
       "                <a href=\"https://www.ncbi.nlm.nih.gov/pmc/articles/PMC6429553/\"> <h2>Lethal Influenza in Two Related Adults with Inherited GATA2 Deficiency</h2></a>\n",
       "            </header>\n",
       "            <p>The pathogenesis of life-threatening influenza A virus (IAV) disease remains elusive, as infection is benign in most individuals. We studied two relatives who died from influenza. We Sanger sequenced GATA2 and evaluated the mutation by gene transfer, measured serum cytokine levels, and analyzed circulating T- and B-cells. Both patients (father and son, P1 and P2) died in 2011 of H1N1pdm IAV infection at the ages of 54 and 31 years, respectively. They had not suffered from severe or moderately severe infections in the last 17 (P1) and 15 years (P2). A daughter of P1 had died at 20 years from infectious complications. Low B-cell, NK- cell, and monocyte numbers and myelodysplastic syndrome led to sequence GATA2. Patients were heterozygous for a novel, hypomorphic, R396L mutation leading to haplo-insufficiency. B- and T-cell rearrangement in peripheral blood from P1 during the influenza episode showed expansion of one major clone. No T-cell receptor excision circles were detected in P1 and P3 since they were 35 and 18 years, respectively. Both patients presented an exuberant, interferon (IFN)-γ-mediated hypercytokinemia during H1N1pdm infection. No data about patients with viremia was available. Two previously reported adult GATA2-deficient patients died from severe H1N1 IAV infection; GATA2 deficiency may predispose to life-threatening influenza in adulthood. However, a role of other genetic variants involved in immune responses cannot be ruled out. Patients with GATA2 deficiency can reach young adulthood without severe infections, including influenza, despite long-lasting complete B-cell and natural killer (NK) cell deficiency, as well as profoundly diminished T-cell thymic output. ELECTRONIC SUPPLEMENTARY MATERIAL: The online version of this article (10.1007/s10875-018-0512-0) contains supplementary material, which is available to authorized users.</p>\n",
       "        </article>\n",
       "    </li>\n",
       "                \n",
       "    <li> \n",
       "        <article>\n",
       "            <header>\n",
       "                <a href=\"https://www.ncbi.nlm.nih.gov/pmc/articles/PMC5078829/\"> <h2>Pathogenesis of Korean Sapelovirus A in piglets and chicks</h2></a>\n",
       "            </header>\n",
       "            <p>Sapelovirus A (SV-A), formerly known as porcine sapelovirus as a member of a new genus Sapelovirus, is known to cause enteritis, pneumonia, polioencephalomyelitis and reproductive disorders in pigs. We have recently identified α2,3-linked sialic acid on GD1a ganglioside as a functional SV-A receptor rich in the cells of pigs and chickens. However, the role of GD1a in viral pathogenesis remains elusive. Here, we demonstrated that a Korean SV-A strain could induce diarrhoea and intestinal pathology in piglets but not in chicks. Moreover, this Korean SV-A strain had mild extra-intestinal tropisms appearing as mild, non-suppurative myelitis, encephalitis and pneumonia in piglets, but not in chicks. By real-time reverse transcription (RT) PCR, higher viral RNA levels were detected in faecal samples than in sera or extra-intestinal organs from virus-inoculated piglets. Immunohistochemistry confirmed that high viral antigens were detected in the epithelial cells of intestines from virus-inoculated piglets but not from chicks. This Korean SV-A strain could bind the cultured cell lines originated from various species, but replication occurred only in cells of porcine origin. These data indicated that this Korean SV-A strain could replicate and induce pathology in piglets but not in chicks, suggesting that additional porcine-specific factors are required for virus entry and replication. In addition, this Korean SV-A strain is enteropathogenic, but could spread to the bloodstream from the gut and disseminate to extra-intestinal organs and tissues. These results will contribute to our understanding of SV-A pathogenesis so that efficient anti-sapelovirus drugs and vaccines could be developed in the future.</p>\n",
       "        </article>\n",
       "    </li>\n",
       "                \n",
       "    <li> \n",
       "        <article>\n",
       "            <header>\n",
       "                <a href=\"https://www.ncbi.nlm.nih.gov/pmc/articles/PMC6613762/\"> <h2>African Swine Fever Virus Armenia/07 Virulent Strain Controls Interferon Beta Production through the cGAS-STING Pathway</h2></a>\n",
       "            </header>\n",
       "            <p>African swine fever virus (ASFV) is a complex, cytoplasmic double-stranded DNA (dsDNA) virus that is currently expanding throughout the world. Currently, circulating virulent genotype II Armenia/07-like viruses cause fatal disease in pigs and wild boar, whereas attenuated strains induce infections with various levels of chronic illness. Sensing cytosolic dsDNA, mainly by the key DNA sensor cyclic GMP-AMP synthase (cGAS), leads to the synthesis of type I interferon and involves signaling through STING, TBK1, and IRF3. After phosphorylation, STING translocates from the endoplasmic reticulum to the Golgi compartment and to the perinuclear region, acting as an indispensable adaptor connecting the cytosolic detection of DNA to the TBK1-IRF3 signaling pathway. We demonstrate here that attenuated NH/P68, but not virulent Armenia/07, activates the cGAS-STING-IRF3 cascade very early during infection, inducing STING phosphorylation and trafficking through a mechanism involving cGAMP. Both TBK1 and IRF3 are subsequently activated and, in response to this, a high level of beta interferon (IFN-β) was produced during NH/P68 infection; in contrast, Armenia/07 infection generated IFN-β levels below those of uninfected cells. Our results show that virulent Armenia/07 ASFV controls the cGAS-STING pathway, but these mechanisms are not at play when porcine macrophages are infected with attenuated NH/P68 ASFV. These findings show for the first time the involvement of the cGAS-STING-IRF3 route in ASFV infection, where IFN-β production or inhibition was found after infection by attenuated or virulent ASFV strains, respectively, thus reinforcing the idea that ASFV virulence versus attenuation may be a phenomenon grounded in ASFV-mediated innate immune modulation where the cGAS-STING pathway might play an important role. IMPORTANCE African swine fever, a devastating disease for domestic pigs and wild boar, is currently spreading in Europe, Russia, and China, becoming a global threat with huge economic and ecological consequences. One interesting aspect of ASFV biology is the molecular mechanism leading to high virulence of some strains compared to more attenuated strains, which produce subclinical infections. In this work, we show that the presently circulating virulent Armenia/07 virus blocks the synthesis of IFN-β, a key mediator between the innate and adaptive immune response. Armenia/07 inhibits the cGAS-STING pathway by impairing STING activation during infection. In contrast, the cGAS-STING pathway is efficiently activated during NH/P68 attenuated strain infection, leading to the production of large amounts of IFN-β. Our results show for the first time the relationship between the cGAS-STING pathway and ASFV virulence, contributing to uncover the molecular mechanisms of ASFV virulence and to the rational development of ASFV vaccines.</p>\n",
       "        </article>\n",
       "    </li>\n",
       "    </body></html>"
      ],
      "text/plain": [
       "<IPython.core.display.HTML object>"
      ]
     },
     "execution_count": 256,
     "metadata": {},
     "output_type": "execute_result"
    }
   ],
   "source": [
    "html = \"<html><body><ol>\"\n",
    "for i in range(len(matches)):\n",
    "    html += f\"\"\"            \n",
    "    <li> \n",
    "        <article>\n",
    "            <header>\n",
    "                <a href=\"{matches.url[i]}\"> <h2>{matches.title[i]}</h2></a>\n",
    "            </header>\n",
    "            <p>{matches.abstract[i]}</p>\n",
    "        </article>\n",
    "    </li>\n",
    "    \"\"\"\n",
    "html += \"</body></html>\"\n",
    "display.HTML(html)"
   ]
  },
  {
   "cell_type": "markdown",
   "id": "a3f0192e-e1eb-4a51-b046-3fa63b040b49",
   "metadata": {},
   "source": [
    "## Cleaning Up"
   ]
  },
  {
   "cell_type": "code",
   "execution_count": null,
   "id": "1a8defa4-940e-4384-85ad-69de7f284b2e",
   "metadata": {},
   "outputs": [],
   "source": [
    "my_index_endpoint.delete(force=True)\n",
    "tree_ah_index.delete()"
   ]
  },
  {
   "cell_type": "markdown",
   "id": "0f9607d5-49d7-4810-aeb8-d5d01a40606d",
   "metadata": {},
   "source": [
    "Copyright 2023 Google Inc.\n",
    "Licensed under the Apache License, Version 2.0 (the \"License\"); you may not use this file except in compliance with the License. You may obtain a copy of the License at\n",
    "http://www.apache.org/licenses/LICENSE-2.0\n",
    "Unless required by applicable law or agreed to in writing, software distributed under the License is distributed on an \"AS IS\" BASIS, WITHOUT WARRANTIES OR CONDITIONS OF ANY KIND, either express or implied. See the License for the specific language governing permissions and limitations under the License."
   ]
  }
 ],
 "metadata": {
  "environment": {
   "kernel": "python3",
   "name": "tf2-gpu.2-11.m109",
   "type": "gcloud",
   "uri": "gcr.io/deeplearning-platform-release/tf2-gpu.2-11:m109"
  },
  "kernelspec": {
   "display_name": "Python 3",
   "language": "python",
   "name": "python3"
  },
  "language_info": {
   "codemirror_mode": {
    "name": "ipython",
    "version": 3
   },
   "file_extension": ".py",
   "mimetype": "text/x-python",
   "name": "python",
   "nbconvert_exporter": "python",
   "pygments_lexer": "ipython3",
   "version": "3.10.11"
  }
 },
 "nbformat": 4,
 "nbformat_minor": 5
}
