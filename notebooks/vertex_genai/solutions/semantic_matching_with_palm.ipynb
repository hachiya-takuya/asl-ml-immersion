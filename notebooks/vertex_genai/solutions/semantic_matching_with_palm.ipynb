{
 "cells": [
  {
   "cell_type": "markdown",
   "metadata": {
    "id": "46uGq6ZSnt09"
   },
   "source": [
    "# Semantic Matching with the PaLM API\n",
    "\n",
    "**Learning Objectives**\n",
    "  1. Learn how to identify matching product descriptions\n",
    "  1. Learn how to design a prompt for semantic matching\n",
    "  2. Learn how to evaluate performance of a prompt for semantic matching\n",
    "  1. Learn how to query the Vertex PaLM API\n",
    "  \n",
    "Semantic matching is the problem of classifying a pair of entities $(x_1, x_2)$ as being a good match or not. So it is a classification setup that is a very flexible: Namely, it comprises general information retrieval (where the first entity can be a textual query and the second entity can be a paragraph for instance), entity resolutions, or database-record fuzzy-matching. In this notebook we will focus on matching textual descriptions of retail products. More specifically:\n",
    "  \n",
    "  \n",
    "**Use case description:** An online retail company scours the web to compare prices of products in their inventory with those offered by their competitors. Their first priority is to implement a model that compares the information on two product webpages and outputs a classification indicating whether the different product descriptions on the webpages correspond to an identical product, which we will refer to as a 'match'. We use the [Amazon-Google Products dataset](https://dbs.uni-leipzig.de/file/Amazon-GoogleProducts.zip) in the [entity resolution benchmark](https://dbs.uni-leipzig.de/research/projects/object_matching/benchmark_datasets_for_entity_resolution) created by Leipzig University. \n",
    "\n",
    "**Model description:** This notebook illustrates how to use PaLM API in Vertex AI to match product descriptions. The [Amazon-GoogleProducts dataset](https://dbs.uni-leipzig.de/file/Amazon-GoogleProducts.zip) contains product information about the products scrapped on Amazon or Google websites. It includes the products title, description, price, and manufacturer, athough this information is worded differently on the two websites. In this notebook, we will focus solely on building a model using the product titles. The idea is straightforward: we will create a prompt that asks the PaLM API whether the product titles match or not. Although the information about the products is limited to these titles, we still achieve an accuracy close to 100% on the test set.\n",
    "\n",
    "**Evaluation method:** In order to avoid overfitting the prompt design on our dataset, we first split the our dataset sample of paired descriptions into an evaluation set (evalset) containing 60 examples and a test set (testset) also consisting of 60 examples. The choice of 60 examples aligns with the current limit quota of 60 requests per minute for the PaLM API in Vertex AI. Subsequently, we devise the prompt using the evalset and report the model's accuracy on the testset. Both the evaluation and test sets are roughly balanced."
   ]
  },
  {
   "cell_type": "markdown",
   "metadata": {
    "id": "YTFK37CpOROH"
   },
   "source": [
    "## Setup"
   ]
  },
  {
   "cell_type": "code",
   "execution_count": 200,
   "metadata": {
    "id": "x-wMuJbNfKMs"
   },
   "outputs": [],
   "source": [
    "import random\n",
    "\n",
    "import pandas as pd\n",
    "import vertexai\n",
    "from vertexai.language_models import TextGenerationModel\n",
    "\n",
    "pd.options.display.max_colwidth = 1000\n",
    "\n",
    "vertexai.init()"
   ]
  },
  {
   "cell_type": "markdown",
   "metadata": {},
   "source": [
    "## Exploring the dataset"
   ]
  },
  {
   "cell_type": "markdown",
   "metadata": {},
   "source": [
    "We use a [dataset of product information](https://dbs.uni-leipzig.de/file/Amazon-GoogleProducts.zip) scraped from Google and Amazon websites. The dataset is part of a [benchmark for semantic matching and entity resolution](https://dbs.uni-leipzig.de/research/projects/object_matching/benchmark_datasets_for_entity_resolution) from Leipzig University. It contains 3 tables which are included in this repo:\n",
    "\n",
    "```python\n",
    "../data/Amazon.csv.gz \n",
    "../data/GoogleProducts.csv.gz\n",
    "../Amzon_GoogleProducts_perfectMapping.csv.gz\n",
    "\n",
    "```\n",
    "\n",
    "The first table contains product information listed on Amazon, including the product title, description, and manufacturer:"
   ]
  },
  {
   "cell_type": "code",
   "execution_count": 201,
   "metadata": {},
   "outputs": [
    {
     "data": {
      "text/html": [
       "<div>\n",
       "<style scoped>\n",
       "    .dataframe tbody tr th:only-of-type {\n",
       "        vertical-align: middle;\n",
       "    }\n",
       "\n",
       "    .dataframe tbody tr th {\n",
       "        vertical-align: top;\n",
       "    }\n",
       "\n",
       "    .dataframe thead th {\n",
       "        text-align: right;\n",
       "    }\n",
       "</style>\n",
       "<table border=\"1\" class=\"dataframe\">\n",
       "  <thead>\n",
       "    <tr style=\"text-align: right;\">\n",
       "      <th></th>\n",
       "      <th>idAmazon</th>\n",
       "      <th>amazon_title</th>\n",
       "      <th>amazon_description</th>\n",
       "      <th>amazon_manufacturer</th>\n",
       "      <th>amazon_price</th>\n",
       "    </tr>\n",
       "  </thead>\n",
       "  <tbody>\n",
       "    <tr>\n",
       "      <th>0</th>\n",
       "      <td>b000jz4hqo</td>\n",
       "      <td>clickart 950 000 - premier image pack (dvd-rom)</td>\n",
       "      <td>NaN</td>\n",
       "      <td>broderbund</td>\n",
       "      <td>0.00</td>\n",
       "    </tr>\n",
       "    <tr>\n",
       "      <th>1</th>\n",
       "      <td>b0006zf55o</td>\n",
       "      <td>ca international - arcserve lap/desktop oem 30pk</td>\n",
       "      <td>oem arcserve backup v11.1 win 30u for laptops and desktops</td>\n",
       "      <td>computer associates</td>\n",
       "      <td>0.00</td>\n",
       "    </tr>\n",
       "    <tr>\n",
       "      <th>2</th>\n",
       "      <td>b00004tkvy</td>\n",
       "      <td>noah's ark activity center (jewel case ages 3-8)</td>\n",
       "      <td>NaN</td>\n",
       "      <td>victory multimedia</td>\n",
       "      <td>0.00</td>\n",
       "    </tr>\n",
       "    <tr>\n",
       "      <th>3</th>\n",
       "      <td>b000g80lqo</td>\n",
       "      <td>peachtree by sage premium accounting for nonprofits 2007</td>\n",
       "      <td>peachtree premium accounting for nonprofits 2007 is the affordable easy to use accounting solution that provides you with donor/grantor management. if you're like most nonprofit organizations you're constantly striving to maximize each and every dollar of your annual operating budget. financial reporting by programs and funds advanced operational reporting and the rock-solid core accounting features that have made peachtree the choice of hundreds of thousands of small businesses. the result is an accounting solution tailor-made for the challenges of operating a nonprofit organization. keep an audit trail to record and report on any changes made to your transactions improve data integrity with prior period locking archive your organization's data for snap shots of your data before you closed your year set up individual user profiles with password protection peachtree restore wizard restores all backed-up data files plus web transactions and customized forms includes all standard acc...</td>\n",
       "      <td>sage software</td>\n",
       "      <td>599.99</td>\n",
       "    </tr>\n",
       "    <tr>\n",
       "      <th>4</th>\n",
       "      <td>b0006se5bq</td>\n",
       "      <td>singing coach unlimited</td>\n",
       "      <td>singing coach unlimited - electronic learning products (win me nt 2000 xp)</td>\n",
       "      <td>carry-a-tune technologies</td>\n",
       "      <td>99.99</td>\n",
       "    </tr>\n",
       "  </tbody>\n",
       "</table>\n",
       "</div>"
      ],
      "text/plain": [
       "     idAmazon                                              amazon_title  \\\n",
       "0  b000jz4hqo           clickart 950 000 - premier image pack (dvd-rom)   \n",
       "1  b0006zf55o          ca international - arcserve lap/desktop oem 30pk   \n",
       "2  b00004tkvy          noah's ark activity center (jewel case ages 3-8)   \n",
       "3  b000g80lqo  peachtree by sage premium accounting for nonprofits 2007   \n",
       "4  b0006se5bq                                   singing coach unlimited   \n",
       "\n",
       "                                                                                                                                                                                                                                                                                                                                                                                                                                                                                                                                                                                                                                                                                                                                                                                                                                                                                                                                                                                                                        amazon_description  \\\n",
       "0                                                                                                                                                                                                                                                                                                                                                                                                                                                                                                                                                                                                                                                                                                                                                                                                                                                                                                                                                                                                                                      NaN   \n",
       "1                                                                                                                                                                                                                                                                                                                                                                                                                                                                                                                                                                                                                                                                                                                                                                                                                                                                                                                                                                               oem arcserve backup v11.1 win 30u for laptops and desktops   \n",
       "2                                                                                                                                                                                                                                                                                                                                                                                                                                                                                                                                                                                                                                                                                                                                                                                                                                                                                                                                                                                                                                      NaN   \n",
       "3  peachtree premium accounting for nonprofits 2007 is the affordable easy to use accounting solution that provides you with donor/grantor management. if you're like most nonprofit organizations you're constantly striving to maximize each and every dollar of your annual operating budget. financial reporting by programs and funds advanced operational reporting and the rock-solid core accounting features that have made peachtree the choice of hundreds of thousands of small businesses. the result is an accounting solution tailor-made for the challenges of operating a nonprofit organization. keep an audit trail to record and report on any changes made to your transactions improve data integrity with prior period locking archive your organization's data for snap shots of your data before you closed your year set up individual user profiles with password protection peachtree restore wizard restores all backed-up data files plus web transactions and customized forms includes all standard acc...   \n",
       "4                                                                                                                                                                                                                                                                                                                                                                                                                                                                                                                                                                                                                                                                                                                                                                                                                                                                                                                                                               singing coach unlimited - electronic learning products (win me nt 2000 xp)   \n",
       "\n",
       "         amazon_manufacturer  amazon_price  \n",
       "0                 broderbund          0.00  \n",
       "1        computer associates          0.00  \n",
       "2         victory multimedia          0.00  \n",
       "3              sage software        599.99  \n",
       "4  carry-a-tune technologies         99.99  "
      ]
     },
     "execution_count": 201,
     "metadata": {},
     "output_type": "execute_result"
    }
   ],
   "source": [
    "amazon = pd.read_csv(\"../data/Amazon.csv.gz\")\n",
    "amazon.columns = [\n",
    "    \"idAmazon\",\n",
    "    \"amazon_title\",\n",
    "    \"amazon_description\",\n",
    "    \"amazon_manufacturer\",\n",
    "    \"amazon_price\",\n",
    "]\n",
    "amazon.head()"
   ]
  },
  {
   "cell_type": "markdown",
   "metadata": {},
   "source": [
    "The second table contains the same information but for product information scrapped from Google website:"
   ]
  },
  {
   "cell_type": "code",
   "execution_count": 202,
   "metadata": {},
   "outputs": [
    {
     "data": {
      "text/html": [
       "<div>\n",
       "<style scoped>\n",
       "    .dataframe tbody tr th:only-of-type {\n",
       "        vertical-align: middle;\n",
       "    }\n",
       "\n",
       "    .dataframe tbody tr th {\n",
       "        vertical-align: top;\n",
       "    }\n",
       "\n",
       "    .dataframe thead th {\n",
       "        text-align: right;\n",
       "    }\n",
       "</style>\n",
       "<table border=\"1\" class=\"dataframe\">\n",
       "  <thead>\n",
       "    <tr style=\"text-align: right;\">\n",
       "      <th></th>\n",
       "      <th>idGoogleBase</th>\n",
       "      <th>google_title</th>\n",
       "      <th>google_description</th>\n",
       "      <th>google_manufacturer</th>\n",
       "      <th>google_price</th>\n",
       "    </tr>\n",
       "  </thead>\n",
       "  <tbody>\n",
       "    <tr>\n",
       "      <th>0</th>\n",
       "      <td>http://www.google.com/base/feeds/snippets/11125907881740407428</td>\n",
       "      <td>learning quickbooks 2007</td>\n",
       "      <td>learning quickbooks 2007</td>\n",
       "      <td>intuit</td>\n",
       "      <td>38.99</td>\n",
       "    </tr>\n",
       "    <tr>\n",
       "      <th>1</th>\n",
       "      <td>http://www.google.com/base/feeds/snippets/11538923464407758599</td>\n",
       "      <td>superstart! fun with reading &amp; writing!</td>\n",
       "      <td>fun with reading &amp; writing! is designed to help kids learn to read and write better through exercises puzzle-solving creative writing decoding and more!</td>\n",
       "      <td>NaN</td>\n",
       "      <td>8.49</td>\n",
       "    </tr>\n",
       "    <tr>\n",
       "      <th>2</th>\n",
       "      <td>http://www.google.com/base/feeds/snippets/11343515411965421256</td>\n",
       "      <td>qb pos 6.0 basic software</td>\n",
       "      <td>qb pos 6.0 basic retail mngmt software. for retailers who need basic inventory sales and customer tracking.</td>\n",
       "      <td>intuit</td>\n",
       "      <td>637.99</td>\n",
       "    </tr>\n",
       "    <tr>\n",
       "      <th>3</th>\n",
       "      <td>http://www.google.com/base/feeds/snippets/12049235575237146821</td>\n",
       "      <td>math missions: the amazing arcade adventure (grades 3-5)</td>\n",
       "      <td>save spectacle city by disrupting randall underling's plan to drive all the stores out of business and take over the city. solve real-world math challenges in the uniquely entertaining stores and make theme successful again.</td>\n",
       "      <td>NaN</td>\n",
       "      <td>12.95</td>\n",
       "    </tr>\n",
       "    <tr>\n",
       "      <th>4</th>\n",
       "      <td>http://www.google.com/base/feeds/snippets/12244614697089679523</td>\n",
       "      <td>production prem cs3 mac upgrad</td>\n",
       "      <td>adobe cs3 production premium mac upgrade from production studio premium or standard</td>\n",
       "      <td>adobe software</td>\n",
       "      <td>805.99</td>\n",
       "    </tr>\n",
       "  </tbody>\n",
       "</table>\n",
       "</div>"
      ],
      "text/plain": [
       "                                                     idGoogleBase  \\\n",
       "0  http://www.google.com/base/feeds/snippets/11125907881740407428   \n",
       "1  http://www.google.com/base/feeds/snippets/11538923464407758599   \n",
       "2  http://www.google.com/base/feeds/snippets/11343515411965421256   \n",
       "3  http://www.google.com/base/feeds/snippets/12049235575237146821   \n",
       "4  http://www.google.com/base/feeds/snippets/12244614697089679523   \n",
       "\n",
       "                                               google_title  \\\n",
       "0                                  learning quickbooks 2007   \n",
       "1                   superstart! fun with reading & writing!   \n",
       "2                                 qb pos 6.0 basic software   \n",
       "3  math missions: the amazing arcade adventure (grades 3-5)   \n",
       "4                            production prem cs3 mac upgrad   \n",
       "\n",
       "                                                                                                                                                                                                                 google_description  \\\n",
       "0                                                                                                                                                                                                          learning quickbooks 2007   \n",
       "1                                                                          fun with reading & writing! is designed to help kids learn to read and write better through exercises puzzle-solving creative writing decoding and more!   \n",
       "2                                                                                                                       qb pos 6.0 basic retail mngmt software. for retailers who need basic inventory sales and customer tracking.   \n",
       "3  save spectacle city by disrupting randall underling's plan to drive all the stores out of business and take over the city. solve real-world math challenges in the uniquely entertaining stores and make theme successful again.   \n",
       "4                                                                                                                                               adobe cs3 production premium mac upgrade from production studio premium or standard   \n",
       "\n",
       "  google_manufacturer google_price  \n",
       "0              intuit        38.99  \n",
       "1                 NaN         8.49  \n",
       "2              intuit       637.99  \n",
       "3                 NaN        12.95  \n",
       "4      adobe software       805.99  "
      ]
     },
     "execution_count": 202,
     "metadata": {},
     "output_type": "execute_result"
    }
   ],
   "source": [
    "google = pd.read_csv(\"../data/GoogleProducts.csv.gz\")\n",
    "google.columns = [\n",
    "    \"idGoogleBase\",\n",
    "    \"google_title\",\n",
    "    \"google_description\",\n",
    "    \"google_manufacturer\",\n",
    "    \"google_price\",\n",
    "]\n",
    "google.head()"
   ]
  },
  {
   "cell_type": "markdown",
   "metadata": {},
   "source": [
    "The last table contains a matching of product information on both website corresponding to the same product, but possibly described differently on the two websites:"
   ]
  },
  {
   "cell_type": "code",
   "execution_count": 203,
   "metadata": {},
   "outputs": [
    {
     "data": {
      "text/html": [
       "<div>\n",
       "<style scoped>\n",
       "    .dataframe tbody tr th:only-of-type {\n",
       "        vertical-align: middle;\n",
       "    }\n",
       "\n",
       "    .dataframe tbody tr th {\n",
       "        vertical-align: top;\n",
       "    }\n",
       "\n",
       "    .dataframe thead th {\n",
       "        text-align: right;\n",
       "    }\n",
       "</style>\n",
       "<table border=\"1\" class=\"dataframe\">\n",
       "  <thead>\n",
       "    <tr style=\"text-align: right;\">\n",
       "      <th></th>\n",
       "      <th>idAmazon</th>\n",
       "      <th>idGoogleBase</th>\n",
       "    </tr>\n",
       "  </thead>\n",
       "  <tbody>\n",
       "    <tr>\n",
       "      <th>0</th>\n",
       "      <td>b000jz4hqo</td>\n",
       "      <td>http://www.google.com/base/feeds/snippets/18441480711193821750</td>\n",
       "    </tr>\n",
       "    <tr>\n",
       "      <th>1</th>\n",
       "      <td>b00004tkvy</td>\n",
       "      <td>http://www.google.com/base/feeds/snippets/18441110047404795849</td>\n",
       "    </tr>\n",
       "    <tr>\n",
       "      <th>2</th>\n",
       "      <td>b000g80lqo</td>\n",
       "      <td>http://www.google.com/base/feeds/snippets/18441188461196475272</td>\n",
       "    </tr>\n",
       "    <tr>\n",
       "      <th>3</th>\n",
       "      <td>b0006se5bq</td>\n",
       "      <td>http://www.google.com/base/feeds/snippets/18428750969726461849</td>\n",
       "    </tr>\n",
       "    <tr>\n",
       "      <th>4</th>\n",
       "      <td>b00021xhzw</td>\n",
       "      <td>http://www.google.com/base/feeds/snippets/18430621475529168165</td>\n",
       "    </tr>\n",
       "  </tbody>\n",
       "</table>\n",
       "</div>"
      ],
      "text/plain": [
       "     idAmazon                                                    idGoogleBase\n",
       "0  b000jz4hqo  http://www.google.com/base/feeds/snippets/18441480711193821750\n",
       "1  b00004tkvy  http://www.google.com/base/feeds/snippets/18441110047404795849\n",
       "2  b000g80lqo  http://www.google.com/base/feeds/snippets/18441188461196475272\n",
       "3  b0006se5bq  http://www.google.com/base/feeds/snippets/18428750969726461849\n",
       "4  b00021xhzw  http://www.google.com/base/feeds/snippets/18430621475529168165"
      ]
     },
     "execution_count": 203,
     "metadata": {},
     "output_type": "execute_result"
    }
   ],
   "source": [
    "matching = pd.read_csv(\"../data/Amzon_GoogleProducts_perfectMapping.csv.gz\")\n",
    "matching.head()"
   ]
  },
  {
   "cell_type": "markdown",
   "metadata": {},
   "source": [
    "From this raw data, we have pre-generated for you an eval and test set:\n",
    "\n",
    "```python\n",
    "../data/product_matching_eval.csv\n",
    "../data/product_matching_test.csv\n",
    "```\n",
    "\n",
    "\n",
    "We will use the eval set to design the prompt and use the test set to evaluate the PaLM API performance on this prompt. This way, the performance we report will be closer to the real performance on never-seen-pairs of product descriptions.  \n",
    "\n",
    "\n",
    "To genrate the eval and test split, we used the function in the cell below. It takes a sample (whose size is controlled by `SAMPLE_SIZE`) of matching product ID's in the `matching` dataframe, and it joins the information of the Google and Amazon product information contained in the `google` and `amazon` dataframes. Then it extracts pairs of matching Google and Amazon descriptions and creates a table of matching descriptions with columns `description_1` (Google), `description_2` (Amazon), and a target column named `match` whose value is set to `yes` since we have only matching pairs so far.\n",
    "To create description pairs of not matching product, we permutate the second description columns while keeping the first description fixed, and concatenate this new dataframe of not matching descriptions to the one of matching description. We shuffle and then split the resulting table into two equal sized dataframes, which we save on disk as our eval and test splits. \n",
    "\n",
    "Observe that we only use the `title` column as product description. So there is much more info in the raw data. Nevertheless, we will see that PaLM will achieve a performance close to 100% on the test set. Remarkable!\n",
    "\n",
    "**Note:** Uncomment the last line if you want to re-generate the eval and test set on a different sample of the data."
   ]
  },
  {
   "cell_type": "code",
   "execution_count": 225,
   "metadata": {},
   "outputs": [],
   "source": [
    "SAMPLE_SIZE = 60\n",
    "\n",
    "\n",
    "def generate_test_and_eval_sets(sample_size=SAMPLE_SIZE):\n",
    "    sample = matching.sample(sample_size)\n",
    "\n",
    "    # Join the product information to the df of matching ID's\n",
    "    matched_products = sample.merge(\n",
    "        right=amazon, how=\"left\", on=\"idAmazon\"\n",
    "    ).merge(right=google, how=\"left\", on=\"idGoogleBase\")\n",
    "\n",
    "    google_descriptions = list(matched_products[\"google_title\"])\n",
    "    amazon_descriptions = list(matched_products[\"amazon_title\"])\n",
    "\n",
    "    # Create the dataframe of matching descriptions\n",
    "    matching_descriptions = pd.DataFrame(\n",
    "        {\n",
    "            \"description_1\": google_descriptions,\n",
    "            \"description_2\": amazon_descriptions,\n",
    "            \"match\": \"yes\",\n",
    "        }\n",
    "    )\n",
    "\n",
    "    # Create the dataframe of not matching descriptions\n",
    "    amazon_descriptions_perm = [\n",
    "        amazon_descriptions[i - 1] for i in range(len(amazon_descriptions))\n",
    "    ]\n",
    "    not_matching_descriptions = pd.DataFrame(\n",
    "        {\n",
    "            \"description_1\": google_descriptions,\n",
    "            \"description_2\": amazon_descriptions_perm,\n",
    "            \"match\": \"no\",\n",
    "        }\n",
    "    )\n",
    "\n",
    "    full_dataset = pd.concat(\n",
    "        [matching_descriptions, not_matching_descriptions], axis=0\n",
    "    ).sample(len(matching_descriptions) * 2)\n",
    "\n",
    "    evalset = full_dataset[:sample_size]\n",
    "    testset = full_dataset[sample_size : 2 * sample_size]\n",
    "    evalset.to_csv(\"../data/product_matching_eval.csv\", index=None)\n",
    "    testset.to_csv(\"../data/product_matching_test.csv\", index=None)\n",
    "\n",
    "\n",
    "# Uncomment to generate a different data sample\n",
    "# generate_test_and_eval_sets()"
   ]
  },
  {
   "cell_type": "markdown",
   "metadata": {
    "id": "Obe_UZjcnxfr"
   },
   "source": [
    "The next cell loads the eval and test datasets that we pre-generated. The two CSV files contain 60 examples of product description pairs. Each pair is labeled with a `match` value of `yes` if the descriptions describe the same product and `no` otherwise. `description_1` comes from product title on Google while `description_2` comes from Amazon products."
   ]
  },
  {
   "cell_type": "code",
   "execution_count": 206,
   "metadata": {
    "id": "ZZbeDFq-epFp"
   },
   "outputs": [],
   "source": [
    "evalset = pd.read_csv(\"../data/product_matching_eval.csv\")\n",
    "testset = pd.read_csv(\"../data/product_matching_test.csv\")"
   ]
  },
  {
   "cell_type": "markdown",
   "metadata": {
    "id": "fMqMQgBxnx3F"
   },
   "source": [
    "Let's have a quick look at a few entries in this dataset:"
   ]
  },
  {
   "cell_type": "code",
   "execution_count": 207,
   "metadata": {
    "colab": {
     "base_uri": "https://localhost:8080/",
     "height": 206
    },
    "id": "1j5R8sWofR7i",
    "outputId": "000dae29-62a7-4ada-e8c9-83fc2263eec6"
   },
   "outputs": [
    {
     "data": {
      "text/html": [
       "<div>\n",
       "<style scoped>\n",
       "    .dataframe tbody tr th:only-of-type {\n",
       "        vertical-align: middle;\n",
       "    }\n",
       "\n",
       "    .dataframe tbody tr th {\n",
       "        vertical-align: top;\n",
       "    }\n",
       "\n",
       "    .dataframe thead th {\n",
       "        text-align: right;\n",
       "    }\n",
       "</style>\n",
       "<table border=\"1\" class=\"dataframe\">\n",
       "  <thead>\n",
       "    <tr style=\"text-align: right;\">\n",
       "      <th></th>\n",
       "      <th>description_1</th>\n",
       "      <th>description_2</th>\n",
       "      <th>match</th>\n",
       "    </tr>\n",
       "  </thead>\n",
       "  <tbody>\n",
       "    <tr>\n",
       "      <th>0</th>\n",
       "      <td>topics entertainment instant immersion hawaiian audio</td>\n",
       "      <td>adobe photoshop elements 4.0 (mac)</td>\n",
       "      <td>no</td>\n",
       "    </tr>\n",
       "    <tr>\n",
       "      <th>1</th>\n",
       "      <td>corel corporation corel wordperfect office x3 pro dvd</td>\n",
       "      <td>corel wordperfect office x3 professional edition</td>\n",
       "      <td>yes</td>\n",
       "    </tr>\n",
       "    <tr>\n",
       "      <th>2</th>\n",
       "      <td>microsoft office and windows training (win 98 me nt 2000 xp)</td>\n",
       "      <td>crystal 3d impact! pro 1.25 (jewel case)</td>\n",
       "      <td>no</td>\n",
       "    </tr>\n",
       "    <tr>\n",
       "      <th>3</th>\n",
       "      <td>sierrahome hse hallmark card studio special edition win 98 me 2000 xp</td>\n",
       "      <td>cinescore professional soundtrack edition</td>\n",
       "      <td>no</td>\n",
       "    </tr>\n",
       "    <tr>\n",
       "      <th>4</th>\n",
       "      <td>intego inc internet security barrier x4 antispam edition</td>\n",
       "      <td>internet security barrier x4 antispam edition</td>\n",
       "      <td>yes</td>\n",
       "    </tr>\n",
       "  </tbody>\n",
       "</table>\n",
       "</div>"
      ],
      "text/plain": [
       "                                                           description_1  \\\n",
       "0                  topics entertainment instant immersion hawaiian audio   \n",
       "1                  corel corporation corel wordperfect office x3 pro dvd   \n",
       "2           microsoft office and windows training (win 98 me nt 2000 xp)   \n",
       "3  sierrahome hse hallmark card studio special edition win 98 me 2000 xp   \n",
       "4               intego inc internet security barrier x4 antispam edition   \n",
       "\n",
       "                                      description_2 match  \n",
       "0                adobe photoshop elements 4.0 (mac)    no  \n",
       "1  corel wordperfect office x3 professional edition   yes  \n",
       "2          crystal 3d impact! pro 1.25 (jewel case)    no  \n",
       "3         cinescore professional soundtrack edition    no  \n",
       "4     internet security barrier x4 antispam edition   yes  "
      ]
     },
     "execution_count": 207,
     "metadata": {},
     "output_type": "execute_result"
    }
   ],
   "source": [
    "evalset.head()"
   ]
  },
  {
   "cell_type": "markdown",
   "metadata": {
    "id": "v2Mo_6Zqny_4"
   },
   "source": [
    "Both splits are roughly balanced. To make sure that both splits are roughly balanced, we count the number of class instances for each split."
   ]
  },
  {
   "cell_type": "code",
   "execution_count": 208,
   "metadata": {
    "colab": {
     "base_uri": "https://localhost:8080/"
    },
    "id": "i-WDRNVygJDG",
    "outputId": "6119fbfa-3305-45fc-f2a4-d710ffd2666b"
   },
   "outputs": [
    {
     "data": {
      "text/plain": [
       "no     33\n",
       "yes    27\n",
       "Name: match, dtype: int64"
      ]
     },
     "execution_count": 208,
     "metadata": {},
     "output_type": "execute_result"
    }
   ],
   "source": [
    "evalset.match.value_counts()"
   ]
  },
  {
   "cell_type": "code",
   "execution_count": 209,
   "metadata": {
    "colab": {
     "base_uri": "https://localhost:8080/"
    },
    "id": "carLBOfPgMG8",
    "outputId": "333bafef-7794-413e-edae-12b7c751662f"
   },
   "outputs": [
    {
     "data": {
      "text/plain": [
       "yes    33\n",
       "no     27\n",
       "Name: match, dtype: int64"
      ]
     },
     "execution_count": 209,
     "metadata": {},
     "output_type": "execute_result"
    }
   ],
   "source": [
    "testset.match.value_counts()"
   ]
  },
  {
   "cell_type": "markdown",
   "metadata": {
    "id": "NiLqKVXRg-n2"
   },
   "source": [
    "#  Model implementation"
   ]
  },
  {
   "cell_type": "markdown",
   "metadata": {
    "id": "kPOcktSQn1Q0"
   },
   "source": [
    "We start by instanciating our client to the `text-bison@001` version of the PaLM 2 which is a large language model (LLM) developed by Google."
   ]
  },
  {
   "cell_type": "code",
   "execution_count": 210,
   "metadata": {
    "id": "3qrIOtzTNc-J"
   },
   "outputs": [],
   "source": [
    "generation_model = TextGenerationModel.from_pretrained(\"text-bison@001\")"
   ]
  },
  {
   "cell_type": "markdown",
   "metadata": {
    "id": "5QgnNIWrn1ki"
   },
   "source": [
    "Using this client, we implement in the next cell a simple function that takes two product descriptions and a parameterized prompt as input, and outputs `yes` or `no` depending on whether the PaLM model thinks the product descriptions are matching."
   ]
  },
  {
   "cell_type": "code",
   "execution_count": 211,
   "metadata": {
    "id": "on-_-NgyOA1h"
   },
   "outputs": [],
   "source": [
    "def are_products_matching(d1, d2, prompt):\n",
    "    prompt = prompt.format(desc1=d1, desc2=d2)\n",
    "    answer = generation_model.predict(\n",
    "        prompt, temperature=0.2, max_output_tokens=1024, top_k=40, top_p=0.8\n",
    "    )\n",
    "    return answer.text"
   ]
  },
  {
   "cell_type": "markdown",
   "metadata": {
    "id": "jCfgRBmtn25a"
   },
   "source": [
    "The next cell allows us to rapidly test on the evaluation set whether a given prompt seems to be working for this use case."
   ]
  },
  {
   "cell_type": "code",
   "execution_count": 212,
   "metadata": {
    "colab": {
     "base_uri": "https://localhost:8080/"
    },
    "id": "xaqND_6Jh5o0",
    "outputId": "693945d5-fd44-47d2-8487-1aff7cffe90a"
   },
   "outputs": [
    {
     "name": "stdout",
     "output_type": "stream",
     "text": [
      "\n",
      "Are the following two descriptions describing the same product?\n",
      "\n",
      "Description 1: microsoft windows xp pro sp2 retail\n",
      "\n",
      "Descriptions 2: microsoft windows xp professional full version with sp2\n",
      "\n",
      "MODEL ANSWER: yes\n",
      "GROUND TRUTH: yes\n",
      "\n"
     ]
    }
   ],
   "source": [
    "PROMPT = \"\"\"\n",
    "Are the following two descriptions describing the same product?\n",
    "Answer only with \"yes\" or \"no\".\n",
    "\n",
    "Description 1: {desc1}\n",
    "Description 2: {desc2}\n",
    "\"\"\"\n",
    "\n",
    "index = random.randint(0, len(evalset) - 1)\n",
    "\n",
    "d1 = evalset.iloc[index][\"description_1\"]\n",
    "d2 = evalset.iloc[index][\"description_2\"]\n",
    "ground_truth = evalset.iloc[index][\"match\"]\n",
    "prediction = are_products_matching(d1, d2, prompt=PROMPT)\n",
    "\n",
    "\n",
    "print(\n",
    "    f\"\"\"\n",
    "Are the following two descriptions describing the same product?\n",
    "\n",
    "Description 1: {d1}\n",
    "\n",
    "Descriptions 2: {d2}\n",
    "\n",
    "MODEL ANSWER: {prediction}\n",
    "GROUND TRUTH: {ground_truth}\n",
    "\"\"\"\n",
    ")"
   ]
  },
  {
   "cell_type": "markdown",
   "metadata": {
    "id": "_rH81Xc9iSGH"
   },
   "source": [
    "# Model Analysis"
   ]
  },
  {
   "cell_type": "markdown",
   "metadata": {
    "id": "Ep0gfUg-oIT2"
   },
   "source": [
    "We now analyze the performance of our model on the test set.\n",
    "\n",
    "Large language models may sometimes output something other than \"yes\" or \"no,\" even if we ask them politely to do so. This could be due to safety filters being triggered or the model simply not understanding the question. Therefore, we first need to determine the proportion of requests that our model fails to answer. In this case, it is around 6%, which may be acceptable. Further prompt engineering or model tuning could help to reduce this number.\n",
    "\n",
    "The second aspect to consider is the performance of the model on the requests\n",
    "that succeded (i.e. for whose the output was actually `yes` or `no`).\n",
    "Since the test set is balanced, we can compute the model accuracy, which is 98%. This means that only a single example in the test set received a prediction that was different from the ground truth."
   ]
  },
  {
   "cell_type": "markdown",
   "metadata": {
    "id": "uuBvf49yjPZK"
   },
   "source": [
    "## Scoring the test set"
   ]
  },
  {
   "cell_type": "markdown",
   "metadata": {
    "id": "es_OWg7FoJgh"
   },
   "source": [
    "To simplify evaluation, we implement a function in the next cell that will add a `prediction` column to our `testset`. This column will contain the predictions received from the PaLM API:"
   ]
  },
  {
   "cell_type": "code",
   "execution_count": 213,
   "metadata": {
    "id": "myMTJyk7ieWy"
   },
   "outputs": [],
   "source": [
    "def apply_prompt(prompt, dataset):\n",
    "    scored_dataset = dataset.copy()\n",
    "    scored_dataset[\"predictions\"] = scored_dataset.apply(\n",
    "        lambda row: are_products_matching(\n",
    "            row.description_1, row.description_2, prompt=PROMPT\n",
    "        ),\n",
    "        axis=1,\n",
    "    )\n",
    "    return scored_dataset"
   ]
  },
  {
   "cell_type": "markdown",
   "metadata": {
    "id": "JThUONtioKRO"
   },
   "source": [
    "Let's apply this function to our `testset` using our simple prompt that we designed on the `evalset`:"
   ]
  },
  {
   "cell_type": "code",
   "execution_count": 214,
   "metadata": {
    "id": "TNQB_AHIijFk"
   },
   "outputs": [],
   "source": [
    "scored_testset = apply_prompt(prompt=PROMPT, dataset=testset)"
   ]
  },
  {
   "cell_type": "markdown",
   "metadata": {
    "id": "2habZ6dvoMMD"
   },
   "source": [
    "Since requests to the PaLM API are limited and capped to 60 requests per minute, we save our scoring to disk so that we can analyze it offline if needed."
   ]
  },
  {
   "cell_type": "code",
   "execution_count": 215,
   "metadata": {
    "id": "KZhJ8h7yjEGX"
   },
   "outputs": [],
   "source": [
    "scored_testset.to_csv(\"scored_evalset.csv\", index=False)"
   ]
  },
  {
   "cell_type": "markdown",
   "metadata": {
    "id": "2OjoWMSioMlw"
   },
   "source": [
    "Here are the predictions of our model. We can see that most examples are classified correctly, although some requests failed, resulting in empty predictions. We will need to analyze these cases separately and compute the accuracy only for the requests that succeeded:"
   ]
  },
  {
   "cell_type": "code",
   "execution_count": 216,
   "metadata": {
    "colab": {
     "base_uri": "https://localhost:8080/",
     "height": 441
    },
    "id": "wYWoymLxipfJ",
    "outputId": "396efcfa-f80b-4d49-d258-31663617b35e"
   },
   "outputs": [
    {
     "data": {
      "text/html": [
       "<div>\n",
       "<style scoped>\n",
       "    .dataframe tbody tr th:only-of-type {\n",
       "        vertical-align: middle;\n",
       "    }\n",
       "\n",
       "    .dataframe tbody tr th {\n",
       "        vertical-align: top;\n",
       "    }\n",
       "\n",
       "    .dataframe thead th {\n",
       "        text-align: right;\n",
       "    }\n",
       "</style>\n",
       "<table border=\"1\" class=\"dataframe\">\n",
       "  <thead>\n",
       "    <tr style=\"text-align: right;\">\n",
       "      <th></th>\n",
       "      <th>description_1</th>\n",
       "      <th>description_2</th>\n",
       "      <th>match</th>\n",
       "      <th>predictions</th>\n",
       "    </tr>\n",
       "  </thead>\n",
       "  <tbody>\n",
       "    <tr>\n",
       "      <th>0</th>\n",
       "      <td>myob firstedge</td>\n",
       "      <td>firstedge v 2.0 (mac)</td>\n",
       "      <td>yes</td>\n",
       "      <td>yes</td>\n",
       "    </tr>\n",
       "    <tr>\n",
       "      <th>1</th>\n",
       "      <td>adobe cs3 design premium upsell</td>\n",
       "      <td>adobe creative suite cs3 design premium [mac]</td>\n",
       "      <td>yes</td>\n",
       "      <td>yes</td>\n",
       "    </tr>\n",
       "    <tr>\n",
       "      <th>2</th>\n",
       "      <td>tlc arthur's kindergarten learning system (pc) encore</td>\n",
       "      <td>child safe</td>\n",
       "      <td>no</td>\n",
       "      <td>no</td>\n",
       "    </tr>\n",
       "    <tr>\n",
       "      <th>3</th>\n",
       "      <td>pxl smartscale for mac/win</td>\n",
       "      <td>onone software pxl smartscale ( windows and macintosh )</td>\n",
       "      <td>yes</td>\n",
       "      <td>yes</td>\n",
       "    </tr>\n",
       "    <tr>\n",
       "      <th>4</th>\n",
       "      <td>corel ulead dvd workshop 2 authoring software</td>\n",
       "      <td>ulead systems dvd workshop 2</td>\n",
       "      <td>yes</td>\n",
       "      <td>yes</td>\n",
       "    </tr>\n",
       "    <tr>\n",
       "      <th>5</th>\n",
       "      <td>emedia rock guitar method (win 95 98 me nt 2000 xp/mac 8.0)</td>\n",
       "      <td>emedia rock guitar method</td>\n",
       "      <td>yes</td>\n",
       "      <td>yes</td>\n",
       "    </tr>\n",
       "    <tr>\n",
       "      <th>6</th>\n",
       "      <td>epson s041886 story teller 8 x 10 20 pages</td>\n",
       "      <td>epson storyteller photo book creator - 8 x 10 (20 pages)</td>\n",
       "      <td>yes</td>\n",
       "      <td>yes</td>\n",
       "    </tr>\n",
       "    <tr>\n",
       "      <th>7</th>\n",
       "      <td>diskeeper 2007 professional</td>\n",
       "      <td>iremember digital scrapbooking 2.0</td>\n",
       "      <td>no</td>\n",
       "      <td>no</td>\n",
       "    </tr>\n",
       "    <tr>\n",
       "      <th>8</th>\n",
       "      <td>tri synergy inc test &amp; improve your memory - scientific brain training</td>\n",
       "      <td>internet security barrier x4 antispam edition</td>\n",
       "      <td>no</td>\n",
       "      <td>no</td>\n",
       "    </tr>\n",
       "    <tr>\n",
       "      <th>9</th>\n",
       "      <td>punch software 42100 punch! home design architectural series 18 (small box)</td>\n",
       "      <td>elementary school success deluxe 2006</td>\n",
       "      <td>no</td>\n",
       "      <td>no</td>\n",
       "    </tr>\n",
       "  </tbody>\n",
       "</table>\n",
       "</div>"
      ],
      "text/plain": [
       "                                                                 description_1  \\\n",
       "0                                                               myob firstedge   \n",
       "1                                              adobe cs3 design premium upsell   \n",
       "2                        tlc arthur's kindergarten learning system (pc) encore   \n",
       "3                                                   pxl smartscale for mac/win   \n",
       "4                                corel ulead dvd workshop 2 authoring software   \n",
       "5                  emedia rock guitar method (win 95 98 me nt 2000 xp/mac 8.0)   \n",
       "6                                   epson s041886 story teller 8 x 10 20 pages   \n",
       "7                                                  diskeeper 2007 professional   \n",
       "8       tri synergy inc test & improve your memory - scientific brain training   \n",
       "9  punch software 42100 punch! home design architectural series 18 (small box)   \n",
       "\n",
       "                                              description_2 match predictions  \n",
       "0                                     firstedge v 2.0 (mac)   yes         yes  \n",
       "1             adobe creative suite cs3 design premium [mac]   yes         yes  \n",
       "2                                                child safe    no          no  \n",
       "3   onone software pxl smartscale ( windows and macintosh )   yes         yes  \n",
       "4                              ulead systems dvd workshop 2   yes         yes  \n",
       "5                                 emedia rock guitar method   yes         yes  \n",
       "6  epson storyteller photo book creator - 8 x 10 (20 pages)   yes         yes  \n",
       "7                        iremember digital scrapbooking 2.0    no          no  \n",
       "8             internet security barrier x4 antispam edition    no          no  \n",
       "9                     elementary school success deluxe 2006    no          no  "
      ]
     },
     "execution_count": 216,
     "metadata": {},
     "output_type": "execute_result"
    }
   ],
   "source": [
    "scored_testset.head(10)"
   ]
  },
  {
   "cell_type": "markdown",
   "metadata": {
    "id": "FQXJrSIHjVp3"
   },
   "source": [
    "### Failed predictions"
   ]
  },
  {
   "cell_type": "markdown",
   "metadata": {
    "id": "xXij9XUjoNbn"
   },
   "source": [
    "The cell below list the number of failed predictions, that is, predictions which are anything other that `yes` or `no`. There are several possible causes to such a behavior. PaLM, as all LLM's, has been trained to predict the next most likely word from a sequence of words. Therefore, although we instruct PaLM explicitely in our prompt to answer by `yes` or `no`, it may happen that certain product descriptions confuse PaLM, resulting in something different from `yes` or `no`. Another issue is that the language in the product descriptions may trigger a safety filter, which then will replace PaLM raw answer by some standard warning text. These safety filters can be triggered by words in the product descriptions that are too evocating of health or medical issues for instance, or violence, among many [other safety settings](https://developers.generativeai.google/guide/safety_setting). "
   ]
  },
  {
   "cell_type": "code",
   "execution_count": 217,
   "metadata": {
    "colab": {
     "base_uri": "https://localhost:8080/"
    },
    "id": "FUOH1fWxjUuf",
    "outputId": "efd6ba43-3cab-4180-b249-8d0f7ce8219e"
   },
   "outputs": [
    {
     "data": {
      "text/plain": [
       "False    60\n",
       "Name: predictions, dtype: int64"
      ]
     },
     "execution_count": 217,
     "metadata": {},
     "output_type": "execute_result"
    }
   ],
   "source": [
    "failed_predictions_mask = ~(\n",
    "    scored_testset.predictions.str.match(\"yes\")\n",
    "    | scored_testset.predictions.str.match(\"no\")\n",
    ")\n",
    "\n",
    "failed_predictions_mask.value_counts()"
   ]
  },
  {
   "cell_type": "code",
   "execution_count": 218,
   "metadata": {
    "colab": {
     "base_uri": "https://localhost:8080/"
    },
    "id": "ycBnLeV8i1pP",
    "outputId": "9ccba179-5b48-44ac-c068-f347557f13f3"
   },
   "outputs": [
    {
     "name": "stdout",
     "output_type": "stream",
     "text": [
      "Proportion of failed requests: 0.0 %\n"
     ]
    }
   ],
   "source": [
    "proportion_of_failed_predictions = failed_predictions_mask.sum() / len(\n",
    "    failed_predictions_mask\n",
    ")\n",
    "print(\n",
    "    \"Proportion of failed requests:\",\n",
    "    round(proportion_of_failed_predictions, 3) * 100,\n",
    "    \"%\",\n",
    ")"
   ]
  },
  {
   "cell_type": "markdown",
   "metadata": {
    "id": "-RPK4TbVoPNf"
   },
   "source": [
    "The next cell examines the failed requests. Some of the terms may have triggered safety filters, but this would require further investigation:"
   ]
  },
  {
   "cell_type": "code",
   "execution_count": 219,
   "metadata": {
    "colab": {
     "base_uri": "https://localhost:8080/",
     "height": 288
    },
    "id": "S_qPb_vslWJW",
    "outputId": "344d4238-58d9-449f-d790-33b70229b4b5"
   },
   "outputs": [
    {
     "data": {
      "text/html": [
       "<div>\n",
       "<style scoped>\n",
       "    .dataframe tbody tr th:only-of-type {\n",
       "        vertical-align: middle;\n",
       "    }\n",
       "\n",
       "    .dataframe tbody tr th {\n",
       "        vertical-align: top;\n",
       "    }\n",
       "\n",
       "    .dataframe thead th {\n",
       "        text-align: right;\n",
       "    }\n",
       "</style>\n",
       "<table border=\"1\" class=\"dataframe\">\n",
       "  <thead>\n",
       "    <tr style=\"text-align: right;\">\n",
       "      <th></th>\n",
       "      <th>description_1</th>\n",
       "      <th>description_2</th>\n",
       "      <th>match</th>\n",
       "      <th>predictions</th>\n",
       "    </tr>\n",
       "  </thead>\n",
       "  <tbody>\n",
       "  </tbody>\n",
       "</table>\n",
       "</div>"
      ],
      "text/plain": [
       "Empty DataFrame\n",
       "Columns: [description_1, description_2, match, predictions]\n",
       "Index: []"
      ]
     },
     "execution_count": 219,
     "metadata": {},
     "output_type": "execute_result"
    }
   ],
   "source": [
    "scored_testset[failed_predictions_mask]"
   ]
  },
  {
   "cell_type": "markdown",
   "metadata": {
    "id": "qk6s6IGwl-8G"
   },
   "source": [
    "## Accuracy on succeeded predictions"
   ]
  },
  {
   "cell_type": "markdown",
   "metadata": {
    "id": "UpBVT1BHoQ4Q"
   },
   "source": [
    "Let us now compute the model accuracy on the requests that succeeded. First, we remove all the failed requests from the test set:"
   ]
  },
  {
   "cell_type": "code",
   "execution_count": 220,
   "metadata": {
    "id": "zVlp6zALmKoI"
   },
   "outputs": [],
   "source": [
    "scored_testset_with_predictions = scored_testset[~failed_predictions_mask]"
   ]
  },
  {
   "cell_type": "markdown",
   "metadata": {
    "id": "f7y9biD8oRv6"
   },
   "source": [
    "Then, we compute the number of correct answers:"
   ]
  },
  {
   "cell_type": "code",
   "execution_count": 221,
   "metadata": {
    "colab": {
     "base_uri": "https://localhost:8080/"
    },
    "id": "sRHxZKsKmhdr",
    "outputId": "38cba053-6c71-4082-abbf-cbc3df513d5f"
   },
   "outputs": [
    {
     "data": {
      "text/plain": [
       "True    60\n",
       "dtype: int64"
      ]
     },
     "execution_count": 221,
     "metadata": {},
     "output_type": "execute_result"
    }
   ],
   "source": [
    "is_prediction_correct = (\n",
    "    scored_testset_with_predictions.match\n",
    "    == scored_testset_with_predictions.predictions\n",
    ")\n",
    "is_prediction_correct.value_counts()"
   ]
  },
  {
   "cell_type": "markdown",
   "metadata": {
    "id": "pmIQG6wKoU1t"
   },
   "source": [
    "The accuracy of our model is the number of correct answers divided by the number of predictions that succeeded. In this case, the accuracy is roughly 98%.\n"
   ]
  },
  {
   "cell_type": "code",
   "execution_count": 222,
   "metadata": {
    "colab": {
     "base_uri": "https://localhost:8080/"
    },
    "id": "5mqT9KBkm-T8",
    "outputId": "f0dc6dec-04c4-4fbd-82fc-ec1e9ea53b49"
   },
   "outputs": [
    {
     "name": "stdout",
     "output_type": "stream",
     "text": [
      "Model accuracy: 1.0\n"
     ]
    }
   ],
   "source": [
    "model_accuracy = is_prediction_correct.sum() / len(is_prediction_correct)\n",
    "print(\"Model accuracy:\", round(model_accuracy, 3))"
   ]
  },
  {
   "cell_type": "markdown",
   "metadata": {
    "id": "b7gZsn0KoWE0"
   },
   "source": [
    "Actually, for our small test set of 56 examples, this corresponds to our model having made only a single error:"
   ]
  },
  {
   "cell_type": "code",
   "execution_count": 223,
   "metadata": {
    "id": "1ZCP5TiRmqvV"
   },
   "outputs": [],
   "source": [
    "uncorrect_predictions_mask = (\n",
    "    scored_testset_with_predictions.match\n",
    "    != scored_testset_with_predictions.predictions\n",
    ")"
   ]
  },
  {
   "cell_type": "markdown",
   "metadata": {
    "id": "XCzzNyvjoW2T"
   },
   "source": [
    "If we inspect that error, we see that our model may have been correct:"
   ]
  },
  {
   "cell_type": "code",
   "execution_count": 224,
   "metadata": {
    "colab": {
     "base_uri": "https://localhost:8080/",
     "height": 81
    },
    "id": "137ZK-JynJhB",
    "outputId": "30e896d5-bd20-4cb0-e0c6-17803f3f5acd"
   },
   "outputs": [
    {
     "data": {
      "text/html": [
       "<div>\n",
       "<style scoped>\n",
       "    .dataframe tbody tr th:only-of-type {\n",
       "        vertical-align: middle;\n",
       "    }\n",
       "\n",
       "    .dataframe tbody tr th {\n",
       "        vertical-align: top;\n",
       "    }\n",
       "\n",
       "    .dataframe thead th {\n",
       "        text-align: right;\n",
       "    }\n",
       "</style>\n",
       "<table border=\"1\" class=\"dataframe\">\n",
       "  <thead>\n",
       "    <tr style=\"text-align: right;\">\n",
       "      <th></th>\n",
       "      <th>description_1</th>\n",
       "      <th>description_2</th>\n",
       "      <th>match</th>\n",
       "      <th>predictions</th>\n",
       "    </tr>\n",
       "  </thead>\n",
       "  <tbody>\n",
       "  </tbody>\n",
       "</table>\n",
       "</div>"
      ],
      "text/plain": [
       "Empty DataFrame\n",
       "Columns: [description_1, description_2, match, predictions]\n",
       "Index: []"
      ]
     },
     "execution_count": 224,
     "metadata": {},
     "output_type": "execute_result"
    }
   ],
   "source": [
    "scored_testset_with_predictions[uncorrect_predictions_mask]"
   ]
  },
  {
   "cell_type": "markdown",
   "metadata": {},
   "source": [
    "Copyright 2023 Google Inc. Licensed under the Apache License, Version 2.0 (the \"License\"); you may not use this file except in compliance with the License. You may obtain a copy of the License at http://www.apache.org/licenses/LICENSE-2.0 Unless required by applicable law or agreed to in writing, software distributed under the License is distributed on an \"AS IS\" BASIS, WITHOUT WARRANTIES OR CONDITIONS OF ANY KIND, either express or implied. See the License for the specific language governing permissions and limitations under the License"
   ]
  }
 ],
 "metadata": {
  "colab": {
   "provenance": []
  },
  "environment": {
   "kernel": "python3",
   "name": "tf2-gpu.2-11.m109",
   "type": "gcloud",
   "uri": "gcr.io/deeplearning-platform-release/tf2-gpu.2-11:m109"
  },
  "kernelspec": {
   "display_name": "Python 3",
   "language": "python",
   "name": "python3"
  },
  "language_info": {
   "codemirror_mode": {
    "name": "ipython",
    "version": 3
   },
   "file_extension": ".py",
   "mimetype": "text/x-python",
   "name": "python",
   "nbconvert_exporter": "python",
   "pygments_lexer": "ipython3",
   "version": "3.10.11"
  }
 },
 "nbformat": 4,
 "nbformat_minor": 4
}
