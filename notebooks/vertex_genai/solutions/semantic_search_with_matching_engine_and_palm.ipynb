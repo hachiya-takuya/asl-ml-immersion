{
 "cells": [
  {
   "cell_type": "markdown",
   "id": "92f0e28c-799f-4176-90db-5b4a53ebc6ab",
   "metadata": {},
   "source": [
    "# Semantic Search with Matching Engine and PaLM Embeddings\n",
    "\n",
    "**Learning Objectives**\n",
    "  1. Learn how to create text embeddings using the Vertex PaLM API\n",
    "  1. Learn how to load embeddings in Vertex Matching Engine\n",
    "  2. Learn how to query Vertex Matching Engine\n",
    "  1. Learn how to build an information retrieval system based on semantic match\n",
    "  \n",
    "  \n",
    "In this notebook, we implement a simple (albeit fast and scalable) [semantic search](https://en.wikipedia.org/wiki/Semantic_search#:~:text=Semantic%20search%20seeks%20to%20improve,to%20generate%20more%20relevant%20results.) retrieval system using [Vertex Matching Engine](https://cloud.google.com/vertex-ai/docs/matching-engine/overview) and [Vertex PaLM Embeddings](https://cloud.google.com/vertex-ai/docs/generative-ai/embeddings/get-text-embeddings). In a semantic search system, a number of documents are returned to a user query, ranked by their semantic match. This means that the returned documents should match the intent or meaning of the query rather than the its actual exact  keywords as opposed to a boolean or keyword-based retrieval system. Such a semantic search system has in general two components, namely:\n",
    "\n",
    "* A component that produces semantically meaningful vector representations of both the documents as well as the user queries; we will use the [Vertex PaLM Embeddings](https://cloud.google.com/vertex-ai/docs/generative-ai/embeddings/get-text-embeddings) API to creates these embbedings, leveraging the power of the [PaLM](https://ai.googleblog.com/2022/04/pathways-language-model-palm-scaling-to.html) large language model developped at Google. \n",
    "\n",
    "* A component that allows users to store the document vector embeddings and retrieve the most relevant documents by returning the documents whose embeddings are the closest to the user-query emebedding in the embedding space. We will use [Vertex Matching Engine](https://cloud.google.com/vertex-ai/docs/matching-engine/overview) which can scale up to billions of embeddings thanks to an [efficient approximate neighest neigbor strategy](https://ai.googleblog.com/2020/07/announcing-scann-efficient-vector.html) to compare and retrieve the closest document vectors to a query vector based on a [recent paper from Google research](https://arxiv.org/abs/1908.10396).\n",
    "\n",
    "\n",
    "\n",
    "**Dataset:** We will use a very small subset of the [COVID-19 Open Research Dataset Challenge (CORD-19)\n",
    "](https://www.kaggle.com/datasets/allen-institute-for-ai/CORD-19-research-challenge), which contains around 1 million of medical research papers focused on COVID 19. We will focus on only 4000 title, abstract, and url from 2021 only for the sake of speed."
   ]
  },
  {
   "cell_type": "markdown",
   "id": "9f75e37a-b298-45db-96e5-8ab75aa7efa0",
   "metadata": {},
   "source": [
    "## Setup "
   ]
  },
  {
   "cell_type": "code",
   "execution_count": 8,
   "id": "f319c211-03fe-4265-aa61-ee7b9a0f71c8",
   "metadata": {},
   "outputs": [],
   "source": [
    "import os\n",
    "import json\n",
    "\n",
    "from IPython import display\n",
    "import pandas as pd\n",
    "from google.cloud import aiplatform\n",
    "from vertexai.language_models import TextEmbeddingModel"
   ]
  },
  {
   "cell_type": "code",
   "execution_count": 4,
   "id": "4ddaf916-96df-4da8-be80-4ba9dd6fa619",
   "metadata": {},
   "outputs": [],
   "source": [
    "REGION = \"us-central1\"\n",
    "PROJECT = !(gcloud config get-value core/project)\n",
    "PROJECT = PROJECT[0]\n",
    "BUCKET = f\"{PROJECT}-cord19-matching\"\n",
    "\n",
    "# Do not change these\n",
    "os.environ[\"PROJECT\"] = PROJECT\n",
    "os.environ[\"BUCKET\"] = BUCKET\n",
    "os.environ[\"REGION\"] = REGION"
   ]
  },
  {
   "cell_type": "code",
   "execution_count": 5,
   "id": "018c5c0a-aa15-47be-808f-e34c856b7659",
   "metadata": {},
   "outputs": [
    {
     "name": "stdout",
     "output_type": "stream",
     "text": [
      "BucketNotFoundException: 404 gs://dherin-dev-cord19-matching bucket does not exist.\n",
      "Creating gs://dherin-dev-cord19-matching/...\n"
     ]
    }
   ],
   "source": [
    "!gsutil ls gs://{BUCKET} || gsutil mb -l {REGION} gs://{BUCKET}"
   ]
  },
  {
   "cell_type": "markdown",
   "id": "21881016-af83-4b9a-b9c4-a097440f269b",
   "metadata": {},
   "source": [
    "## Loading the data"
   ]
  },
  {
   "cell_type": "markdown",
   "id": "1b2187f1-072a-44b1-83af-f3fe5f0f3710",
   "metadata": {},
   "source": [
    "The dataset we will use is the title, abstract, and url metadata of a 4000 samples from the ~1 million medical papers in the [COVID-19 Open Research Dataset Challenge (CORD-19)\n",
    "](https://www.kaggle.com/datasets/allen-institute-for-ai/CORD-19-research-challenge). In this lab, we use the astract as the documents, on which to compute and store the embeddings.  "
   ]
  },
  {
   "cell_type": "code",
   "execution_count": 6,
   "id": "3e9e5f77-baea-403b-8387-5be599b87519",
   "metadata": {},
   "outputs": [
    {
     "data": {
      "text/html": [
       "<div>\n",
       "<style scoped>\n",
       "    .dataframe tbody tr th:only-of-type {\n",
       "        vertical-align: middle;\n",
       "    }\n",
       "\n",
       "    .dataframe tbody tr th {\n",
       "        vertical-align: top;\n",
       "    }\n",
       "\n",
       "    .dataframe thead th {\n",
       "        text-align: right;\n",
       "    }\n",
       "</style>\n",
       "<table border=\"1\" class=\"dataframe\">\n",
       "  <thead>\n",
       "    <tr style=\"text-align: right;\">\n",
       "      <th></th>\n",
       "      <th>title</th>\n",
       "      <th>abstract</th>\n",
       "      <th>url</th>\n",
       "    </tr>\n",
       "  </thead>\n",
       "  <tbody>\n",
       "    <tr>\n",
       "      <th>0</th>\n",
       "      <td>Ethnobotanical and ethnomedicinal analysis of ...</td>\n",
       "      <td>Algerian people largely rely on traditional me...</td>\n",
       "      <td>https://www.ncbi.nlm.nih.gov/pubmed/34131369/;...</td>\n",
       "    </tr>\n",
       "    <tr>\n",
       "      <th>1</th>\n",
       "      <td>1.9 Adolescents in Crisis: Psychological Impac...</td>\n",
       "      <td>NaN</td>\n",
       "      <td>https://doi.org/10.1016/j.jaac.2021.09.022; ht...</td>\n",
       "    </tr>\n",
       "    <tr>\n",
       "      <th>2</th>\n",
       "      <td>Myopericarditis in a previously healthy adoles...</td>\n",
       "      <td>We report the case of a previously healthy 16‐...</td>\n",
       "      <td>https://www.ncbi.nlm.nih.gov/pubmed/34133825/;...</td>\n",
       "    </tr>\n",
       "    <tr>\n",
       "      <th>3</th>\n",
       "      <td>Religious Support as a Contribution to Face th...</td>\n",
       "      <td>Coping with the COVID-19 pandemic has required...</td>\n",
       "      <td>https://www.ncbi.nlm.nih.gov/pubmed/33405093/;...</td>\n",
       "    </tr>\n",
       "    <tr>\n",
       "      <th>4</th>\n",
       "      <td>The urgency of resuming disrupted dog rabies v...</td>\n",
       "      <td>OBJECTIVE: Dog vaccination is a cost-effective...</td>\n",
       "      <td>http://medrxiv.org/cgi/content/short/2021.04.2...</td>\n",
       "    </tr>\n",
       "  </tbody>\n",
       "</table>\n",
       "</div>"
      ],
      "text/plain": [
       "                                               title  \\\n",
       "0  Ethnobotanical and ethnomedicinal analysis of ...   \n",
       "1  1.9 Adolescents in Crisis: Psychological Impac...   \n",
       "2  Myopericarditis in a previously healthy adoles...   \n",
       "3  Religious Support as a Contribution to Face th...   \n",
       "4  The urgency of resuming disrupted dog rabies v...   \n",
       "\n",
       "                                            abstract  \\\n",
       "0  Algerian people largely rely on traditional me...   \n",
       "1                                                NaN   \n",
       "2  We report the case of a previously healthy 16‐...   \n",
       "3  Coping with the COVID-19 pandemic has required...   \n",
       "4  OBJECTIVE: Dog vaccination is a cost-effective...   \n",
       "\n",
       "                                                 url  \n",
       "0  https://www.ncbi.nlm.nih.gov/pubmed/34131369/;...  \n",
       "1  https://doi.org/10.1016/j.jaac.2021.09.022; ht...  \n",
       "2  https://www.ncbi.nlm.nih.gov/pubmed/34133825/;...  \n",
       "3  https://www.ncbi.nlm.nih.gov/pubmed/33405093/;...  \n",
       "4  http://medrxiv.org/cgi/content/short/2021.04.2...  "
      ]
     },
     "execution_count": 6,
     "metadata": {},
     "output_type": "execute_result"
    }
   ],
   "source": [
    "metadata = pd.read_csv('../data/cord19_metadata_sample.csv.gz')\n",
    "metadata.head()"
   ]
  },
  {
   "cell_type": "markdown",
   "id": "db134b0d-9baa-47d9-b8a7-ba74e904eb50",
   "metadata": {},
   "source": [
    "## Creating the embeddings"
   ]
  },
  {
   "cell_type": "markdown",
   "id": "59422c52-0aae-420a-b1a2-0c54824afccc",
   "metadata": {},
   "source": [
    "The first thing to do to create embedding vectors for our 4000 abstracts. For that, we need to first instanciate the `TextEmbeddingModel` client with the appropriate version of the PaLM model, which is `textembedding-gecko` for embeddings. It is a smaller version than for text (`text-bison`) and chat (`chat-bison`) generation, and it allows for a faster processing time:"
   ]
  },
  {
   "cell_type": "code",
   "execution_count": 9,
   "id": "5a7a4a16-6015-4a11-b034-c0807bace95c",
   "metadata": {},
   "outputs": [],
   "source": [
    "model = TextEmbeddingModel.from_pretrained(\"textembedding-gecko@001\")"
   ]
  },
  {
   "cell_type": "markdown",
   "id": "52cae5f0-436f-4351-8ba3-3dc53fdf6488",
   "metadata": {},
   "source": [
    "The embedding model can take up to a list of 5 text to process at a single time. Because of that, we will iterate over the `metadata.abstract`'s in batches of 5 and feed these batches to `model.get_embbedings` to create the embeddings of all the 4000 abstracts, which we will then store in the list `vectors`. Running the next cell will take a couple of minutes:"
   ]
  },
  {
   "cell_type": "code",
   "execution_count": 10,
   "id": "d59bb0fa-79f7-4817-8652-7f56f42786f6",
   "metadata": {},
   "outputs": [],
   "source": [
    "MAX_BATCH_SIZE = 5\n",
    "vectors = []\n",
    "\n",
    "for i in range(0, len(metadata), MAX_BATCH_SIZE):\n",
    "    batch = metadata.abstract[i: i + MAX_BATCH_SIZE]\n",
    "    embeddings = model.get_embeddings(batch)\n",
    "    vectors.extend([embedding.values for embedding in embeddings])"
   ]
  },
  {
   "cell_type": "markdown",
   "id": "f6109de9-2a7f-43aa-b70f-4496ad50be5c",
   "metadata": {},
   "source": [
    "## Creating the matching engine input file"
   ]
  },
  {
   "cell_type": "markdown",
   "id": "c80d8533-d98c-41a6-b5b3-36634c3525a1",
   "metadata": {},
   "source": [
    "At this point, our 4000 abstract embeddings are stored in memory in the `vectors` list. To store these embeddings into [Vertex Matching Engine](https://cloud.google.com/vertex-ai/docs/matching-engine/overview), we need to serialized them into a JSON file with the [following format](https://cloud.google.com/vertex-ai/docs/matching-engine/match-eng-setup/format-structure):\n",
    "\n",
    "```python\n",
    "{\"id\": <DOCUMENT_ID1>, \"embedding\": [0.1, ..., -0.7]}\n",
    "{\"id\": <DOCUMENT_ID2>, \"embedding\": [-0.4, ..., 0.8]}\n",
    "etc.\n",
    "```\n",
    "where the value of the `id` field should be an indentifier allowing us to retrieve the actual document from a separate source, and the value of `embedding` is the vector returned by the PaLM API. \n",
    "\n",
    "For the document `id` we simply use here the row index in the `metadata` DataFrame, which will serve as our in-memory document store. This makes it particularly easy to retrieve the astract, title and url from an `id` returned by the matching engine:\n",
    "\n",
    "```python\n",
    "metadata.abstract[id]\n",
    "metadata.title[id]\n",
    "metadata.url[id]\n",
    "```"
   ]
  },
  {
   "cell_type": "markdown",
   "id": "618ac408-ea19-4350-b708-467dd4c392f4",
   "metadata": {},
   "source": [
    "The next cell iterates over `vectors` appending for each entry a JSON line as above to `cord19_embeddings.json` containing the index of the abstract in `metadata` as well as the embedding vector returned by PaLM:"
   ]
  },
  {
   "cell_type": "code",
   "execution_count": 12,
   "id": "c85de3f2-9a4b-4b26-85b5-7f07d4e0c712",
   "metadata": {},
   "outputs": [],
   "source": [
    "embeddings_file_path = \"cord19_embeddings.json\"\n",
    "\n",
    "# Removing the embedding file if it already exists\n",
    "!test -f {embeddings_file_path} && rm {embeddings_file_path}\n",
    "\n",
    "with open(embeddings_file_path, 'a') as embeddings_file:    \n",
    "    for i, embedding in enumerate(vectors):\n",
    "        json_line = json.dumps(\n",
    "            {\n",
    "                \"id\": i,\n",
    "                \"embedding\": embedding\n",
    "            }\n",
    "        ) + '\\n'\n",
    "        embeddings_file.writelines(json_line)"
   ]
  },
  {
   "cell_type": "markdown",
   "id": "1e752f01-f353-4887-b15b-0d025bef04d6",
   "metadata": {},
   "source": [
    "Let us verify that our embedding file has 4000 lines, one per abstract, and then let us save it to a GCS bucket:"
   ]
  },
  {
   "cell_type": "code",
   "execution_count": 49,
   "id": "373e23c1-b96f-4749-99ce-8c95df337650",
   "metadata": {},
   "outputs": [
    {
     "name": "stdout",
     "output_type": "stream",
     "text": [
      "4000 cord19_embeddings.json\n"
     ]
    }
   ],
   "source": [
    "!wc -l {embeddings_file_path}"
   ]
  },
  {
   "cell_type": "code",
   "execution_count": 13,
   "id": "0fa3d22b-da6b-4eab-9f8d-210e7394d83f",
   "metadata": {},
   "outputs": [
    {
     "name": "stdout",
     "output_type": "stream",
     "text": [
      "Copying file://cord19_embeddings.json [Content-Type=application/json]...\n",
      "- [1 files][ 64.9 MiB/ 64.9 MiB]                                                \n",
      "Operation completed over 1 objects/64.9 MiB.                                     \n"
     ]
    }
   ],
   "source": [
    "EMBEDDINGS_URI = f\"gs://{BUCKET}\"\n",
    "\n",
    "!gsutil cp {embeddings_file_path} {EMBEDDINGS_URI}"
   ]
  },
  {
   "cell_type": "markdown",
   "id": "220b10e1-ad07-40e0-bfa3-38ed4ed8ce8c",
   "metadata": {},
   "source": [
    "## Creating the matching engine index"
   ]
  },
  {
   "cell_type": "code",
   "execution_count": 14,
   "id": "a9e4ac9c-d0b1-4673-bab1-6f60e86b48d8",
   "metadata": {},
   "outputs": [
    {
     "name": "stdout",
     "output_type": "stream",
     "text": [
      "Creating MatchingEngineIndex\n",
      "Create MatchingEngineIndex backing LRO: projects/115851500182/locations/us-central1/indexes/6107013036109725696/operations/263368975138684928\n",
      "MatchingEngineIndex created. Resource name: projects/115851500182/locations/us-central1/indexes/6107013036109725696\n",
      "To use this MatchingEngineIndex in another session:\n",
      "index = aiplatform.MatchingEngineIndex('projects/115851500182/locations/us-central1/indexes/6107013036109725696')\n"
     ]
    }
   ],
   "source": [
    "DISPLAY_NAME = \"cord19_palm_embeddings\"\n",
    "\n",
    "matching_engine_index = aiplatform.MatchingEngineIndex.create_tree_ah_index(\n",
    "    display_name=DISPLAY_NAME,\n",
    "    contents_delta_uri=EMBEDDINGS_URI,\n",
    "    dimensions=len(vectors[0]),\n",
    "    approximate_neighbors_count=150,\n",
    "    distance_measure_type=\"COSINE_DISTANCE\",\n",
    "    leaf_node_embedding_count=500,\n",
    "    leaf_nodes_to_search_percent=7,\n",
    "    description=DISPLAY_NAME,\n",
    ")"
   ]
  },
  {
   "cell_type": "code",
   "execution_count": 16,
   "id": "71bb86d7-680f-44a2-9472-105e159eb1aa",
   "metadata": {},
   "outputs": [
    {
     "name": "stdout",
     "output_type": "stream",
     "text": [
      "projects/115851500182/locations/us-central1/indexes/6107013036109725696\n"
     ]
    }
   ],
   "source": [
    "INDEX_RESOURCE_NAME = matching_engine_index.resource_name\n",
    "\n",
    "print(INDEX_RESOURCE_NAME)"
   ]
  },
  {
   "cell_type": "code",
   "execution_count": 17,
   "id": "38d0a525-3d12-4848-ad7f-99772cdb2f18",
   "metadata": {},
   "outputs": [],
   "source": [
    "matching_engine_index = aiplatform.MatchingEngineIndex(index_name=INDEX_RESOURCE_NAME)"
   ]
  },
  {
   "cell_type": "code",
   "execution_count": 18,
   "id": "7aaaeff3-d227-4d2b-817a-07cc09ca9dac",
   "metadata": {},
   "outputs": [
    {
     "name": "stdout",
     "output_type": "stream",
     "text": [
      "Creating MatchingEngineIndexEndpoint\n",
      "Create MatchingEngineIndexEndpoint backing LRO: projects/115851500182/locations/us-central1/indexEndpoints/3039850583637884928/operations/4325826945259405312\n",
      "MatchingEngineIndexEndpoint created. Resource name: projects/115851500182/locations/us-central1/indexEndpoints/3039850583637884928\n",
      "To use this MatchingEngineIndexEndpoint in another session:\n",
      "index_endpoint = aiplatform.MatchingEngineIndexEndpoint('projects/115851500182/locations/us-central1/indexEndpoints/3039850583637884928')\n"
     ]
    }
   ],
   "source": [
    "matching_engine_endpoint = aiplatform.MatchingEngineIndexEndpoint.create(\n",
    "    display_name=DISPLAY_NAME,\n",
    "    description=DISPLAY_NAME,\n",
    "    public_endpoint_enabled=True,\n",
    ")"
   ]
  },
  {
   "cell_type": "code",
   "execution_count": 21,
   "id": "8ed429a5-05ce-4a90-aef3-4ed0c84e4f1f",
   "metadata": {},
   "outputs": [],
   "source": [
    "DEPLOYED_INDEX_ID = \"cord19_deployed_index\""
   ]
  },
  {
   "cell_type": "code",
   "execution_count": 22,
   "id": "90ccef87-6ddc-434e-8292-4bb0a0848631",
   "metadata": {},
   "outputs": [
    {
     "name": "stdout",
     "output_type": "stream",
     "text": [
      "Deploying index MatchingEngineIndexEndpoint index_endpoint: projects/115851500182/locations/us-central1/indexEndpoints/3039850583637884928\n",
      "Deploy index MatchingEngineIndexEndpoint index_endpoint backing LRO: projects/115851500182/locations/us-central1/indexEndpoints/3039850583637884928/operations/7558285577804578816\n",
      "MatchingEngineIndexEndpoint index_endpoint Deployed index. Resource name: projects/115851500182/locations/us-central1/indexEndpoints/3039850583637884928\n"
     ]
    },
    {
     "data": {
      "text/plain": [
       "[id: \"cord19_deployed_index\"\n",
       "index: \"projects/115851500182/locations/us-central1/indexes/6107013036109725696\"\n",
       "create_time {\n",
       "  seconds: 1692234125\n",
       "  nanos: 911413000\n",
       "}\n",
       "index_sync_time {\n",
       "  seconds: 1692235063\n",
       "  nanos: 407296000\n",
       "}\n",
       "automatic_resources {\n",
       "  min_replica_count: 2\n",
       "  max_replica_count: 2\n",
       "}\n",
       "deployment_group: \"default\"\n",
       "]"
      ]
     },
     "execution_count": 22,
     "metadata": {},
     "output_type": "execute_result"
    }
   ],
   "source": [
    "matching_engine = matching_engine_endpoint.deploy_index(\n",
    "    index=matching_engine_index, deployed_index_id=DEPLOYED_INDEX_ID\n",
    ")\n",
    "\n",
    "matching_engine.deployed_indexes"
   ]
  },
  {
   "cell_type": "markdown",
   "id": "cf96414f-80ef-480a-a3a3-c69389da8fd9",
   "metadata": {},
   "source": [
    "## Querying Matching Engine"
   ]
  },
  {
   "cell_type": "code",
   "execution_count": 44,
   "id": "d7b7a045-0721-4e2f-9601-3254b35d6d2a",
   "metadata": {},
   "outputs": [],
   "source": [
    "QUERY = \"prophylactic measures\"\n",
    "\n",
    "text_embeddings = [\n",
    "    vector.values \n",
    "    for vector in model.get_embeddings([QUERY])\n",
    "]"
   ]
  },
  {
   "cell_type": "code",
   "execution_count": 45,
   "id": "5cd67c63-9278-46e2-b343-d731c64ae9c4",
   "metadata": {},
   "outputs": [
    {
     "data": {
      "text/plain": [
       "[[MatchNeighbor(id='1264', distance=0.3265237808227539),\n",
       "  MatchNeighbor(id='2314', distance=0.3303952217102051),\n",
       "  MatchNeighbor(id='896', distance=0.33482474088668823),\n",
       "  MatchNeighbor(id='1949', distance=0.3377643823623657),\n",
       "  MatchNeighbor(id='2035', distance=0.34422242641448975),\n",
       "  MatchNeighbor(id='2217', distance=0.34488797187805176),\n",
       "  MatchNeighbor(id='1539', distance=0.3458418846130371),\n",
       "  MatchNeighbor(id='1568', distance=0.3460204601287842),\n",
       "  MatchNeighbor(id='2106', distance=0.3461019992828369),\n",
       "  MatchNeighbor(id='603', distance=0.34620773792266846)]]"
      ]
     },
     "execution_count": 45,
     "metadata": {},
     "output_type": "execute_result"
    }
   ],
   "source": [
    "# Define number of neighbors to return\n",
    "NUM_NEIGHBORS = 10\n",
    "\n",
    "response = matching_engine.find_neighbors(\n",
    "    deployed_index_id=DEPLOYED_INDEX_ID,\n",
    "    queries=text_embeddings,\n",
    "    num_neighbors=NUM_NEIGHBORS,\n",
    ")\n",
    "\n",
    "response"
   ]
  },
  {
   "cell_type": "code",
   "execution_count": 46,
   "id": "4eb86676-d091-48d2-9d1a-10a5f4b952d1",
   "metadata": {},
   "outputs": [
    {
     "data": {
      "text/html": [
       "<div>\n",
       "<style scoped>\n",
       "    .dataframe tbody tr th:only-of-type {\n",
       "        vertical-align: middle;\n",
       "    }\n",
       "\n",
       "    .dataframe tbody tr th {\n",
       "        vertical-align: top;\n",
       "    }\n",
       "\n",
       "    .dataframe thead th {\n",
       "        text-align: right;\n",
       "    }\n",
       "</style>\n",
       "<table border=\"1\" class=\"dataframe\">\n",
       "  <thead>\n",
       "    <tr style=\"text-align: right;\">\n",
       "      <th></th>\n",
       "      <th>distance</th>\n",
       "      <th>title</th>\n",
       "      <th>abstract</th>\n",
       "      <th>url</th>\n",
       "    </tr>\n",
       "  </thead>\n",
       "  <tbody>\n",
       "    <tr>\n",
       "      <th>0</th>\n",
       "      <td>0.326524</td>\n",
       "      <td>MEDIDAS DE BIOSSEGURANÇA PARA ENFRENTAMENTO AO...</td>\n",
       "      <td>Introdução A doença coronavírus 2019 (COVID-19...</td>\n",
       "      <td>https://api.elsevier.com/content/article/pii/S...</td>\n",
       "    </tr>\n",
       "    <tr>\n",
       "      <th>1</th>\n",
       "      <td>0.330395</td>\n",
       "      <td>Prevention of viral infections in solid organ ...</td>\n",
       "      <td>INTRODUCTION In solid organ transplant (SOT) r...</td>\n",
       "      <td>https://www.ncbi.nlm.nih.gov/pubmed/34854329/;...</td>\n",
       "    </tr>\n",
       "    <tr>\n",
       "      <th>2</th>\n",
       "      <td>0.334825</td>\n",
       "      <td>Psychological aspects of pain prevention</td>\n",
       "      <td>How to prevent the onset, maintenance, or exac...</td>\n",
       "      <td>https://www.ncbi.nlm.nih.gov/pubmed/33977186/;...</td>\n",
       "    </tr>\n",
       "    <tr>\n",
       "      <th>3</th>\n",
       "      <td>0.337764</td>\n",
       "      <td>Protective measures against COVID-19 and the b...</td>\n",
       "      <td>The present study sought to develop a conceptu...</td>\n",
       "      <td>https://www.sciencedirect.com/science/article/...</td>\n",
       "    </tr>\n",
       "    <tr>\n",
       "      <th>4</th>\n",
       "      <td>0.344222</td>\n",
       "      <td>Interplay between risk perception, behaviour, ...</td>\n",
       "      <td>Pharmaceutical and non-pharmaceutical interven...</td>\n",
       "      <td>https://arxiv.org/pdf/2112.12062v2.pdf; https:...</td>\n",
       "    </tr>\n",
       "    <tr>\n",
       "      <th>5</th>\n",
       "      <td>0.344888</td>\n",
       "      <td>Change in Pediatric Health Care Spending and D...</td>\n",
       "      <td>Objective: To evaluate how the restrictive mea...</td>\n",
       "      <td>https://www.ncbi.nlm.nih.gov/pubmed/34943379/;...</td>\n",
       "    </tr>\n",
       "    <tr>\n",
       "      <th>6</th>\n",
       "      <td>0.345842</td>\n",
       "      <td>Severe acute respiratory syndrome coronavirus-...</td>\n",
       "      <td>Understanding infections related to handling h...</td>\n",
       "      <td>https://www.ncbi.nlm.nih.gov/pubmed/33657925/;...</td>\n",
       "    </tr>\n",
       "    <tr>\n",
       "      <th>7</th>\n",
       "      <td>0.346020</td>\n",
       "      <td>The Importance of Understanding COVID-19: The ...</td>\n",
       "      <td>Background: Past research suggests that knowle...</td>\n",
       "      <td>https://www.ncbi.nlm.nih.gov/pubmed/33889557/;...</td>\n",
       "    </tr>\n",
       "    <tr>\n",
       "      <th>8</th>\n",
       "      <td>0.346102</td>\n",
       "      <td>Lesson learned from the pandemic: Isolation an...</td>\n",
       "      <td>INTRODUCTION It was previously demonstrated th...</td>\n",
       "      <td>https://doi.org/10.1177/10781552211043836; htt...</td>\n",
       "    </tr>\n",
       "    <tr>\n",
       "      <th>9</th>\n",
       "      <td>0.346208</td>\n",
       "      <td>Mosques in Japan responding to COVID-19 pandem...</td>\n",
       "      <td>Religious activities tend to be conducted in e...</td>\n",
       "      <td>https://api.elsevier.com/content/article/pii/S...</td>\n",
       "    </tr>\n",
       "  </tbody>\n",
       "</table>\n",
       "</div>"
      ],
      "text/plain": [
       "   distance                                              title  \\\n",
       "0  0.326524  MEDIDAS DE BIOSSEGURANÇA PARA ENFRENTAMENTO AO...   \n",
       "1  0.330395  Prevention of viral infections in solid organ ...   \n",
       "2  0.334825           Psychological aspects of pain prevention   \n",
       "3  0.337764  Protective measures against COVID-19 and the b...   \n",
       "4  0.344222  Interplay between risk perception, behaviour, ...   \n",
       "5  0.344888  Change in Pediatric Health Care Spending and D...   \n",
       "6  0.345842  Severe acute respiratory syndrome coronavirus-...   \n",
       "7  0.346020  The Importance of Understanding COVID-19: The ...   \n",
       "8  0.346102  Lesson learned from the pandemic: Isolation an...   \n",
       "9  0.346208  Mosques in Japan responding to COVID-19 pandem...   \n",
       "\n",
       "                                            abstract  \\\n",
       "0  Introdução A doença coronavírus 2019 (COVID-19...   \n",
       "1  INTRODUCTION In solid organ transplant (SOT) r...   \n",
       "2  How to prevent the onset, maintenance, or exac...   \n",
       "3  The present study sought to develop a conceptu...   \n",
       "4  Pharmaceutical and non-pharmaceutical interven...   \n",
       "5  Objective: To evaluate how the restrictive mea...   \n",
       "6  Understanding infections related to handling h...   \n",
       "7  Background: Past research suggests that knowle...   \n",
       "8  INTRODUCTION It was previously demonstrated th...   \n",
       "9  Religious activities tend to be conducted in e...   \n",
       "\n",
       "                                                 url  \n",
       "0  https://api.elsevier.com/content/article/pii/S...  \n",
       "1  https://www.ncbi.nlm.nih.gov/pubmed/34854329/;...  \n",
       "2  https://www.ncbi.nlm.nih.gov/pubmed/33977186/;...  \n",
       "3  https://www.sciencedirect.com/science/article/...  \n",
       "4  https://arxiv.org/pdf/2112.12062v2.pdf; https:...  \n",
       "5  https://www.ncbi.nlm.nih.gov/pubmed/34943379/;...  \n",
       "6  https://www.ncbi.nlm.nih.gov/pubmed/33657925/;...  \n",
       "7  https://www.ncbi.nlm.nih.gov/pubmed/33889557/;...  \n",
       "8  https://doi.org/10.1177/10781552211043836; htt...  \n",
       "9  https://api.elsevier.com/content/article/pii/S...  "
      ]
     },
     "execution_count": 46,
     "metadata": {},
     "output_type": "execute_result"
    }
   ],
   "source": [
    "matched_ids = [int(match.id) for match in response[0]]\n",
    "matched_distances = [match.distance for match in response[0]]\n",
    "matched_titles = [metadata.title[i] for i in matched_ids]\n",
    "matched_abstracts = [metadata.abstract[i] for i in matched_ids]\n",
    "matched_urls = [metadata.url[i] for i in matched_ids]\n",
    "\n",
    "matches = pd.DataFrame({\n",
    "    \"distance\": matched_distances,\n",
    "    \"title\": matched_titles,\n",
    "    \"abstract\": matched_abstracts,\n",
    "    \"url\": matched_urls\n",
    "})\n",
    "matches"
   ]
  },
  {
   "cell_type": "code",
   "execution_count": 47,
   "id": "1d51e621-4cee-4f77-b876-b82ac369cd2e",
   "metadata": {},
   "outputs": [
    {
     "data": {
      "text/html": [
       "<html><body><ol>            \n",
       "    <li> \n",
       "        <article>\n",
       "            <header>\n",
       "                <a href=\"https://api.elsevier.com/content/article/pii/S2531137921010877; https://www.sciencedirect.com/science/article/pii/S2531137921010877\"> <h2>MEDIDAS DE BIOSSEGURANÇA PARA ENFRENTAMENTO AO COVID: UM RELATO DE EXPERIÊNCIA DE UM HEMOCENTRO DE FORTALEZA</h2></a>\n",
       "            </header>\n",
       "            <p>Introdução A doença coronavírus 2019 (COVID-19) é uma infecção respiratória causada pelo coronavírus 2 da síndrome respiratória aguda grave (SARS-CoV-2), com uma gravidade dos sintomas que varia de uma doença leve a uma pneumonia viral grave que leva à síndrome do desconforto respiratório agudo potencialmente fatal. Os sintomas mais comuns são: febre, tosse, dispneia, mialgia e cansaço. A taxa de letalidade é baixa nas faixas etárias mais baixas e aumenta após os 60 anos de idade. Alguns estudos apontam que o vírus SARS-CoV-2 pode sobreviver em superfícies por vários dias, dependendo do tipo, temperatura ou umidade do ambiente. Os serviços de saúde, enquanto serviços essenciais, devem ter o cuidado excepcional para evitar a contaminação dos equipamentos, pacientes e profissionais. Em tempos de pandemia, tomar medidas que garantam a prevenção, a minimização ou a eliminação de riscos à saúde é fundamental. Por décadas, as normas relativas à biossegurança foram negligenciadas, mas, com o advento da COVID-19, medidas básicas estão sendo reconsideradas, principalmente no que diz respeito aos cuidados necessários para a minimização dos riscos biológicos ao profissional da saúde. A Agência Nacional de Vigilância Sanitária (ANVISA) define a Biossegurança como um conjunto de medidas técnicas que são de suma importância durante a manipulação de agentes e materiais biológicos. Inúmeras são as ações de controle que estão sendo reforçadas a partir das experiências de outros países e da experiência de saúde acumulada em tratamento de outras doenças respiratórias que apresentam meios de transmissão semelhante ao da COVID-19. Objetivo Descrever as medidas de biossegurança utilizadas para prevenção da Covid 19; Contribuir com a construção de conhecimento sobre a Covid 19. Metodologia Assim, baseados nestas experiências, faremos um relato de experiência das ações que foram tomadas para mitigar o efeito da COVID-19 em profissionais de saúde de um Hemocentro de Fortaleza. As medidas de enfretamento ao Covid 19 foram correlacionadas em cinco tópicos: Biossegurança e Trabalhador, Comunicação, Portas de Entrada, Doadores/ Pacientes e Insumos e EPIs. Conclusão Os estudos e autoridades sanitárias de saúde mundial, nacional, estadual e municipal ainda não indicam um período para finalização da pandemia provocada pelo novo coronavírus. A importância de elaborar um Plano de Biossegurança veio garantir a segurança dos profissionais bem como pacientes/ doadores que precisam de atendimento no serviço. O trabalho de educação em saúde deve ser permanente visto que a doença vem sendo estudada e que pouco se sabe. As novas evidências apontam para cepas variantes fazendo com que as medidas de precauções não cessem e que os cuidados sejam redobrados, contínuos e regados de conscientização acerca das medidas sociais de minimização de contaminação.</p>\n",
       "        </article>\n",
       "    </li>\n",
       "                \n",
       "    <li> \n",
       "        <article>\n",
       "            <header>\n",
       "                <a href=\"https://www.ncbi.nlm.nih.gov/pubmed/34854329/; https://doi.org/10.1080/14787210.2022.2013808\"> <h2>Prevention of viral infections in solid organ transplant recipients in the era of COVID-19: a narrative review.</h2></a>\n",
       "            </header>\n",
       "            <p>INTRODUCTION In solid organ transplant (SOT) recipients, viral infections are associated with direct morbidity and mortality and may influence long-term allograft outcomes. Prevention of viral infections by vaccination, antiviral prophylaxis, and behavioral measures is therefore of paramount importance. AREAS COVERED We searched Pubmed to select publications to review current preventive strategies against the most important viral infections in SOT recipients, including SARS-CoV-2, influenza, CMV and other herpesvirus, viral hepatitis, measles, mumps, rubella, and BK virus. EXPERT OPINION The clinical significance of the reduced humoral response following mRNA SARS-CoV-2 vaccines in SOT recipients still needs to be better clarified, in particular with regard to the vaccines' efficacy in preventing severe disease. Although a third dose improve immunogenicity and is already integrated into routine practice in several countries, further research is still needed to explore additional interventions. In the upcoming years, further data are expected to better delineate the role of virus-specific cell mediated immune monitoring for the prevention of CMV and potentially other viral diseases, and the role of the letermovir in the prevention of CMV in SOT recipients. Future studies including clinical endpoints will hopefully facilitate the integration of successful new influenza vaccination strategies into clinical practice.</p>\n",
       "        </article>\n",
       "    </li>\n",
       "                \n",
       "    <li> \n",
       "        <article>\n",
       "            <header>\n",
       "                <a href=\"https://www.ncbi.nlm.nih.gov/pubmed/33977186/; https://doi.org/10.1097/pr9.0000000000000926\"> <h2>Psychological aspects of pain prevention</h2></a>\n",
       "            </header>\n",
       "            <p>How to prevent the onset, maintenance, or exacerbation of pain is a major focus of clinical pain science. Pain prevention can be distinctly organised into primary, secondary, and tertiary prevention. Primary prevention describes avoiding hurt or pain, secondary prevention describes reducing pain when pain is unavoidable, and tertiary prevention describes preventing or reducing ongoing negative consequences such as high functional disability or distress due to chronic pain. Each poses separate challenges where unique psychological factors will play a role. In this short review article, we highlight psychological factors important to primary, secondary, and tertiary prevention and provide direction for the field. We present 2 case studies on secondary prevention in children and adolescents and tertiary prevention in adults with chronic pain. Finally, we provide research directions for progression in this field, highlighting the importance of clear theoretical direction, the identification of risk factors for those most likely to develop pain, and the importance of treatment.</p>\n",
       "        </article>\n",
       "    </li>\n",
       "                \n",
       "    <li> \n",
       "        <article>\n",
       "            <header>\n",
       "                <a href=\"https://www.sciencedirect.com/science/article/pii/S0969698921000126; https://api.elsevier.com/content/article/pii/S0969698921000126\"> <h2>Protective measures against COVID-19 and the business strategies of the retail enterprises: Differences in gender, age, education, and income among shoppers</h2></a>\n",
       "            </header>\n",
       "            <p>The present study sought to develop a conceptual framework to explain the influence of protective measures adopted by the retail enterprises against the COVID-19 virus on customers’ attitudes toward these measures, and the safety during the shopping experience, as well as the satisfaction with these types of protective measures and behavioral intentions. A structural equation modeling and metric invariance test were used as the data analysis technique. Our results revealed that the protective measures against the COVID-19 virus significantly and positively influenced customer safety during shopping, the attitudes and satisfaction, which contribute to an increase of their behavioral intentions as a result. The mediating role of attitudes and safety was also uncovered. In addition, our findings from the metric invariance test indicated that gender, age, education, and income significantly moderated the relationships among the studied constructs. Our results can help retail practitioners and researchers develop a strategy to effectively implement protective measures against COVID-19 in the retail enterprises.</p>\n",
       "        </article>\n",
       "    </li>\n",
       "                \n",
       "    <li> \n",
       "        <article>\n",
       "            <header>\n",
       "                <a href=\"https://arxiv.org/pdf/2112.12062v2.pdf; https://doi.org/10.3389/fphy.2022.842180\"> <h2>Interplay between risk perception, behaviour, and COVID-19 spread</h2></a>\n",
       "            </header>\n",
       "            <p>Pharmaceutical and non-pharmaceutical interventions (NPIs) have been crucial for controlling COVID-19. They are complemented by voluntary health-protective behaviour, building a complex interplay between risk perception, behaviour, and disease spread. We studied how voluntary health-protective behaviour and vaccination willingness impact the long-term dynamics. We analysed how different levels of mandatory NPIs determine how individuals use their leeway for voluntary actions. If mandatory NPIs are too weak, COVID-19 incidence will surge, implying high morbidity and mortality before individuals react; if they are too strong, one expects a rebound wave once restrictions are lifted, challenging the transition to endemicity. Conversely, moderate mandatory NPIs give individuals time and room to adapt their level of caution, mitigating disease spread effectively. When complemented with high vaccination rates, this also offers a robust way to limit the impacts of the Omicron variant of concern. Altogether, our work highlights the importance of appropriate mandatory NPIs to maximise the impact of individual voluntary actions in pandemic control.</p>\n",
       "        </article>\n",
       "    </li>\n",
       "                \n",
       "    <li> \n",
       "        <article>\n",
       "            <header>\n",
       "                <a href=\"https://www.ncbi.nlm.nih.gov/pubmed/34943379/; https://doi.org/10.3390/children8121183\"> <h2>Change in Pediatric Health Care Spending and Drug Utilization during the COVID-19 Pandemic</h2></a>\n",
       "            </header>\n",
       "            <p>Objective: To evaluate how the restrictive measures implemented during the SARS-CoV-2 pandemic have influenced the incidence of the most common children’s diseases and the consumption of medications in 2020 compared to 2019. Methods: We involved all family pediatricians of the local health authority of Latina, from which we requested data of monthly visits in 2019 and 2020 for six common diseases disseminated through droplets and contact, and the territorial and integrative pharmaceutical unit of the area, from which we requested data of the net expenditure regarding the most commonly used drugs at pediatric age. Results: There was significant reduction in the incidence of the evaluated diseases and in the consumption of investigated drugs between 2019 and 2020 in the months when the restrictive measures were in place, with an attenuation of this effect during the months of the gradual loosening of those measures. Conclusion: Nonpharmaceutical intervention measures have caused changes in the diffusion of common pediatric diseases. We believe that the implementation of a reasonable containment strategy, even outside of the pandemic, could positively influence the epidemiology of infectious and allergic diseases in children, and healthcare system spending.</p>\n",
       "        </article>\n",
       "    </li>\n",
       "                \n",
       "    <li> \n",
       "        <article>\n",
       "            <header>\n",
       "                <a href=\"https://www.ncbi.nlm.nih.gov/pubmed/33657925/; https://doi.org/10.1177/0734242x21998739\"> <h2>Severe acute respiratory syndrome coronavirus-2 medical solid waste treatment: A need for efficient and effective strategies in low-resourced settings</h2></a>\n",
       "            </header>\n",
       "            <p>Understanding infections related to handling healthcare waste products is of critical importance and the application of simple and low-cost strategies remain a priority in low-income and middle-income countries to protect healthcare workers. We examined the potential effect of relative humidity (RH), air temperature and ultraviolet irradiation (UI) to establish an efficient and effective way to facilitate disposal of medical waste. Literature is emerging on the effect of high RH and high temperature, which would increase airborne mass deposition and decrease the viability of viruses in both airborne particles and on surfaces. On the other hand, severe acute respiratory syndrome coronavirus-2 has been proven to be susceptible to UI when suspended in air like other coronaviruses. An innovative approach utilizing environmental conditions might represent an effective and efficient way to ensure better and sustainable protection of the healthcare workers in low-resourced settings.</p>\n",
       "        </article>\n",
       "    </li>\n",
       "                \n",
       "    <li> \n",
       "        <article>\n",
       "            <header>\n",
       "                <a href=\"https://www.ncbi.nlm.nih.gov/pubmed/33889557/; https://doi.org/10.3389/fpubh.2021.581497\"> <h2>The Importance of Understanding COVID-19: The Role of Knowledge in Promoting Adherence to Protective Behaviors</h2></a>\n",
       "            </header>\n",
       "            <p>Background: Past research suggests that knowledge supports- but strong illness expectations thwart- adoption of protective behaviors (e.g., handwashing). Strong illness expectations may place COVID-19 essential workers at risk. It is unclear, however, whether knowledge can moderate the negative effects of pessimistic illness expectations on protective behaviors. We test COVID-19 knowledge as a moderator of the effects of (1) pessimistic illness expectations and (2) essential worker status on adherence to protective behaviors. Methods: Participants (n = 350) completed measures of knowledge, illness expectations, and protective behaviors. We used chi-square tests to examine associations between variables and logistic regressions to test the moderation models predicting adherence (low, high) while controlling for demographics. Results: Knowledge, illness expectations, and adherence were significantly associated with each other (p < 0.05). Essential workers had stronger illness expectations and lower knowledge than did non-essential workers (p < 0.001). Logistic regressions showed a non-significant Worker Status × Knowledge interaction (p = 0.59) but a significant Knowledge × Illness Expectations interaction (p < 0.05) indicating that those with strong illness expectations and low knowledge were disproportionately at risk of failing to adhere to recommended behaviors. Conclusions: Knowledge promotes protective behaviors by buffering the negative effects of pessimistic illness expectations. Essential workers are more likely to have low levels of knowledge with strong illness expectations, suggesting that educational policies may be warranted.</p>\n",
       "        </article>\n",
       "    </li>\n",
       "                \n",
       "    <li> \n",
       "        <article>\n",
       "            <header>\n",
       "                <a href=\"https://doi.org/10.1177/10781552211043836; https://www.ncbi.nlm.nih.gov/pubmed/34590515/\"> <h2>Lesson learned from the pandemic: Isolation and hygiene measures for COVID-19 could reduce the nosocomial infection rates in oncology wards.</h2></a>\n",
       "            </header>\n",
       "            <p>INTRODUCTION It was previously demonstrated that seasonal influenza incidence was significantly decreased during the COVID-19 pandemic, possibly due to respiratory and hygiene precautions. From this point, we hypothesized that the COVID-19 precautions could lead to a decrease in nosocomial infection rates in oncology inpatient wards. METHODS We evaluated the nosocomial infection rates in an inpatient palliative oncology ward in the first 3 months of the COVID-19 pandemic in our country and compared this rate with the same time frame of the previous year in our institution. RESULTS The percentage of nosocomial infections complicating the hospitalization episodes were significantly reduced in the first 3 months of the pandemic compared to the previous year (43 vs. 55 nosocomial infection episodes; 18.6% vs. 32.2%, p = 0.002). The decrease in the nosocomial infections was consistent in the different types of infections, namely pneumonia (4.8% vs. 7.6%), urinary tract infection (5.2% vs. 7.6%), bacteremia (5.2% vs. 7%) and intraabdominal infections (2.6% vs. 3.5%). The median monthly disinfectant use was significantly increased to 98 liters (interquartile range: 82 - 114) in 2020 compared to 72 L (interquartile range: 36 - 72) in 2019 (p = 0.046). CONCLUSION The continuation of the simple and feasible hygiene and distancing measures for healthcare workers and patient relatives and adaptations for earlier discharge could be beneficial for preventing nosocomial infections in oncology wards. These measures could be implemented routinely even after the COVID-19 pandemic for patient safety, especially in settings with higher nosocomial infection rates like inpatients palliative care units.</p>\n",
       "        </article>\n",
       "    </li>\n",
       "                \n",
       "    <li> \n",
       "        <article>\n",
       "            <header>\n",
       "                <a href=\"https://api.elsevier.com/content/article/pii/S2212420921006634; https://www.sciencedirect.com/science/article/pii/S2212420921006634?v=s5; https://www.ncbi.nlm.nih.gov/pubmed/34868837/; https://doi.org/10.1016/j.ijdrr.2021.102702\"> <h2>Mosques in Japan responding to COVID-19 pandemic: Infection prevention and support provision</h2></a>\n",
       "            </header>\n",
       "            <p>Religious activities tend to be conducted in enclosed, crowded, and close-contact settings, which have a high potential of transmitting the coronavirus disease, 2019 (COVID-19); therefore, religious communities are expected to take appropriate infection prevention measures. Meanwhile, during past disasters, religious communities have provided various types of support to affected people; hence, their role in disaster risk reduction has received much attention. In this study, we aimed to identify the infection prevention measures and support provision implemented by mosques—Islamic institutions managed and operated mainly by foreign Muslims living in Japan—during the one year from January 2020. We collected information from newspaper articles (18 articles on 19 mosques) and interviews with representatives of three mosques. We found that various infection control measures were implemented in mosques—refraining from mass prayers and closing buildings from an early stage (around February 2020); canceling large-scale events during the month of Ramadan; moving some activities online; and ensuring indoor ventilation and safe physical distance even when continuing face-to-face prayer activities. We also found that various types of support were provided by mosques—donating masks to the local government; listening to problems of people affected by COVID-19 regardless of their nationality; providing financial support to them; translating and disseminating information to foreign Muslims; and providing religious meals for them. This study provides actual examples of infection prevention measures taken by mosques in a Muslim-minority society and suggests that mosques appropriately responded to the needs of religious minorities during disasters, including COVID-19.</p>\n",
       "        </article>\n",
       "    </li>\n",
       "    </body></html>"
      ],
      "text/plain": [
       "<IPython.core.display.HTML object>"
      ]
     },
     "execution_count": 47,
     "metadata": {},
     "output_type": "execute_result"
    }
   ],
   "source": [
    "html = \"<html><body><ol>\"\n",
    "for i in range(len(matches)):\n",
    "    html += f\"\"\"            \n",
    "    <li> \n",
    "        <article>\n",
    "            <header>\n",
    "                <a href=\"{matches.url[i]}\"> <h2>{matches.title[i]}</h2></a>\n",
    "            </header>\n",
    "            <p>{matches.abstract[i]}</p>\n",
    "        </article>\n",
    "    </li>\n",
    "    \"\"\"\n",
    "html += \"</body></html>\"\n",
    "display.HTML(html)"
   ]
  },
  {
   "cell_type": "markdown",
   "id": "a3f0192e-e1eb-4a51-b046-3fa63b040b49",
   "metadata": {},
   "source": [
    "## Cleaning Up"
   ]
  },
  {
   "cell_type": "code",
   "execution_count": null,
   "id": "1a8defa4-940e-4384-85ad-69de7f284b2e",
   "metadata": {},
   "outputs": [],
   "source": [
    "matching_engine.delete(force=True)\n",
    "matching_engine_index.delete()"
   ]
  },
  {
   "cell_type": "markdown",
   "id": "0f9607d5-49d7-4810-aeb8-d5d01a40606d",
   "metadata": {},
   "source": [
    "Copyright 2023 Google Inc.\n",
    "Licensed under the Apache License, Version 2.0 (the \"License\"); you may not use this file except in compliance with the License. You may obtain a copy of the License at\n",
    "http://www.apache.org/licenses/LICENSE-2.0\n",
    "Unless required by applicable law or agreed to in writing, software distributed under the License is distributed on an \"AS IS\" BASIS, WITHOUT WARRANTIES OR CONDITIONS OF ANY KIND, either express or implied. See the License for the specific language governing permissions and limitations under the License."
   ]
  }
 ],
 "metadata": {
  "environment": {
   "kernel": "python3",
   "name": "tf2-gpu.2-11.m109",
   "type": "gcloud",
   "uri": "gcr.io/deeplearning-platform-release/tf2-gpu.2-11:m109"
  },
  "kernelspec": {
   "display_name": "Python 3",
   "language": "python",
   "name": "python3"
  },
  "language_info": {
   "codemirror_mode": {
    "name": "ipython",
    "version": 3
   },
   "file_extension": ".py",
   "mimetype": "text/x-python",
   "name": "python",
   "nbconvert_exporter": "python",
   "pygments_lexer": "ipython3",
   "version": "3.10.11"
  }
 },
 "nbformat": 4,
 "nbformat_minor": 5
}
