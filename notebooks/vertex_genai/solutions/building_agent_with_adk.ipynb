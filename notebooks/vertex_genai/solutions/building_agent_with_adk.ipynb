{
 "cells": [
  {
   "cell_type": "markdown",
   "id": "5646d634-70b1-4a6b-b53a-8702bcd57894",
   "metadata": {},
   "source": [
    "# Build Gen AI agent with ADK (Agent Development Kit)"
   ]
  },
  {
   "cell_type": "code",
   "execution_count": null,
   "id": "ebecae6b-b122-4c50-8614-24bee5114444",
   "metadata": {
    "tags": []
   },
   "outputs": [],
   "source": [
    "!pip install google-adk -q\n",
    "!pip install litellm -q"
   ]
  },
  {
   "cell_type": "code",
   "execution_count": null,
   "id": "09d0fe85-302a-4ac6-afcb-360bb7764c3d",
   "metadata": {
    "tags": []
   },
   "outputs": [],
   "source": [
    "import os\n",
    "import asyncio\n",
    "from google.adk.agents import Agent\n",
    "from google.adk.models.lite_llm import LiteLlm # For multi-model support\n",
    "from google.adk.sessions import InMemorySessionService\n",
    "from google.adk.runners import Runner\n",
    "from google.genai import types # For creating message Content/Parts\n",
    "from google.adk.tools.tool_context import ToolContext\n",
    "\n",
    "import warnings\n",
    "# Ignore all warnings\n",
    "warnings.filterwarnings(\"ignore\")\n",
    "\n",
    "import logging\n",
    "logging.basicConfig(level=logging.ERROR)"
   ]
  },
  {
   "cell_type": "code",
   "execution_count": null,
   "id": "9e7b1b3e-6b91-42f4-9550-fe027efb1988",
   "metadata": {
    "tags": []
   },
   "outputs": [],
   "source": [
    "LOCATION = \"us-central1\"\n",
    "os.environ[\"GOOGLE_CLOUD_LOCATION\"] = LOCATION\n",
    "os.environ[\"GOOGLE_GENAI_USE_VERTEXAI\"] = \"TRUE\" # Use Vertex AI API"
   ]
  },
  {
   "cell_type": "code",
   "execution_count": null,
   "id": "f9593b46-00f1-4af6-926d-e58017535000",
   "metadata": {
    "tags": []
   },
   "outputs": [],
   "source": [
    "MODEL = \"gemini-2.0-flash\""
   ]
  },
  {
   "cell_type": "markdown",
   "id": "17554fcf-08b1-451c-980c-41a1fc539f4a",
   "metadata": {},
   "source": [
    "## Basic App: Weather Lookup\n",
    "\n",
    "Let's begin by building the fundamental component of our Weather Bot: a single agent capable of performing a specific task – looking up weather information. This involves creating two core pieces:\n",
    "\n",
    "- A Tool: A Python function that equips the agent with the ability to fetch weather data.\n",
    "- An Agent: The AI \"brain\" that understands the user's request, knows it has a weather tool, and decides when and how to use it."
   ]
  },
  {
   "cell_type": "markdown",
   "id": "a2d754cc-3499-4b81-81ec-4ba1f4da7a61",
   "metadata": {},
   "source": [
    "### 1. Define the Tool (get_weather)\n",
    "\n",
    "In ADK, **Tools** are the building blocks that give agents concrete capabilities beyond just text generation. They are typically regular Python functions that perform specific actions, like calling an API, querying a database, or performing calculations.\n",
    "\n",
    "Our first tool will provide a *mock* weather report. This allows us to focus on the agent structure without needing external API keys yet. Later, you could easily swap this mock function with one that calls a real weather service.\n",
    "\n",
    "**Key Concept: Docstrings are Crucial\\!** The agent's LLM relies heavily on the function's **docstring** to understand:\n",
    "\n",
    "* *What* the tool does.  \n",
    "* *When* to use it.  \n",
    "* *What arguments* it requires (`city: str`).  \n",
    "* *What information* it returns.\n",
    "\n",
    "**Best Practice:** Write clear, descriptive, and accurate docstrings for your tools. This is essential for the LLM to use the tool correctly."
   ]
  },
  {
   "cell_type": "code",
   "execution_count": null,
   "id": "7a289a32-cfd2-48cf-abd5-edbc60c12b2c",
   "metadata": {
    "tags": []
   },
   "outputs": [],
   "source": [
    "def get_weather(city: str) -> dict:\n",
    "    \"\"\"Retrieves the current weather report for a specified city.\n",
    "\n",
    "    Args:\n",
    "        city (str): The name of the city (e.g., \"New York\", \"London\", \"Tokyo\").\n",
    "\n",
    "    Returns:\n",
    "        dict: A dictionary containing the weather information.\n",
    "              Includes a 'status' key ('success' or 'error').\n",
    "              If 'success', includes a 'report' key with weather details.\n",
    "              If 'error', includes an 'error_message' key.\n",
    "    \"\"\"\n",
    "    print(f\"--- Tool: get_weather called for city: {city} ---\") # Log tool execution\n",
    "    city_normalized = city.lower().replace(\" \", \"\") # Basic normalization\n",
    "\n",
    "    # Mock weather data\n",
    "    mock_weather_db = {\n",
    "        \"newyork\": {\"status\": \"success\", \"report\": \"The weather in New York is sunny with a temperature of 25°C.\"},\n",
    "        \"london\": {\"status\": \"success\", \"report\": \"It's cloudy in London with a temperature of 15°C.\"},\n",
    "        \"tokyo\": {\"status\": \"success\", \"report\": \"Tokyo is experiencing light rain and a temperature of 18°C.\"},\n",
    "    }\n",
    "\n",
    "    if city_normalized in mock_weather_db:\n",
    "        return mock_weather_db[city_normalized]\n",
    "    else:\n",
    "        return {\"status\": \"error\", \"error_message\": f\"Sorry, I don't have weather information for '{city}'.\"}\n",
    "\n",
    "# Example tool usage (optional test)\n",
    "print(get_weather(\"New York\"))\n",
    "print(get_weather(\"Paris\"))"
   ]
  },
  {
   "cell_type": "markdown",
   "id": "d287a1bc-247f-4a89-9105-22dbf76c3042",
   "metadata": {
    "tags": []
   },
   "source": [
    "### 2. Define the Agent (`weather_agent`)\n",
    "\n",
    "Now, let's create the **Agent** itself. An `Agent` in ADK orchestrates the interaction between the user, the LLM, and the available tools.\n",
    "\n",
    "We configure it with several key parameters:\n",
    "\n",
    "* `name`: A unique identifier for this agent (e.g., \"weather\\_agent\\_v1\").  \n",
    "* `model`: Specifies which LLM to use (e.g., `gemini-2.0-flash`).\n",
    "* `description`: A concise summary of the agent's overall purpose. This becomes crucial later when other agents need to decide whether to delegate tasks to *this* agent.  \n",
    "* `instruction`: Detailed guidance for the LLM on how to behave, its persona, its goals, and specifically *how and when* to utilize its assigned `tools`.  \n",
    "* `tools`: A list containing the actual Python tool functions the agent is allowed to use (e.g., `[get_weather]`).\n",
    "\n",
    "**Best Practices:** \n",
    "- Choose descriptive `name` and `description` values. These are used internally by ADK and are vital for features like automatic delegation (covered later).\n",
    "- Provide clear and specific `instruction` prompts. The more detailed the instructions, the better the LLM can understand its role and how to use its tools effectively. Be explicit about error handling if needed."
   ]
  },
  {
   "cell_type": "code",
   "execution_count": null,
   "id": "bd0d941f-7aee-4bb7-90d6-d6dbae11181d",
   "metadata": {
    "tags": []
   },
   "outputs": [],
   "source": [
    "weather_agent = Agent(\n",
    "    name=\"weather_agent_v1\",\n",
    "    model=MODEL, # Can be a string for Gemini or a LiteLlm object\n",
    "    description=\"Provides weather information for specific cities.\",\n",
    "    instruction=\"You are a helpful weather assistant. \"\n",
    "                \"When the user asks for the weather in a specific city, \"\n",
    "                \"use the 'get_weather' tool to find the information. \"\n",
    "                \"If the tool returns an error, inform the user politely. \"\n",
    "                \"If the tool is successful, present the weather report clearly.\",\n",
    "    tools=[get_weather], # Pass the function directly\n",
    ")"
   ]
  },
  {
   "cell_type": "markdown",
   "id": "0110289e-fc75-4e42-8060-84e956f5efb7",
   "metadata": {},
   "source": [
    "### 3. Setup Runner and Session Service\n",
    "\n",
    "To manage conversations and execute the agent, we need two more components:\n",
    "\n",
    "* `SessionService`: Responsible for managing conversation history and state for different users and sessions. The `InMemorySessionService` is a simple implementation that stores everything in memory, suitable for testing and simple applications. It keeps track of the messages exchanged. We'll explore state persistence more in Step 4\\.  \n",
    "* `Runner`: The engine that orchestrates the interaction flow. It takes user input, routes it to the appropriate agent, manages calls to the LLM and tools based on the agent's logic, handles session updates via the `SessionService`, and yields events representing the progress of the interaction."
   ]
  },
  {
   "cell_type": "markdown",
   "id": "aee0f555-4559-400a-91d9-3b6b58786c7d",
   "metadata": {},
   "source": [
    "Let's define some constants first."
   ]
  },
  {
   "cell_type": "code",
   "execution_count": null,
   "id": "a52d1dc7-c6e7-45e5-be52-358934dfbcd7",
   "metadata": {
    "tags": []
   },
   "outputs": [],
   "source": [
    "APP_NAME = \"weather_tutorial_app\"\n",
    "USER_ID = \"user_1\"\n",
    "SESSION_ID = \"session_001\" # Using a fixed ID for simplicity"
   ]
  },
  {
   "cell_type": "code",
   "execution_count": null,
   "id": "63d5f578-4ccc-424a-a804-fa90dacdaf5c",
   "metadata": {
    "tags": []
   },
   "outputs": [],
   "source": [
    "session_service = InMemorySessionService()\n",
    "\n",
    "# Create the specific session where the conversation will happen\n",
    "session = await session_service.create_session(\n",
    "    app_name=APP_NAME,\n",
    "    user_id=USER_ID,\n",
    "    session_id=SESSION_ID\n",
    ")"
   ]
  },
  {
   "cell_type": "code",
   "execution_count": null,
   "id": "ed4d4d2c-4538-4a23-aef0-5e57292f7014",
   "metadata": {
    "tags": []
   },
   "outputs": [],
   "source": [
    "# --- Runner ---\n",
    "# Key Concept: Runner orchestrates the agent execution loop.\n",
    "runner = Runner(\n",
    "    agent=weather_agent, # The agent we want to run\n",
    "    app_name=APP_NAME,   # Associates runs with our app\n",
    "    session_service=session_service # Uses our session manager\n",
    ")"
   ]
  },
  {
   "cell_type": "markdown",
   "id": "7d972f81-18ec-40a1-9137-392747cc1b70",
   "metadata": {},
   "source": [
    "### 4. Interact with the Agent\n",
    "\n",
    "We need a way to send messages to our agent and receive its responses. Since LLM calls and tool executions can take time, ADK's `Runner` operates asynchronously.\n",
    "\n",
    "We'll define an `async` helper function (`call_agent_async`) that:\n",
    "\n",
    "1. Takes a user query string.  \n",
    "2. Packages it into the ADK `Content` format.  \n",
    "3. Calls `runner.run_async`, providing the user/session context and the new message.  \n",
    "4. Iterates through the **Events** yielded by the runner. Events represent steps in the agent's execution (e.g., tool call requested, tool result received, intermediate LLM thought, final response).  \n",
    "5. Identifies and prints the **final response** event using `event.is_final_response()`.\n",
    "\n",
    "**Why `async`?** Interactions with LLMs and potentially tools (like external APIs) are I/O-bound operations. Using `asyncio` allows the program to handle these operations efficiently without blocking execution."
   ]
  },
  {
   "cell_type": "code",
   "execution_count": null,
   "id": "f93770ed-d3a4-4079-9fc2-3095598f00e4",
   "metadata": {
    "tags": []
   },
   "outputs": [],
   "source": [
    "async def call_agent_async(query: str, runner, user_id, session_id):\n",
    "    \"\"\"Sends a query to the agent and prints the final response.\"\"\"\n",
    "    print(f\"\\n>>> User Query: {query}\")\n",
    "\n",
    "    # Prepare the user's message in ADK format\n",
    "    content = types.Content(role='user', parts=[types.Part(text=query)])\n",
    "\n",
    "    final_response_text = \"Agent did not produce a final response.\" # Default\n",
    "\n",
    "    # Key Concept: run_async executes the agent logic and yields Events.\n",
    "    # We iterate through events to find the final answer.\n",
    "    async for event in runner.run_async(user_id=user_id, session_id=session_id, new_message=content):\n",
    "        # You can uncomment the line below to see *all* events during execution\n",
    "        # print(f\"  [Event] Author: {event.author}, Type: {type(event).__name__}, Final: {event.is_final_response()}, Content: {event.content}\")\n",
    "\n",
    "        # Key Concept: is_final_response() marks the concluding message for the turn.\n",
    "        if event.is_final_response():\n",
    "            if event.content and event.content.parts:\n",
    "                # Assuming text response in the first part\n",
    "                final_response_text = event.content.parts[0].text\n",
    "            elif event.actions and event.actions.escalate: # Handle potential errors/escalations\n",
    "                final_response_text = f\"Agent escalated: {event.error_message or 'No specific message.'}\"\n",
    "            # Add more checks here if needed (e.g., specific error codes)\n",
    "            break # Stop processing events once the final response is found\n",
    "\n",
    "    print(f\"<<< Agent Response: {final_response_text}\")"
   ]
  },
  {
   "cell_type": "markdown",
   "id": "34a8bc70-bc5e-4b3b-8241-052d7456fdbb",
   "metadata": {},
   "source": [
    "### 5. Run the Conversation\n",
    "\n",
    "Finally, let's test our setup by sending a few queries to the agent. We wrap our `async` calls in a main `async` function and run it using `await`.\n",
    "\n",
    "Watch the output:\n",
    "\n",
    "* See the user queries.  \n",
    "* Notice the `--- Tool: get_weather called... ---` logs when the agent uses the tool.  \n",
    "* Observe the agent's final responses, including how it handles the case where weather data isn't available (for Paris)."
   ]
  },
  {
   "cell_type": "code",
   "execution_count": null,
   "id": "cda23fad-fb2a-439d-b684-a56523dd3d45",
   "metadata": {
    "tags": []
   },
   "outputs": [],
   "source": [
    "await call_agent_async(\"What is the weather like in London?\",\n",
    "                                   runner=runner,\n",
    "                                   user_id=USER_ID,\n",
    "                                   session_id=SESSION_ID)"
   ]
  },
  {
   "cell_type": "code",
   "execution_count": null,
   "id": "e44f0aac-6927-4dbf-bee4-841384af59e1",
   "metadata": {
    "tags": []
   },
   "outputs": [],
   "source": [
    "await call_agent_async(\"How about Paris?\",\n",
    "                                   runner=runner,\n",
    "                                   user_id=USER_ID,\n",
    "                                   session_id=SESSION_ID) # Expecting the tool's error message"
   ]
  },
  {
   "cell_type": "code",
   "execution_count": null,
   "id": "07376ab8-317b-46ce-b160-f0f81c6ce6bd",
   "metadata": {
    "tags": []
   },
   "outputs": [],
   "source": [
    "await call_agent_async(\"Tell me the weather in New York\",\n",
    "                                   runner=runner,\n",
    "                                   user_id=USER_ID,\n",
    "                                   session_id=SESSION_ID)"
   ]
  },
  {
   "cell_type": "code",
   "execution_count": null,
   "id": "dbf93fd8-e2f7-4755-aa35-38c5a1790c24",
   "metadata": {
    "tags": []
   },
   "outputs": [],
   "source": [
    "await call_agent_async(\"What did I ask?\",\n",
    "                                   runner=runner,\n",
    "                                   user_id=USER_ID,\n",
    "                                   session_id=SESSION_ID)"
   ]
  },
  {
   "cell_type": "markdown",
   "id": "80158221-e16d-4c9c-8639-c303ecacb79a",
   "metadata": {},
   "source": [
    "Open the terminal and run these commands.\n",
    "\n",
    "```\n",
    "npm install -g localtunnel\n",
    "lt --port 8000\n",
    "```\n",
    "\n",
    "Access the URL `lt` command returns, and provide the tunnel pasword which the next cell generate."
   ]
  },
  {
   "cell_type": "code",
   "execution_count": null,
   "id": "da8dd0ae-69e9-40d8-ab33-c61e1d7aa567",
   "metadata": {
    "tags": []
   },
   "outputs": [],
   "source": [
    "!curl https://loca.lt/mytunnelpassword"
   ]
  },
  {
   "cell_type": "markdown",
   "id": "33dc0e35-bb95-472c-957d-666aa22c09a2",
   "metadata": {},
   "source": [
    "Run the cell below and check the ADK UI on the URL created above."
   ]
  },
  {
   "cell_type": "code",
   "execution_count": null,
   "id": "82252613-fa7d-489a-a8e2-4c47f8b2e826",
   "metadata": {
    "tags": []
   },
   "outputs": [],
   "source": [
    "!cd adk_agents && adk web"
   ]
  },
  {
   "cell_type": "markdown",
   "id": "eaca7c46-a3d5-44a0-81ca-77c13f861a7e",
   "metadata": {
    "tags": []
   },
   "source": [
    "---\n",
    "## Adding complexity with sub-agents\n",
    "\n",
    "We built and experimented with a single agent focused solely on weather lookups. While effective for its specific task, real-world applications often involve handling a wider variety of user interactions. We *could* keep adding more tools and complex instructions to our single weather agent, but this can quickly become unmanageable and less efficient.\n",
    "\n",
    "A more robust approach is to build an **Agent Team**. This involves:\n",
    "\n",
    "1. Creating multiple, **specialized agents**, each designed for a specific capability (e.g., one for weather, one for greetings, one for calculations).  \n",
    "2. Designating a **root agent** (or orchestrator) that receives the initial user request.  \n",
    "3. Enabling the root agent to **delegate** the request to the most appropriate specialized sub-agent based on the user's intent.\n",
    "\n",
    "**Why build an Agent Team?**\n",
    "\n",
    "* **Modularity:** Easier to develop, test, and maintain individual agents.  \n",
    "* **Specialization:** Each agent can be fine-tuned (instructions, model choice) for its specific task.  \n",
    "* **Scalability:** Simpler to add new capabilities by adding new agents.  \n",
    "* **Efficiency:** Allows using potentially simpler/cheaper models for simpler tasks (like greetings).\n",
    "\n",
    "**In this step, we will:**\n",
    "\n",
    "1. Define simple tools for handling greetings (`say_hello`) and farewells (`say_goodbye`).  \n",
    "2. Create two new specialized sub-agents: `greeting_agent` and `farewell_agent`.  \n",
    "3. Update our main weather agent (`weather_agent_v2`) to act as the **root agent**.  \n",
    "4. Configure the root agent with its sub-agents, enabling **automatic delegation**.  \n",
    "5. Test the delegation flow by sending different types of requests to the root agent."
   ]
  },
  {
   "cell_type": "markdown",
   "id": "48890fe8-f133-46ac-9e44-a875920d157b",
   "metadata": {},
   "source": [
    "### 1\\. Define Tools for Sub-Agents\n",
    "\n",
    "First, let's create the simple Python functions that will serve as tools for our new specialist agents. Remember, clear docstrings are vital for the agents that will use them."
   ]
  },
  {
   "cell_type": "code",
   "execution_count": null,
   "id": "268bee72-1fba-4bcc-8741-fa6dd2365099",
   "metadata": {
    "tags": []
   },
   "outputs": [],
   "source": [
    "print(f\"Hello, {None}\")"
   ]
  },
  {
   "cell_type": "code",
   "execution_count": null,
   "id": "d310f508-8ea8-4d70-b391-4065ac6c6f53",
   "metadata": {
    "tags": []
   },
   "outputs": [],
   "source": [
    "def say_hello(name: str = \"there\") -> str:\n",
    "    \"\"\"Provides a simple greeting, optionally addressing the user by name.\n",
    "\n",
    "    Args:\n",
    "        name (str, optional): The name of the person to greet. Defaults to \"there\".\n",
    "\n",
    "    Returns:\n",
    "        str: A friendly greeting message.\n",
    "    \"\"\"\n",
    "    if name is None:\n",
    "        name = \"there\"\n",
    "    print(f\"--- Tool: say_hello called with name: {name} ---\")\n",
    "    return f\"Hello, {name}!\"\n",
    "\n",
    "def say_goodbye() -> str:\n",
    "    \"\"\"Provides a simple farewell message to conclude the conversation.\"\"\"\n",
    "    print(f\"--- Tool: say_goodbye called ---\")\n",
    "    return \"Goodbye! Have a great day.\"\n",
    "\n",
    "print(\"Greeting and Farewell tools defined.\")"
   ]
  },
  {
   "cell_type": "code",
   "execution_count": null,
   "id": "3ce6205b-2f89-4ee1-a0bd-7c4400662428",
   "metadata": {
    "tags": []
   },
   "outputs": [],
   "source": [
    "print(say_hello(\"Alice\"))\n",
    "print(say_goodbye())"
   ]
  },
  {
   "cell_type": "markdown",
   "id": "8c10ffd9-6a04-44d2-bc6c-91e17cfb2594",
   "metadata": {},
   "source": [
    "### 2. Define the Sub-Agents (Greeting & Farewell)\n",
    "\n",
    "Now, create the `Agent` instances for our specialists. Notice their highly focused `instruction` and, critically, their clear `description`. The `description` is the primary information the *root agent* uses to decide *when* to delegate to these sub-agents.\n",
    "\n",
    "**Best Practice:**\n",
    "- Sub-agent `description` fields should accurately and concisely summarize their specific capability. This is crucial for effective automatic delegation.\n",
    "- Sub-agent `instruction` fields should be tailored to their limited scope, telling them exactly what to do and *what not* to do (e.g., \"Your *only* task is...\")."
   ]
  },
  {
   "cell_type": "code",
   "execution_count": null,
   "id": "82ba784f-d89c-4fad-b679-24da0d15fe05",
   "metadata": {
    "tags": []
   },
   "outputs": [],
   "source": [
    "# --- Greeting Agent ---\n",
    "greeting_agent = Agent(\n",
    "    # Using a potentially different/cheaper model for a simple task\n",
    "    model=MODEL,\n",
    "    # model=LiteLlm(model=MODEL_GPT_4O), # If you would like to experiment with other models\n",
    "    name=\"greeting_agent\",\n",
    "    instruction=\"You are the Greeting Agent. Your ONLY task is to provide a friendly greeting to the user. \"\n",
    "                \"Use the 'say_hello' tool to generate the greeting. \"\n",
    "                \"If the user provides their name, make sure to pass it to the tool. \"\n",
    "                \"Do not engage in any other conversation or tasks.\",\n",
    "    description=\"Handles simple greetings and hellos using the 'say_hello' tool.\", # Crucial for delegation\n",
    "    tools=[say_hello],\n",
    ")"
   ]
  },
  {
   "cell_type": "code",
   "execution_count": null,
   "id": "a48820cf-daaf-4838-bd7c-fdf3f91c25a4",
   "metadata": {
    "tags": []
   },
   "outputs": [],
   "source": [
    "# --- Farewell Agent ---\n",
    "farewell_agent = Agent(\n",
    "    # Can use the same or a different model\n",
    "    model=MODEL,\n",
    "    # model=LiteLlm(model=MODEL_GPT_4O), # If you would like to experiment with other models\n",
    "    name=\"farewell_agent\",\n",
    "    instruction=\"You are the Farewell Agent. Your ONLY task is to provide a polite goodbye message. \"\n",
    "                \"Use the 'say_goodbye' tool when the user indicates they are leaving or ending the conversation \"\n",
    "                \"(e.g., using words like 'bye', 'goodbye', 'thanks bye', 'see you'). \"\n",
    "                \"Do not perform any other actions.\",\n",
    "    description=\"Handles simple farewells and goodbyes using the 'say_goodbye' tool.\", # Crucial for delegation\n",
    "    tools=[say_goodbye],\n",
    ")"
   ]
  },
  {
   "cell_type": "markdown",
   "id": "3ddf5381-31a1-4035-aa2e-16bc79c3b1d1",
   "metadata": {},
   "source": [
    "### 3. Define the Root Agent (Weather Agent v2) with Sub-Agents\n",
    "\n",
    "Now, we upgrade our `weather_agent`. The key changes are:\n",
    "\n",
    "* Adding the `sub_agents` parameter: We pass a list containing the `greeting_agent` and `farewell_agent` instances we just created.  \n",
    "* Updating the `instruction`: We explicitly tell the root agent *about* its sub-agents and *when* it should delegate tasks to them.\n",
    "\n",
    "**Key Concept: Automatic Delegation (Auto Flow)** By providing the `sub_agents` list, ADK enables automatic delegation. When the root agent receives a user query, its LLM considers not only its own instructions and tools but also the `description` of each sub-agent. If the LLM determines that a query aligns better with a sub-agent's described capability (e.g., \"Handles simple greetings\"), it will automatically generate a special internal action to *transfer control* to that sub-agent for that turn. The sub-agent then processes the query using its own model, instructions, and tools.\n",
    "\n",
    "**Best Practice:** Ensure the root agent's instructions clearly guide its delegation decisions. Mention the sub-agents by name and describe the conditions under which delegation should occur."
   ]
  },
  {
   "cell_type": "code",
   "execution_count": null,
   "id": "5072f8f5-5b49-473a-9663-e67d0bf41ef9",
   "metadata": {
    "tags": []
   },
   "outputs": [],
   "source": [
    "weather_agent_team = Agent(\n",
    "    name=\"weather_agent_v2\", # Give it a new version name\n",
    "    model=MODEL,\n",
    "    description=\"The main coordinator agent. Handles weather requests and delegates greetings/farewells to specialists.\",\n",
    "    instruction=\"You are the main Weather Agent coordinating a team. Your primary responsibility is to provide weather information. \"\n",
    "                \"Use the 'get_weather' tool ONLY for specific weather requests (e.g., 'weather in London'). \"\n",
    "                \"You have specialized sub-agents: \"\n",
    "                \"1. 'greeting_agent': Handles simple greetings like 'Hi', 'Hello'. Delegate to it for these. \"\n",
    "                \"2. 'farewell_agent': Handles simple farewells like 'Bye', 'See you'. Delegate to it for these. \"\n",
    "                \"Analyze the user's query. If it's a greeting, delegate to 'greeting_agent'. If it's a farewell, delegate to 'farewell_agent'. \"\n",
    "                \"If it's a weather request, handle it yourself using 'get_weather'. \"\n",
    "                \"For anything else, respond appropriately or state you cannot handle it.\",\n",
    "    tools=[get_weather], # Root agent still needs the weather tool for its core task\n",
    "    # Key change: Link the sub-agents here!\n",
    "    sub_agents=[greeting_agent, farewell_agent]\n"
   ]
  },
  {
   "cell_type": "markdown",
   "id": "4fb946a8-632d-451d-a1bd-eedaa17907b4",
   "metadata": {
    "tags": []
   },
   "source": [
    "### 4\\. Interact with the Agent Team\n",
    "\n",
    "Now that we've defined our root agent (`weather_agent_team` - *Note: Ensure this variable name matches the one defined in the previous code block, likely `# @title Define the Root Agent with Sub-Agents`, which might have named it `root_agent`*) with its specialized sub-agents, let's test the delegation mechanism.\n",
    "\n",
    "The following code block will:\n",
    "\n",
    "1.  Define an `async` function `run_team_conversation`.\n",
    "2.  Inside this function, create a *new, dedicated* `InMemorySessionService` and a specific session (`session_001_agent_team`) just for this test run. This isolates the conversation history for testing the team dynamics.\n",
    "3.  Create a `Runner` (`runner_agent_team`) configured to use our `weather_agent_team` (the root agent) and the dedicated session service.\n",
    "4.  Use our updated `call_agent_async` function to send different types of queries (greeting, weather request, farewell) to the `runner_agent_team`. We explicitly pass the runner, user ID, and session ID for this specific test.\n",
    "5.  Immediately execute the `run_team_conversation` function.\n",
    "\n",
    "We expect the following flow:\n",
    "\n",
    "1.  The \"Hello there!\" query goes to `runner_agent_team`.\n",
    "2.  The root agent (`weather_agent_team`) receives it and, based on its instructions and the `greeting_agent`'s description, delegates the task.\n",
    "3.  `greeting_agent` handles the query, calls its `say_hello` tool, and generates the response.\n",
    "4.  The \"What is the weather in New York?\" query is *not* delegated and is handled directly by the root agent using its `get_weather` tool.\n",
    "5.  The \"Thanks, bye!\" query is delegated to the `farewell_agent`, which uses its `say_goodbye` tool.\n",
    "\n"
   ]
  },
  {
   "cell_type": "code",
   "execution_count": null,
   "id": "65f258f1-e128-41eb-9944-d5ffcd1f7aca",
   "metadata": {
    "tags": []
   },
   "outputs": [],
   "source": [
    "session_service = InMemorySessionService()\n",
    "APP_NAME = \"weather_tutorial_agent_team\"\n",
    "USER_ID = \"user_1_agent_team\"\n",
    "SESSION_ID = \"session_001_agent_team\"\n",
    "\n",
    "session = await session_service.create_session(\n",
    "    app_name=APP_NAME, user_id=USER_ID, session_id=SESSION_ID\n",
    ")\n",
    "print(f\"Session created: App='{APP_NAME}', User='{USER_ID}', Session='{SESSION_ID}'\")\n",
    "\n",
    "runner_agent_team = Runner( # Or use InMemoryRunner\n",
    "    agent=weather_agent_team,\n",
    "    app_name=APP_NAME,\n",
    "    session_service=session_service\n",
    ")\n",
    "print(f\"Runner created for agent '{weather_agent_team.name}'.\")"
   ]
  },
  {
   "cell_type": "code",
   "execution_count": null,
   "id": "d039ca52-cebf-478d-a4a1-349bd8d35d10",
   "metadata": {
    "tags": []
   },
   "outputs": [],
   "source": [
    "await call_agent_async(query = \"Hello there!\",\n",
    "                       runner=runner_agent_team,\n",
    "                       user_id=USER_ID,\n",
    "                       session_id=SESSION_ID)"
   ]
  },
  {
   "cell_type": "code",
   "execution_count": null,
   "id": "282eae97-303e-4b48-8239-444596504a9c",
   "metadata": {
    "tags": []
   },
   "outputs": [],
   "source": [
    "await call_agent_async(query = \"What is the weather in New York?\",\n",
    "                       runner=runner_agent_team,\n",
    "                       user_id=USER_ID,\n",
    "                       session_id=SESSION_ID)"
   ]
  },
  {
   "cell_type": "code",
   "execution_count": null,
   "id": "7cd0ab22-0790-46fc-98fe-893507740681",
   "metadata": {
    "tags": []
   },
   "outputs": [],
   "source": [
    "await call_agent_async(query = \"Thanks, bye!\",\n",
    "                       runner=runner_agent_team,\n",
    "                       user_id=USER_ID,\n",
    "                       session_id=SESSION_ID)"
   ]
  },
  {
   "cell_type": "code",
   "execution_count": null,
   "id": "61c5d85f-7f25-4f50-8207-ed599de1c0b7",
   "metadata": {
    "tags": []
   },
   "outputs": [],
   "source": [
    "!cd adk_agents && adk web"
   ]
  },
  {
   "cell_type": "markdown",
   "id": "b108232a-756b-4de0-8b5e-65d502ab00c1",
   "metadata": {},
   "source": [
    "---\n",
    "## Adding Memory and Personalization with Session State\n",
    "\n",
    "So far, our agent team can handle different tasks through delegation, but each interaction starts fresh – the agents have no memory of past conversations or user preferences within a session. To create more sophisticated and context-aware experiences, agents need **memory**. ADK provides this through **Session State**.\n",
    "\n",
    "**What is Session State?**\n",
    "\n",
    "* It's a Python dictionary (`session.state`) tied to a specific user session (identified by `APP_NAME`, `USER_ID`, `SESSION_ID`).  \n",
    "* It persists information *across multiple conversational turns* within that session.  \n",
    "* Agents and Tools can read from and write to this state, allowing them to remember details, adapt behavior, and personalize responses.\n",
    "\n",
    "**How Agents Interact with State:**\n",
    "\n",
    "1. **`ToolContext` (Primary Method):** Tools can accept a `ToolContext` object (automatically provided by ADK if declared as the last argument). This object gives direct access to the session state via `tool_context.state`, allowing tools to read preferences or save results *during* execution.  \n",
    "2. **`output_key` (Auto-Save Agent Response):** An `Agent` can be configured with an `output_key=\"your_key\"`. ADK will then automatically save the agent's final textual response for a turn into `session.state[\"your_key\"]`.\n",
    "\n",
    "**In this step, we will enhance our Weather Bot team by:**\n",
    "\n",
    "1. Using a **new** `InMemorySessionService` to demonstrate state in isolation.  \n",
    "2. Initializing session state with a user preference for `temperature_unit`.  \n",
    "3. Creating a state-aware version of the weather tool (`get_weather_stateful`) that reads this preference via `ToolContext` and adjusts its output format (Celsius/Fahrenheit).  \n",
    "4. Updating the root agent to use this stateful tool and configuring it with an `output_key` to automatically save its final weather report to the session state.  \n",
    "5. Running a conversation to observe how the initial state affects the tool, how manual state changes alter subsequent behavior, and how `output_key` persists the agent's response."
   ]
  },
  {
   "cell_type": "markdown",
   "id": "03acb903-fd6b-4089-bd03-8a37845e76bb",
   "metadata": {},
   "source": [
    "### 1. Initialize New Session Service and State\n",
    "\n",
    "To clearly demonstrate state management without interference from prior steps, we'll instantiate a new `InMemorySessionService`. We'll also create a session with an initial state defining the user's preferred temperature unit."
   ]
  },
  {
   "cell_type": "code",
   "execution_count": null,
   "id": "55fd0656-fb7c-4b57-8cde-56a4c9fe3274",
   "metadata": {
    "tags": []
   },
   "outputs": [],
   "source": [
    "# Define a NEW session ID for this part of the tutorial\n",
    "SESSION_ID_STATEFUL = \"session_state_demo_001\"\n",
    "USER_ID_STATEFUL = \"user_state_demo\""
   ]
  },
  {
   "cell_type": "code",
   "execution_count": null,
   "id": "93d62766-9c1d-4e25-8c15-6e35ad70c5b4",
   "metadata": {
    "tags": []
   },
   "outputs": [],
   "source": [
    "# Define initial state data - user prefers Celsius initially\n",
    "initial_state = {\n",
    "    \"user:temperature_unit\": \"Celsius\"\n",
    "}\n",
    "\n",
    "# Create the session, providing the initial state\n",
    "session_service_stateful = InMemorySessionService()\n",
    "session_stateful = await session_service_stateful.create_session(\n",
    "    app_name=APP_NAME, # Use the consistent app name\n",
    "    user_id=USER_ID_STATEFUL,\n",
    "    session_id=SESSION_ID_STATEFUL,\n",
    "    state=initial_state # <<< Initialize state during creation\n",
    ")\n",
    "print(f\"✅ Session '{SESSION_ID_STATEFUL}' created for user '{USER_ID_STATEFUL}'.\")"
   ]
  },
  {
   "cell_type": "code",
   "execution_count": null,
   "id": "68b5d16d-a91f-44bf-9f60-2a492ed4d901",
   "metadata": {
    "tags": []
   },
   "outputs": [],
   "source": [
    "# Verify the initial state was set correctly\n",
    "retrieved_session = await session_service_stateful.get_session(app_name=APP_NAME,\n",
    "                                                         user_id=USER_ID_STATEFUL,\n",
    "                                                         session_id = SESSION_ID_STATEFUL)\n",
    "print(retrieved_session)"
   ]
  },
  {
   "cell_type": "markdown",
   "id": "cc61daee-7d22-424e-9786-85df5c30fe07",
   "metadata": {},
   "source": [
    "###　2\\. Create State-Aware Weather Tool (`get_weather_stateful`)\n",
    "\n",
    "Now, we create a new version of the weather tool. Its key feature is accepting `tool_context: ToolContext` which allows it to access `tool_context.state`. It will read the `user_preference_temperature_unit` and format the temperature accordingly.\n",
    "\n",
    "\n",
    "* **Key Concept: `ToolContext`** This object is the bridge allowing your tool logic to interact with the session's context, including reading and writing state variables. ADK injects it automatically if defined as the last parameter of your tool function.\n",
    "\n",
    "\n",
    "* **Best Practice:** When reading from state, use `dictionary.get('key', default_value)` to handle cases where the key might not exist yet, ensuring your tool doesn't crash."
   ]
  },
  {
   "cell_type": "code",
   "execution_count": null,
   "id": "d94d05e7-6323-4b28-b4bf-35237154f141",
   "metadata": {
    "tags": []
   },
   "outputs": [],
   "source": [
    "def get_weather_stateful(city: str, tool_context: ToolContext) -> dict:\n",
    "    \"\"\"Retrieves weather, converts temp unit based on session state.\"\"\"\n",
    "    print(f\"--- Tool: get_weather_stateful called for {city} ---\")\n",
    "\n",
    "    # --- Read preference from state ---\n",
    "    preferred_unit = tool_context.state.get(\"user:temperature_unit\", \"Celsius\") # Default to Celsius\n",
    "    print(f\"--- Tool: Reading state 'user:temperature_unit': {preferred_unit} ---\")\n",
    "\n",
    "    city_normalized = city.lower().replace(\" \", \"\")\n",
    "\n",
    "    # Mock weather data (always stored in Celsius internally)\n",
    "    mock_weather_db = {\n",
    "        \"newyork\": {\"temp_c\": 25, \"condition\": \"sunny\"},\n",
    "        \"london\": {\"temp_c\": 15, \"condition\": \"cloudy\"},\n",
    "        \"tokyo\": {\"temp_c\": 18, \"condition\": \"light rain\"},\n",
    "    }\n",
    "\n",
    "    if city_normalized in mock_weather_db:\n",
    "        data = mock_weather_db[city_normalized]\n",
    "        temp_c = data[\"temp_c\"]\n",
    "        condition = data[\"condition\"]\n",
    "\n",
    "        # Format temperature based on state preference\n",
    "        if preferred_unit.capitalize() == \"Fahrenheit\":\n",
    "            temp_value = (temp_c * 9/5) + 32 # Calculate Fahrenheit\n",
    "            temp_unit = \"°F\"\n",
    "        else: # Default to Celsius\n",
    "            temp_value = temp_c\n",
    "            temp_unit = \"°C\"\n",
    "\n",
    "        report = f\"The weather in {city.capitalize()} is {condition} with a temperature of {temp_value:.0f}{temp_unit}.\"\n",
    "        result = {\"status\": \"success\", \"report\": report}\n",
    "        print(f\"--- Tool: Generated report in {preferred_unit}. Result: {result} ---\")\n",
    "\n",
    "        # Example of writing back to state (optional for this tool)\n",
    "        tool_context.state[\"last_city_checked_stateful\"] = city\n",
    "        print(f\"--- Tool: Updated state 'last_city_checked_stateful': {city} ---\")\n",
    "\n",
    "        return result\n",
    "    else:\n",
    "        # Handle city not found\n",
    "        error_msg = f\"Sorry, I don't have weather information for '{city}'.\"\n",
    "        print(f\"--- Tool: City '{city}' not found. ---\")\n",
    "        return {\"status\": \"error\", \"error_message\": error_msg}"
   ]
  },
  {
   "cell_type": "markdown",
   "id": "142ec150-c842-41f0-81eb-495819bcda52",
   "metadata": {},
   "source": [
    "### 3\\. Redefine Sub-Agents and Update Root Agent\n",
    "\n",
    "To ensure this step is self-contained and builds correctly, we first redefine the `greeting_agent` and `farewell_agent` exactly as they were in Step 3\\. Then, we define our new root agent (`weather_agent_v4_stateful`):\n",
    "\n",
    "* It uses the new `get_weather_stateful` tool.  \n",
    "* It includes the greeting and farewell sub-agents for delegation.  \n",
    "* **Crucially**, it sets `output_key=\"last_weather_report\"` which automatically saves its final weather response to the session state."
   ]
  },
  {
   "cell_type": "code",
   "execution_count": null,
   "id": "a26d617e-0fa4-4f00-9987-ff65bdcd6028",
   "metadata": {
    "tags": []
   },
   "outputs": [],
   "source": [
    "def set_user_preference(tool_context: ToolContext, preference: str, value: str) -> dict:\n",
    "    # Use 'user:' prefix for user-level state (if using a persistent SessionService)\n",
    "    state_key = f\"user:{preference}\"\n",
    "    tool_context.state[state_key] = value\n",
    "    print(f\"Set user preference '{preference}' to '{value}'\")\n",
    "    return {\"status\": \"Preference updated\"}"
   ]
  },
  {
   "cell_type": "code",
   "execution_count": null,
   "id": "65ec925f-c0d5-4820-bd4e-8465c14cba11",
   "metadata": {
    "tags": []
   },
   "outputs": [],
   "source": [
    "greeting_agent = Agent(\n",
    "    model=MODEL,\n",
    "    name=\"greeting_agent\",\n",
    "    instruction=\"You are the Greeting Agent. Your ONLY task is to provide a friendly greeting using the 'say_hello' tool. Do nothing else.\",\n",
    "    description=\"Handles simple greetings and hellos using the 'say_hello' tool.\",\n",
    "    tools=[say_hello],\n",
    ")\n",
    "\n",
    "farewell_agent = Agent(\n",
    "    model=MODEL,\n",
    "    name=\"farewell_agent\",\n",
    "    instruction=\"You are the Farewell Agent. Your ONLY task is to provide a polite goodbye message using the 'say_goodbye' tool. Do not perform any other actions.\",\n",
    "    description=\"Handles simple farewells and goodbyes using the 'say_goodbye' tool.\",\n",
    "    tools=[say_goodbye],\n",
    ")"
   ]
  },
  {
   "cell_type": "code",
   "execution_count": null,
   "id": "02955ba7-2609-4e1e-81e6-3a76488e8c35",
   "metadata": {
    "tags": []
   },
   "outputs": [],
   "source": [
    "root_agent_stateful = Agent(\n",
    "    name=\"weather_agent_v3_stateful\", # New version name\n",
    "    model=MODEL,\n",
    "    description=\"Main agent: Provides weather (state-aware unit), delegates greetings/farewells, saves report to state.\",\n",
    "    instruction=\"You are the main Weather Agent. Your job is to provide weather using 'get_weather_stateful'. \"\n",
    "                \"If user want to change prefered temperature unit (Celsius/Fahrenheit), use 'set_user_preference' and and change 'user:temperature_unit' state.\"\n",
    "                \"The tool will format the temperature based on user preference stored in state. \"\n",
    "                \"Delegate simple greetings to 'greeting_agent' and farewells to 'farewell_agent'. \"\n",
    "                \"Handle only weather requests, greetings, and farewells.\",\n",
    "    tools=[get_weather_stateful, set_user_preference], # Use the state-aware tool\n",
    "    sub_agents=[greeting_agent, farewell_agent], # Include sub-agents\n",
    "    output_key=\"last_weather_report\" # <<< Auto-save agent's final weather response\n",
    ")\n",
    "print(f\"✅ Root Agent '{root_agent_stateful.name}' created using stateful tool and output_key.\")\n",
    "\n",
    "# --- Create Runner for this Root Agent & NEW Session Service ---\n",
    "runner_root_stateful = Runner(\n",
    "    agent=root_agent_stateful,\n",
    "    app_name=APP_NAME,\n",
    "    session_service=session_service_stateful # Use the NEW stateful session service\n",
    ")\n",
    "print(f\"✅ Runner created for stateful root agent '{runner_root_stateful.agent.name}' using stateful session service.\")"
   ]
  },
  {
   "cell_type": "markdown",
   "id": "142654fb-7871-40d5-945d-52d2c45455d8",
   "metadata": {},
   "source": [
    "### 4\\. Interact and Test State Flow\n",
    "\n",
    "Now, let's execute a conversation designed to test the state interactions using the `runner_root_stateful` (associated with our stateful agent and the `session_service_stateful`). We'll use the `call_agent_async` function defined earlier, ensuring we pass the correct runner, user ID (`USER_ID_STATEFUL`), and session ID (`SESSION_ID_STATEFUL`).\n",
    "\n",
    "The conversation flow will be:\n",
    "\n",
    "1.  **Check weather (London):** The `get_weather_stateful` tool should read the initial \"Celsius\" preference from the session state initialized in Section 1. The root agent's final response (the weather report in Celsius) should get saved to `state['last_weather_report']` via the `output_key` configuration.\n",
    "2.  **Manually update state:** We will *directly modify* the state stored within the `InMemorySessionService` instance (`session_service_stateful`).\n",
    "    *   **Why direct modification?** The `session_service.get_session()` method returns a *copy* of the session. Modifying that copy wouldn't affect the state used in subsequent agent runs. For this testing scenario with `InMemorySessionService`, we access the internal `sessions` dictionary to change the *actual* stored state value for `user_preference_temperature_unit` to \"Fahrenheit\". *Note: In real applications, state changes are typically triggered by tools or agent logic returning `EventActions(state_delta=...)`, not direct manual updates.*\n",
    "3.  **Check weather again (New York):** The `get_weather_stateful` tool should now read the updated \"Fahrenheit\" preference from the state and convert the temperature accordingly. The root agent's *new* response (weather in Fahrenheit) will overwrite the previous value in `state['last_weather_report']` due to the `output_key`.\n",
    "4.  **Greet the agent:** Verify that delegation to the `greeting_agent` still works correctly alongside the stateful operations. This interaction will become the *last* response saved by `output_key` in this specific sequence.\n",
    "5.  **Inspect final state:** After the conversation, we retrieve the session one last time (getting a copy) and print its state to confirm the `user_preference_temperature_unit` is indeed \"Fahrenheit\", observe the final value saved by `output_key` (which will be the greeting in this run), and see the `last_city_checked_stateful` value written by the tool.\n"
   ]
  },
  {
   "cell_type": "code",
   "execution_count": null,
   "id": "9acc93ae-7d7c-4ff6-b69e-a3e5ec9fb5dd",
   "metadata": {
    "tags": []
   },
   "outputs": [],
   "source": [
    "await call_agent_async(query= \"What's the weather in London?\",\n",
    "                       runner=runner_root_stateful,\n",
    "                       user_id=USER_ID_STATEFUL,\n",
    "                       session_id=SESSION_ID_STATEFUL\n",
    "                      )"
   ]
  },
  {
   "cell_type": "markdown",
   "id": "4344a1f2-169d-47f4-a5f3-2626a1527a5f",
   "metadata": {},
   "source": [
    "Let's update state preference to Fahrenheit."
   ]
  },
  {
   "cell_type": "code",
   "execution_count": null,
   "id": "7a26c44e-60a2-4eef-92e7-ddcd7ce29846",
   "metadata": {
    "tags": []
   },
   "outputs": [],
   "source": [
    "await call_agent_async(query= \"Answer in Fahrenheit\",\n",
    "                       runner=runner_root_stateful,\n",
    "                       user_id=USER_ID_STATEFUL,\n",
    "                       session_id=SESSION_ID_STATEFUL\n",
    "                      )"
   ]
  },
  {
   "cell_type": "markdown",
   "id": "d3df2d46-413f-4385-845f-01be050ea30f",
   "metadata": {},
   "source": [
    "Let's check weather again."
   ]
  },
  {
   "cell_type": "code",
   "execution_count": null,
   "id": "b18ee90c-c4ab-4c47-a08b-9e81bbdf08f3",
   "metadata": {
    "tags": []
   },
   "outputs": [],
   "source": [
    "await call_agent_async(query= \"Tell me the weather in New York.\",\n",
    "                       runner=runner_root_stateful,\n",
    "                       user_id=USER_ID_STATEFUL,\n",
    "                       session_id=SESSION_ID_STATEFUL\n",
    "                      )"
   ]
  },
  {
   "cell_type": "code",
   "execution_count": null,
   "id": "21f851bb-c536-4266-a43f-f19220e964b5",
   "metadata": {
    "tags": []
   },
   "outputs": [],
   "source": [
    "# 4. Test basic delegation (should still work)\n",
    "# This will update 'last_weather_report' again, overwriting the NY weather report\n",
    "await call_agent_async(query= \"Hello!\",\n",
    "                       runner=runner_root_stateful,\n",
    "                       user_id=USER_ID_STATEFUL,\n",
    "                       session_id=SESSION_ID_STATEFUL\n",
    "                      )"
   ]
  },
  {
   "cell_type": "code",
   "execution_count": null,
   "id": "f363e102-0498-4a87-a7d2-e7034eb7be93",
   "metadata": {
    "tags": []
   },
   "outputs": [],
   "source": [
    "# --- Inspect final session state after the conversation ---\n",
    "# This block runs after either execution method completes.\n",
    "print(\"\\n--- Inspecting Final Session State ---\")\n",
    "final_session = await session_service_stateful.get_session(app_name=APP_NAME,\n",
    "                                                     user_id= USER_ID_STATEFUL,\n",
    "                                                     session_id=SESSION_ID_STATEFUL)\n",
    "if final_session:\n",
    "    # Use .get() for safer access to potentially missing keys\n",
    "    print(f\"Final Preference: {final_session.state.get('user_preference_temperature_unit', 'Not Set')}\")\n",
    "    print(f\"Final Last Weather Report (from output_key): {final_session.state.get('last_weather_report', 'Not Set')}\")\n",
    "    print(f\"Final Last City Checked (by tool): {final_session.state.get('last_city_checked_stateful', 'Not Set')}\")\n",
    "    # Print full state for detailed view\n",
    "    # print(f\"Full State Dict: {final_session.state.as_dict()}\") # Use as_dict() for clarity\n",
    "else:\n",
    "    print(\"\\n❌ Error: Could not retrieve final session state.\")"
   ]
  },
  {
   "cell_type": "code",
   "execution_count": null,
   "id": "6781d84c-0fe8-4199-bedf-c18b6bb2d84d",
   "metadata": {
    "tags": []
   },
   "outputs": [],
   "source": [
    "!cd adk_agents && adk web"
   ]
  },
  {
   "cell_type": "code",
   "execution_count": null,
   "id": "eed12697-9e11-4e01-b586-de3455ed85b5",
   "metadata": {},
   "outputs": [],
   "source": []
  }
 ],
 "metadata": {
  "environment": {
   "kernel": "conda-base-py",
   "name": "workbench-notebooks.m129",
   "type": "gcloud",
   "uri": "us-docker.pkg.dev/deeplearning-platform-release/gcr.io/workbench-notebooks:m129"
  },
  "kernelspec": {
   "display_name": "Python 3 (ipykernel) (Local)",
   "language": "python",
   "name": "conda-base-py"
  },
  "language_info": {
   "codemirror_mode": {
    "name": "ipython",
    "version": 3
   },
   "file_extension": ".py",
   "mimetype": "text/x-python",
   "name": "python",
   "nbconvert_exporter": "python",
   "pygments_lexer": "ipython3",
   "version": "3.10.16"
  }
 },
 "nbformat": 4,
 "nbformat_minor": 5
}
