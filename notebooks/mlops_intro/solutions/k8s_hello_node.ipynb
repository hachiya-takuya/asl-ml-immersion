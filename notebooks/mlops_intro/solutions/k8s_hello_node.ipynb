{
 "cells": [
  {
   "cell_type": "markdown",
   "metadata": {},
   "source": [
    "# Hello Node Kubernetes\n",
    "\n",
    "**Learning Objectives**\n",
    " 1. Create a Node.js server.\n",
    " 2. Create a Docker container image.\n",
    " 3. Create a container cluster.\n",
    " 4. Create a Kubernetes pod.\n",
    " 5. Scale up your services."
   ]
  },
  {
   "cell_type": "markdown",
   "metadata": {},
   "source": [
    "## Overview\n",
    "\n",
    "The goal of this hands-on lab is for you to turn code that you have developed into a replicated application running on Kubernetes, which is running on Kubernetes Engine. For this lab the code will be a simple Hello World node.js app.\n",
    "\n",
    "Here's a diagram of the various parts in play in this lab, to help you understand how the pieces fit together with one another. Use this as a reference as you progress through the lab; it should all make sense by the time you get to the end (but feel free to ignore this for now).\n",
    "\n",
    "<img src=\"../assets/k8s_hellonode_overview.png\"\n",
    "     alt=\"Kubernetes overview\"\n",
    "     style=\"width:500px;\"/>"
   ]
  },
  {
   "cell_type": "markdown",
   "metadata": {},
   "source": [
    "## Create a Node.js server\n",
    "\n",
    "The file `server.js` contains a simple Node.js server. Use `cat` to examine the contents of that file."
   ]
  },
  {
   "cell_type": "code",
   "execution_count": 6,
   "metadata": {},
   "outputs": [
    {
     "name": "stdout",
     "output_type": "stream",
     "text": [
      "var http = require('http');\n",
      "var handleRequest = function(request, response) {\n",
      "  response.writeHead(200);\n",
      "  response.end(\"Hello World!\");\n",
      "}\n",
      "var www = http.createServer(handleRequest);\n",
      "www.listen(8080);"
     ]
    }
   ],
   "source": [
    "!cat server.js"
   ]
  },
  {
   "cell_type": "markdown",
   "metadata": {},
   "source": [
    "Start the server by running `node server.js` in the cell below. Open a terminal and type\n",
    "```bash\n",
    "curl http://localhost:8000\n",
    "```\n",
    "to see what the server outputs. "
   ]
  },
  {
   "cell_type": "code",
   "execution_count": 7,
   "metadata": {},
   "outputs": [
    {
     "name": "stdout",
     "output_type": "stream",
     "text": [
      "^C\n"
     ]
    }
   ],
   "source": [
    "!node server.js"
   ]
  },
  {
   "cell_type": "markdown",
   "metadata": {},
   "source": [
    "You should see the output \"Hello World!\". Once you've verfied this, interupt the above running cell with `Esc` + `ii`."
   ]
  },
  {
   "cell_type": "markdown",
   "metadata": {},
   "source": [
    "## Create a Docker image. \n",
    "\n",
    "Now we will create a docker image that will do the following:\n",
    "\n",
    " 1. Start from the node image found on the Docker hub.\n",
    " 2. Expose port 8000.\n",
    " 3. Copy the `server.js` file to the image.\n",
    " 4. Start the node server as we previously did manually.\n",
    "\n",
    "Your finished Dockerfile should look something like this\n",
    "\n",
    "\n",
    "```bash\n",
    "FROM node:6.9.2\n",
    "\n",
    "EXPOSE 8080\n",
    "\n",
    "COPY server.js .\n",
    "\n",
    "CMD node server.js\n",
    "```"
   ]
  },
  {
   "cell_type": "code",
   "execution_count": null,
   "metadata": {},
   "outputs": [],
   "source": []
  }
 ],
 "metadata": {
  "environment": {
   "name": "tf2-2-3-gpu.2-3.m55",
   "type": "gcloud",
   "uri": "gcr.io/deeplearning-platform-release/tf2-2-3-gpu.2-3:m55"
  },
  "kernelspec": {
   "display_name": "Python 3",
   "language": "python",
   "name": "python3"
  },
  "language_info": {
   "codemirror_mode": {
    "name": "ipython",
    "version": 3
   },
   "file_extension": ".py",
   "mimetype": "text/x-python",
   "name": "python",
   "nbconvert_exporter": "python",
   "pygments_lexer": "ipython3",
   "version": "3.7.8"
  }
 },
 "nbformat": 4,
 "nbformat_minor": 4
}
