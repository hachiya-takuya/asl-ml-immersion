{
 "cells": [
  {
   "cell_type": "markdown",
   "metadata": {
    "id": "IZ6SNYq_tVVC"
   },
   "source": [
    "# Classify text with BERT\n",
    "\n",
    "### Learning Objectives\n",
    "1. Learn how to load a pre-trained BERT model from TensorFlow Hub\n",
    "2. Learn how to build your own model by combining with a classifier\n",
    "3. Learn how to train a BERT model by fine-tuning\n",
    "4. Learn how to save your trained model and use it\n",
    "5. Learn how to evaluate a text classification model\n",
    "\n",
    "This lab will show you how to fine-tune BERT to perform sentiment analysis on a dataset of plain-text IMDB movie reviews.\n",
    "In addition to training a model, you will learn how to preprocess text into an appropriate format.\n",
    "\n",
    "### Before you start\n",
    "\n",
    "Please ensure you have a GPU (1 x NVIDIA Tesla T4 should be enough) attached to your Notebook instance to ensure that the training doesn't take too long. "
   ]
  },
  {
   "cell_type": "markdown",
   "metadata": {
    "id": "2PHBpLPuQdmK"
   },
   "source": [
    "## About BERT\n",
    "\n",
    "[BERT](https://arxiv.org/abs/1810.04805) and other Transformer encoder architectures have been wildly successful on a variety of tasks in NLP (natural language processing). They compute vector-space representations of natural language that are suitable for use in deep learning models. The BERT family of models uses the Transformer encoder architecture to process each token of input text in the full context of all tokens before and after, hence the name: Bidirectional Encoder Representations from Transformers. \n",
    "\n",
    "BERT models are usually pre-trained on a large corpus of text, then fine-tuned for specific tasks.\n"
   ]
  },
  {
   "cell_type": "markdown",
   "metadata": {
    "id": "SCjmX4zTCkRK"
   },
   "source": [
    "### Setup\n"
   ]
  },
  {
   "cell_type": "markdown",
   "metadata": {},
   "source": [
    "Select the `bert_kernel` for this Jupyter notebook from the kernel menu in the top-right corner.\n",
    "\n",
    "If the `bert_kernel` is unavailable, run the following cell to create it:"
   ]
  },
  {
   "cell_type": "code",
   "execution_count": 1,
   "metadata": {},
   "outputs": [
    {
     "name": "stdout",
     "output_type": "stream",
     "text": [
      "./kernels/bert_kernel.sh\n",
      "creating bert_kernel at /home/jupyter/asl-ml-immersion/notebooks/text_models\n",
      "Requirement already satisfied: pip in ./bert_kernel/lib/python3.7/site-packages (23.0.1)\n",
      "Requirement already satisfied: ipykernel in ./bert_kernel/lib/python3.7/site-packages (6.16.2)\n",
      "Requirement already satisfied: debugpy>=1.0 in ./bert_kernel/lib/python3.7/site-packages (from ipykernel) (1.6.7)\n",
      "Requirement already satisfied: matplotlib-inline>=0.1 in ./bert_kernel/lib/python3.7/site-packages (from ipykernel) (0.1.6)\n",
      "Requirement already satisfied: nest-asyncio in ./bert_kernel/lib/python3.7/site-packages (from ipykernel) (1.5.6)\n",
      "Requirement already satisfied: packaging in ./bert_kernel/lib/python3.7/site-packages (from ipykernel) (23.0)\n",
      "Requirement already satisfied: pyzmq>=17 in ./bert_kernel/lib/python3.7/site-packages (from ipykernel) (25.0.2)\n",
      "Requirement already satisfied: tornado>=6.1 in ./bert_kernel/lib/python3.7/site-packages (from ipykernel) (6.2)\n",
      "Requirement already satisfied: ipython>=7.23.1 in ./bert_kernel/lib/python3.7/site-packages (from ipykernel) (7.34.0)\n",
      "Requirement already satisfied: jupyter-client>=6.1.12 in ./bert_kernel/lib/python3.7/site-packages (from ipykernel) (7.4.9)\n",
      "Requirement already satisfied: psutil in ./bert_kernel/lib/python3.7/site-packages (from ipykernel) (5.9.4)\n",
      "Requirement already satisfied: traitlets>=5.1.0 in ./bert_kernel/lib/python3.7/site-packages (from ipykernel) (5.9.0)\n",
      "Requirement already satisfied: setuptools>=18.5 in ./bert_kernel/lib/python3.7/site-packages (from ipython>=7.23.1->ipykernel) (47.1.0)\n",
      "Requirement already satisfied: pexpect>4.3 in ./bert_kernel/lib/python3.7/site-packages (from ipython>=7.23.1->ipykernel) (4.8.0)\n",
      "Requirement already satisfied: decorator in ./bert_kernel/lib/python3.7/site-packages (from ipython>=7.23.1->ipykernel) (5.1.1)\n",
      "Requirement already satisfied: pickleshare in ./bert_kernel/lib/python3.7/site-packages (from ipython>=7.23.1->ipykernel) (0.7.5)\n",
      "Requirement already satisfied: prompt-toolkit!=3.0.0,!=3.0.1,<3.1.0,>=2.0.0 in ./bert_kernel/lib/python3.7/site-packages (from ipython>=7.23.1->ipykernel) (3.0.38)\n",
      "Requirement already satisfied: backcall in ./bert_kernel/lib/python3.7/site-packages (from ipython>=7.23.1->ipykernel) (0.2.0)\n",
      "Requirement already satisfied: pygments in ./bert_kernel/lib/python3.7/site-packages (from ipython>=7.23.1->ipykernel) (2.14.0)\n",
      "Requirement already satisfied: jedi>=0.16 in ./bert_kernel/lib/python3.7/site-packages (from ipython>=7.23.1->ipykernel) (0.18.2)\n",
      "Requirement already satisfied: jupyter-core>=4.9.2 in ./bert_kernel/lib/python3.7/site-packages (from jupyter-client>=6.1.12->ipykernel) (4.12.0)\n",
      "Requirement already satisfied: python-dateutil>=2.8.2 in ./bert_kernel/lib/python3.7/site-packages (from jupyter-client>=6.1.12->ipykernel) (2.8.2)\n",
      "Requirement already satisfied: entrypoints in ./bert_kernel/lib/python3.7/site-packages (from jupyter-client>=6.1.12->ipykernel) (0.4)\n",
      "Requirement already satisfied: parso<0.9.0,>=0.8.0 in ./bert_kernel/lib/python3.7/site-packages (from jedi>=0.16->ipython>=7.23.1->ipykernel) (0.8.3)\n",
      "Requirement already satisfied: ptyprocess>=0.5 in ./bert_kernel/lib/python3.7/site-packages (from pexpect>4.3->ipython>=7.23.1->ipykernel) (0.7.0)\n",
      "Requirement already satisfied: wcwidth in ./bert_kernel/lib/python3.7/site-packages (from prompt-toolkit!=3.0.0,!=3.0.1,<3.1.0,>=2.0.0->ipython>=7.23.1->ipykernel) (0.2.6)\n",
      "Requirement already satisfied: six>=1.5 in ./bert_kernel/lib/python3.7/site-packages (from python-dateutil>=2.8.2->jupyter-client>=6.1.12->ipykernel) (1.16.0)\n",
      "Installed kernelspec bert_kernel in /home/jupyter/.local/share/jupyter/kernels/bert_kernel\n",
      "Collecting google-cloud-aiplatform==1.19.0\n",
      "  Using cached google_cloud_aiplatform-1.19.0-py2.py3-none-any.whl (2.3 MB)\n",
      "Requirement already satisfied: tensorflow==2.8.4 in ./bert_kernel/lib/python3.7/site-packages (from -r requirements.txt (line 2)) (2.8.4)\n",
      "Requirement already satisfied: tensorflow_text==2.8.2 in ./bert_kernel/lib/python3.7/site-packages (from -r requirements.txt (line 3)) (2.8.2)\n",
      "Requirement already satisfied: tf-models-official==2.8.0 in ./bert_kernel/lib/python3.7/site-packages (from -r requirements.txt (line 4)) (2.8.0)\n",
      "Collecting google-cloud-resource-manager<3.0.0dev,>=1.3.3\n",
      "  Downloading google_cloud_resource_manager-1.9.1-py2.py3-none-any.whl (276 kB)\n",
      "\u001b[2K     \u001b[90m━━━━━━━━━━━━━━━━━━━━━━━━━━━━━━━━━━━━━━\u001b[0m \u001b[32m276.8/276.8 kB\u001b[0m \u001b[31m10.1 MB/s\u001b[0m eta \u001b[36m0:00:00\u001b[0m\n",
      "\u001b[?25hCollecting google-cloud-storage<3.0.0dev,>=1.32.0\n",
      "  Downloading google_cloud_storage-2.8.0-py2.py3-none-any.whl (113 kB)\n",
      "\u001b[2K     \u001b[90m━━━━━━━━━━━━━━━━━━━━━━━━━━━━━━━━━━━━━━\u001b[0m \u001b[32m113.6/113.6 kB\u001b[0m \u001b[31m20.1 MB/s\u001b[0m eta \u001b[36m0:00:00\u001b[0m\n",
      "\u001b[?25hCollecting google-cloud-bigquery<3.0.0dev,>=1.15.0\n",
      "  Using cached google_cloud_bigquery-2.34.4-py2.py3-none-any.whl (206 kB)\n",
      "Requirement already satisfied: protobuf!=3.20.0,!=3.20.1,!=4.21.0,!=4.21.1,!=4.21.2,!=4.21.3,!=4.21.4,!=4.21.5,<5.0.0dev,>=3.19.5 in ./bert_kernel/lib/python3.7/site-packages (from google-cloud-aiplatform==1.19.0->-r requirements.txt (line 1)) (3.19.6)\n",
      "Collecting proto-plus<2.0.0dev,>=1.22.0\n",
      "  Downloading proto_plus-1.22.2-py3-none-any.whl (47 kB)\n",
      "\u001b[2K     \u001b[90m━━━━━━━━━━━━━━━━━━━━━━━━━━━━━━━━━━━━━━━━\u001b[0m \u001b[32m47.9/47.9 kB\u001b[0m \u001b[31m10.9 MB/s\u001b[0m eta \u001b[36m0:00:00\u001b[0m\n",
      "\u001b[?25hCollecting packaging<22.0.0dev,>=14.3\n",
      "  Using cached packaging-21.3-py3-none-any.whl (40 kB)\n",
      "Requirement already satisfied: google-api-core[grpc]!=2.0.*,!=2.1.*,!=2.2.*,!=2.3.*,!=2.4.*,!=2.5.*,!=2.6.*,!=2.7.*,<3.0.0dev,>=1.32.0 in ./bert_kernel/lib/python3.7/site-packages (from google-cloud-aiplatform==1.19.0->-r requirements.txt (line 1)) (2.11.0)\n",
      "Requirement already satisfied: astunparse>=1.6.0 in ./bert_kernel/lib/python3.7/site-packages (from tensorflow==2.8.4->-r requirements.txt (line 2)) (1.6.3)\n",
      "Requirement already satisfied: google-pasta>=0.1.1 in ./bert_kernel/lib/python3.7/site-packages (from tensorflow==2.8.4->-r requirements.txt (line 2)) (0.2.0)\n",
      "Requirement already satisfied: wrapt>=1.11.0 in ./bert_kernel/lib/python3.7/site-packages (from tensorflow==2.8.4->-r requirements.txt (line 2)) (1.15.0)\n",
      "Requirement already satisfied: opt-einsum>=2.3.2 in ./bert_kernel/lib/python3.7/site-packages (from tensorflow==2.8.4->-r requirements.txt (line 2)) (3.3.0)\n",
      "Requirement already satisfied: tensorflow-io-gcs-filesystem>=0.23.1 in ./bert_kernel/lib/python3.7/site-packages (from tensorflow==2.8.4->-r requirements.txt (line 2)) (0.32.0)\n",
      "Requirement already satisfied: tensorflow-estimator<2.9,>=2.8 in ./bert_kernel/lib/python3.7/site-packages (from tensorflow==2.8.4->-r requirements.txt (line 2)) (2.8.0)\n",
      "Requirement already satisfied: numpy>=1.20 in ./bert_kernel/lib/python3.7/site-packages (from tensorflow==2.8.4->-r requirements.txt (line 2)) (1.21.6)\n",
      "Requirement already satisfied: h5py>=2.9.0 in ./bert_kernel/lib/python3.7/site-packages (from tensorflow==2.8.4->-r requirements.txt (line 2)) (3.8.0)\n",
      "Requirement already satisfied: typing-extensions>=3.6.6 in ./bert_kernel/lib/python3.7/site-packages (from tensorflow==2.8.4->-r requirements.txt (line 2)) (4.5.0)\n",
      "Requirement already satisfied: absl-py>=0.4.0 in ./bert_kernel/lib/python3.7/site-packages (from tensorflow==2.8.4->-r requirements.txt (line 2)) (1.4.0)\n",
      "Requirement already satisfied: flatbuffers>=1.12 in ./bert_kernel/lib/python3.7/site-packages (from tensorflow==2.8.4->-r requirements.txt (line 2)) (23.3.3)\n",
      "Requirement already satisfied: tensorboard<2.9,>=2.8 in ./bert_kernel/lib/python3.7/site-packages (from tensorflow==2.8.4->-r requirements.txt (line 2)) (2.8.0)\n",
      "Requirement already satisfied: keras<2.9,>=2.8.0rc0 in ./bert_kernel/lib/python3.7/site-packages (from tensorflow==2.8.4->-r requirements.txt (line 2)) (2.8.0)\n",
      "Requirement already satisfied: grpcio<2.0,>=1.24.3 in ./bert_kernel/lib/python3.7/site-packages (from tensorflow==2.8.4->-r requirements.txt (line 2)) (1.53.0)\n",
      "Requirement already satisfied: gast>=0.2.1 in ./bert_kernel/lib/python3.7/site-packages (from tensorflow==2.8.4->-r requirements.txt (line 2)) (0.5.3)\n",
      "Requirement already satisfied: termcolor>=1.1.0 in ./bert_kernel/lib/python3.7/site-packages (from tensorflow==2.8.4->-r requirements.txt (line 2)) (2.2.0)\n",
      "Requirement already satisfied: six>=1.12.0 in ./bert_kernel/lib/python3.7/site-packages (from tensorflow==2.8.4->-r requirements.txt (line 2)) (1.16.0)\n",
      "Requirement already satisfied: setuptools in ./bert_kernel/lib/python3.7/site-packages (from tensorflow==2.8.4->-r requirements.txt (line 2)) (47.1.0)\n",
      "Requirement already satisfied: libclang>=9.0.1 in ./bert_kernel/lib/python3.7/site-packages (from tensorflow==2.8.4->-r requirements.txt (line 2)) (16.0.0)\n",
      "Requirement already satisfied: keras-preprocessing>=1.1.1 in ./bert_kernel/lib/python3.7/site-packages (from tensorflow==2.8.4->-r requirements.txt (line 2)) (1.1.2)\n",
      "Requirement already satisfied: tensorflow-hub>=0.8.0 in ./bert_kernel/lib/python3.7/site-packages (from tensorflow_text==2.8.2->-r requirements.txt (line 3)) (0.13.0)\n",
      "Requirement already satisfied: scipy>=0.19.1 in ./bert_kernel/lib/python3.7/site-packages (from tf-models-official==2.8.0->-r requirements.txt (line 4)) (1.7.3)\n",
      "Requirement already satisfied: Pillow in ./bert_kernel/lib/python3.7/site-packages (from tf-models-official==2.8.0->-r requirements.txt (line 4)) (9.5.0)\n",
      "Requirement already satisfied: sentencepiece in ./bert_kernel/lib/python3.7/site-packages (from tf-models-official==2.8.0->-r requirements.txt (line 4)) (0.1.97)\n",
      "Requirement already satisfied: tensorflow-addons in ./bert_kernel/lib/python3.7/site-packages (from tf-models-official==2.8.0->-r requirements.txt (line 4)) (0.19.0)\n",
      "Requirement already satisfied: google-api-python-client>=1.6.7 in ./bert_kernel/lib/python3.7/site-packages (from tf-models-official==2.8.0->-r requirements.txt (line 4)) (2.84.0)\n",
      "Requirement already satisfied: oauth2client in ./bert_kernel/lib/python3.7/site-packages (from tf-models-official==2.8.0->-r requirements.txt (line 4)) (4.1.3)\n",
      "Requirement already satisfied: kaggle>=1.3.9 in ./bert_kernel/lib/python3.7/site-packages (from tf-models-official==2.8.0->-r requirements.txt (line 4)) (1.5.13)\n",
      "Requirement already satisfied: tf-slim>=1.1.0 in ./bert_kernel/lib/python3.7/site-packages (from tf-models-official==2.8.0->-r requirements.txt (line 4)) (1.1.0)\n",
      "Requirement already satisfied: gin-config in ./bert_kernel/lib/python3.7/site-packages (from tf-models-official==2.8.0->-r requirements.txt (line 4)) (0.5.0)\n",
      "Requirement already satisfied: psutil>=5.4.3 in ./bert_kernel/lib/python3.7/site-packages (from tf-models-official==2.8.0->-r requirements.txt (line 4)) (5.9.4)\n",
      "Requirement already satisfied: matplotlib in ./bert_kernel/lib/python3.7/site-packages (from tf-models-official==2.8.0->-r requirements.txt (line 4)) (3.5.3)\n",
      "Requirement already satisfied: sacrebleu in ./bert_kernel/lib/python3.7/site-packages (from tf-models-official==2.8.0->-r requirements.txt (line 4)) (2.3.1)\n",
      "Requirement already satisfied: pandas>=0.22.0 in ./bert_kernel/lib/python3.7/site-packages (from tf-models-official==2.8.0->-r requirements.txt (line 4)) (1.3.5)\n",
      "Requirement already satisfied: tensorflow-model-optimization>=0.4.1 in ./bert_kernel/lib/python3.7/site-packages (from tf-models-official==2.8.0->-r requirements.txt (line 4)) (0.7.3)\n",
      "Requirement already satisfied: opencv-python-headless in ./bert_kernel/lib/python3.7/site-packages (from tf-models-official==2.8.0->-r requirements.txt (line 4)) (4.7.0.72)\n",
      "Requirement already satisfied: pyyaml<6.0,>=5.1 in ./bert_kernel/lib/python3.7/site-packages (from tf-models-official==2.8.0->-r requirements.txt (line 4)) (5.4.1)\n",
      "Requirement already satisfied: pycocotools in ./bert_kernel/lib/python3.7/site-packages (from tf-models-official==2.8.0->-r requirements.txt (line 4)) (2.0.6)\n",
      "Requirement already satisfied: seqeval in ./bert_kernel/lib/python3.7/site-packages (from tf-models-official==2.8.0->-r requirements.txt (line 4)) (1.2.2)\n",
      "Requirement already satisfied: tensorflow-datasets in ./bert_kernel/lib/python3.7/site-packages (from tf-models-official==2.8.0->-r requirements.txt (line 4)) (4.8.2)\n",
      "Requirement already satisfied: py-cpuinfo>=3.3.0 in ./bert_kernel/lib/python3.7/site-packages (from tf-models-official==2.8.0->-r requirements.txt (line 4)) (9.0.0)\n",
      "Requirement already satisfied: Cython in ./bert_kernel/lib/python3.7/site-packages (from tf-models-official==2.8.0->-r requirements.txt (line 4)) (0.29.34)\n",
      "Requirement already satisfied: wheel<1.0,>=0.23.0 in ./bert_kernel/lib/python3.7/site-packages (from astunparse>=1.6.0->tensorflow==2.8.4->-r requirements.txt (line 2)) (0.40.0)\n",
      "Requirement already satisfied: googleapis-common-protos<2.0dev,>=1.56.2 in ./bert_kernel/lib/python3.7/site-packages (from google-api-core[grpc]!=2.0.*,!=2.1.*,!=2.2.*,!=2.3.*,!=2.4.*,!=2.5.*,!=2.6.*,!=2.7.*,<3.0.0dev,>=1.32.0->google-cloud-aiplatform==1.19.0->-r requirements.txt (line 1)) (1.59.0)\n",
      "Requirement already satisfied: requests<3.0.0dev,>=2.18.0 in ./bert_kernel/lib/python3.7/site-packages (from google-api-core[grpc]!=2.0.*,!=2.1.*,!=2.2.*,!=2.3.*,!=2.4.*,!=2.5.*,!=2.6.*,!=2.7.*,<3.0.0dev,>=1.32.0->google-cloud-aiplatform==1.19.0->-r requirements.txt (line 1)) (2.28.2)\n",
      "Requirement already satisfied: google-auth<3.0dev,>=2.14.1 in ./bert_kernel/lib/python3.7/site-packages (from google-api-core[grpc]!=2.0.*,!=2.1.*,!=2.2.*,!=2.3.*,!=2.4.*,!=2.5.*,!=2.6.*,!=2.7.*,<3.0.0dev,>=1.32.0->google-cloud-aiplatform==1.19.0->-r requirements.txt (line 1)) (2.17.2)\n",
      "Collecting grpcio-status<2.0dev,>=1.33.2\n",
      "  Downloading grpcio_status-1.53.0-py3-none-any.whl (5.1 kB)\n",
      "Requirement already satisfied: uritemplate<5,>=3.0.1 in ./bert_kernel/lib/python3.7/site-packages (from google-api-python-client>=1.6.7->tf-models-official==2.8.0->-r requirements.txt (line 4)) (4.1.1)\n",
      "Requirement already satisfied: google-auth-httplib2>=0.1.0 in ./bert_kernel/lib/python3.7/site-packages (from google-api-python-client>=1.6.7->tf-models-official==2.8.0->-r requirements.txt (line 4)) (0.1.0)\n",
      "Requirement already satisfied: httplib2<1dev,>=0.15.0 in ./bert_kernel/lib/python3.7/site-packages (from google-api-python-client>=1.6.7->tf-models-official==2.8.0->-r requirements.txt (line 4)) (0.22.0)\n",
      "Collecting google-cloud-core<3.0.0dev,>=1.4.1\n",
      "  Downloading google_cloud_core-2.3.2-py2.py3-none-any.whl (29 kB)\n",
      "Collecting google-resumable-media<3.0dev,>=0.6.0\n",
      "  Downloading google_resumable_media-2.4.1-py2.py3-none-any.whl (77 kB)\n",
      "\u001b[2K     \u001b[90m━━━━━━━━━━━━━━━━━━━━━━━━━━━━━━━━━━━━━━━━\u001b[0m \u001b[32m77.7/77.7 kB\u001b[0m \u001b[31m15.4 MB/s\u001b[0m eta \u001b[36m0:00:00\u001b[0m\n",
      "\u001b[?25hRequirement already satisfied: python-dateutil<3.0dev,>=2.7.2 in ./bert_kernel/lib/python3.7/site-packages (from google-cloud-bigquery<3.0.0dev,>=1.15.0->google-cloud-aiplatform==1.19.0->-r requirements.txt (line 1)) (2.8.2)\n",
      "Collecting grpc-google-iam-v1<1.0.0dev,>=0.12.4\n",
      "  Downloading grpc_google_iam_v1-0.12.6-py2.py3-none-any.whl (26 kB)\n",
      "Requirement already satisfied: certifi in ./bert_kernel/lib/python3.7/site-packages (from kaggle>=1.3.9->tf-models-official==2.8.0->-r requirements.txt (line 4)) (2022.12.7)\n",
      "Requirement already satisfied: tqdm in ./bert_kernel/lib/python3.7/site-packages (from kaggle>=1.3.9->tf-models-official==2.8.0->-r requirements.txt (line 4)) (4.65.0)\n",
      "Requirement already satisfied: python-slugify in ./bert_kernel/lib/python3.7/site-packages (from kaggle>=1.3.9->tf-models-official==2.8.0->-r requirements.txt (line 4)) (8.0.1)\n",
      "Requirement already satisfied: urllib3 in ./bert_kernel/lib/python3.7/site-packages (from kaggle>=1.3.9->tf-models-official==2.8.0->-r requirements.txt (line 4)) (1.26.15)\n",
      "Requirement already satisfied: pyparsing!=3.0.5,>=2.0.2 in ./bert_kernel/lib/python3.7/site-packages (from packaging<22.0.0dev,>=14.3->google-cloud-aiplatform==1.19.0->-r requirements.txt (line 1)) (3.0.9)\n",
      "Requirement already satisfied: pytz>=2017.3 in ./bert_kernel/lib/python3.7/site-packages (from pandas>=0.22.0->tf-models-official==2.8.0->-r requirements.txt (line 4)) (2023.3)\n",
      "Requirement already satisfied: werkzeug>=0.11.15 in ./bert_kernel/lib/python3.7/site-packages (from tensorboard<2.9,>=2.8->tensorflow==2.8.4->-r requirements.txt (line 2)) (2.2.3)\n",
      "Requirement already satisfied: markdown>=2.6.8 in ./bert_kernel/lib/python3.7/site-packages (from tensorboard<2.9,>=2.8->tensorflow==2.8.4->-r requirements.txt (line 2)) (3.4.3)\n",
      "Requirement already satisfied: tensorboard-data-server<0.7.0,>=0.6.0 in ./bert_kernel/lib/python3.7/site-packages (from tensorboard<2.9,>=2.8->tensorflow==2.8.4->-r requirements.txt (line 2)) (0.6.1)\n",
      "Requirement already satisfied: google-auth-oauthlib<0.5,>=0.4.1 in ./bert_kernel/lib/python3.7/site-packages (from tensorboard<2.9,>=2.8->tensorflow==2.8.4->-r requirements.txt (line 2)) (0.4.6)\n",
      "Requirement already satisfied: tensorboard-plugin-wit>=1.6.0 in ./bert_kernel/lib/python3.7/site-packages (from tensorboard<2.9,>=2.8->tensorflow==2.8.4->-r requirements.txt (line 2)) (1.8.1)\n",
      "Requirement already satisfied: dm-tree~=0.1.1 in ./bert_kernel/lib/python3.7/site-packages (from tensorflow-model-optimization>=0.4.1->tf-models-official==2.8.0->-r requirements.txt (line 4)) (0.1.8)\n",
      "Requirement already satisfied: cycler>=0.10 in ./bert_kernel/lib/python3.7/site-packages (from matplotlib->tf-models-official==2.8.0->-r requirements.txt (line 4)) (0.11.0)\n",
      "Requirement already satisfied: fonttools>=4.22.0 in ./bert_kernel/lib/python3.7/site-packages (from matplotlib->tf-models-official==2.8.0->-r requirements.txt (line 4)) (4.38.0)\n",
      "Requirement already satisfied: kiwisolver>=1.0.1 in ./bert_kernel/lib/python3.7/site-packages (from matplotlib->tf-models-official==2.8.0->-r requirements.txt (line 4)) (1.4.4)\n",
      "Requirement already satisfied: rsa>=3.1.4 in ./bert_kernel/lib/python3.7/site-packages (from oauth2client->tf-models-official==2.8.0->-r requirements.txt (line 4)) (4.9)\n",
      "Requirement already satisfied: pyasn1>=0.1.7 in ./bert_kernel/lib/python3.7/site-packages (from oauth2client->tf-models-official==2.8.0->-r requirements.txt (line 4)) (0.4.8)\n",
      "Requirement already satisfied: pyasn1-modules>=0.0.5 in ./bert_kernel/lib/python3.7/site-packages (from oauth2client->tf-models-official==2.8.0->-r requirements.txt (line 4)) (0.2.8)\n",
      "Requirement already satisfied: portalocker in ./bert_kernel/lib/python3.7/site-packages (from sacrebleu->tf-models-official==2.8.0->-r requirements.txt (line 4)) (2.7.0)\n",
      "Requirement already satisfied: colorama in ./bert_kernel/lib/python3.7/site-packages (from sacrebleu->tf-models-official==2.8.0->-r requirements.txt (line 4)) (0.4.6)\n",
      "Requirement already satisfied: tabulate>=0.8.9 in ./bert_kernel/lib/python3.7/site-packages (from sacrebleu->tf-models-official==2.8.0->-r requirements.txt (line 4)) (0.9.0)\n",
      "Requirement already satisfied: regex in ./bert_kernel/lib/python3.7/site-packages (from sacrebleu->tf-models-official==2.8.0->-r requirements.txt (line 4)) (2022.10.31)\n",
      "Requirement already satisfied: lxml in ./bert_kernel/lib/python3.7/site-packages (from sacrebleu->tf-models-official==2.8.0->-r requirements.txt (line 4)) (4.9.2)\n",
      "Requirement already satisfied: scikit-learn>=0.21.3 in ./bert_kernel/lib/python3.7/site-packages (from seqeval->tf-models-official==2.8.0->-r requirements.txt (line 4)) (1.0.2)\n",
      "Requirement already satisfied: typeguard>=2.7 in ./bert_kernel/lib/python3.7/site-packages (from tensorflow-addons->tf-models-official==2.8.0->-r requirements.txt (line 4)) (3.0.2)\n",
      "Requirement already satisfied: tensorflow-metadata in ./bert_kernel/lib/python3.7/site-packages (from tensorflow-datasets->tf-models-official==2.8.0->-r requirements.txt (line 4)) (1.12.0)\n",
      "Requirement already satisfied: click in ./bert_kernel/lib/python3.7/site-packages (from tensorflow-datasets->tf-models-official==2.8.0->-r requirements.txt (line 4)) (8.1.3)\n",
      "Requirement already satisfied: toml in ./bert_kernel/lib/python3.7/site-packages (from tensorflow-datasets->tf-models-official==2.8.0->-r requirements.txt (line 4)) (0.10.2)\n",
      "Requirement already satisfied: promise in ./bert_kernel/lib/python3.7/site-packages (from tensorflow-datasets->tf-models-official==2.8.0->-r requirements.txt (line 4)) (2.3)\n",
      "Requirement already satisfied: importlib-resources in ./bert_kernel/lib/python3.7/site-packages (from tensorflow-datasets->tf-models-official==2.8.0->-r requirements.txt (line 4)) (5.12.0)\n",
      "Requirement already satisfied: etils[enp,epath]>=0.9.0 in ./bert_kernel/lib/python3.7/site-packages (from tensorflow-datasets->tf-models-official==2.8.0->-r requirements.txt (line 4)) (0.9.0)\n",
      "Requirement already satisfied: dill in ./bert_kernel/lib/python3.7/site-packages (from tensorflow-datasets->tf-models-official==2.8.0->-r requirements.txt (line 4)) (0.3.6)\n",
      "Requirement already satisfied: zipp in ./bert_kernel/lib/python3.7/site-packages (from etils[enp,epath]>=0.9.0->tensorflow-datasets->tf-models-official==2.8.0->-r requirements.txt (line 4)) (3.15.0)\n",
      "Requirement already satisfied: cachetools<6.0,>=2.0.0 in ./bert_kernel/lib/python3.7/site-packages (from google-auth<3.0dev,>=2.14.1->google-api-core[grpc]!=2.0.*,!=2.1.*,!=2.2.*,!=2.3.*,!=2.4.*,!=2.5.*,!=2.6.*,!=2.7.*,<3.0.0dev,>=1.32.0->google-cloud-aiplatform==1.19.0->-r requirements.txt (line 1)) (5.3.0)\n",
      "Requirement already satisfied: requests-oauthlib>=0.7.0 in ./bert_kernel/lib/python3.7/site-packages (from google-auth-oauthlib<0.5,>=0.4.1->tensorboard<2.9,>=2.8->tensorflow==2.8.4->-r requirements.txt (line 2)) (1.3.1)\n",
      "Collecting google-crc32c<2.0dev,>=1.0\n",
      "  Downloading google_crc32c-1.5.0-cp37-cp37m-manylinux_2_17_x86_64.manylinux2014_x86_64.whl (32 kB)\n",
      "Collecting grpcio-status<2.0dev,>=1.33.2\n",
      "  Downloading grpcio_status-1.51.3-py3-none-any.whl (5.1 kB)\n",
      "  Downloading grpcio_status-1.51.1-py3-none-any.whl (5.1 kB)\n",
      "  Downloading grpcio_status-1.50.0-py3-none-any.whl (14 kB)\n",
      "  Downloading grpcio_status-1.49.1-py3-none-any.whl (14 kB)\n",
      "  Downloading grpcio_status-1.48.2-py3-none-any.whl (14 kB)\n",
      "Requirement already satisfied: importlib-metadata>=4.4 in ./bert_kernel/lib/python3.7/site-packages (from markdown>=2.6.8->tensorboard<2.9,>=2.8->tensorflow==2.8.4->-r requirements.txt (line 2)) (6.1.0)\n",
      "Requirement already satisfied: idna<4,>=2.5 in ./bert_kernel/lib/python3.7/site-packages (from requests<3.0.0dev,>=2.18.0->google-api-core[grpc]!=2.0.*,!=2.1.*,!=2.2.*,!=2.3.*,!=2.4.*,!=2.5.*,!=2.6.*,!=2.7.*,<3.0.0dev,>=1.32.0->google-cloud-aiplatform==1.19.0->-r requirements.txt (line 1)) (3.4)\n",
      "Requirement already satisfied: charset-normalizer<4,>=2 in ./bert_kernel/lib/python3.7/site-packages (from requests<3.0.0dev,>=2.18.0->google-api-core[grpc]!=2.0.*,!=2.1.*,!=2.2.*,!=2.3.*,!=2.4.*,!=2.5.*,!=2.6.*,!=2.7.*,<3.0.0dev,>=1.32.0->google-cloud-aiplatform==1.19.0->-r requirements.txt (line 1)) (3.1.0)\n",
      "Requirement already satisfied: threadpoolctl>=2.0.0 in ./bert_kernel/lib/python3.7/site-packages (from scikit-learn>=0.21.3->seqeval->tf-models-official==2.8.0->-r requirements.txt (line 4)) (3.1.0)\n",
      "Requirement already satisfied: joblib>=0.11 in ./bert_kernel/lib/python3.7/site-packages (from scikit-learn>=0.21.3->seqeval->tf-models-official==2.8.0->-r requirements.txt (line 4)) (1.2.0)\n",
      "Requirement already satisfied: MarkupSafe>=2.1.1 in ./bert_kernel/lib/python3.7/site-packages (from werkzeug>=0.11.15->tensorboard<2.9,>=2.8->tensorflow==2.8.4->-r requirements.txt (line 2)) (2.1.2)\n",
      "Requirement already satisfied: text-unidecode>=1.3 in ./bert_kernel/lib/python3.7/site-packages (from python-slugify->kaggle>=1.3.9->tf-models-official==2.8.0->-r requirements.txt (line 4)) (1.3)\n",
      "Requirement already satisfied: oauthlib>=3.0.0 in ./bert_kernel/lib/python3.7/site-packages (from requests-oauthlib>=0.7.0->google-auth-oauthlib<0.5,>=0.4.1->tensorboard<2.9,>=2.8->tensorflow==2.8.4->-r requirements.txt (line 2)) (3.2.2)\n",
      "Installing collected packages: proto-plus, packaging, google-crc32c, grpcio-status, google-resumable-media, grpc-google-iam-v1, google-cloud-core, google-cloud-storage, google-cloud-resource-manager, google-cloud-bigquery, google-cloud-aiplatform\n",
      "  Attempting uninstall: packaging\n",
      "    Found existing installation: packaging 23.0\n",
      "    Uninstalling packaging-23.0:\n",
      "      Successfully uninstalled packaging-23.0\n",
      "Successfully installed google-cloud-aiplatform-1.19.0 google-cloud-bigquery-2.34.4 google-cloud-core-2.3.2 google-cloud-resource-manager-1.9.1 google-cloud-storage-2.8.0 google-crc32c-1.5.0 google-resumable-media-2.4.1 grpc-google-iam-v1-0.12.6 grpcio-status-1.48.2 packaging-21.3 proto-plus-1.22.2\n"
     ]
    }
   ],
   "source": [
    "!cd ~/asl-ml-immersion && make bert_kernel"
   ]
  },
  {
   "cell_type": "code",
   "execution_count": 29,
   "metadata": {
    "id": "_XgTpm9ZxoN9",
    "tags": []
   },
   "outputs": [],
   "source": [
    "import datetime\n",
    "import os\n",
    "import shutil\n",
    "\n",
    "import matplotlib.pyplot as plt\n",
    "import tensorflow as tf\n",
    "import tensorflow_hub as hub\n",
    "import tensorflow_text as text\n",
    "from google.cloud import aiplatform\n",
    "from official.nlp import optimization  # to create AdamW optmizer\n",
    "\n",
    "tf.get_logger().setLevel(\"ERROR\")"
   ]
  },
  {
   "cell_type": "markdown",
   "metadata": {},
   "source": [
    "To check if you have a GPU attached. Run the following."
   ]
  },
  {
   "cell_type": "code",
   "execution_count": 30,
   "metadata": {},
   "outputs": [
    {
     "name": "stdout",
     "output_type": "stream",
     "text": [
      "Num GPUs Available:  1\n"
     ]
    }
   ],
   "source": [
    "print(\"Num GPUs Available: \", len(tf.config.list_physical_devices(\"GPU\")))"
   ]
  },
  {
   "cell_type": "markdown",
   "metadata": {
    "id": "q6MugfEgDRpY"
   },
   "source": [
    "### Sentiment Analysis\n",
    "\n",
    "This notebook trains a sentiment analysis model to classify movie reviews as *positive* or *negative*, based on the text of the review.\n",
    "\n",
    "You'll use the [Large Movie Review Dataset](https://ai.stanford.edu/~amaas/data/sentiment/) that contains the text of 50,000 movie reviews from the [Internet Movie Database](https://www.imdb.com/)."
   ]
  },
  {
   "cell_type": "markdown",
   "metadata": {
    "id": "Vnvd4mrtPHHV"
   },
   "source": [
    "### Download the IMDB dataset\n",
    "\n",
    "Let's download and extract the dataset, then explore the directory structure.\n"
   ]
  },
  {
   "cell_type": "code",
   "execution_count": 31,
   "metadata": {
    "id": "pOdqCMoQDRJL",
    "tags": []
   },
   "outputs": [],
   "source": [
    "url = \"https://ai.stanford.edu/~amaas/data/sentiment/aclImdb_v1.tar.gz\"\n",
    "\n",
    "# Set a path to a folder outside the git repo. This is important so data won't get indexed by git on Jupyter lab\n",
    "path = \"/home/jupyter/\"\n",
    "\n",
    "dataset = tf.keras.utils.get_file(\n",
    "    \"aclImdb_v1.tar.gz\", url, untar=True, cache_dir=path, cache_subdir=\"\"\n",
    ")\n",
    "\n",
    "dataset_dir = os.path.join(os.path.dirname(dataset), \"aclImdb\")\n",
    "\n",
    "train_dir = os.path.join(dataset_dir, \"train\")\n",
    "\n",
    "# remove unused folders to make it easier to load the data\n",
    "remove_dir = os.path.join(train_dir, \"unsup\")\n",
    "shutil.rmtree(remove_dir)"
   ]
  },
  {
   "cell_type": "markdown",
   "metadata": {
    "id": "lN9lWCYfPo7b"
   },
   "source": [
    "Next, you will use the `text_dataset_from_directory` utility to create a labeled `tf.data.Dataset`.\n",
    "\n",
    "The IMDB dataset has already been divided into train and test, but it lacks a validation set. Let's create a validation set using an 80:20 split of the training data by using the `validation_split` argument below.\n",
    "\n",
    "Note:  When using the `validation_split` and `subset` arguments, make sure to either specify a random seed, or to pass `shuffle=False`, so that the validation and training splits have no overlap."
   ]
  },
  {
   "cell_type": "code",
   "execution_count": 32,
   "metadata": {
    "id": "6IwI_2bcIeX8",
    "tags": []
   },
   "outputs": [
    {
     "name": "stdout",
     "output_type": "stream",
     "text": [
      "Found 25000 files belonging to 2 classes.\n",
      "Using 20000 files for training.\n",
      "Found 25000 files belonging to 2 classes.\n",
      "Using 5000 files for validation.\n",
      "Found 25000 files belonging to 2 classes.\n"
     ]
    }
   ],
   "source": [
    "AUTOTUNE = tf.data.AUTOTUNE\n",
    "batch_size = 32\n",
    "seed = 42\n",
    "\n",
    "raw_train_ds = tf.keras.preprocessing.text_dataset_from_directory(\n",
    "    path + \"aclImdb/train\",\n",
    "    batch_size=batch_size,\n",
    "    validation_split=0.2,\n",
    "    subset=\"training\",\n",
    "    seed=seed,\n",
    ")\n",
    "\n",
    "class_names = raw_train_ds.class_names\n",
    "train_ds = raw_train_ds.cache().prefetch(buffer_size=AUTOTUNE)\n",
    "\n",
    "val_ds = tf.keras.preprocessing.text_dataset_from_directory(\n",
    "    path + \"aclImdb/train\",\n",
    "    batch_size=batch_size,\n",
    "    validation_split=0.2,\n",
    "    subset=\"validation\",\n",
    "    seed=seed,\n",
    ")\n",
    "\n",
    "val_ds = val_ds.cache().prefetch(buffer_size=AUTOTUNE)\n",
    "\n",
    "test_ds = tf.keras.preprocessing.text_dataset_from_directory(\n",
    "    path + \"aclImdb/test\", batch_size=batch_size\n",
    ")\n",
    "\n",
    "test_ds = test_ds.cache().prefetch(buffer_size=AUTOTUNE)"
   ]
  },
  {
   "cell_type": "markdown",
   "metadata": {
    "id": "HGm10A5HRGXp"
   },
   "source": [
    "Let's take a look at a few reviews."
   ]
  },
  {
   "cell_type": "code",
   "execution_count": 33,
   "metadata": {
    "id": "JuxDkcvVIoev",
    "tags": []
   },
   "outputs": [
    {
     "name": "stdout",
     "output_type": "stream",
     "text": [
      "Review: b'\"Pandemonium\" is a horror movie spoof that comes off more stupid than funny. Believe me when I tell you, I love comedies. Especially comedy spoofs. \"Airplane\", \"The Naked Gun\" trilogy, \"Blazing Saddles\", \"High Anxiety\", and \"Spaceballs\" are some of my favorite comedies that spoof a particular genre. \"Pandemonium\" is not up there with those films. Most of the scenes in this movie had me sitting there in stunned silence because the movie wasn\\'t all that funny. There are a few laughs in the film, but when you watch a comedy, you expect to laugh a lot more than a few times and that\\'s all this film has going for it. Geez, \"Scream\" had more laughs than this film and that was more of a horror film. How bizarre is that?<br /><br />*1/2 (out of four)'\n",
      "Label : 0 (neg)\n",
      "Review: b\"David Mamet is a very interesting and a very un-equal director. His first movie 'House of Games' was the one I liked best, and it set a series of films with characters whose perspective of life changes as they get into complicated situations, and so does the perspective of the viewer.<br /><br />So is 'Homicide' which from the title tries to set the mind of the viewer to the usual crime drama. The principal characters are two cops, one Jewish and one Irish who deal with a racially charged area. The murder of an old Jewish shop owner who proves to be an ancient veteran of the Israeli Independence war triggers the Jewish identity in the mind and heart of the Jewish detective.<br /><br />This is were the flaws of the film are the more obvious. The process of awakening is theatrical and hard to believe, the group of Jewish militants is operatic, and the way the detective eventually walks to the final violent confrontation is pathetic. The end of the film itself is Mamet-like smart, but disappoints from a human emotional perspective.<br /><br />Joe Mantegna and William Macy give strong performances, but the flaws of the story are too evident to be easily compensated.\"\n",
      "Label : 0 (neg)\n",
      "Review: b'Great documentary about the lives of NY firefighters during the worst terrorist attack of all time.. That reason alone is why this should be a must see collectors item.. What shocked me was not only the attacks, but the\"High Fat Diet\" and physical appearance of some of these firefighters. I think a lot of Doctors would agree with me that,in the physical shape they were in, some of these firefighters would NOT of made it to the 79th floor carrying over 60 lbs of gear. Having said that i now have a greater respect for firefighters and i realize becoming a firefighter is a life altering job. The French have a history of making great documentary\\'s and that is what this is, a Great Documentary.....'\n",
      "Label : 1 (pos)\n"
     ]
    },
    {
     "name": "stderr",
     "output_type": "stream",
     "text": [
      "2023-04-07 15:35:21.799976: W tensorflow/core/kernels/data/cache_dataset_ops.cc:768] The calling iterator did not fully read the dataset being cached. In order to avoid unexpected truncation of the dataset, the partially cached contents of the dataset  will be discarded. This can happen if you have an input pipeline similar to `dataset.cache().take(k).repeat()`. You should use `dataset.take(k).cache().repeat()` instead.\n"
     ]
    }
   ],
   "source": [
    "for text_batch, label_batch in train_ds.take(1):\n",
    "    for i in range(3):\n",
    "        print(f\"Review: {text_batch.numpy()[i]}\")\n",
    "        label = label_batch.numpy()[i]\n",
    "        print(f\"Label : {label} ({class_names[label]})\")"
   ]
  },
  {
   "cell_type": "markdown",
   "metadata": {
    "id": "dX8FtlpGJRE6"
   },
   "source": [
    "## Loading models from TensorFlow Hub\n",
    "\n",
    "For the purpose of this lab, we will be loading a model called Small BERT. Small BERT has the same general architecture as the original BERT but the has fewer and/or smaller Transformer blocks. \n",
    "\n",
    "Some other popular BERT models are BERT Base, ALBERT, BERT Experts, Electra. See the continued learning section at the end of this lab for more info. \n",
    "\n",
    "Aside from the models available below, there are [multiple versions](https://tfhub.dev/google/collections/transformer_encoders_text/1) of the models that are larger and can yeld even better accuracy but they are too big to be fine-tuned on a single GPU. You will be able to do that on the [Solve GLUE tasks using BERT on a TPU colab](https://www.tensorflow.org/tutorials/text/solve_glue_tasks_using_bert_on_tpu).\n",
    "\n",
    "You'll see in the code below that switching the tfhub.dev URL is enough to try any of these models, because all the differences between them are encapsulated in the SavedModels from TF Hub."
   ]
  },
  {
   "cell_type": "markdown",
   "metadata": {},
   "source": [
    "### Choose a BERT model to fine-tune"
   ]
  },
  {
   "cell_type": "code",
   "execution_count": 34,
   "metadata": {
    "cellView": "form",
    "id": "y8_ctG55-uTX",
    "tags": []
   },
   "outputs": [
    {
     "name": "stdout",
     "output_type": "stream",
     "text": [
      "BERT model selected           : https://tfhub.dev/tensorflow/small_bert/bert_en_uncased_L-4_H-512_A-8/1\n",
      "Preprocess model auto-selected: https://tfhub.dev/tensorflow/bert_en_uncased_preprocess/3\n"
     ]
    }
   ],
   "source": [
    "# defining the URL of the smallBERT model to use\n",
    "tfhub_handle_encoder = (\n",
    "    \"https://tfhub.dev/tensorflow/small_bert/bert_en_uncased_L-4_H-512_A-8/1\"\n",
    ")\n",
    "\n",
    "# defining the corresponding preprocessing model for the BERT model above\n",
    "tfhub_handle_preprocess = (\n",
    "    \"https://tfhub.dev/tensorflow/bert_en_uncased_preprocess/3\"\n",
    ")\n",
    "\n",
    "print(f\"BERT model selected           : {tfhub_handle_encoder}\")\n",
    "print(f\"Preprocess model auto-selected: {tfhub_handle_preprocess}\")"
   ]
  },
  {
   "cell_type": "markdown",
   "metadata": {
    "id": "7WrcxxTRDdHi"
   },
   "source": [
    "## Preprocessing model\n",
    "\n",
    "Text inputs need to be transformed to numeric token ids and arranged in several Tensors before being input to BERT. TensorFlow Hub provides a matching preprocessing model for each of the BERT models discussed above, which implements this transformation using TF ops from the TF.text library. It is not necessary to run pure Python code outside your TensorFlow model to preprocess text.\n",
    "\n",
    "The preprocessing model must be the one referenced by the documentation of the BERT model, which you can read at the URL printed above. For BERT models from the drop-down above, the preprocessing model is selected automatically.\n",
    "\n",
    "Note: You will load the preprocessing model into a [hub.KerasLayer](https://www.tensorflow.org/hub/api_docs/python/hub/KerasLayer) to compose your fine-tuned model. This is the preferred API to load a TF2-style SavedModel from TF Hub into a Keras model."
   ]
  },
  {
   "cell_type": "markdown",
   "metadata": {},
   "source": [
    "Use `hub.KerasLayer` to initialize the preprocessing"
   ]
  },
  {
   "cell_type": "code",
   "execution_count": 35,
   "metadata": {},
   "outputs": [],
   "source": [
    "bert_preprocess_model = hub.KerasLayer(tfhub_handle_preprocess)"
   ]
  },
  {
   "cell_type": "markdown",
   "metadata": {
    "id": "x4naBiEE_cZX"
   },
   "source": [
    "Let's try the preprocessing model on some text and see the output:"
   ]
  },
  {
   "cell_type": "markdown",
   "metadata": {},
   "source": [
    "Call the preprocess model function and pass text_test"
   ]
  },
  {
   "cell_type": "code",
   "execution_count": 36,
   "metadata": {
    "id": "r9-zCzJpnuwS",
    "tags": []
   },
   "outputs": [
    {
     "name": "stdout",
     "output_type": "stream",
     "text": [
      "Keys       : ['input_word_ids', 'input_type_ids', 'input_mask']\n",
      "Shape      : (1, 128)\n",
      "Word Ids   : [ 101 2023 2003 2107 2019 6429 3185  999  102    0    0    0]\n",
      "Input Mask : [1 1 1 1 1 1 1 1 1 0 0 0]\n",
      "Type Ids   : [0 0 0 0 0 0 0 0 0 0 0 0]\n"
     ]
    }
   ],
   "source": [
    "text_test = [\"this is such an amazing movie!\"]\n",
    "text_preprocessed = bert_preprocess_model(text_test)\n",
    "\n",
    "# This print box will help you inspect the keys in the pre-processed dictionary\n",
    "print(f\"Keys       : {list(text_preprocessed.keys())}\")\n",
    "\n",
    "# 1. input_word_ids is the ids for the words in the tokenized sentence\n",
    "print(f'Shape      : {text_preprocessed[\"input_word_ids\"].shape}')\n",
    "print(f'Word Ids   : {text_preprocessed[\"input_word_ids\"][0, :12]}')\n",
    "\n",
    "# 2. input_mask is the tokens which we are masking (masked language model)\n",
    "print(f'Input Mask : {text_preprocessed[\"input_mask\"][0, :12]}')\n",
    "\n",
    "# 3. input_type_ids is the sentence id of the input sentence.\n",
    "print(f'Type Ids   : {text_preprocessed[\"input_type_ids\"][0, :12]}')"
   ]
  },
  {
   "cell_type": "markdown",
   "metadata": {
    "id": "EqL7ihkN_862"
   },
   "source": [
    "As you can see, now you have the 3 outputs from the preprocessing that a BERT model would use (`input_words_id`, `input_mask` and `input_type_ids`).\n",
    "\n",
    "Some other important points:\n",
    "- The input is truncated to 128 tokens. \n",
    "- The `input_type_ids` only have one value (0) because this is a single sentence input. For a multiple sentence input, it would have one number for each input.\n",
    "\n",
    "The text pre-processor is a TensorFlow model. This means that instead of pre-processing separately, we can include it as a layer in the model code."
   ]
  },
  {
   "cell_type": "markdown",
   "metadata": {
    "id": "DKnLPSEmtp9i"
   },
   "source": [
    "### Using the BERT model\n",
    "\n",
    "Before putting BERT into your own model, let's take a look at its outputs. You will load it from TF Hub and see the returned values."
   ]
  },
  {
   "cell_type": "code",
   "execution_count": 37,
   "metadata": {
    "id": "tXxYpK8ixL34",
    "tags": []
   },
   "outputs": [],
   "source": [
    "bert_model = hub.KerasLayer(tfhub_handle_encoder)"
   ]
  },
  {
   "cell_type": "code",
   "execution_count": 38,
   "metadata": {
    "id": "_OoF9mebuSZc",
    "tags": []
   },
   "outputs": [
    {
     "name": "stdout",
     "output_type": "stream",
     "text": [
      "Loaded BERT: https://tfhub.dev/tensorflow/small_bert/bert_en_uncased_L-4_H-512_A-8/1\n",
      "Pooled Outputs Shape:(1, 512)\n",
      "Pooled Outputs Values:[ 0.76262903  0.99280983 -0.18611847  0.3667386   0.15233745  0.6550445\n",
      "  0.9681154  -0.94862705  0.00216164 -0.9877732   0.0684273  -0.97630596]\n",
      "Sequence Outputs Shape:(1, 128, 512)\n",
      "Sequence Outputs Values:[[-0.28946295  0.34321263  0.33231527 ...  0.2130087   0.71020836\n",
      "  -0.05771071]\n",
      " [-0.2874208   0.31981027 -0.23018518 ...  0.5845508  -0.21329744\n",
      "   0.7269212 ]\n",
      " [-0.66157013  0.6887687  -0.8743292  ...  0.10877226 -0.26173285\n",
      "   0.47855547]\n",
      " ...\n",
      " [-0.22561097 -0.2892568  -0.07064426 ...  0.47566074  0.83277184\n",
      "   0.40025318]\n",
      " [-0.29824227 -0.27473107 -0.05450526 ...  0.488498    1.0955358\n",
      "   0.18163362]\n",
      " [-0.4437815   0.00930744  0.07223801 ...  0.17290124  1.1833242\n",
      "   0.07898009]]\n"
     ]
    }
   ],
   "source": [
    "bert_results = bert_model(text_preprocessed)\n",
    "\n",
    "print(f\"Loaded BERT: {tfhub_handle_encoder}\")\n",
    "print(f'Pooled Outputs Shape:{bert_results[\"pooled_output\"].shape}')\n",
    "print(f'Pooled Outputs Values:{bert_results[\"pooled_output\"][0, :12]}')\n",
    "print(f'Sequence Outputs Shape:{bert_results[\"sequence_output\"].shape}')\n",
    "print(f'Sequence Outputs Values:{bert_results[\"sequence_output\"][0, :12]}')"
   ]
  },
  {
   "cell_type": "markdown",
   "metadata": {
    "id": "sm61jDrezAll"
   },
   "source": [
    "The BERT models return a map with 3 important keys: `pooled_output`, `sequence_output`, `encoder_outputs`:\n",
    "\n",
    "- `pooled_output` to represent each input sequence as a whole. The shape is `[batch_size, H]`. You can think of this as an embedding for the entire movie review.\n",
    "- `sequence_output` represents each input token in the context. The shape is `[batch_size, seq_length, H]`. You can think of this as a contextual embedding for every token in the movie review.\n",
    "- `encoder_outputs` are the intermediate activations of the `L` Transformer blocks. `outputs[\"encoder_outputs\"][i]` is a Tensor of shape `[batch_size, seq_length, 1024]` with the outputs of the i-th Transformer block, for `0 <= i < L`. The last value of the list is equal to `sequence_output`.\n",
    "\n",
    "For the fine-tuning you are going to use the `pooled_output` array."
   ]
  },
  {
   "cell_type": "markdown",
   "metadata": {
    "id": "pDNKfAXbDnJH"
   },
   "source": [
    "### Define your model\n",
    "\n",
    "You will create a very simple fine-tuned model, with the preprocessing model, the selected BERT model, one Dense and a Dropout layer.\n",
    "\n",
    "Note: for more information about the base model's input and output you can use copy the model's url to get to the documentation page."
   ]
  },
  {
   "cell_type": "markdown",
   "metadata": {},
   "source": [
    "The order of the layers in the model will be:\n",
    "1. Input Layer\n",
    "2. Pre-processing Layer\n",
    "3. Encoder Layer\n",
    "4. From the BERT output map, use pooled_output\n",
    "5. Dropout layer\n",
    "6. Dense layer "
   ]
  },
  {
   "cell_type": "code",
   "execution_count": 39,
   "metadata": {
    "id": "aksj743St9ga",
    "tags": []
   },
   "outputs": [
    {
     "name": "stdout",
     "output_type": "stream",
     "text": [
      "tf.Tensor([[0.59120435]], shape=(1, 1), dtype=float32)\n"
     ]
    }
   ],
   "source": [
    "def build_classifier_model(dropout_rate=0.1):\n",
    "    text_input = tf.keras.layers.Input(shape=(), dtype=tf.string, name=\"text\")\n",
    "    preprocessing_layer = hub.KerasLayer(\n",
    "        tfhub_handle_preprocess, name=\"preprocessing\"\n",
    "    )\n",
    "    encoder_inputs = preprocessing_layer(text_input)\n",
    "    encoder = hub.KerasLayer(\n",
    "        tfhub_handle_encoder, trainable=True, name=\"BERT_encoder\"\n",
    "    )\n",
    "    outputs = encoder(encoder_inputs)\n",
    "    net = outputs[\"pooled_output\"]\n",
    "    net = tf.keras.layers.Dropout(dropout_rate)(net)\n",
    "    net = tf.keras.layers.Dense(1, activation=\"sigmoid\", name=\"classifier\")(net)\n",
    "    return tf.keras.Model(text_input, net)\n",
    "\n",
    "\n",
    "# Let's check that the model runs with the output of the preprocessing model.\n",
    "dropout_rate = 0.15\n",
    "classifier_model = build_classifier_model(dropout_rate)\n",
    "bert_raw_result = classifier_model(tf.constant(text_test))\n",
    "print(bert_raw_result)"
   ]
  },
  {
   "cell_type": "markdown",
   "metadata": {
    "id": "ZTUzNV2JE2G3"
   },
   "source": [
    "The output is meaningless, of course, because the model has not been trained yet.\n",
    "\n",
    "Let's take a look at the model's structure."
   ]
  },
  {
   "cell_type": "code",
   "execution_count": 40,
   "metadata": {
    "id": "0EmzyHZXKIpm",
    "tags": []
   },
   "outputs": [
    {
     "name": "stdout",
     "output_type": "stream",
     "text": [
      "You must install pydot (`pip install pydot`) and install graphviz (see instructions at https://graphviz.gitlab.io/download/) for plot_model/model_to_dot to work.\n"
     ]
    }
   ],
   "source": [
    "tf.keras.utils.plot_model(classifier_model)"
   ]
  },
  {
   "cell_type": "markdown",
   "metadata": {
    "id": "WbUWoZMwc302"
   },
   "source": [
    "## Model training\n",
    "\n",
    "You now have all the pieces to train a model, including the preprocessing module, BERT encoder, data, and classifier."
   ]
  },
  {
   "cell_type": "markdown",
   "metadata": {
    "id": "WpJ3xcwDT56v"
   },
   "source": [
    "### Loss function\n",
    "\n",
    "Since this is a binary classification problem and the model outputs a probability (a single-unit layer), you'll use `losses.BinaryCrossentropy` loss function.\n"
   ]
  },
  {
   "cell_type": "markdown",
   "metadata": {},
   "source": [
    "Define your loss and evaluation metrics here. Since it is a binary classification use BinaryCrossentropy and BinaryAccuracy"
   ]
  },
  {
   "cell_type": "code",
   "execution_count": 41,
   "metadata": {
    "id": "OWPOZE-L3AgE",
    "tags": []
   },
   "outputs": [],
   "source": [
    "loss = tf.keras.losses.BinaryCrossentropy(from_logits=True)\n",
    "metrics = tf.metrics.BinaryAccuracy()"
   ]
  },
  {
   "cell_type": "markdown",
   "metadata": {
    "id": "77psrpfzbxtp"
   },
   "source": [
    "### Optimizer\n",
    "\n",
    "For fine-tuning, let's use the same optimizer that BERT was originally trained with: the \"Adaptive Moments\" (Adam). This optimizer minimizes the prediction loss and does regularization by weight decay (not using moments), which is also known as [AdamW](https://www.tensorflow.org/addons/api_docs/python/tfa/optimizers/AdamW).\n",
    "\n",
    "In past labs, we have been using the Adam optimizer which is a popular choice. However, for this lab we will be using a new optimizier which is meant to improve generalization. The intuition and algoritm behind AdamW can be found in this paper [here](https://arxiv.org/abs/1711.05101).\n",
    "\n",
    "For the learning rate (`init_lr`), we use the same schedule as BERT pre-training: linear decay of a notional initial learning rate, prefixed with a linear warm-up phase over the first 10% of training steps (`num_warmup_steps`). In line with the BERT paper, the initial learning rate is smaller for fine-tuning (best of 5e-5, 3e-5, 2e-5)."
   ]
  },
  {
   "cell_type": "code",
   "execution_count": 42,
   "metadata": {
    "id": "P9eP2y9dbw32",
    "tags": []
   },
   "outputs": [],
   "source": [
    "epochs = 5\n",
    "steps_per_epoch = tf.data.experimental.cardinality(train_ds).numpy()\n",
    "num_train_steps = steps_per_epoch * epochs\n",
    "num_warmup_steps = int(0.1 * num_train_steps)\n",
    "\n",
    "init_lr = 3e-5\n",
    "optimizer = optimization.create_optimizer(\n",
    "    init_lr=init_lr,\n",
    "    num_train_steps=num_train_steps,\n",
    "    num_warmup_steps=num_warmup_steps,\n",
    "    optimizer_type=\"adamw\",\n",
    ")"
   ]
  },
  {
   "cell_type": "markdown",
   "metadata": {
    "id": "SqlarlpC_v0g"
   },
   "source": [
    "### Loading the BERT model and training\n",
    "\n",
    "Using the `classifier_model` you created earlier, you can compile the model with the loss, metric and optimizer."
   ]
  },
  {
   "cell_type": "markdown",
   "metadata": {},
   "source": [
    "Complile the model using the optimizer, loss and metrics you defined above."
   ]
  },
  {
   "cell_type": "code",
   "execution_count": 43,
   "metadata": {
    "id": "-7GPDhR98jsD",
    "tags": []
   },
   "outputs": [],
   "source": [
    "classifier_model.compile(optimizer=optimizer, loss=loss, metrics=metrics)"
   ]
  },
  {
   "cell_type": "markdown",
   "metadata": {
    "id": "CpBuV5j2cS_b"
   },
   "source": [
    "Note: training time will vary depending on the complexity of the BERT model you have selected."
   ]
  },
  {
   "cell_type": "markdown",
   "metadata": {},
   "source": [
    "Let's train the model for a few epochs."
   ]
  },
  {
   "cell_type": "code",
   "execution_count": 44,
   "metadata": {
    "id": "HtfDFAnN_Neu"
   },
   "outputs": [
    {
     "name": "stdout",
     "output_type": "stream",
     "text": [
      "Training model with https://tfhub.dev/tensorflow/small_bert/bert_en_uncased_L-4_H-512_A-8/1\n",
      "Epoch 1/5\n"
     ]
    },
    {
     "name": "stderr",
     "output_type": "stream",
     "text": [
      "/home/jupyter/asl-ml-immersion/notebooks/text_models/bert_kernel/lib/python3.7/site-packages/tensorflow/python/util/dispatch.py:1082: UserWarning: \"`binary_crossentropy` received `from_logits=True`, but the `output` argument was produced by a sigmoid or softmax activation and thus does not represent logits. Was this intended?\"\n",
      "  return dispatch_target(*args, **kwargs)\n"
     ]
    },
    {
     "name": "stdout",
     "output_type": "stream",
     "text": [
      "625/625 [==============================] - 162s 250ms/step - loss: 0.4973 - binary_accuracy: 0.7471 - val_loss: 0.3778 - val_binary_accuracy: 0.8380\n",
      "Epoch 2/5\n",
      "625/625 [==============================] - 155s 248ms/step - loss: 0.3372 - binary_accuracy: 0.8547 - val_loss: 0.3639 - val_binary_accuracy: 0.8502\n",
      "Epoch 3/5\n",
      "625/625 [==============================] - 155s 248ms/step - loss: 0.2582 - binary_accuracy: 0.8946 - val_loss: 0.3802 - val_binary_accuracy: 0.8518\n",
      "Epoch 4/5\n",
      "625/625 [==============================] - 155s 248ms/step - loss: 0.1959 - binary_accuracy: 0.9269 - val_loss: 0.4276 - val_binary_accuracy: 0.8504\n",
      "Epoch 5/5\n",
      "625/625 [==============================] - 155s 248ms/step - loss: 0.1599 - binary_accuracy: 0.9425 - val_loss: 0.4620 - val_binary_accuracy: 0.8528\n"
     ]
    }
   ],
   "source": [
    "print(f\"Training model with {tfhub_handle_encoder}\")\n",
    "history = classifier_model.fit(\n",
    "    x=train_ds, validation_data=val_ds, epochs=epochs\n",
    ")"
   ]
  },
  {
   "cell_type": "markdown",
   "metadata": {
    "id": "uBthMlTSV8kn"
   },
   "source": [
    "### Evaluate the model\n",
    "\n",
    "Let's see how the model performs. Two values will be returned. Loss (a number which represents the error, lower values are better), and accuracy."
   ]
  },
  {
   "cell_type": "code",
   "execution_count": 45,
   "metadata": {
    "id": "slqB-urBV9sP"
   },
   "outputs": [
    {
     "name": "stdout",
     "output_type": "stream",
     "text": [
      "782/782 [==============================] - 83s 106ms/step - loss: 0.4442 - binary_accuracy: 0.8608\n",
      "Loss: 0.4441617429256439\n",
      "Accuracy: 0.86080002784729\n"
     ]
    }
   ],
   "source": [
    "loss, accuracy = classifier_model.evaluate(test_ds)\n",
    "\n",
    "print(f\"Loss: {loss}\")\n",
    "print(f\"Accuracy: {accuracy}\")"
   ]
  },
  {
   "cell_type": "markdown",
   "metadata": {
    "id": "uttWpgmSfzq9"
   },
   "source": [
    "### Plot the accuracy and loss over time\n",
    "\n",
    "Based on the `History` object returned by `model.fit()`. You can plot the training and validation loss for comparison, as well as the training and validation accuracy:"
   ]
  },
  {
   "cell_type": "code",
   "execution_count": 46,
   "metadata": {
    "id": "fiythcODf0xo"
   },
   "outputs": [
    {
     "name": "stdout",
     "output_type": "stream",
     "text": [
      "dict_keys(['loss', 'binary_accuracy', 'val_loss', 'val_binary_accuracy'])\n"
     ]
    },
    {
     "data": {
      "text/plain": [
       "<matplotlib.legend.Legend at 0x7efe967c8190>"
      ]
     },
     "execution_count": 46,
     "metadata": {},
     "output_type": "execute_result"
    },
    {
     "data": {
      "image/png": "[encoded data removed]",
      "text/plain": [
       "<Figure size 1000x600 with 2 Axes>"
      ]
     },
     "metadata": {},
     "output_type": "display_data"
    }
   ],
   "source": [
    "history_dict = history.history\n",
    "print(history_dict.keys())\n",
    "\n",
    "acc = history_dict[\"binary_accuracy\"]\n",
    "val_acc = history_dict[\"val_binary_accuracy\"]\n",
    "loss = history_dict[\"loss\"]\n",
    "val_loss = history_dict[\"val_loss\"]\n",
    "\n",
    "epochs = range(1, len(acc) + 1)\n",
    "fig = plt.figure(figsize=(10, 6))\n",
    "fig.tight_layout()\n",
    "\n",
    "plt.subplot(2, 1, 1)\n",
    "# \"bo\" is for \"blue dot\"\n",
    "plt.plot(epochs, loss, \"r\", label=\"Training loss\")\n",
    "# b is for \"solid blue line\"\n",
    "plt.plot(epochs, val_loss, \"b\", label=\"Validation loss\")\n",
    "plt.title(\"Training and validation loss\")\n",
    "# plt.xlabel('Epochs')\n",
    "plt.ylabel(\"Loss\")\n",
    "plt.legend()\n",
    "\n",
    "plt.subplot(2, 1, 2)\n",
    "plt.plot(epochs, acc, \"r\", label=\"Training acc\")\n",
    "plt.plot(epochs, val_acc, \"b\", label=\"Validation acc\")\n",
    "plt.title(\"Training and validation accuracy\")\n",
    "plt.xlabel(\"Epochs\")\n",
    "plt.ylabel(\"Accuracy\")\n",
    "plt.legend(loc=\"lower right\")"
   ]
  },
  {
   "cell_type": "markdown",
   "metadata": {
    "id": "WzJZCo-cf-Jf"
   },
   "source": [
    "In this plot, the red lines represents the training loss and accuracy, and the blue lines are the validation loss and accuracy."
   ]
  },
  {
   "cell_type": "markdown",
   "metadata": {
    "id": "Rtn7jewb6dg4"
   },
   "source": [
    "### Export for inference\n",
    "\n",
    "Now you just save your fine-tuned model for later use."
   ]
  },
  {
   "cell_type": "markdown",
   "metadata": {},
   "source": [
    "Save the model to saved_model_path for inference."
   ]
  },
  {
   "cell_type": "code",
   "execution_count": 47,
   "metadata": {
    "id": "ShcvqJAgVera"
   },
   "outputs": [
    {
     "name": "stderr",
     "output_type": "stream",
     "text": [
      "WARNING:absl:Found untraced functions such as restored_function_body, restored_function_body, restored_function_body, restored_function_body, restored_function_body while saving (showing 5 of 124). These functions will not be directly callable after loading.\n"
     ]
    }
   ],
   "source": [
    "dataset_name = \"imdb\"\n",
    "saved_model_path = \"./{}_bert\".format(dataset_name.replace(\"/\", \"_\"))\n",
    "TIMESTAMP = datetime.datetime.now().strftime(\"%Y%m%d%H%M%S\")\n",
    "\n",
    "EXPORT_PATH = os.path.join(saved_model_path, TIMESTAMP)\n",
    "\n",
    "classifier_model.save(EXPORT_PATH, include_optimizer=False)"
   ]
  },
  {
   "cell_type": "markdown",
   "metadata": {
    "id": "PbI25bS1vD7s"
   },
   "source": [
    "Let's reload the model so you can try it side by side with the model that is still in memory."
   ]
  },
  {
   "cell_type": "code",
   "execution_count": 49,
   "metadata": {
    "id": "gUEWVskZjEF0"
   },
   "outputs": [],
   "source": [
    "reloaded_model = tf.saved_model.load(EXPORT_PATH)"
   ]
  },
  {
   "cell_type": "markdown",
   "metadata": {
    "id": "oyTappHTvNCz"
   },
   "source": [
    "Here you can test your model on any sentence you want, just add to the examples variable below."
   ]
  },
  {
   "cell_type": "code",
   "execution_count": 50,
   "metadata": {
    "id": "VBWzH6exlCPS"
   },
   "outputs": [
    {
     "name": "stdout",
     "output_type": "stream",
     "text": [
      "Results from the saved model:\n",
      "input: this is such an amazing movie! : score: 0.999055\n",
      "input: The movie was great!           : score: 0.994220\n",
      "input: The movie was meh.             : score: 0.921660\n",
      "input: The movie was okish.           : score: 0.013223\n",
      "input: The movie was terrible...      : score: 0.001282\n",
      "\n",
      "Results from the model in memory:\n",
      "input: this is such an amazing movie! : score: 0.999055\n",
      "input: The movie was great!           : score: 0.994220\n",
      "input: The movie was meh.             : score: 0.921660\n",
      "input: The movie was okish.           : score: 0.013223\n",
      "input: The movie was terrible...      : score: 0.001282\n",
      "\n"
     ]
    }
   ],
   "source": [
    "def print_my_examples(inputs, results):\n",
    "    result_for_printing = [\n",
    "        f\"input: {inputs[i]:<30} : score: {results[i][0]:.6f}\"\n",
    "        for i in range(len(inputs))\n",
    "    ]\n",
    "    print(*result_for_printing, sep=\"\\n\")\n",
    "    print()\n",
    "\n",
    "\n",
    "examples = [\n",
    "    \"this is such an amazing movie!\",  # this is the same sentence tried earlier\n",
    "    \"The movie was great!\",\n",
    "    \"The movie was meh.\",\n",
    "    \"The movie was okish.\",\n",
    "    \"The movie was terrible...\",\n",
    "]\n",
    "\n",
    "reloaded_results = reloaded_model(tf.constant(examples))\n",
    "original_results = classifier_model(tf.constant(examples))\n",
    "\n",
    "print(\"Results from the saved model:\")\n",
    "print_my_examples(examples, reloaded_results)\n",
    "print(\"Results from the model in memory:\")\n",
    "print_my_examples(examples, original_results)"
   ]
  },
  {
   "cell_type": "markdown",
   "metadata": {},
   "source": [
    "## (Optional) Deploy your model on Vertex AI to get online predictions"
   ]
  },
  {
   "cell_type": "markdown",
   "metadata": {
    "id": "3cOmih754Y_M"
   },
   "source": [
    "If you want to use your model on [TF Serving](https://www.tensorflow.org/tfx/guide/serving), remember that it will call your SavedModel through one of its named signatures. In Python, you can test them as follows:"
   ]
  },
  {
   "cell_type": "code",
   "execution_count": 51,
   "metadata": {
    "id": "0FdVD3973S-O"
   },
   "outputs": [
    {
     "name": "stdout",
     "output_type": "stream",
     "text": [
      "input: this is such an amazing movie! : score: 0.999055\n",
      "input: The movie was great!           : score: 0.994220\n",
      "input: The movie was meh.             : score: 0.921660\n",
      "input: The movie was okish.           : score: 0.013223\n",
      "input: The movie was terrible...      : score: 0.001282\n",
      "\n"
     ]
    }
   ],
   "source": [
    "serving_results = reloaded_model.signatures[\"serving_default\"](\n",
    "    tf.constant(examples)\n",
    ")\n",
    "\n",
    "serving_results = serving_results[\"classifier\"]\n",
    "\n",
    "print_my_examples(examples, serving_results)"
   ]
  },
  {
   "cell_type": "markdown",
   "metadata": {},
   "source": [
    "We'll export the model to a TensorFlow SavedModel format. Once we have a model in this format, we have lots of ways to \"serve\" the model, from a web application, from JavaScript, from mobile applications, etc.\n",
    "\n",
    "Next, print the signature of your saved model using the SavedModel Command Line Interface command saved_model_cli. You can read more about the command line interface and the show and run commands it supports in the [documentation here](https://www.tensorflow.org/guide/saved_model#overview_of_commands)."
   ]
  },
  {
   "cell_type": "code",
   "execution_count": 52,
   "metadata": {},
   "outputs": [
    {
     "name": "stdout",
     "output_type": "stream",
     "text": [
      "The given SavedModel SignatureDef contains the following input(s):\n",
      "  inputs['text'] tensor_info:\n",
      "      dtype: DT_STRING\n",
      "      shape: (-1)\n",
      "      name: serving_default_text:0\n",
      "The given SavedModel SignatureDef contains the following output(s):\n",
      "  outputs['classifier'] tensor_info:\n",
      "      dtype: DT_FLOAT\n",
      "      shape: (-1, 1)\n",
      "      name: StatefulPartitionedCall_2:0\n",
      "Method name is: tensorflow/serving/predict\n",
      "./imdb_bert/20230407154959\n",
      "./imdb_bert/20230407154959/variables\n",
      "./imdb_bert/20230407154959/variables/variables.index\n",
      "./imdb_bert/20230407154959/variables/variables.data-00000-of-00001\n",
      "./imdb_bert/20230407154959/assets\n",
      "./imdb_bert/20230407154959/assets/vocab.txt\n",
      "./imdb_bert/20230407154959/saved_model.pb\n",
      "./imdb_bert/20230407154959/keras_metadata.pb\n"
     ]
    }
   ],
   "source": [
    "!saved_model_cli show \\\n",
    "    --tag_set serve \\\n",
    "    --signature_def serving_default \\\n",
    "    --dir {EXPORT_PATH}\n",
    "\n",
    "!find {EXPORT_PATH}\n",
    "os.environ['EXPORT_PATH'] = EXPORT_PATH"
   ]
  },
  {
   "cell_type": "code",
   "execution_count": 53,
   "metadata": {},
   "outputs": [
    {
     "name": "stdout",
     "output_type": "stream",
     "text": [
      "MODEL_DISPLAYNAME: classification-bert-20230407163903\n"
     ]
    }
   ],
   "source": [
    "TIMESTAMP = datetime.datetime.now().strftime(\"%Y%m%d%H%M%S\")\n",
    "PROJECT = !gcloud config list --format 'value(core.project)' 2>/dev/null\n",
    "PROJECT = PROJECT[0]\n",
    "BUCKET = PROJECT\n",
    "REGION = \"us-central1\"\n",
    "MODEL_DISPLAYNAME = f\"classification-bert-{TIMESTAMP}\"\n",
    "\n",
    "print(f\"MODEL_DISPLAYNAME: {MODEL_DISPLAYNAME}\")\n",
    "\n",
    "# from https://cloud.google.com/vertex-ai/docs/predictions/pre-built-containers\n",
    "SERVING_CONTAINER_IMAGE_URI = (\n",
    "    \"us-docker.pkg.dev/vertex-ai/prediction/tf2-cpu.2-8:latest\"\n",
    ")\n",
    "\n",
    "os.environ[\"BUCKET\"] = BUCKET\n",
    "os.environ[\"REGION\"] = REGION"
   ]
  },
  {
   "cell_type": "code",
   "execution_count": 54,
   "metadata": {},
   "outputs": [
    {
     "name": "stdout",
     "output_type": "stream",
     "text": [
      "Bucket exists, let's not recreate it.\n"
     ]
    }
   ],
   "source": [
    "%%bash\n",
    "# Create GCS bucket if it doesn't exist already...\n",
    "exists=$(gsutil ls -d | grep -w gs://${BUCKET}/)\n",
    "\n",
    "if [ -n \"$exists\" ]; then\n",
    "    echo -e \"Bucket exists, let's not recreate it.\"\n",
    "else\n",
    "    echo \"Creating a new GCS bucket.\"\n",
    "    gsutil mb -l ${REGION} gs://${BUCKET}\n",
    "    echo \"\\nHere are your current buckets:\"\n",
    "    gsutil ls\n",
    "fi"
   ]
  },
  {
   "cell_type": "code",
   "execution_count": 55,
   "metadata": {},
   "outputs": [
    {
     "name": "stdout",
     "output_type": "stream",
     "text": [
      "Copying file://./imdb_bert/20230407154959/saved_model.pb [Content-Type=application/octet-stream]...\n",
      "Copying file://./imdb_bert/20230407154959/keras_metadata.pb [Content-Type=application/octet-stream]...\n",
      "Copying file://./imdb_bert/20230407154959/variables/variables.index [Content-Type=application/octet-stream]...\n",
      "Copying file://./imdb_bert/20230407154959/variables/variables.data-00000-of-00001 [Content-Type=application/octet-stream]...\n",
      "| [4 files][117.6 MiB/117.6 MiB]                                                \n",
      "==> NOTE: You are performing a sequence of gsutil operations that may\n",
      "run significantly faster if you instead use gsutil -m cp ... Please\n",
      "see the -m section under \"gsutil help options\" for further information\n",
      "about when gsutil -m can be advantageous.\n",
      "\n",
      "Copying file://./imdb_bert/20230407154959/assets/vocab.txt [Content-Type=text/plain]...\n",
      "/ [5 files][117.8 MiB/117.8 MiB]                                                \n",
      "Operation completed over 5 objects/117.8 MiB.                                    \n"
     ]
    }
   ],
   "source": [
    "!gsutil cp -r $EXPORT_PATH gs://$BUCKET/$MODEL_DISPLAYNAME"
   ]
  },
  {
   "cell_type": "code",
   "execution_count": 56,
   "metadata": {},
   "outputs": [
    {
     "name": "stdout",
     "output_type": "stream",
     "text": [
      "Creating Model\n"
     ]
    },
    {
     "name": "stderr",
     "output_type": "stream",
     "text": [
      "INFO:google.cloud.aiplatform.models:Creating Model\n"
     ]
    },
    {
     "name": "stdout",
     "output_type": "stream",
     "text": [
      "Create Model backing LRO: projects/550642080325/locations/us-central1/models/241798000110731264/operations/4462402919542554624\n"
     ]
    },
    {
     "name": "stderr",
     "output_type": "stream",
     "text": [
      "INFO:google.cloud.aiplatform.models:Create Model backing LRO: projects/550642080325/locations/us-central1/models/241798000110731264/operations/4462402919542554624\n"
     ]
    },
    {
     "name": "stdout",
     "output_type": "stream",
     "text": [
      "Model created. Resource name: projects/550642080325/locations/us-central1/models/241798000110731264@1\n"
     ]
    },
    {
     "name": "stderr",
     "output_type": "stream",
     "text": [
      "INFO:google.cloud.aiplatform.models:Model created. Resource name: projects/550642080325/locations/us-central1/models/241798000110731264@1\n"
     ]
    },
    {
     "name": "stdout",
     "output_type": "stream",
     "text": [
      "To use this Model in another session:\n"
     ]
    },
    {
     "name": "stderr",
     "output_type": "stream",
     "text": [
      "INFO:google.cloud.aiplatform.models:To use this Model in another session:\n"
     ]
    },
    {
     "name": "stdout",
     "output_type": "stream",
     "text": [
      "model = aiplatform.Model('projects/550642080325/locations/us-central1/models/241798000110731264@1')\n"
     ]
    },
    {
     "name": "stderr",
     "output_type": "stream",
     "text": [
      "INFO:google.cloud.aiplatform.models:model = aiplatform.Model('projects/550642080325/locations/us-central1/models/241798000110731264@1')\n"
     ]
    }
   ],
   "source": [
    "uploaded_model = aiplatform.Model.upload(\n",
    "    display_name=MODEL_DISPLAYNAME,\n",
    "    artifact_uri=f\"gs://{BUCKET}/{MODEL_DISPLAYNAME}\",\n",
    "    serving_container_image_uri=SERVING_CONTAINER_IMAGE_URI,\n",
    ")"
   ]
  },
  {
   "cell_type": "code",
   "execution_count": 57,
   "metadata": {},
   "outputs": [
    {
     "name": "stdout",
     "output_type": "stream",
     "text": [
      "Creating Endpoint\n"
     ]
    },
    {
     "name": "stderr",
     "output_type": "stream",
     "text": [
      "INFO:google.cloud.aiplatform.models:Creating Endpoint\n"
     ]
    },
    {
     "name": "stdout",
     "output_type": "stream",
     "text": [
      "Create Endpoint backing LRO: projects/550642080325/locations/us-central1/endpoints/8775206699326767104/operations/769099381377859584\n"
     ]
    },
    {
     "name": "stderr",
     "output_type": "stream",
     "text": [
      "INFO:google.cloud.aiplatform.models:Create Endpoint backing LRO: projects/550642080325/locations/us-central1/endpoints/8775206699326767104/operations/769099381377859584\n"
     ]
    },
    {
     "name": "stdout",
     "output_type": "stream",
     "text": [
      "Endpoint created. Resource name: projects/550642080325/locations/us-central1/endpoints/8775206699326767104\n"
     ]
    },
    {
     "name": "stderr",
     "output_type": "stream",
     "text": [
      "INFO:google.cloud.aiplatform.models:Endpoint created. Resource name: projects/550642080325/locations/us-central1/endpoints/8775206699326767104\n"
     ]
    },
    {
     "name": "stdout",
     "output_type": "stream",
     "text": [
      "To use this Endpoint in another session:\n"
     ]
    },
    {
     "name": "stderr",
     "output_type": "stream",
     "text": [
      "INFO:google.cloud.aiplatform.models:To use this Endpoint in another session:\n"
     ]
    },
    {
     "name": "stdout",
     "output_type": "stream",
     "text": [
      "endpoint = aiplatform.Endpoint('projects/550642080325/locations/us-central1/endpoints/8775206699326767104')\n"
     ]
    },
    {
     "name": "stderr",
     "output_type": "stream",
     "text": [
      "INFO:google.cloud.aiplatform.models:endpoint = aiplatform.Endpoint('projects/550642080325/locations/us-central1/endpoints/8775206699326767104')\n"
     ]
    },
    {
     "name": "stdout",
     "output_type": "stream",
     "text": [
      "Deploying model to Endpoint : projects/550642080325/locations/us-central1/endpoints/8775206699326767104\n"
     ]
    },
    {
     "name": "stderr",
     "output_type": "stream",
     "text": [
      "INFO:google.cloud.aiplatform.models:Deploying model to Endpoint : projects/550642080325/locations/us-central1/endpoints/8775206699326767104\n"
     ]
    },
    {
     "name": "stdout",
     "output_type": "stream",
     "text": [
      "Deploy Endpoint model backing LRO: projects/550642080325/locations/us-central1/endpoints/8775206699326767104/operations/2185481464185880576\n"
     ]
    },
    {
     "name": "stderr",
     "output_type": "stream",
     "text": [
      "INFO:google.cloud.aiplatform.models:Deploy Endpoint model backing LRO: projects/550642080325/locations/us-central1/endpoints/8775206699326767104/operations/2185481464185880576\n"
     ]
    },
    {
     "name": "stdout",
     "output_type": "stream",
     "text": [
      "Endpoint model deployed. Resource name: projects/550642080325/locations/us-central1/endpoints/8775206699326767104\n"
     ]
    },
    {
     "name": "stderr",
     "output_type": "stream",
     "text": [
      "INFO:google.cloud.aiplatform.models:Endpoint model deployed. Resource name: projects/550642080325/locations/us-central1/endpoints/8775206699326767104\n"
     ]
    }
   ],
   "source": [
    "MACHINE_TYPE = \"n1-standard-4\"\n",
    "\n",
    "endpoint = uploaded_model.deploy(\n",
    "    machine_type=MACHINE_TYPE,\n",
    "    accelerator_type=None,\n",
    "    accelerator_count=None,\n",
    ")"
   ]
  },
  {
   "cell_type": "markdown",
   "metadata": {},
   "source": [
    "Once the model has been uploaded to the endpoint, you can query the endpoint to get predictions from the model. The query has to be a list of instances. From the signature of the model we see that the key for the query has to be `text`."
   ]
  },
  {
   "cell_type": "code",
   "execution_count": 62,
   "metadata": {},
   "outputs": [],
   "source": [
    "instances = [\n",
    "    {\"text\": [\"I loved the movie and highly recomment it\"]},\n",
    "    {\"text\": [\"It was an okay movie in my opinion\"]},\n",
    "    {\"text\": [\"I hated the movie\"]},\n",
    "]"
   ]
  },
  {
   "cell_type": "code",
   "execution_count": 63,
   "metadata": {},
   "outputs": [],
   "source": [
    "response = endpoint.predict(instances=instances)"
   ]
  },
  {
   "cell_type": "code",
   "execution_count": 64,
   "metadata": {},
   "outputs": [
    {
     "name": "stdout",
     "output_type": "stream",
     "text": [
      " prediction: [[0.998149872], [0.83823961], [0.00687500834]]\n"
     ]
    }
   ],
   "source": [
    "print(\" prediction:\", response.predictions)"
   ]
  },
  {
   "cell_type": "markdown",
   "metadata": {
    "tags": []
   },
   "source": [
    "## Cleanup\n",
    "When deploying a model to an endpoint for online prediction, the minimum min-replica-count is 1, and it is charged per node hour. So let's delete the endpoint to reduce unnecessary charges. Before we can delete the endpoint, we first undeploy all attached models."
   ]
  },
  {
   "cell_type": "code",
   "execution_count": null,
   "metadata": {},
   "outputs": [],
   "source": [
    "endpoint.undeploy_all()"
   ]
  },
  {
   "cell_type": "markdown",
   "metadata": {},
   "source": [
    "...then delete the endpoint."
   ]
  },
  {
   "cell_type": "code",
   "execution_count": null,
   "metadata": {},
   "outputs": [],
   "source": [
    "endpoint.delete()"
   ]
  },
  {
   "cell_type": "markdown",
   "metadata": {},
   "source": [
    "## Continued Learning\n",
    "\n",
    "In this lab, we chose small BERT to train our text classifier. There are other pre-trained BERT models which you can find here. Consider experiementing with some of these. However, remember that the bigger the model you choose to fine-tune, the longer it will take to train.\n",
    "\n",
    "There are \n",
    "  - [BERT-Base](https://tfhub.dev/tensorflow/bert_en_uncased_L-12_H-768_A-12/3), [Uncased](https://tfhub.dev/tensorflow/bert_en_uncased_L-12_H-768_A-12/3) and [seven more models](https://tfhub.dev/google/collections/bert/1) with trained weights released by the original BERT authors.\n",
    "  - [Small BERTs](https://tfhub.dev/google/collections/bert/1) have the same general architecture but fewer and/or smaller Transformer blocks, which lets you explore tradeoffs between speed, size and quality.\n",
    "  - [ALBERT](https://tfhub.dev/google/collections/albert/1): four different sizes of \"A Lite BERT\" that reduces model size (but not computation time) by sharing parameters between layers.\n",
    "  - [BERT Experts](https://tfhub.dev/google/collections/experts/bert/1): eight models that all have the BERT-base architecture but offer a choice between different pre-training domains, to align more closely with the target task.\n",
    "  - [Electra](https://tfhub.dev/google/collections/electra/1) has the same architecture as BERT (in three different sizes), but gets pre-trained as a discriminator in a set-up that resembles a Generative Adversarial Network (GAN).\n",
    "  - BERT with Talking-Heads Attention and Gated GELU [[base](https://tfhub.dev/tensorflow/talkheads_ggelu_bert_en_base/1), [large](https://tfhub.dev/tensorflow/talkheads_ggelu_bert_en_large/1)] has two improvements to the core of the Transformer architecture.\n",
    "\n",
    "The model documentation on TensorFlow Hub has more details and references to the\n",
    "research literature.\n",
    "\n",
    "Aside from the models available above, there are [multiple versions](https://tfhub.dev/google/collections/transformer_encoders_text/1) of the models that are larger and can yeld even better accuracy but they are too big to be fine-tuned on a single GPU."
   ]
  },
  {
   "cell_type": "markdown",
   "metadata": {},
   "source": [
    "#### License\n",
    "\n",
    "Copyright 2022 Google Inc. Licensed under the Apache License, Version 2.0 (the \"License\"); you may not use this file except in compliance with the License. You may obtain a copy of the License at http://www.apache.org/licenses/LICENSE-2.0 Unless required by applicable law or agreed to in writing, software distributed under the License is distributed on an \"AS IS\" BASIS, WITHOUT WARRANTIES OR CONDITIONS OF ANY KIND, either express or implied. See the License for the specific language governing permissions and limitations under the License"
   ]
  }
 ],
 "metadata": {
  "accelerator": "GPU",
  "colab": {
   "collapsed_sections": [],
   "name": "classify_text_with_bert.ipynb",
   "toc_visible": true
  },
  "environment": {
   "kernel": "bert_kernel",
   "name": "tf2-gpu.2-8.m106",
   "type": "gcloud",
   "uri": "gcr.io/deeplearning-platform-release/tf2-gpu.2-8:m106"
  },
  "kernelspec": {
   "display_name": "bert_kernel",
   "language": "python",
   "name": "bert_kernel"
  },
  "language_info": {
   "codemirror_mode": {
    "name": "ipython",
    "version": 3
   },
   "file_extension": ".py",
   "mimetype": "text/x-python",
   "name": "python",
   "nbconvert_exporter": "python",
   "pygments_lexer": "ipython3",
   "version": "3.7.12"
  }
 },
 "nbformat": 4,
 "nbformat_minor": 4
}
