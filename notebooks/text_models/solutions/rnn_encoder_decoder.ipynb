{
 "cells": [
  {
   "cell_type": "markdown",
   "metadata": {},
   "source": [
    "# Simple RNN Encode-Decoder for Translation\n",
    "\n",
    "**Learning Objectives**\n",
    "1. Learn how to create a tf.data.Dataset for seq2seq problems\n",
    "1. Learn how to train an encoder-decoder model in Keras\n",
    "1. Learn how to save the encoder and the decoder as separate models \n",
    "1. Learn how to piece together the trained encoder and decoder into a translation function\n",
    "1. Learn how to use the BLUE score to evaluate a translation model\n",
    "\n",
    "## Introduction\n",
    "\n",
    "In this lab we'll build a translation model from Spanish to English using a RNN encoder-decoder model architecture.\n",
    "We will start by creating train and eval datasets (using the `tf.data.Dataset` API) that are typical for seq2seq problems. Then we will use the Keras functional API to train an RNN encoder-decoder model, which will save as two separate models, the encoder and decoder model. Using these two separate pieces we will implement the translation function.\n",
    "At last, we'll benchmark our results using the industry standard BLEU score."
   ]
  },
  {
   "cell_type": "code",
   "execution_count": 1,
   "metadata": {
    "tags": []
   },
   "outputs": [],
   "source": [
    "import os\n",
    "import warnings\n",
    "\n",
    "warnings.filterwarnings(\"ignore\")\n",
    "os.environ[\"TF_CPP_MIN_LOG_LEVEL\"] = \"2\""
   ]
  },
  {
   "cell_type": "code",
   "execution_count": 2,
   "metadata": {
    "tags": []
   },
   "outputs": [
    {
     "name": "stdout",
     "output_type": "stream",
     "text": [
      "2.12.0\n"
     ]
    }
   ],
   "source": [
    "import pickle\n",
    "import sys\n",
    "\n",
    "import evaluate\n",
    "import numpy as np\n",
    "import pandas as pd\n",
    "import tensorflow as tf\n",
    "import utils_preproc\n",
    "from sklearn.model_selection import train_test_split\n",
    "from tensorflow.keras.layers import GRU, Dense, Embedding, Input\n",
    "from tensorflow.keras.models import Model, load_model\n",
    "from tqdm import tqdm\n",
    "\n",
    "print(tf.__version__)"
   ]
  },
  {
   "cell_type": "code",
   "execution_count": 3,
   "metadata": {
    "tags": []
   },
   "outputs": [],
   "source": [
    "SEED = 0\n",
    "MODEL_PATH = \"translate_models/baseline\"\n",
    "DATA_URL = (\n",
    "    \"http://storage.googleapis.com/download.tensorflow.org/data/spa-eng.zip\"\n",
    ")\n",
    "LOAD_CHECKPOINT = False"
   ]
  },
  {
   "cell_type": "code",
   "execution_count": 4,
   "metadata": {
    "tags": []
   },
   "outputs": [],
   "source": [
    "tf.random.set_seed(SEED)"
   ]
  },
  {
   "cell_type": "markdown",
   "metadata": {},
   "source": [
    "## Downloading the Data"
   ]
  },
  {
   "cell_type": "markdown",
   "metadata": {},
   "source": [
    "We'll use a language dataset provided by http://www.manythings.org/anki/. The dataset contains Spanish-English  translation pairs in the format:\n",
    "\n",
    "```\n",
    "May I borrow this book?\t¿Puedo tomar prestado este libro?\n",
    "```\n",
    "\n",
    "The dataset is a curated list of 120K translation pairs from http://tatoeba.org/, a platform for community contributed translations by native speakers."
   ]
  },
  {
   "cell_type": "code",
   "execution_count": 5,
   "metadata": {
    "tags": []
   },
   "outputs": [
    {
     "name": "stdout",
     "output_type": "stream",
     "text": [
      "Translation data stored at: /home/jupyter/.keras/datasets/spa-eng/spa.txt\n"
     ]
    }
   ],
   "source": [
    "path_to_zip = tf.keras.utils.get_file(\n",
    "    \"spa-eng.zip\", origin=DATA_URL, extract=True\n",
    ")\n",
    "\n",
    "path_to_file = os.path.join(os.path.dirname(path_to_zip), \"spa-eng/spa.txt\")\n",
    "print(\"Translation data stored at:\", path_to_file)"
   ]
  },
  {
   "cell_type": "code",
   "execution_count": 6,
   "metadata": {
    "tags": []
   },
   "outputs": [],
   "source": [
    "data = pd.read_csv(\n",
    "    path_to_file, sep=\"\\t\", header=None, names=[\"english\", \"spanish\"]\n",
    ")"
   ]
  },
  {
   "cell_type": "code",
   "execution_count": 7,
   "metadata": {
    "tags": []
   },
   "outputs": [
    {
     "data": {
      "text/html": [
       "<div>\n",
       "<style scoped>\n",
       "    .dataframe tbody tr th:only-of-type {\n",
       "        vertical-align: middle;\n",
       "    }\n",
       "\n",
       "    .dataframe tbody tr th {\n",
       "        vertical-align: top;\n",
       "    }\n",
       "\n",
       "    .dataframe thead th {\n",
       "        text-align: right;\n",
       "    }\n",
       "</style>\n",
       "<table border=\"1\" class=\"dataframe\">\n",
       "  <thead>\n",
       "    <tr style=\"text-align: right;\">\n",
       "      <th></th>\n",
       "      <th>english</th>\n",
       "      <th>spanish</th>\n",
       "    </tr>\n",
       "  </thead>\n",
       "  <tbody>\n",
       "    <tr>\n",
       "      <th>22178</th>\n",
       "      <td>Tom won't last long.</td>\n",
       "      <td>Tom no durará mucho.</td>\n",
       "    </tr>\n",
       "    <tr>\n",
       "      <th>11257</th>\n",
       "      <td>My mother is out.</td>\n",
       "      <td>Mi madre ha salido.</td>\n",
       "    </tr>\n",
       "    <tr>\n",
       "      <th>41450</th>\n",
       "      <td>She carried a silk purse.</td>\n",
       "      <td>Llevaba una bolsa de seda.</td>\n",
       "    </tr>\n",
       "  </tbody>\n",
       "</table>\n",
       "</div>"
      ],
      "text/plain": [
       "                         english                     spanish\n",
       "22178       Tom won't last long.        Tom no durará mucho.\n",
       "11257          My mother is out.         Mi madre ha salido.\n",
       "41450  She carried a silk purse.  Llevaba una bolsa de seda."
      ]
     },
     "execution_count": 7,
     "metadata": {},
     "output_type": "execute_result"
    }
   ],
   "source": [
    "data.sample(3)"
   ]
  },
  {
   "cell_type": "markdown",
   "metadata": {},
   "source": [
    "From the `utils_preproc` package we have written for you,\n",
    "we will use the following functions to pre-process our dataset of sentence pairs."
   ]
  },
  {
   "cell_type": "markdown",
   "metadata": {},
   "source": [
    "## Sentence Preprocessing"
   ]
  },
  {
   "cell_type": "markdown",
   "metadata": {},
   "source": [
    "The `utils_preproc.preprocess_sentence()` method does the following:\n",
    "1. Converts sentence to lower case\n",
    "2. Adds a space between punctuation and words\n",
    "3. Replaces tokens that aren't a-z or punctuation with space\n",
    "4. Adds `<start>` and `<end>` tokens\n",
    "\n",
    "For example:"
   ]
  },
  {
   "cell_type": "code",
   "execution_count": 8,
   "metadata": {
    "tags": []
   },
   "outputs": [],
   "source": [
    "raw = [\n",
    "    \"No estamos comiendo.\",\n",
    "    \"Está llegando el invierno.\",\n",
    "    \"El invierno se acerca.\",\n",
    "    \"Tom no comio nada.\",\n",
    "    \"Su pierna mala le impidió ganar la carrera.\",\n",
    "    \"Su respuesta es erronea.\",\n",
    "    \"¿Qué tal si damos un paseo después del almuerzo?\",\n",
    "]"
   ]
  },
  {
   "cell_type": "code",
   "execution_count": 9,
   "metadata": {
    "tags": []
   },
   "outputs": [
    {
     "data": {
      "text/plain": [
       "['<start> no estamos comiendo . <end>',\n",
       " '<start> esta llegando el invierno . <end>',\n",
       " '<start> el invierno se acerca . <end>',\n",
       " '<start> tom no comio nada . <end>',\n",
       " '<start> su pierna mala le impidio ganar la carrera . <end>',\n",
       " '<start> su respuesta es erronea . <end>',\n",
       " '<start> ¿ que tal si damos un paseo despues del almuerzo ? <end>']"
      ]
     },
     "execution_count": 9,
     "metadata": {},
     "output_type": "execute_result"
    }
   ],
   "source": [
    "processed = [utils_preproc.preprocess_sentence(s) for s in raw]\n",
    "processed"
   ]
  },
  {
   "cell_type": "markdown",
   "metadata": {},
   "source": [
    "## Sentence Integerizing"
   ]
  },
  {
   "cell_type": "markdown",
   "metadata": {},
   "source": [
    "The `utils_preproc.tokenize()` method does the following:\n",
    "    \n",
    "1. Splits each sentence into a token list\n",
    "1. Maps each token to an integer\n",
    "1. Pads to length of longest sentence \n",
    "\n",
    "It returns an instance of a [Keras Tokenizer](https://keras.io/preprocessing/text/)\n",
    "containing the token-integer mapping along with the integerized sentences:"
   ]
  },
  {
   "cell_type": "code",
   "execution_count": 10,
   "metadata": {
    "tags": []
   },
   "outputs": [
    {
     "data": {
      "text/plain": [
       "array([[ 1,  4,  8,  9,  3,  2,  0,  0,  0,  0,  0,  0,  0],\n",
       "       [ 1, 10, 11,  5,  6,  3,  2,  0,  0,  0,  0,  0,  0],\n",
       "       [ 1,  5,  6, 12, 13,  3,  2,  0,  0,  0,  0,  0,  0],\n",
       "       [ 1, 14,  4, 15, 16,  3,  2,  0,  0,  0,  0,  0,  0],\n",
       "       [ 1,  7, 17, 18, 19, 20, 21, 22, 23,  3,  2,  0,  0],\n",
       "       [ 1,  7, 24, 25, 26,  3,  2,  0,  0,  0,  0,  0,  0],\n",
       "       [ 1, 27, 28, 29, 30, 31, 32, 33, 34, 35, 36, 37,  2]], dtype=int32)"
      ]
     },
     "execution_count": 10,
     "metadata": {},
     "output_type": "execute_result"
    }
   ],
   "source": [
    "integerized, tokenizer = utils_preproc.tokenize(processed)\n",
    "integerized"
   ]
  },
  {
   "cell_type": "markdown",
   "metadata": {},
   "source": [
    "The outputted tokenizer can be used to get back the actual works\n",
    "from the integers representing them:"
   ]
  },
  {
   "cell_type": "code",
   "execution_count": 11,
   "metadata": {
    "tags": []
   },
   "outputs": [
    {
     "data": {
      "text/plain": [
       "['<start> no estamos comiendo . <end>',\n",
       " '<start> esta llegando el invierno . <end>',\n",
       " '<start> el invierno se acerca . <end>',\n",
       " '<start> tom no comio nada . <end>',\n",
       " '<start> su pierna mala le impidio ganar la carrera . <end>',\n",
       " '<start> su respuesta es erronea . <end>',\n",
       " '<start> ¿ que tal si damos un paseo despues del almuerzo ? <end>']"
      ]
     },
     "execution_count": 11,
     "metadata": {},
     "output_type": "execute_result"
    }
   ],
   "source": [
    "tokenizer.sequences_to_texts(integerized)"
   ]
  },
  {
   "cell_type": "markdown",
   "metadata": {},
   "source": [
    "## Creating the tf.data.Dataset"
   ]
  },
  {
   "cell_type": "markdown",
   "metadata": {},
   "source": [
    "### `load_and_preprocess`"
   ]
  },
  {
   "cell_type": "markdown",
   "metadata": {},
   "source": [
    "Let's first implement a function that will read the raw sentence-pair file\n",
    "and preprocess the sentences with `utils_preproc.preprocess_sentence`.\n",
    "\n",
    "The `load_and_preprocess` function takes as input\n",
    "- the path where the sentence-pair file is located\n",
    "- the number of examples one wants to read in\n",
    "\n",
    "It returns a tuple whose first component contains the english\n",
    "preprocessed sentences, while the second component contains the\n",
    "spanish ones:"
   ]
  },
  {
   "cell_type": "code",
   "execution_count": 8,
   "metadata": {
    "tags": []
   },
   "outputs": [],
   "source": [
    "def load_and_preprocess(path, num_examples):\n",
    "    with open(path_to_file) as fp:\n",
    "        lines = fp.read().strip().split(\"\\n\")\n",
    "\n",
    "    # TODO 1a\n",
    "    sentence_pairs = [\n",
    "        [utils_preproc.preprocess_sentence(sent) for sent in line.split(\"\\t\")]\n",
    "        for line in lines[:num_examples]\n",
    "    ]\n",
    "\n",
    "    return zip(*sentence_pairs)"
   ]
  },
  {
   "cell_type": "code",
   "execution_count": 9,
   "metadata": {
    "tags": []
   },
   "outputs": [
    {
     "name": "stdout",
     "output_type": "stream",
     "text": [
      "<start> fire ! <end>\n",
      "<start> incendio ! <end>\n"
     ]
    }
   ],
   "source": [
    "en, sp = load_and_preprocess(path_to_file, num_examples=10)\n",
    "\n",
    "print(en[-1])\n",
    "print(sp[-1])"
   ]
  },
  {
   "cell_type": "markdown",
   "metadata": {},
   "source": [
    "### `load_and_integerize`"
   ]
  },
  {
   "cell_type": "markdown",
   "metadata": {},
   "source": [
    "Using `utils_preproc.tokenize`, let us now implement the function `load_and_integerize` that takes as input the data path along with the number of examples we want to read in and returns the following tuple:\n",
    "\n",
    "```python\n",
    "  (input_tensor, target_tensor, inp_lang_tokenizer, targ_lang_tokenizer)\n",
    "```\n",
    "\n",
    "where \n",
    "\n",
    "\n",
    "* `input_tensor` is an integer tensor of shape `(num_examples, max_length_inp)` containing the integerized versions of the source language sentences\n",
    "* `target_tensor` is an integer tensor of shape `(num_examples, max_length_targ)` containing the integerized versions of the target language sentences\n",
    "* `inp_lang_tokenizer` is the source language tokenizer\n",
    "* `targ_lang_tokenizer` is the target language tokenizer"
   ]
  },
  {
   "cell_type": "code",
   "execution_count": 10,
   "metadata": {
    "tags": []
   },
   "outputs": [],
   "source": [
    "def load_and_integerize(path, num_examples=None):\n",
    "    targ_lang, inp_lang = load_and_preprocess(path, num_examples)\n",
    "\n",
    "    # TODO 1b\n",
    "    input_tensor, inp_lang_tokenizer = utils_preproc.tokenize(inp_lang)\n",
    "    target_tensor, targ_lang_tokenizer = utils_preproc.tokenize(targ_lang)\n",
    "\n",
    "    return input_tensor, target_tensor, inp_lang_tokenizer, targ_lang_tokenizer"
   ]
  },
  {
   "cell_type": "markdown",
   "metadata": {},
   "source": [
    "### Train and eval splits"
   ]
  },
  {
   "cell_type": "markdown",
   "metadata": {},
   "source": [
    "We'll split this data 80/20 into train and validation, and we'll use only the first 30K examples, since we'll be training on a single GPU. \n",
    " \n",
    "Let us set variable for that:"
   ]
  },
  {
   "cell_type": "code",
   "execution_count": 12,
   "metadata": {
    "tags": []
   },
   "outputs": [],
   "source": [
    "TEST_PROP = 0.2\n",
    "NUM_EXAMPLES = 300000"
   ]
  },
  {
   "cell_type": "markdown",
   "metadata": {},
   "source": [
    "Now let's load and integerize the sentence paris and store the tokenizer for the source and the target language into the `int_lang` and `targ_lang` variable respectively:"
   ]
  },
  {
   "cell_type": "code",
   "execution_count": 13,
   "metadata": {
    "tags": []
   },
   "outputs": [],
   "source": [
    "input_tensor, target_tensor, inp_lang, targ_lang = load_and_integerize(\n",
    "    path_to_file, NUM_EXAMPLES\n",
    ")"
   ]
  },
  {
   "cell_type": "markdown",
   "metadata": {},
   "source": [
    "Let us store the maximal sentence length of both languages into two variables:"
   ]
  },
  {
   "cell_type": "code",
   "execution_count": 14,
   "metadata": {
    "tags": []
   },
   "outputs": [],
   "source": [
    "max_length_targ = target_tensor.shape[1]\n",
    "max_length_inp = input_tensor.shape[1]"
   ]
  },
  {
   "cell_type": "markdown",
   "metadata": {},
   "source": [
    "We are now using scikit-learn `train_test_split` to create our splits:"
   ]
  },
  {
   "cell_type": "code",
   "execution_count": 15,
   "metadata": {
    "tags": []
   },
   "outputs": [],
   "source": [
    "splits = train_test_split(\n",
    "    input_tensor, target_tensor, test_size=TEST_PROP, random_state=SEED\n",
    ")\n",
    "\n",
    "input_tensor_train = splits[0]\n",
    "input_tensor_val = splits[1]\n",
    "\n",
    "target_tensor_train = splits[2]\n",
    "target_tensor_val = splits[3]"
   ]
  },
  {
   "cell_type": "markdown",
   "metadata": {},
   "source": [
    "Let's make sure the number of example in each split looks good:"
   ]
  },
  {
   "cell_type": "code",
   "execution_count": 16,
   "metadata": {
    "tags": []
   },
   "outputs": [
    {
     "data": {
      "text/plain": [
       "(95171, 95171, 23793, 23793)"
      ]
     },
     "execution_count": 16,
     "metadata": {},
     "output_type": "execute_result"
    }
   ],
   "source": [
    "(\n",
    "    len(input_tensor_train),\n",
    "    len(target_tensor_train),\n",
    "    len(input_tensor_val),\n",
    "    len(target_tensor_val),\n",
    ")"
   ]
  },
  {
   "cell_type": "markdown",
   "metadata": {},
   "source": [
    "The `utils_preproc.int2word` function allows you to transform back the integerized sentences into words. Note that the `<start>` token is alwasy encoded as `1`, while the `<end>` token is always encoded as `0`:"
   ]
  },
  {
   "cell_type": "code",
   "execution_count": 17,
   "metadata": {
    "tags": []
   },
   "outputs": [
    {
     "name": "stdout",
     "output_type": "stream",
     "text": [
      "Input Language; int to word mapping\n",
      "[  1   9 838   7  31   7  10 173   3   2   0   0   0   0   0   0   0   0\n",
      "   0   0   0   0   0   0   0   0   0   0   0   0   0   0   0   0   0   0\n",
      "   0   0   0   0   0   0   0   0   0   0   0   0   0   0   0   0   0]\n",
      "['<start>', 'tom', 'siguio', 'a', 'mary', 'a', 'la', 'habitacion', '.', '<end>', '', '', '', '', '', '', '', '', '', '', '', '', '', '', '', '', '', '', '', '', '', '', '', '', '', '', '', '', '', '', '', '', '', '', '', '', '', '', '', '', '', '', ''] \n",
      "\n",
      "Target Language; int to word mapping\n",
      "[   1    8 1342   32  184    5  141    3    2    0    0    0    0    0\n",
      "    0    0    0    0    0    0    0    0    0    0    0    0    0    0\n",
      "    0    0    0    0    0    0    0    0    0    0    0    0    0    0\n",
      "    0    0    0    0    0    0    0    0    0]\n",
      "['<start>', 'tom', 'followed', 'mary', 'into', 'the', 'room', '.', '<end>', '', '', '', '', '', '', '', '', '', '', '', '', '', '', '', '', '', '', '', '', '', '', '', '', '', '', '', '', '', '', '', '', '', '', '', '', '', '', '', '', '', '']\n"
     ]
    }
   ],
   "source": [
    "print(\"Input Language; int to word mapping\")\n",
    "print(input_tensor_train[0])\n",
    "print(utils_preproc.int2word(inp_lang, input_tensor_train[0]), \"\\n\")\n",
    "\n",
    "print(\"Target Language; int to word mapping\")\n",
    "print(target_tensor_train[0])\n",
    "print(utils_preproc.int2word(targ_lang, target_tensor_train[0]))"
   ]
  },
  {
   "cell_type": "markdown",
   "metadata": {},
   "source": [
    "### Create tf.data dataset for train and eval"
   ]
  },
  {
   "cell_type": "markdown",
   "metadata": {},
   "source": [
    "Below we implement the `create_dataset` function that takes as input\n",
    "* `encoder_input` which is an integer tensor of shape `(num_examples, max_length_inp)` containing the integerized versions of the source language sentences\n",
    "* `decoder_input` which is an integer tensor of shape `(num_examples, max_length_targ)`containing the integerized versions of the target language sentences\n",
    "\n",
    "It returns a `tf.data.Dataset` containing examples for the form\n",
    "\n",
    "```python\n",
    "        ((source_sentence, target_sentence), shifted_target_sentence)\n",
    "```\n",
    "\n",
    "where `source_sentence` and `target_setence` are the integer version of source-target language pairs and `shifted_target` is the same as `target_sentence` but with indices shifted by 1. \n",
    "\n",
    "**Remark:** In the training code, `source_sentence`  (resp. `target_sentence`) will be fed as the encoder (resp. decoder) input, while `shifted_target` will be used to compute the cross-entropy loss by comparing the decoder output with the shifted target sentences. "
   ]
  },
  {
   "cell_type": "code",
   "execution_count": 18,
   "metadata": {
    "tags": []
   },
   "outputs": [],
   "source": [
    "def create_dataset(encoder_input, decoder_input):\n",
    "    # TODO 1c\n",
    "\n",
    "    # shift ahead by 1\n",
    "    target = tf.roll(decoder_input, -1, 1)\n",
    "\n",
    "    # replace last column with 0s\n",
    "    zeros = tf.zeros([target.shape[0], 1], dtype=tf.int32)\n",
    "    target = tf.concat((target[:, :-1], zeros), axis=-1)\n",
    "\n",
    "    dataset = tf.data.Dataset.from_tensor_slices(\n",
    "        ((encoder_input, decoder_input), target)\n",
    "    )\n",
    "\n",
    "    return dataset"
   ]
  },
  {
   "cell_type": "markdown",
   "metadata": {},
   "source": [
    "Let's now create the actual train and eval dataset using the function above:"
   ]
  },
  {
   "cell_type": "code",
   "execution_count": 19,
   "metadata": {
    "tags": []
   },
   "outputs": [],
   "source": [
    "BUFFER_SIZE = len(input_tensor_train)\n",
    "BATCH_SIZE = 64"
   ]
  },
  {
   "cell_type": "code",
   "execution_count": 41,
   "metadata": {
    "tags": []
   },
   "outputs": [],
   "source": [
    "train_dataset = (\n",
    "    create_dataset(input_tensor_train, target_tensor_train)\n",
    "    .shuffle(BUFFER_SIZE)\n",
    "    .repeat()\n",
    "    .batch(BATCH_SIZE, drop_remainder=True)\n",
    ")\n",
    "\n",
    "\n",
    "eval_dataset = create_dataset(input_tensor_val, target_tensor_val).batch(\n",
    "    BATCH_SIZE, drop_remainder=True\n",
    ")"
   ]
  },
  {
   "cell_type": "code",
   "execution_count": 42,
   "metadata": {
    "tags": []
   },
   "outputs": [
    {
     "name": "stdout",
     "output_type": "stream",
     "text": [
      "tf.Tensor(\n",
      "[[   1   75    6   36  203  546    7    2    0    0    0]\n",
      " [   1    5   11    9 3332    3    2    0    0    0    0]\n",
      " [   1    4 2204  420   21  134    3    2    0    0    0]\n",
      " [   1    5   95   13 2389    3    2    0    0    0    0]\n",
      " [   1    6  230   17    3    2    0    0    0    0    0]\n",
      " [   1   52   22    6   47  126    7    2    0    0    0]\n",
      " [   1    4   38 4131   10  284    3    2    0    0    0]\n",
      " [   1   72    6  131    3    2    0    0    0    0    0]\n",
      " [   1    9  579  853   68   50    3    2    0    0    0]\n",
      " [   1   39  543   15   36    7    2    0    0    0    0]\n",
      " [   1   14 1003   61  407    3    2    0    0    0    0]\n",
      " [   1   19  678   66 1868    3    2    0    0    0    0]\n",
      " [   1   36  170   37    2    0    0    0    0    0    0]\n",
      " [   1   16   35   41    3    2    0    0    0    0    0]\n",
      " [   1    4   93   74    3    2    0    0    0    0    0]\n",
      " [   1    4   70   76   13  407    3    2    0    0    0]\n",
      " [   1   14   11    9  289  559    3    2    0    0    0]\n",
      " [   1    5  622  525    3    2    0    0    0    0    0]\n",
      " [   1   16  105    9  153   59   97    3    2    0    0]\n",
      " [   1    4  216  759    3    2    0    0    0    0    0]\n",
      " [   1   13  165   26  220    3    2    0    0    0    0]\n",
      " [   1  933    8 3002    3    2    0    0    0    0    0]\n",
      " [   1  116   81  187    3    2    0    0    0    0    0]\n",
      " [   1  120  170  144   17    3    2    0    0    0    0]\n",
      " [   1 3523   24  315    3    2    0    0    0    0    0]\n",
      " [   1   28   23 1981    3    2    0    0    0    0    0]\n",
      " [   1    5    8  999   59   20    3    2    0    0    0]\n",
      " [   1    4   95   41  967  110    3    2    0    0    0]\n",
      " [   1    4  251   15  309    3    2    0    0    0    0]\n",
      " [   1   19    8   48  172    3    2    0    0    0    0]\n",
      " [   1    4  751 2619    3    2    0    0    0    0    0]\n",
      " [   1    4   18   33   66  281    3    2    0    0    0]\n",
      " [   1   60  896    7    2    0    0    0    0    0    0]\n",
      " [   1   10   11   48  951    3    2    0    0    0    0]\n",
      " [   1  181   42   10  739    7    2    0    0    0    0]\n",
      " [   1    4   18  203   31  927    3    2    0    0    0]\n",
      " [   1    5 4010    6  142    3    2    0    0    0    0]\n",
      " [   1   10   26  178    3    2    0    0    0    0    0]\n",
      " [   1   10  137   35    9 1746    3    2    0    0    0]\n",
      " [   1   60  213   67   13 3148    7    2    0    0    0]\n",
      " [   1    5  825    9  578    3    2    0    0    0    0]\n",
      " [   1    4 1945   80    6    3    2    0    0    0    0]\n",
      " [   1   13 4831 3116  128    3    2    0    0    0    0]\n",
      " [   1   30   12   98   50  239    3    2    0    0    0]\n",
      " [   1   92    6   80  442    7    2    0    0    0    0]\n",
      " [   1   32   11   44  215    7    2    0    0    0    0]\n",
      " [   1    4  135   31  610    3    2    0    0    0    0]\n",
      " [   1   27  894    3    2    0    0    0    0    0    0]\n",
      " [   1   14   26    9   69  206    3    2    0    0    0]\n",
      " [   1   70   53   50   39    3    2    0    0    0    0]\n",
      " [   1   14   11 1386    3    2    0    0    0    0    0]\n",
      " [   1   10   11   70    9  394    3    2    0    0    0]\n",
      " [   1    4   38   64   44   10    3    2    0    0    0]\n",
      " [   1    4   62   34  217  110    3    2    0    0    0]\n",
      " [   1   27 2173    9  153    3    2    0    0    0    0]\n",
      " [   1    4   38   46    5   36    3    2    0    0    0]\n",
      " [   1    5  151   55 1869    3    2    0    0    0    0]\n",
      " [   1   16   23   33   77    3    2    0    0    0    0]\n",
      " [   1   16  230   19    3    2    0    0    0    0    0]\n",
      " [   1   14   11  210  253    3    2    0    0    0    0]\n",
      " [   1    4   43    5  144   93    3    2    0    0    0]\n",
      " [   1   14    8 2780    3    2    0    0    0    0    0]\n",
      " [   1    4   47    9  730   59  383    3    2    0    0]\n",
      " [   1    5   51   99  392    3    2    0    0    0    0]], shape=(64, 11), dtype=int32)\n",
      "tf.Tensor(\n",
      "[[  75    6   36  203  546    7    2    0    0    0    0]\n",
      " [   5   11    9 3332    3    2    0    0    0    0    0]\n",
      " [   4 2204  420   21  134    3    2    0    0    0    0]\n",
      " [   5   95   13 2389    3    2    0    0    0    0    0]\n",
      " [   6  230   17    3    2    0    0    0    0    0    0]\n",
      " [  52   22    6   47  126    7    2    0    0    0    0]\n",
      " [   4   38 4131   10  284    3    2    0    0    0    0]\n",
      " [  72    6  131    3    2    0    0    0    0    0    0]\n",
      " [   9  579  853   68   50    3    2    0    0    0    0]\n",
      " [  39  543   15   36    7    2    0    0    0    0    0]\n",
      " [  14 1003   61  407    3    2    0    0    0    0    0]\n",
      " [  19  678   66 1868    3    2    0    0    0    0    0]\n",
      " [  36  170   37    2    0    0    0    0    0    0    0]\n",
      " [  16   35   41    3    2    0    0    0    0    0    0]\n",
      " [   4   93   74    3    2    0    0    0    0    0    0]\n",
      " [   4   70   76   13  407    3    2    0    0    0    0]\n",
      " [  14   11    9  289  559    3    2    0    0    0    0]\n",
      " [   5  622  525    3    2    0    0    0    0    0    0]\n",
      " [  16  105    9  153   59   97    3    2    0    0    0]\n",
      " [   4  216  759    3    2    0    0    0    0    0    0]\n",
      " [  13  165   26  220    3    2    0    0    0    0    0]\n",
      " [ 933    8 3002    3    2    0    0    0    0    0    0]\n",
      " [ 116   81  187    3    2    0    0    0    0    0    0]\n",
      " [ 120  170  144   17    3    2    0    0    0    0    0]\n",
      " [3523   24  315    3    2    0    0    0    0    0    0]\n",
      " [  28   23 1981    3    2    0    0    0    0    0    0]\n",
      " [   5    8  999   59   20    3    2    0    0    0    0]\n",
      " [   4   95   41  967  110    3    2    0    0    0    0]\n",
      " [   4  251   15  309    3    2    0    0    0    0    0]\n",
      " [  19    8   48  172    3    2    0    0    0    0    0]\n",
      " [   4  751 2619    3    2    0    0    0    0    0    0]\n",
      " [   4   18   33   66  281    3    2    0    0    0    0]\n",
      " [  60  896    7    2    0    0    0    0    0    0    0]\n",
      " [  10   11   48  951    3    2    0    0    0    0    0]\n",
      " [ 181   42   10  739    7    2    0    0    0    0    0]\n",
      " [   4   18  203   31  927    3    2    0    0    0    0]\n",
      " [   5 4010    6  142    3    2    0    0    0    0    0]\n",
      " [  10   26  178    3    2    0    0    0    0    0    0]\n",
      " [  10  137   35    9 1746    3    2    0    0    0    0]\n",
      " [  60  213   67   13 3148    7    2    0    0    0    0]\n",
      " [   5  825    9  578    3    2    0    0    0    0    0]\n",
      " [   4 1945   80    6    3    2    0    0    0    0    0]\n",
      " [  13 4831 3116  128    3    2    0    0    0    0    0]\n",
      " [  30   12   98   50  239    3    2    0    0    0    0]\n",
      " [  92    6   80  442    7    2    0    0    0    0    0]\n",
      " [  32   11   44  215    7    2    0    0    0    0    0]\n",
      " [   4  135   31  610    3    2    0    0    0    0    0]\n",
      " [  27  894    3    2    0    0    0    0    0    0    0]\n",
      " [  14   26    9   69  206    3    2    0    0    0    0]\n",
      " [  70   53   50   39    3    2    0    0    0    0    0]\n",
      " [  14   11 1386    3    2    0    0    0    0    0    0]\n",
      " [  10   11   70    9  394    3    2    0    0    0    0]\n",
      " [   4   38   64   44   10    3    2    0    0    0    0]\n",
      " [   4   62   34  217  110    3    2    0    0    0    0]\n",
      " [  27 2173    9  153    3    2    0    0    0    0    0]\n",
      " [   4   38   46    5   36    3    2    0    0    0    0]\n",
      " [   5  151   55 1869    3    2    0    0    0    0    0]\n",
      " [  16   23   33   77    3    2    0    0    0    0    0]\n",
      " [  16  230   19    3    2    0    0    0    0    0    0]\n",
      " [  14   11  210  253    3    2    0    0    0    0    0]\n",
      " [   4   43    5  144   93    3    2    0    0    0    0]\n",
      " [  14    8 2780    3    2    0    0    0    0    0    0]\n",
      " [   4   47    9  730   59  383    3    2    0    0    0]\n",
      " [   5   51   99  392    3    2    0    0    0    0    0]], shape=(64, 11), dtype=int32)\n"
     ]
    }
   ],
   "source": [
    "for d in train_dataset:\n",
    "    print(d[0][1])\n",
    "    print(d[1])\n",
    "    break"
   ]
  },
  {
   "cell_type": "markdown",
   "metadata": {},
   "source": [
    "## Training the RNN encoder-decoder model"
   ]
  },
  {
   "cell_type": "markdown",
   "metadata": {},
   "source": [
    "We use an encoder-decoder architecture, however we embed our words into a latent space prior to feeding them into the RNN. "
   ]
  },
  {
   "cell_type": "code",
   "execution_count": 52,
   "metadata": {
    "tags": []
   },
   "outputs": [],
   "source": [
    "EMBEDDING_DIM = 256\n",
    "HIDDEN_UNITS = 1024\n",
    "\n",
    "INPUT_VOCAB_SIZE = len(inp_lang.word_index) + 1\n",
    "TARGET_VOCAB_SIZE = len(targ_lang.word_index) + 1"
   ]
  },
  {
   "cell_type": "markdown",
   "metadata": {},
   "source": [
    "Let's implement the encoder network with Keras functional API. It will\n",
    "* start with an `Input` layer that will consume the source language integerized sentences\n",
    "* then feed them to an `Embedding` layer of `EMBEDDING_DIM` dimensions\n",
    "* which in turn will pass the embeddings to a `GRU` recurrent layer with `HIDDEN_UNITS`\n",
    "\n",
    "The output of the encoder will be the `encoder_outputs` and the `encoder_state`. "
   ]
  },
  {
   "cell_type": "code",
   "execution_count": 55,
   "metadata": {
    "tags": []
   },
   "outputs": [],
   "source": [
    "encoder_inputs = Input(shape=(None,), name=\"encoder_input\")\n",
    "\n",
    "# TODO 2a\n",
    "encoder_inputs_embedded = Embedding(\n",
    "    input_dim=INPUT_VOCAB_SIZE,\n",
    "    output_dim=EMBEDDING_DIM,\n",
    "    input_length=max_length_inp,\n",
    ")(encoder_inputs)\n",
    "\n",
    "# hiddon_sequeses = GRU(\n",
    "#     units=HIDDEN_UNITS,\n",
    "#     return_sequences=True,\n",
    "#     recurrent_initializer=\"glorot_uniform\",\n",
    "# )(encoder_inputs_embedded)\n",
    "\n",
    "# # hiddon_sequeses = GRU(\n",
    "# #     units=HIDDEN_UNITS,\n",
    "# #     return_sequences=True,\n",
    "# #     recurrent_initializer=\"glorot_uniform\",\n",
    "# # )(hiddon_sequeses)\n",
    "\n",
    "# encoder_outputs, encoder_state = GRU(\n",
    "#     units=HIDDEN_UNITS,\n",
    "#     return_sequences=True,\n",
    "#     return_state=True,\n",
    "#     recurrent_initializer=\"glorot_uniform\",\n",
    "# )(hiddon_sequeses)\n",
    "\n",
    "\n",
    "encoder_outputs, encoder_state = GRU(\n",
    "    units=HIDDEN_UNITS,\n",
    "    dropout=0.3,\n",
    "    return_sequences=True,\n",
    "    return_state=True,\n",
    "    recurrent_initializer=\"glorot_uniform\",\n",
    ")(encoder_inputs_embedded)"
   ]
  },
  {
   "cell_type": "markdown",
   "metadata": {},
   "source": [
    "We now implement the decoder network, which is very similar to the encoder network.\n",
    "\n",
    "It will\n",
    "* start with an `Input` layer that will consume the source language integerized sentences\n",
    "* then feed that input to an `Embedding` layer of `EMBEDDING_DIM` dimensions\n",
    "* which in turn will pass the embeddings to a `GRU` recurrent layer with `HIDDEN_UNITS`\n",
    "\n",
    "**Important:** The main difference with the encoder, is that the recurrent `GRU` layer will take as input not only the decoder input embeddings, but also the `encoder_state` as outputted by the encoder above. This is where the two networks are linked!\n",
    "\n",
    "The output of the encoder will be the `decoder_outputs` and the `decoder_state`. "
   ]
  },
  {
   "cell_type": "code",
   "execution_count": 56,
   "metadata": {
    "tags": []
   },
   "outputs": [],
   "source": [
    "decoder_inputs = Input(shape=(None,), name=\"decoder_input\")\n",
    "\n",
    "# TODO 2b\n",
    "decoder_inputs_embedded = Embedding(\n",
    "    input_dim=TARGET_VOCAB_SIZE,\n",
    "    output_dim=EMBEDDING_DIM,\n",
    "    input_length=max_length_targ,\n",
    ")(decoder_inputs)\n",
    "\n",
    "decoder_rnn = GRU(\n",
    "    units=HIDDEN_UNITS,\n",
    "    return_sequences=True,\n",
    "    return_state=True,\n",
    "    recurrent_initializer=\"glorot_uniform\",\n",
    ")\n",
    "\n",
    "decoder_outputs, decoder_state = decoder_rnn(\n",
    "    decoder_inputs_embedded, initial_state=encoder_state\n",
    ")"
   ]
  },
  {
   "cell_type": "markdown",
   "metadata": {},
   "source": [
    "The last part of the encoder-decoder architecture is a softmax `Dense` layer that will create the next word probability vector or next word `predictions` from the `decoder_output`:"
   ]
  },
  {
   "cell_type": "code",
   "execution_count": 57,
   "metadata": {
    "tags": []
   },
   "outputs": [],
   "source": [
    "decoder_dense = Dense(TARGET_VOCAB_SIZE, activation=\"softmax\")\n",
    "\n",
    "predictions = decoder_dense(decoder_outputs)"
   ]
  },
  {
   "cell_type": "markdown",
   "metadata": {},
   "source": [
    "To be able to train the encoder-decoder network defined above, we now need to create a trainable Keras `Model` by specifying which are the `inputs` and the `outputs` of our problem. They should correspond exactly to what the type of input/output in our train and eval `tf.data.Dataset` since that's what will be fed to the `inputs` and `outputs` we declare while instantiating the Keras `Model`.\n",
    "\n",
    "While compiling our model, we should make sure that the loss is the `sparse_categorical_crossentropy` so that we can compare the true word indices for the target language as outputted by our train `tf.data.Dataset` with the next word `predictions` vector as outputted by the decoder:"
   ]
  },
  {
   "cell_type": "code",
   "execution_count": 58,
   "metadata": {
    "tags": []
   },
   "outputs": [
    {
     "name": "stdout",
     "output_type": "stream",
     "text": [
      "Model: \"model_3\"\n",
      "__________________________________________________________________________________________________\n",
      " Layer (type)                   Output Shape         Param #     Connected to                     \n",
      "==================================================================================================\n",
      " encoder_input (InputLayer)     [(None, None)]       0           []                               \n",
      "                                                                                                  \n",
      " decoder_input (InputLayer)     [(None, None)]       0           []                               \n",
      "                                                                                                  \n",
      " embedding_10 (Embedding)       (None, None, 256)    2409984     ['encoder_input[0][0]']          \n",
      "                                                                                                  \n",
      " embedding_11 (Embedding)       (None, None, 256)    1263360     ['decoder_input[0][0]']          \n",
      "                                                                                                  \n",
      " gru_12 (GRU)                   [(None, None, 1024)  3938304     ['embedding_10[0][0]']           \n",
      "                                , (None, 1024)]                                                   \n",
      "                                                                                                  \n",
      " gru_13 (GRU)                   [(None, None, 1024)  3938304     ['embedding_11[0][0]',           \n",
      "                                , (None, 1024)]                   'gru_12[0][1]']                 \n",
      "                                                                                                  \n",
      " dense_3 (Dense)                (None, None, 4935)   5058375     ['gru_13[0][0]']                 \n",
      "                                                                                                  \n",
      "==================================================================================================\n",
      "Total params: 16,608,327\n",
      "Trainable params: 16,608,327\n",
      "Non-trainable params: 0\n",
      "__________________________________________________________________________________________________\n"
     ]
    },
    {
     "data": {
      "image/png": "[encoded data removed]",
      "text/plain": [
       "<IPython.core.display.Image object>"
      ]
     },
     "execution_count": 58,
     "metadata": {},
     "output_type": "execute_result"
    }
   ],
   "source": [
    "# TODO 2c\n",
    "model = Model(inputs=[encoder_inputs, decoder_inputs], outputs=predictions)\n",
    "\n",
    "model.compile(optimizer=\"adam\", loss=\"sparse_categorical_crossentropy\")\n",
    "model.summary()\n",
    "tf.keras.utils.plot_model(model)"
   ]
  },
  {
   "cell_type": "markdown",
   "metadata": {},
   "source": [
    "Let's now train the model!"
   ]
  },
  {
   "cell_type": "code",
   "execution_count": 59,
   "metadata": {
    "tags": []
   },
   "outputs": [
    {
     "name": "stdout",
     "output_type": "stream",
     "text": [
      "Epoch 1/30\n",
      "375/375 [==============================] - 20s 45ms/step - loss: 2.0756 - val_loss: 1.5919\n",
      "Epoch 2/30\n",
      "375/375 [==============================] - 11s 29ms/step - loss: 1.3690 - val_loss: 1.2781\n",
      "Epoch 3/30\n",
      "375/375 [==============================] - 11s 28ms/step - loss: 1.0313 - val_loss: 1.0707\n",
      "Epoch 4/30\n",
      "375/375 [==============================] - 11s 28ms/step - loss: 0.7637 - val_loss: 0.9590\n",
      "Epoch 5/30\n",
      "375/375 [==============================] - 10s 28ms/step - loss: 0.5513 - val_loss: 0.8921\n",
      "Epoch 6/30\n",
      "375/375 [==============================] - 11s 29ms/step - loss: 0.3857 - val_loss: 0.8500\n",
      "Epoch 7/30\n",
      "375/375 [==============================] - 10s 28ms/step - loss: 0.2661 - val_loss: 0.8445\n",
      "Epoch 8/30\n",
      "375/375 [==============================] - 11s 28ms/step - loss: 0.1853 - val_loss: 0.8507\n",
      "Epoch 9/30\n",
      "375/375 [==============================] - 11s 28ms/step - loss: 0.1348 - val_loss: 0.8665\n",
      "Epoch 10/30\n",
      "375/375 [==============================] - 11s 29ms/step - loss: 0.1034 - val_loss: 0.8829\n",
      "Epoch 11/30\n",
      "375/375 [==============================] - 10s 28ms/step - loss: 0.0843 - val_loss: 0.8915\n",
      "Epoch 12/30\n",
      "375/375 [==============================] - 11s 28ms/step - loss: 0.0740 - val_loss: 0.9143\n",
      "Epoch 13/30\n",
      "375/375 [==============================] - 10s 28ms/step - loss: 0.0690 - val_loss: 0.9111\n",
      "Epoch 14/30\n",
      "375/375 [==============================] - 10s 28ms/step - loss: 0.0656 - val_loss: 0.9333\n",
      "Epoch 15/30\n",
      "375/375 [==============================] - 11s 28ms/step - loss: 0.0650 - val_loss: 0.9428\n",
      "Epoch 16/30\n",
      "375/375 [==============================] - 10s 28ms/step - loss: 0.0641 - val_loss: 0.9494\n",
      "Epoch 17/30\n",
      "375/375 [==============================] - 10s 28ms/step - loss: 0.0616 - val_loss: 0.9658\n",
      "Epoch 18/30\n",
      "375/375 [==============================] - 10s 28ms/step - loss: 0.0624 - val_loss: 0.9735\n",
      "Epoch 19/30\n",
      "375/375 [==============================] - 10s 28ms/step - loss: 0.0595 - val_loss: 0.9946\n",
      "Epoch 20/30\n",
      "375/375 [==============================] - 10s 28ms/step - loss: 0.0590 - val_loss: 0.9954\n",
      "Epoch 21/30\n",
      "375/375 [==============================] - 11s 29ms/step - loss: 0.0555 - val_loss: 0.9968\n",
      "Epoch 22/30\n",
      "375/375 [==============================] - 10s 28ms/step - loss: 0.0575 - val_loss: 1.0047\n",
      "Epoch 23/30\n",
      "375/375 [==============================] - 10s 28ms/step - loss: 0.0556 - val_loss: 1.0031\n",
      "Epoch 24/30\n",
      "375/375 [==============================] - 10s 28ms/step - loss: 0.0550 - val_loss: 1.0135\n",
      "Epoch 25/30\n",
      "375/375 [==============================] - 10s 28ms/step - loss: 0.0547 - val_loss: 1.0226\n",
      "Epoch 26/30\n",
      "375/375 [==============================] - 11s 28ms/step - loss: 0.0534 - val_loss: 1.0258\n",
      "Epoch 27/30\n",
      "375/375 [==============================] - 10s 28ms/step - loss: 0.0519 - val_loss: 1.0339\n",
      "Epoch 28/30\n",
      "375/375 [==============================] - 10s 28ms/step - loss: 0.0510 - val_loss: 1.0251\n",
      "Epoch 29/30\n",
      "375/375 [==============================] - 10s 28ms/step - loss: 0.0510 - val_loss: 1.0410\n",
      "Epoch 30/30\n",
      "375/375 [==============================] - 10s 28ms/step - loss: 0.0509 - val_loss: 1.0446\n"
     ]
    },
    {
     "data": {
      "text/plain": [
       "<Axes: >"
      ]
     },
     "execution_count": 59,
     "metadata": {},
     "output_type": "execute_result"
    },
    {
     "data": {
      "image/png": "[encoded data removed]",
      "text/plain": [
       "<Figure size 640x480 with 1 Axes>"
      ]
     },
     "metadata": {},
     "output_type": "display_data"
    }
   ],
   "source": [
    "STEPS_PER_EPOCH = len(input_tensor_train) // BATCH_SIZE\n",
    "EPOCHS = 30\n",
    "\n",
    "\n",
    "history = model.fit(\n",
    "    train_dataset,\n",
    "    steps_per_epoch=STEPS_PER_EPOCH,\n",
    "    validation_data=eval_dataset,\n",
    "    epochs=EPOCHS,\n",
    ")\n",
    "\n",
    "pd.DataFrame(history.history)[[\"loss\", \"val_loss\"]].plot()"
   ]
  },
  {
   "cell_type": "markdown",
   "metadata": {},
   "source": [
    "## Implementing the translation (or decoding) function\n",
    "\n",
    "We can't just use model(), because we don't know all the inputs we used during training. We only know the encoder_input (source language) but not the decoder_input (target language), which is what we want to predict (i.e., the translation of the source language)!\n",
    "\n",
    "We do however know the first token of the decoder input, which is the `<start>` token. So using this plus the state of the encoder RNN, we can predict the next token. We will then use that token to be the second token of decoder input, and continue like this until we predict the `<end>` token, or we reach some defined max length.\n",
    "\n",
    "So, the strategy now is to split our trained network into two independent Keras models:\n",
    "\n",
    "* an **encoder model** with signature `encoder_inputs -> encoder_state`\n",
    "* a **decoder model** with signature `[decoder_inputs, decoder_state_input] -> [predictions, decoder_state]`\n",
    "\n",
    "This way, we will be able to encode the source language sentence into the vector `encoder_state` using the encoder and feed it to the decoder model along with the `<start>` token at step 1. \n",
    "\n",
    "Given that input, the decoder will produce the first word of the translation, by sampling from the `predictions` vector (for simplicity, our sampling strategy here will be to take the next word to be the one whose index has the maximum probability in the `predictions` vector) along with a new state vector, the `decoder_state`. \n",
    "\n",
    "At this point, we can feed again to the decoder the predicted first word and as well as the new `decoder_state` to predict the translation second word. \n",
    "\n",
    "This process can be continued until the decoder produces the token `<stop>`. \n",
    "\n",
    "This is how we will implement our translation (or decoding) function, but let us first extract a separate encoder and a separate decoder from our trained encoder-decoder model. \n",
    "\n",
    "\n",
    "**Remark:** If we have already trained and saved the models (i.e, `LOAD_CHECKPOINT` is `True`) we will just load the models, otherwise, we extract them from the trained network above by explicitly creating the encoder and decoder Keras `Model`s with the signature we want.\n",
    "\n"
   ]
  },
  {
   "cell_type": "code",
   "execution_count": 60,
   "metadata": {
    "tags": []
   },
   "outputs": [],
   "source": [
    "if LOAD_CHECKPOINT:\n",
    "    encoder_model = load_model(os.path.join(MODEL_PATH, \"encoder_model\"))\n",
    "    decoder_model = load_model(os.path.join(MODEL_PATH, \"decoder_model\"))\n",
    "\n",
    "else:\n",
    "    # TODO 3a\n",
    "    encoder_model = Model(inputs=encoder_inputs, outputs=encoder_state)\n",
    "\n",
    "    decoder_state_input = Input(\n",
    "        shape=(HIDDEN_UNITS,), name=\"decoder_state_input\"\n",
    "    )\n",
    "\n",
    "    # Reuses weights from the decoder_rnn layer\n",
    "    decoder_outputs, decoder_state = decoder_rnn(\n",
    "        decoder_inputs_embedded, initial_state=decoder_state_input\n",
    "    )\n",
    "\n",
    "    # Reuses weights from the decoder_dense layer\n",
    "    predictions = decoder_dense(decoder_outputs)\n",
    "\n",
    "    decoder_model = Model(\n",
    "        inputs=[decoder_inputs, decoder_state_input],\n",
    "        outputs=[predictions, decoder_state],\n",
    "    )"
   ]
  },
  {
   "cell_type": "markdown",
   "metadata": {},
   "source": [
    "Now that we have a separate encoder and a separate decoder, let's implement a translation function, to which we will give the generic name of `decode_sequences` (to stress that this procedure is general to all seq2seq problems). \n",
    "\n",
    "`decode_sequences` will take as input\n",
    "* `input_seqs` which is the integerized source language sentence tensor that the encoder can consume\n",
    "* `output_tokenizer` which is the target languague tokenizer we will need to extract back words from predicted word integers\n",
    "* `max_decode_length` which is the length after which we stop decoding if the `<stop>` token has not been predicted\n",
    "\n",
    "\n",
    "**Note**: Now that the encoder and decoder have been turned into Keras models, to feed them their input, we need to use the `.predict` method."
   ]
  },
  {
   "cell_type": "code",
   "execution_count": 61,
   "metadata": {
    "tags": []
   },
   "outputs": [],
   "source": [
    "def decode_sequences(input_seqs, output_tokenizer, max_decode_length=50):\n",
    "    \"\"\"\n",
    "    Arguments:\n",
    "    input_seqs: int tensor of shape (BATCH_SIZE, SEQ_LEN)\n",
    "    output_tokenizer: Tokenizer used to conver from int to words\n",
    "\n",
    "    Returns translated sentences\n",
    "    \"\"\"\n",
    "    # Encode the input as state vectors.\n",
    "    states_value = encoder_model(input_seqs)\n",
    "\n",
    "    # Populate the first character of target sequence with the start character.\n",
    "    batch_size = input_seqs.shape[0]\n",
    "    target_seq = tf.ones([batch_size, 1])\n",
    "\n",
    "    decoded_sentences = [[] for _ in range(batch_size)]\n",
    "\n",
    "    # TODO 4: Sampling loop\n",
    "    for i in range(max_decode_length):\n",
    "        output_tokens, decoder_state = decoder_model([target_seq, states_value])\n",
    "\n",
    "        # Sample a token\n",
    "        sampled_token_index = np.argmax(output_tokens[:, -1, :], axis=-1)\n",
    "\n",
    "        tokens = utils_preproc.int2word(output_tokenizer, sampled_token_index)\n",
    "\n",
    "        for j in range(batch_size):\n",
    "            decoded_sentences[j].append(tokens[j])\n",
    "\n",
    "        # Update the target sequence (of length 1).\n",
    "        target_seq = tf.expand_dims(tf.constant(sampled_token_index), axis=-1)\n",
    "\n",
    "        # Update states\n",
    "        states_value = decoder_state\n",
    "\n",
    "    return decoded_sentences"
   ]
  },
  {
   "cell_type": "markdown",
   "metadata": {},
   "source": [
    "Now we're ready to predict!"
   ]
  },
  {
   "cell_type": "code",
   "execution_count": 62,
   "metadata": {
    "tags": []
   },
   "outputs": [
    {
     "name": "stdout",
     "output_type": "stream",
     "text": [
      "-\n",
      "INPUT:\n",
      "No estamos comiendo.\n",
      "REFERENCE TRANSLATION:\n",
      "We're not eating.\n",
      "MACHINE TRANSLATION:\n",
      "['we', 're', 'not', 'eating', '.', '<end>', '', '', '', '', '']\n",
      "-\n",
      "INPUT:\n",
      "Está llegando el invierno.\n",
      "REFERENCE TRANSLATION:\n",
      "Winter is coming.\n",
      "MACHINE TRANSLATION:\n",
      "['winter', 'is', 'coming', '.', '<end>', '', '', '', '', '', '']\n",
      "-\n",
      "INPUT:\n",
      "El invierno se acerca.\n",
      "REFERENCE TRANSLATION:\n",
      "Winter is coming.\n",
      "MACHINE TRANSLATION:\n",
      "['winter', 'is', 'coming', '.', '<end>', '', '', '', '', '', '']\n",
      "-\n",
      "INPUT:\n",
      "Tom no comio nada.\n",
      "REFERENCE TRANSLATION:\n",
      "Tom ate nothing.\n",
      "MACHINE TRANSLATION:\n",
      "['tom', 'ate', 'nothing', '.', '<end>', '', '', '', '', '', '']\n",
      "-\n",
      "INPUT:\n",
      "Su pierna mala le impidió ganar la carrera.\n",
      "REFERENCE TRANSLATION:\n",
      "His bad leg prevented him from winning the race.\n",
      "MACHINE TRANSLATION:\n",
      "['his', 'word', 'is', 'other', '.', '<end>', '', '', '', '', '']\n",
      "-\n",
      "INPUT:\n",
      "Su respuesta es erronea.\n",
      "REFERENCE TRANSLATION:\n",
      "Your answer is wrong.\n",
      "MACHINE TRANSLATION:\n",
      "['your', 'shirt', 'is', 'orange', '.', '<end>', '', '', '', '', '']\n",
      "-\n",
      "INPUT:\n",
      "¿Qué tal si damos un paseo después del almuerzo?\n",
      "REFERENCE TRANSLATION:\n",
      "How about going for a walk after lunch?\n",
      "MACHINE TRANSLATION:\n",
      "['how', 'about', 'it', '?', '<end>', '', '', '', '', '', '']\n"
     ]
    }
   ],
   "source": [
    "sentences = [\n",
    "    \"No estamos comiendo.\",\n",
    "    \"Está llegando el invierno.\",\n",
    "    \"El invierno se acerca.\",\n",
    "    \"Tom no comio nada.\",\n",
    "    \"Su pierna mala le impidió ganar la carrera.\",\n",
    "    \"Su respuesta es erronea.\",\n",
    "    \"¿Qué tal si damos un paseo después del almuerzo?\",\n",
    "]\n",
    "\n",
    "reference_translations = [\n",
    "    \"We're not eating.\",\n",
    "    \"Winter is coming.\",\n",
    "    \"Winter is coming.\",\n",
    "    \"Tom ate nothing.\",\n",
    "    \"His bad leg prevented him from winning the race.\",\n",
    "    \"Your answer is wrong.\",\n",
    "    \"How about going for a walk after lunch?\",\n",
    "]\n",
    "\n",
    "machine_translations = decode_sequences(\n",
    "    utils_preproc.preprocess(sentences, inp_lang), targ_lang, max_length_targ\n",
    ")\n",
    "\n",
    "for i in range(len(sentences)):\n",
    "    print(\"-\")\n",
    "    print(\"INPUT:\")\n",
    "    print(sentences[i])\n",
    "    print(\"REFERENCE TRANSLATION:\")\n",
    "    print(reference_translations[i])\n",
    "    print(\"MACHINE TRANSLATION:\")\n",
    "    print(machine_translations[i])"
   ]
  },
  {
   "cell_type": "markdown",
   "metadata": {},
   "source": [
    "### Checkpoint Model"
   ]
  },
  {
   "cell_type": "markdown",
   "metadata": {},
   "source": [
    "Now let's us save the full training encoder-decoder model, as well as the separate encoder and decoder model to disk for latter reuse:"
   ]
  },
  {
   "cell_type": "code",
   "execution_count": null,
   "metadata": {},
   "outputs": [],
   "source": [
    "if not LOAD_CHECKPOINT:\n",
    "    os.makedirs(MODEL_PATH, exist_ok=True)\n",
    "\n",
    "    # TODO 3b\n",
    "    model.save(os.path.join(MODEL_PATH, \"model\"))\n",
    "    encoder_model.save(os.path.join(MODEL_PATH, \"encoder_model\"))\n",
    "    decoder_model.save(os.path.join(MODEL_PATH, \"decoder_model\"))\n",
    "\n",
    "    with open(os.path.join(MODEL_PATH, \"encoder_tokenizer.pkl\"), \"wb\") as fp:\n",
    "        pickle.dump(inp_lang, fp)\n",
    "\n",
    "    with open(os.path.join(MODEL_PATH, \"decoder_tokenizer.pkl\"), \"wb\") as fp:\n",
    "        pickle.dump(targ_lang, fp)"
   ]
  },
  {
   "cell_type": "markdown",
   "metadata": {},
   "source": [
    "## Evaluation Metric (BLEU)\n",
    "\n",
    "Unlike say, image classification, there is no one right answer for a machine translation. However our current loss metric, cross entropy, only gives credit when the machine translation matches the exact same word in the same order as the reference translation. \n",
    "\n",
    "Many attempts have been made to develop a better metric for natural language evaluation. The most popular currently is Bilingual Evaluation Understudy (BLEU).\n",
    "\n",
    "- It is quick and inexpensive to calculate.\n",
    "- It allows flexibility for the ordering of words and phrases.\n",
    "- It is easy to understand.\n",
    "- It is language independent.\n",
    "- It correlates highly with human evaluation.\n",
    "- It has been widely adopted.\n",
    "\n",
    "The score is from 0 to 1, where 1 is an exact match.\n",
    "\n",
    "It works by counting matching n-grams between the machine and reference texts, regardless of order. BLUE-4 counts matching n grams from 1-4 (1-gram, 2-gram, 3-gram and 4-gram). It is common to report both BLUE-1 and BLUE-4\n",
    "\n",
    "It still is imperfect, since it gives no credit to synonyms and so human evaluation is still best when feasible. However BLEU is commonly considered the best among bad options for an automated metric.\n",
    "\n",
    "The Hugging Face evaluate framework has an implementation that we will use.\n",
    "\n",
    "We can't run calculate BLEU during training, because at that time the correct decoder input is used. Instead we'll calculate it now.\n",
    "\n",
    "For more info: https://machinelearningmastery.com/calculate-bleu-score-for-text-python/"
   ]
  },
  {
   "cell_type": "code",
   "execution_count": null,
   "metadata": {
    "tags": []
   },
   "outputs": [],
   "source": [
    "def postprocess(sentence):\n",
    "    filtered = list(filter(lambda x: x != \"\" and x != \"<end>\", sentence))\n",
    "    return \" \".join(filtered)"
   ]
  },
  {
   "cell_type": "markdown",
   "metadata": {},
   "source": [
    "Let's now average the `bleu_1` and `bleu_4` scores for all the sentence pairs in the eval set. The next cell takes around 1 minute (8 minutes for full dataset eval) to run, the bulk of which is decoding the sentences in the validation set. Please wait until completes."
   ]
  },
  {
   "cell_type": "code",
   "execution_count": null,
   "metadata": {},
   "outputs": [],
   "source": [
    "NUM_EVALUATE = 1000  # `len(input_tensor_val)` for full eval.\n",
    "\n",
    "reference = []\n",
    "candidate = []\n",
    "\n",
    "for idx in tqdm(range(NUM_EVALUATE)):\n",
    "    reference_sentence = utils_preproc.int2word(\n",
    "        targ_lang, target_tensor_val[idx][1:]\n",
    "    )\n",
    "\n",
    "    decoded_sentence = decode_sequences(\n",
    "        input_tensor_val[idx : idx + 1], targ_lang, max_length_targ\n",
    "    )[0]\n",
    "\n",
    "    candidate.append(postprocess(decoded_sentence))\n",
    "    reference.append([postprocess(reference_sentence)])"
   ]
  },
  {
   "cell_type": "markdown",
   "metadata": {},
   "source": [
    "### Check the score"
   ]
  },
  {
   "cell_type": "code",
   "execution_count": null,
   "metadata": {
    "tags": []
   },
   "outputs": [],
   "source": [
    "bleu = evaluate.load(\"bleu\")\n",
    "bleu_1 = bleu.compute(predictions=candidate, references=reference, max_order=1)\n",
    "bleu_4 = bleu.compute(predictions=candidate, references=reference, max_order=4)"
   ]
  },
  {
   "cell_type": "code",
   "execution_count": null,
   "metadata": {
    "tags": []
   },
   "outputs": [],
   "source": [
    "bleu_1[\"bleu\"]"
   ]
  },
  {
   "cell_type": "code",
   "execution_count": null,
   "metadata": {
    "tags": []
   },
   "outputs": [],
   "source": [
    "bleu_4[\"bleu\"]"
   ]
  },
  {
   "cell_type": "markdown",
   "metadata": {},
   "source": [
    "### References\n",
    "\n",
    "- Francois Chollet: https://github.com/keras-team/keras-io/blob/master/examples/nlp/lstm_seq2seq.py\n"
   ]
  }
 ],
 "metadata": {
  "environment": {
   "kernel": "conda-base-py",
   "name": "workbench-notebooks.m129",
   "type": "gcloud",
   "uri": "us-docker.pkg.dev/deeplearning-platform-release/gcr.io/workbench-notebooks:m129"
  },
  "kernelspec": {
   "display_name": "Python 3 (ipykernel)",
   "language": "python",
   "name": "conda-base-py"
  },
  "language_info": {
   "codemirror_mode": {
    "name": "ipython",
    "version": 3
   },
   "file_extension": ".py",
   "mimetype": "text/x-python",
   "name": "python",
   "nbconvert_exporter": "python",
   "pygments_lexer": "ipython3",
   "version": "3.10.16"
  }
 },
 "nbformat": 4,
 "nbformat_minor": 4
}
