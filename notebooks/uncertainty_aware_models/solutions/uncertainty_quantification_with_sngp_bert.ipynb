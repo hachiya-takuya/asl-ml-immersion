{
 "cells": [
  {
   "cell_type": "markdown",
   "metadata": {
    "id": "aOpqCFEyBQDd"
   },
   "source": [
    "# Uncertainty-aware Deep Language Learning with BERT-SNGP"
   ]
  },
  {
   "cell_type": "markdown",
   "metadata": {
    "id": "-IM5IzM26GBh"
   },
   "source": [
    "**Learning Objectives**:\n",
    "\n",
    "* Learn how to build a [BERT](https://tfhub.dev/tensorflow/bert_en_uncased_L-12_H-768_A-12/2) model for text classification\n",
    "* Learn how augment the BERT classifier with a Spectral Normalized Gaussian Process (SNGP) to improve the uncertainty quality\n",
    "* Learn how to Load the [CLINC Out-of-scope (OOS)](https://www.tensorflow.org/datasets/catalog/clinc_oos) intent detection dataset and train BERT-SNGP on this dataset\n",
    "* Evaluate the BERT-SNGP model's performance in uncertainty calibration and out-of-domain detection.\n",
    "\n",
    "In this notebook, you will apply SNGP to a natural language understanding (NLU) task by building it on top of a deep BERT encoder to improve deep NLU model's ability in detecting out-of-scope queries. \n",
    "For the purpose of notebook,  we will use [CLINC Out-of-scope (OOS)](https://www.tensorflow.org/datasets/catalog/clinc_oos) intent detection dataset. However, the SNGP model has been applied to large-scale datasets such as [Jigsaw toxicity detection](https://www.tensorflow.org/datasets/catalog/wikipedia_toxicity_subtypes), and to the image datasets such as [CIFAR-100](https://www.tensorflow.org/datasets/catalog/cifar100) and [ImageNet](https://www.tensorflow.org/datasets/catalog/imagenet2012). \n",
    "For benchmark results of SNGP and other uncertainty methods, as well as high-quality implementation with end-to-end training / evaluation scripts, you can check out the [Uncertainty Baselines](https://github.com/google/uncertainty-baselines) benchmark."
   ]
  },
  {
   "cell_type": "markdown",
   "metadata": {
    "id": "-bsids4eAYYI"
   },
   "source": [
    "## Setup"
   ]
  },
  {
   "cell_type": "code",
   "execution_count": 1,
   "metadata": {
    "id": "3sgnLBKk7iuR"
   },
   "outputs": [
    {
     "name": "stdout",
     "output_type": "stream",
     "text": [
      "tf-models-official==2.8.0\n",
      "Note: you may need to restart the kernel to use updated packages.\n"
     ]
    }
   ],
   "source": [
    "pip freeze | grep tf-models-official || pip install tf-models-official==2.8.0"
   ]
  },
  {
   "cell_type": "code",
   "execution_count": 49,
   "metadata": {
    "id": "M42dnVSk7dVy"
   },
   "outputs": [],
   "source": [
    "import random\n",
    "\n",
    "import matplotlib.pyplot as plt\n",
    "import numpy as np\n",
    "import sklearn.calibration\n",
    "import sklearn.metrics\n",
    "import tensorflow as tf\n",
    "import tensorflow_datasets as tfds\n",
    "import tensorflow_hub as hub\n",
    "from official.nlp.modeling.layers import (\n",
    "    ClassificationHead,\n",
    "    GaussianProcessClassificationHead,\n",
    ")\n",
    "from official.nlp.optimization import AdamWeightDecay"
   ]
  },
  {
   "cell_type": "markdown",
   "metadata": {
    "id": "4TiolAXow5Rs"
   },
   "source": [
    "This tutorial needs the GPU to run efficiently. Check if the GPU is available. "
   ]
  },
  {
   "cell_type": "code",
   "execution_count": 3,
   "metadata": {
    "id": "18dxUFtEBeIR"
   },
   "outputs": [
    {
     "data": {
      "text/plain": [
       "'2.8.3'"
      ]
     },
     "execution_count": 3,
     "metadata": {},
     "output_type": "execute_result"
    }
   ],
   "source": [
    "tf.__version__"
   ]
  },
  {
   "cell_type": "code",
   "execution_count": 4,
   "metadata": {
    "id": "9enQL-rZxGkP"
   },
   "outputs": [
    {
     "name": "stderr",
     "output_type": "stream",
     "text": [
      "2022-09-17 00:30:01.778432: I tensorflow/stream_executor/cuda/cuda_gpu_executor.cc:936] successful NUMA node read from SysFS had negative value (-1), but there must be at least one NUMA node, so returning NUMA node zero\n",
      "2022-09-17 00:30:01.910365: I tensorflow/stream_executor/cuda/cuda_gpu_executor.cc:936] successful NUMA node read from SysFS had negative value (-1), but there must be at least one NUMA node, so returning NUMA node zero\n",
      "2022-09-17 00:30:01.912205: I tensorflow/stream_executor/cuda/cuda_gpu_executor.cc:936] successful NUMA node read from SysFS had negative value (-1), but there must be at least one NUMA node, so returning NUMA node zero\n"
     ]
    },
    {
     "data": {
      "text/plain": [
       "[PhysicalDevice(name='/physical_device:GPU:0', device_type='GPU')]"
      ]
     },
     "execution_count": 4,
     "metadata": {},
     "output_type": "execute_result"
    }
   ],
   "source": [
    "gpus = tf.config.list_physical_devices(\"GPU\")\n",
    "gpus"
   ]
  },
  {
   "cell_type": "code",
   "execution_count": 17,
   "metadata": {
    "id": "ZY_xLQnS-6ar"
   },
   "outputs": [],
   "source": [
    "assert gpus, \"\"\"\n",
    "  No GPU(s) found! This tutorial will take many hours to run without a GPU.\n",
    "\n",
    "  You may hit this error if the installed tensorflow package is not\n",
    "  compatible with the CUDA and CUDNN versions.\"\"\""
   ]
  },
  {
   "cell_type": "markdown",
   "metadata": {},
   "source": [
    "## Implement a classification BERT model "
   ]
  },
  {
   "cell_type": "markdown",
   "metadata": {
    "id": "cnRQfguq6GZj"
   },
   "source": [
    "First, we will implement a standard BERT classifier using the Keras model API (see our [classify text with BERT](notebooks/text_models/solutions/classify_text_with_bert.ipynb) tutorial for more details on the BERT model). We will use the [BERT-base](https://tfhub.dev/tensorflow/bert_en_uncased_L-12_H-768_A-12/3) encoder, and the built-in [`ClassificationHead`](https://github.com/tensorflow/models/blob/master/official/nlp/modeling/layers/cls_head.py) as the classifier."
   ]
  },
  {
   "cell_type": "markdown",
   "metadata": {},
   "source": [
    "A BERT classifier consists essentially 3 stages:\n",
    "\n",
    "* A pre-processing stage where the sentences are broken up into word pieces tokens and the tokens mapped to integer ID's. This stage is implemented by a pre-processing layer that has no learnable weights.\n",
    "* A encoding stage where the ID's representing the sentence tokens are transformed into contextual vectors. This stage is usually implemented by a pre-trained layer that can be fine-tuned or frozen.\n",
    "* A classification head that performs the actual classification based on the contextual vectors preduced by the BERT encoder. This stage is implemented by layers that have learnable weights. \n",
    "\n",
    "In our version, the first two stages will be implemented by [TF-Hub modules](https://tfhub.dev/), with a [english uncased pre-processor module](https://tfhub.dev/tensorflow/bert_en_uncased_preprocess/3) followed by a corresponding [BERT encoder](https://tfhub.dev/tensorflow/bert_en_uncased_L-12_H-768_A-12/3) producing contextual vectors of dimension 768. The class `KerasLayer` will allow us to import these modules as standard Keras layers from their TF-Hub URLs.\n",
    "\n",
    "\n",
    "[TensorFlow model garden](https://www.tensorflow.org/tfmodels) provides a simple `ClassificationHead` layer that can be composed directly to the output of a BERT encoder. (More precisely, a BERT encoder returns a dictonary containing the contextual vectors for each token along with a single vector of the same dimension representing the whole sentence; this is the vector that will be passed to the `ClassificationHead` layer and it is retrieved as the `encoder_outputs[\"sequence_output\"]` value of the encoder output dictionary.) It is imported by the following statement:\n",
    "\n",
    "```python\n",
    "from official.nlp.modeling.layers import ClassificationHead\n",
    "```\n",
    "It has 3 main arguments\n",
    "```python\n",
    "ClassificationHead(num_classes, inner_dim, dropout_rate)\n",
    "```\n",
    "where `num_classes` is the number of classes for the downstream classification task, `inner_dim` is the BERT-encoder contextual-vector dimension, and `dropout_rate` is the dropout regularization rate to be applied. "
   ]
  },
  {
   "cell_type": "markdown",
   "metadata": {},
   "source": [
    "We will implement the BERT classifier following a similar strategy as we used in the [SNGP lab for the two-moon dataset](https://github.com/GoogleCloudPlatform/asl-ml-immersion/blob/master/notebooks/uncertainty_aware_models/solutions/uncertainty_awareness_in_deep_learning.ipynb), with a two method `make_bert_encoder` and `make_classification_head` constructing the different stages of the BERT classifier. Then, to implement SNGP on the top of our BERT classifier model, we will only have to overide these methods (actually the latter only) in a derived SNGP-BERT class. "
   ]
  },
  {
   "cell_type": "code",
   "execution_count": 20,
   "metadata": {
    "id": "bNBEGs7s6NHB"
   },
   "outputs": [],
   "source": [
    "PREPROCESS_HANDLE = \"https://tfhub.dev/tensorflow/bert_en_uncased_preprocess/3\"\n",
    "MODEL_HANDLE = \"https://tfhub.dev/tensorflow/bert_en_uncased_L-12_H-768_A-12/3\"\n",
    "\n",
    "\n",
    "class BertClassifier(tf.keras.Model):\n",
    "    def __init__(\n",
    "        self,\n",
    "        num_classes=150,\n",
    "        inner_dim=768,\n",
    "        dropout_rate=0.1,\n",
    "        **classifier_kwargs,\n",
    "    ):\n",
    "\n",
    "        super().__init__()\n",
    "        self.classifier_kwargs = classifier_kwargs\n",
    "\n",
    "        # Initiate the BERT encoder components.\n",
    "        self.bert_preprocessor = hub.KerasLayer(\n",
    "            PREPROCESS_HANDLE, name=\"preprocessing\"\n",
    "        )\n",
    "        self.bert_hidden_layer = hub.KerasLayer(\n",
    "            MODEL_HANDLE, trainable=True, name=\"bert_encoder\"\n",
    "        )\n",
    "\n",
    "        # Defines the encoder and classification layers.\n",
    "        self.bert_encoder = self.make_bert_encoder()\n",
    "        self.classifier = self.make_classification_head(\n",
    "            num_classes, inner_dim, dropout_rate\n",
    "        )\n",
    "\n",
    "    def make_bert_encoder(self):\n",
    "        text_inputs = tf.keras.layers.Input(\n",
    "            shape=(), dtype=tf.string, name=\"text\"\n",
    "        )\n",
    "        encoder_inputs = self.bert_preprocessor(text_inputs)\n",
    "        encoder_outputs = self.bert_hidden_layer(encoder_inputs)\n",
    "        return tf.keras.Model(text_inputs, encoder_outputs)\n",
    "\n",
    "    def make_classification_head(self, num_classes, inner_dim, dropout_rate):\n",
    "        return ClassificationHead(\n",
    "            num_classes=num_classes,\n",
    "            inner_dim=inner_dim,\n",
    "            dropout_rate=dropout_rate,\n",
    "            **self.classifier_kwargs,\n",
    "        )\n",
    "\n",
    "    def call(self, inputs, **kwargs):\n",
    "        encoder_outputs = self.bert_encoder(inputs)\n",
    "        classifier_inputs = encoder_outputs[\"sequence_output\"]\n",
    "        return self.classifier(classifier_inputs, **kwargs)"
   ]
  },
  {
   "cell_type": "markdown",
   "metadata": {
    "id": "qdU90uDT6hFq"
   },
   "source": [
    "### Load CLINC OOS dataset"
   ]
  },
  {
   "cell_type": "markdown",
   "metadata": {
    "id": "AnuNeyHw6kH7"
   },
   "source": [
    "Now load the [CLINC OOS](https://www.tensorflow.org/datasets/catalog/clinc_oos) intent detection dataset. This dataset contains 15000 user's spoken queries collected over 150 intent classes, it also contains 1000 out-of-domain (OOD) sentences that are not covered by any of the known classes. \n",
    "\n",
    "We will train our BERT classifier to recognize the possible 150 intents in the queries, and we will then evaluate how uncertain the classifier becomes when confronted to queries outside of the 150 intent scope. "
   ]
  },
  {
   "cell_type": "code",
   "execution_count": 9,
   "metadata": {
    "id": "mkMZN2iA6hhg"
   },
   "outputs": [
    {
     "name": "stdout",
     "output_type": "stream",
     "text": [
      "\u001b[1mDownloading and preparing dataset 256.01 KiB (download: 256.01 KiB, generated: 3.40 MiB, total: 3.65 MiB) to /home/jupyter/tensorflow_datasets/clinc_oos/0.1.0...\u001b[0m\n"
     ]
    },
    {
     "data": {
      "application/vnd.jupyter.widget-view+json": {
       "model_id": "6415b35f322545cab99a9d0551e70cd2",
       "version_major": 2,
       "version_minor": 0
      },
      "text/plain": [
       "Dl Completed...: 0 url [00:00, ? url/s]"
      ]
     },
     "metadata": {},
     "output_type": "display_data"
    },
    {
     "data": {
      "application/vnd.jupyter.widget-view+json": {
       "model_id": "c790d1c511174252a7d2858524117168",
       "version_major": 2,
       "version_minor": 0
      },
      "text/plain": [
       "Dl Size...: 0 MiB [00:00, ? MiB/s]"
      ]
     },
     "metadata": {},
     "output_type": "display_data"
    },
    {
     "data": {
      "application/vnd.jupyter.widget-view+json": {
       "model_id": "2f133482d972427181c00d8e30d3c0c7",
       "version_major": 2,
       "version_minor": 0
      },
      "text/plain": [
       "Extraction completed...: 0 file [00:00, ? file/s]"
      ]
     },
     "metadata": {},
     "output_type": "display_data"
    },
    {
     "data": {
      "application/vnd.jupyter.widget-view+json": {
       "model_id": "",
       "version_major": 2,
       "version_minor": 0
      },
      "text/plain": [
       "Generating splits...:   0%|          | 0/6 [00:00<?, ? splits/s]"
      ]
     },
     "metadata": {},
     "output_type": "display_data"
    },
    {
     "data": {
      "application/vnd.jupyter.widget-view+json": {
       "model_id": "",
       "version_major": 2,
       "version_minor": 0
      },
      "text/plain": [
       "Generating train examples...:   0%|          | 0/15000 [00:00<?, ? examples/s]"
      ]
     },
     "metadata": {},
     "output_type": "display_data"
    },
    {
     "data": {
      "application/vnd.jupyter.widget-view+json": {
       "model_id": "",
       "version_major": 2,
       "version_minor": 0
      },
      "text/plain": [
       "Shuffling clinc_oos-train.tfrecord...:   0%|          | 0/15000 [00:00<?, ? examples/s]"
      ]
     },
     "metadata": {},
     "output_type": "display_data"
    },
    {
     "data": {
      "application/vnd.jupyter.widget-view+json": {
       "model_id": "",
       "version_major": 2,
       "version_minor": 0
      },
      "text/plain": [
       "Generating test examples...:   0%|          | 0/4500 [00:00<?, ? examples/s]"
      ]
     },
     "metadata": {},
     "output_type": "display_data"
    },
    {
     "data": {
      "application/vnd.jupyter.widget-view+json": {
       "model_id": "",
       "version_major": 2,
       "version_minor": 0
      },
      "text/plain": [
       "Shuffling clinc_oos-test.tfrecord...:   0%|          | 0/4500 [00:00<?, ? examples/s]"
      ]
     },
     "metadata": {},
     "output_type": "display_data"
    },
    {
     "data": {
      "application/vnd.jupyter.widget-view+json": {
       "model_id": "",
       "version_major": 2,
       "version_minor": 0
      },
      "text/plain": [
       "Generating validation examples...:   0%|          | 0/3000 [00:00<?, ? examples/s]"
      ]
     },
     "metadata": {},
     "output_type": "display_data"
    },
    {
     "data": {
      "application/vnd.jupyter.widget-view+json": {
       "model_id": "",
       "version_major": 2,
       "version_minor": 0
      },
      "text/plain": [
       "Shuffling clinc_oos-validation.tfrecord...:   0%|          | 0/3000 [00:00<?, ? examples/s]"
      ]
     },
     "metadata": {},
     "output_type": "display_data"
    },
    {
     "data": {
      "application/vnd.jupyter.widget-view+json": {
       "model_id": "",
       "version_major": 2,
       "version_minor": 0
      },
      "text/plain": [
       "Generating train_oos examples...:   0%|          | 0/100 [00:00<?, ? examples/s]"
      ]
     },
     "metadata": {},
     "output_type": "display_data"
    },
    {
     "data": {
      "application/vnd.jupyter.widget-view+json": {
       "model_id": "",
       "version_major": 2,
       "version_minor": 0
      },
      "text/plain": [
       "Shuffling clinc_oos-train_oos.tfrecord...:   0%|          | 0/100 [00:00<?, ? examples/s]"
      ]
     },
     "metadata": {},
     "output_type": "display_data"
    },
    {
     "data": {
      "application/vnd.jupyter.widget-view+json": {
       "model_id": "",
       "version_major": 2,
       "version_minor": 0
      },
      "text/plain": [
       "Generating test_oos examples...:   0%|          | 0/1000 [00:00<?, ? examples/s]"
      ]
     },
     "metadata": {},
     "output_type": "display_data"
    },
    {
     "data": {
      "application/vnd.jupyter.widget-view+json": {
       "model_id": "",
       "version_major": 2,
       "version_minor": 0
      },
      "text/plain": [
       "Shuffling clinc_oos-test_oos.tfrecord...:   0%|          | 0/1000 [00:00<?, ? examples/s]"
      ]
     },
     "metadata": {},
     "output_type": "display_data"
    },
    {
     "data": {
      "application/vnd.jupyter.widget-view+json": {
       "model_id": "",
       "version_major": 2,
       "version_minor": 0
      },
      "text/plain": [
       "Generating validation_oos examples...:   0%|          | 0/100 [00:00<?, ? examples/s]"
      ]
     },
     "metadata": {},
     "output_type": "display_data"
    },
    {
     "data": {
      "application/vnd.jupyter.widget-view+json": {
       "model_id": "",
       "version_major": 2,
       "version_minor": 0
      },
      "text/plain": [
       "Shuffling clinc_oos-validation_oos.tfrecord...:   0%|          | 0/100 [00:00<?, ? examples/s]"
      ]
     },
     "metadata": {},
     "output_type": "display_data"
    },
    {
     "name": "stdout",
     "output_type": "stream",
     "text": [
      "\u001b[1mDataset clinc_oos downloaded and prepared to /home/jupyter/tensorflow_datasets/clinc_oos/0.1.0. Subsequent calls will reuse this data.\u001b[0m\n"
     ]
    },
    {
     "name": "stderr",
     "output_type": "stream",
     "text": [
      "2022-09-17 00:30:14.297940: I tensorflow/core/platform/cpu_feature_guard.cc:151] This TensorFlow binary is optimized with oneAPI Deep Neural Network Library (oneDNN) to use the following CPU instructions in performance-critical operations:  AVX2 FMA\n",
      "To enable them in other operations, rebuild TensorFlow with the appropriate compiler flags.\n",
      "2022-09-17 00:30:14.327726: I tensorflow/stream_executor/cuda/cuda_gpu_executor.cc:936] successful NUMA node read from SysFS had negative value (-1), but there must be at least one NUMA node, so returning NUMA node zero\n",
      "2022-09-17 00:30:14.331452: I tensorflow/stream_executor/cuda/cuda_gpu_executor.cc:936] successful NUMA node read from SysFS had negative value (-1), but there must be at least one NUMA node, so returning NUMA node zero\n",
      "2022-09-17 00:30:14.334154: I tensorflow/stream_executor/cuda/cuda_gpu_executor.cc:936] successful NUMA node read from SysFS had negative value (-1), but there must be at least one NUMA node, so returning NUMA node zero\n",
      "2022-09-17 00:30:21.796216: I tensorflow/stream_executor/cuda/cuda_gpu_executor.cc:936] successful NUMA node read from SysFS had negative value (-1), but there must be at least one NUMA node, so returning NUMA node zero\n",
      "2022-09-17 00:30:21.798300: I tensorflow/stream_executor/cuda/cuda_gpu_executor.cc:936] successful NUMA node read from SysFS had negative value (-1), but there must be at least one NUMA node, so returning NUMA node zero\n",
      "2022-09-17 00:30:21.799969: I tensorflow/stream_executor/cuda/cuda_gpu_executor.cc:936] successful NUMA node read from SysFS had negative value (-1), but there must be at least one NUMA node, so returning NUMA node zero\n",
      "2022-09-17 00:30:21.819729: I tensorflow/core/common_runtime/gpu/gpu_device.cc:1525] Created device /job:localhost/replica:0/task:0/device:GPU:0 with 13598 MB memory:  -> device: 0, name: Tesla T4, pci bus id: 0000:00:04.0, compute capability: 7.5\n"
     ]
    },
    {
     "name": "stdout",
     "output_type": "stream",
     "text": [
      "WARNING:tensorflow:From /opt/conda/lib/python3.7/site-packages/tensorflow_datasets/core/dataset_builder.py:622: get_single_element (from tensorflow.python.data.experimental.ops.get_single_element) is deprecated and will be removed in a future version.\n",
      "Instructions for updating:\n",
      "Use `tf.data.Dataset.get_single_element()`.\n"
     ]
    },
    {
     "name": "stderr",
     "output_type": "stream",
     "text": [
      "WARNING:tensorflow:From /opt/conda/lib/python3.7/site-packages/tensorflow_datasets/core/dataset_builder.py:622: get_single_element (from tensorflow.python.data.experimental.ops.get_single_element) is deprecated and will be removed in a future version.\n",
      "Instructions for updating:\n",
      "Use `tf.data.Dataset.get_single_element()`.\n"
     ]
    }
   ],
   "source": [
    "(clinc_train, clinc_test, clinc_test_oos), ds_info = tfds.load(\n",
    "    \"clinc_oos\",\n",
    "    split=[\"train\", \"test\", \"test_oos\"],\n",
    "    with_info=True,\n",
    "    batch_size=-1,\n",
    ")"
   ]
  },
  {
   "cell_type": "markdown",
   "metadata": {
    "id": "UJSL2nm8Bo02"
   },
   "source": [
    "Let us now retrieve our train and test sets:"
   ]
  },
  {
   "cell_type": "code",
   "execution_count": 10,
   "metadata": {
    "id": "cgkOOZOq6fQL"
   },
   "outputs": [],
   "source": [
    "train_examples = clinc_train[\"text\"]\n",
    "train_labels = clinc_train[\"intent\"]\n",
    "\n",
    "# Makes the in-domain (IND) evaluation data.\n",
    "ind_eval_data = (clinc_test[\"text\"], clinc_test[\"intent\"])"
   ]
  },
  {
   "cell_type": "markdown",
   "metadata": {},
   "source": [
    "Let look at a query input to our model:"
   ]
  },
  {
   "cell_type": "code",
   "execution_count": null,
   "metadata": {},
   "outputs": [],
   "source": [
    "train_examples[0]"
   ]
  },
  {
   "cell_type": "markdown",
   "metadata": {
    "id": "ZcHwfwfU6qCE"
   },
   "source": [
    "### Training BERT on CLINC dataset"
   ]
  },
  {
   "cell_type": "markdown",
   "metadata": {
    "id": "_VTY6KYc6sBB"
   },
   "source": [
    "First set up the basic training configurations."
   ]
  },
  {
   "cell_type": "code",
   "execution_count": 27,
   "metadata": {
    "id": "_-uUkUtk6qWC"
   },
   "outputs": [],
   "source": [
    "TRAIN_EPOCHS = 3\n",
    "TRAIN_BATCH_SIZE = 32\n",
    "EVAL_BATCH_SIZE = 256"
   ]
  },
  {
   "cell_type": "markdown",
   "metadata": {},
   "source": [
    "To improve training n the case of BERT , we need ito use a more sophisticated optimizer than just `Adam`. In the cell below we implement a function that return a version of the `Adam` optimizer but where the learning rate is scheduled to decay as the training progresses. We will need to first configure a learing reate schedule using one of the scheduled defined in `tf.keras.optimizers.schedules`. This schedule contains the information of the initial learning rate and the final learning rate as long as the number of steps we want to decay the former into the latter. We will set this number simply to be the total number of training steps. \n",
    "\n",
    "Once the schedule is configured, we can pass it to the `AdamWeightDecay` optimizer that we need to use for BERT. It is imported using the statement\n",
    "\n",
    "```python\n",
    "from official.nlp.optimization import AdamWeightDecay\n",
    "```\n",
    "\n",
    "The function below returns a configured instance of this optimizer:"
   ]
  },
  {
   "cell_type": "code",
   "execution_count": 28,
   "metadata": {
    "cellView": "form",
    "id": "tiEjMdFV6wXQ"
   },
   "outputs": [],
   "source": [
    "def create_bert_optimizer(\n",
    "    learning_rate,\n",
    "    batch_size=TRAIN_BATCH_SIZE,\n",
    "    epochs=TRAIN_EPOCHS,\n",
    "    warmup_rate=0.1,\n",
    "):\n",
    "    \"\"\"Creates an AdamWeightDecay optimizer with learning rate schedule.\"\"\"\n",
    "    train_data_size = ds_info.splits[\"train\"].num_examples\n",
    "\n",
    "    steps_per_epoch = int(train_data_size / batch_size)\n",
    "    num_train_steps = steps_per_epoch * epochs\n",
    "\n",
    "    # Creates learning schedule.\n",
    "    lr_schedule = tf.keras.optimizers.schedules.PolynomialDecay(\n",
    "        initial_learning_rate=learning_rate,\n",
    "        decay_steps=num_train_steps,\n",
    "        end_learning_rate=0.0,\n",
    "    )\n",
    "\n",
    "    return AdamWeightDecay(\n",
    "        learning_rate=lr_schedule,\n",
    "        weight_decay_rate=0.01,\n",
    "        epsilon=1e-6,\n",
    "        exclude_from_weight_decay=[\"LayerNorm\", \"layer_norm\", \"bias\"],\n",
    "    )"
   ]
  },
  {
   "cell_type": "code",
   "execution_count": 30,
   "metadata": {
    "id": "KX_Hzl3l6w-H"
   },
   "outputs": [
    {
     "name": "stdout",
     "output_type": "stream",
     "text": [
      "Epoch 1/3\n",
      "469/469 [==============================] - 504s 1s/step - loss: 0.8576 - sparse_categorical_accuracy: 0.8313 - val_loss: 0.2550 - val_sparse_categorical_accuracy: 0.9396\n",
      "Epoch 2/3\n",
      "469/469 [==============================] - 492s 1s/step - loss: 0.0713 - sparse_categorical_accuracy: 0.9830 - val_loss: 0.1934 - val_sparse_categorical_accuracy: 0.9571\n",
      "Epoch 3/3\n",
      "469/469 [==============================] - 492s 1s/step - loss: 0.0191 - sparse_categorical_accuracy: 0.9954 - val_loss: 0.1639 - val_sparse_categorical_accuracy: 0.9651\n"
     ]
    },
    {
     "data": {
      "text/plain": [
       "<keras.callbacks.History at 0x7f9b010254d0>"
      ]
     },
     "execution_count": 30,
     "metadata": {},
     "output_type": "execute_result"
    }
   ],
   "source": [
    "optimizer = create_bert_optimizer(learning_rate=1e-4)\n",
    "loss = tf.keras.losses.SparseCategoricalCrossentropy(from_logits=True)\n",
    "metrics = tf.metrics.SparseCategoricalAccuracy()\n",
    "\n",
    "fit_configs = dict(\n",
    "    batch_size=TRAIN_BATCH_SIZE,\n",
    "    epochs=TRAIN_EPOCHS,\n",
    "    validation_batch_size=EVAL_BATCH_SIZE,\n",
    "    validation_data=ind_eval_data,\n",
    ")\n",
    "\n",
    "bert_model = BertClassifier()\n",
    "bert_model.compile(optimizer=optimizer, loss=loss, metrics=metrics)\n",
    "bert_model.fit(train_examples, train_labels, **fit_configs)"
   ]
  },
  {
   "cell_type": "markdown",
   "metadata": {},
   "source": [
    "### Creating the out-of-distribution dataset\n",
    "\n",
    "The CLINC OOS dataset comes with an additional split \"test_oos\" that contains queries that are out of the scope defined by the original 150 intents in the training and test sets. (We stored that OOS split into the `clinc_test_oos` variable previously.) We want to use this OOS queries to evaluate how good our model is at recognizing when its input deviates significantly from the training distribution. \n",
    "\n",
    "For this, we combine the in-domain test data `clinc_test` and the out-of-domain data `clinc_test_oos` into a single dataset, where we assign label 0 to the in-domain examples, and label 1 to the out-of-domain examples. Then we convert this dataset into a `tf.data.Dataset` using `tf.data.Dataset.from_tensor_slices`:\n"
   ]
  },
  {
   "cell_type": "code",
   "execution_count": 11,
   "metadata": {
    "id": "uVFuzecR64FJ"
   },
   "outputs": [],
   "source": [
    "test_data_size = ds_info.splits[\"test\"].num_examples\n",
    "oos_data_size = ds_info.splits[\"test_oos\"].num_examples\n",
    "\n",
    "# Combines the in-domain and out-of-domain test examples.\n",
    "oos_texts = tf.concat([clinc_test[\"text\"], clinc_test_oos[\"text\"]], axis=0)\n",
    "oos_labels = tf.constant([0] * test_data_size + [1] * oos_data_size)\n",
    "\n",
    "# Converts into a TF dataset.\n",
    "ood_eval_dataset = tf.data.Dataset.from_tensor_slices(\n",
    "    {\"text\": oos_texts, \"label\": oos_labels}\n",
    ")"
   ]
  },
  {
   "cell_type": "markdown",
   "metadata": {
    "id": "cpDsgTYx63tO"
   },
   "source": [
    "### Evaluating OOD performance"
   ]
  },
  {
   "cell_type": "markdown",
   "metadata": {
    "id": "d5NGVe7L67bB"
   },
   "source": [
    "Evaluate how well the model can detect the unfamiliar out-of-domain queries. For rigorous evaluation, use the OOD evaluation dataset `ood_eval_dataset` built earlier."
   ]
  },
  {
   "cell_type": "code",
   "execution_count": 32,
   "metadata": {
    "cellView": "form",
    "id": "yyLgt_lL7APo"
   },
   "outputs": [],
   "source": [
    "def oos_predict(model, ood_eval_dataset, **model_kwargs):\n",
    "    oos_labels = []\n",
    "    oos_probs = []\n",
    "\n",
    "    ood_eval_dataset = ood_eval_dataset.batch(EVAL_BATCH_SIZE)\n",
    "    for oos_batch in ood_eval_dataset:\n",
    "        oos_text_batch = oos_batch[\"text\"]\n",
    "        oos_label_batch = oos_batch[\"label\"]\n",
    "\n",
    "        pred_logits = model(oos_text_batch, **model_kwargs)\n",
    "        pred_probs_all = tf.nn.softmax(pred_logits, axis=-1)\n",
    "        pred_probs = tf.reduce_max(pred_probs_all, axis=-1)\n",
    "\n",
    "        oos_labels.append(oos_label_batch)\n",
    "        oos_probs.append(pred_probs)\n",
    "\n",
    "    oos_probs = tf.concat(oos_probs, axis=0)\n",
    "    oos_labels = tf.concat(oos_labels, axis=0)\n",
    "\n",
    "    return oos_probs, oos_labels"
   ]
  },
  {
   "cell_type": "markdown",
   "metadata": {
    "id": "Dmc2tVXs6_uo"
   },
   "source": [
    "Computes the OOD probabilities as $1 - p(x)$, where $p(x)=\\textrm{softmax}(\\textrm{logit}(x))$ is the predictive probability."
   ]
  },
  {
   "cell_type": "code",
   "execution_count": 33,
   "metadata": {
    "id": "_9aFVVDO7C7o"
   },
   "outputs": [],
   "source": [
    "bert_probs, ood_labels = oos_predict(bert_model, ood_eval_dataset)"
   ]
  },
  {
   "cell_type": "code",
   "execution_count": 36,
   "metadata": {
    "id": "_PC0wwZp7GJD"
   },
   "outputs": [],
   "source": [
    "bert_ood_probs = 1 - bert_probs"
   ]
  },
  {
   "cell_type": "markdown",
   "metadata": {
    "id": "AsandMTX7HjX"
   },
   "source": [
    "Now evaluate how well the model's uncertainty score `ood_probs` predicts the out-of-domain label. First compute the Area under precision-recall curve (AUPRC) for OOD probability v.s. OOD detection accuracy."
   ]
  },
  {
   "cell_type": "code",
   "execution_count": 37,
   "metadata": {
    "id": "0u5Wx8AP7Mdx"
   },
   "outputs": [],
   "source": [
    "precision, recall, _ = sklearn.metrics.precision_recall_curve(\n",
    "    ood_labels, bert_ood_probs\n",
    ")"
   ]
  },
  {
   "cell_type": "code",
   "execution_count": 38,
   "metadata": {
    "id": "axcctOsh7N5A"
   },
   "outputs": [
    {
     "name": "stdout",
     "output_type": "stream",
     "text": [
      "SNGP AUPRC: 0.8684\n"
     ]
    }
   ],
   "source": [
    "auprc = sklearn.metrics.auc(recall, precision)\n",
    "print(f\"SNGP AUPRC: {auprc:.4f}\")"
   ]
  },
  {
   "cell_type": "markdown",
   "metadata": {
    "id": "U_GEqxq-7Q1Y"
   },
   "source": [
    "This matches the SNGP performance reported at the CLINC OOS benchmark under the [Uncertainty Baselines](https://github.com/google/uncertainty-baselines)."
   ]
  },
  {
   "cell_type": "markdown",
   "metadata": {
    "id": "8H4vYcyd7Ux2"
   },
   "source": [
    "Next, examine the model's quality in [uncertainty calibration](https://scikit-learn.org/stable/modules/calibration.html), i.e., whether the model's predictive probability corresponds to its predictive accuracy. A well-calibrated model is considered trust-worthy, since, for example, its predictive probability $p(x)=0.8$ means that the model is correct 80% of the time."
   ]
  },
  {
   "cell_type": "code",
   "execution_count": 39,
   "metadata": {
    "id": "x5GxrSWJ7SYn"
   },
   "outputs": [],
   "source": [
    "prob_true, prob_pred = sklearn.calibration.calibration_curve(\n",
    "    ood_labels, bert_ood_probs, n_bins=10, strategy=\"quantile\"\n",
    ")"
   ]
  },
  {
   "cell_type": "code",
   "execution_count": 40,
   "metadata": {
    "id": "ozzJM-D-7XVq"
   },
   "outputs": [
    {
     "data": {
      "image/png": "[encoded data removed]",
      "text/plain": [
       "<Figure size 432x288 with 1 Axes>"
      ]
     },
     "metadata": {
      "needs_background": "light"
     },
     "output_type": "display_data"
    }
   ],
   "source": [
    "plt.plot(prob_pred, prob_true)\n",
    "\n",
    "plt.plot([0.0, 1.0], [0.0, 1.0], c=\"k\", linestyle=\"--\")\n",
    "plt.xlabel(\"Predictive Probability\")\n",
    "plt.ylabel(\"Predictive Accuracy\")\n",
    "plt.title(\"Calibration Plots, SNGP\")\n",
    "\n",
    "plt.show()"
   ]
  },
  {
   "cell_type": "markdown",
   "metadata": {
    "id": "p7YakN0V6Oif",
    "tags": []
   },
   "source": [
    "### Build SNGP model\n",
    "\n",
    "To implement a BERT-SNGP model, you only need to replace the `ClassificationHead` with the built-in [`GaussianProcessClassificationHead`](https://github.com/tensorflow/models/blob/master/official/nlp/modeling/layers/cls_head.py). Spectral normalization is already pre-packaged into this classification head. Like in the [SNGP tutorial](https://www.tensorflow.org/tutorials/uncertainty/sngp), add a covariance reset callback to the model, so the model automatically reset the covariance estimator at the begining of a new epoch to avoid counting the same data twice.\n",
    "\n"
   ]
  },
  {
   "cell_type": "code",
   "execution_count": 69,
   "metadata": {},
   "outputs": [],
   "source": [
    "class ResetCovarianceCallback(tf.keras.callbacks.Callback):\n",
    "    def on_epoch_begin(self, epoch, logs=None):\n",
    "        \"\"\"Resets covariance matrix at the begining of the epoch.\"\"\"\n",
    "        if epoch > 0:\n",
    "            self.model.classifier.reset_covariance_matrix()"
   ]
  },
  {
   "cell_type": "code",
   "execution_count": 70,
   "metadata": {},
   "outputs": [],
   "source": [
    "class SNGPBertClassifier(BertClassifier):\n",
    "    def make_classification_head(self, num_classes, inner_dim, dropout_rate):\n",
    "        return layers.GaussianProcessClassificationHead(\n",
    "            num_classes=num_classes,\n",
    "            inner_dim=inner_dim,\n",
    "            dropout_rate=dropout_rate,\n",
    "            gp_cov_momentum=-1,\n",
    "            temperature=30.0,\n",
    "            **self.classifier_kwargs,\n",
    "        )\n",
    "\n",
    "    def fit(self, *args, **kwargs):\n",
    "        \"\"\"Adds ResetCovarianceCallback to model callbacks.\"\"\"\n",
    "        kwargs[\"callbacks\"] = list(kwargs.get(\"callbacks\", []))\n",
    "        kwargs[\"callbacks\"].append(ResetCovarianceCallback())\n",
    "\n",
    "        return super().fit(*args, **kwargs)"
   ]
  },
  {
   "cell_type": "markdown",
   "metadata": {},
   "source": [
    "**Note:** The `GaussianProcessClassificationHead` takes a new argument `temperature`. It corresponds to the $\\lambda$ parameter in the __mean-field approximation__ introduced in the [SNGP lab](https://github.com/GoogleCloudPlatform/asl-ml-immersion/blob/master/notebooks/uncertainty_aware_models/solutions/uncertainty_awareness_in_deep_learning.ipynb). In practice, this value is usually treated as a hyperparameter, and is finetuned to optimize the model's calibration performance."
   ]
  },
  {
   "cell_type": "code",
   "execution_count": 71,
   "metadata": {},
   "outputs": [
    {
     "name": "stdout",
     "output_type": "stream",
     "text": [
      "Epoch 1/3\n",
      "469/469 [==============================] - 509s 1s/step - loss: 1.0535 - sparse_categorical_accuracy: 0.7902 - val_loss: 0.3708 - val_sparse_categorical_accuracy: 0.9424\n",
      "Epoch 2/3\n",
      "469/469 [==============================] - 495s 1s/step - loss: 0.0932 - sparse_categorical_accuracy: 0.9783 - val_loss: 0.2137 - val_sparse_categorical_accuracy: 0.9602\n",
      "Epoch 3/3\n",
      "469/469 [==============================] - 494s 1s/step - loss: 0.0230 - sparse_categorical_accuracy: 0.9953 - val_loss: 0.1835 - val_sparse_categorical_accuracy: 0.9658\n"
     ]
    },
    {
     "data": {
      "text/plain": [
       "<keras.callbacks.History at 0x7f9b15cda590>"
      ]
     },
     "execution_count": 71,
     "metadata": {},
     "output_type": "execute_result"
    }
   ],
   "source": [
    "optimizer = create_bert_optimizer(learning_rate=1e-4)\n",
    "loss = tf.keras.losses.SparseCategoricalCrossentropy(from_logits=True)\n",
    "metrics = tf.metrics.SparseCategoricalAccuracy()\n",
    "\n",
    "fit_configs = dict(\n",
    "    batch_size=TRAIN_BATCH_SIZE,\n",
    "    epochs=TRAIN_EPOCHS,\n",
    "    validation_batch_size=EVAL_BATCH_SIZE,\n",
    "    validation_data=ind_eval_data,\n",
    ")\n",
    "\n",
    "sngp_model = SNGPBertClassifier()\n",
    "sngp_model.compile(optimizer=optimizer, loss=loss, metrics=metrics)\n",
    "sngp_model.fit(train_examples, train_labels, **fit_configs)"
   ]
  },
  {
   "cell_type": "code",
   "execution_count": 77,
   "metadata": {},
   "outputs": [],
   "source": [
    "sngp_probs, ood_labels = oos_predict(sngp_model, ood_eval_dataset)"
   ]
  },
  {
   "cell_type": "code",
   "execution_count": 81,
   "metadata": {},
   "outputs": [],
   "source": [
    "sngp_ood_probs = 1 - sngp_probs"
   ]
  },
  {
   "cell_type": "code",
   "execution_count": 82,
   "metadata": {},
   "outputs": [],
   "source": [
    "sngp_precision, sngp_recall, _ = sklearn.metrics.precision_recall_curve(\n",
    "    ood_labels, sngp_ood_probs\n",
    ")"
   ]
  },
  {
   "cell_type": "code",
   "execution_count": 83,
   "metadata": {
    "id": "axcctOsh7N5A"
   },
   "outputs": [
    {
     "name": "stdout",
     "output_type": "stream",
     "text": [
      "SNGP AUPRC: 0.8896\n"
     ]
    }
   ],
   "source": [
    "auprc = sklearn.metrics.auc(sngp_recall, sngp_precision)\n",
    "print(f\"SNGP AUPRC: {auprc:.4f}\")"
   ]
  },
  {
   "cell_type": "code",
   "execution_count": 84,
   "metadata": {},
   "outputs": [],
   "source": [
    "sngp_prob_true, sngp_prob_pred = sklearn.calibration.calibration_curve(\n",
    "    ood_labels, sngp_ood_probs, n_bins=10, strategy=\"quantile\"\n",
    ")"
   ]
  },
  {
   "cell_type": "code",
   "execution_count": 85,
   "metadata": {},
   "outputs": [
    {
     "data": {
      "image/png": "[encoded data removed]",
      "text/plain": [
       "<Figure size 432x288 with 1 Axes>"
      ]
     },
     "metadata": {
      "needs_background": "light"
     },
     "output_type": "display_data"
    }
   ],
   "source": [
    "plt.plot(sngp_prob_pred, sngp_prob_true)\n",
    "\n",
    "plt.plot([0.0, 1.0], [0.0, 1.0], c=\"k\", linestyle=\"--\")\n",
    "plt.xlabel(\"Predictive Probability\")\n",
    "plt.ylabel(\"Predictive Accuracy\")\n",
    "plt.title(\"Calibration Plots, SNGP\")\n",
    "\n",
    "plt.show()"
   ]
  },
  {
   "cell_type": "markdown",
   "metadata": {
    "id": "36M6HeHx7ZI4"
   },
   "source": [
    "## Resources and further reading"
   ]
  },
  {
   "cell_type": "markdown",
   "metadata": {
    "id": "xdFTpyaP0A-N"
   },
   "source": [
    "* See the [SNGP tutorial](https://www.tensorflow.org/tutorials/understanding/sngp) for an detailed walkthrough of implementing SNGP from scratch. \n",
    "* See [Uncertainty Baselines](https://github.com/google/uncertainty-baselines)  for the implementation of SNGP model (and many other uncertainty methods) on a wide variety of benchmark datasets (e.g., [CIFAR](https://www.tensorflow.org/datasets/catalog/cifar100), [ImageNet](https://www.tensorflow.org/datasets/catalog/imagenet2012), [Jigsaw toxicity detection](https://www.tensorflow.org/datasets/catalog/wikipedia_toxicity_subtypes), etc).\n",
    "* For a deeper understanding of the SNGP method, check out the paper [Simple and Principled Uncertainty Estimation with Deterministic Deep Learning via Distance Awareness](https://arxiv.org/abs/2006.10108).\n"
   ]
  },
  {
   "cell_type": "markdown",
   "metadata": {},
   "source": [
    "Copyright 2022 Google LLC\n",
    "\n",
    "Licensed under the Apache License, Version 2.0 (the \"License\");\n",
    "you may not use this file except in compliance with the License.\n",
    "You may obtain a copy of the License at\n",
    "\n",
    "    https://www.apache.org/licenses/LICENSE-2.0\n",
    "\n",
    "Unless required by applicable law or agreed to in writing, software\n",
    "distributed under the License is distributed on an \"AS IS\" BASIS,\n",
    "WITHOUT WARRANTIES OR CONDITIONS OF ANY KIND, either express or implied.\n",
    "See the License for the specific language governing permissions and\n",
    "limitations under the License."
   ]
  }
 ],
 "metadata": {
  "accelerator": "GPU",
  "colab": {
   "collapsed_sections": [],
   "name": "uncertainty_quantification_with_sngp_bert.ipynb",
   "private_outputs": true,
   "provenance": [
    {
     "file_id": "1rpzuIuHNW4nnnj5mi1NhV9gjmiRy_QWB",
     "timestamp": 1622128463249
    },
    {
     "file_id": "/piper/depot/google3/third_party/tensorflow_text/g3doc/tutorials/uncertainty_quantification_with_sngp_bert.ipynb?workspaceId=markdaoust:no-nightly::citc",
     "timestamp": 1622127860630
    }
   ],
   "toc_visible": true
  },
  "environment": {
   "kernel": "python3",
   "name": "tf2-gpu.2-8.m95",
   "type": "gcloud",
   "uri": "gcr.io/deeplearning-platform-release/tf2-gpu.2-8:m95"
  },
  "kernelspec": {
   "display_name": "Python 3",
   "language": "python",
   "name": "python3"
  },
  "language_info": {
   "codemirror_mode": {
    "name": "ipython",
    "version": 3
   },
   "file_extension": ".py",
   "mimetype": "text/x-python",
   "name": "python",
   "nbconvert_exporter": "python",
   "pygments_lexer": "ipython3",
   "version": "3.7.12"
  }
 },
 "nbformat": 4,
 "nbformat_minor": 4
}
